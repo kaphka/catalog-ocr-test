{
 "metadata": {
  "name": "",
  "signature": "sha256:6772d8a2bf982d712feacd00caafec651b27c84eeb1d9fbb0f7c1e2ea7656a09"
 },
 "nbformat": 3,
 "nbformat_minor": 0,
 "worksheets": [
  {
   "cells": [
    {
     "cell_type": "code",
     "collapsed": false,
     "input": [
      "from os.path import isfile, join, splitext, isdir,split\n",
      "from os import listdir, makedirs\n",
      "from glob import glob\n",
      "\n",
      "# Specific function for name formated like this:\n",
      "# catalog/catalogPart/fileFormat/fileName.fileFormat\n",
      "def simplifyPath(path, fileEnding =None):\n",
      "    directory, filename = split(path)\n",
      "    catalogPath, fileFormat = split(directory)\n",
      "    catalogName, catalogPart = split(catalogPath) \n",
      "    root, catalogName = split(catalogName) \n",
      "    newPath = join( catalogName,catalogPart + filename)\n",
      "    if fileEnding:\n",
      "        newPath = splitext(newPath)[0] + fileEnding\n",
      "    return newPath\n",
      "simplifyPath('../SD/SD001/TIF/00000474.tif','.png')\n",
      "\n",
      "import subprocess\n",
      "def crop(inpath, outpath, right, bottom):\n",
      "    cropargs = '-{}-{}'.format(right,bottom)\n",
      "    p = ['convert', inpath, '-crop', cropargs, outpath]\n",
      "#     print ' '.join(p)\n",
      "    subprocess.check_output(p)\n",
      "\n",
      "class Corpus():\n",
      "    def __init__(self, path):\n",
      "        self.path = path\n",
      "    \n",
      "    def fileName(self,path,ending):\n",
      "        return splitext(split(path)[1])[0] + ending\n",
      "        \n",
      "    def files(self):\n",
      "        return glob(self.path)\n",
      "    def target(self,other, fileEnding = None, simplify = None):\n",
      "        if not simplify:\n",
      "            simplify = self.fileName\n",
      "        return [(f,\n",
      "                 join(other,simplify(f,fileEnding)))\n",
      "                for f in glob(self.path) \n",
      "                if isfile(f)]\n",
      "    def newFileName(self, f, fileEnding = None):\n",
      "        if not fileEnding:\n",
      "            return f\n",
      "        else:\n",
      "            return splitext(f)[0] + fileEnding\n",
      "\n",
      "jpegs = Corpus('../SD/SD???/TIF/????????.tif')\n",
      "print len(jpegs.target('../catalog-buffer/', '.png',simplifyPath))\n",
      "for fin, out in jpegs.target('../catalog-buffer/', '.png',simplifyPath)[0:5]:\n",
      "    print fin, out"
     ],
     "language": "python",
     "metadata": {},
     "outputs": [
      {
       "output_type": "stream",
       "stream": "stdout",
       "text": [
        "10214\n",
        "../SD/SD012/TIF/00000124.tif"
       ]
      },
      {
       "output_type": "stream",
       "stream": "stdout",
       "text": [
        " ../catalog-buffer/SD/SD01200000124.png\n",
        "../SD/SD012/TIF/00000200.tif ../catalog-buffer/SD/SD01200000200.png\n",
        "../SD/SD012/TIF/00000197.tif ../catalog-buffer/SD/SD01200000197.png\n",
        "../SD/SD012/TIF/00000444.tif ../catalog-buffer/SD/SD01200000444.png\n",
        "../SD/SD012/TIF/00000325.tif ../catalog-buffer/SD/SD01200000325.png\n"
       ]
      }
     ],
     "prompt_number": 2
    },
    {
     "cell_type": "code",
     "collapsed": false,
     "input": [
      "from os import path\n",
      "filename = path.splitext('./catalog-buffer/SD/SD001/00000275.jpg')[0]\n",
      "print filename"
     ],
     "language": "python",
     "metadata": {},
     "outputs": [
      {
       "output_type": "stream",
       "stream": "stdout",
       "text": [
        "./catalog-buffer/SD/SD001/00000275\n"
       ]
      }
     ],
     "prompt_number": 5
    },
    {
     "cell_type": "markdown",
     "metadata": {},
     "source": [
      "Viele OCR-Programme erwarten eine flache Datenstruktur.\n",
      "Z.B. buch1/seite1.png/segmente.png"
     ]
    },
    {
     "cell_type": "code",
     "collapsed": false,
     "input": [
      "join('../path/', 'file', '.xt')"
     ],
     "language": "python",
     "metadata": {},
     "outputs": [
      {
       "metadata": {},
       "output_type": "pyout",
       "prompt_number": 6,
       "text": [
        "'../path/file/.xt'"
       ]
      }
     ],
     "prompt_number": 6
    },
    {
     "cell_type": "code",
     "collapsed": false,
     "input": [
      "print 'Estimated time: ', len(jpegs.files()) * 150 / 1000.0 / 60, 'm'"
     ],
     "language": "python",
     "metadata": {},
     "outputs": [
      {
       "output_type": "stream",
       "stream": "stdout",
       "text": [
        "Estimated time:  25.535 m\n"
       ]
      }
     ],
     "prompt_number": 8
    },
    {
     "cell_type": "code",
     "collapsed": false,
     "input": [
      "{'url': p for p in  glob('../catalog-testset/SD/SD???????????.png')}"
     ],
     "language": "python",
     "metadata": {},
     "outputs": [
      {
       "metadata": {},
       "output_type": "pyout",
       "prompt_number": 9,
       "text": [
        "{'url': '../catalog-testset/SD/SD00200000172.png'}"
       ]
      }
     ],
     "prompt_number": 9
    },
    {
     "cell_type": "code",
     "collapsed": false,
     "input": [
      "# Crop bottom 70px and save as png\n",
      "!convert  ../SD/SD001/TIF/00000003.tif -crop -0-70 ../catalog-buffer/SD/SD001/00000003.png"
     ],
     "language": "python",
     "metadata": {},
     "outputs": [
      {
       "output_type": "stream",
       "stream": "stdout",
       "text": [
        "convert: Unknown field with tag 32932 (0x80a4) encountered. `TIFFReadDirectory' @ warning/tiff.c/TIFFWarnings/861.\r\n"
       ]
      }
     ],
     "prompt_number": 93
    },
    {
     "cell_type": "markdown",
     "metadata": {},
     "source": [
      "# Katalog konvertieren\n",
      "Konvertierung ins PNG-Format und den unteren Footer abschneiden"
     ]
    },
    {
     "cell_type": "code",
     "collapsed": false,
     "input": [
      "\n",
      "tifs = Corpus('../SD/SD???/TIF/????????.tif')\n",
      "tasks = tifs.target('../catalog-testset/', '.png',simplifyPath)\n",
      "corpus_selection = tasks[:2000:5]\n",
      "print \"Converting \", len(corpus_selection), \" images\" \n",
      "for idx, task in enumerate(corpus_selection):\n",
      "    fin, out = task\n",
      "    if not isdir(split(out)[0]):\n",
      "        print 'mkdir', split(out)[0]\n",
      "        makedirs(split(out)[0])\n",
      "    if isfile(out):\n",
      "        continue\n",
      "    crop(fin, out, 0, 70)\n",
      "    if idx % 100 == 0:\n",
      "        print idx, '/', len(corpus_selection)"
     ],
     "language": "python",
     "metadata": {},
     "outputs": [
      {
       "output_type": "stream",
       "stream": "stdout",
       "text": [
        " Converting  400  images\n",
        "100"
       ]
      },
      {
       "output_type": "stream",
       "stream": "stdout",
       "text": [
        " / 400\n",
        "200"
       ]
      },
      {
       "output_type": "stream",
       "stream": "stdout",
       "text": [
        " / 400\n",
        "300"
       ]
      },
      {
       "output_type": "stream",
       "stream": "stdout",
       "text": [
        " / 400\n"
       ]
      }
     ],
     "prompt_number": 11
    },
    {
     "cell_type": "markdown",
     "metadata": {},
     "source": [
      "# Binarisieren, Segmentieren, Erkennen"
     ]
    },
    {
     "cell_type": "code",
     "collapsed": false,
     "input": [
      "!ocropus-nlbin '../catalog-buffer/SD/SD???????????.png'\n",
      "!ocropus-gpageseg '../catalog-buffer/SD/SD???????????.bin.png'"
     ],
     "language": "python",
     "metadata": {},
     "outputs": [
      {
       "output_type": "stream",
       "stream": "stdout",
       "text": [
        "INFO:  #../catalog-buffer/SD/SD002/00000124.png\r\n",
        "INFO:  === ../catalog-buffer/SD/SD002/00000124.png 1\r\n"
       ]
      },
      {
       "output_type": "stream",
       "stream": "stdout",
       "text": [
        "INFO:  flattening\r\n"
       ]
      },
      {
       "output_type": "stream",
       "stream": "stdout",
       "text": [
        "INFO:  estimating skew angle\r\n"
       ]
      },
      {
       "output_type": "stream",
       "stream": "stdout",
       "text": [
        "INFO:  estimating thresholds\r\n"
       ]
      },
      {
       "output_type": "stream",
       "stream": "stdout",
       "text": [
        "INFO:  rescaling\r\n",
        "INFO:  ../catalog-buffer/SD/SD002/00000124.png lo-hi (0.49 1.13) angle  0.2\r\n",
        "INFO:  writing\r\n"
       ]
      },
      {
       "output_type": "stream",
       "stream": "stdout",
       "text": [
        "INFO:  #../catalog-buffer/SD/SD002/00000200.png\r\n",
        "INFO:  === ../catalog-buffer/SD/SD002/00000200.png 2\r\n"
       ]
      },
      {
       "output_type": "stream",
       "stream": "stdout",
       "text": [
        "INFO:  flattening\r\n"
       ]
      },
      {
       "output_type": "stream",
       "stream": "stdout",
       "text": [
        "INFO:  estimating skew angle\r\n"
       ]
      },
      {
       "output_type": "stream",
       "stream": "stdout",
       "text": [
        "INFO:  estimating thresholds\r\n"
       ]
      },
      {
       "output_type": "stream",
       "stream": "stdout",
       "text": [
        "INFO:  rescaling\r\n",
        "INFO:  ../catalog-buffer/SD/SD002/00000200.png lo-hi (0.42 1.11) angle  0.2\r\n",
        "INFO:  writing\r\n"
       ]
      },
      {
       "output_type": "stream",
       "stream": "stdout",
       "text": [
        "INFO:  #../catalog-buffer/SD/SD002/00000474.png\r\n",
        "INFO:  === ../catalog-buffer/SD/SD002/00000474.png 3\r\n"
       ]
      },
      {
       "output_type": "stream",
       "stream": "stdout",
       "text": [
        "INFO:  flattening\r\n"
       ]
      },
      {
       "output_type": "stream",
       "stream": "stdout",
       "text": [
        "INFO:  estimating skew angle\r\n"
       ]
      },
      {
       "output_type": "stream",
       "stream": "stdout",
       "text": [
        "INFO:  estimating thresholds\r\n"
       ]
      },
      {
       "output_type": "stream",
       "stream": "stdout",
       "text": [
        "INFO:  rescaling\r\n",
        "INFO:  ../catalog-buffer/SD/SD002/00000474.png lo-hi (0.42 1.12) angle -0.4\r\n",
        "INFO:  writing\r\n"
       ]
      },
      {
       "output_type": "stream",
       "stream": "stdout",
       "text": [
        "INFO:  #../catalog-buffer/SD/SD002/00000592.png\r\n",
        "INFO:  === ../catalog-buffer/SD/SD002/00000592.png 4\r\n"
       ]
      },
      {
       "output_type": "stream",
       "stream": "stdout",
       "text": [
        "INFO:  flattening\r\n"
       ]
      },
      {
       "output_type": "stream",
       "stream": "stdout",
       "text": [
        "INFO:  estimating skew angle\r\n"
       ]
      },
      {
       "output_type": "stream",
       "stream": "stdout",
       "text": [
        "INFO:  estimating thresholds\r\n"
       ]
      },
      {
       "output_type": "stream",
       "stream": "stdout",
       "text": [
        "INFO:  rescaling\r\n",
        "INFO:  ../catalog-buffer/SD/SD002/00000592.png lo-hi (0.35 1.12) angle  0.2\r\n",
        "INFO:  writing\r\n"
       ]
      },
      {
       "output_type": "stream",
       "stream": "stdout",
       "text": [
        "INFO:  #../catalog-buffer/SD/SD002/00000762.png\r\n",
        "INFO:  === ../catalog-buffer/SD/SD002/00000762.png 5\r\n"
       ]
      },
      {
       "output_type": "stream",
       "stream": "stdout",
       "text": [
        "INFO:  flattening\r\n"
       ]
      },
      {
       "output_type": "stream",
       "stream": "stdout",
       "text": [
        "INFO:  estimating skew angle\r\n"
       ]
      },
      {
       "output_type": "stream",
       "stream": "stdout",
       "text": [
        "INFO:  estimating thresholds\r\n"
       ]
      },
      {
       "output_type": "stream",
       "stream": "stdout",
       "text": [
        "INFO:  rescaling\r\n",
        "INFO:  ../catalog-buffer/SD/SD002/00000762.png lo-hi (0.35 1.00) angle  0.0\r\n",
        "INFO:  writing\r\n"
       ]
      },
      {
       "output_type": "stream",
       "stream": "stdout",
       "text": [
        "INFO:  \r\n",
        "INFO:  ########## /home/jakob/anaconda/bin/ocropus-gpageseg ../catalog-buffer/\r\n",
        "INFO:  \r\n",
        "INFO:  ../catalog-buffer/SD/SD002/00000124.bin.png\r\n"
       ]
      },
      {
       "output_type": "stream",
       "stream": "stdout",
       "text": [
        "INFO:  scale 14.1421356237\r\n",
        "INFO:  computing segmentation\r\n",
        "INFO:  computing column separators\r\n"
       ]
      },
      {
       "output_type": "stream",
       "stream": "stdout",
       "text": [
        "INFO:  computing lines\r\n"
       ]
      },
      {
       "output_type": "stream",
       "stream": "stdout",
       "text": [
        "INFO:  propagating labels\r\n"
       ]
      },
      {
       "output_type": "stream",
       "stream": "stdout",
       "text": [
        "INFO:  spreading labels\r\n"
       ]
      },
      {
       "output_type": "stream",
       "stream": "stdout",
       "text": [
        "INFO:  number of lines21\r\n",
        "INFO:  finding reading order\r\n"
       ]
      },
      {
       "output_type": "stream",
       "stream": "stdout",
       "text": [
        "INFO:  writing lines\r\n"
       ]
      },
      {
       "output_type": "stream",
       "stream": "stdout",
       "text": [
        "INFO:      12 ../catalog-buffer/SD/SD002/00000124.bin.png 14.1  13\r\n",
        "INFO:  ../catalog-buffer/SD/SD002/00000200.bin.png\r\n"
       ]
      },
      {
       "output_type": "stream",
       "stream": "stdout",
       "text": [
        "INFO:  scale 14.9666295471\r\n",
        "INFO:  computing segmentation\r\n"
       ]
      },
      {
       "output_type": "stream",
       "stream": "stdout",
       "text": [
        "INFO:  computing column separators\r\n"
       ]
      },
      {
       "output_type": "stream",
       "stream": "stdout",
       "text": [
        "INFO:  computing lines\r\n"
       ]
      },
      {
       "output_type": "stream",
       "stream": "stdout",
       "text": [
        "INFO:  propagating labels\r\n"
       ]
      },
      {
       "output_type": "stream",
       "stream": "stdout",
       "text": [
        "INFO:  spreading labels\r\n"
       ]
      },
      {
       "output_type": "stream",
       "stream": "stdout",
       "text": [
        "INFO:  number of lines19\r\n",
        "INFO:  finding reading order\r\n",
        "INFO:  writing lines\r\n"
       ]
      },
      {
       "output_type": "stream",
       "stream": "stdout",
       "text": [
        "INFO:      11 ../catalog-buffer/SD/SD002/00000200.bin.png 15.0  12\r\n",
        "INFO:  ../catalog-buffer/SD/SD002/00000474.bin.png\r\n"
       ]
      },
      {
       "output_type": "stream",
       "stream": "stdout",
       "text": [
        "INFO:  scale 14.4568322948\r\n",
        "INFO:  computing segmentation\r\n",
        "INFO:  computing column separators\r\n"
       ]
      },
      {
       "output_type": "stream",
       "stream": "stdout",
       "text": [
        "INFO:  computing lines\r\n"
       ]
      },
      {
       "output_type": "stream",
       "stream": "stdout",
       "text": [
        "INFO:  propagating labels\r\n"
       ]
      },
      {
       "output_type": "stream",
       "stream": "stdout",
       "text": [
        "INFO:  spreading labels\r\n"
       ]
      },
      {
       "output_type": "stream",
       "stream": "stdout",
       "text": [
        "INFO:  number of lines20\r\n",
        "INFO:  finding reading order\r\n",
        "INFO:  writing lines\r\n"
       ]
      },
      {
       "output_type": "stream",
       "stream": "stdout",
       "text": [
        "INFO:      11 ../catalog-buffer/SD/SD002/00000474.bin.png 14.5  12\r\n",
        "INFO:  ../catalog-buffer/SD/SD002/00000592.bin.png\r\n"
       ]
      },
      {
       "output_type": "stream",
       "stream": "stdout",
       "text": [
        "INFO:  scale 15.8745078664\r\n",
        "INFO:  computing segmentation\r\n"
       ]
      },
      {
       "output_type": "stream",
       "stream": "stdout",
       "text": [
        "INFO:  computing column separators\r\n"
       ]
      },
      {
       "output_type": "stream",
       "stream": "stdout",
       "text": [
        "INFO:  computing lines\r\n"
       ]
      },
      {
       "output_type": "stream",
       "stream": "stdout",
       "text": [
        "INFO:  propagating labels\r\n"
       ]
      },
      {
       "output_type": "stream",
       "stream": "stdout",
       "text": [
        "INFO:  spreading labels\r\n"
       ]
      },
      {
       "output_type": "stream",
       "stream": "stdout",
       "text": [
        "INFO:  number of lines22\r\n",
        "INFO:  finding reading order\r\n",
        "INFO:  writing lines\r\n"
       ]
      },
      {
       "output_type": "stream",
       "stream": "stdout",
       "text": [
        "INFO:      11 ../catalog-buffer/SD/SD002/00000592.bin.png 15.9  12\r\n",
        "INFO:  ../catalog-buffer/SD/SD002/00000762.bin.png\r\n"
       ]
      },
      {
       "output_type": "stream",
       "stream": "stdout",
       "text": [
        "INFO:  scale 15.4272486205\r\n",
        "INFO:  computing segmentation\r\n"
       ]
      },
      {
       "output_type": "stream",
       "stream": "stdout",
       "text": [
        "INFO:  computing column separators\r\n"
       ]
      },
      {
       "output_type": "stream",
       "stream": "stdout",
       "text": [
        "INFO:  computing lines\r\n"
       ]
      },
      {
       "output_type": "stream",
       "stream": "stdout",
       "text": [
        "INFO:  propagating labels\r\n"
       ]
      },
      {
       "output_type": "stream",
       "stream": "stdout",
       "text": [
        "INFO:  spreading labels\r\n"
       ]
      },
      {
       "output_type": "stream",
       "stream": "stdout",
       "text": [
        "INFO:  number of lines6\r\n",
        "INFO:  finding reading order\r\n"
       ]
      },
      {
       "output_type": "stream",
       "stream": "stdout",
       "text": [
        "INFO:  writing lines\r\n"
       ]
      },
      {
       "output_type": "stream",
       "stream": "stdout",
       "text": [
        "INFO:       5 ../catalog-buffer/SD/SD002/00000762.bin.png 15.4  6\r\n"
       ]
      }
     ],
     "prompt_number": 141
    },
    {
     "cell_type": "code",
     "collapsed": false,
     "input": [
      "!ocropus-rpred -Q 7 -m ../ocropy/models/en-default.pyrnn.gz '../catalog-buffer/SD/SD???????????/??????.bin.png'"
     ],
     "language": "python",
     "metadata": {},
     "outputs": [
      {
       "output_type": "stream",
       "stream": "stdout",
       "text": [
        "INFO:  \r\n",
        "INFO:  ########## /home/jakob/anaconda/bin/ocropus-rpred -Q 7 -m ../ocropy/mod\r\n",
        "INFO:  \r\n",
        "INFO:  #inputs55\r\n",
        "# loading object ../ocropy/models/en-default.pyrnn.gz\r\n"
       ]
      },
      {
       "output_type": "stream",
       "stream": "stdout",
       "text": [
        "INFO:  ../catalog-buffer/SD/SD002/00000124/010002.bin.png:Ber r Wilhelm:\r\n",
        "INFO:  ../catalog-buffer/SD/SD002/00000124/010004.bin.png:C0 1 397\r\n"
       ]
      },
      {
       "output_type": "stream",
       "stream": "stdout",
       "text": [
        "INFO:  ../catalog-buffer/SD/SD002/00000124/010001.bin.png:Bamberger Symphoniker / Bl\u00e4ser\r\n"
       ]
      },
      {
       "output_type": "stream",
       "stream": "stdout",
       "text": [
        "INFO:  ../catalog-buffer/SD/SD002/00000124/010007.bin.png:tional, [1994]. - 1 Compact Disc + Beih.\r\n",
        "INFO:  ../catalog-buffer/SD/SD002/00000124/01000a.bin.png:P. 1994.\r\n",
        "INFO:  ../catalog-buffer/SD/SD002/00000124/010003.bin.png:Var1ationen und Fuge uber ein eigenes Ihema]\r\n"
       ]
      },
      {
       "output_type": "stream",
       "stream": "stdout",
       "text": [
        "INFO:  ../catalog-buffer/SD/SD002/00000124/010006.bin.png:op. 97. Serenade op. 102 / Wilhelm Berger. - M\u00fcnchen : Koch Iterna-\r\n"
       ]
      },
      {
       "output_type": "stream",
       "stream": "stdout",
       "text": [
        "INFO:  ../catalog-buffer/SD/SD002/00000124/01000c.bin.png:n op. 1021; Interpr.\r\n"
       ]
      },
      {
       "output_type": "stream",
       "stream": "stdout",
       "text": [
        "INFO:  ../catalog-buffer/SD/SD002/00000124/010009.bin.png:Mchaels, Jost ID1r). - Aufn,: 1586-1788. -\r\n",
        "INFO:  ../catalog-buffer/SD/SD002/00000124/010005.bin.png:Variationen und Fuge uber en egenes Thema f\u00fcr grosses Orchester,\r\n"
       ]
      },
      {
       "output_type": "stream",
       "stream": "stdout",
       "text": [
        "INFO:  ../catalog-buffer/SD/SD002/00000124/01000d.bin.png:NE Berger, 4ilnelm ISerenwP'g\r\n",
        "INFO:  ../catalog-buffer/SD/SD002/00000200/010004.bin.png:--4\r\n"
       ]
      },
      {
       "output_type": "stream",
       "stream": "stdout",
       "text": [
        "INFO:  ../catalog-buffer/SD/SD002/00000124/01000b.bin.png:Best.-Nr. Schwann Musca Mundi 310 722 H 1\r\n"
       ]
      },
      {
       "output_type": "stream",
       "stream": "stdout",
       "text": [
        "INFO:  ../catalog-buffer/SD/SD002/00000124/010008.bin.png:Interpr.: Bamtxerger Symphoniker. Bamtxerger Symphoniker / Bl\u00e4ser.\r\n"
       ]
      },
      {
       "output_type": "stream",
       "stream": "stdout",
       "text": [
        "INFO:  ../catalog-buffer/SD/SD002/00000200/010002.bin.png:Symphonieorchester\r\n"
       ]
      },
      {
       "output_type": "stream",
       "stream": "stdout",
       "text": [
        "INFO:  ../catalog-buffer/SD/SD002/00000200/010003.bin.png:Mozart, Wolf an A\r\n"
       ]
      },
      {
       "output_type": "stream",
       "stream": "stdout",
       "text": [
        "INFO:  ../catalog-buffer/SD/SD002/00000200/010001.bin.png:Der ,8ayerische Rundfunk \u00fcnchen7 l gp 338-37\r\n"
       ]
      },
      {
       "output_type": "stream",
       "stream": "stdout",
       "text": [
        "INFO:  ../catalog-buffer/SD/SD002/00000200/010006.bin.png:Hamburg : Polygram, [1991]. - 3 Compact Discs in Box\r\n"
       ]
      },
      {
       "output_type": "stream",
       "stream": "stdout",
       "text": [
        "INFO:  ../catalog-buffer/SD/SD002/00000200/010008.bin.png:Libretto). - (Complete Mozart edition ; vol. 37)\r\n"
       ]
      },
      {
       "output_type": "stream",
       "stream": "stdout",
       "text": [
        "INFO:  ../catalog-buffer/SD/SD002/00000200/010007.bin.png:mit Schuber P: Beih. (mit dt., 4ngl., franz., ital.\r\n",
        "INFO:  ../catalog-buffer/SD/SD002/00000200/010005.bin.png:lIdomeneo / Mozart. [Libretto : Giambattista Varesco ]. -\r\n"
       ]
      },
      {
       "output_type": "stream",
       "stream": "stdout",
       "text": [
        "INFO:  ../catalog-buffer/SD/SD002/00000200/01000a.bin.png:zur Oper Idomeneo ]. - Interpr.: Araiza, Francisco\r\n"
       ]
      },
      {
       "output_type": "stream",
       "stream": "stdout",
       "text": [
        "INFO:  ../catalog-buffer/SD/SD002/00000200/010009.bin.png:Enth. auBerdem: Ballet music K. 367. [EST: Ballettmusik\r\n"
       ]
      },
      {
       "output_type": "stream",
       "stream": "stdout",
       "text": [
        "INFO:  ../catalog-buffer/SD/SD002/00000474/010003.bin.png:cD 2008 - 1,2\r\n"
       ]
      },
      {
       "output_type": "stream",
       "stream": "stdout",
       "text": [
        "INFO:  ../catalog-buffer/SD/SD002/00000474/010002.bin.png:Schumann Rotert:\r\n"
       ]
      },
      {
       "output_type": "stream",
       "stream": "stdout",
       "text": [
        "INFO:  ../catalog-buffer/SD/SD002/00000200/01000b.bin.png:[Idomeneo ]. Mentzer, Susanne I Idamante ]. Hendricks,\r\n"
       ]
      },
      {
       "output_type": "stream",
       "stream": "stdout",
       "text": [
        "INFO:  ../catalog-buffer/SD/SD002/00000474/010001.bin.png:Berliner Philharmoniker\r\n"
       ]
      },
      {
       "output_type": "stream",
       "stream": "stdout",
       "text": [
        "INFO:  ../catalog-buffer/SD/SD002/00000474/010006.bin.png:- 2 Compact Discs In Box + Beih.\r\n"
       ]
      },
      {
       "output_type": "stream",
       "stream": "stdout",
       "text": [
        "INFO:  ../catalog-buffer/SD/SD002/00000200/01000c.bin.png:Barbara [Ilia). Alexander, Roberta [Elettra]. Heilmann,\r\n"
       ]
      },
      {
       "output_type": "stream",
       "stream": "stdout",
       "text": [
        "INFO:  ../catalog-buffer/SD/SD002/00000474/010004.bin.png:Szenen aus 6oethes Faust : [f\u00fcr Solostimmen, Chor und Drchester] /\r\n"
       ]
      },
      {
       "output_type": "stream",
       "stream": "stdout",
       "text": [
        "INFO:  ../catalog-buffer/SD/SD002/00000474/010005.bin.png:Rotert Schumann. - Frarkfurt (Min) : Sony Music Entertairment, [1995].\r\n"
       ]
      },
      {
       "output_type": "stream",
       "stream": "stdout",
       "text": [
        "INFO:  ../catalog-buffer/SD/SD002/00000474/010007.bin.png:Interpr.: Terfel, 8ryn IFaust, Pater Seraphicus, Doctor Marianus, Ba3].\r\n"
       ]
      },
      {
       "output_type": "stream",
       "stream": "stdout",
       "text": [
        "INFO:  ../catalog-buffer/SD/SD002/00000592/010002.bin.png:s5 CD 1927- 1.2\r\n"
       ]
      },
      {
       "output_type": "stream",
       "stream": "stdout",
       "text": [
        "INFO:  ../catalog-buffer/SD/SD002/00000474/010008.bin.png:Mattila, Kar1ta IGretchen, Una Poenitentuum]. Rootering, Jan-Hendrk\r\n",
        "INFO:  ../catalog-buffer/SD/SD002/00000474/010009.bin.png:IMeph1stopheles, Bdser Geist, Ba0]. Bonney, Bartara IMarthe, Sorge,\r\n"
       ]
      },
      {
       "output_type": "stream",
       "stream": "stdout",
       "text": [
        "INFO:  ../catalog-buffer/SD/SD002/00000592/010001.bin.png:t BBserensemble Sabine Meyer\r\n"
       ]
      },
      {
       "output_type": "stream",
       "stream": "stdout",
       "text": [
        "INFO:  ../catalog-buffer/SD/SD002/00000474/01000a.bin.png:Sopr). Wottrich, Endr1k IAriel, Pater Ecstaticus, Tenl. Vermullion,\r\n"
       ]
      },
      {
       "output_type": "stream",
       "stream": "stdout",
       "text": [
        "INFO:  ../catalog-buffer/SD/SD002/00000474/01000b.bin.png:Ir1s ISchuld, Maria Aegypt1aca, Alt). Poschner-Klebel, Brigitte INot,\r\n"
       ]
      },
      {
       "output_type": "stream",
       "stream": "stdout",
       "text": [
        "INFO:  ../catalog-buffer/SD/SD002/00000592/010004.bin.png:Compact Discs in Schuber + 2 Beih.\r\n"
       ]
      },
      {
       "output_type": "stream",
       "stream": "stdout",
       "text": [
        "INFO:  ../catalog-buffer/SD/SD002/00000474/01000c.bin.png:Megna Peccatr1x, Sopr). Graham, Susan IMengel, Mlier Samar1tana,\r\n"
       ]
      },
      {
       "output_type": "stream",
       "stream": "stdout",
       "text": [
        "INFO:  ../catalog-buffer/SD/SD002/00000592/010003.bin.png:S bine Me r la sr mantic m sic. - K6ln : EMI-Electrola, [2001]. - 2\r\n"
       ]
      },
      {
       "output_type": "stream",
       "stream": "stdout",
       "text": [
        "INFO:  ../catalog-buffer/SD/SD002/00000592/010005.bin.png:Enth.: Serenade op. 44 d-Moll Antonin Dvof\u00e4k. - Oktett no. 1 Es-Dur.\r\n"
       ]
      },
      {
       "output_type": "stream",
       "stream": "stdout",
       "text": [
        "INFO:  ../catalog-buffer/SD/SD002/00000592/010006.bin.png:Oktett no. 2 Es-Dur. Oktett no. 3 B-Dur l Josef Myslivecek.- Quintett fhr\r\n"
       ]
      },
      {
       "output_type": "stream",
       "stream": "stdout",
       "text": [
        "INFO:  ../catalog-buffer/SD/SD002/00000592/010007.bin.png:Klarinette, 2 Violinen, Viola und Violoncello h-Moll, op. 115 / Johannes\r\n"
       ]
      },
      {
       "output_type": "stream",
       "stream": "stdout",
       "text": [
        "INFO:  ../catalog-buffer/SD/SD002/00000592/01000b.bin.png:Aufh.: 1990 und 1994. . P 1991 und 1995.\r\n"
       ]
      },
      {
       "output_type": "stream",
       "stream": "stdout",
       "text": [
        "INFO:  ../catalog-buffer/SD/SD002/00000592/010008.bin.png:Brahms.- Quintett fhr Klarinette und Streichquartett (1984)I Isang Yun.\r\n"
       ]
      },
      {
       "output_type": "stream",
       "stream": "stdout",
       "text": [
        "INFO:  ../catalog-buffer/SD/SD002/00000592/010009.bin.png:Interpr.: Meyer, Sabine [Klar]. Fischer-Dieskau, Manuel [Vc]. Schmidt,\r\n"
       ]
      },
      {
       "output_type": "stream",
       "stream": "stdout",
       "text": [
        "INFO:  ../catalog-buffer/SD/SD002/00000592/01000c.bin.png:Best,-Nr. EMI Classics 7243 5 67644 2\r\n"
       ]
      },
      {
       "output_type": "stream",
       "stream": "stdout",
       "text": [
        "INFO:  ../catalog-buffer/SD/SD002/00000762/010004.bin.png:C0 i998\r\n"
       ]
      },
      {
       "output_type": "stream",
       "stream": "stdout",
       "text": [
        "INFO:  ../catalog-buffer/SD/SD002/00000762/010002.bin.png:Symphony Orchestra\r\n"
       ]
      },
      {
       "output_type": "stream",
       "stream": "stdout",
       "text": [
        "INFO:  ../catalog-buffer/SD/SD002/00000592/01000a.bin.png:Christoph [Kb]. BlBserensemble Sabine Meyer. Wiener Streichsextett. -\r\n"
       ]
      },
      {
       "output_type": "stream",
       "stream": "stdout",
       "text": [
        "INFO:  ../catalog-buffer/SD/SD002/00000762/010003.bin.png:Last m1 t of the roms IForts.)\r\n"
       ]
      },
      {
       "output_type": "stream",
       "stream": "stdout",
       "text": [
        "INFO:  ../catalog-buffer/SD/SD002/00000762/010001.bin.png:' g+ytish Broadcesting Corporation lLondon> /\r\n"
       ]
      },
      {
       "output_type": "stream",
       "stream": "stdout",
       "text": [
        "INFO:  ../catalog-buffer/SD/SD002/00000762/010006.bin.png:Parry, Charles Nubert: Jerusalem / Arr.); Interpr.\r\n"
       ]
      },
      {
       "output_type": "stream",
       "stream": "stdout",
       "text": [
        "INFO:  ../catalog-buffer/SD/SD002/00000762/010005.bin.png:songs; Arne, Thomas Augustne: IAlfred Rule, Britama) / Arr.);\r\n"
       ]
      }
     ],
     "prompt_number": 143
    },
    {
     "cell_type": "code",
     "collapsed": false,
     "input": [
      "!ocropus-hocr '../catalog-buffer/SD/SD???????????.bin.png' -o results.html\n",
      "!ocropus-visualize-results ../catalog-buffer/SD/SD002\n",
      "!ocropus-gtedit html ../catalog-buffer/SD/SD???/????????/??????.bin.png -o results-correction.html"
     ],
     "language": "python",
     "metadata": {},
     "outputs": [
      {
       "output_type": "stream",
       "stream": "stdout",
       "text": [
        "writing to results.html\r\n"
       ]
      },
      {
       "output_type": "stream",
       "stream": "stdout",
       "text": [
        "median_xheight 16.5\r\n",
        "=== ../catalog-buffer/SD/SD002/00000124.bin.png\r\n"
       ]
      },
      {
       "output_type": "stream",
       "stream": "stdout",
       "text": [
        "=== ../catalog-buffer/SD/SD002/00000200.bin.png\r\n"
       ]
      },
      {
       "output_type": "stream",
       "stream": "stdout",
       "text": [
        "=== ../catalog-buffer/SD/SD002/00000474.bin.png\r\n",
        "=== ../catalog-buffer/SD/SD002/00000592.bin.png\r\n"
       ]
      },
      {
       "output_type": "stream",
       "stream": "stdout",
       "text": [
        "=== ../catalog-buffer/SD/SD002/00000762.bin.png\r\n"
       ]
      },
      {
       "output_type": "stream",
       "stream": "stdout",
       "text": [
        "# writing results-correction.html\r\n"
       ]
      }
     ],
     "prompt_number": 155
    },
    {
     "cell_type": "code",
     "collapsed": false,
     "input": [
      "import clstm"
     ],
     "language": "python",
     "metadata": {},
     "outputs": [
      {
       "ename": "ImportError",
       "evalue": "No module named clstm",
       "output_type": "pyerr",
       "traceback": [
        "\u001b[1;31m---------------------------------------------------------------------------\u001b[0m\n\u001b[1;31mImportError\u001b[0m                               Traceback (most recent call last)",
        "\u001b[1;32m<ipython-input-156-2e5fe7a7c3df>\u001b[0m in \u001b[0;36m<module>\u001b[1;34m()\u001b[0m\n\u001b[1;32m----> 1\u001b[1;33m \u001b[1;32mimport\u001b[0m \u001b[0mclstm\u001b[0m\u001b[1;33m\u001b[0m\u001b[0m\n\u001b[0m",
        "\u001b[1;31mImportError\u001b[0m: No module named clstm"
       ]
      }
     ],
     "prompt_number": 156
    },
    {
     "cell_type": "markdown",
     "metadata": {},
     "source": [
      "# Tesseract"
     ]
    },
    {
     "cell_type": "code",
     "collapsed": false,
     "input": [
      "png = Corpus('../catalog-testset/SD/SD???????????.png')\n",
      "ttasks = png.target('../tesseract-result/', '', None)\n",
      "split('../catalog-testset/SD/SD00200000257.png')\n",
      "for idx, tt in enumerate(ttasks):\n",
      "#     print tt\n",
      "#     cropargs = '-{}-{}'.format(right,bottom)\n",
      "    inpath, outpath = tt\n",
      "    p = ['tesseract', inpath, outpath, '-l deu']\n",
      "#     print ' '.join(p)\n",
      "    subprocess.check_output(p)"
     ],
     "language": "python",
     "metadata": {},
     "outputs": [],
     "prompt_number": 3
    },
    {
     "cell_type": "code",
     "collapsed": false,
     "input": [
      "!ocropus-nlbin -q '../catalog-testset/SD/SD???????????.png'\n",
      "!ocropus-gpageseg -q '../catalog-testset/SD/SD???????????.png'"
     ],
     "language": "python",
     "metadata": {},
     "outputs": [
      {
       "output_type": "stream",
       "stream": "stdout",
       "text": [
        "usage: \r\n",
        "Image binarization using non-linear processing.\r\n",
        "\r\n",
        "This is a compute-intensive binarization method that works on degraded\r\n",
        "and historical book pages.\r\n",
        "\r\n",
        "       [-h] [-n] [-t THRESHOLD] [-z ZOOM]\r\n",
        "       [-e ESCALE] [-b BIGNORE] [-p PERC]\r\n",
        "       [-r RANGE] [-m MAXSKEW] [-g] [--lo LO]\r\n",
        "       [--hi HI] [--skewsteps SKEWSTEPS]\r\n",
        "       [--debug DEBUG] [--show] [--rawcopy]\r\n",
        "       [-o OUTPUT] [-Q PARALLEL]\r\n",
        "       files [files ...]\r\n",
        "\r\n",
        "Image binarization using non-linear processing.\r\n",
        "\r\n",
        "This is a compute-intensive binarization method that works on degraded\r\n",
        "and historical book pages.\r\n",
        ": error: unrecognized arguments: -q\r\n"
       ]
      },
      {
       "output_type": "stream",
       "stream": "stdout",
       "text": [
        "INFO:  \r\n",
        "INFO:  ########## /home/jakob/anaconda/bin/ocropus-gpageseg -q ../catalog-test\r\n",
        "INFO:  \r\n",
        "INFO:  ../catalog-testset/SD/SD00200000003.png\r\n"
       ]
      },
      {
       "output_type": "stream",
       "stream": "stdout",
       "text": [
        "INFO:  scale 14.4568322948\r\n"
       ]
      },
      {
       "output_type": "stream",
       "stream": "stdout",
       "text": [
        "INFO:      11 ../catalog-testset/SD/SD00200000003.png 14.5  12\r\n",
        "INFO:  ../catalog-testset/SD/SD00200000007.png\r\n"
       ]
      },
      {
       "output_type": "stream",
       "stream": "stdout",
       "text": [
        "INFO:  scale 14.1421356237\r\n"
       ]
      },
      {
       "output_type": "stream",
       "stream": "stdout",
       "text": [
        "INFO:      10 ../catalog-testset/SD/SD00200000007.png 14.1  11\r\n",
        "INFO:  ../catalog-testset/SD/SD00200000010.png\r\n"
       ]
      },
      {
       "output_type": "stream",
       "stream": "stdout",
       "text": [
        "INFO:  scale 14.6969384567\r\n"
       ]
      },
      {
       "output_type": "stream",
       "stream": "stdout",
       "text": [
        "INFO:      12 ../catalog-testset/SD/SD00200000010.png 14.7  13\r\n",
        "INFO:  ../catalog-testset/SD/SD00200000013.png\r\n"
       ]
      },
      {
       "output_type": "stream",
       "stream": "stdout",
       "text": [
        "INFO:  scale 14.6969384567\r\n"
       ]
      },
      {
       "output_type": "stream",
       "stream": "stdout",
       "text": [
        "^CTraceback (most recent call last):\r\n",
        "  File \"/home/jakob/anaconda/bin/ocropus-gpageseg\", line 437, in <module>\r\n",
        "    safe_process1((f,i+1))\r\n",
        "  File \"/home/jakob/anaconda/bin/ocropus-gpageseg\", line 423, in safe_process1\r\n",
        "    process1(job)\r\n",
        "  File \"/home/jakob/anaconda/bin/ocropus-gpageseg\", line 379, in process1\r\n",
        "    segmentation = compute_segmentation(binary,scale)\r\n",
        "  File \"/home/jakob/anaconda/bin/ocropus-gpageseg\", line 314, in compute_segmentation\r\n",
        "    seeds = compute_line_seeds(binary,bottom,top,colseps,scale)\r\n",
        "  File \"/home/jakob/anaconda/bin/ocropus-gpageseg\", line 277, in compute_line_seeds\r\n",
        "    if s1==0 and (y0-y1)<5*scale: seeds[y1:y0,x] = 1\r\n",
        "KeyboardInterrupt\r\n",
        "\r\n"
       ]
      }
     ],
     "prompt_number": 4
    },
    {
     "cell_type": "code",
     "collapsed": false,
     "input": [
      "from IPython.display import Image\n",
      "Image(filename='../catalog-testset/SD/SD00200000003/010001.bin.png') "
     ],
     "language": "python",
     "metadata": {},
     "outputs": [
      {
       "metadata": {},
       "output_type": "pyout",
       "png": "[encoded data removed]",
       "prompt_number": 16,
       "text": [
        "<IPython.core.display.Image at 0x7f6b0a4e8810>"
       ]
      }
     ],
     "prompt_number": 16
    },
    {
     "cell_type": "code",
     "collapsed": false,
     "input": [],
     "language": "python",
     "metadata": {},
     "outputs": []
    }
   ],
   "metadata": {}
  }
 ]
}