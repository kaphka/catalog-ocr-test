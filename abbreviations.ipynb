{
 "cells": [
  {
   "cell_type": "code",
   "execution_count": 2,
   "metadata": {
    "collapsed": true
   },
   "outputs": [],
   "source": [
    "import csv\n",
    "abbr_file = '../catconv/abbrevations.csv'"
   ]
  },
  {
   "cell_type": "code",
   "execution_count": 30,
   "metadata": {
    "collapsed": false
   },
   "outputs": [
    {
     "name": "stdout",
     "output_type": "stream",
     "text": [
      "ad lib.->ad libitum\n",
      "Kad.->Kadenz\n",
      "Kad.->Kadenzverfasser\n",
      "Arr.->Arrangement\n",
      "Koprod.->Koproduktion\n",
      "Aufn.->Aufnahme\n",
      "o.op.->ohne Opuszahl\n",
      "o.op.->ohne Opus\n",
      "Aufz.->Aufzug\n",
      "Ausschn.->Ausschnitt\n",
      "Pl.-Nr.->Plattennummer\n",
      "Begl.->Begleitung\n",
      "Prod.->Produktion\n",
      "c->copyright\n",
      "Querschn.->Querschnitt\n",
      "Einstud.->Einstudierung\n",
      "St.->Stimme\n",
      "gem. Chor->gemischter Chor\n",
      "...st.->...stimme\n",
      "...hdg.->...händig\n",
      "...stg.->...stimmig\n",
      "Instr.->Instrument\n",
      "transp.->transponiert\n",
      "...instr.->...instrument\n",
      "UpM->Umdrehungszahl pro Minute\n",
      "Interpr.->Interpret\n",
      "Vorl.->Vorlage\n",
      "Akk->Akkordeon\n",
      "Md->Mandoline\n",
      "Alt-Instr.->Altinstrument\n",
      "Ob->Oboe\n",
      "Arp->Arpeggione\n",
      "Orch->Orchester\n",
      "Baß-Instr.->Baßinstrument\n",
      "Baß-Instr.->Baßinstrumente\n",
      "Org->Orgel\n",
      "Bc->Basso continuo\n",
      "Pk->Pauke\n",
      "Blasorch->Blasorchester\n",
      "Pikkolofl->Pikkoloflöte\n",
      "Blfl->Blockflöte\n",
      "Pos->Posaune\n",
      "Cel->Celesta\n",
      "Sax->Saxophon\n",
      "Cemb->Cembalo\n",
      "Schz->Schlagzeug\n",
      "Sopr-Instr.->Sopraninstrument\n",
      "Sopr-Instr.->Sopraninstrumente\n",
      "E-...-># Elektrisch...\n",
      "E-...-># electric ...\n",
      "Streichorch->Streichorchester\n",
      "Ehr->Englischhorn\n",
      "Synth->Synthesizer\n",
      "Ensemble->Ensemble\n",
      "Tasteninstr.->Tasteninstrument\n",
      "Tasteninstr.->Tasteninstrumente\n",
      "Fg->Fagott\n",
      "Ten-Instr.->Tenorinstrument\n",
      "Ten-Instr.->Tenorinstrumente\n",
      "Fl->Flöte\n",
      "Trp->Trompete\n",
      "Git->Gitarre\n",
      "Tb->Tuba\n",
      "Hf->Harfe\n",
      "Vib->Vibraphon\n",
      "Harm->Harmonium\n",
      "Va->Viola\n",
      "Hr->Horn\n",
      "Va d'amore->Viola d'amore\n",
      "Klar->Klarinette\n",
      "Vagb->Viola da gamba\n",
      "Kl->Klavier\n",
      "Vl->Violine\n",
      "4hdg.->Klavier vierhändig Kl\n",
      "Vc->Violoncello\n",
      "Kb->Kontrabaß\n",
      "Xyl->Xylophon\n",
      "Lt->Laute\n",
      "Zth->Zither\n",
      "Alt->Alt\n",
      "Kinderchor->Kinderchor\n",
      "Bar->Bariton\n",
      "Männerchor->Männerchor\n",
      "Baß->Baß\n",
      "Männerst.->Männerstimme(n)\n",
      "Baßbar->Baßbariton\n",
      "Mezzosopr->Mezzosopran\n",
      "Sopr->Sopran\n",
      "Counterten->Countertenor\n",
      "Sprechst.->Sprechstimme\n",
      "Frauenchor->Frauenchor\n",
      "Ten->Tenor\n",
      "Frauenst.->Frauenstimme\n",
      "Frauenst.->Frauenstimmen\n",
      "Singst.->Singstimme\n",
      "Singst.->Singstimmen\n",
      "acc->accordion\n",
      "ld->leader\n",
      "as->alto saxophone\n",
      "lt->lute\n",
      "bj->banjo\n",
      "mand->mandoline\n",
      "bs->baritone saxophone\n",
      "org->organ\n",
      "b->bass\n",
      "perc->percussions\n",
      "bo->bongos\n",
      "p->piano\n",
      "cel->celesta\n",
      "sax->saxophone\n",
      "sax->saxophones\n",
      "cl->clarinet\n",
      "ss->soprano saxophone\n",
      "cga->conga\n",
      "synth->synthesizer\n",
      "co->cornet\n",
      "ts->tenor saxophone\n",
      "dr->drums\n",
      "tb->trombone\n",
      "tp->trumpet\n",
      "engl-h->English horn\n",
      "tu->tuba\n",
      "fl->flute\n",
      "v->violin\n",
      "fr-h->French horn\n",
      "g->guitar\n",
      "voc->vocal\n",
      "harm->harmonica\n",
      "wbd->washboard\n",
      "h->horn\n",
      "xyl->xylophone\n",
      "keys->keyboards\n",
      "zahlr. Instr.->zahlreiche Instrumente\n",
      "Angebl. Komp.->Angeblicher Komponist\n",
      "Bearb.->Bearbeiter\n",
      "Choreinstud.->Choreinstudierung\n",
      "Dir.->Dirigent\n",
      "Gsg.->Gesang\n",
      "Hrsg.->Herausgeber\n",
      "Ltg.->Leitung\n",
      "Mutmaßl. Komp.->Mutmaßlicher Komponist\n",
      "Übers.->Übersetzer\n"
     ]
    }
   ],
   "source": [
    "abbrevations = {}\n",
    "extensions = {}\n",
    "with open(abbr_file) as afile:\n",
    "    abbr_reader = csv.reader(afile)\n",
    "    for abbr in abbr_reader:\n",
    "        if len(abbr) == 2:\n",
    "            longer, shorter = abbr\n",
    "            if longer.startswith('...'):\n",
    "                extensions[shorter[3:]] = longer[3:]\n",
    "            else:\n",
    "                abbrevations[shorter] = longer\n",
    "            print('{}->{}'.format(shorter,longer))"
   ]
  },
  {
   "cell_type": "code",
   "execution_count": 25,
   "metadata": {
    "collapsed": false
   },
   "outputs": [
    {
     "data": {
      "text/plain": [
       "'S\\xc3\\xa4ngerstimme'"
      ]
     },
     "execution_count": 25,
     "metadata": {},
     "output_type": "execute_result"
    }
   ],
   "source": [
    "import re\n",
    "re.sub('st.','stimme','Sängerst.')\n"
   ]
  },
  {
   "cell_type": "code",
   "execution_count": 24,
   "metadata": {
    "collapsed": false
   },
   "outputs": [
    {
     "data": {
      "text/plain": [
       "['st.', 'hdg.', 'stg.', 'instr.']"
      ]
     },
     "execution_count": 24,
     "metadata": {},
     "output_type": "execute_result"
    }
   ],
   "source": [
    "extensions.keys()"
   ]
  },
  {
   "cell_type": "code",
   "execution_count": null,
   "metadata": {
    "collapsed": true
   },
   "outputs": [],
   "source": []
  }
 ],
 "metadata": {
  "kernelspec": {
   "display_name": "Python 2",
   "language": "python",
   "name": "python2"
  },
  "language_info": {
   "codemirror_mode": {
    "name": "ipython",
    "version": 2
   },
   "file_extension": ".py",
   "mimetype": "text/x-python",
   "name": "python",
   "nbconvert_exporter": "python",
   "pygments_lexer": "ipython2",
   "version": "2.7.11"
  }
 },
 "nbformat": 4,
 "nbformat_minor": 0
}
