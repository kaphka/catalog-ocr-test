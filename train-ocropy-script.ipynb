{
 "metadata": {
  "name": "",
  "signature": "sha256:56fdf6d29d8643246e0fce27fe1e94c56bc35a0680f895589bd2e6467272b273"
 },
 "nbformat": 3,
 "nbformat_minor": 0,
 "worksheets": [
  {
   "cells": [
    {
     "cell_type": "code",
     "collapsed": false,
     "input": [
      "from os.path import join, split, splitext,commonprefix, isdir\n",
      "from os import makedirs, listdir\n",
      "from glob import glob"
     ],
     "language": "python",
     "metadata": {},
     "outputs": [],
     "prompt_number": 14
    },
    {
     "cell_type": "code",
     "collapsed": false,
     "input": [
      "!ls ../ocropy/models/\n",
      "!mkdir ../htwmusik-models\n",
      "!mkdir ../htwmusik-models/catalog2-gt-model"
     ],
     "language": "python",
     "metadata": {},
     "outputs": [
      {
       "output_type": "stream",
       "stream": "stdout",
       "text": [
        "en-default.pyrnn.gz  rewrites1.txt  rewrites2.txt\r\n"
       ]
      },
      {
       "output_type": "stream",
       "stream": "stdout",
       "text": [
        "mkdir: cannot create directory \u2018../htwmusik-models\u2019: File exists\r\n"
       ]
      }
     ],
     "prompt_number": 8
    },
    {
     "cell_type": "code",
     "collapsed": false,
     "input": [
      "# 1. \n",
      "model = '../htwmusik-models/catalog2-gt-model.model'\n",
      "modeldir = '../htwmusik-models/catalog2-gt-model'"
     ],
     "language": "python",
     "metadata": {},
     "outputs": [],
     "prompt_number": 10
    },
    {
     "cell_type": "code",
     "collapsed": false,
     "input": [
      "# Groundtruth, Testbilder im zum Lernen kombinieren\n",
      "import catalogutils\n",
      "reload(catalogutils)\n",
      "img2train_img = catalogutils.transform('../catalog-testset/SD/',modeldir,'*/*.bin.png', listdir(join('../catalog-gt/','SD')) )\n",
      "gt2train_gt   = catalogutils.transform('../catalog-gt/SD/',modeldir,'*/*.gt.txt')\n",
      "\n",
      "catalogutils.process(gt2train_gt  , p='cp {} {}', execute=True)\n",
      "catalogutils.process(img2train_img, p='cp {} {}', execute=True)"
     ],
     "language": "python",
     "metadata": {},
     "outputs": [
      {
       "output_type": "stream",
       "stream": "stdout",
       "text": [
        "../catalog-testset/SD/*/*.bin.png\n",
        "../catalog-gt/SD/*/*.gt.txt\n",
        "cp ../catalog-gt/SD/SD00200000245/010002.gt.txt ../htwmusik-models/catalog2-gt-model/SD00200000245/010002.gt.txt\n",
        "cp ../catalog-gt/SD/SD00200000245/010001.gt.txt ../htwmusik-models/catalog2-gt-model/SD00200000245/010001.gt.txt"
       ]
      },
      {
       "output_type": "stream",
       "stream": "stdout",
       "text": [
        "\n",
        "cp ../catalog-gt/SD/SD00200000245/010004.gt.txt ../htwmusik-models/catalog2-gt-model/SD00200000245/010004.gt.txt\n",
        "cp ../catalog-gt/SD/SD00200000245/010005.gt.txt ../htwmusik-models/catalog2-gt-model/SD00200000245/010005.gt.txt\n",
        "cp ../catalog-gt/SD/SD00200000245/010006.gt.txt ../htwmusik-models/catalog2-gt-model/SD00200000245/010006.gt.txt\n",
        "cp ../catalog-gt/SD/SD00200000245/010003.gt.txt ../htwmusik-models/catalog2-gt-model/SD00200000245/010003.gt.txt\n",
        "cp ../catalog-gt/SD/SD00200000003/010002.gt.txt ../htwmusik-models/catalog2-gt-model/SD00200000003/010002.gt.txt\n",
        "cp ../catalog-gt/SD/SD00200000003/010001.gt.txt ../htwmusik-models/catalog2-gt-model/SD00200000003/010001.gt.txt\n",
        "cp ../catalog-gt/SD/SD00200000003/010007.gt.txt ../htwmusik-models/catalog2-gt-model/SD00200000003/010007.gt.txt"
       ]
      },
      {
       "output_type": "stream",
       "stream": "stdout",
       "text": [
        "\n",
        "cp ../catalog-gt/SD/SD00200000003/01000c.gt.txt ../htwmusik-models/catalog2-gt-model/SD00200000003/01000c.gt.txt\n",
        "cp ../catalog-gt/SD/SD00200000003/010004.gt.txt ../htwmusik-models/catalog2-gt-model/SD00200000003/010004.gt.txt\n",
        "cp ../catalog-gt/SD/SD00200000003/01000b.gt.txt ../htwmusik-models/catalog2-gt-model/SD00200000003/01000b.gt.txt\n",
        "cp ../catalog-gt/SD/SD00200000003/010005.gt.txt ../htwmusik-models/catalog2-gt-model/SD00200000003/010005.gt.txt\n",
        "cp ../catalog-gt/SD/SD00200000003/010006.gt.txt ../htwmusik-models/catalog2-gt-model/SD00200000003/010006.gt.txt\n",
        "cp ../catalog-gt/SD/SD00200000003/010009.gt.txt ../htwmusik-models/catalog2-gt-model/SD00200000003/010009.gt.txt\n",
        "cp ../catalog-gt/SD/SD00200000003/01000a.gt.txt ../htwmusik-models/catalog2-gt-model/SD00200000003/01000a.gt.txt"
       ]
      },
      {
       "output_type": "stream",
       "stream": "stdout",
       "text": [
        "\n",
        "cp ../catalog-gt/SD/SD00200000003/010003.gt.txt ../htwmusik-models/catalog2-gt-model/SD00200000003/010003.gt.txt\n",
        "cp ../catalog-gt/SD/SD00200000003/010008.gt.txt ../htwmusik-models/catalog2-gt-model/SD00200000003/010008.gt.txt\n",
        "cp ../catalog-gt/SD/SD00200000608/010002.gt.txt ../htwmusik-models/catalog2-gt-model/SD00200000608/010002.gt.txt\n",
        "cp ../catalog-gt/SD/SD00200000608/010001.gt.txt ../htwmusik-models/catalog2-gt-model/SD00200000608/010001.gt.txt\n",
        "cp ../catalog-gt/SD/SD00200000608/010003.gt.txt ../htwmusik-models/catalog2-gt-model/SD00200000608/010003.gt.txt\n",
        "cp ../catalog-gt/SD/SD00600000258/010002.gt.txt ../htwmusik-models/catalog2-gt-model/SD00600000258/010002.gt.txt\n",
        "cp ../catalog-gt/SD/SD00600000258/010001.gt.txt ../htwmusik-models/catalog2-gt-model/SD00600000258/010001.gt.txt\n",
        "cp ../catalog-gt/SD/SD00600000258/010004.gt.txt ../htwmusik-models/catalog2-gt-model/SD00600000258/010004.gt.txt"
       ]
      },
      {
       "output_type": "stream",
       "stream": "stdout",
       "text": [
        "\n",
        "cp ../catalog-gt/SD/SD00600000258/010005.gt.txt ../htwmusik-models/catalog2-gt-model/SD00600000258/010005.gt.txt\n",
        "cp ../catalog-gt/SD/SD00600000258/010006.gt.txt ../htwmusik-models/catalog2-gt-model/SD00600000258/010006.gt.txt\n",
        "cp ../catalog-gt/SD/SD00600000258/010003.gt.txt ../htwmusik-models/catalog2-gt-model/SD00600000258/010003.gt.txt\n",
        "cp ../catalog-gt/SD/SD00600000272/010002.gt.txt ../htwmusik-models/catalog2-gt-model/SD00600000272/010002.gt.txt\n",
        "cp ../catalog-gt/SD/SD00600000272/010001.gt.txt ../htwmusik-models/catalog2-gt-model/SD00600000272/010001.gt.txt\n",
        "cp ../catalog-gt/SD/SD00600000272/010007.gt.txt ../htwmusik-models/catalog2-gt-model/SD00600000272/010007.gt.txt\n",
        "cp ../catalog-gt/SD/SD00600000272/01000c.gt.txt ../htwmusik-models/catalog2-gt-model/SD00600000272/01000c.gt.txt\n",
        "cp ../catalog-gt/SD/SD00600000272/010004.gt.txt ../htwmusik-models/catalog2-gt-model/SD00600000272/010004.gt.txt"
       ]
      },
      {
       "output_type": "stream",
       "stream": "stdout",
       "text": [
        "\n",
        "cp ../catalog-gt/SD/SD00600000272/01000b.gt.txt ../htwmusik-models/catalog2-gt-model/SD00600000272/01000b.gt.txt\n",
        "cp ../catalog-gt/SD/SD00600000272/010005.gt.txt ../htwmusik-models/catalog2-gt-model/SD00600000272/010005.gt.txt\n",
        "cp ../catalog-gt/SD/SD00600000272/010006.gt.txt ../htwmusik-models/catalog2-gt-model/SD00600000272/010006.gt.txt\n",
        "cp ../catalog-gt/SD/SD00600000272/010009.gt.txt ../htwmusik-models/catalog2-gt-model/SD00600000272/010009.gt.txt\n",
        "cp ../catalog-gt/SD/SD00600000272/01000a.gt.txt ../htwmusik-models/catalog2-gt-model/SD00600000272/01000a.gt.txt\n",
        "cp ../catalog-gt/SD/SD00600000272/010003.gt.txt ../htwmusik-models/catalog2-gt-model/SD00600000272/010003.gt.txt\n",
        "cp ../catalog-gt/SD/SD00600000272/010008.gt.txt ../htwmusik-models/catalog2-gt-model/SD00600000272/010008.gt.txt\n",
        "cp ../catalog-gt/SD/SD01200000085/010002.gt.txt ../htwmusik-models/catalog2-gt-model/SD01200000085/010002.gt.txt"
       ]
      },
      {
       "output_type": "stream",
       "stream": "stdout",
       "text": [
        "\n",
        "cp ../catalog-gt/SD/SD01200000085/010001.gt.txt ../htwmusik-models/catalog2-gt-model/SD01200000085/010001.gt.txt\n",
        "cp ../catalog-gt/SD/SD01200000085/010004.gt.txt ../htwmusik-models/catalog2-gt-model/SD01200000085/010004.gt.txt\n",
        "cp ../catalog-gt/SD/SD01200000085/010005.gt.txt ../htwmusik-models/catalog2-gt-model/SD01200000085/010005.gt.txt\n",
        "cp ../catalog-gt/SD/SD01200000085/010006.gt.txt ../htwmusik-models/catalog2-gt-model/SD01200000085/010006.gt.txt\n",
        "cp ../catalog-gt/SD/SD01200000085/010003.gt.txt ../htwmusik-models/catalog2-gt-model/SD01200000085/010003.gt.txt\n",
        "cp ../catalog-gt/SD/SD00600000535/010002.gt.txt ../htwmusik-models/catalog2-gt-model/SD00600000535/010002.gt.txt\n",
        "cp ../catalog-gt/SD/SD00600000535/010001.gt.txt ../htwmusik-models/catalog2-gt-model/SD00600000535/010001.gt.txt"
       ]
      },
      {
       "output_type": "stream",
       "stream": "stdout",
       "text": [
        "\n",
        "cp ../catalog-gt/SD/SD00600000535/010007.gt.txt ../htwmusik-models/catalog2-gt-model/SD00600000535/010007.gt.txt\n",
        "cp ../catalog-gt/SD/SD00600000535/010004.gt.txt ../htwmusik-models/catalog2-gt-model/SD00600000535/010004.gt.txt\n",
        "cp ../catalog-gt/SD/SD00600000535/010005.gt.txt ../htwmusik-models/catalog2-gt-model/SD00600000535/010005.gt.txt\n",
        "cp ../catalog-gt/SD/SD00600000535/010006.gt.txt ../htwmusik-models/catalog2-gt-model/SD00600000535/010006.gt.txt\n",
        "cp ../catalog-gt/SD/SD00600000535/010009.gt.txt ../htwmusik-models/catalog2-gt-model/SD00600000535/010009.gt.txt\n",
        "cp ../catalog-gt/SD/SD00600000535/01000a.gt.txt ../htwmusik-models/catalog2-gt-model/SD00600000535/01000a.gt.txt\n",
        "cp ../catalog-gt/SD/SD00600000535/010003.gt.txt ../htwmusik-models/catalog2-gt-model/SD00600000535/010003.gt.txt"
       ]
      },
      {
       "output_type": "stream",
       "stream": "stdout",
       "text": [
        "\n",
        "cp ../catalog-gt/SD/SD00600000535/010008.gt.txt ../htwmusik-models/catalog2-gt-model/SD00600000535/010008.gt.txt\n",
        "cp ../catalog-gt/SD/SD00600000323/010002.gt.txt ../htwmusik-models/catalog2-gt-model/SD00600000323/010002.gt.txt\n",
        "cp ../catalog-gt/SD/SD00600000323/010001.gt.txt ../htwmusik-models/catalog2-gt-model/SD00600000323/010001.gt.txt\n",
        "cp ../catalog-gt/SD/SD00600000323/010007.gt.txt ../htwmusik-models/catalog2-gt-model/SD00600000323/010007.gt.txt\n",
        "cp ../catalog-gt/SD/SD00600000323/010004.gt.txt ../htwmusik-models/catalog2-gt-model/SD00600000323/010004.gt.txt\n",
        "cp ../catalog-gt/SD/SD00600000323/010005.gt.txt ../htwmusik-models/catalog2-gt-model/SD00600000323/010005.gt.txt\n",
        "cp ../catalog-gt/SD/SD00600000323/010006.gt.txt ../htwmusik-models/catalog2-gt-model/SD00600000323/010006.gt.txt"
       ]
      },
      {
       "output_type": "stream",
       "stream": "stdout",
       "text": [
        "\n",
        "cp ../catalog-gt/SD/SD00600000323/010003.gt.txt ../htwmusik-models/catalog2-gt-model/SD00600000323/010003.gt.txt\n",
        "cp ../catalog-testset/SD/SD00200000245/010005.bin.png ../htwmusik-models/catalog2-gt-model/SD00200000245/010005.bin.png\n",
        "cp ../catalog-testset/SD/SD00200000245/010001.bin.png ../htwmusik-models/catalog2-gt-model/SD00200000245/010001.bin.png\n",
        "cp ../catalog-testset/SD/SD00200000245/010003.bin.png ../htwmusik-models/catalog2-gt-model/SD00200000245/010003.bin.png\n",
        "cp ../catalog-testset/SD/SD00200000245/010006.bin.png ../htwmusik-models/catalog2-gt-model/SD00200000245/010006.bin.png"
       ]
      },
      {
       "output_type": "stream",
       "stream": "stdout",
       "text": [
        "\n",
        "cp ../catalog-testset/SD/SD00200000245/010002.bin.png ../htwmusik-models/catalog2-gt-model/SD00200000245/010002.bin.png\n",
        "cp ../catalog-testset/SD/SD00200000245/010004.bin.png ../htwmusik-models/catalog2-gt-model/SD00200000245/010004.bin.png\n",
        "cp ../catalog-testset/SD/SD00200000003/010005.bin.png ../htwmusik-models/catalog2-gt-model/SD00200000003/010005.bin.png\n",
        "cp ../catalog-testset/SD/SD00200000003/01000a.bin.png ../htwmusik-models/catalog2-gt-model/SD00200000003/01000a.bin.png\n",
        "cp ../catalog-testset/SD/SD00200000003/010001.bin.png ../htwmusik-models/catalog2-gt-model/SD00200000003/010001.bin.png"
       ]
      },
      {
       "output_type": "stream",
       "stream": "stdout",
       "text": [
        "\n",
        "cp ../catalog-testset/SD/SD00200000003/010007.bin.png ../htwmusik-models/catalog2-gt-model/SD00200000003/010007.bin.png\n",
        "cp ../catalog-testset/SD/SD00200000003/01000c.bin.png ../htwmusik-models/catalog2-gt-model/SD00200000003/01000c.bin.png\n",
        "cp ../catalog-testset/SD/SD00200000003/01000b.bin.png ../htwmusik-models/catalog2-gt-model/SD00200000003/01000b.bin.png\n",
        "cp ../catalog-testset/SD/SD00200000003/010003.bin.png ../htwmusik-models/catalog2-gt-model/SD00200000003/010003.bin.png\n",
        "cp ../catalog-testset/SD/SD00200000003/010008.bin.png ../htwmusik-models/catalog2-gt-model/SD00200000003/010008.bin.png"
       ]
      },
      {
       "output_type": "stream",
       "stream": "stdout",
       "text": [
        "\n",
        "cp ../catalog-testset/SD/SD00200000003/010006.bin.png ../htwmusik-models/catalog2-gt-model/SD00200000003/010006.bin.png\n",
        "cp ../catalog-testset/SD/SD00200000003/010002.bin.png ../htwmusik-models/catalog2-gt-model/SD00200000003/010002.bin.png\n",
        "cp ../catalog-testset/SD/SD00200000003/010009.bin.png ../htwmusik-models/catalog2-gt-model/SD00200000003/010009.bin.png\n",
        "cp ../catalog-testset/SD/SD00200000003/010004.bin.png ../htwmusik-models/catalog2-gt-model/SD00200000003/010004.bin.png\n",
        "cp ../catalog-testset/SD/SD00200000608/010001.bin.png ../htwmusik-models/catalog2-gt-model/SD00200000608/010001.bin.png\n",
        "cp ../catalog-testset/SD/SD00200000608/010003.bin.png ../htwmusik-models/catalog2-gt-model/SD00200000608/010003.bin.png"
       ]
      },
      {
       "output_type": "stream",
       "stream": "stdout",
       "text": [
        "\n",
        "cp ../catalog-testset/SD/SD00200000608/010002.bin.png ../htwmusik-models/catalog2-gt-model/SD00200000608/010002.bin.png\n",
        "cp ../catalog-testset/SD/SD00600000258/010005.bin.png ../htwmusik-models/catalog2-gt-model/SD00600000258/010005.bin.png\n",
        "cp ../catalog-testset/SD/SD00600000258/010001.bin.png ../htwmusik-models/catalog2-gt-model/SD00600000258/010001.bin.png\n",
        "cp ../catalog-testset/SD/SD00600000258/010003.bin.png ../htwmusik-models/catalog2-gt-model/SD00600000258/010003.bin.png\n",
        "cp ../catalog-testset/SD/SD00600000258/010006.bin.png ../htwmusik-models/catalog2-gt-model/SD00600000258/010006.bin.png"
       ]
      },
      {
       "output_type": "stream",
       "stream": "stdout",
       "text": [
        "\n",
        "cp ../catalog-testset/SD/SD00600000258/010002.bin.png ../htwmusik-models/catalog2-gt-model/SD00600000258/010002.bin.png\n",
        "cp ../catalog-testset/SD/SD00600000258/010004.bin.png ../htwmusik-models/catalog2-gt-model/SD00600000258/010004.bin.png\n",
        "cp ../catalog-testset/SD/SD00600000272/010005.bin.png ../htwmusik-models/catalog2-gt-model/SD00600000272/010005.bin.png\n",
        "cp ../catalog-testset/SD/SD00600000272/01000a.bin.png ../htwmusik-models/catalog2-gt-model/SD00600000272/01000a.bin.png\n",
        "cp ../catalog-testset/SD/SD00600000272/010001.bin.png ../htwmusik-models/catalog2-gt-model/SD00600000272/010001.bin.png\n",
        "cp ../catalog-testset/SD/SD00600000272/010007.bin.png ../htwmusik-models/catalog2-gt-model/SD00600000272/010007.bin.png\n",
        "cp ../catalog-testset/SD/SD00600000272/01000c.bin.png ../htwmusik-models/catalog2-gt-model/SD00600000272/01000c.bin.png"
       ]
      },
      {
       "output_type": "stream",
       "stream": "stdout",
       "text": [
        "\n",
        "cp ../catalog-testset/SD/SD00600000272/01000b.bin.png ../htwmusik-models/catalog2-gt-model/SD00600000272/01000b.bin.png\n",
        "cp ../catalog-testset/SD/SD00600000272/010003.bin.png ../htwmusik-models/catalog2-gt-model/SD00600000272/010003.bin.png\n",
        "cp ../catalog-testset/SD/SD00600000272/010008.bin.png ../htwmusik-models/catalog2-gt-model/SD00600000272/010008.bin.png\n",
        "cp ../catalog-testset/SD/SD00600000272/010006.bin.png ../htwmusik-models/catalog2-gt-model/SD00600000272/010006.bin.png\n",
        "cp ../catalog-testset/SD/SD00600000272/010002.bin.png ../htwmusik-models/catalog2-gt-model/SD00600000272/010002.bin.png\n",
        "cp ../catalog-testset/SD/SD00600000272/010009.bin.png ../htwmusik-models/catalog2-gt-model/SD00600000272/010009.bin.png\n",
        "cp ../catalog-testset/SD/SD00600000272/010004.bin.png ../htwmusik-models/catalog2-gt-model/SD00600000272/010004.bin.png"
       ]
      },
      {
       "output_type": "stream",
       "stream": "stdout",
       "text": [
        "\n",
        "cp ../catalog-testset/SD/SD01200000085/010005.bin.png ../htwmusik-models/catalog2-gt-model/SD01200000085/010005.bin.png\n",
        "cp ../catalog-testset/SD/SD01200000085/010001.bin.png ../htwmusik-models/catalog2-gt-model/SD01200000085/010001.bin.png\n",
        "cp ../catalog-testset/SD/SD01200000085/010003.bin.png ../htwmusik-models/catalog2-gt-model/SD01200000085/010003.bin.png\n",
        "cp ../catalog-testset/SD/SD01200000085/010006.bin.png ../htwmusik-models/catalog2-gt-model/SD01200000085/010006.bin.png\n",
        "cp ../catalog-testset/SD/SD01200000085/010002.bin.png ../htwmusik-models/catalog2-gt-model/SD01200000085/010002.bin.png\n",
        "cp ../catalog-testset/SD/SD01200000085/010004.bin.png ../htwmusik-models/catalog2-gt-model/SD01200000085/010004.bin.png\n",
        "cp ../catalog-testset/SD/SD00600000535/010005.bin.png ../htwmusik-models/catalog2-gt-model/SD00600000535/010005.bin.png"
       ]
      },
      {
       "output_type": "stream",
       "stream": "stdout",
       "text": [
        "\n",
        "cp ../catalog-testset/SD/SD00600000535/01000a.bin.png ../htwmusik-models/catalog2-gt-model/SD00600000535/01000a.bin.png\n",
        "cp ../catalog-testset/SD/SD00600000535/010001.bin.png ../htwmusik-models/catalog2-gt-model/SD00600000535/010001.bin.png\n",
        "cp ../catalog-testset/SD/SD00600000535/010007.bin.png ../htwmusik-models/catalog2-gt-model/SD00600000535/010007.bin.png\n",
        "cp ../catalog-testset/SD/SD00600000535/010003.bin.png ../htwmusik-models/catalog2-gt-model/SD00600000535/010003.bin.png\n",
        "cp ../catalog-testset/SD/SD00600000535/010008.bin.png ../htwmusik-models/catalog2-gt-model/SD00600000535/010008.bin.png\n",
        "cp ../catalog-testset/SD/SD00600000535/010006.bin.png ../htwmusik-models/catalog2-gt-model/SD00600000535/010006.bin.png\n",
        "cp ../catalog-testset/SD/SD00600000535/010002.bin.png ../htwmusik-models/catalog2-gt-model/SD00600000535/010002.bin.png"
       ]
      },
      {
       "output_type": "stream",
       "stream": "stdout",
       "text": [
        "\n",
        "cp ../catalog-testset/SD/SD00600000535/010009.bin.png ../htwmusik-models/catalog2-gt-model/SD00600000535/010009.bin.png\n",
        "cp ../catalog-testset/SD/SD00600000535/010004.bin.png ../htwmusik-models/catalog2-gt-model/SD00600000535/010004.bin.png\n",
        "cp ../catalog-testset/SD/SD00600000323/010005.bin.png ../htwmusik-models/catalog2-gt-model/SD00600000323/010005.bin.png\n",
        "cp ../catalog-testset/SD/SD00600000323/010001.bin.png ../htwmusik-models/catalog2-gt-model/SD00600000323/010001.bin.png\n",
        "cp ../catalog-testset/SD/SD00600000323/010007.bin.png ../htwmusik-models/catalog2-gt-model/SD00600000323/010007.bin.png\n",
        "cp ../catalog-testset/SD/SD00600000323/010003.bin.png ../htwmusik-models/catalog2-gt-model/SD00600000323/010003.bin.png"
       ]
      },
      {
       "output_type": "stream",
       "stream": "stdout",
       "text": [
        "\n",
        "cp ../catalog-testset/SD/SD00600000323/010006.bin.png ../htwmusik-models/catalog2-gt-model/SD00600000323/010006.bin.png\n",
        "cp ../catalog-testset/SD/SD00600000323/010002.bin.png ../htwmusik-models/catalog2-gt-model/SD00600000323/010002.bin.png\n",
        "cp ../catalog-testset/SD/SD00600000323/010004.bin.png ../htwmusik-models/catalog2-gt-model/SD00600000323/010004.bin.png\n"
       ]
      }
     ],
     "prompt_number": 37
    },
    {
     "cell_type": "code",
     "collapsed": false,
     "input": [
      "!ocropus-rtrain --load ../ocropy/models/en-default.pyrnn.gz -o ../htwmusik-models/catalog2-gt-model.model ../htwmusik-models/catalog2-gt-model/*/*.bin.png"
     ],
     "language": "python",
     "metadata": {},
     "outputs": [
      {
       "output_type": "stream",
       "stream": "stdout",
       "text": [
        "# inputs 62\r\n",
        "# tests None\r\n",
        "# CenterNormalizer\r\n",
        "# using default codec\r\n",
        "# charset size 157 [ ~!\"#$%&'()*+,-./0123456789:;<=>?@ABCDEFGHIJKLMNOPQRSTUVWXYZ[\\]^_`abcdefghijklmnopqrstuvwxyz{|}\u00a1\u00a2\u00a3\u00a7\u00a9\u00ab\u00ae\u00b0\u00b6\u00bb\u00bf\u00c0\u00c2\u00c4\u00c6\u00c7\u00c8\u00c9\u00ca\u00cb\u00ce\u00cf\u00d4\u00d6\u00d9\u00db\u00dc\u00df\u00e0\u00e2\u00e4\u00e6\u00e7\u00e8\u00e9\u00ea\u00eb\u00ee\u00ef\u00f4\u00f6\u00f7\u00f9\u00fb\u00fc\u00ff\u0152\u0153\u0178\u2020\u2021\u2022\u2023\u2039\u203a\u20ac\u2219\u25aa\u25ab\u25e6]\r\n",
        "# loading ../ocropy/models/en-default.pyrnn.gz\r\n"
       ]
      },
      {
       "output_type": "stream",
       "stream": "stdout",
       "text": [
        "# last_trial 100000\r\n"
       ]
      },
      {
       "output_type": "stream",
       "stream": "stdout",
       "text": [
        "100000 44.93 (740, 48) ../htwmusik-models/catalog2-gt-model/SD00200000245/010002.bin.png\r\n",
        "   TRU: u'Reimann Aribert: Das Schloss [Forts.]'\r\n",
        "   ALN: u'Reimann Aribert: Das Schloss [Forts.]'\r\n",
        "   OUT: u'Reimaon Aritert: Das ,Schloss IForts.l'\r\n"
       ]
      },
      {
       "output_type": "stream",
       "stream": "stdout",
       "text": [
        "100001 110.98 (1004, 48) ../htwmusik-models/catalog2-gt-model/SD00200000003/01000c.bin.png\r\n",
        "   TRU: u'Interbr.: Rosalili. Lift. Babylon. Keks. Puhdys. Karat'\r\n",
        "   ALN: u'Interbr.: Rosalili. Lift. Baabylon. Keks. Puhdys. Karat\\xd9'\r\n",
        "   OUT: u'Interbr . Rosalili. Lift. %=  ress. Keks. Punays. Karat.'\r\n"
       ]
      },
      {
       "output_type": "stream",
       "stream": "stdout",
       "text": [
        "100002 72.00 (1023, 48) ../htwmusik-models/catalog2-gt-model/SD00600000323/010002.bin.png\r\n",
        "   TRU: u'Rheinberger Gabriel J.: [Trios, V1 Vc Kl op. 112] [Forts.]'\r\n",
        "   ALN: u'Rheinberger Gabriel J.: [Trios, V1 Vc Kl op. 112] [Forts.]'\r\n",
        "   OUT: u'Rheinber er Gabbriel ).: ITros, Vl Vc K1 op. 112] IForts.)'\r\n"
       ]
      },
      {
       "output_type": "stream",
       "stream": "stdout",
       "text": [
        "100003 57.45 (1114, 48) ../htwmusik-models/catalog2-gt-model/SD00600000272/01000a.bin.png\r\n",
        "   TRU: u'Gewandhausorchester <Leipzig>... - Auf.: 1949 - 1954. - P 1965 - 1966'\r\n",
        "   ALN: u'Gewandhausorchester <Leipzig>... - Auf.: 1949  - 1954. - P 1965 - 1966'\r\n",
        "   OUT: u'Gewandhausorchester LeipzigP.,,- Aufi.: 1949-1954,.P1965- 1966'\r\n"
       ]
      },
      {
       "output_type": "stream",
       "stream": "stdout",
       "text": [
        "100004 32.73 (1058, 48) ../htwmusik-models/catalog2-gt-model/SD00600000323/010005.bin.png\r\n",
        "   TRU: u'NE: Rheinberger, Gabriel J.: [Thema mit Ver\\xe4nderungen, V1 1 2'\r\n",
        "   ALN: u'NE: Rheinberger, Gabriel J.: [Thema mit Ver\\xe4nderungen, V1 1 2'\r\n",
        "   OUT: u'N : Rheinterger, Gabriel J.: Thema mit Ver\\xe4nderungenn, V1 1 2'\r\n"
       ]
      },
      {
       "output_type": "stream",
       "stream": "stdout",
       "text": [
        "100005 30.97 (1007, 48) ../htwmusik-models/catalog2-gt-model/SD00600000272/010009.bin.png\r\n",
        "   TRU: u'[Org]. Ramin, G\\xfcnther [Dir]. Thomanerchor <Leipzig>.'\r\n",
        "   ALN: u'[Org]. Ramin, G\\xfcnther [Dir]. Thomanerchor <Leipzig>.'\r\n",
        "   OUT: u\"[Org]. Ramin, G6nther [Dir]. Thomanerchor Leipzig'\"\r\n"
       ]
      },
      {
       "output_type": "stream",
       "stream": "stdout",
       "text": [
        "100006 3.85 (470, 48) ../htwmusik-models/catalog2-gt-model/SD00600000323/010004.bin.png\r\n",
        "   TRU: u'Best.-Nr. Capella CTH 2061'\r\n",
        "   ALN: u'Best.-Nr. Capella CTH 2061'\r\n",
        "   OUT: u'Best.-Nr. Capella CTH 2061'\r\n"
       ]
      },
      {
       "output_type": "stream",
       "stream": "stdout",
       "text": [
        "100007 17.78 (1190, 48) ../htwmusik-models/catalog2-gt-model/SD00200000003/010008.bin.png\r\n",
        "   TRU: u'Wir gehn zu mir. Der Morgen auf dem Gipfel. Aus dem All. Am Fluss'\r\n",
        "   ALN: u'Wir gehn zu mir. Der Morgen auf dem Gipfel. Aus dem All. Am Fluss'\r\n",
        "   OUT: u'Wir gehn zu mir. Der Margen auf dem Gipfel. Aus dem Al1. Am Fluss'\r\n"
       ]
      },
      {
       "output_type": "stream",
       "stream": "stdout",
       "text": [
        "100008 17.37 (440, 48) ../htwmusik-models/catalog2-gt-model/SD00600000535/010002.bin.png\r\n",
        "   TRU: u'Best.-Nr. MD + G L 3379'\r\n",
        "   ALN: u'Best.-Nr. MD + G L 3379'\r\n",
        "   OUT: u'Best.-Nr. M0 + G L 3379'\r\n"
       ]
      },
      {
       "output_type": "stream",
       "stream": "stdout",
       "text": [
        "100009 18.05 (1007, 48) ../htwmusik-models/catalog2-gt-model/SD00600000272/010009.bin.png\r\n",
        "   TRU: u'[Org]. Ramin, G\\xfcnther [Dir]. Thomanerchor <Leipzig>.'\r\n",
        "   ALN: u'[Org]. Ramin, G\\xfcnther [Dir]. Thomanerchor <Leipzig>.'\r\n",
        "   OUT: u'[Org]. Ramin, G\\xfcnther [Dir]. Thomanerchor <Leipzig.'\r\n"
       ]
      },
      {
       "output_type": "stream",
       "stream": "stdout",
       "text": [
        "100010 21.17 (1017, 48) ../htwmusik-models/catalog2-gt-model/SD00600000272/010001.bin.png\r\n",
        "   TRU: u'Gewandhausorchester <Leipzig> 55 CD 1779 - 1,6'\r\n",
        "   ALN: u'Gewandhausorchester <Leipzig> 55 CD 1779 - 1,6'\r\n",
        "   OUT: u'Gewandhausorchester <Leipzig 55 CD 1779 - 1,6'\r\n"
       ]
      },
      {
       "output_type": "stream",
       "stream": "stdout",
       "text": [
        "100011 18.00 (740, 48) ../htwmusik-models/catalog2-gt-model/SD00200000245/010002.bin.png\r\n",
        "   TRU: u'Reimann Aribert: Das Schloss [Forts.]'\r\n",
        "   ALN: u'Reimann Aribert: Das Schloss [Forts.]'\r\n",
        "   OUT: u'Reimarn Aribert: Das Schloss [Forts .]'\r\n"
       ]
      },
      {
       "output_type": "stream",
       "stream": "stdout",
       "text": [
        "100012 3.07 (470, 48) ../htwmusik-models/catalog2-gt-model/SD00600000323/010004.bin.png\r\n",
        "   TRU: u'Best.-Nr. Capella CTH 2061'\r\n",
        "   ALN: u'Best.-Nr. Capella CTH 2061'\r\n",
        "   OUT: u'Best.-Nr. Capella CTH 2061'\r\n"
       ]
      },
      {
       "output_type": "stream",
       "stream": "stdout",
       "text": [
        "100013 9.03 (704, 48) ../htwmusik-models/catalog2-gt-model/SD00200000003/010005.bin.png\r\n",
        "   TRU: u'Vol. 4. - [1996]. - 1 Compact Disc + Beih.'\r\n",
        "   ALN: u'Vol. 4. - [1996]. - 1 Compact Disc + Beih.'\r\n",
        "   OUT: u'Vol. 4. - [1996]. - 1 Compact Disc + Beih.'\r\n"
       ]
      },
      {
       "output_type": "stream",
       "stream": "stdout",
       "text": [
        "100014 7.72 (1190, 48) ../htwmusik-models/catalog2-gt-model/SD00200000003/010008.bin.png\r\n",
        "   TRU: u'Wir gehn zu mir. Der Morgen auf dem Gipfel. Aus dem All. Am Fluss'\r\n",
        "   ALN: u'Wir gehn zu mir. Der Morgen auf dem Gipfel. Aus dem All. Am Fluss'\r\n",
        "   OUT: u'Wir gehn zu mir. Der Morgen auf dem Gipfel. Aus dem All. Am Fluss'\r\n"
       ]
      },
      {
       "output_type": "stream",
       "stream": "stdout",
       "text": [
        "100015 5.31 (258, 48) ../htwmusik-models/catalog2-gt-model/SD00600000258/010006.bin.png\r\n",
        "   TRU: u'55 CD 77 - 1'\r\n",
        "   ALN: u'55 CD 77 - 1'\r\n",
        "   OUT: u'55 CD 77 - 1'\r\n"
       ]
      },
      {
       "output_type": "stream",
       "stream": "stdout",
       "text": [
        "100016 28.27 (400, 48) ../htwmusik-models/catalog2-gt-model/SD00600000535/010001.bin.png\r\n",
        "   TRU: u'Fagottissimo [Forts.]'\r\n",
        "   ALN: u'Fagottissimo [Forts.]'\r\n",
        "   OUT: u'Fa ott1ssumo [Forts .]'\r\n"
       ]
      },
      {
       "output_type": "stream",
       "stream": "stdout",
       "text": [
        "100017 25.02 (956, 48) ../htwmusik-models/catalog2-gt-model/SD00600000323/010006.bin.png\r\n",
        "   TRU: u'Va Vc op. 93]; Rheinberger, Gabriel J.: [Nonette op. 139];'\r\n",
        "   ALN: u'Va Vc op. 93]; Rheinberger, Gabriel J.: [Nonette op. 139];'\r\n",
        "   OUT: u'Va Vc op. 93]; Rheinberger, 3abriel J.: INonette op. 135];'\r\n"
       ]
      },
      {
       "output_type": "stream",
       "stream": "stdout",
       "text": [
        "100018 14.40 (1114, 48) ../htwmusik-models/catalog2-gt-model/SD00600000272/01000a.bin.png\r\n",
        "   TRU: u'Gewandhausorchester <Leipzig>... - Auf.: 1949 - 1954. - P 1965 - 1966'\r\n",
        "   ALN: u'Gewandhausorchester <Leipzig>... - Auf.: 1949 - 1954. - P 1965 - 1966'\r\n",
        "   OUT: u'Gewandhausorchester <LeipzigP...- Aufh.: 1949 - 1954. -P 1965 - 1966'\r\n"
       ]
      },
      {
       "output_type": "stream",
       "stream": "stdout",
       "text": [
        "100019 45.45 (1110, 48) ../htwmusik-models/catalog2-gt-model/SD00200000003/010003.bin.png\r\n",
        "   TRU: u'Beatkiste : Hit-Rarit\\xe4ten aus dem DDR-Rundfunkarchiv. - Berlin :'\r\n",
        "   ALN: u'Beakse : Hit-Rarit\\xe4ten aus dem DDR-Rundfunkarchiv. - Berlin :'\r\n",
        "   OUT: u'E539 8 : Hit-Rarit\\xe4ten aus dem DDR-Rundfunkarchiv. - Berlin :'\r\n"
       ]
      },
      {
       "output_type": "stream",
       "stream": "stdout",
       "text": [
        "100020 0.98 (370, 48) ../htwmusik-models/catalog2-gt-model/SD00200000003/010004.bin.png\r\n",
        "   TRU: u'Edition Barbarossa.'\r\n",
        "   ALN: u'Edition Barbarossa.'\r\n",
        "   OUT: u'Edition Barbarossa.'\r\n"
       ]
      },
      {
       "output_type": "stream",
       "stream": "stdout",
       "text": [
        "100021 16.42 (805, 48) ../htwmusik-models/catalog2-gt-model/SD01200000085/010006.bin.png\r\n",
        "   TRU: u'Ne : Hassall, Christopher [Textverf.]; Interpr.'\r\n",
        "   ALN: u'Ne : Hassall, Christopher [Textverf.]; Interpr.'\r\n",
        "   OUT: u'NE : Hassall, Christopher [Textverf .]; Interpr.'\r\n"
       ]
      },
      {
       "output_type": "stream",
       "stream": "stdout",
       "text": [
        "100022 8.65 (740, 48) ../htwmusik-models/catalog2-gt-model/SD00200000245/010002.bin.png\r\n",
        "   TRU: u'Reimann Aribert: Das Schloss [Forts.]'\r\n",
        "   ALN: u'Reimann Aribert: Das Schloss [Forts.]'\r\n",
        "   OUT: u'Reiman Aribert: Das  Schloss [Forts.]'\r\n"
       ]
      },
      {
       "output_type": "stream",
       "stream": "stdout",
       "text": [
        "100023 8.16 (275, 48) ../htwmusik-models/catalog2-gt-model/SD00200000003/010002.bin.png\r\n",
        "   TRU: u'55 CD 289 - 4'\r\n",
        "   ALN: u'55 CD 289 - 4'\r\n",
        "   OUT: u'55 DD 2B9 - 4'\r\n"
       ]
      },
      {
       "output_type": "stream",
       "stream": "stdout",
       "text": [
        "100024 12.40 (141, 48) ../htwmusik-models/catalog2-gt-model/SD00600000535/010003.bin.png\r\n",
        "   TRU: u'CD 317'\r\n",
        "   ALN: u'CD 317'\r\n",
        "   OUT: u'cD 317'\r\n"
       ]
      },
      {
       "output_type": "stream",
       "stream": "stdout",
       "text": [
        "100025 17.97 (1058, 48) ../htwmusik-models/catalog2-gt-model/SD00600000323/010005.bin.png\r\n",
        "   TRU: u'NE: Rheinberger, Gabriel J.: [Thema mit Ver\\xe4nderungen, V1 1 2'\r\n",
        "   ALN: u'NE: Rheinberger, Gabriel J.: [Thema mit Ver\\xe4nderungen, V1 1 2'\r\n",
        "   OUT: u'NE: Rheinberger, Gabriel J.: [Thema mit Ver\\xe4nderungen, Vl 1 2'\r\n"
       ]
      },
      {
       "output_type": "stream",
       "stream": "stdout",
       "text": [
        "100026 24.67 (1110, 48) ../htwmusik-models/catalog2-gt-model/SD00200000003/010003.bin.png\r\n",
        "   TRU: u'Beatkiste : Hit-Rarit\\xe4ten aus dem DDR-Rundfunkarchiv. - Berlin :'\r\n",
        "   ALN: u'Beaaste : Hit-Rarit\\xe4ten aus dem DDR-Rundfunkarchiv. - Berlin :'\r\n",
        "   OUT: u'$959e : Hit-Rarit\\xe4ten aus dem DDR-Rundfunkarchiv. - Berlin :'\r\n"
       ]
      },
      {
       "output_type": "stream",
       "stream": "stdout",
       "text": [
        "100027 10.07 (1114, 48) ../htwmusik-models/catalog2-gt-model/SD00600000272/01000a.bin.png\r\n",
        "   TRU: u'Gewandhausorchester <Leipzig>... - Auf.: 1949 - 1954. - P 1965 - 1966'\r\n",
        "   ALN: u'Gewandhausorchester <Leipzig>... - Auf.: 1949 - 1954. - P 1965 - 1966'\r\n",
        "   OUT: u'Gewandhausorchester <Leipzig>...- Aufh.: 1949 - 1954. -P 1965 - 1966'\r\n"
       ]
      },
      {
       "output_type": "stream",
       "stream": "stdout",
       "text": [
        "100028 29.31 (1075, 48) ../htwmusik-models/catalog2-gt-model/SD00600000535/010006.bin.png\r\n",
        "   TRU: u'Ausw.]; Voert, Georg ter: [Polka in Swing]; Seiber, M\\xe1ty\\xe1s G.:'\r\n",
        "   ALN: u'Ausw.]; Voert, Georg ter: [Polka in Swing]; Seiber, M~ty~s G.:'\r\n",
        "   OUT: u'Ausw.]; Voert, Georg ter: [Polka in Swng]; Seiber, MStyas G. :'\r\n"
       ]
      },
      {
       "output_type": "stream",
       "stream": "stdout",
       "text": [
        "100029 10.29 (440, 48) ../htwmusik-models/catalog2-gt-model/SD00600000535/010002.bin.png\r\n",
        "   TRU: u'Best.-Nr. MD + G L 3379'\r\n",
        "   ALN: u'Best.-Nr. MD + G L 3379'\r\n",
        "   OUT: u'Best.-Nr. MD + G L 3379'\r\n"
       ]
      },
      {
       "output_type": "stream",
       "stream": "stdout",
       "text": [
        "100030 15.40 (1062, 48) ../htwmusik-models/catalog2-gt-model/SD00200000003/01000a.bin.png\r\n",
        "   TRU: u'Ein Augenblick der Z\\xe4rtlichkeit. Das Bild. Strassen, die dich'\r\n",
        "   ALN: u'Ein Augenblick der Z\\xe4rtlichkeit. Das Bild. Strassen, die dich'\r\n",
        "   OUT: u'Ein Augenblick der ZSrtl1chkeit. Das Bild. Strassen, die dich'\r\n"
       ]
      },
      {
       "output_type": "stream",
       "stream": "stdout",
       "text": [
        "100031 2.64 (470, 48) ../htwmusik-models/catalog2-gt-model/SD00600000323/010004.bin.png\r\n",
        "   TRU: u'Best.-Nr. Capella CTH 2061'\r\n",
        "   ALN: u'Best.-Nr. Capella CTH 2061'\r\n",
        "   OUT: u'Best.-Nr. Capella CTH 2061'\r\n"
       ]
      },
      {
       "output_type": "stream",
       "stream": "stdout",
       "text": [
        "100032 4.91 (956, 48) ../htwmusik-models/catalog2-gt-model/SD00600000323/010006.bin.png\r\n",
        "   TRU: u'Va Vc op. 93]; Rheinberger, Gabriel J.: [Nonette op. 139];'\r\n",
        "   ALN: u'Va Vc op. 93]; Rheinberger, Gabriel J.: [Nonette op. 139];'\r\n",
        "   OUT: u'Va Vc op. 93]; Rheinberger, Gabriel J.: [Nonette op. 139];'\r\n"
       ]
      },
      {
       "output_type": "stream",
       "stream": "stdout",
       "text": [
        "100033 78.18 (930, 48) ../htwmusik-models/catalog2-gt-model/SD00600000535/01000a.bin.png\r\n",
        "   TRU: u\"Peter: [Scherzo, Nocturno und Burlesca]; Prokof'ev, Sergej S.:\"\r\n",
        "   ALN: u\"Peter: [Scherzo, Nocturno udB r Bsca]; Prokof'ev, Sergej S.:\"\r\n",
        "   OUT: u\"Peter: (5cherzo, Nooturno V'  a]: Prowot'ev. Serge S.\"\r\n"
       ]
      },
      {
       "output_type": "stream",
       "stream": "stdout",
       "text": [
        "100034 36.27 (1134, 48) ../htwmusik-models/catalog2-gt-model/SD00600000535/010008.bin.png\r\n",
        "   TRU: u'Monti, Vittorio: [Czardas / Arr.]; Jakob, Gordon P.: [Prelude,'\r\n",
        "   ALN: u'Monti, Vittorio: [Czardas / Arr.]; Jakob, Gordon P.: [Prelude,'\r\n",
        "   OUT: u'Mont1, Vittorio: [Czardas / Arr .]; Jacotb, Gordon P.: [Prelude,'\r\n"
       ]
      },
      {
       "output_type": "stream",
       "stream": "stdout",
       "text": [
        "100035 6.23 (826, 48) ../htwmusik-models/catalog2-gt-model/SD00600000258/010003.bin.png\r\n",
        "   TRU: u'Beethoven Ludwig van: [Sinfonien] [Forts.]'\r\n",
        "   ALN: u'Beethoven Ludwi van: [Sinfonien] [Forts.]'\r\n",
        "   OUT: u'Beethoven Ludwi van: [Sinfonien] [Forts.]'\r\n"
       ]
      },
      {
       "output_type": "stream",
       "stream": "stdout",
       "text": [
        "100036 30.21 (497, 48) ../htwmusik-models/catalog2-gt-model/SD00200000245/010004.bin.png\r\n",
        "   TRU: u'Best.-Nr. Wergo Wer 6614-2'\r\n",
        "   ALN: u'Best.-Nr. Wergo Wer 6614-2'\r\n",
        "   OUT: u'Best.-Nr. Wergo WER 6614-2'\r\n"
       ]
      },
      {
       "output_type": "stream",
       "stream": "stdout",
       "text": [
        "100037 26.76 (1014, 48) ../htwmusik-models/catalog2-gt-model/SD00600000272/010005.bin.png\r\n",
        "   TRU: u'Enth.: Sei Lob und Ehr dem h\\xf6chsten Gut BWV 117. Ich ruf zu dir, Herr'\r\n",
        "   ALN: u'Enth.: Sei Lob und Ehr dem h\\xf6chsten Gut BWV 117. Ich ruf zu dir, Herr'\r\n",
        "   OUT: u'Enth.: Sei Lob und Ehr dem h6chsten Gut BWV I17. lch rufzu dir, Hert'\r\n"
       ]
      },
      {
       "output_type": "stream",
       "stream": "stdout",
       "text": [
        "100038 21.30 (1185, 48) ../htwmusik-models/catalog2-gt-model/SD00200000003/010006.bin.png\r\n",
        "   TRU: u'Enth.: Jagd auf Liebe. Steigen Nebel. Zu Fuss. Tshgiten-Legende'\r\n",
        "   ALN: u'Enth.: Jagd auf Liebe. Steigen Nebel. Zu Fuss. Tshgiten-Legende'\r\n",
        "   OUT: u'Enth.: Jagd auf Liebe. Steigen Nebel. u Fuss. Tshigiten-Legende.'\r\n"
       ]
      },
      {
       "output_type": "stream",
       "stream": "stdout",
       "text": [
        "100039 0.52 (173, 48) ../htwmusik-models/catalog2-gt-model/SD00600000323/010007.bin.png\r\n",
        "   TRU: u'Interpr.'\r\n",
        "   ALN: u'Interpr.'\r\n",
        "   OUT: u'Interpr.'\r\n"
       ]
      },
      {
       "output_type": "stream",
       "stream": "stdout",
       "text": [
        "100040 18.51 (1185, 48) ../htwmusik-models/catalog2-gt-model/SD00200000003/010006.bin.png\r\n",
        "   TRU: u'Enth.: Jagd auf Liebe. Steigen Nebel. Zu Fuss. Tshgiten-Legende'\r\n",
        "   ALN: u'Enth.: Jagd auf Liebe. Steigen Nebel. Zu Fuss. Tshgiten-Legende'\r\n",
        "   OUT: u'Enth.: Jagd auf Liebe. Steigen Nebel. u Fuss. Tshigiten-Legende.'\r\n"
       ]
      },
      {
       "output_type": "stream",
       "stream": "stdout",
       "text": [
        "100041 9.30 (788, 48) ../htwmusik-models/catalog2-gt-model/SD00600000272/010006.bin.png\r\n",
        "   TRU: u'Jesu Christ BWV 177. Ein ungef\\xe4rbt Gem\\xfcte BWV 24.'\r\n",
        "   ALN: u'Jesu Christ BWV 177. Ein ungef\\xe4rbt Gem\\xfcte BWV 24.'\r\n",
        "   OUT: u'Jesu Christ BWV 177. Ein ungeflrbt Gem\\xfcte BWV 24.'\r\n"
       ]
      },
      {
       "output_type": "stream",
       "stream": "stdout",
       "text": [
        "100042 9.18 (888, 48) ../htwmusik-models/catalog2-gt-model/SD01200000085/010003.bin.png\r\n",
        "   TRU: u'Walton William: Troilus and Cressida [Forts.]'\r\n",
        "   ALN: u'Walton William: Troilus and Cressida [Forts.]'\r\n",
        "   OUT: u'Walton Wlliam: Troilus and Cressida [Forts.]'\r\n"
       ]
      },
      {
       "output_type": "stream",
       "stream": "stdout",
       "text": [
        "100043 17.59 (400, 48) ../htwmusik-models/catalog2-gt-model/SD00600000535/010001.bin.png\r\n",
        "   TRU: u'Fagottissimo [Forts.]'\r\n",
        "   ALN: u'Fagottissimo [Forts.]'\r\n",
        "   OUT: u'Fa ottissumo [Forts.]'\r\n"
       ]
      },
      {
       "output_type": "stream",
       "stream": "stdout",
       "text": [
        "100044 35.13 (908, 48) ../htwmusik-models/catalog2-gt-model/SD00600000323/010003.bin.png\r\n",
        "   TRU: u'Auf.: Walldorf, 1989 u. New York City, 1981. - P 1989'\r\n",
        "   ALN: u'Auf.: Walldorf, 1989 u. Neew York City, 1981. - P 1989'\r\n",
        "   OUT: u'Aufn.: Walldorf, 1989 u. .-=w York City, 1981. - P i989.'\r\n"
       ]
      },
      {
       "output_type": "stream",
       "stream": "stdout",
       "text": [
        "100045 28.58 (661, 48) ../htwmusik-models/catalog2-gt-model/SD01200000085/010001.bin.png\r\n",
        "   TRU: u'Opera North <Leeds> / Chorus'\r\n",
        "   ALN: u'Opera North <<Leeds> / Chorus'\r\n",
        "   OUT: u'Dpera North lLeeds> / Chorus'\r\n"
       ]
      },
      {
       "output_type": "stream",
       "stream": "stdout",
       "text": [
        "100046 8.79 (258, 48) ../htwmusik-models/catalog2-gt-model/SD00600000258/010006.bin.png\r\n",
        "   TRU: u'55 CD 77 - 1'\r\n",
        "   ALN: u'55 CD 77 - 1'\r\n",
        "   OUT: u'5S CD 77 - 1'\r\n"
       ]
      },
      {
       "output_type": "stream",
       "stream": "stdout",
       "text": [
        "100047 7.42 (762, 48) ../htwmusik-models/catalog2-gt-model/SD00600000258/010005.bin.png\r\n",
        "   TRU: u'NE : Beethoven, Ludwig van: Ser.; Interpr.'\r\n",
        "   ALN: u'NE : Beethoven, Ludwwig van: Ser.; Interpr.'\r\n",
        "   OUT: u'NE : Beethoven, Ludig van: Ser.; Interpr.'\r\n"
       ]
      },
      {
       "output_type": "stream",
       "stream": "stdout",
       "text": [
        "100048 1.70 (470, 48) ../htwmusik-models/catalog2-gt-model/SD00600000323/010004.bin.png\r\n",
        "   TRU: u'Best.-Nr. Capella CTH 2061'\r\n",
        "   ALN: u'Best.-Nr. Capella CTH 2061'\r\n",
        "   OUT: u'Best.-Nr. Capella CTH 2061'\r\n"
       ]
      },
      {
       "output_type": "stream",
       "stream": "stdout",
       "text": [
        "100049 44.92 (656, 48) ../htwmusik-models/catalog2-gt-model/SD00200000608/010003.bin.png\r\n",
        "   TRU: u'Klav\\u01d0rn\\u01d0 Kvarteto Bohuslava Martim\\u016f'\r\n",
        "   ALN: u'Klav~rn~ Kvarteto Bohuslava Martim~'\r\n",
        "   OUT: u'Klavirni Kvarteto Bohuslava MartinG'\r\n"
       ]
      },
      {
       "output_type": "stream",
       "stream": "stdout",
       "text": [
        "100050 8.36 (1007, 48) ../htwmusik-models/catalog2-gt-model/SD00600000272/010009.bin.png\r\n",
        "   TRU: u'[Org]. Ramin, G\\xfcnther [Dir]. Thomanerchor <Leipzig>.'\r\n",
        "   ALN: u'[Org]. Ramin, G\\xfcnther [Dir]. Thomanerchor <Leipzig>.'\r\n",
        "   OUT: u'[Org]. Ramin, GDnther [Dir]. Thomanerchor <Leipzig-.'\r\n"
       ]
      },
      {
       "output_type": "stream",
       "stream": "stdout",
       "text": [
        "100051 7.09 (1062, 48) ../htwmusik-models/catalog2-gt-model/SD00200000003/01000a.bin.png\r\n",
        "   TRU: u'Ein Augenblick der Z\\xe4rtlichkeit. Das Bild. Strassen, die dich'\r\n",
        "   ALN: u'Ein Augenblick der Z\\xe4rtlichkeit. Das Bild. Strassen, die dich'\r\n",
        "   OUT: u'Ein Augenblick der ZSrtlichkeit. Das Bild. Strassen, die dich'\r\n"
       ]
      },
      {
       "output_type": "stream",
       "stream": "stdout",
       "text": [
        "100052 7.58 (1007, 48) ../htwmusik-models/catalog2-gt-model/SD00600000272/010009.bin.png\r\n",
        "   TRU: u'[Org]. Ramin, G\\xfcnther [Dir]. Thomanerchor <Leipzig>.'\r\n",
        "   ALN: u'[Org]. Ramin, G\\xfcnther [Dir]. Thomanerchor <Leipzig>.'\r\n",
        "   OUT: u'[Org]. Ramin, G\\xfcnther [Dir]. Thomanerchor <Leipzig.'\r\n"
       ]
      },
      {
       "output_type": "stream",
       "stream": "stdout",
       "text": [
        "100053 56.55 (930, 48) ../htwmusik-models/catalog2-gt-model/SD00600000535/01000a.bin.png\r\n",
        "   TRU: u\"Peter: [Scherzo, Nocturno und Burlesca]; Prokof'ev, Sergej S.:\"\r\n",
        "   ALN: u\"Peter: [Scherzo, Nocturno ud uulrBuesca]; Prokof'ev, Sergej S.:\"\r\n",
        "   OUT: u\"Peter: (Scherzo, Nocturno w Ma]: Prokor'ev, Serge S-\"\r\n"
       ]
      },
      {
       "output_type": "stream",
       "stream": "stdout",
       "text": [
        "100054 52.78 (405, 48) ../htwmusik-models/catalog2-gt-model/SD00600000272/010002.bin.png\r\n",
        "   TRU: u'Bach, Johann Sebastian:'\r\n",
        "   ALN: u'Bach Johann Sebastian:'\r\n",
        "   OUT: u'B ch J h nn ebastian:'\r\n"
       ]
      },
      {
       "output_type": "stream",
       "stream": "stdout",
       "text": [
        "100055 4.94 (762, 48) ../htwmusik-models/catalog2-gt-model/SD00600000258/010005.bin.png\r\n",
        "   TRU: u'NE : Beethoven, Ludwig van: Ser.; Interpr.'\r\n",
        "   ALN: u'NE : Beethoven, Ludwig van: Ser.; Interpr.'\r\n",
        "   OUT: u'NE : Beethoven, Ludig van: Ser.; Interpr.'\r\n"
       ]
      },
      {
       "output_type": "stream",
       "stream": "stdout",
       "text": [
        "100056 55.09 (930, 48) ../htwmusik-models/catalog2-gt-model/SD00600000535/01000a.bin.png\r\n",
        "   TRU: u\"Peter: [Scherzo, Nocturno und Burlesca]; Prokof'ev, Sergej S.:\"\r\n",
        "   ALN: u\"Peter: [Scherzo, Nocturno ududuulBrrca]; Prokof'ev, Sergej S.:\"\r\n",
        "   OUT: u\"Peter: (Scherzo, Nocturno a]: Prokor'ev, Sergej S.\"\r\n"
       ]
      },
      {
       "output_type": "stream",
       "stream": "stdout",
       "text": [
        "100057 5.54 (119, 48) ../htwmusik-models/catalog2-gt-model/SD00600000323/010001.bin.png\r\n",
        "   TRU: u'CD 38'\r\n",
        "   ALN: u'CD 38'\r\n",
        "   OUT: u'CD 3e'\r\n"
       ]
      },
      {
       "output_type": "stream",
       "stream": "stdout",
       "text": [
        "100058 1.09 (258, 48) ../htwmusik-models/catalog2-gt-model/SD00600000258/010006.bin.png\r\n",
        "   TRU: u'55 CD 77 - 1'\r\n",
        "   ALN: u'55 CD 77 - 1'\r\n",
        "   OUT: u'55 CD 77 - 1'\r\n"
       ]
      },
      {
       "output_type": "stream",
       "stream": "stdout",
       "text": [
        "100059 22.10 (1017, 48) ../htwmusik-models/catalog2-gt-model/SD00600000272/010001.bin.png\r\n",
        "   TRU: u'Gewandhausorchester <Leipzig> 55 CD 1779 - 1,6'\r\n",
        "   ALN: u'Gewandhausorchester <Leipzig> 55 CD 1779 - 1,6'\r\n",
        "   OUT: u'Gewandhmusorchester <Leipzig S5 CD 1779 - 1,6'\r\n"
       ]
      },
      {
       "output_type": "stream",
       "stream": "stdout",
       "text": [
        "100060 3.35 (956, 48) ../htwmusik-models/catalog2-gt-model/SD00600000323/010006.bin.png\r\n",
        "   TRU: u'Va Vc op. 93]; Rheinberger, Gabriel J.: [Nonette op. 139];'\r\n",
        "   ALN: u'Va Vc op. 93]; Rheinberger, Gabriel J.: [Nonette op. 139];'\r\n",
        "   OUT: u'Va Vc op. 93]; Rheinberger, Gabriel J.: [Nonette op. 139];'\r\n"
       ]
      },
      {
       "output_type": "stream",
       "stream": "stdout",
       "text": [
        "100061 7.78 (864, 48) ../htwmusik-models/catalog2-gt-model/SD00600000272/010003.bin.png\r\n",
        "   TRU: u'[Kantaten / Ausw.] Cantatas / Bach. - Hamburg : Edel.'\r\n",
        "   ALN: u'[Kantaten / Ausw.] Cantatas / Bach. - Hamburg  : Edel.'\r\n",
        "   OUT: u'[Kantaten / Ausw.] Cantatas / Bach. - Hamburg  : Edel.'\r\n"
       ]
      },
      {
       "output_type": "stream",
       "stream": "stdout",
       "text": [
        "100062 8.61 (1141, 48) ../htwmusik-models/catalog2-gt-model/SD00200000003/010009.bin.png\r\n",
        "   TRU: u'die Weide. Einmal unsichtbar sein. Schwester. Heisses Land.'\r\n",
        "   ALN: u'die Weide. Einmal unsichtbar sein. Schwester. Heisses Land.'\r\n",
        "   OUT: u'die Weide. Eirmal unsichtbar sein. Schwester. Heisses Land.'\r\n"
       ]
      },
      {
       "output_type": "stream",
       "stream": "stdout",
       "text": [
        "100063 12.87 (740, 48) ../htwmusik-models/catalog2-gt-model/SD00200000245/010002.bin.png\r\n",
        "   TRU: u'Reimann Aribert: Das Schloss [Forts.]'\r\n",
        "   ALN: u'Reimann Aribert: Das  Schloss [Forts.]'\r\n",
        "   OUT: u'Reiman Aribert: Oas  Schloss [Forts.]'\r\n"
       ]
      },
      {
       "output_type": "stream",
       "stream": "stdout",
       "text": [
        "100064 2.05 (888, 48) ../htwmusik-models/catalog2-gt-model/SD01200000085/010003.bin.png\r\n",
        "   TRU: u'Walton William: Troilus and Cressida [Forts.]'\r\n",
        "   ALN: u'Walton William: Troilus and Cressida [Forts.]'\r\n",
        "   OUT: u'Walton William: Troilus and Cressida [Forts.]'\r\n"
       ]
      },
      {
       "output_type": "stream",
       "stream": "stdout",
       "text": [
        "100065 7.66 (1017, 48) ../htwmusik-models/catalog2-gt-model/SD00600000272/010001.bin.png\r\n",
        "   TRU: u'Gewandhausorchester <Leipzig> 55 CD 1779 - 1,6'\r\n",
        "   ALN: u'Gewandhausorchester <Leipzig> 55 CD 1779 - 1,6'\r\n",
        "   OUT: u'Gewandhausorchester <Leipzig 55 CD 1779 - 1,6'\r\n"
       ]
      },
      {
       "output_type": "stream",
       "stream": "stdout",
       "text": [
        "100066 33.42 (1023, 48) ../htwmusik-models/catalog2-gt-model/SD00600000323/010002.bin.png\r\n",
        "   TRU: u'Rheinberger Gabriel J.: [Trios, V1 Vc Kl op. 112] [Forts.]'\r\n",
        "   ALN: u'Rheinberger Gabriel J.: [Trios, V1 Vc Kl op. 112] [Forts.]'\r\n",
        "   OUT: u'Rheinber er Gabriel J.: [Trios, V1 Vc K1 op. l12] [Forts .]'\r\n"
       ]
      },
      {
       "output_type": "stream",
       "stream": "stdout",
       "text": [
        "100067 3.55 (440, 48) ../htwmusik-models/catalog2-gt-model/SD00600000535/010002.bin.png\r\n",
        "   TRU: u'Best.-Nr. MD + G L 3379'\r\n",
        "   ALN: u'Best.-Nr. MD + G L 3379'\r\n",
        "   OUT: u'Best.-Nr. MD + G L 3379'\r\n"
       ]
      },
      {
       "output_type": "stream",
       "stream": "stdout",
       "text": [
        "100068 7.62 (1114, 48) ../htwmusik-models/catalog2-gt-model/SD00200000003/010007.bin.png\r\n",
        "   TRU: u'Hoffnung. Fort f\\xfcr einen Abend. Welt im Sand. Weisst du noch.'\r\n",
        "   ALN: u'Hoffnung. Fort f\\xfcr einen Abend. Welt im Sand. Weisst du noch.'\r\n",
        "   OUT: u'Hoffnung. Fort f\\xfcr einen Abend. Welt im Sand. Weisst du noch.'\r\n"
       ]
      },
      {
       "output_type": "stream",
       "stream": "stdout",
       "text": [
        "100069 6.81 (1017, 48) ../htwmusik-models/catalog2-gt-model/SD00600000272/010001.bin.png\r\n",
        "   TRU: u'Gewandhausorchester <Leipzig> 55 CD 1779 - 1,6'\r\n",
        "   ALN: u'Gewandhausorchester <Leipzig> 55 CD 1779 - 1,6'\r\n",
        "   OUT: u'Gewandhausorchester <Leipzig 55 CD 1779 - 1,6'\r\n"
       ]
      },
      {
       "output_type": "stream",
       "stream": "stdout",
       "text": [
        "100070 3.13 (275, 48) ../htwmusik-models/catalog2-gt-model/SD00200000003/010002.bin.png\r\n",
        "   TRU: u'55 CD 289 - 4'\r\n",
        "   ALN: u'55 CD 289 - 4'\r\n",
        "   OUT: u'55 CD 289 - 4'\r\n"
       ]
      },
      {
       "output_type": "stream",
       "stream": "stdout",
       "text": [
        "100071 5.34 (1017, 48) ../htwmusik-models/catalog2-gt-model/SD00600000272/010001.bin.png\r\n",
        "   TRU: u'Gewandhausorchester <Leipzig> 55 CD 1779 - 1,6'\r\n",
        "   ALN: u'Gewandhausorchester <Leipzig> 55 CD 1779 - 1,6'\r\n",
        "   OUT: u'Gewandhausorchester <Leipzig 55 CD 1779 - 1,6'\r\n"
       ]
      },
      {
       "output_type": "stream",
       "stream": "stdout",
       "text": [
        "100072 27.60 (1023, 48) ../htwmusik-models/catalog2-gt-model/SD00600000323/010002.bin.png\r\n",
        "   TRU: u'Rheinberger Gabriel J.: [Trios, V1 Vc Kl op. 112] [Forts.]'\r\n",
        "   ALN: u'Rheinberger Gabriel J.: [Trios, V1 Vc Kl op. 112] [Forts.]'\r\n",
        "   OUT: u'Rheinber er Gabriel J.: [Trios, V1 Vc Kl op. 112] [Forts .]'\r\n"
       ]
      },
      {
       "output_type": "stream",
       "stream": "stdout",
       "text": [
        "100073 0.95 (258, 48) ../htwmusik-models/catalog2-gt-model/SD00600000258/010006.bin.png\r\n",
        "   TRU: u'55 CD 77 - 1'\r\n",
        "   ALN: u'55 CD 77 - 1'\r\n",
        "   OUT: u'55 CD 77 - 1'\r\n"
       ]
      },
      {
       "output_type": "stream",
       "stream": "stdout",
       "text": [
        "100074 7.76 (788, 48) ../htwmusik-models/catalog2-gt-model/SD00600000272/010006.bin.png\r\n",
        "   TRU: u'Jesu Christ BWV 177. Ein ungef\\xe4rbt Gem\\xfcte BWV 24.'\r\n",
        "   ALN: u'Jesu Christ BWV 177. Ein ungef\\xe4rbt Gem\\xfcte BWV 24.'\r\n",
        "   OUT: u'Jesu Christ BWV 177. Ein ungeflrbt Gem\\xfcte BWV 24.'\r\n"
       ]
      },
      {
       "output_type": "stream",
       "stream": "stdout",
       "text": [
        "100075 0.68 (173, 48) ../htwmusik-models/catalog2-gt-model/SD00600000323/010007.bin.png\r\n",
        "   TRU: u'Interpr.'\r\n",
        "   ALN: u'Interpr.'\r\n",
        "   OUT: u'Interpr.'\r\n"
       ]
      },
      {
       "output_type": "stream",
       "stream": "stdout",
       "text": [
        "100076 16.26 (1134, 48) ../htwmusik-models/catalog2-gt-model/SD00600000535/010008.bin.png\r\n",
        "   TRU: u'Monti, Vittorio: [Czardas / Arr.]; Jakob, Gordon P.: [Prelude,'\r\n",
        "   ALN: u'Monti, Vittorio: [Czardas / Arr.]; Jakob, Gordon P.: [Prelude,'\r\n",
        "   OUT: u'Monti, Vittorio: [Czardas / Arr .]; Jacob, Gordon P.: [Prelude,'\r\n"
       ]
      },
      {
       "output_type": "stream",
       "stream": "stdout",
       "text": [
        "100077 1.15 (888, 48) ../htwmusik-models/catalog2-gt-model/SD01200000085/010003.bin.png\r\n",
        "   TRU: u'Walton William: Troilus and Cressida [Forts.]'\r\n",
        "   ALN: u'Walton William: Troilus and Cressida [Forts.]'\r\n",
        "   OUT: u'Walton William: Troilus and Cressida [Forts.]'\r\n"
       ]
      },
      {
       "output_type": "stream",
       "stream": "stdout",
       "text": [
        "100078 26.61 (1110, 48) ../htwmusik-models/catalog2-gt-model/SD00200000003/010003.bin.png\r\n",
        "   TRU: u'Beatkiste : Hit-Rarit\\xe4ten aus dem DDR-Rundfunkarchiv. - Berlin :'\r\n",
        "   ALN: u'Beatkttee : Hit-Rarit\\xe4ten aus dem DDR-Rundfunkarchiv. - Berlin :'\r\n",
        "   OUT: u' : Hit-Rarit\\xe4ten aus dem DDR-Rundfunkarchiv. - Berlin :'\r\n"
       ]
      },
      {
       "output_type": "stream",
       "stream": "stdout",
       "text": [
        "100079 2.29 (235, 48) ../htwmusik-models/catalog2-gt-model/SD00200000245/010005.bin.png\r\n",
        "   TRU: u'NE: Interpr.'\r\n",
        "   ALN: u'NE: Interpr.'\r\n",
        "   OUT: u'NE : Interpr.'\r\n"
       ]
      },
      {
       "output_type": "stream",
       "stream": "stdout",
       "text": [
        "100080 31.19 (908, 48) ../htwmusik-models/catalog2-gt-model/SD00600000323/010003.bin.png\r\n",
        "   TRU: u'Auf.: Walldorf, 1989 u. New York City, 1981. - P 1989'\r\n",
        "   ALN: u'Auf.: Walldorf, 1989 u. New York City, 1981. - P 1989'\r\n",
        "   OUT: u'Aufn.: Walldorf, 1989 u. .aw York City, 1981. - P 1989.'\r\n"
       ]
      },
      {
       "output_type": "stream",
       "stream": "stdout",
       "text": [
        "100081 4.77 (762, 48) ../htwmusik-models/catalog2-gt-model/SD00600000258/010005.bin.png\r\n",
        "   TRU: u'NE : Beethoven, Ludwig van: Ser.; Interpr.'\r\n",
        "   ALN: u'NE : Beethoven, Ludwig van: Ser.; Interpr.'\r\n",
        "   OUT: u'NE : Beethoven, Lud4ig van: Ser.; Interpr.'\r\n"
       ]
      },
      {
       "output_type": "stream",
       "stream": "stdout",
       "text": [
        "100082 6.25 (740, 48) ../htwmusik-models/catalog2-gt-model/SD00200000245/010002.bin.png\r\n",
        "   TRU: u'Reimann Aribert: Das Schloss [Forts.]'\r\n",
        "   ALN: u'Reimann Aribert: Das  Schloss [Forts.]'\r\n",
        "   OUT: u'Reimann Aribert: Das  Schloss [Forts.]'\r\n"
       ]
      },
      {
       "output_type": "stream",
       "stream": "stdout",
       "text": [
        "100083 5.49 (864, 48) ../htwmusik-models/catalog2-gt-model/SD00600000272/010003.bin.png\r\n",
        "   TRU: u'[Kantaten / Ausw.] Cantatas / Bach. - Hamburg : Edel.'\r\n",
        "   ALN: u'[Kantaten / Ausw.] Cantatas / Bach. - Hamburg  : Edel.'\r\n",
        "   OUT: u'[Kantaten / Ausw.] Cantatas / Bach.- Hamburg : Edel.'\r\n"
       ]
      },
      {
       "output_type": "stream",
       "stream": "stdout",
       "text": [
        "100084 2.73 (956, 48) ../htwmusik-models/catalog2-gt-model/SD00600000323/010006.bin.png\r\n",
        "   TRU: u'Va Vc op. 93]; Rheinberger, Gabriel J.: [Nonette op. 139];'\r\n",
        "   ALN: u'Va Vc op. 93]; Rheinberger, Gabriel J.: [Nonette op. 139];'\r\n",
        "   OUT: u'Va Vc op. 93]; Rheinberger, Gabriel J.: [Nonette op. 139];'\r\n"
       ]
      },
      {
       "output_type": "stream",
       "stream": "stdout",
       "text": [
        "100085 4.42 (762, 48) ../htwmusik-models/catalog2-gt-model/SD00600000258/010005.bin.png\r\n",
        "   TRU: u'NE : Beethoven, Ludwig van: Ser.; Interpr.'\r\n",
        "   ALN: u'NE : Beethoven, Ludwig van: Ser.; Interpr.'\r\n",
        "   OUT: u'NE : Beethoven, Ludig van: Ser.; Interpr.'\r\n"
       ]
      },
      {
       "output_type": "stream",
       "stream": "stdout",
       "text": [
        "100086 5.28 (704, 48) ../htwmusik-models/catalog2-gt-model/SD00200000003/010005.bin.png\r\n",
        "   TRU: u'Vol. 4. - [1996]. - 1 Compact Disc + Beih.'\r\n",
        "   ALN: u'Vol. 4. - [1996]. - 1 Compact Disc + Beih.'\r\n",
        "   OUT: u'Vol. 4. - [1996]. - 1 Compact Disc  Beih.'\r\n"
       ]
      },
      {
       "output_type": "stream",
       "stream": "stdout",
       "text": [
        "100087 12.86 (1134, 48) ../htwmusik-models/catalog2-gt-model/SD00600000535/010008.bin.png\r\n",
        "   TRU: u'Monti, Vittorio: [Czardas / Arr.]; Jakob, Gordon P.: [Prelude,'\r\n",
        "   ALN: u'Monti, Vittorio: [Czardas / Arr.]; Jakob, Gordon P.: [Prelude,'\r\n",
        "   OUT: u'Monti, Vittorio: [Czardas / Arr .]; Jarob, Gordon P.: [Prelude,'\r\n"
       ]
      },
      {
       "output_type": "stream",
       "stream": "stdout",
       "text": [
        "100088 5.64 (826, 48) ../htwmusik-models/catalog2-gt-model/SD00600000258/010003.bin.png\r\n",
        "   TRU: u'Beethoven Ludwig van: [Sinfonien] [Forts.]'\r\n",
        "   ALN: u'Beethoven Ludwi van: [Sinfonien] [Forts.]'\r\n",
        "   OUT: u'Beethoven Ludwi van: [Sinfonien] [Forts.]'\r\n"
       ]
      },
      {
       "output_type": "stream",
       "stream": "stdout",
       "text": [
        "100089 6.01 (1190, 48) ../htwmusik-models/catalog2-gt-model/SD00200000003/010008.bin.png\r\n",
        "   TRU: u'Wir gehn zu mir. Der Morgen auf dem Gipfel. Aus dem All. Am Fluss'\r\n",
        "   ALN: u'Wir gehn zu mir. Der Morgen auf dem Gipfel. Aus dem All. Am Fluss'\r\n",
        "   OUT: u'Wir gehn zu mir. Der Morgen auf dem Gipfel. Aus dem All. Am Fluss'\r\n"
       ]
      },
      {
       "output_type": "stream",
       "stream": "stdout",
       "text": [
        "100090 17.27 (281, 48) ../htwmusik-models/catalog2-gt-model/SD01200000085/010002.bin.png\r\n",
        "   TRU: u'55 CD 105 - 1.2'\r\n",
        "   ALN: u'55 CD 105 - 1.2'\r\n",
        "   OUT: u'55 CD io5 - 1.2'\r\n"
       ]
      },
      {
       "output_type": "stream",
       "stream": "stdout",
       "text": [
        "100091 3.21 (1017, 48) ../htwmusik-models/catalog2-gt-model/SD00600000272/010001.bin.png\r\n",
        "   TRU: u'Gewandhausorchester <Leipzig> 55 CD 1779 - 1,6'\r\n",
        "   ALN: u'Gewandhausorchester <Leipzig> 55 CD 1779 - 1,6'\r\n",
        "   OUT: u'Gewandhausorchester <Leipzig> 55 CD 1779 - 1,6'\r\n"
       ]
      },
      {
       "output_type": "stream",
       "stream": "stdout",
       "text": [
        "100092 3.94 (1114, 48) ../htwmusik-models/catalog2-gt-model/SD00200000003/010007.bin.png\r\n",
        "   TRU: u'Hoffnung. Fort f\\xfcr einen Abend. Welt im Sand. Weisst du noch.'\r\n",
        "   ALN: u'Hoffnung. Fort f\\xfcr einen Abend. Welt im Sand. Weisst du noch.'\r\n",
        "   OUT: u'Hoffnung. Fort f\\xfcr einen Abend. Welt im Sand. Weisst du noch.'\r\n"
       ]
      },
      {
       "output_type": "stream",
       "stream": "stdout",
       "text": [
        "100093 21.36 (1122, 48) ../htwmusik-models/catalog2-gt-model/SD00600000272/010004.bin.png\r\n",
        "   TRU: u'6. - [1999]. - 1 Compact Disc + Beih. - (Bach - Made in Germany : Vol. 1, 6)'\r\n",
        "   ALN: u'6. - [1999]. - 1 Compact Disc + Beih. - (Bach - Made in Germany : Vol. 1, 6)'\r\n",
        "   OUT: u'6. - [1999]. - 1 Compact Disc r Beih. - (Bach - Made in Germany ; Vol. 1, 6l'\r\n"
       ]
      },
      {
       "output_type": "stream",
       "stream": "stdout",
       "text": [
        "100094 1.73 (277, 48) ../htwmusik-models/catalog2-gt-model/SD00200000003/01000b.bin.png\r\n",
        "   TRU: u'weiterf\\xfchren.'\r\n",
        "   ALN: u'weiterf\\xfchren.'\r\n",
        "   OUT: u'weiterfi\\xfchren.'\r\n"
       ]
      },
      {
       "output_type": "stream",
       "stream": "stdout",
       "text": [
        "100095 85.44 (1004, 48) ../htwmusik-models/catalog2-gt-model/SD00200000003/01000c.bin.png\r\n",
        "   TRU: u'Interbr.: Rosalili. Lift. Babylon. Keks. Puhdys. Karat'\r\n",
        "   ALN: u'Interbr.: Rosalili. Lift. Babbybon. Keks. Puhdys. Karatb'\r\n",
        "   OUT: u'Interbr.: Rosalili. Lift. Big Nress. Keks. Puhdys. Karat.'\r\n"
       ]
      },
      {
       "output_type": "stream",
       "stream": "stdout",
       "text": [
        "100096 12.10 (1114, 48) ../htwmusik-models/catalog2-gt-model/SD00600000272/01000a.bin.png\r\n",
        "   TRU: u'Gewandhausorchester <Leipzig>... - Auf.: 1949 - 1954. - P 1965 - 1966'\r\n",
        "   ALN: u'Gewandhausorchester <Leipzig>... - Auf.: 1949 - 1954. - P 1965 - 1966'\r\n",
        "   OUT: u'Gewandhausorchester <Leipzig>... - Aufh.: 1949 - 1954, -P 1965 - 1966'\r\n"
       ]
      },
      {
       "output_type": "stream",
       "stream": "stdout",
       "text": [
        "100097 19.61 (1122, 48) ../htwmusik-models/catalog2-gt-model/SD00600000272/010004.bin.png\r\n",
        "   TRU: u'6. - [1999]. - 1 Compact Disc + Beih. - (Bach - Made in Germany : Vol. 1, 6)'\r\n",
        "   ALN: u'6. - [1999]. - 1 Compact Disc + Beih. - (Bach - Made in Germany : Vol. 1, 6)'\r\n",
        "   OUT: u'6. - [1999]. - 1 Compact Disc r Beih. - (Bach - Made in Germany ; Vol. 1, 6h'\r\n"
       ]
      },
      {
       "output_type": "stream",
       "stream": "stdout",
       "text": [
        "100098 0.17 (132, 48) ../htwmusik-models/catalog2-gt-model/SD00200000608/010002.bin.png\r\n",
        "   TRU: u'siehe'\r\n",
        "   ALN: u'siehe'\r\n",
        "   OUT: u'siehe'\r\n"
       ]
      },
      {
       "output_type": "stream",
       "stream": "stdout",
       "text": [
        "100099 15.26 (1042, 48) ../htwmusik-models/catalog2-gt-model/SD00600000535/010005.bin.png\r\n",
        "   TRU: u'[Pigs]; Weissenborn, Christian J.: [Stucke, Fg 1 2 3 op. 4 /'\r\n",
        "   ALN: u'[Pigs]; Weissenborn, Christian J.: [Stucke, Fg 1 2 3 op. 4 /'\r\n",
        "   OUT: u'[Pigs]; eissenborn, Christian J.: [Stucke, Fg 1 2 3 op. 4 /'\r\n"
       ]
      },
      {
       "output_type": "stream",
       "stream": "stdout",
       "text": [
        "100100 4.86 (826, 48) ../htwmusik-models/catalog2-gt-model/SD00600000258/010003.bin.png\r\n",
        "   TRU: u'Beethoven Ludwig van: [Sinfonien] [Forts.]'\r\n",
        "   ALN: u'Beethoven Ludwi van: [Sinfonien] [Forts.]'\r\n",
        "   OUT: u'Beethoven Ludwi van: [Sinfonien] [Forts.]'\r\n"
       ]
      },
      {
       "output_type": "stream",
       "stream": "stdout",
       "text": [
        "100101 2.54 (1114, 48) ../htwmusik-models/catalog2-gt-model/SD00200000003/010007.bin.png\r\n",
        "   TRU: u'Hoffnung. Fort f\\xfcr einen Abend. Welt im Sand. Weisst du noch.'\r\n",
        "   ALN: u'Hoffnung. Fort f\\xfcr einen Abend. Welt im Sand. Weisst du noch.'\r\n",
        "   OUT: u'Hoffnung. Fort f\\xfcr einen Abend. Welt im Sand. Weisst du noch.'\r\n"
       ]
      },
      {
       "output_type": "stream",
       "stream": "stdout",
       "text": [
        "100102 4.08 (730, 48) ../htwmusik-models/catalog2-gt-model/SD00600000258/010004.bin.png\r\n",
        "   TRU: u'Best.-Nr. Deutsche Grammophon 453 701-2'\r\n",
        "   ALN: u'Best.-Nr. Deutsche Grammophon 453 701-2'\r\n",
        "   OUT: u'Best.-Nr. Deutsche Grammophon 453 701-2'\r\n"
       ]
      },
      {
       "output_type": "stream",
       "stream": "stdout",
       "text": [
        "100103 0.96 (281, 48) ../htwmusik-models/catalog2-gt-model/SD01200000085/010002.bin.png\r\n",
        "   TRU: u'55 CD 105 - 1.2'\r\n",
        "   ALN: u'55 CD 105 - 1.2'\r\n",
        "   OUT: u'55 CD 105 - 1.2'\r\n"
       ]
      },
      {
       "output_type": "stream",
       "stream": "stdout",
       "text": [
        "100104 2.38 (275, 48) ../htwmusik-models/catalog2-gt-model/SD00200000003/010002.bin.png\r\n",
        "   TRU: u'55 CD 289 - 4'\r\n",
        "   ALN: u'55 CD 289 - 4'\r\n",
        "   OUT: u'55 CD 289 - 4'\r\n"
       ]
      },
      {
       "output_type": "stream",
       "stream": "stdout",
       "text": [
        "100105 0.19 (173, 48) ../htwmusik-models/catalog2-gt-model/SD00600000323/010007.bin.png\r\n",
        "   TRU: u'Interpr.'\r\n",
        "   ALN: u'Interpr.'\r\n",
        "   OUT: u'Interpr.'\r\n"
       ]
      },
      {
       "output_type": "stream",
       "stream": "stdout",
       "text": [
        "100106 11.84 (1185, 48) ../htwmusik-models/catalog2-gt-model/SD00200000003/010006.bin.png\r\n",
        "   TRU: u'Enth.: Jagd auf Liebe. Steigen Nebel. Zu Fuss. Tshgiten-Legende'\r\n",
        "   ALN: u'Enth.: Jagd auf Liebe. Steigen Nebel. Zu Fuss. Tshgiten-Legende'\r\n",
        "   OUT: u'Enth.: Jagd auf Liebe. Steigen Nebel. Zu Fuss. Tshigiten-Legende.'\r\n"
       ]
      },
      {
       "output_type": "stream",
       "stream": "stdout",
       "text": [
        "100107 26.11 (497, 48) ../htwmusik-models/catalog2-gt-model/SD00200000245/010004.bin.png\r\n",
        "   TRU: u'Best.-Nr. Wergo Wer 6614-2'\r\n",
        "   ALN: u'Best.-Nr. Wergo Wer 6614-2'\r\n",
        "   OUT: u'Best.-Nr. Wergo WER 6614-2'\r\n"
       ]
      },
      {
       "output_type": "stream",
       "stream": "stdout",
       "text": [
        "100108 0.71 (141, 48) ../htwmusik-models/catalog2-gt-model/SD00600000535/010003.bin.png\r\n",
        "   TRU: u'CD 317'\r\n",
        "   ALN: u'CD 317'\r\n",
        "   OUT: u'CD 317'\r\n"
       ]
      },
      {
       "output_type": "stream",
       "stream": "stdout",
       "text": [
        "100109 0.20 (246, 48) ../htwmusik-models/catalog2-gt-model/SD00600000258/010002.bin.png\r\n",
        "   TRU: u'Singverein'\r\n",
        "   ALN: u'Singverein'\r\n",
        "   OUT: u'Singverein'\r\n"
       ]
      },
      {
       "output_type": "stream",
       "stream": "stdout",
       "text": [
        "100110 5.60 (826, 48) ../htwmusik-models/catalog2-gt-model/SD00600000258/010003.bin.png\r\n",
        "   TRU: u'Beethoven Ludwig van: [Sinfonien] [Forts.]'\r\n",
        "   ALN: u'Beethoven Ludwi van: [Sinfonien] [Forts.]'\r\n",
        "   OUT: u'Beethoven Ludwi van: [Sinfonien] [Forts.]'\r\n"
       ]
      },
      {
       "output_type": "stream",
       "stream": "stdout",
       "text": [
        "100111 0.81 (146, 48) ../htwmusik-models/catalog2-gt-model/SD01200000085/010004.bin.png\r\n",
        "   TRU: u'P 1995.'\r\n",
        "   ALN: u'P 1995.'\r\n",
        "   OUT: u'P 1995.'\r\n"
       ]
      },
      {
       "output_type": "stream",
       "stream": "stdout",
       "text": [
        "100112 0.25 (246, 48) ../htwmusik-models/catalog2-gt-model/SD00600000258/010002.bin.png\r\n",
        "   TRU: u'Singverein'\r\n",
        "   ALN: u'Singverein'\r\n",
        "   OUT: u'Singverein'\r\n"
       ]
      },
      {
       "output_type": "stream",
       "stream": "stdout",
       "text": [
        "100113 10.89 (1122, 48) ../htwmusik-models/catalog2-gt-model/SD00600000272/010004.bin.png\r\n",
        "   TRU: u'6. - [1999]. - 1 Compact Disc + Beih. - (Bach - Made in Germany : Vol. 1, 6)'\r\n",
        "   ALN: u'6. - [1999]. - 1 Compact Disc + Beih. - (Bach - Made in Germany : Vol. 1, 6)'\r\n",
        "   OUT: u'6. - [1999]. - 1 Compact Disc + Beih. - (Bach - Made in Germany ; Vol. 1, 6h'\r\n"
       ]
      },
      {
       "output_type": "stream",
       "stream": "stdout",
       "text": [
        "100114 4.86 (1114, 48) ../htwmusik-models/catalog2-gt-model/SD00600000272/01000a.bin.png\r\n",
        "   TRU: u'Gewandhausorchester <Leipzig>... - Auf.: 1949 - 1954. - P 1965 - 1966'\r\n",
        "   ALN: u'Gewandhausorchester <Leipzig>... - Auf.: 1949 - 1954. - P 1965 - 1966'\r\n",
        "   OUT: u'Gewandhausorchester <Leipzig>... - Aufh.: 1949 - 1954. - P 1965 - 1966'\r\n"
       ]
      },
      {
       "output_type": "stream",
       "stream": "stdout",
       "text": [
        "100115 0.21 (132, 48) ../htwmusik-models/catalog2-gt-model/SD00200000608/010002.bin.png\r\n",
        "   TRU: u'siehe'\r\n",
        "   ALN: u'siehe'\r\n",
        "   OUT: u'siehe'\r\n"
       ]
      },
      {
       "output_type": "stream",
       "stream": "stdout",
       "text": [
        "100116 0.08 (176, 48) ../htwmusik-models/catalog2-gt-model/SD00200000003/010001.bin.png\r\n",
        "   TRU: u'Babylon'\r\n",
        "   ALN: u'Babylon'\r\n",
        "   OUT: u'Babylon'\r\n"
       ]
      },
      {
       "output_type": "stream",
       "stream": "stdout",
       "text": [
        "100117 1.98 (235, 48) ../htwmusik-models/catalog2-gt-model/SD00200000245/010005.bin.png\r\n",
        "   TRU: u'NE: Interpr.'\r\n",
        "   ALN: u'NE: Interpr.'\r\n",
        "   OUT: u'NE : Interpr.'\r\n"
       ]
      },
      {
       "output_type": "stream",
       "stream": "stdout",
       "text": [
        "100118 19.73 (832, 48) ../htwmusik-models/catalog2-gt-model/SD00600000258/010001.bin.png\r\n",
        "   TRU: u'2 Gesellschaft der Musikfreunde <Wien> /'\r\n",
        "   ALN: u'22 Gesellschaft der Musikfreunde <<Wien> /'\r\n",
        "   OUT: u'- Gesellschaft der Musikfreunde W4ien> /'\r\n"
       ]
      },
      {
       "output_type": "stream",
       "stream": "stdout",
       "text": [
        "100119 19.57 (1072, 48) ../htwmusik-models/catalog2-gt-model/SD00600000535/010007.bin.png\r\n",
        "   TRU: u'[Foxtrott / Arr.]; Schickele, Peter: [Last Tango in Bayreuth];'\r\n",
        "   ALN: u'[Foxtrott / Arr.]; Schickele, Peter: [Last Tango in Bayreuth];'\r\n",
        "   OUT: u'[Fowtrott / Arr.]; Schickele, Peter: [Last Tango in Bayreuthl;'\r\n"
       ]
      },
      {
       "output_type": "stream",
       "stream": "stdout",
       "text": [
        "100120 5.53 (1141, 48) ../htwmusik-models/catalog2-gt-model/SD00200000003/010009.bin.png\r\n",
        "   TRU: u'die Weide. Einmal unsichtbar sein. Schwester. Heisses Land.'\r\n",
        "   ALN: u'die Weide. Einmal unsichtbar sein. Schwester. Heisses Land.'\r\n",
        "   OUT: u'die Weide. Einmal unsichtbar sein. Schwester. Heisses Land.'\r\n"
       ]
      },
      {
       "output_type": "stream",
       "stream": "stdout",
       "text": [
        "100121 5.62 (1058, 48) ../htwmusik-models/catalog2-gt-model/SD00600000323/010005.bin.png\r\n",
        "   TRU: u'NE: Rheinberger, Gabriel J.: [Thema mit Ver\\xe4nderungen, V1 1 2'\r\n",
        "   ALN: u'NE: Rheinberger, Gabriel J.: [Thema mit Ver\\xe4nderungen, V1 1 2'\r\n",
        "   OUT: u'NE: Rheinberger, Gabriel J.: [Thema mit Ver\\xe4nderungen, V1 1 2'\r\n"
       ]
      },
      {
       "output_type": "stream",
       "stream": "stdout",
       "text": [
        "100122 0.25 (173, 48) ../htwmusik-models/catalog2-gt-model/SD00600000323/010007.bin.png\r\n",
        "   TRU: u'Interpr.'\r\n",
        "   ALN: u'Interpr.'\r\n",
        "   OUT: u'Interpr.'\r\n"
       ]
      },
      {
       "output_type": "stream",
       "stream": "stdout",
       "text": [
        "100123 2.25 (704, 48) ../htwmusik-models/catalog2-gt-model/SD00200000003/010005.bin.png\r\n",
        "   TRU: u'Vol. 4. - [1996]. - 1 Compact Disc + Beih.'\r\n",
        "   ALN: u'Vol. 4. - [1996]. - 1 Compact Disc + Beih.'\r\n",
        "   OUT: u'Vol. 4. - [1996]. - 1 Compact Disc + Beih.'\r\n"
       ]
      },
      {
       "output_type": "stream",
       "stream": "stdout",
       "text": [
        "100124 0.06 (176, 48) ../htwmusik-models/catalog2-gt-model/SD00200000003/010001.bin.png\r\n",
        "   TRU: u'Babylon'\r\n",
        "   ALN: u'Babylon'\r\n",
        "   OUT: u'Babylon'\r\n"
       ]
      },
      {
       "output_type": "stream",
       "stream": "stdout",
       "text": [
        "100125 27.48 (1075, 48) ../htwmusik-models/catalog2-gt-model/SD00600000535/010006.bin.png\r\n",
        "   TRU: u'Ausw.]; Voert, Georg ter: [Polka in Swing]; Seiber, M\\xe1ty\\xe1s G.:'\r\n",
        "   ALN: u'Ausw.]; Voert, Georg ter: [Polka in Swing]; Seiber, M~ty~s G.:'\r\n",
        "   OUT: u'Ausw.]; Voert, Georg ter: [Polka in Swing]; Seiber, Mdtyas G. :'\r\n"
       ]
      },
      {
       "output_type": "stream",
       "stream": "stdout",
       "text": [
        "100126 2.04 (1114, 48) ../htwmusik-models/catalog2-gt-model/SD00200000003/010007.bin.png\r\n",
        "   TRU: u'Hoffnung. Fort f\\xfcr einen Abend. Welt im Sand. Weisst du noch.'\r\n",
        "   ALN: u'Hoffnung. Fort f\\xfcr einen Abend. Welt im Sand. Weisst du noch.'\r\n",
        "   OUT: u'Hoffnung. Fort f\\xfcr einen Abend. Welt im Sand. Weisst du noch.'\r\n"
       ]
      },
      {
       "output_type": "stream",
       "stream": "stdout",
       "text": [
        "100127 3.64 (956, 48) ../htwmusik-models/catalog2-gt-model/SD00600000323/010006.bin.png\r\n",
        "   TRU: u'Va Vc op. 93]; Rheinberger, Gabriel J.: [Nonette op. 139];'\r\n",
        "   ALN: u'Va Vc op. 93]; Rheinberger, Gabriel J.: [Nonette op. 139];'\r\n",
        "   OUT: u'Va Vc op. 93]; Rheinberger, Gabriel J.: [Nonette op. 139];'\r\n"
       ]
      },
      {
       "output_type": "stream",
       "stream": "stdout",
       "text": [
        "100128 12.63 (1007, 48) ../htwmusik-models/catalog2-gt-model/SD00600000272/010009.bin.png\r\n",
        "   TRU: u'[Org]. Ramin, G\\xfcnther [Dir]. Thomanerchor <Leipzig>.'\r\n",
        "   ALN: u'[Org]. Ramin, G\\xfcnther [Dir]. Thomanerchor <Leipzig>.'\r\n",
        "   OUT: u'[Org]. Ramin, GDnther [Dir]. Thomanerchor <Leipzig>.'\r\n"
       ]
      },
      {
       "output_type": "stream",
       "stream": "stdout",
       "text": [
        "100129 17.98 (1014, 48) ../htwmusik-models/catalog2-gt-model/SD00600000272/010005.bin.png\r\n",
        "   TRU: u'Enth.: Sei Lob und Ehr dem h\\xf6chsten Gut BWV 117. Ich ruf zu dir, Herr'\r\n",
        "   ALN: u'Enth.: Sei Lob und Ehr dem h\\xf6chsten Gut BWV 117. Ich ruf zu dir, Herr'\r\n",
        "   OUT: u'Enth.: Sei Lob und Ehr dem h6chsten Gut BWV 117. lch rufzu dir, Herr'\r\n"
       ]
      },
      {
       "output_type": "stream",
       "stream": "stdout",
       "text": [
        "100130 25.22 (1110, 48) ../htwmusik-models/catalog2-gt-model/SD00200000003/010003.bin.png\r\n",
        "   TRU: u'Beatkiste : Hit-Rarit\\xe4ten aus dem DDR-Rundfunkarchiv. - Berlin :'\r\n",
        "   ALN: u'BBeatkstte : Hit-Rarit\\xe4ten aus dem DDR-Rundfunkarchiv. - Berlin :'\r\n",
        "   OUT: u'5ee : Hit-Rarit\\xe4ten aus dem DDR-Rundfunkarchiv. - Berlin :'\r\n"
       ]
      },
      {
       "output_type": "stream",
       "stream": "stdout",
       "text": [
        "100131 8.12 (1062, 48) ../htwmusik-models/catalog2-gt-model/SD00200000003/01000a.bin.png\r\n",
        "   TRU: u'Ein Augenblick der Z\\xe4rtlichkeit. Das Bild. Strassen, die dich'\r\n",
        "   ALN: u'Ein Augenblick der Z\\xe4rtlichkeit. Das Bild. Strassen, die dich'\r\n",
        "   OUT: u'Ein Aigenblick der Z\\xe4rtlichkeit. Das Bild. Strassen, die dich'\r\n"
       ]
      },
      {
       "output_type": "stream",
       "stream": "stdout",
       "text": [
        "100132 0.08 (176, 48) ../htwmusik-models/catalog2-gt-model/SD00200000003/010001.bin.png\r\n",
        "   TRU: u'Babylon'\r\n",
        "   ALN: u'Babylon'\r\n",
        "   OUT: u'Babylon'\r\n"
       ]
      },
      {
       "output_type": "stream",
       "stream": "stdout",
       "text": [
        "100133 1.93 (704, 48) ../htwmusik-models/catalog2-gt-model/SD00200000003/010005.bin.png\r\n",
        "   TRU: u'Vol. 4. - [1996]. - 1 Compact Disc + Beih.'\r\n",
        "   ALN: u'Vol. 4. - [1996]. - 1 Compact Disc + Beih.'\r\n",
        "   OUT: u'Vol. 4. - [1996]. - 1 Compact Disc + Beih.'\r\n"
       ]
      },
      {
       "output_type": "stream",
       "stream": "stdout",
       "text": [
        "100134 0.97 (235, 48) ../htwmusik-models/catalog2-gt-model/SD00200000245/010005.bin.png\r\n",
        "   TRU: u'NE: Interpr.'\r\n",
        "   ALN: u'NE: Interpr.'\r\n",
        "   OUT: u'NE: Interpr.'\r\n"
       ]
      },
      {
       "output_type": "stream",
       "stream": "stdout",
       "text": [
        "100135 47.92 (1004, 48) ../htwmusik-models/catalog2-gt-model/SD00200000003/01000c.bin.png\r\n",
        "   TRU: u'Interbr.: Rosalili. Lift. Babylon. Keks. Puhdys. Karat'\r\n",
        "   ALN: u'Interbr.: Rosalili. Lift. Babon. Keks. Puhdys. Karat'\r\n",
        "   OUT: u'Interbr.: Rosalili. Lift. B ess. Keks. Puhdys. Karat.'\r\n"
       ]
      },
      {
       "output_type": "stream",
       "stream": "stdout",
       "text": [
        "100136 0.24 (146, 48) ../htwmusik-models/catalog2-gt-model/SD01200000085/010004.bin.png\r\n",
        "   TRU: u'P 1995.'\r\n",
        "   ALN: u'P 1995.'\r\n",
        "   OUT: u'P 1995.'\r\n"
       ]
      },
      {
       "output_type": "stream",
       "stream": "stdout",
       "text": [
        "100137 13.70 (1122, 48) ../htwmusik-models/catalog2-gt-model/SD00600000272/010004.bin.png\r\n",
        "   TRU: u'6. - [1999]. - 1 Compact Disc + Beih. - (Bach - Made in Germany : Vol. 1, 6)'\r\n",
        "   ALN: u'6. - [1999]. - 1 Compact Disc + Beih. - (Bach - Made in Germany : Vol. 1, 6)'\r\n",
        "   OUT: u'6. - [1999]. - 1 Compact Disc + Beih. - (Bach - Made in Germany ; Vol. 1, 6'\r\n"
       ]
      },
      {
       "output_type": "stream",
       "stream": "stdout",
       "text": [
        "100138 0.89 (888, 48) ../htwmusik-models/catalog2-gt-model/SD01200000085/010003.bin.png\r\n",
        "   TRU: u'Walton William: Troilus and Cressida [Forts.]'\r\n",
        "   ALN: u'Walton William: Troilus and Cressida [Forts.]'\r\n",
        "   OUT: u'Walton William: Troilus and Cressida [Forts.]'\r\n"
       ]
      },
      {
       "output_type": "stream",
       "stream": "stdout",
       "text": [
        "100139 2.10 (1114, 48) ../htwmusik-models/catalog2-gt-model/SD00200000003/010007.bin.png\r\n",
        "   TRU: u'Hoffnung. Fort f\\xfcr einen Abend. Welt im Sand. Weisst du noch.'\r\n",
        "   ALN: u'Hoffnung. Fort f\\xfcr einen Abend. Welt im Sand. Weisst du noch.'\r\n",
        "   OUT: u'Hoffnung. Fort f\\xfcr einen Abend. Welt im Sand. Weisst du noch.'\r\n"
       ]
      },
      {
       "output_type": "stream",
       "stream": "stdout",
       "text": [
        "100140 1.12 (625, 48) ../htwmusik-models/catalog2-gt-model/SD00600000272/01000b.bin.png\r\n",
        "   TRU: u'Best.-Nr. Leipzig Classics 00 1806 2 BC'\r\n",
        "   ALN: u'Best.-Nr. Leipzig Classics 00 1806 2 BC'\r\n",
        "   OUT: u'Best.-Nr. Leipzig Classics 00 1806 2 BC'\r\n"
       ]
      },
      {
       "output_type": "stream",
       "stream": "stdout",
       "text": [
        "100141 52.90 (405, 48) ../htwmusik-models/catalog2-gt-model/SD00600000272/010002.bin.png\r\n",
        "   TRU: u'Bach, Johann Sebastian:'\r\n",
        "   ALN: u'Bach, Johann Sebastian:'\r\n",
        "   OUT: u'B ch ] h nn ebastian:'\r\n"
       ]
      },
      {
       "output_type": "stream",
       "stream": "stdout",
       "text": [
        "100142 5.81 (566, 48) ../htwmusik-models/catalog2-gt-model/SD01200000085/010005.bin.png\r\n",
        "   TRU: u'Best. -Nr. Chandos CHAN 9370/71'\r\n",
        "   ALN: u'Best. -Nr. Chandos CHAN 9370/71'\r\n",
        "   OUT: u'Best.-Nr. Chandos CHN 9370/71'\r\n"
       ]
      },
      {
       "output_type": "stream",
       "stream": "stdout",
       "text": [
        "100143 48.77 (1004, 48) ../htwmusik-models/catalog2-gt-model/SD00200000003/01000c.bin.png\r\n",
        "   TRU: u'Interbr.: Rosalili. Lift. Babylon. Keks. Puhdys. Karat'\r\n",
        "   ALN: u'Interbr.: Rosalili. Lift. Baaly. Keks. Puhdys. Karat'\r\n",
        "   OUT: u'Interbr.: Rosalili. Lift.  ess. Keks. Puhdys. Karat.'\r\n"
       ]
      },
      {
       "output_type": "stream",
       "stream": "stdout",
       "text": [
        "100144 14.62 (497, 48) ../htwmusik-models/catalog2-gt-model/SD00200000245/010004.bin.png\r\n",
        "   TRU: u'Best.-Nr. Wergo Wer 6614-2'\r\n",
        "   ALN: u'Best.-Nr. Wergo Wer 6614-2'\r\n",
        "   OUT: u'Best.-Nr. Wergo WR 6614-2'\r\n"
       ]
      },
      {
       "output_type": "stream",
       "stream": "stdout",
       "text": [
        "100145 0.27 (146, 48) ../htwmusik-models/catalog2-gt-model/SD01200000085/010004.bin.png\r\n",
        "   TRU: u'P 1995.'\r\n",
        "   ALN: u'P 1995.'\r\n",
        "   OUT: u'P 1995.'\r\n"
       ]
      },
      {
       "output_type": "stream",
       "stream": "stdout",
       "text": [
        "100146 0.27 (146, 48) ../htwmusik-models/catalog2-gt-model/SD01200000085/010004.bin.png\r\n",
        "   TRU: u'P 1995.'\r\n",
        "   ALN: u'P 1995.'\r\n",
        "   OUT: u'P 1995.'\r\n"
       ]
      },
      {
       "output_type": "stream",
       "stream": "stdout",
       "text": [
        "100147 28.17 (1110, 48) ../htwmusik-models/catalog2-gt-model/SD00200000003/010003.bin.png\r\n",
        "   TRU: u'Beatkiste : Hit-Rarit\\xe4ten aus dem DDR-Rundfunkarchiv. - Berlin :'\r\n",
        "   ALN: u'Beatite : Hit-Rarit\\xe4ten aus dem DDR-Rundfunkarchiv. - Berlin :'\r\n",
        "   OUT: u'B : Hit-Rarit\\xe4ten aus dem DDR-Rundfunkarchiv. - Berlin :'\r\n"
       ]
      },
      {
       "output_type": "stream",
       "stream": "stdout",
       "text": [
        "100148 2.26 (730, 48) ../htwmusik-models/catalog2-gt-model/SD00600000258/010004.bin.png\r\n",
        "   TRU: u'Best.-Nr. Deutsche Grammophon 453 701-2'\r\n",
        "   ALN: u'Best.-Nr. Deutsche Grammophon 453 701-2'\r\n",
        "   OUT: u'Best.-Nr. Deutsche Grammophon 453 701-2'\r\n"
       ]
      },
      {
       "output_type": "stream",
       "stream": "stdout",
       "text": [
        "100149 4.66 (1042, 48) ../htwmusik-models/catalog2-gt-model/SD00600000535/010005.bin.png\r\n",
        "   TRU: u'[Pigs]; Weissenborn, Christian J.: [Stucke, Fg 1 2 3 op. 4 /'\r\n",
        "   ALN: u'[Pigs]; Weissenborn, Christian J.: [Stucke, Fg 1 2 3 op. 4 /'\r\n",
        "   OUT: u'[Pigs]; Weissenborn, Christian J.: [Stucke, Fg 1 2 3 op. 4 /'\r\n"
       ]
      },
      {
       "output_type": "stream",
       "stream": "stdout",
       "text": [
        "100150 49.03 (930, 48) ../htwmusik-models/catalog2-gt-model/SD00600000535/01000a.bin.png\r\n",
        "   TRU: u\"Peter: [Scherzo, Nocturno und Burlesca]; Prokof'ev, Sergej S.:\"\r\n",
        "   ALN: u\"Peter: [Scherzo, Nocturno dndd Breca]; Prokof'ev, Sergej S.:\"\r\n",
        "   OUT: u\"Peter: (Scherzo, No<turno  a]: Prokof'ev, Sergej S.:\"\r\n"
       ]
      },
      {
       "output_type": "stream",
       "stream": "stdout",
       "text": [
        "100151 7.24 (140, 48) ../htwmusik-models/catalog2-gt-model/SD00200000245/010003.bin.png\r\n",
        "   TRU: u'P 1997'\r\n",
        "   ALN: u'P 1997'\r\n",
        "   OUT: u'P 1997.'\r\n"
       ]
      },
      {
       "output_type": "stream",
       "stream": "stdout",
       "text": [
        "100152 7.02 (661, 48) ../htwmusik-models/catalog2-gt-model/SD01200000085/010001.bin.png\r\n",
        "   TRU: u'Opera North <Leeds> / Chorus'\r\n",
        "   ALN: u'Opera North <Leeds> / Chorus'\r\n",
        "   OUT: u'Opera North Leeds> / Chorus'\r\n"
       ]
      },
      {
       "output_type": "stream",
       "stream": "stdout",
       "text": [
        "100153 3.16 (956, 48) ../htwmusik-models/catalog2-gt-model/SD00600000323/010006.bin.png\r\n",
        "   TRU: u'Va Vc op. 93]; Rheinberger, Gabriel J.: [Nonette op. 139];'\r\n",
        "   ALN: u'Va Vc op. 93]; Rheinberger, Gabriel J.: [Nonette op. 139];'\r\n",
        "   OUT: u'Va Vc op. 93]; Rheinberger, Gabriel J.: [Nonette op. 139];'\r\n"
       ]
      },
      {
       "output_type": "stream",
       "stream": "stdout",
       "text": [
        "100154 49.59 (656, 48) ../htwmusik-models/catalog2-gt-model/SD00200000608/010003.bin.png\r\n",
        "   TRU: u'Klav\\u01d0rn\\u01d0 Kvarteto Bohuslava Martim\\u016f'\r\n",
        "   ALN: u'Klav~rn~ Kvarteto Bohuslava Martim~'\r\n",
        "   OUT: u'Klavirni Kvarteto Bohuslava Martin0'\r\n"
       ]
      },
      {
       "output_type": "stream",
       "stream": "stdout",
       "text": [
        "100155 4.70 (566, 48) ../htwmusik-models/catalog2-gt-model/SD01200000085/010005.bin.png\r\n",
        "   TRU: u'Best. -Nr. Chandos CHAN 9370/71'\r\n",
        "   ALN: u'Best. -Nr. Chandos CHAN 9370/71'\r\n",
        "   OUT: u'Best.-Nr. Chandos CHN 9370/71'\r\n"
       ]
      },
      {
       "output_type": "stream",
       "stream": "stdout",
       "text": [
        "100156 13.11 (1014, 48) ../htwmusik-models/catalog2-gt-model/SD00600000272/010005.bin.png\r\n",
        "   TRU: u'Enth.: Sei Lob und Ehr dem h\\xf6chsten Gut BWV 117. Ich ruf zu dir, Herr'\r\n",
        "   ALN: u'Enth.: Sei Lob und Ehr dem h\\xf6chsten Gut BWV 117. Ich ruf zu dir, Herr'\r\n",
        "   OUT: u'Enth.: Sei Lob und Ehr dem h6chsten Gut BWV 117. Ich rufzu dir, Herr'\r\n"
       ]
      },
      {
       "output_type": "stream",
       "stream": "stdout",
       "text": [
        "100157 12.69 (1014, 48) ../htwmusik-models/catalog2-gt-model/SD00600000272/010005.bin.png\r\n",
        "   TRU: u'Enth.: Sei Lob und Ehr dem h\\xf6chsten Gut BWV 117. Ich ruf zu dir, Herr'\r\n",
        "   ALN: u'Enth.: Sei Lob und Ehr dem h\\xf6chsten Gut BWV 117. Ich ruf zu dir, Herr'\r\n",
        "   OUT: u'Enth.: Sei Lob und Ehr dem h6chsten Gut BWV 117. Ich rufzu dir, Herr'\r\n"
       ]
      },
      {
       "output_type": "stream",
       "stream": "stdout",
       "text": [
        "100158 0.73 (258, 48) ../htwmusik-models/catalog2-gt-model/SD00600000258/010006.bin.png\r\n",
        "   TRU: u'55 CD 77 - 1'\r\n",
        "   ALN: u'55 CD 77 - 1'\r\n",
        "   OUT: u'55 CD 77 - 1'\r\n"
       ]
      },
      {
       "output_type": "stream",
       "stream": "stdout",
       "text": [
        "100159 20.33 (497, 48) ../htwmusik-models/catalog2-gt-model/SD00200000245/010004.bin.png\r\n",
        "   TRU: u'Best.-Nr. Wergo Wer 6614-2'\r\n",
        "   ALN: u'Best.-Nr. Wergo Wer 6614-2'\r\n",
        "   OUT: u'Best.-Nr. Wergo WER 6614-2'\r\n"
       ]
      },
      {
       "output_type": "stream",
       "stream": "stdout",
       "text": [
        "100160 9.41 (440, 48) ../htwmusik-models/catalog2-gt-model/SD00600000535/010002.bin.png\r\n",
        "   TRU: u'Best.-Nr. MD + G L 3379'\r\n",
        "   ALN: u'Best.-Nr. MD + G L 3379'\r\n",
        "   OUT: u'Best.-Nr. M - G L 3379'\r\n"
       ]
      },
      {
       "output_type": "stream",
       "stream": "stdout",
       "text": [
        "100161 3.03 (566, 48) ../htwmusik-models/catalog2-gt-model/SD01200000085/010005.bin.png\r\n",
        "   TRU: u'Best. -Nr. Chandos CHAN 9370/71'\r\n",
        "   ALN: u'Best. -Nr. Chandos CHAN 9370/71'\r\n",
        "   OUT: u'Best.-Nr. Chandos CHAN 9370/71'\r\n"
       ]
      },
      {
       "output_type": "stream",
       "stream": "stdout",
       "text": [
        "100162 4.73 (1042, 48) ../htwmusik-models/catalog2-gt-model/SD00600000535/010005.bin.png\r\n",
        "   TRU: u'[Pigs]; Weissenborn, Christian J.: [Stucke, Fg 1 2 3 op. 4 /'\r\n",
        "   ALN: u'[Pigs]; Weissenborn, Christian J.: [Stucke, Fg 1 2 3 op. 4 /'\r\n",
        "   OUT: u'[Pigs]; Weissenborn, Christian J.: [Stucke, Fg 1 2 3 op. 4 /'\r\n"
       ]
      },
      {
       "output_type": "stream",
       "stream": "stdout",
       "text": [
        "100163 1.45 (235, 48) ../htwmusik-models/catalog2-gt-model/SD00200000245/010005.bin.png\r\n",
        "   TRU: u'NE: Interpr.'\r\n",
        "   ALN: u'NE: Interpr.'\r\n",
        "   OUT: u'NE : Interpr.'\r\n"
       ]
      },
      {
       "output_type": "stream",
       "stream": "stdout",
       "text": [
        "100164 13.36 (1134, 48) ../htwmusik-models/catalog2-gt-model/SD00600000535/010008.bin.png\r\n",
        "   TRU: u'Monti, Vittorio: [Czardas / Arr.]; Jakob, Gordon P.: [Prelude,'\r\n",
        "   ALN: u'Monti, Vittorio: [Czardas / Arr.]; Jakob, Gordon P.: [Prelude,'\r\n",
        "   OUT: u'Monti, Vittorio: [Czardas / Arr.]; Jacob, Gordon P.: [Prelude,'\r\n"
       ]
      },
      {
       "output_type": "stream",
       "stream": "stdout",
       "text": [
        "100165 8.56 (1014, 48) ../htwmusik-models/catalog2-gt-model/SD00600000272/010008.bin.png\r\n",
        "   TRU: u'[Alt]. Lutze, Gert [Ten]. Hauptmann, Hans [Bass]. K\\xe4stner, Hannes'\r\n",
        "   ALN: u'[Alt]. Lutze, Gert [Ten]. Hauptmann, Hans [Bass]. K\\xe4stner, Hannes'\r\n",
        "   OUT: u'[Alt]. Lutze, Gert [Ten]. Hauptmann, Hans [Bass]. Kastner, Hannes'\r\n"
       ]
      },
      {
       "output_type": "stream",
       "stream": "stdout",
       "text": [
        "100166 8.92 (1058, 48) ../htwmusik-models/catalog2-gt-model/SD00600000323/010005.bin.png\r\n",
        "   TRU: u'NE: Rheinberger, Gabriel J.: [Thema mit Ver\\xe4nderungen, V1 1 2'\r\n",
        "   ALN: u'NE: Rheinberger, Gabriel J.: [Thema mit Ver\\xe4nderungen, V1 1 2'\r\n",
        "   OUT: u'NE: Rheinberger, Gabriel J.: [Thema mit Ver\\xe4nderungen, Vl 1 2'\r\n"
       ]
      },
      {
       "output_type": "stream",
       "stream": "stdout",
       "text": [
        "100167 1.19 (235, 48) ../htwmusik-models/catalog2-gt-model/SD00200000245/010005.bin.png\r\n",
        "   TRU: u'NE: Interpr.'\r\n",
        "   ALN: u'NE: Interpr.'\r\n",
        "   OUT: u'NE : Interpr.'\r\n"
       ]
      },
      {
       "output_type": "stream",
       "stream": "stdout",
       "text": [
        "100168 1.60 (888, 48) ../htwmusik-models/catalog2-gt-model/SD01200000085/010003.bin.png\r\n",
        "   TRU: u'Walton William: Troilus and Cressida [Forts.]'\r\n",
        "   ALN: u'Walton William: Troilus and Cressida [Forts.]'\r\n",
        "   OUT: u'Walton William: Troilus and Cressida [Forts.]'\r\n"
       ]
      },
      {
       "output_type": "stream",
       "stream": "stdout",
       "text": [
        "100169 1.32 (470, 48) ../htwmusik-models/catalog2-gt-model/SD00600000323/010004.bin.png\r\n",
        "   TRU: u'Best.-Nr. Capella CTH 2061'\r\n",
        "   ALN: u'Best.-Nr. Capella CTH 2061'\r\n",
        "   OUT: u'Best.-Nr. Capella CTH 2061'\r\n"
       ]
      },
      {
       "output_type": "stream",
       "stream": "stdout",
       "text": [
        "100170 20.74 (1075, 48) ../htwmusik-models/catalog2-gt-model/SD00600000535/010006.bin.png\r\n",
        "   TRU: u'Ausw.]; Voert, Georg ter: [Polka in Swing]; Seiber, M\\xe1ty\\xe1s G.:'\r\n",
        "   ALN: u'Ausw.]; Voert, Georg ter: [Polka in Swing]; Seiber, M~ty~s G.:'\r\n",
        "   OUT: u'Ausw.]; Voert, Georg ter: [Polka in Swing]; Seiber, Mdty\\xe4s G. :'\r\n"
       ]
      },
      {
       "output_type": "stream",
       "stream": "stdout",
       "text": [
        "100171 5.64 (1072, 48) ../htwmusik-models/catalog2-gt-model/SD00600000535/010007.bin.png\r\n",
        "   TRU: u'[Foxtrott / Arr.]; Schickele, Peter: [Last Tango in Bayreuth];'\r\n",
        "   ALN: u'[Foxtrott / Arr.]; Schickele, Peter: [Last Tango in Bayreuth];'\r\n",
        "   OUT: u'[Fowtrott / Arr.]; Schickele, Peter: [Last Tango in Bayreuth];'\r\n"
       ]
      },
      {
       "output_type": "stream",
       "stream": "stdout",
       "text": [
        "100172 2.63 (281, 48) ../htwmusik-models/catalog2-gt-model/SD01200000085/010002.bin.png\r\n",
        "   TRU: u'55 CD 105 - 1.2'\r\n",
        "   ALN: u'55 CD 105 - 1.2'\r\n",
        "   OUT: u'55 CD 105 - 1.2'\r\n"
       ]
      },
      {
       "output_type": "stream",
       "stream": "stdout",
       "text": [
        "100173 4.29 (661, 48) ../htwmusik-models/catalog2-gt-model/SD01200000085/010001.bin.png\r\n",
        "   TRU: u'Opera North <Leeds> / Chorus'\r\n",
        "   ALN: u'Opera North <Leeds> / Chorus'\r\n",
        "   OUT: u'Opera North Leeds> / Chorus'\r\n"
       ]
      },
      {
       "output_type": "stream",
       "stream": "stdout",
       "text": [
        "100174 1.11 (1141, 48) ../htwmusik-models/catalog2-gt-model/SD00200000003/010009.bin.png\r\n",
        "   TRU: u'die Weide. Einmal unsichtbar sein. Schwester. Heisses Land.'\r\n",
        "   ALN: u'die Weide. Einmal unsichtbar sein. Schwester. Heisses Land.'\r\n",
        "   OUT: u'die Weide. Einmal unsichtbar sein. Schwester. Heisses Land.'\r\n"
       ]
      },
      {
       "output_type": "stream",
       "stream": "stdout",
       "text": [
        "100175 0.12 (246, 48) ../htwmusik-models/catalog2-gt-model/SD00600000258/010002.bin.png\r\n",
        "   TRU: u'Singverein'\r\n",
        "   ALN: u'Singverein'\r\n",
        "   OUT: u'Singverein'\r\n"
       ]
      },
      {
       "output_type": "stream",
       "stream": "stdout",
       "text": [
        "100176 10.74 (1122, 48) ../htwmusik-models/catalog2-gt-model/SD00600000272/010004.bin.png\r\n",
        "   TRU: u'6. - [1999]. - 1 Compact Disc + Beih. - (Bach - Made in Germany : Vol. 1, 6)'\r\n",
        "   ALN: u'6. - [1999]. - 1 Compact Disc + Beih. - (Bach - Made in Germany : Vol. 1, 6)'\r\n",
        "   OUT: u'6. - [1999]. - 1 Compact Disc + Beih. - (Bach - Made in Germany ; Vol. 1, 6'\r\n"
       ]
      },
      {
       "output_type": "stream",
       "stream": "stdout",
       "text": [
        "100177 4.97 (1114, 48) ../htwmusik-models/catalog2-gt-model/SD00600000272/01000a.bin.png\r\n",
        "   TRU: u'Gewandhausorchester <Leipzig>... - Auf.: 1949 - 1954. - P 1965 - 1966'\r\n",
        "   ALN: u'Gewandhausorchester <Leipzig>... - Auf.: 1949 - 1954. - P 1965 - 1966'\r\n",
        "   OUT: u'Gewandhausorchester <Leipzig>... - Aufh.: 1949 - 1954. - P 1965 - 1966'\r\n"
       ]
      },
      {
       "output_type": "stream",
       "stream": "stdout",
       "text": [
        "100178 0.28 (277, 48) ../htwmusik-models/catalog2-gt-model/SD00200000003/01000b.bin.png\r\n",
        "   TRU: u'weiterf\\xfchren.'\r\n",
        "   ALN: u'weiterf\\xfchren.'\r\n",
        "   OUT: u'weiterf\\xfchren.'\r\n"
       ]
      },
      {
       "output_type": "stream",
       "stream": "stdout",
       "text": [
        "100179 22.76 (908, 48) ../htwmusik-models/catalog2-gt-model/SD00600000323/010003.bin.png\r\n",
        "   TRU: u'Auf.: Walldorf, 1989 u. New York City, 1981. - P 1989'\r\n",
        "   ALN: u'Auf.: Walldorf, 1989 u. New York City, 1981. - P 1989'\r\n",
        "   OUT: u'Aufn.: Walldorf, 1989 u. .ew York City, 1981. - P 1989,'\r\n"
       ]
      },
      {
       "output_type": "stream",
       "stream": "stdout",
       "text": [
        "100180 29.68 (1024, 48) ../htwmusik-models/catalog2-gt-model/SD00600000535/010004.bin.png\r\n",
        "   TRU: u'NE: Fu\\u010dik, Julius: [Vstup gladi\\xe1tor\\u016f / Arr.]; Ridout, Alan:'\r\n",
        "   ALN: u'NE: Fu~ik, Julius: [Vstup gladi~tor~ / Arr.]; Ridout, Alan:'\r\n",
        "   OUT: u'NE: Fu\\xf6ik, Julius: [Vstup gladitor0 / Arr.]; Ridout, Alan:'\r\n"
       ]
      },
      {
       "output_type": "stream",
       "stream": "stdout",
       "text": [
        "100181 1.42 (281, 48) ../htwmusik-models/catalog2-gt-model/SD01200000085/010002.bin.png\r\n",
        "   TRU: u'55 CD 105 - 1.2'\r\n",
        "   ALN: u'55 CD 105 - 1.2'\r\n",
        "   OUT: u'55 CD 105 - 1.2'\r\n"
       ]
      },
      {
       "output_type": "stream",
       "stream": "stdout",
       "text": [
        "100182 1.92 (864, 48) ../htwmusik-models/catalog2-gt-model/SD00600000272/010003.bin.png\r\n",
        "   TRU: u'[Kantaten / Ausw.] Cantatas / Bach. - Hamburg : Edel.'\r\n",
        "   ALN: u'[Kantaten / Ausw.] Cantatas / Bach. - Hamburg : Edel.'\r\n",
        "   OUT: u'[Kantaten / Ausw.] Cantatas / Bach. - Hamburg : Edel.'\r\n"
       ]
      },
      {
       "output_type": "stream",
       "stream": "stdout",
       "text": [
        "100183 1.89 (888, 48) ../htwmusik-models/catalog2-gt-model/SD01200000085/010003.bin.png\r\n",
        "   TRU: u'Walton William: Troilus and Cressida [Forts.]'\r\n",
        "   ALN: u'Walton William: Troilus and Cressida [Forts.]'\r\n",
        "   OUT: u'Walton William: Troilus and Cressida [Forts.]'\r\n"
       ]
      },
      {
       "output_type": "stream",
       "stream": "stdout",
       "text": [
        "100184 1.35 (470, 48) ../htwmusik-models/catalog2-gt-model/SD00600000323/010004.bin.png\r\n",
        "   TRU: u'Best.-Nr. Capella CTH 2061'\r\n",
        "   ALN: u'Best.-Nr. Capella CTH 2061'\r\n",
        "   OUT: u'Best.-Nr. Capella CTH 2061'\r\n"
       ]
      },
      {
       "output_type": "stream",
       "stream": "stdout",
       "text": [
        "100185 1.29 (470, 48) ../htwmusik-models/catalog2-gt-model/SD00600000323/010004.bin.png\r\n",
        "   TRU: u'Best.-Nr. Capella CTH 2061'\r\n",
        "   ALN: u'Best.-Nr. Capella CTH 2061'\r\n",
        "   OUT: u'Best.-Nr. Capella CTH 2061'\r\n"
       ]
      },
      {
       "output_type": "stream",
       "stream": "stdout",
       "text": [
        "100186 0.93 (281, 48) ../htwmusik-models/catalog2-gt-model/SD01200000085/010002.bin.png\r\n",
        "   TRU: u'55 CD 105 - 1.2'\r\n",
        "   ALN: u'55 CD 105 - 1.2'\r\n",
        "   OUT: u'55 CD 105 - 1.2'\r\n"
       ]
      },
      {
       "output_type": "stream",
       "stream": "stdout",
       "text": [
        "100187 5.29 (1007, 48) ../htwmusik-models/catalog2-gt-model/SD00600000272/010009.bin.png\r\n",
        "   TRU: u'[Org]. Ramin, G\\xfcnther [Dir]. Thomanerchor <Leipzig>.'\r\n",
        "   ALN: u'[Org]. Ramin, G\\xfcnther [Dir]. Thomanerchor <Leipzig>.'\r\n",
        "   OUT: u'[Org]. Ramin, G\\xfcnther [Dir]. Thomanerchor <Leipzig>.'\r\n"
       ]
      },
      {
       "output_type": "stream",
       "stream": "stdout",
       "text": [
        "100188 6.52 (762, 48) ../htwmusik-models/catalog2-gt-model/SD00600000258/010005.bin.png\r\n",
        "   TRU: u'NE : Beethoven, Ludwig van: Ser.; Interpr.'\r\n",
        "   ALN: u'NE : Beethoven, Ludwig van: Ser.; Interpr.'\r\n",
        "   OUT: u'NE: Beethoven, Ludig van: Ser.; Interpr.'\r\n"
       ]
      },
      {
       "output_type": "stream",
       "stream": "stdout",
       "text": [
        "100189 47.65 (405, 48) ../htwmusik-models/catalog2-gt-model/SD00600000272/010002.bin.png\r\n",
        "   TRU: u'Bach, Johann Sebastian:'\r\n",
        "   ALN: u'Bach Johann Sebastian:'\r\n",
        "   OUT: u'B ch J h nn ebastian:'\r\n"
       ]
      },
      {
       "output_type": "stream",
       "stream": "stdout",
       "text": [
        "100190 2.86 (566, 48) ../htwmusik-models/catalog2-gt-model/SD01200000085/010005.bin.png\r\n",
        "   TRU: u'Best. -Nr. Chandos CHAN 9370/71'\r\n",
        "   ALN: u'Best. -Nr. Chandos CHAN 9370/71'\r\n",
        "   OUT: u'Best.-Nr. Chandos CHAN 9370/71'\r\n"
       ]
      },
      {
       "output_type": "stream",
       "stream": "stdout",
       "text": [
        "100191 4.20 (956, 48) ../htwmusik-models/catalog2-gt-model/SD00600000323/010006.bin.png\r\n",
        "   TRU: u'Va Vc op. 93]; Rheinberger, Gabriel J.: [Nonette op. 139];'\r\n",
        "   ALN: u'Va Vc op. 93]; Rheinberger, Gabriel J.: [Nonette op. 139];'\r\n",
        "   OUT: u'Va Vc op. 93]; Rheinberger, Gabriel J.: [Nonette op. 139];'\r\n"
       ]
      },
      {
       "output_type": "stream",
       "stream": "stdout",
       "text": [
        "100192 30.29 (566, 48) ../htwmusik-models/catalog2-gt-model/SD00200000608/010001.bin.png\r\n",
        "   TRU: u'Bohuslav Martim\\u016f Piano Quartet'\r\n",
        "   ALN: u'Bohuslav Martim~ Piano Quartet'\r\n",
        "   OUT: u'Bohuslav Martin\\xf6 Paano Cuartet'\r\n"
       ]
      },
      {
       "output_type": "stream",
       "stream": "stdout",
       "text": [
        "100193 0.13 (146, 48) ../htwmusik-models/catalog2-gt-model/SD01200000085/010004.bin.png\r\n",
        "   TRU: u'P 1995.'\r\n",
        "   ALN: u'P 1995.'\r\n",
        "   OUT: u'P 1995.'\r\n"
       ]
      },
      {
       "output_type": "stream",
       "stream": "stdout",
       "text": [
        "100194 5.70 (1042, 48) ../htwmusik-models/catalog2-gt-model/SD00600000535/010005.bin.png\r\n",
        "   TRU: u'[Pigs]; Weissenborn, Christian J.: [Stucke, Fg 1 2 3 op. 4 /'\r\n",
        "   ALN: u'[Pigs]; Weissenborn, Christian J.: [Stucke, Fg 1 2 3 op. 4 /'\r\n",
        "   OUT: u'[Pigs]; Weissenborn, Christian J.: [Stucke, Fg 1 2 3 op. 4 /'\r\n"
       ]
      },
      {
       "output_type": "stream",
       "stream": "stdout",
       "text": [
        "100195 0.28 (173, 48) ../htwmusik-models/catalog2-gt-model/SD00600000323/010007.bin.png\r\n",
        "   TRU: u'Interpr.'\r\n",
        "   ALN: u'Interpr.'\r\n",
        "   OUT: u'Interpr.'\r\n"
       ]
      },
      {
       "output_type": "stream",
       "stream": "stdout",
       "text": [
        "100196 41.47 (930, 48) ../htwmusik-models/catalog2-gt-model/SD00600000535/01000a.bin.png\r\n",
        "   TRU: u\"Peter: [Scherzo, Nocturno und Burlesca]; Prokof'ev, Sergej S.:\"\r\n",
        "   ALN: u\"Peter: [Scherzo, Nocturno uuudB rleeesca]; Prokof'ev, Sergej S.:\"\r\n",
        "   OUT: u\"Peter: [Scherzo, Nocturno  [a]; Prokof'ev, Sergej S.:\"\r\n"
       ]
      },
      {
       "output_type": "stream",
       "stream": "stdout",
       "text": [
        "100197 14.21 (400, 48) ../htwmusik-models/catalog2-gt-model/SD00600000535/010001.bin.png\r\n",
        "   TRU: u'Fagottissimo [Forts.]'\r\n",
        "   ALN: u'Fagottissimo [Forts.]'\r\n",
        "   OUT: u'Fa ottissimo [Forts.]'\r\n"
       ]
      },
      {
       "output_type": "stream",
       "stream": "stdout",
       "text": [
        "100198 16.90 (805, 48) ../htwmusik-models/catalog2-gt-model/SD01200000085/010006.bin.png\r\n",
        "   TRU: u'Ne : Hassall, Christopher [Textverf.]; Interpr.'\r\n",
        "   ALN: u'Ne : Hassall, Christopher [Textverf.]; Interpr.'\r\n",
        "   OUT: u'NE: Hassall, Christopher [Textverf.]; Interpr.'\r\n"
       ]
      },
      {
       "output_type": "stream",
       "stream": "stdout",
       "text": [
        "100199 0.80 (470, 48) ../htwmusik-models/catalog2-gt-model/SD00600000323/010004.bin.png\r\n",
        "   TRU: u'Best.-Nr. Capella CTH 2061'\r\n",
        "   ALN: u'Best.-Nr. Capella CTH 2061'\r\n",
        "   OUT: u'Best.-Nr. Capella CTH 2061'\r\n"
       ]
      },
      {
       "output_type": "stream",
       "stream": "stdout",
       "text": [
        "100200 15.29 (805, 48) ../htwmusik-models/catalog2-gt-model/SD01200000085/010006.bin.png\r\n",
        "   TRU: u'Ne : Hassall, Christopher [Textverf.]; Interpr.'\r\n",
        "   ALN: u'Ne : Hassall, Christopher [Textverf.]; Interpr.'\r\n",
        "   OUT: u'NE: Hassall, Christopher [Textverf.]; Interpr.'\r\n"
       ]
      },
      {
       "output_type": "stream",
       "stream": "stdout",
       "text": [
        "100201 0.74 (277, 48) ../htwmusik-models/catalog2-gt-model/SD00200000003/01000b.bin.png\r\n",
        "   TRU: u'weiterf\\xfchren.'\r\n",
        "   ALN: u'weiterf\\xfchren.'\r\n",
        "   OUT: u'weiterf\\xfchren.'\r\n"
       ]
      },
      {
       "output_type": "stream",
       "stream": "stdout",
       "text": [
        "100202 2.20 (566, 48) ../htwmusik-models/catalog2-gt-model/SD01200000085/010005.bin.png\r\n",
        "   TRU: u'Best. -Nr. Chandos CHAN 9370/71'\r\n",
        "   ALN: u'Best. -Nr. Chandos CHAN 9370/71'\r\n",
        "   OUT: u'Best.-Nr. Chandos CHAN 9370/71'\r\n"
       ]
      },
      {
       "output_type": "stream",
       "stream": "stdout",
       "text": [
        "100203 11.41 (1014, 48) ../htwmusik-models/catalog2-gt-model/SD00600000272/010005.bin.png\r\n",
        "   TRU: u'Enth.: Sei Lob und Ehr dem h\\xf6chsten Gut BWV 117. Ich ruf zu dir, Herr'\r\n",
        "   ALN: u'Enth.: Sei Lob und Ehr dem h\\xf6chsten Gut BWV 117. Ich ruf zu dir, Herr'\r\n",
        "   OUT: u'Enth.: Sei Lob und Ehr dem h6chsten Gut BWV 117. Ich rufzu dir, Herr'\r\n"
       ]
      },
      {
       "output_type": "stream",
       "stream": "stdout",
       "text": [
        "100204 1.19 (625, 48) ../htwmusik-models/catalog2-gt-model/SD00600000272/01000b.bin.png\r\n",
        "   TRU: u'Best.-Nr. Leipzig Classics 00 1806 2 BC'\r\n",
        "   ALN: u'Best.-Nr. Leipzig Classics 00 1806 2 BC'\r\n",
        "   OUT: u'Best.-Nr. Leipzig Classics 00 1806 2 BC'\r\n"
       ]
      },
      {
       "output_type": "stream",
       "stream": "stdout",
       "text": [
        "100205 10.11 (740, 48) ../htwmusik-models/catalog2-gt-model/SD00200000245/010002.bin.png\r\n",
        "   TRU: u'Reimann Aribert: Das Schloss [Forts.]'\r\n",
        "   ALN: u'Reimann Aribert: Das Schloss [Forts.]'\r\n",
        "   OUT: u'Reimann Aribert: Das ,Schloss [Forts.]'\r\n"
       ]
      },
      {
       "output_type": "stream",
       "stream": "stdout",
       "text": [
        "100206 4.80 (1114, 48) ../htwmusik-models/catalog2-gt-model/SD00200000003/010007.bin.png\r\n",
        "   TRU: u'Hoffnung. Fort f\\xfcr einen Abend. Welt im Sand. Weisst du noch.'\r\n",
        "   ALN: u'Hoffnung. Fort f\\xfcr einen Abend. Welt im Sand. Weisst du noch.'\r\n",
        "   OUT: u'Hoffnung. Fort f\\xfcr einen Abend. Welt im Sand. Weisst diu noch.'\r\n"
       ]
      },
      {
       "output_type": "stream",
       "stream": "stdout",
       "text": [
        "100207 11.13 (805, 48) ../htwmusik-models/catalog2-gt-model/SD01200000085/010006.bin.png\r\n",
        "   TRU: u'Ne : Hassall, Christopher [Textverf.]; Interpr.'\r\n",
        "   ALN: u'Ne : Hassall, Christopher [Textverf.]; Interpr.'\r\n",
        "   OUT: u'NE: Hassall, Christopher [Textverf.]; Interpr.'\r\n"
       ]
      },
      {
       "output_type": "stream",
       "stream": "stdout",
       "text": [
        "100208 15.87 (1075, 48) ../htwmusik-models/catalog2-gt-model/SD00600000535/010006.bin.png\r\n",
        "   TRU: u'Ausw.]; Voert, Georg ter: [Polka in Swing]; Seiber, M\\xe1ty\\xe1s G.:'\r\n",
        "   ALN: u'Ausw.]; Voert, Georg ter: [Polka in Swing]; Seiber, M~ty~s G.:'\r\n",
        "   OUT: u'Ausw.]; Voert, Georg ter: [Polka in Swing]; Seiber, M4ty\\xe4s G.:'\r\n"
       ]
      },
      {
       "output_type": "stream",
       "stream": "stdout",
       "text": [
        "100209 24.41 (1024, 48) ../htwmusik-models/catalog2-gt-model/SD00600000535/010004.bin.png\r\n",
        "   TRU: u'NE: Fu\\u010dik, Julius: [Vstup gladi\\xe1tor\\u016f / Arr.]; Ridout, Alan:'\r\n",
        "   ALN: u'NE: Fu~ik, Julius: [Vstup gladi~tor~ / Arr.]; Ridout, Alan:'\r\n",
        "   OUT: u'NE: Fu\\xf6ik, Julius: [Vstup gladi\\xe4tor0 / Arr.]; Ridout, Alan:'\r\n"
       ]
      },
      {
       "output_type": "stream",
       "stream": "stdout",
       "text": [
        "100210 1.29 (566, 48) ../htwmusik-models/catalog2-gt-model/SD01200000085/010005.bin.png\r\n",
        "   TRU: u'Best. -Nr. Chandos CHAN 9370/71'\r\n",
        "   ALN: u'Best. -Nr. Chandos CHAN 9370/71'\r\n",
        "   OUT: u'Best. -Nr. Chandos CHAN 9370/71'\r\n"
       ]
      },
      {
       "output_type": "stream",
       "stream": "stdout",
       "text": [
        "100211 16.52 (1094, 48) ../htwmusik-models/catalog2-gt-model/SD00600000535/010009.bin.png\r\n",
        "   TRU: u'fugue and scherzo]; Bozza, Eug\\xe8ne: [Divertissement]; Jansen,'\r\n",
        "   ALN: u'fugue and scherzo]; Bozza, Eug\\xe8ne: [Divertissement]; Jansen,'\r\n",
        "   OUT: u'fugue and scherzo]; Bozza, Eugene: [Divertissement]; Jansen,'\r\n"
       ]
      },
      {
       "output_type": "stream",
       "stream": "stdout",
       "text": [
        "100212 8.37 (1014, 48) ../htwmusik-models/catalog2-gt-model/SD00600000272/010005.bin.png\r\n",
        "   TRU: u'Enth.: Sei Lob und Ehr dem h\\xf6chsten Gut BWV 117. Ich ruf zu dir, Herr'\r\n",
        "   ALN: u'Enth.: Sei Lob und Ehr dem h\\xf6chsten Gut BWV 117. Ich ruf zu dir, Herr'\r\n",
        "   OUT: u'Enth.: Sei Lob und Ehr dem h\\xf6chsten Gut BWV 117. Ich rufzu dir, Herr'\r\n"
       ]
      },
      {
       "output_type": "stream",
       "stream": "stdout",
       "text": [
        "100213 1.52 (470, 48) ../htwmusik-models/catalog2-gt-model/SD00600000323/010004.bin.png\r\n",
        "   TRU: u'Best.-Nr. Capella CTH 2061'\r\n",
        "   ALN: u'Best.-Nr. Capella CTH 2061'\r\n",
        "   OUT: u'Best.-Nr. Capella CTH 2061'\r\n"
       ]
      },
      {
       "output_type": "stream",
       "stream": "stdout",
       "text": [
        "100214 2.96 (119, 48) ../htwmusik-models/catalog2-gt-model/SD00600000323/010001.bin.png\r\n",
        "   TRU: u'CD 38'\r\n",
        "   ALN: u'CD 38'\r\n",
        "   OUT: u'CD 38'\r\n"
       ]
      },
      {
       "output_type": "stream",
       "stream": "stdout",
       "text": [
        "100215 7.82 (788, 48) ../htwmusik-models/catalog2-gt-model/SD00600000272/010006.bin.png\r\n",
        "   TRU: u'Jesu Christ BWV 177. Ein ungef\\xe4rbt Gem\\xfcte BWV 24.'\r\n",
        "   ALN: u'Jesu Christ BWV 177. Ein ungef\\xe4rbt Gem\\xfcte BWV 24.'\r\n",
        "   OUT: u'Jesu Christ BWV 177. Ein ungeflrbt Gem\\xfcte BWV 24.'\r\n"
       ]
      },
      {
       "output_type": "stream",
       "stream": "stdout",
       "text": [
        "100216 4.11 (661, 48) ../htwmusik-models/catalog2-gt-model/SD01200000085/010001.bin.png\r\n",
        "   TRU: u'Opera North <Leeds> / Chorus'\r\n",
        "   ALN: u'Opera North <Leeds> / Chorus'\r\n",
        "   OUT: u'Opera North <Leeds> / Chorus'\r\n"
       ]
      },
      {
       "output_type": "stream",
       "stream": "stdout",
       "text": [
        "100217 30.16 (1110, 48) ../htwmusik-models/catalog2-gt-model/SD00200000003/010003.bin.png\r\n",
        "   TRU: u'Beatkiste : Hit-Rarit\\xe4ten aus dem DDR-Rundfunkarchiv. - Berlin :'\r\n",
        "   ALN: u'Beatkte : Hit-Rarit\\xe4ten aus dem DDR-Rundfunkarchiv. - Berlin :'\r\n",
        "   OUT: u'BBe : Hit-Rarit\\xe4ten aus dem DDR-Rundfunkarchiv. - Berlin :'\r\n"
       ]
      },
      {
       "output_type": "stream",
       "stream": "stdout",
       "text": [
        "100218 5.57 (762, 48) ../htwmusik-models/catalog2-gt-model/SD00600000258/010005.bin.png\r\n",
        "   TRU: u'NE : Beethoven, Ludwig van: Ser.; Interpr.'\r\n",
        "   ALN: u'NE : Beethoven, Ludwig van: Ser.; Interpr.'\r\n",
        "   OUT: u'NE : Beethoven, Ludwig van: Ser.; Interpr.'\r\n"
       ]
      },
      {
       "output_type": "stream",
       "stream": "stdout",
       "text": [
        "100219 2.27 (1114, 48) ../htwmusik-models/catalog2-gt-model/SD00200000003/010007.bin.png\r\n",
        "   TRU: u'Hoffnung. Fort f\\xfcr einen Abend. Welt im Sand. Weisst du noch.'\r\n",
        "   ALN: u'Hoffnung. Fort f\\xfcr einen Abend. Welt im Sand. Weisst du noch.'\r\n",
        "   OUT: u'Hoffnung. Fort f\\xfcr einen Abend. Welt im Sand. Weisst du noch.'\r\n"
       ]
      },
      {
       "output_type": "stream",
       "stream": "stdout",
       "text": [
        "100220 15.88 (1185, 48) ../htwmusik-models/catalog2-gt-model/SD00200000003/010006.bin.png\r\n",
        "   TRU: u'Enth.: Jagd auf Liebe. Steigen Nebel. Zu Fuss. Tshgiten-Legende'\r\n",
        "   ALN: u'Enth.: Jagd auf Liebe. Steigen Nebel. Zu Fuss. Tshngiten-Legende'\r\n",
        "   OUT: u'Enth.: Jagd auf Liebe. Steigen Nebel. Zu Fuss. Tshigiten-Legende.'\r\n"
       ]
      },
      {
       "output_type": "stream",
       "stream": "stdout",
       "text": [
        "100221 0.68 (625, 48) ../htwmusik-models/catalog2-gt-model/SD00600000272/01000b.bin.png\r\n",
        "   TRU: u'Best.-Nr. Leipzig Classics 00 1806 2 BC'\r\n",
        "   ALN: u'Best.-Nr. Leipzig Classics 00 1806 2 BC'\r\n",
        "   OUT: u'Best.-Nr. Leipzig Classics 00 1806 2 BC'\r\n"
       ]
      },
      {
       "output_type": "stream",
       "stream": "stdout",
       "text": [
        "100222 15.55 (400, 48) ../htwmusik-models/catalog2-gt-model/SD00600000535/010001.bin.png\r\n",
        "   TRU: u'Fagottissimo [Forts.]'\r\n",
        "   ALN: u'Fagottissimo [Forts.]'\r\n",
        "   OUT: u'Fa ottissimo [Forts.]'\r\n"
       ]
      },
      {
       "output_type": "stream",
       "stream": "stdout",
       "text": [
        "100223 4.49 (1062, 48) ../htwmusik-models/catalog2-gt-model/SD00200000003/01000a.bin.png\r\n",
        "   TRU: u'Ein Augenblick der Z\\xe4rtlichkeit. Das Bild. Strassen, die dich'\r\n",
        "   ALN: u'Ein Augenblick der ZZ\\xe4rtlichkeit. Das Bild. Strassen, die dich'\r\n",
        "   OUT: u'Ein Augenblick der 2Z\\xe4rtlichkeit. Das Bild. Strassen, die dich'\r\n"
       ]
      },
      {
       "output_type": "stream",
       "stream": "stdout",
       "text": [
        "100224 2.43 (1072, 48) ../htwmusik-models/catalog2-gt-model/SD00600000535/010007.bin.png\r\n",
        "   TRU: u'[Foxtrott / Arr.]; Schickele, Peter: [Last Tango in Bayreuth];'\r\n",
        "   ALN: u'[Foxtrott / Arr.]; Schickele, Peter: [Last Tango in Bayreuth];'\r\n",
        "   OUT: u'[Foxtrott / Arr.]; Schickele, Peter: [Last Tango in Bayreuth];'\r\n"
       ]
      },
      {
       "output_type": "stream",
       "stream": "stdout",
       "text": [
        "100225 4.71 (440, 48) ../htwmusik-models/catalog2-gt-model/SD00600000535/010002.bin.png\r\n",
        "   TRU: u'Best.-Nr. MD + G L 3379'\r\n",
        "   ALN: u'Best.-Nr. MD + G L 3379'\r\n",
        "   OUT: u'Best. -Nr. MD + G L 3379'\r\n"
       ]
      },
      {
       "output_type": "stream",
       "stream": "stdout",
       "text": [
        "100226 66.73 (1004, 48) ../htwmusik-models/catalog2-gt-model/SD00200000003/01000c.bin.png\r\n",
        "   TRU: u'Interbr.: Rosalili. Lift. Babylon. Keks. Puhdys. Karat'\r\n",
        "   ALN: u'Interbr.: Rosalili. Lift. Babln. Keks. Puhdys. Karat'\r\n",
        "   OUT: u'Interpr.: Rosalili. Lift. B>a ess. Keks. Puhdys. Karat.'\r\n"
       ]
      },
      {
       "output_type": "stream",
       "stream": "stdout",
       "text": [
        "100227 0.12 (176, 48) ../htwmusik-models/catalog2-gt-model/SD00200000003/010001.bin.png\r\n",
        "   TRU: u'Babylon'\r\n",
        "   ALN: u'Babylon'\r\n",
        "   OUT: u'Babylon'\r\n"
       ]
      },
      {
       "output_type": "stream",
       "stream": "stdout",
       "text": [
        "100228 6.94 (1014, 48) ../htwmusik-models/catalog2-gt-model/SD00600000272/010005.bin.png\r\n",
        "   TRU: u'Enth.: Sei Lob und Ehr dem h\\xf6chsten Gut BWV 117. Ich ruf zu dir, Herr'\r\n",
        "   ALN: u'Enth.: Sei Lob und Ehr dem h\\xf6chsten Gut BWV 117. Ich ruf zu dir, Herr'\r\n",
        "   OUT: u'Enth.: Sei Lob und Ehr dem h\\xf6chsten Gut BWV 117. Ich rufzu dir, Herr'\r\n"
       ]
      },
      {
       "output_type": "stream",
       "stream": "stdout",
       "text": [
        "100229 43.59 (1004, 48) ../htwmusik-models/catalog2-gt-model/SD00200000003/01000c.bin.png\r\n",
        "   TRU: u'Interbr.: Rosalili. Lift. Babylon. Keks. Puhdys. Karat'\r\n",
        "   ALN: u'Interbr.: Rosalili. Lift. Babon. Keks. Puhdys. Karat'\r\n",
        "   OUT: u'Interbr.: Rosalili. Lift. Ba ens. Keks. Puhdys. Karat.'\r\n"
       ]
      },
      {
       "output_type": "stream",
       "stream": "stdout",
       "text": [
        "100230 24.15 (566, 48) ../htwmusik-models/catalog2-gt-model/SD00200000608/010001.bin.png\r\n",
        "   TRU: u'Bohuslav Martim\\u016f Piano Quartet'\r\n",
        "   ALN: u'Bohuslav Martim~ Piano Quartet'\r\n",
        "   OUT: u'Bohuslav Martin\\xf6 Pano DCuartet'\r\n"
       ]
      },
      {
       "output_type": "stream",
       "stream": "stdout",
       "text": [
        "100231 0.11 (246, 48) ../htwmusik-models/catalog2-gt-model/SD00600000258/010002.bin.png\r\n",
        "   TRU: u'Singverein'\r\n",
        "   ALN: u'Singverein'\r\n",
        "   OUT: u'Singverein'\r\n"
       ]
      },
      {
       "output_type": "stream",
       "stream": "stdout",
       "text": [
        "100232 35.40 (930, 48) ../htwmusik-models/catalog2-gt-model/SD00600000535/01000a.bin.png\r\n",
        "   TRU: u\"Peter: [Scherzo, Nocturno und Burlesca]; Prokof'ev, Sergej S.:\"\r\n",
        "   ALN: u\"Peter: [Scherzo, Nocturno uud Brleesca]; Prokof'ev, Sergej S.:\"\r\n",
        "   OUT: u\"Peter: [Scherzo, Nocturno  la]; Prokof'ev, Sergej S.:\"\r\n"
       ]
      },
      {
       "output_type": "stream",
       "stream": "stdout",
       "text": [
        "100233 31.84 (1004, 48) ../htwmusik-models/catalog2-gt-model/SD00200000003/01000c.bin.png\r\n",
        "   TRU: u'Interbr.: Rosalili. Lift. Babylon. Keks. Puhdys. Karat'\r\n",
        "   ALN: u'Interbr.: Rosalili. Lift. Babon. Keks. Puhdys. Karat'\r\n",
        "   OUT: u'Interbr.: Rosalili. Lift. Baeas. Keks. Puhdys. Karat.'\r\n"
       ]
      },
      {
       "output_type": "stream",
       "stream": "stdout",
       "text": [
        "100234 5.29 (1114, 48) ../htwmusik-models/catalog2-gt-model/SD00600000272/01000a.bin.png\r\n",
        "   TRU: u'Gewandhausorchester <Leipzig>... - Auf.: 1949 - 1954. - P 1965 - 1966'\r\n",
        "   ALN: u'Gewandhausorchester <Leipzig>... - Auf.: 1949 - 1954. - P 1965 - 1966'\r\n",
        "   OUT: u'Gewandhausorchester <Leipzig... - Aufh.: 1949 - 1954. -P 1965 - 1966'\r\n"
       ]
      },
      {
       "output_type": "stream",
       "stream": "stdout",
       "text": [
        "100235 1.75 (704, 48) ../htwmusik-models/catalog2-gt-model/SD00200000003/010005.bin.png\r\n",
        "   TRU: u'Vol. 4. - [1996]. - 1 Compact Disc + Beih.'\r\n",
        "   ALN: u'Vol. 4. - [1996]. - 1 Compact Disc + Beih.'\r\n",
        "   OUT: u'Vol. 4. - [1996]. - 1 Compact Disc + Beih.'\r\n"
       ]
      },
      {
       "output_type": "stream",
       "stream": "stdout",
       "text": [
        "100236 34.44 (656, 48) ../htwmusik-models/catalog2-gt-model/SD00200000608/010003.bin.png\r\n",
        "   TRU: u'Klav\\u01d0rn\\u01d0 Kvarteto Bohuslava Martim\\u016f'\r\n",
        "   ALN: u'Klav~rn~ Kvarteto Bohuslava Martim~'\r\n",
        "   OUT: u'Klavirni Kvarteto Bohuslava Martin\\xfc'\r\n"
       ]
      },
      {
       "output_type": "stream",
       "stream": "stdout",
       "text": [
        "100237 1.19 (281, 48) ../htwmusik-models/catalog2-gt-model/SD01200000085/010002.bin.png\r\n",
        "   TRU: u'55 CD 105 - 1.2'\r\n",
        "   ALN: u'55 CD 105 - 1.2'\r\n",
        "   OUT: u'55 CD 105 - 1.2'\r\n"
       ]
      },
      {
       "output_type": "stream",
       "stream": "stdout",
       "text": [
        "100238 0.40 (146, 48) ../htwmusik-models/catalog2-gt-model/SD01200000085/010004.bin.png\r\n",
        "   TRU: u'P 1995.'\r\n",
        "   ALN: u'P 1995.'\r\n",
        "   OUT: u'P 1995.'\r\n"
       ]
      },
      {
       "output_type": "stream",
       "stream": "stdout",
       "text": [
        "100239 26.72 (1004, 48) ../htwmusik-models/catalog2-gt-model/SD00200000003/01000c.bin.png\r\n",
        "   TRU: u'Interbr.: Rosalili. Lift. Babylon. Keks. Puhdys. Karat'\r\n",
        "   ALN: u'Interbr.: Rosalili. Lift. Babyon. Keks. Puhdys. Karat'\r\n",
        "   OUT: u'Interbr.: Rosalili. Lift. Bbnn. Keks. Puhdys. Karat.'\r\n"
       ]
      },
      {
       "output_type": "stream",
       "stream": "stdout",
       "text": [
        "100240 14.48 (1122, 48) ../htwmusik-models/catalog2-gt-model/SD00600000272/010004.bin.png\r\n",
        "   TRU: u'6. - [1999]. - 1 Compact Disc + Beih. - (Bach - Made in Germany : Vol. 1, 6)'\r\n",
        "   ALN: u'6. - [1999]. - 1 Compact Disc + Beih. - (Bach - Made in Germany : Vol. 1, 6)'\r\n",
        "   OUT: u'6. - [1999]. - 1 Compact Disc + Beih. - (Bach - Made in Germany ; Vol. 1, 6'\r\n"
       ]
      },
      {
       "output_type": "stream",
       "stream": "stdout",
       "text": [
        "100241 4.98 (1114, 48) ../htwmusik-models/catalog2-gt-model/SD00600000272/01000a.bin.png\r\n",
        "   TRU: u'Gewandhausorchester <Leipzig>... - Auf.: 1949 - 1954. - P 1965 - 1966'\r\n",
        "   ALN: u'Gewandhausorchester <Leipzig>... - Auf.: 1949 - 1954. - P 1965 - 1966'\r\n",
        "   OUT: u'Gewandhausorchester <Leipzig... - Aufh.: 1949 - 1954. - P 1965 - 1966'\r\n"
       ]
      },
      {
       "output_type": "stream",
       "stream": "stdout",
       "text": [
        "100242 15.49 (400, 48) ../htwmusik-models/catalog2-gt-model/SD00600000535/010001.bin.png\r\n",
        "   TRU: u'Fagottissimo [Forts.]'\r\n",
        "   ALN: u'Fagottissimo [Forts.]'\r\n",
        "   OUT: u'Fa ottissimo [Forts.]'\r\n"
       ]
      },
      {
       "output_type": "stream",
       "stream": "stdout",
       "text": [
        "100243 6.09 (740, 48) ../htwmusik-models/catalog2-gt-model/SD00200000245/010002.bin.png\r\n",
        "   TRU: u'Reimann Aribert: Das Schloss [Forts.]'\r\n",
        "   ALN: u'Reimann Aribert: Das Schloss [Forts.]'\r\n",
        "   OUT: u'Reimann Aribert: Das  Schloss [Forts.]'\r\n"
       ]
      },
      {
       "output_type": "stream",
       "stream": "stdout",
       "text": [
        "100244 1.95 (704, 48) ../htwmusik-models/catalog2-gt-model/SD00200000003/010005.bin.png\r\n",
        "   TRU: u'Vol. 4. - [1996]. - 1 Compact Disc + Beih.'\r\n",
        "   ALN: u'Vol. 4. - [1996]. - 1 Compact Disc + Beih.'\r\n",
        "   OUT: u'Vol. 4. - [1996]. - 1 Compact Disc + Beih.'\r\n"
       ]
      },
      {
       "output_type": "stream",
       "stream": "stdout",
       "text": [
        "100245 1.86 (704, 48) ../htwmusik-models/catalog2-gt-model/SD00200000003/010005.bin.png\r\n",
        "   TRU: u'Vol. 4. - [1996]. - 1 Compact Disc + Beih.'\r\n",
        "   ALN: u'Vol. 4. - [1996]. - 1 Compact Disc + Beih.'\r\n",
        "   OUT: u'Vol. 4. - [1996]. - 1 Compact Disc + Beih.'\r\n"
       ]
      },
      {
       "output_type": "stream",
       "stream": "stdout",
       "text": [
        "100246 8.43 (1058, 48) ../htwmusik-models/catalog2-gt-model/SD00600000323/010005.bin.png\r\n",
        "   TRU: u'NE: Rheinberger, Gabriel J.: [Thema mit Ver\\xe4nderungen, V1 1 2'\r\n",
        "   ALN: u'NE: Rheinberger, Gabriel J.: [Thema mit Ver\\xe4nderungen, V1 1 2'\r\n",
        "   OUT: u'NE: Rheinberger, Gabriel J. : [Thema mit Ver\\xe4nderungen, V1 1 2'\r\n"
       ]
      },
      {
       "output_type": "stream",
       "stream": "stdout",
       "text": [
        "100247 2.04 (1114, 48) ../htwmusik-models/catalog2-gt-model/SD00200000003/010007.bin.png\r\n",
        "   TRU: u'Hoffnung. Fort f\\xfcr einen Abend. Welt im Sand. Weisst du noch.'\r\n",
        "   ALN: u'Hoffnung. Fort f\\xfcr einen Abend. Welt im Sand. Weisst du noch.'\r\n",
        "   OUT: u'Hoffnung. Fort f\\xfcr einen Abend. Welt im Sand. Weisst du noch.'\r\n"
       ]
      },
      {
       "output_type": "stream",
       "stream": "stdout",
       "text": [
        "100248 1.25 (888, 48) ../htwmusik-models/catalog2-gt-model/SD01200000085/010003.bin.png\r\n",
        "   TRU: u'Walton William: Troilus and Cressida [Forts.]'\r\n",
        "   ALN: u'Walton William: Troilus and Cressida [Forts.]'\r\n",
        "   OUT: u'Walton William: Troilus and Cressida [Forts.]'\r\n"
       ]
      },
      {
       "output_type": "stream",
       "stream": "stdout",
       "text": [
        "100249 9.90 (1075, 48) ../htwmusik-models/catalog2-gt-model/SD00600000535/010006.bin.png\r\n",
        "   TRU: u'Ausw.]; Voert, Georg ter: [Polka in Swing]; Seiber, M\\xe1ty\\xe1s G.:'\r\n",
        "   ALN: u'Ausw.]; Voert, Georg ter: [Polka in Swing]; Seiber, M~ty~s G.:'\r\n",
        "   OUT: u'Ausw.]; Voert, Georg ter: [Polka in Swing]; Seiber, M~ty~s G. :'\r\n"
       ]
      },
      {
       "output_type": "stream",
       "stream": "stdout",
       "text": [
        "100250 17.63 (1024, 48) ../htwmusik-models/catalog2-gt-model/SD00600000535/010004.bin.png\r\n",
        "   TRU: u'NE: Fu\\u010dik, Julius: [Vstup gladi\\xe1tor\\u016f / Arr.]; Ridout, Alan:'\r\n",
        "   ALN: u'NE: Fu~ik, Julius: [Vstup gladi~tor~ / Arr.]; Ridout, Alan:'\r\n",
        "   OUT: u'NE: Fu\\xf6k, Julius: [Vstup gladi~tor0 / Arr.]; Ridout, Alan:'\r\n"
       ]
      },
      {
       "output_type": "stream",
       "stream": "stdout",
       "text": [
        "100251 14.72 (400, 48) ../htwmusik-models/catalog2-gt-model/SD00600000535/010001.bin.png\r\n",
        "   TRU: u'Fagottissimo [Forts.]'\r\n",
        "   ALN: u'Fagottissimo [Forts.]'\r\n",
        "   OUT: u'Fa ottissimo [Forts.]'\r\n"
       ]
      },
      {
       "output_type": "stream",
       "stream": "stdout",
       "text": [
        "100252 1.47 (440, 48) ../htwmusik-models/catalog2-gt-model/SD00600000535/010002.bin.png\r\n",
        "   TRU: u'Best.-Nr. MD + G L 3379'\r\n",
        "   ALN: u'Best.-Nr. MD + G L 3379'\r\n",
        "   OUT: u'Best.-Nr. MD + G L 3379'\r\n"
       ]
      },
      {
       "output_type": "stream",
       "stream": "stdout",
       "text": [
        "100253 2.29 (864, 48) ../htwmusik-models/catalog2-gt-model/SD00600000272/010003.bin.png\r\n",
        "   TRU: u'[Kantaten / Ausw.] Cantatas / Bach. - Hamburg : Edel.'\r\n",
        "   ALN: u'[Kantaten / Ausw.] Cantatas / Bach. - Hamburg : Edel.'\r\n",
        "   OUT: u'[Kantaten / Ausw.] Cantatas / Bach. - Hamburg : Edel.'\r\n"
       ]
      },
      {
       "output_type": "stream",
       "stream": "stdout",
       "text": [
        "100254 0.54 (277, 48) ../htwmusik-models/catalog2-gt-model/SD00200000003/01000b.bin.png\r\n",
        "   TRU: u'weiterf\\xfchren.'\r\n",
        "   ALN: u'weiterf\\xfchren.'\r\n",
        "   OUT: u'weiterf\\xfchren.'\r\n"
       ]
      },
      {
       "output_type": "stream",
       "stream": "stdout",
       "text": [
        "100255 1.51 (235, 48) ../htwmusik-models/catalog2-gt-model/SD00200000245/010005.bin.png\r\n",
        "   TRU: u'NE: Interpr.'\r\n",
        "   ALN: u'NE: Interpr.'\r\n",
        "   OUT: u'NE: Interpr.'\r\n"
       ]
      },
      {
       "output_type": "stream",
       "stream": "stdout",
       "text": [
        "100256 4.79 (826, 48) ../htwmusik-models/catalog2-gt-model/SD00600000258/010003.bin.png\r\n",
        "   TRU: u'Beethoven Ludwig van: [Sinfonien] [Forts.]'\r\n",
        "   ALN: u'Beethoven Ludwi van: [Sinfonien] [Forts.]'\r\n",
        "   OUT: u'Beethoven Ludwi van: [Sinfonien] [Forts.]'\r\n"
       ]
      },
      {
       "output_type": "stream",
       "stream": "stdout",
       "text": [
        "100257 10.95 (1134, 48) ../htwmusik-models/catalog2-gt-model/SD00600000535/010008.bin.png\r\n",
        "   TRU: u'Monti, Vittorio: [Czardas / Arr.]; Jakob, Gordon P.: [Prelude,'\r\n",
        "   ALN: u'Monti, Vittorio: [Czardas / Arr.]; Jakob, Gordon P.: [Prelude,'\r\n",
        "   OUT: u'Monti, Vittorio: [Czardas / Arr.]; Jarob, Gordon P.: [Prelude,'\r\n"
       ]
      },
      {
       "output_type": "stream",
       "stream": "stdout",
       "text": [
        "100258 8.10 (788, 48) ../htwmusik-models/catalog2-gt-model/SD00600000272/010006.bin.png\r\n",
        "   TRU: u'Jesu Christ BWV 177. Ein ungef\\xe4rbt Gem\\xfcte BWV 24.'\r\n",
        "   ALN: u'Jesu Christ BWV 177. Ein ungef\\xe4rbt Gem\\xfcte BWV 24.'\r\n",
        "   OUT: u'Jesu Christ BWV 177. Ein ungeflrbt Gem\\xfcte BWV 24.'\r\n"
       ]
      },
      {
       "output_type": "stream",
       "stream": "stdout",
       "text": [
        "100259 10.66 (1134, 48) ../htwmusik-models/catalog2-gt-model/SD00600000535/010008.bin.png\r\n",
        "   TRU: u'Monti, Vittorio: [Czardas / Arr.]; Jakob, Gordon P.: [Prelude,'\r\n",
        "   ALN: u'Monti, Vittorio: [Czardas / Arr.]; Jakob, Gordon P.: [Prelude,'\r\n",
        "   OUT: u'Monti, Vittorio: [Czardas / Arr.]; Jarob, Gordon P.: [Prelude,'\r\n"
       ]
      },
      {
       "output_type": "stream",
       "stream": "stdout",
       "text": [
        "100260 8.55 (1094, 48) ../htwmusik-models/catalog2-gt-model/SD00600000535/010009.bin.png\r\n",
        "   TRU: u'fugue and scherzo]; Bozza, Eug\\xe8ne: [Divertissement]; Jansen,'\r\n",
        "   ALN: u'fugue and scherzo]; Bozza, Eug\\xe8ne: [Divertissement]; Jansen,'\r\n",
        "   OUT: u'fugue and scherzo]; Bozza, Eugbne: [Divertissement]; Jansen,'\r\n"
       ]
      },
      {
       "output_type": "stream",
       "stream": "stdout",
       "text": [
        "100261 1.37 (704, 48) ../htwmusik-models/catalog2-gt-model/SD00200000003/010005.bin.png\r\n",
        "   TRU: u'Vol. 4. - [1996]. - 1 Compact Disc + Beih.'\r\n",
        "   ALN: u'Vol. 4. - [1996]. - 1 Compact Disc + Beih.'\r\n",
        "   OUT: u'Vol. 4. - [1996]. - 1 Compact Disc + Beih.'\r\n"
       ]
      },
      {
       "output_type": "stream",
       "stream": "stdout",
       "text": [
        "100262 0.10 (176, 48) ../htwmusik-models/catalog2-gt-model/SD00200000003/010001.bin.png\r\n",
        "   TRU: u'Babylon'\r\n",
        "   ALN: u'Babylon'\r\n",
        "   OUT: u'Babylon'\r\n"
       ]
      },
      {
       "output_type": "stream",
       "stream": "stdout",
       "text": [
        "100263 4.82 (280, 48) ../htwmusik-models/catalog2-gt-model/SD00200000245/010006.bin.png\r\n",
        "   TRU: u'55 CD 223 - 1.2'\r\n",
        "   ALN: u'55 CD 223 - 1.2'\r\n",
        "   OUT: u'55 CD 225 - 1.2'\r\n"
       ]
      },
      {
       "output_type": "stream",
       "stream": "stdout",
       "text": [
        "100264 4.11 (280, 48) ../htwmusik-models/catalog2-gt-model/SD00200000245/010006.bin.png\r\n",
        "   TRU: u'55 CD 223 - 1.2'\r\n",
        "   ALN: u'55 CD 223 - 1.2'\r\n",
        "   OUT: u'55 CD 225 - 1.2'\r\n"
       ]
      },
      {
       "output_type": "stream",
       "stream": "stdout",
       "text": [
        "100265 10.41 (1134, 48) ../htwmusik-models/catalog2-gt-model/SD00600000535/010008.bin.png\r\n",
        "   TRU: u'Monti, Vittorio: [Czardas / Arr.]; Jakob, Gordon P.: [Prelude,'\r\n",
        "   ALN: u'Monti, Vittorio: [Czardas / Arr.]; Jakob, Gordon P.: [Prelude,'\r\n",
        "   OUT: u'Monti, Vittorio: [Czardas / Arr.]; Jacob, Gordon P.: [Prelude,'\r\n"
       ]
      },
      {
       "output_type": "stream",
       "stream": "stdout",
       "text": [
        "100266 0.61 (370, 48) ../htwmusik-models/catalog2-gt-model/SD00200000003/010004.bin.png\r\n",
        "   TRU: u'Edition Barbarossa.'\r\n",
        "   ALN: u'Edition Barbarossa.'\r\n",
        "   OUT: u'Edition Barbarossa.'\r\n"
       ]
      },
      {
       "output_type": "stream",
       "stream": "stdout",
       "text": [
        "100267 15.98 (288, 48) ../htwmusik-models/catalog2-gt-model/SD00600000272/01000c.bin.png\r\n",
        "   TRU: u'Ne: Ser.; Interpr.'\r\n",
        "   ALN: u'Ne: Ser.; Interpr.'\r\n",
        "   OUT: u'NE: Ser.; Interpr.'\r\n"
       ]
      },
      {
       "output_type": "stream",
       "stream": "stdout",
       "text": [
        "100268 16.88 (566, 48) ../htwmusik-models/catalog2-gt-model/SD00200000608/010001.bin.png\r\n",
        "   TRU: u'Bohuslav Martim\\u016f Piano Quartet'\r\n",
        "   ALN: u'Bohuslav Martim~ Piano Quartet'\r\n",
        "   OUT: u'Bohuslav Martin Piano uartet'\r\n"
       ]
      },
      {
       "output_type": "stream",
       "stream": "stdout",
       "text": [
        "100269 0.11 (176, 48) ../htwmusik-models/catalog2-gt-model/SD00200000003/010001.bin.png\r\n",
        "   TRU: u'Babylon'\r\n",
        "   ALN: u'Babylon'\r\n",
        "   OUT: u'Babylon'\r\n"
       ]
      },
      {
       "output_type": "stream",
       "stream": "stdout",
       "text": [
        "100270 15.25 (400, 48) ../htwmusik-models/catalog2-gt-model/SD00600000535/010001.bin.png\r\n",
        "   TRU: u'Fagottissimo [Forts.]'\r\n",
        "   ALN: u'Fagottissimo [Forts.]'\r\n",
        "   OUT: u'Fa ottissimo [Forts.]'\r\n"
       ]
      },
      {
       "output_type": "stream",
       "stream": "stdout",
       "text": [
        "100271 0.79 (281, 48) ../htwmusik-models/catalog2-gt-model/SD01200000085/010002.bin.png\r\n",
        "   TRU: u'55 CD 105 - 1.2'\r\n",
        "   ALN: u'55 CD 105 - 1.2'\r\n",
        "   OUT: u'55 CD 105 - 1.2'\r\n"
       ]
      },
      {
       "output_type": "stream",
       "stream": "stdout",
       "text": [
        "100272 0.72 (141, 48) ../htwmusik-models/catalog2-gt-model/SD00600000535/010003.bin.png\r\n",
        "   TRU: u'CD 317'\r\n",
        "   ALN: u'CD 317'\r\n",
        "   OUT: u'CD 317'\r\n"
       ]
      },
      {
       "output_type": "stream",
       "stream": "stdout",
       "text": [
        "100273 16.43 (497, 48) ../htwmusik-models/catalog2-gt-model/SD00200000245/010004.bin.png\r\n",
        "   TRU: u'Best.-Nr. Wergo Wer 6614-2'\r\n",
        "   ALN: u'Best.-Nr. Wergo Wer 6614-2'\r\n",
        "   OUT: u'Best.-Nr. Wergo WER 6614--2'\r\n"
       ]
      },
      {
       "output_type": "stream",
       "stream": "stdout",
       "text": [
        "100274 1.12 (440, 48) ../htwmusik-models/catalog2-gt-model/SD00600000535/010002.bin.png\r\n",
        "   TRU: u'Best.-Nr. MD + G L 3379'\r\n",
        "   ALN: u'Best.-Nr. MD + G L 3379'\r\n",
        "   OUT: u'Best.-Nr. MD + G L 3379'\r\n"
       ]
      },
      {
       "output_type": "stream",
       "stream": "stdout",
       "text": [
        "100275 0.37 (146, 48) ../htwmusik-models/catalog2-gt-model/SD01200000085/010004.bin.png\r\n",
        "   TRU: u'P 1995.'\r\n",
        "   ALN: u'P 1995.'\r\n",
        "   OUT: u'P 1995.'\r\n"
       ]
      },
      {
       "output_type": "stream",
       "stream": "stdout",
       "text": [
        "100276 1.37 (1141, 48) ../htwmusik-models/catalog2-gt-model/SD00200000003/010009.bin.png\r\n",
        "   TRU: u'die Weide. Einmal unsichtbar sein. Schwester. Heisses Land.'\r\n",
        "   ALN: u'die Weide. Einmal unsichtbar sein. Schwester. Heisses Land.'\r\n",
        "   OUT: u'die Weide. Einmal unsichtbar sein. Schwester. Heisses Land.'\r\n"
       ]
      },
      {
       "output_type": "stream",
       "stream": "stdout",
       "text": [
        "100277 0.45 (277, 48) ../htwmusik-models/catalog2-gt-model/SD00200000003/01000b.bin.png\r\n",
        "   TRU: u'weiterf\\xfchren.'\r\n",
        "   ALN: u'weiterf\\xfchren.'\r\n",
        "   OUT: u'weiterf\\xfchren.'\r\n"
       ]
      },
      {
       "output_type": "stream",
       "stream": "stdout",
       "text": [
        "100278 1.97 (864, 48) ../htwmusik-models/catalog2-gt-model/SD00600000272/010003.bin.png\r\n",
        "   TRU: u'[Kantaten / Ausw.] Cantatas / Bach. - Hamburg : Edel.'\r\n",
        "   ALN: u'[Kantaten / Ausw.] Cantatas / Bach. - Hamburg : Edel.'\r\n",
        "   OUT: u'[Kantaten / Ausw.] Cantatas / Bach. - Hamburg : Edel.'\r\n"
       ]
      },
      {
       "output_type": "stream",
       "stream": "stdout",
       "text": [
        "100279 14.33 (1017, 48) ../htwmusik-models/catalog2-gt-model/SD00600000272/010001.bin.png\r\n",
        "   TRU: u'Gewandhausorchester <Leipzig> 55 CD 1779 - 1,6'\r\n",
        "   ALN: u'Gewandhausorchester <Leipzig> 55 CD 1779 - 1,6'\r\n",
        "   OUT: u'Gewandhausorchester <Leipzig> 55 CD 1779 - 1,6'\r\n"
       ]
      },
      {
       "output_type": "stream",
       "stream": "stdout",
       "text": [
        "100280 7.27 (1014, 48) ../htwmusik-models/catalog2-gt-model/SD00600000272/010008.bin.png\r\n",
        "   TRU: u'[Alt]. Lutze, Gert [Ten]. Hauptmann, Hans [Bass]. K\\xe4stner, Hannes'\r\n",
        "   ALN: u'[Alt]. Lutze, Gert [Ten]. Hauptmann, Hans [Bass]. K\\xe4stner, Hannes'\r\n",
        "   OUT: u'[Alt]. Lutze, Gert [Ten]. Hauptmann, Hans [Bass]. K~stner, Hannes'\r\n"
       ]
      },
      {
       "output_type": "stream",
       "stream": "stdout",
       "text": [
        "100281 5.21 (1190, 48) ../htwmusik-models/catalog2-gt-model/SD00200000003/010008.bin.png\r\n",
        "   TRU: u'Wir gehn zu mir. Der Morgen auf dem Gipfel. Aus dem All. Am Fluss'\r\n",
        "   ALN: u'Wir gehn zu mir. Der Morgen auf dem Gipfel. Aus dem All. Am Fluss'\r\n",
        "   OUT: u'Wir gehn zu mir. Der Morgen auf dem Gipfel. Aus dem All. Am Fluss'\r\n"
       ]
      },
      {
       "output_type": "stream",
       "stream": "stdout",
       "text": [
        "100282 11.34 (288, 48) ../htwmusik-models/catalog2-gt-model/SD00600000272/01000c.bin.png\r\n",
        "   TRU: u'Ne: Ser.; Interpr.'\r\n",
        "   ALN: u'Ne: Ser.; Interpr.'\r\n",
        "   OUT: u'NE: Ser.; Interpr.'\r\n"
       ]
      },
      {
       "output_type": "stream",
       "stream": "stdout",
       "text": [
        "100283 9.76 (1122, 48) ../htwmusik-models/catalog2-gt-model/SD00600000272/010004.bin.png\r\n",
        "   TRU: u'6. - [1999]. - 1 Compact Disc + Beih. - (Bach - Made in Germany : Vol. 1, 6)'\r\n",
        "   ALN: u'6. - [1999]. - 1 Compact Disc + Beih. - (Bach - Made in Germany : Vol. 1, 6)'\r\n",
        "   OUT: u'6. - [1999]. - 1 Compact Disc + Beih. - (Bach - Made in Germany ; Vol. 1, 6'\r\n"
       ]
      },
      {
       "output_type": "stream",
       "stream": "stdout",
       "text": [
        "100284 5.71 (740, 48) ../htwmusik-models/catalog2-gt-model/SD00200000245/010002.bin.png\r\n",
        "   TRU: u'Reimann Aribert: Das Schloss [Forts.]'\r\n",
        "   ALN: u'Reimann Aribert: Das Schloss [Forts.]'\r\n",
        "   OUT: u'Reimann Aribert: Das   Schloss [Forts.]'\r\n"
       ]
      },
      {
       "output_type": "stream",
       "stream": "stdout",
       "text": [
        "100285 2.11 (730, 48) ../htwmusik-models/catalog2-gt-model/SD00600000258/010004.bin.png\r\n",
        "   TRU: u'Best.-Nr. Deutsche Grammophon 453 701-2'\r\n",
        "   ALN: u'Best.-Nr. Deutsche Grammophon 453 701-2'\r\n",
        "   OUT: u'Best.-Nr. Deutsche Grammophon 453 701-2'\r\n"
       ]
      },
      {
       "output_type": "stream",
       "stream": "stdout",
       "text": [
        "100286 0.09 (176, 48) ../htwmusik-models/catalog2-gt-model/SD00200000003/010001.bin.png\r\n",
        "   TRU: u'Babylon'\r\n",
        "   ALN: u'Babylon'\r\n",
        "   OUT: u'Babylon'\r\n"
       ]
      },
      {
       "output_type": "stream",
       "stream": "stdout",
       "text": [
        "100287 0.29 (258, 48) ../htwmusik-models/catalog2-gt-model/SD00600000258/010006.bin.png\r\n",
        "   TRU: u'55 CD 77 - 1'\r\n",
        "   ALN: u'55 CD 77 - 1'\r\n",
        "   OUT: u'55 CD 77 - 1'\r\n"
       ]
      },
      {
       "output_type": "stream",
       "stream": "stdout",
       "text": [
        "100288 5.85 (1058, 48) ../htwmusik-models/catalog2-gt-model/SD00600000323/010005.bin.png\r\n",
        "   TRU: u'NE: Rheinberger, Gabriel J.: [Thema mit Ver\\xe4nderungen, V1 1 2'\r\n",
        "   ALN: u'NE: Rheinberger, Gabriel J.: [Thema mit Ver\\xe4nderungen, V1 1 2'\r\n",
        "   OUT: u'NE: Rheinberger, Gabriel J.: [Thema mit Ver\\xe4nderungen, V1 1 2'\r\n"
       ]
      },
      {
       "output_type": "stream",
       "stream": "stdout",
       "text": [
        "100289 7.74 (1007, 48) ../htwmusik-models/catalog2-gt-model/SD00600000272/010009.bin.png\r\n",
        "   TRU: u'[Org]. Ramin, G\\xfcnther [Dir]. Thomanerchor <Leipzig>.'\r\n",
        "   ALN: u'[Org]. Ramin, G\\xfcnther [Dir]. Thomanerchor <Leipzig>.'\r\n",
        "   OUT: u'[Org]. Ramin, G\\xfcnther [Dir]. Thomanerchor <Leipzig.'\r\n"
       ]
      },
      {
       "output_type": "stream",
       "stream": "stdout",
       "text": [
        "100290 1.09 (888, 48) ../htwmusik-models/catalog2-gt-model/SD01200000085/010003.bin.png\r\n",
        "   TRU: u'Walton William: Troilus and Cressida [Forts.]'\r\n",
        "   ALN: u'Walton William: Troilus and Cressida [Forts.]'\r\n",
        "   OUT: u'Walton William: Troilus and Cressida [Forts.]'\r\n"
       ]
      },
      {
       "output_type": "stream",
       "stream": "stdout",
       "text": [
        "100291 4.14 (762, 48) ../htwmusik-models/catalog2-gt-model/SD00600000258/010005.bin.png\r\n",
        "   TRU: u'NE : Beethoven, Ludwig van: Ser.; Interpr.'\r\n",
        "   ALN: u'NE : Beethoven, Ludwig van: Ser.; Interpr.'\r\n",
        "   OUT: u'NE: Beethoven, Ludig van: Ser.; Interpr.'\r\n"
       ]
      },
      {
       "output_type": "stream",
       "stream": "stdout",
       "text": [
        "100292 9.82 (1134, 48) ../htwmusik-models/catalog2-gt-model/SD00600000535/010008.bin.png\r\n",
        "   TRU: u'Monti, Vittorio: [Czardas / Arr.]; Jakob, Gordon P.: [Prelude,'\r\n",
        "   ALN: u'Monti, Vittorio: [Czardas / Arr.]; Jakob, Gordon P.: [Prelude,'\r\n",
        "   OUT: u'Monti, Vittorio: [Czardas / Arr.]; Jarob, Gordon P.: [Prelude,'\r\n"
       ]
      },
      {
       "output_type": "stream",
       "stream": "stdout",
       "text": [
        "100293 0.87 (625, 48) ../htwmusik-models/catalog2-gt-model/SD00600000272/01000b.bin.png\r\n",
        "   TRU: u'Best.-Nr. Leipzig Classics 00 1806 2 BC'\r\n",
        "   ALN: u'Best.-Nr. Leipzig Classics 00 1806 2 BC'\r\n",
        "   OUT: u'Best.-Nr. Leipzig Classics 00 1806 2 BC'\r\n"
       ]
      },
      {
       "output_type": "stream",
       "stream": "stdout",
       "text": [
        "100294 2.63 (956, 48) ../htwmusik-models/catalog2-gt-model/SD00600000323/010006.bin.png\r\n",
        "   TRU: u'Va Vc op. 93]; Rheinberger, Gabriel J.: [Nonette op. 139];'\r\n",
        "   ALN: u'Va Vc op. 93]; Rheinberger, Gabriel J.: [Nonette op. 139];'\r\n",
        "   OUT: u'Va Vc op. 93]; Rheinberger, Gabriel J.: [Nonette op. 139];'\r\n"
       ]
      },
      {
       "output_type": "stream",
       "stream": "stdout",
       "text": [
        "100295 22.90 (1110, 48) ../htwmusik-models/catalog2-gt-model/SD00200000003/010003.bin.png\r\n",
        "   TRU: u'Beatkiste : Hit-Rarit\\xe4ten aus dem DDR-Rundfunkarchiv. - Berlin :'\r\n",
        "   ALN: u'Beaattiste : Hit-Rarit\\xe4ten aus dem DDR-Rundfunkarchiv. - Berlin :'\r\n",
        "   OUT: u'Beee : Hit-Rarit\\xe4ten aus dem DDR-Rundfunkarchiv. - Berlin :'\r\n"
       ]
      },
      {
       "output_type": "stream",
       "stream": "stdout",
       "text": [
        "100296 13.67 (1185, 48) ../htwmusik-models/catalog2-gt-model/SD00200000003/010006.bin.png\r\n",
        "   TRU: u'Enth.: Jagd auf Liebe. Steigen Nebel. Zu Fuss. Tshgiten-Legende'\r\n",
        "   ALN: u'Enth.: Jagd auf Liebe. Steigen Nebel. Zu Fuss. Tshgiten-Legende'\r\n",
        "   OUT: u'Enth.: Jagd auf Liebe. Steigen Nebel. Zu Fuss. Tshigiten-Legende.'\r\n"
       ]
      },
      {
       "output_type": "stream",
       "stream": "stdout",
       "text": [
        "100297 29.19 (1004, 48) ../htwmusik-models/catalog2-gt-model/SD00200000003/01000c.bin.png\r\n",
        "   TRU: u'Interbr.: Rosalili. Lift. Babylon. Keks. Puhdys. Karat'\r\n",
        "   ALN: u'Interbr.: Rosalili. Lift. Babyon. Keks. Puhdys. Karat'\r\n",
        "   OUT: u'Interbr.: Rosalili. Lift. Ba ebns. Keks. Puhdys. Karat.'\r\n"
       ]
      },
      {
       "output_type": "stream",
       "stream": "stdout",
       "text": [
        "100298 0.04 (132, 48) ../htwmusik-models/catalog2-gt-model/SD00200000608/010002.bin.png\r\n",
        "   TRU: u'siehe'\r\n",
        "   ALN: u'siehe'\r\n",
        "   OUT: u'siehe'\r\n"
       ]
      },
      {
       "output_type": "stream",
       "stream": "stdout",
       "text": [
        "100299 17.21 (1023, 48) ../htwmusik-models/catalog2-gt-model/SD00600000323/010002.bin.png\r\n",
        "   TRU: u'Rheinberger Gabriel J.: [Trios, V1 Vc Kl op. 112] [Forts.]'\r\n",
        "   ALN: u'Rheinberger Gabriel J.: [Trios, V1 Vc Kl op. 112] [Forts.]'\r\n",
        "   OUT: u'Rheinber er Gabriel J.: [Trios, V1 Vc Kl op. 112] [Forts.]'\r\n"
       ]
      },
      {
       "output_type": "stream",
       "stream": "stdout",
       "text": [
        "100300 1.53 (119, 48) ../htwmusik-models/catalog2-gt-model/SD00600000323/010001.bin.png\r\n",
        "   TRU: u'CD 38'\r\n",
        "   ALN: u'CD 38'\r\n",
        "   OUT: u'CD 38'\r\n"
       ]
      },
      {
       "output_type": "stream",
       "stream": "stdout",
       "text": [
        "100301 5.03 (1042, 48) ../htwmusik-models/catalog2-gt-model/SD00600000535/010005.bin.png\r\n",
        "   TRU: u'[Pigs]; Weissenborn, Christian J.: [Stucke, Fg 1 2 3 op. 4 /'\r\n",
        "   ALN: u'[Pigs]; Weissenborn, Christian J.: [Stucke, Fg 1 2 3 op. 4 /'\r\n",
        "   OUT: u'[Pigs]; Weissenborn, Christian J.: [Stucke, Fg 1 2 3 op. 4 /'\r\n"
       ]
      },
      {
       "output_type": "stream",
       "stream": "stdout",
       "text": [
        "100302 0.52 (146, 48) ../htwmusik-models/catalog2-gt-model/SD01200000085/010004.bin.png\r\n",
        "   TRU: u'P 1995.'\r\n",
        "   ALN: u'P 1995.'\r\n",
        "   OUT: u'P 1995.'\r\n"
       ]
      },
      {
       "output_type": "stream",
       "stream": "stdout",
       "text": [
        "100303 3.72 (1114, 48) ../htwmusik-models/catalog2-gt-model/SD00600000272/01000a.bin.png\r\n",
        "   TRU: u'Gewandhausorchester <Leipzig>... - Auf.: 1949 - 1954. - P 1965 - 1966'\r\n",
        "   ALN: u'Gewandhausorchester <Leipzig>... - Auf.: 1949 - 1954. - P 1965 - 1966'\r\n",
        "   OUT: u'Gewandhausorchester <Leipzig>... - Aufn.: 1949 - 1954. - P 1965 - 1966'\r\n"
       ]
      },
      {
       "output_type": "stream",
       "stream": "stdout",
       "text": [
        "100304 0.40 (258, 48) ../htwmusik-models/catalog2-gt-model/SD00600000258/010006.bin.png\r\n",
        "   TRU: u'55 CD 77 - 1'\r\n",
        "   ALN: u'55 CD 77 - 1'\r\n",
        "   OUT: u'55 CD 77 - 1'\r\n"
       ]
      },
      {
       "output_type": "stream",
       "stream": "stdout",
       "text": [
        "100305 25.33 (1004, 48) ../htwmusik-models/catalog2-gt-model/SD00200000003/01000c.bin.png\r\n",
        "   TRU: u'Interbr.: Rosalili. Lift. Babylon. Keks. Puhdys. Karat'\r\n",
        "   ALN: u'Interbr.: Rosalili. Lift. Babon. Keks. Puhdys. Karat'\r\n",
        "   OUT: u'Interbr.: Rosalili. Lift. Bannn. Keks. Puhdys. Karat.'\r\n"
       ]
      },
      {
       "output_type": "stream",
       "stream": "stdout",
       "text": [
        "100306 1.39 (280, 48) ../htwmusik-models/catalog2-gt-model/SD00200000245/010006.bin.png\r\n",
        "   TRU: u'55 CD 223 - 1.2'\r\n",
        "   ALN: u'55 CD 223 - 1.2'\r\n",
        "   OUT: u'55 CD 223 - 1.2'\r\n"
       ]
      },
      {
       "output_type": "stream",
       "stream": "stdout",
       "text": [
        "100307 0.37 (146, 48) ../htwmusik-models/catalog2-gt-model/SD01200000085/010004.bin.png\r\n",
        "   TRU: u'P 1995.'\r\n",
        "   ALN: u'P 1995.'\r\n",
        "   OUT: u'P 1995.'\r\n"
       ]
      },
      {
       "output_type": "stream",
       "stream": "stdout",
       "text": [
        "100308 1.11 (888, 48) ../htwmusik-models/catalog2-gt-model/SD01200000085/010003.bin.png\r\n",
        "   TRU: u'Walton William: Troilus and Cressida [Forts.]'\r\n",
        "   ALN: u'Walton William: Troilus and Cressida [Forts.]'\r\n",
        "   OUT: u'Walton William: Troilus and Cressida [Forts.]'\r\n"
       ]
      },
      {
       "output_type": "stream",
       "stream": "stdout",
       "text": [
        "100309 0.84 (625, 48) ../htwmusik-models/catalog2-gt-model/SD00600000272/01000b.bin.png\r\n",
        "   TRU: u'Best.-Nr. Leipzig Classics 00 1806 2 BC'\r\n",
        "   ALN: u'Best.-Nr. Leipzig Classics 00 1806 2 BC'\r\n",
        "   OUT: u'Best.-Nr. Leipzig Classics 00 1806 2 BC'\r\n"
       ]
      },
      {
       "output_type": "stream",
       "stream": "stdout",
       "text": [
        "100310 0.16 (246, 48) ../htwmusik-models/catalog2-gt-model/SD00600000258/010002.bin.png\r\n",
        "   TRU: u'Singverein'\r\n",
        "   ALN: u'Singverein'\r\n",
        "   OUT: u'Singverein'\r\n"
       ]
      },
      {
       "output_type": "stream",
       "stream": "stdout",
       "text": [
        "100311 2.91 (864, 48) ../htwmusik-models/catalog2-gt-model/SD00600000272/010003.bin.png\r\n",
        "   TRU: u'[Kantaten / Ausw.] Cantatas / Bach. - Hamburg : Edel.'\r\n",
        "   ALN: u'[Kantaten / Ausw.] Cantatas / Bach. - Hamburg : Edel.'\r\n",
        "   OUT: u'[K.antaten / Ausw.] Cantatas / Bach. - Hamburg : Edel.'\r\n"
       ]
      },
      {
       "output_type": "stream",
       "stream": "stdout",
       "text": [
        "100312 1.76 (956, 48) ../htwmusik-models/catalog2-gt-model/SD00600000323/010006.bin.png\r\n",
        "   TRU: u'Va Vc op. 93]; Rheinberger, Gabriel J.: [Nonette op. 139];'\r\n",
        "   ALN: u'Va Vc op. 93]; Rheinberger, Gabriel J.: [Nonette op. 139];'\r\n",
        "   OUT: u'Va Vc op. 93]; Rheinberger, Gabriel J.: [Nonette op. 139];'\r\n"
       ]
      },
      {
       "output_type": "stream",
       "stream": "stdout",
       "text": [
        "100313 2.40 (1072, 48) ../htwmusik-models/catalog2-gt-model/SD00600000535/010007.bin.png\r\n",
        "   TRU: u'[Foxtrott / Arr.]; Schickele, Peter: [Last Tango in Bayreuth];'\r\n",
        "   ALN: u'[Foxtrott / Arr.]; Schickele, Peter: [Last Tango in Bayreuth];'\r\n",
        "   OUT: u'[Foxtrott / Arr.]; Schickele, Peter: [Last Tango in Bayreuth];'\r\n"
       ]
      },
      {
       "output_type": "stream",
       "stream": "stdout",
       "text": [
        "100314 0.93 (280, 48) ../htwmusik-models/catalog2-gt-model/SD00200000245/010006.bin.png\r\n",
        "   TRU: u'55 CD 223 - 1.2'\r\n",
        "   ALN: u'55 CD 223 - 1.2'\r\n",
        "   OUT: u'55 CD 223 - 1.2'\r\n"
       ]
      },
      {
       "output_type": "stream",
       "stream": "stdout",
       "text": [
        "100315 15.26 (400, 48) ../htwmusik-models/catalog2-gt-model/SD00600000535/010001.bin.png\r\n",
        "   TRU: u'Fagottissimo [Forts.]'\r\n",
        "   ALN: u'Fagottissimo [Forts.]'\r\n",
        "   OUT: u'Fa ottissimo [Forts.]'\r\n"
       ]
      },
      {
       "output_type": "stream",
       "stream": "stdout",
       "text": [
        "100316 14.25 (1122, 48) ../htwmusik-models/catalog2-gt-model/SD00600000272/010004.bin.png\r\n",
        "   TRU: u'6. - [1999]. - 1 Compact Disc + Beih. - (Bach - Made in Germany : Vol. 1, 6)'\r\n",
        "   ALN: u'6. - [1999]. - 1 Compact Disc + Beih. - (Bach - Made in Germany : Vol. 1, 6)'\r\n",
        "   OUT: u'6. - [1999]. - 1 Compact Disc + Beih. - (Bach - Made in Germany ; Vol. 1, 6]'\r\n"
       ]
      },
      {
       "output_type": "stream",
       "stream": "stdout",
       "text": [
        "100317 4.79 (826, 48) ../htwmusik-models/catalog2-gt-model/SD00600000258/010003.bin.png\r\n",
        "   TRU: u'Beethoven Ludwig van: [Sinfonien] [Forts.]'\r\n",
        "   ALN: u'Beethoven Ludwi van: [Sinfonien] [Forts.]'\r\n",
        "   OUT: u'Beethoven Ludwi van: [Sinfonien] [Forts.]'\r\n"
       ]
      },
      {
       "output_type": "stream",
       "stream": "stdout",
       "text": [
        "100318 5.37 (140, 48) ../htwmusik-models/catalog2-gt-model/SD00200000245/010003.bin.png\r\n",
        "   TRU: u'P 1997'\r\n",
        "   ALN: u'P 1997'\r\n",
        "   OUT: u'P 1997.'\r\n"
       ]
      },
      {
       "output_type": "stream",
       "stream": "stdout",
       "text": [
        "100319 3.34 (566, 48) ../htwmusik-models/catalog2-gt-model/SD01200000085/010005.bin.png\r\n",
        "   TRU: u'Best. -Nr. Chandos CHAN 9370/71'\r\n",
        "   ALN: u'Best. -Nr. Chandos CHAN 9370/71'\r\n",
        "   OUT: u'Best.-Nr. Chandos CHAN 9370/71'\r\n"
       ]
      },
      {
       "output_type": "stream",
       "stream": "stdout",
       "text": [
        "100320 8.88 (1134, 48) ../htwmusik-models/catalog2-gt-model/SD00600000535/010008.bin.png\r\n",
        "   TRU: u'Monti, Vittorio: [Czardas / Arr.]; Jakob, Gordon P.: [Prelude,'\r\n",
        "   ALN: u'Monti, Vittorio: [Czardas / Arr.]; Jakob, Gordon P.: [Prelude,'\r\n",
        "   OUT: u'Monti, Vittorio: [Czardas / Arr.]; Janob, Gordon P.: [Prelude,'\r\n"
       ]
      },
      {
       "output_type": "stream",
       "stream": "stdout",
       "text": [
        "100321 43.01 (405, 48) ../htwmusik-models/catalog2-gt-model/SD00600000272/010002.bin.png\r\n",
        "   TRU: u'Bach, Johann Sebastian:'\r\n",
        "   ALN: u'Bach Johann ebastian:'\r\n",
        "   OUT: u'B ch J h nn ebastian:'\r\n"
       ]
      },
      {
       "output_type": "stream",
       "stream": "stdout",
       "text": [
        "100322 1.63 (704, 48) ../htwmusik-models/catalog2-gt-model/SD00200000003/010005.bin.png\r\n",
        "   TRU: u'Vol. 4. - [1996]. - 1 Compact Disc + Beih.'\r\n",
        "   ALN: u'Vol. 4. - [1996]. - 1 Compact Disc + Beih.'\r\n",
        "   OUT: u'Vol. 4. - [1996]. - 1 Compact Disc + Beih.'\r\n"
       ]
      },
      {
       "output_type": "stream",
       "stream": "stdout",
       "text": [
        "100323 0.51 (258, 48) ../htwmusik-models/catalog2-gt-model/SD00600000258/010006.bin.png\r\n",
        "   TRU: u'55 CD 77 - 1'\r\n",
        "   ALN: u'55 CD 77 - 1'\r\n",
        "   OUT: u'55 CD 77 - 1'\r\n"
       ]
      },
      {
       "output_type": "stream",
       "stream": "stdout",
       "text": [
        "100324 0.54 (258, 48) ../htwmusik-models/catalog2-gt-model/SD00600000258/010006.bin.png\r\n",
        "   TRU: u'55 CD 77 - 1'\r\n",
        "   ALN: u'55 CD 77 - 1'\r\n",
        "   OUT: u'55 CD 77 - 1'\r\n"
       ]
      },
      {
       "output_type": "stream",
       "stream": "stdout",
       "text": [
        "100325 4.22 (1007, 48) ../htwmusik-models/catalog2-gt-model/SD00600000272/010009.bin.png\r\n",
        "   TRU: u'[Org]. Ramin, G\\xfcnther [Dir]. Thomanerchor <Leipzig>.'\r\n",
        "   ALN: u'[Org]. Ramin, G\\xfcnther [Dir]. Thomanerchor <Leipzig>.'\r\n",
        "   OUT: u'[Org]. Ramin, G\\xfcnther [Dir]. Thomanerchor <Leipzig>.'\r\n"
       ]
      },
      {
       "output_type": "stream",
       "stream": "stdout",
       "text": [
        "100326 8.09 (832, 48) ../htwmusik-models/catalog2-gt-model/SD00600000258/010001.bin.png\r\n",
        "   TRU: u'2 Gesellschaft der Musikfreunde <Wien> /'\r\n",
        "   ALN: u'22 Gesellschaft der Musikfreunde <Wien> /'\r\n",
        "   OUT: u'\\xe4. Gesellschaft der Musikfreunde <Wien> /'\r\n"
       ]
      },
      {
       "output_type": "stream",
       "stream": "stdout",
       "text": [
        "100327 28.40 (1110, 48) ../htwmusik-models/catalog2-gt-model/SD00200000003/010003.bin.png\r\n",
        "   TRU: u'Beatkiste : Hit-Rarit\\xe4ten aus dem DDR-Rundfunkarchiv. - Berlin :'\r\n",
        "   ALN: u'Beatatkste : Hit-Rarit\\xe4ten aus dem DDR-Rundfunkarchiv. - Berlin :'\r\n",
        "   OUT: u'Be4e : Hit-Rarit\\xe4ten aus dem DDR-Rundfunkarchiv. - Berlin :'\r\n"
       ]
      },
      {
       "output_type": "stream",
       "stream": "stdout",
       "text": [
        "100328 1.58 (730, 48) ../htwmusik-models/catalog2-gt-model/SD00600000258/010004.bin.png\r\n",
        "   TRU: u'Best.-Nr. Deutsche Grammophon 453 701-2'\r\n",
        "   ALN: u'Best.-Nr. Deutsche Grammophon 453 701-2'\r\n",
        "   OUT: u'Best.-Nr. Deutsche Grammophon 453 701-2'\r\n"
       ]
      },
      {
       "output_type": "stream",
       "stream": "stdout",
       "text": [
        "100329 12.86 (1122, 48) ../htwmusik-models/catalog2-gt-model/SD00600000272/010004.bin.png\r\n",
        "   TRU: u'6. - [1999]. - 1 Compact Disc + Beih. - (Bach - Made in Germany : Vol. 1, 6)'\r\n",
        "   ALN: u'6. - [1999]. - 1 Compact Disc + Beih. - (Bach - Made in Germany : Vol. 1, 6)'\r\n",
        "   OUT: u'6. - [1999]. - 1 Compact Disc + Beih. - (Bach - Made in Germany; Vol. 1, 6]'\r\n"
       ]
      },
      {
       "output_type": "stream",
       "stream": "stdout",
       "text": [
        "100330 4.92 (861, 48) ../htwmusik-models/catalog2-gt-model/SD00200000245/010001.bin.png\r\n",
        "   TRU: u'Bayerisches Staatsorchester <M\\xfcnchen>'\r\n",
        "   ALN: u'Bayerisches Staatsorchester <M\\xfcnchen>'\r\n",
        "   OUT: u'Bayerisches Staatsorchester M\\xfcnchen>'\r\n"
       ]
      },
      {
       "output_type": "stream",
       "stream": "stdout",
       "text": [
        "100331 6.02 (1017, 48) ../htwmusik-models/catalog2-gt-model/SD00600000272/010007.bin.png\r\n",
        "   TRU: u'Interpr.: Taube, Ulrike [Sopr]. Schriever, Gerda [Alt]. Fleischer, Eva'\r\n",
        "   ALN: u'Interpr.: Taube, Ulrike [Sopr]. Schriever, Gerda [Alt]. Fleischer, Eva'\r\n",
        "   OUT: u'Interpr.: Taube, Ulrike [Sopr]. Schriever, Gerda [Alt]. Fleischer, Eva'\r\n"
       ]
      },
      {
       "output_type": "stream",
       "stream": "stdout",
       "text": [
        "100332 5.63 (762, 48) ../htwmusik-models/catalog2-gt-model/SD00600000258/010005.bin.png\r\n",
        "   TRU: u'NE : Beethoven, Ludwig van: Ser.; Interpr.'\r\n",
        "   ALN: u'NE : Beethoven, Ludwig van: Ser.; Interpr.'\r\n",
        "   OUT: u'NE : Beethoven, Ludig van: Ser.; Interpr.'\r\n"
       ]
      },
      {
       "output_type": "stream",
       "stream": "stdout",
       "text": [
        "100333 0.51 (173, 48) ../htwmusik-models/catalog2-gt-model/SD00600000323/010007.bin.png\r\n",
        "   TRU: u'Interpr.'\r\n",
        "   ALN: u'Interpr.'\r\n",
        "   OUT: u'Interpr.'\r\n"
       ]
      },
      {
       "output_type": "stream",
       "stream": "stdout",
       "text": [
        "100334 0.75 (281, 48) ../htwmusik-models/catalog2-gt-model/SD01200000085/010002.bin.png\r\n",
        "   TRU: u'55 CD 105 - 1.2'\r\n",
        "   ALN: u'55 CD 105 - 1.2'\r\n",
        "   OUT: u'55 CD 105 - 1.2'\r\n"
       ]
      },
      {
       "output_type": "stream",
       "stream": "stdout",
       "text": [
        "100335 7.19 (832, 48) ../htwmusik-models/catalog2-gt-model/SD00600000258/010001.bin.png\r\n",
        "   TRU: u'2 Gesellschaft der Musikfreunde <Wien> /'\r\n",
        "   ALN: u'22 Gesellschaft der Musikfreunde <Wien> /'\r\n",
        "   OUT: u'\\xe4 Gesellschaft der Musikfreunde <Wien> /'\r\n"
       ]
      },
      {
       "output_type": "stream",
       "stream": "stdout",
       "text": [
        "100336 4.48 (1017, 48) ../htwmusik-models/catalog2-gt-model/SD00600000272/010007.bin.png\r\n",
        "   TRU: u'Interpr.: Taube, Ulrike [Sopr]. Schriever, Gerda [Alt]. Fleischer, Eva'\r\n",
        "   ALN: u'Interpr.: Taube, Ulrike [Sopr]. Schriever, Gerda [Alt]. Fleischer, Eva'\r\n",
        "   OUT: u'Interpr.: Taube, Ulrike [Sopr]. Schriever, Gerda [Alt]. Fleischer, Eva'\r\n"
       ]
      },
      {
       "output_type": "stream",
       "stream": "stdout",
       "text": [
        "100337 2.15 (956, 48) ../htwmusik-models/catalog2-gt-model/SD00600000323/010006.bin.png\r\n",
        "   TRU: u'Va Vc op. 93]; Rheinberger, Gabriel J.: [Nonette op. 139];'\r\n",
        "   ALN: u'Va Vc op. 93]; Rheinberger, Gabriel J.: [Nonette op. 139];'\r\n",
        "   OUT: u'Va Vc op. 93]; Rheinberger, Gabriel J.: [Nonette op. 139];'\r\n"
       ]
      },
      {
       "output_type": "stream",
       "stream": "stdout",
       "text": [
        "100338 3.64 (566, 48) ../htwmusik-models/catalog2-gt-model/SD01200000085/010005.bin.png\r\n",
        "   TRU: u'Best. -Nr. Chandos CHAN 9370/71'\r\n",
        "   ALN: u'Best. -Nr. Chandos CHAN 9370/71'\r\n",
        "   OUT: u'Best.-Nr. Chandos CHAN 9370/71'\r\n"
       ]
      },
      {
       "output_type": "stream",
       "stream": "stdout",
       "text": [
        "100339 11.94 (288, 48) ../htwmusik-models/catalog2-gt-model/SD00600000272/01000c.bin.png\r\n",
        "   TRU: u'Ne: Ser.; Interpr.'\r\n",
        "   ALN: u'Ne: Ser.; Interpr.'\r\n",
        "   OUT: u'NE: Ser.: Interpr.'\r\n"
       ]
      },
      {
       "output_type": "stream",
       "stream": "stdout",
       "text": [
        "100340 3.50 (1058, 48) ../htwmusik-models/catalog2-gt-model/SD00600000323/010005.bin.png\r\n",
        "   TRU: u'NE: Rheinberger, Gabriel J.: [Thema mit Ver\\xe4nderungen, V1 1 2'\r\n",
        "   ALN: u'NE: Rheinberger, Gabriel J.: [Thema mit Ver\\xe4nderungen, V1 1 2'\r\n",
        "   OUT: u'NE: Rheinberger, Gabriel J.: [Thema mit Ver\\xe4nderungen, V1 1 2'\r\n"
       ]
      },
      {
       "output_type": "stream",
       "stream": "stdout",
       "text": [
        "100341 4.17 (762, 48) ../htwmusik-models/catalog2-gt-model/SD00600000258/010005.bin.png\r\n",
        "   TRU: u'NE : Beethoven, Ludwig van: Ser.; Interpr.'\r\n",
        "   ALN: u'NE : Beethoven, Ludwig van: Ser.; Interpr.'\r\n",
        "   OUT: u'NE : Beethoven, Ludwig van: Ser.; Interpr.'\r\n"
       ]
      },
      {
       "output_type": "stream",
       "stream": "stdout",
       "text": [
        "100342 33.37 (656, 48) ../htwmusik-models/catalog2-gt-model/SD00200000608/010003.bin.png\r\n",
        "   TRU: u'Klav\\u01d0rn\\u01d0 Kvarteto Bohuslava Martim\\u016f'\r\n",
        "   ALN: u'Klav~rn~ Kvarteto Bohuslava Martim~'\r\n",
        "   OUT: u'Klavirni Kvarteto Bohuslava Martin~'\r\n"
       ]
      },
      {
       "output_type": "stream",
       "stream": "stdout",
       "text": [
        "100343 6.98 (1014, 48) ../htwmusik-models/catalog2-gt-model/SD00600000272/010008.bin.png\r\n",
        "   TRU: u'[Alt]. Lutze, Gert [Ten]. Hauptmann, Hans [Bass]. K\\xe4stner, Hannes'\r\n",
        "   ALN: u'[Alt]. Lutze, Gert [Ten]. Hauptmann, Hans [Bass]. K\\xe4stner, Hannes'\r\n",
        "   OUT: u'[Alt]. Lutze, Gert [Ten]. Hauptmann, Hans [Bass]. Kastner, Hannes'\r\n"
       ]
      },
      {
       "output_type": "stream",
       "stream": "stdout",
       "text": [
        "100344 5.20 (832, 48) ../htwmusik-models/catalog2-gt-model/SD00600000258/010001.bin.png\r\n",
        "   TRU: u'2 Gesellschaft der Musikfreunde <Wien> /'\r\n",
        "   ALN: u'2 Gesellschaft der Musikfreunde <Wien> /'\r\n",
        "   OUT: u' Gesellschaft der Musikfreunde <Wien> /'\r\n"
       ]
      },
      {
       "output_type": "stream",
       "stream": "stdout",
       "text": [
        "100345 5.64 (140, 48) ../htwmusik-models/catalog2-gt-model/SD00200000245/010003.bin.png\r\n",
        "   TRU: u'P 1997'\r\n",
        "   ALN: u'P 1997'\r\n",
        "   OUT: u'P 1997.'\r\n"
       ]
      },
      {
       "output_type": "stream",
       "stream": "stdout",
       "text": [
        "100346 1.06 (704, 48) ../htwmusik-models/catalog2-gt-model/SD00200000003/010005.bin.png\r\n",
        "   TRU: u'Vol. 4. - [1996]. - 1 Compact Disc + Beih.'\r\n",
        "   ALN: u'Vol. 4. - [1996]. - 1 Compact Disc + Beih.'\r\n",
        "   OUT: u'Vol. 4. - [1996]. - 1 Compact Disc + Beih.'\r\n"
       ]
      },
      {
       "output_type": "stream",
       "stream": "stdout",
       "text": [
        "100347 0.10 (246, 48) ../htwmusik-models/catalog2-gt-model/SD00600000258/010002.bin.png\r\n",
        "   TRU: u'Singverein'\r\n",
        "   ALN: u'Singverein'\r\n",
        "   OUT: u'Singverein'\r\n"
       ]
      },
      {
       "output_type": "stream",
       "stream": "stdout",
       "text": [
        "100348 11.41 (1185, 48) ../htwmusik-models/catalog2-gt-model/SD00200000003/010006.bin.png\r\n",
        "   TRU: u'Enth.: Jagd auf Liebe. Steigen Nebel. Zu Fuss. Tshgiten-Legende'\r\n",
        "   ALN: u'Enth.: Jagd auf Liebe. Steigen Nebel. Zu Fuss. Tshgiten-Legende'\r\n",
        "   OUT: u'Enth.: Jagd auf Liebe. Steigen Nebel. Zu Fuss. Tshigiten-Legende.'\r\n"
       ]
      },
      {
       "output_type": "stream",
       "stream": "stdout",
       "text": [
        "100349 1.50 (280, 48) ../htwmusik-models/catalog2-gt-model/SD00200000245/010006.bin.png\r\n",
        "   TRU: u'55 CD 223 - 1.2'\r\n",
        "   ALN: u'55 CD 223 - 1.2'\r\n",
        "   OUT: u'55 CD 223 - 1.2'\r\n"
       ]
      },
      {
       "output_type": "stream",
       "stream": "stdout",
       "text": [
        "100350 18.14 (1004, 48) ../htwmusik-models/catalog2-gt-model/SD00200000003/01000c.bin.png\r\n",
        "   TRU: u'Interbr.: Rosalili. Lift. Babylon. Keks. Puhdys. Karat'\r\n",
        "   ALN: u'Interbr.: Rosalili. Lift. Babon. Keks. Puhdys. Karat'\r\n",
        "   OUT: u'Interbr.: Rosalili. Lift. Babnn. Keks. Puhdys. Karat.'\r\n"
       ]
      },
      {
       "output_type": "stream",
       "stream": "stdout",
       "text": [
        "100351 0.95 (888, 48) ../htwmusik-models/catalog2-gt-model/SD01200000085/010003.bin.png\r\n",
        "   TRU: u'Walton William: Troilus and Cressida [Forts.]'\r\n",
        "   ALN: u'Walton William: Troilus and Cressida [Forts.]'\r\n",
        "   OUT: u'Walton William: Troilus and Cressida [Forts.]'\r\n"
       ]
      },
      {
       "output_type": "stream",
       "stream": "stdout",
       "text": [
        "100352 3.93 (1072, 48) ../htwmusik-models/catalog2-gt-model/SD00600000535/010007.bin.png\r\n",
        "   TRU: u'[Foxtrott / Arr.]; Schickele, Peter: [Last Tango in Bayreuth];'\r\n",
        "   ALN: u'[Foxtrott / Arr.]; Schickele, Peter: [Last Tango in Bayreuth];'\r\n",
        "   OUT: u'[Foxtrott / Arr.]; Schickele, Peter: [Last Tango in Bayreuth];'\r\n"
       ]
      },
      {
       "output_type": "stream",
       "stream": "stdout",
       "text": [
        "100353 1.10 (440, 48) ../htwmusik-models/catalog2-gt-model/SD00600000535/010002.bin.png\r\n",
        "   TRU: u'Best.-Nr. MD + G L 3379'\r\n",
        "   ALN: u'Best.-Nr. MD + G L 3379'\r\n",
        "   OUT: u'Best.-Nr. MD + G L 3379'\r\n"
       ]
      },
      {
       "output_type": "stream",
       "stream": "stdout",
       "text": [
        "100354 2.37 (1114, 48) ../htwmusik-models/catalog2-gt-model/SD00200000003/010007.bin.png\r\n",
        "   TRU: u'Hoffnung. Fort f\\xfcr einen Abend. Welt im Sand. Weisst du noch.'\r\n",
        "   ALN: u'Hoffnung. Fort f\\xfcr einen Abend. Welt im Sand. Weisst du noch.'\r\n",
        "   OUT: u'Hoffnung. Fort f\\xfcr einen Abend. Welt im Sand. Weisst du noch.'\r\n"
       ]
      },
      {
       "output_type": "stream",
       "stream": "stdout",
       "text": [
        "100355 0.96 (888, 48) ../htwmusik-models/catalog2-gt-model/SD01200000085/010003.bin.png\r\n",
        "   TRU: u'Walton William: Troilus and Cressida [Forts.]'\r\n",
        "   ALN: u'Walton William: Troilus and Cressida [Forts.]'\r\n",
        "   OUT: u'Walton William: Troilus and Cressida [Forts.]'\r\n"
       ]
      },
      {
       "output_type": "stream",
       "stream": "stdout",
       "text": [
        "100356 1.35 (730, 48) ../htwmusik-models/catalog2-gt-model/SD00600000258/010004.bin.png\r\n",
        "   TRU: u'Best.-Nr. Deutsche Grammophon 453 701-2'\r\n",
        "   ALN: u'Best.-Nr. Deutsche Grammophon 453 701-2'\r\n",
        "   OUT: u'Best.-Nr. Deutsche Grammophon 453 701-2'\r\n"
       ]
      },
      {
       "output_type": "stream",
       "stream": "stdout",
       "text": [
        "100357 14.68 (1023, 48) ../htwmusik-models/catalog2-gt-model/SD00600000323/010002.bin.png\r\n",
        "   TRU: u'Rheinberger Gabriel J.: [Trios, V1 Vc Kl op. 112] [Forts.]'\r\n",
        "   ALN: u'Rheinberger Gabriel J.: [Trios, V1 Vc Kl op. 112] [Forts.]'\r\n",
        "   OUT: u'Rheinber er Gabriel J.: [Trios, V1 Vc Kl op. 112] [Forts.]'\r\n"
       ]
      },
      {
       "output_type": "stream",
       "stream": "stdout",
       "text": [
        "100358 3.66 (1058, 48) ../htwmusik-models/catalog2-gt-model/SD00600000323/010005.bin.png\r\n",
        "   TRU: u'NE: Rheinberger, Gabriel J.: [Thema mit Ver\\xe4nderungen, V1 1 2'\r\n",
        "   ALN: u'NE: Rheinberger, Gabriel J.: [Thema mit Ver\\xe4nderungen, V1 1 2'\r\n",
        "   OUT: u'NE: Rheinberger, Gabriel J.: [Thema mit Ver\\xe4nderungen, V1 1 2'\r\n"
       ]
      },
      {
       "output_type": "stream",
       "stream": "stdout",
       "text": [
        "100359 1.12 (704, 48) ../htwmusik-models/catalog2-gt-model/SD00200000003/010005.bin.png\r\n",
        "   TRU: u'Vol. 4. - [1996]. - 1 Compact Disc + Beih.'\r\n",
        "   ALN: u'Vol. 4. - [1996]. - 1 Compact Disc + Beih.'\r\n",
        "   OUT: u'Vol. 4. - [1996]. - 1 Compact Disc + Beih.'\r\n"
       ]
      },
      {
       "output_type": "stream",
       "stream": "stdout",
       "text": [
        "100360 3.36 (1058, 48) ../htwmusik-models/catalog2-gt-model/SD00600000323/010005.bin.png\r\n",
        "   TRU: u'NE: Rheinberger, Gabriel J.: [Thema mit Ver\\xe4nderungen, V1 1 2'\r\n",
        "   ALN: u'NE: Rheinberger, Gabriel J.: [Thema mit Ver\\xe4nderungen, V1 1 2'\r\n",
        "   OUT: u'NE: Rheinberger, Gabriel J.: [Thema mit Ver\\xe4nderungen, V1 1 2'\r\n"
       ]
      },
      {
       "output_type": "stream",
       "stream": "stdout",
       "text": [
        "100361 9.15 (805, 48) ../htwmusik-models/catalog2-gt-model/SD01200000085/010006.bin.png\r\n",
        "   TRU: u'Ne : Hassall, Christopher [Textverf.]; Interpr.'\r\n",
        "   ALN: u'Ne : Hassall, Christopher [Textverf.]; Interpr.'\r\n",
        "   OUT: u'NE: Hassall, Christopher [Textverf.]; Interpr.'\r\n"
       ]
      },
      {
       "output_type": "stream",
       "stream": "stdout",
       "text": [
        "100362 6.90 (740, 48) ../htwmusik-models/catalog2-gt-model/SD00200000245/010002.bin.png\r\n",
        "   TRU: u'Reimann Aribert: Das Schloss [Forts.]'\r\n",
        "   ALN: u'Reimann Aribert: Das Schloss [Forts.]'\r\n",
        "   OUT: u'Reimann Aribert: Das  Schloss [Forts.]'\r\n"
       ]
      },
      {
       "output_type": "stream",
       "stream": "stdout",
       "text": [
        "100363 4.71 (1042, 48) ../htwmusik-models/catalog2-gt-model/SD00600000535/010005.bin.png\r\n",
        "   TRU: u'[Pigs]; Weissenborn, Christian J.: [Stucke, Fg 1 2 3 op. 4 /'\r\n",
        "   ALN: u'[Pigs]; Weissenborn, Christian J.: [Stucke, Fg 1 2 3 op. 4 /'\r\n",
        "   OUT: u'[Pigs]; Weissenborn, Christian J.: [Stucke, Fg 1 2 3 op. 4 /'\r\n"
       ]
      },
      {
       "output_type": "stream",
       "stream": "stdout",
       "text": [
        "100364 25.90 (656, 48) ../htwmusik-models/catalog2-gt-model/SD00200000608/010003.bin.png\r\n",
        "   TRU: u'Klav\\u01d0rn\\u01d0 Kvarteto Bohuslava Martim\\u016f'\r\n",
        "   ALN: u'Klav~rn~ Kvarteto Bohuslava Martim~'\r\n",
        "   OUT: u'Klavirni Kvarteto Bohuslava Martin~'\r\n"
       ]
      },
      {
       "output_type": "stream",
       "stream": "stdout",
       "text": [
        "100365 8.05 (288, 48) ../htwmusik-models/catalog2-gt-model/SD00600000272/01000c.bin.png\r\n",
        "   TRU: u'Ne: Ser.; Interpr.'\r\n",
        "   ALN: u'Ne: Ser.; Interpr.'\r\n",
        "   OUT: u'NE: Ser.; Interpr.'\r\n"
       ]
      },
      {
       "output_type": "stream",
       "stream": "stdout",
       "text": [
        "100366 12.11 (1190, 48) ../htwmusik-models/catalog2-gt-model/SD00200000003/010008.bin.png\r\n",
        "   TRU: u'Wir gehn zu mir. Der Morgen auf dem Gipfel. Aus dem All. Am Fluss'\r\n",
        "   ALN: u'Wir gehn zu mir. Der Morgen auf dem Gipfel. Aus dem All. Am Fluss'\r\n",
        "   OUT: u'Wir gehn zu mir. Der Morgen auf dem Gipfel. Aus dem Al1. Am Fluss'\r\n"
       ]
      },
      {
       "output_type": "stream",
       "stream": "stdout",
       "text": [
        "100367 15.20 (497, 48) ../htwmusik-models/catalog2-gt-model/SD00200000245/010004.bin.png\r\n",
        "   TRU: u'Best.-Nr. Wergo Wer 6614-2'\r\n",
        "   ALN: u'Best.-Nr. Wergo Wer 6614-2'\r\n",
        "   OUT: u'Best.-Nr. Wergo WER 6614-2'\r\n"
       ]
      },
      {
       "output_type": "stream",
       "stream": "stdout",
       "text": [
        "100368 10.06 (1014, 48) ../htwmusik-models/catalog2-gt-model/SD00600000272/010005.bin.png\r\n",
        "   TRU: u'Enth.: Sei Lob und Ehr dem h\\xf6chsten Gut BWV 117. Ich ruf zu dir, Herr'\r\n",
        "   ALN: u'Enth.: Sei Lob und Ehr dem h\\xf6chsten Gut BWV 117. Ich ruf zu dir, Herr'\r\n",
        "   OUT: u'Enth.: Sei Lob und Ehr dem hochsten Gut BWV 117. Ich rufzu dir, Herr'\r\n"
       ]
      },
      {
       "output_type": "stream",
       "stream": "stdout",
       "text": [
        "100369 1.44 (440, 48) ../htwmusik-models/catalog2-gt-model/SD00600000535/010002.bin.png\r\n",
        "   TRU: u'Best.-Nr. MD + G L 3379'\r\n",
        "   ALN: u'Best.-Nr. MD + G L 3379'\r\n",
        "   OUT: u'Best.-Nr. MD + G L 3379'\r\n"
       ]
      },
      {
       "output_type": "stream",
       "stream": "stdout",
       "text": [
        "100370 7.64 (1134, 48) ../htwmusik-models/catalog2-gt-model/SD00600000535/010008.bin.png\r\n",
        "   TRU: u'Monti, Vittorio: [Czardas / Arr.]; Jakob, Gordon P.: [Prelude,'\r\n",
        "   ALN: u'Monti, Vittorio: [Czardas / Arr.]; Jakob, Gordon P.: [Prelude,'\r\n",
        "   OUT: u'Monti, Vittorio: [Czardas / Arr.]; Janob, Gordon P.: [Prelude,'\r\n"
       ]
      },
      {
       "output_type": "stream",
       "stream": "stdout",
       "text": [
        "100371 2.37 (1114, 48) ../htwmusik-models/catalog2-gt-model/SD00600000272/01000a.bin.png\r\n",
        "   TRU: u'Gewandhausorchester <Leipzig>... - Auf.: 1949 - 1954. - P 1965 - 1966'\r\n",
        "   ALN: u'Gewandhausorchester <Leipzig>... - Auf.: 1949 - 1954. - P 1965 - 1966'\r\n",
        "   OUT: u'Gewandhausorchester <Leipzig>... - Auf.: 1949 - 1954. - P 1965 - 1966'\r\n"
       ]
      },
      {
       "output_type": "stream",
       "stream": "stdout",
       "text": [
        "100372 2.89 (864, 48) ../htwmusik-models/catalog2-gt-model/SD00600000272/010003.bin.png\r\n",
        "   TRU: u'[Kantaten / Ausw.] Cantatas / Bach. - Hamburg : Edel.'\r\n",
        "   ALN: u'[Kantaten / Ausw.] Cantatas / Bach. - Hamburg : Edel.'\r\n",
        "   OUT: u'[Kantaten / Ausw.] Cantatas / Bach. - Hamburg : Edel.'\r\n"
       ]
      },
      {
       "output_type": "stream",
       "stream": "stdout",
       "text": [
        "100373 0.13 (132, 48) ../htwmusik-models/catalog2-gt-model/SD00200000608/010002.bin.png\r\n",
        "   TRU: u'siehe'\r\n",
        "   ALN: u'siehe'\r\n",
        "   OUT: u'siehe'\r\n"
       ]
      },
      {
       "output_type": "stream",
       "stream": "stdout",
       "text": [
        "100374 3.03 (861, 48) ../htwmusik-models/catalog2-gt-model/SD00200000245/010001.bin.png\r\n",
        "   TRU: u'Bayerisches Staatsorchester <M\\xfcnchen>'\r\n",
        "   ALN: u'Bayerisches Staatsorchester <M\\xfcnchen>'\r\n",
        "   OUT: u'Bayerisches Staatsorchester M\\xfcnchen>'\r\n"
       ]
      },
      {
       "output_type": "stream",
       "stream": "stdout",
       "text": [
        "100375 43.54 (930, 48) ../htwmusik-models/catalog2-gt-model/SD00600000535/01000a.bin.png\r\n",
        "   TRU: u\"Peter: [Scherzo, Nocturno und Burlesca]; Prokof'ev, Sergej S.:\"\r\n",
        "   ALN: u\"Peter: [Scherzo, Nocturno uuud Bulesca]; Prokof'ev, Sergej S.:\"\r\n",
        "   OUT: u\"Peter: [Scherzo, Nocturno  la]: Prokof'ev, Sergej S.:\"\r\n"
       ]
      },
      {
       "output_type": "stream",
       "stream": "stdout",
       "text": [
        "100376 0.13 (132, 48) ../htwmusik-models/catalog2-gt-model/SD00200000608/010002.bin.png\r\n",
        "   TRU: u'siehe'\r\n",
        "   ALN: u'siehe'\r\n",
        "   OUT: u'siehe'\r\n"
       ]
      },
      {
       "output_type": "stream",
       "stream": "stdout",
       "text": [
        "100377 6.21 (1062, 48) ../htwmusik-models/catalog2-gt-model/SD00200000003/01000a.bin.png\r\n",
        "   TRU: u'Ein Augenblick der Z\\xe4rtlichkeit. Das Bild. Strassen, die dich'\r\n",
        "   ALN: u'Ein Augenblick der ZZ\\xe4rtlichkeit. Das Bild. Strassen, die dich'\r\n",
        "   OUT: u'Ein Augenblick der 2Z\\xe4rtlichkeit. Das Bild. Strassen, die dich'\r\n"
       ]
      },
      {
       "output_type": "stream",
       "stream": "stdout",
       "text": [
        "100378 3.71 (1007, 48) ../htwmusik-models/catalog2-gt-model/SD00600000272/010009.bin.png\r\n",
        "   TRU: u'[Org]. Ramin, G\\xfcnther [Dir]. Thomanerchor <Leipzig>.'\r\n",
        "   ALN: u'[Org]. Ramin, G\\xfcnther [Dir]. Thomanerchor <Leipzig>.'\r\n",
        "   OUT: u'[Org]. Ramin, G\\xfcnther [Dir]. Thomanerchor <Leipzig>.'\r\n"
       ]
      },
      {
       "output_type": "stream",
       "stream": "stdout",
       "text": [
        "100379 4.22 (1014, 48) ../htwmusik-models/catalog2-gt-model/SD00600000272/010008.bin.png\r\n",
        "   TRU: u'[Alt]. Lutze, Gert [Ten]. Hauptmann, Hans [Bass]. K\\xe4stner, Hannes'\r\n",
        "   ALN: u'[Alt]. Lutze, Gert [Ten]. Hauptmann, Hans [Bass]. K\\xe4stner, Hannes'\r\n",
        "   OUT: u'[Alt]. Lutze, Gert [Ten]. Hauptmann, Hans [Bass]. K\\xe4stner, Hannes'\r\n"
       ]
      },
      {
       "output_type": "stream",
       "stream": "stdout",
       "text": [
        "100380 14.02 (400, 48) ../htwmusik-models/catalog2-gt-model/SD00600000535/010001.bin.png\r\n",
        "   TRU: u'Fagottissimo [Forts.]'\r\n",
        "   ALN: u'Fagottissimo [Forts.]'\r\n",
        "   OUT: u'Fa ottissimo [Forts.]'\r\n"
       ]
      },
      {
       "output_type": "stream",
       "stream": "stdout",
       "text": [
        "100381 4.91 (826, 48) ../htwmusik-models/catalog2-gt-model/SD00600000258/010003.bin.png\r\n",
        "   TRU: u'Beethoven Ludwig van: [Sinfonien] [Forts.]'\r\n",
        "   ALN: u'Beethoven Ludwi van: [Sinfonien] [Forts.]'\r\n",
        "   OUT: u'Beethoven Ludwi van: [Sinfonien] [Forts.]'\r\n"
       ]
      },
      {
       "output_type": "stream",
       "stream": "stdout",
       "text": [
        "100382 7.22 (1075, 48) ../htwmusik-models/catalog2-gt-model/SD00600000535/010006.bin.png\r\n",
        "   TRU: u'Ausw.]; Voert, Georg ter: [Polka in Swing]; Seiber, M\\xe1ty\\xe1s G.:'\r\n",
        "   ALN: u'Ausw.]; Voert, Georg ter: [Polka in Swing]; Seiber, M~ty~s G.:'\r\n",
        "   OUT: u'Ausw.]; Voert, Georg ter: [Polka in Swing]; Seiber, M~ty~s G.:'\r\n"
       ]
      },
      {
       "output_type": "stream",
       "stream": "stdout",
       "text": [
        "100383 1.43 (956, 48) ../htwmusik-models/catalog2-gt-model/SD00600000323/010006.bin.png\r\n",
        "   TRU: u'Va Vc op. 93]; Rheinberger, Gabriel J.: [Nonette op. 139];'\r\n",
        "   ALN: u'Va Vc op. 93]; Rheinberger, Gabriel J.: [Nonette op. 139];'\r\n",
        "   OUT: u'Va Vc op. 93]; Rheinberger, Gabriel J.: [Nonette op. 139];'\r\n"
       ]
      },
      {
       "output_type": "stream",
       "stream": "stdout",
       "text": [
        "100384 12.18 (1185, 48) ../htwmusik-models/catalog2-gt-model/SD00200000003/010006.bin.png\r\n",
        "   TRU: u'Enth.: Jagd auf Liebe. Steigen Nebel. Zu Fuss. Tshgiten-Legende'\r\n",
        "   ALN: u'Enth.: Jagd auf Liebe. Steigen Nebel. Zu Fuss. Tshgiten-Legende'\r\n",
        "   OUT: u'Enth.: Jagd auf Liebe. Steigen Nebel. Zu Fuss. Tshigiten-Legende.'\r\n"
       ]
      },
      {
       "output_type": "stream",
       "stream": "stdout",
       "text": [
        "100385 1.80 (864, 48) ../htwmusik-models/catalog2-gt-model/SD00600000272/010003.bin.png\r\n",
        "   TRU: u'[Kantaten / Ausw.] Cantatas / Bach. - Hamburg : Edel.'\r\n",
        "   ALN: u'[Kantaten / Ausw.] Cantatas / Bach. - Hamburg : Edel.'\r\n",
        "   OUT: u'[Kantaten / Ausw.] Cantatas / Bach. - Hamburg : Edel.'\r\n"
       ]
      },
      {
       "output_type": "stream",
       "stream": "stdout",
       "text": [
        "100386 0.24 (146, 48) ../htwmusik-models/catalog2-gt-model/SD01200000085/010004.bin.png\r\n",
        "   TRU: u'P 1995.'\r\n",
        "   ALN: u'P 1995.'\r\n",
        "   OUT: u'P 1995.'\r\n"
       ]
      },
      {
       "output_type": "stream",
       "stream": "stdout",
       "text": [
        "100387 10.37 (497, 48) ../htwmusik-models/catalog2-gt-model/SD00200000245/010004.bin.png\r\n",
        "   TRU: u'Best.-Nr. Wergo Wer 6614-2'\r\n",
        "   ALN: u'Best.-Nr. Wergo Wer 6614-2'\r\n",
        "   OUT: u'Best.-Nr. Wergo WER 6614-2'\r\n"
       ]
      },
      {
       "output_type": "stream",
       "stream": "stdout",
       "text": [
        "100388 38.88 (405, 48) ../htwmusik-models/catalog2-gt-model/SD00600000272/010002.bin.png\r\n",
        "   TRU: u'Bach, Johann Sebastian:'\r\n",
        "   ALN: u'Bach Johann ebastian:'\r\n",
        "   OUT: u'B ch J h nn ebastian:'\r\n"
       ]
      },
      {
       "output_type": "stream",
       "stream": "stdout",
       "text": [
        "100389 1.12 (730, 48) ../htwmusik-models/catalog2-gt-model/SD00600000258/010004.bin.png\r\n",
        "   TRU: u'Best.-Nr. Deutsche Grammophon 453 701-2'\r\n",
        "   ALN: u'Best.-Nr. Deutsche Grammophon 453 701-2'\r\n",
        "   OUT: u'Best.-Nr. Deutsche Grammophon 453 701-2'\r\n"
       ]
      },
      {
       "output_type": "stream",
       "stream": "stdout",
       "text": [
        "100390 1.91 (1190, 48) ../htwmusik-models/catalog2-gt-model/SD00200000003/010008.bin.png\r\n",
        "   TRU: u'Wir gehn zu mir. Der Morgen auf dem Gipfel. Aus dem All. Am Fluss'\r\n",
        "   ALN: u'Wir gehn zu mir. Der Morgen auf dem Gipfel. Aus dem All. Am Fluss'\r\n",
        "   OUT: u'Wir gehn zu mir. Der Morgen auf dem Gipfel. Aus dem All. Am Fluss'\r\n"
       ]
      },
      {
       "output_type": "stream",
       "stream": "stdout",
       "text": [
        "100391 3.09 (275, 48) ../htwmusik-models/catalog2-gt-model/SD00200000003/010002.bin.png\r\n",
        "   TRU: u'55 CD 289 - 4'\r\n",
        "   ALN: u'55 CD 289 - 4'\r\n",
        "   OUT: u'55 CD 289 - 4'\r\n"
       ]
      },
      {
       "output_type": "stream",
       "stream": "stdout",
       "text": [
        "100392 6.26 (1058, 48) ../htwmusik-models/catalog2-gt-model/SD00600000323/010005.bin.png\r\n",
        "   TRU: u'NE: Rheinberger, Gabriel J.: [Thema mit Ver\\xe4nderungen, V1 1 2'\r\n",
        "   ALN: u'NE: Rheinberger, Gabriel J.: [Thema mit Ver\\xe4nderungen, V1 1 2'\r\n",
        "   OUT: u'NE: Rheinberger, Gabriel J.: [Thema mit Ver\\xe4nderungen, V1 1 2'\r\n"
       ]
      },
      {
       "output_type": "stream",
       "stream": "stdout",
       "text": [
        "100393 3.05 (1042, 48) ../htwmusik-models/catalog2-gt-model/SD00600000535/010005.bin.png\r\n",
        "   TRU: u'[Pigs]; Weissenborn, Christian J.: [Stucke, Fg 1 2 3 op. 4 /'\r\n",
        "   ALN: u'[Pigs]; Weissenborn, Christian J.: [Stucke, Fg 1 2 3 op. 4 /'\r\n",
        "   OUT: u'[Pigs]; Weissenborn, Christian J.: [Stucke, Fg 1 2 3 op. 4 /'\r\n"
       ]
      },
      {
       "output_type": "stream",
       "stream": "stdout",
       "text": [
        "100394 15.96 (1024, 48) ../htwmusik-models/catalog2-gt-model/SD00600000535/010004.bin.png\r\n",
        "   TRU: u'NE: Fu\\u010dik, Julius: [Vstup gladi\\xe1tor\\u016f / Arr.]; Ridout, Alan:'\r\n",
        "   ALN: u'NE: Fu~ik, Julius: [Vstup gladi~tor~ / Arr.]; Ridout, Alan:'\r\n",
        "   OUT: u'NE: Fu~ik, Julius: [Vstup gladi~tor~ / Arr.]; Ridout, Alan:'\r\n"
       ]
      },
      {
       "output_type": "stream",
       "stream": "stdout",
       "text": [
        "100395 6.80 (497, 48) ../htwmusik-models/catalog2-gt-model/SD00200000245/010004.bin.png\r\n",
        "   TRU: u'Best.-Nr. Wergo Wer 6614-2'\r\n",
        "   ALN: u'Best.-Nr. Wergo Wer 6614-2'\r\n",
        "   OUT: u'Best.-Nr. Wergo WER 6614-2'\r\n"
       ]
      },
      {
       "output_type": "stream",
       "stream": "stdout",
       "text": [
        "100396 8.21 (1094, 48) ../htwmusik-models/catalog2-gt-model/SD00600000535/010009.bin.png\r\n",
        "   TRU: u'fugue and scherzo]; Bozza, Eug\\xe8ne: [Divertissement]; Jansen,'\r\n",
        "   ALN: u'fugue and scherzo]; Bozza, Eug\\xe8ne: [Divertissement]; Jansen,'\r\n",
        "   OUT: u'fugue and scherzo]; Bozza, Eugne: [Divertissement]; Jansen,'\r\n"
       ]
      },
      {
       "output_type": "stream",
       "stream": "stdout",
       "text": [
        "100397 1.48 (1072, 48) ../htwmusik-models/catalog2-gt-model/SD00600000535/010007.bin.png\r\n",
        "   TRU: u'[Foxtrott / Arr.]; Schickele, Peter: [Last Tango in Bayreuth];'\r\n",
        "   ALN: u'[Foxtrott / Arr.]; Schickele, Peter: [Last Tango in Bayreuth];'\r\n",
        "   OUT: u'[Foxtrott / Arr.]; Schickele, Peter: [Last Tango in Bayreuth];'\r\n"
       ]
      },
      {
       "output_type": "stream",
       "stream": "stdout",
       "text": [
        "100398 3.38 (661, 48) ../htwmusik-models/catalog2-gt-model/SD01200000085/010001.bin.png\r\n",
        "   TRU: u'Opera North <Leeds> / Chorus'\r\n",
        "   ALN: u'Opera North <Leeds> / Chorus'\r\n",
        "   OUT: u'Opera North <<Leeds> / Chorus'\r\n"
       ]
      },
      {
       "output_type": "stream",
       "stream": "stdout",
       "text": [
        "100399 0.24 (146, 48) ../htwmusik-models/catalog2-gt-model/SD01200000085/010004.bin.png\r\n",
        "   TRU: u'P 1995.'\r\n",
        "   ALN: u'P 1995.'\r\n",
        "   OUT: u'P 1995.'\r\n"
       ]
      },
      {
       "output_type": "stream",
       "stream": "stdout",
       "text": [
        "100400 0.10 (176, 48) ../htwmusik-models/catalog2-gt-model/SD00200000003/010001.bin.png\r\n",
        "   TRU: u'Babylon'\r\n",
        "   ALN: u'Babylon'\r\n",
        "   OUT: u'Babylon'\r\n"
       ]
      },
      {
       "output_type": "stream",
       "stream": "stdout",
       "text": [
        "100401 18.46 (1110, 48) ../htwmusik-models/catalog2-gt-model/SD00200000003/010003.bin.png\r\n",
        "   TRU: u'Beatkiste : Hit-Rarit\\xe4ten aus dem DDR-Rundfunkarchiv. - Berlin :'\r\n",
        "   ALN: u'Beaisttte : Hit-Rarit\\xe4ten aus dem DDR-Rundfunkarchiv. - Berlin :'\r\n",
        "   OUT: u'Bete : Hit-Rarit\\xe4ten aus dem DDR-Rundfunkarchiv. - Berlin :'\r\n"
       ]
      },
      {
       "output_type": "stream",
       "stream": "stdout",
       "text": [
        "100402 1.32 (1072, 48) ../htwmusik-models/catalog2-gt-model/SD00600000535/010007.bin.png\r\n",
        "   TRU: u'[Foxtrott / Arr.]; Schickele, Peter: [Last Tango in Bayreuth];'\r\n",
        "   ALN: u'[Foxtrott / Arr.]; Schickele, Peter: [Last Tango in Bayreuth];'\r\n",
        "   OUT: u'[Foxtrott / Arr.]; Schickele, Peter: [Last Tango in Bayreuth];'\r\n"
       ]
      },
      {
       "output_type": "stream",
       "stream": "stdout",
       "text": [
        "100403 7.37 (1014, 48) ../htwmusik-models/catalog2-gt-model/SD00600000272/010005.bin.png\r\n",
        "   TRU: u'Enth.: Sei Lob und Ehr dem h\\xf6chsten Gut BWV 117. Ich ruf zu dir, Herr'\r\n",
        "   ALN: u'Enth.: Sei Lob und Ehr dem h\\xf6chsten Gut BWV 117. Ich ruf zu dir, Herr'\r\n",
        "   OUT: u'Enth.: Sei Lob und Ehr dem h\\xf6chsten Gut BWV 117. Ich rufzu dir, Herr'\r\n"
       ]
      },
      {
       "output_type": "stream",
       "stream": "stdout",
       "text": [
        "100404 10.40 (1024, 48) ../htwmusik-models/catalog2-gt-model/SD00600000535/010004.bin.png\r\n",
        "   TRU: u'NE: Fu\\u010dik, Julius: [Vstup gladi\\xe1tor\\u016f / Arr.]; Ridout, Alan:'\r\n",
        "   ALN: u'NE: Fu~ik, Julius: [Vstup gladi~tor~ / Arr.]; Ridout, Alan:'\r\n",
        "   OUT: u'NE: Fu~ik, Julius: [Vstup gladi~tor~ / Arr.]; Ridout, Alan:'\r\n"
       ]
      },
      {
       "output_type": "stream",
       "stream": "stdout",
       "text": [
        "100405 2.09 (1014, 48) ../htwmusik-models/catalog2-gt-model/SD00600000272/010008.bin.png\r\n",
        "   TRU: u'[Alt]. Lutze, Gert [Ten]. Hauptmann, Hans [Bass]. K\\xe4stner, Hannes'\r\n",
        "   ALN: u'[Alt]. Lutze, Gert [Ten]. Hauptmann, Hans [Bass]. K\\xe4stner, Hannes'\r\n",
        "   OUT: u'[Alt]. Lutze, Gert [Ten]. Hauptmann, Hans [Bass]. K\\xe4stner, Hannes'\r\n"
       ]
      },
      {
       "output_type": "stream",
       "stream": "stdout",
       "text": [
        "100406 2.07 (1114, 48) ../htwmusik-models/catalog2-gt-model/SD00200000003/010007.bin.png\r\n",
        "   TRU: u'Hoffnung. Fort f\\xfcr einen Abend. Welt im Sand. Weisst du noch.'\r\n",
        "   ALN: u'Hoffnung. Fort f\\xfcr einen Abend. Welt im Sand. Weisst du noch.'\r\n",
        "   OUT: u'Hoffnung. Fort f\\xfcr einen Abend. Welt im Sand. Weisst du noch.'\r\n"
       ]
      },
      {
       "output_type": "stream",
       "stream": "stdout",
       "text": [
        "100407 6.18 (1075, 48) ../htwmusik-models/catalog2-gt-model/SD00600000535/010006.bin.png\r\n",
        "   TRU: u'Ausw.]; Voert, Georg ter: [Polka in Swing]; Seiber, M\\xe1ty\\xe1s G.:'\r\n",
        "   ALN: u'Ausw.]; Voert, Georg ter: [Polka in Swing]; Seiber, M~ty~s G.:'\r\n",
        "   OUT: u'Ausww.]; Voert, Georg ter: [Polka in Swing]; Seiber, M~ty~s G.:'\r\n"
       ]
      },
      {
       "output_type": "stream",
       "stream": "stdout",
       "text": [
        "100408 4.40 (826, 48) ../htwmusik-models/catalog2-gt-model/SD00600000258/010003.bin.png\r\n",
        "   TRU: u'Beethoven Ludwig van: [Sinfonien] [Forts.]'\r\n",
        "   ALN: u'Beethoven Ludwi van: [Sinfonien] [Forts.]'\r\n",
        "   OUT: u'Beethoven Ludwi van: [Sinfonien] [Forts.]'\r\n"
       ]
      },
      {
       "output_type": "stream",
       "stream": "stdout",
       "text": [
        "100409 17.15 (566, 48) ../htwmusik-models/catalog2-gt-model/SD00200000608/010001.bin.png\r\n",
        "   TRU: u'Bohuslav Martim\\u016f Piano Quartet'\r\n",
        "   ALN: u'Bohuslav Martim~ Piano Quartet'\r\n",
        "   OUT: u'Bohuslav Martin~ Pano DCuartet'\r\n"
       ]
      },
      {
       "output_type": "stream",
       "stream": "stdout",
       "text": [
        "100410 4.78 (832, 48) ../htwmusik-models/catalog2-gt-model/SD00600000258/010001.bin.png\r\n",
        "   TRU: u'2 Gesellschaft der Musikfreunde <Wien> /'\r\n",
        "   ALN: u'2 Gesellschaft der Musikfreunde <Wien> /'\r\n",
        "   OUT: u'\\xe4 Gesellschaft der Musikfreunde <Wien> /'\r\n"
       ]
      },
      {
       "output_type": "stream",
       "stream": "stdout",
       "text": [
        "100411 0.63 (281, 48) ../htwmusik-models/catalog2-gt-model/SD01200000085/010002.bin.png\r\n",
        "   TRU: u'55 CD 105 - 1.2'\r\n",
        "   ALN: u'55 CD 105 - 1.2'\r\n",
        "   OUT: u'55 CD 105 - 1.2'\r\n"
       ]
      },
      {
       "output_type": "stream",
       "stream": "stdout",
       "text": [
        "100412 2.75 (1058, 48) ../htwmusik-models/catalog2-gt-model/SD00600000323/010005.bin.png\r\n",
        "   TRU: u'NE: Rheinberger, Gabriel J.: [Thema mit Ver\\xe4nderungen, V1 1 2'\r\n",
        "   ALN: u'NE: Rheinberger, Gabriel J.: [Thhema mit Ver\\xe4nderungen, V1 1 2'\r\n",
        "   OUT: u'NE: Rheinberger, Gabriel J.: [Thhema mit Ver\\xe4nderungen, V1 1 2'\r\n"
       ]
      },
      {
       "output_type": "stream",
       "stream": "stdout",
       "text": [
        "100413 0.78 (470, 48) ../htwmusik-models/catalog2-gt-model/SD00600000323/010004.bin.png\r\n",
        "   TRU: u'Best.-Nr. Capella CTH 2061'\r\n",
        "   ALN: u'Best.-Nr. Capella CTH 2061'\r\n",
        "   OUT: u'Best.-Nr. Capella CTH 2061'\r\n"
       ]
      },
      {
       "output_type": "stream",
       "stream": "stdout",
       "text": [
        "100414 0.98 (625, 48) ../htwmusik-models/catalog2-gt-model/SD00600000272/01000b.bin.png\r\n",
        "   TRU: u'Best.-Nr. Leipzig Classics 00 1806 2 BC'\r\n",
        "   ALN: u'Best.-Nr. Leipzig Classics 00 1806 2 BC'\r\n",
        "   OUT: u'Best.-Nr. Leipzig Classics 00 1806 2 BC'\r\n"
       ]
      },
      {
       "output_type": "stream",
       "stream": "stdout",
       "text": [
        "100415 6.81 (1094, 48) ../htwmusik-models/catalog2-gt-model/SD00600000535/010009.bin.png\r\n",
        "   TRU: u'fugue and scherzo]; Bozza, Eug\\xe8ne: [Divertissement]; Jansen,'\r\n",
        "   ALN: u'fugue and scherzo]; Bozza, Eug\\xe8ne: [Divertissement]; Jansen,'\r\n",
        "   OUT: u'fugue and scherzo]; Bozza, Eug\\xe4ne: [Divertissement]; Jansen,'\r\n"
       ]
      },
      {
       "output_type": "stream",
       "stream": "stdout",
       "text": [
        "100416 0.69 (277, 48) ../htwmusik-models/catalog2-gt-model/SD00200000003/01000b.bin.png\r\n",
        "   TRU: u'weiterf\\xfchren.'\r\n",
        "   ALN: u'weiterf\\xfchren.'\r\n",
        "   OUT: u'weiterf\\xfchren.'\r\n"
       ]
      },
      {
       "output_type": "stream",
       "stream": "stdout",
       "text": [
        "100417 4.77 (1075, 48) ../htwmusik-models/catalog2-gt-model/SD00600000535/010006.bin.png\r\n",
        "   TRU: u'Ausw.]; Voert, Georg ter: [Polka in Swing]; Seiber, M\\xe1ty\\xe1s G.:'\r\n",
        "   ALN: u'Ausw.]; Voert, Georg ter: [Polka in Swing]; Seiber, M~ty~s G.:'\r\n",
        "   OUT: u'Ausww.]; Voert, Georg ter: [Polka in Swing]; Seiber, M~ty~s G.:'\r\n"
       ]
      },
      {
       "output_type": "stream",
       "stream": "stdout",
       "text": [
        "100418 2.47 (1058, 48) ../htwmusik-models/catalog2-gt-model/SD00600000323/010005.bin.png\r\n",
        "   TRU: u'NE: Rheinberger, Gabriel J.: [Thema mit Ver\\xe4nderungen, V1 1 2'\r\n",
        "   ALN: u'NE: Rheinberger, Gabriel J.: [Thema mit Ver\\xe4nderungen, V1 1 2'\r\n",
        "   OUT: u'NE: Rheinberger, Gabriel J.: [Thema mit Ver\\xe4nderungen, V1 1 2'\r\n"
       ]
      },
      {
       "output_type": "stream",
       "stream": "stdout",
       "text": [
        "100419 2.30 (1058, 48) ../htwmusik-models/catalog2-gt-model/SD00600000323/010005.bin.png\r\n",
        "   TRU: u'NE: Rheinberger, Gabriel J.: [Thema mit Ver\\xe4nderungen, V1 1 2'\r\n",
        "   ALN: u'NE: Rheinberger, Gabriel J.: [Thema mit Ver\\xe4nderungen, V1 1 2'\r\n",
        "   OUT: u'NE: Rheinberger, Gabriel J.: [Thema mit Ver\\xe4nderungen, V1 1 2'\r\n"
       ]
      },
      {
       "output_type": "stream",
       "stream": "stdout",
       "text": [
        "100420 26.29 (908, 48) ../htwmusik-models/catalog2-gt-model/SD00600000323/010003.bin.png\r\n",
        "   TRU: u'Auf.: Walldorf, 1989 u. New York City, 1981. - P 1989'\r\n",
        "   ALN: u'Auf.: Walldorf, 1989 u. New York City, 1981. - P 1989'\r\n",
        "   OUT: u'Aufn.: Walldorf, 1989 u. .aw York City, 1981. - P 1989.'\r\n"
       ]
      },
      {
       "output_type": "stream",
       "stream": "stdout",
       "text": [
        "100421 1.20 (235, 48) ../htwmusik-models/catalog2-gt-model/SD00200000245/010005.bin.png\r\n",
        "   TRU: u'NE: Interpr.'\r\n",
        "   ALN: u'NE: Interpr.'\r\n",
        "   OUT: u'NE: Interpr.'\r\n"
       ]
      },
      {
       "output_type": "stream",
       "stream": "stdout",
       "text": [
        "100422 13.13 (400, 48) ../htwmusik-models/catalog2-gt-model/SD00600000535/010001.bin.png\r\n",
        "   TRU: u'Fagottissimo [Forts.]'\r\n",
        "   ALN: u'Fagottissimo [Forts.]'\r\n",
        "   OUT: u'Fa ottissimo [Forts.]'\r\n"
       ]
      },
      {
       "output_type": "stream",
       "stream": "stdout",
       "text": [
        "100423 0.54 (277, 48) ../htwmusik-models/catalog2-gt-model/SD00200000003/01000b.bin.png\r\n",
        "   TRU: u'weiterf\\xfchren.'\r\n",
        "   ALN: u'weiterf\\xfchren.'\r\n",
        "   OUT: u'weiterf\\xfchren.'\r\n"
       ]
      },
      {
       "output_type": "stream",
       "stream": "stdout",
       "text": [
        "100424 5.64 (1094, 48) ../htwmusik-models/catalog2-gt-model/SD00600000535/010009.bin.png\r\n",
        "   TRU: u'fugue and scherzo]; Bozza, Eug\\xe8ne: [Divertissement]; Jansen,'\r\n",
        "   ALN: u'fugue and scherzo]; Bozza, Eug\\xe8ne: [Divertissement]; Jansen,'\r\n",
        "   OUT: u'fugue and scherzo]; Bozza, Eugene: [Divertissement]; Jansen,'\r\n"
       ]
      },
      {
       "output_type": "stream",
       "stream": "stdout",
       "text": [
        "100425 24.27 (1004, 48) ../htwmusik-models/catalog2-gt-model/SD00200000003/01000c.bin.png\r\n",
        "   TRU: u'Interbr.: Rosalili. Lift. Babylon. Keks. Puhdys. Karat'\r\n",
        "   ALN: u'Interbr.: Rosalili. Lift. Babon. Keks. Puhdys. Karat'\r\n",
        "   OUT: u'Interbr.: Rosalili. Lift. Babos. Keks. Puhdys. Karat.'\r\n"
       ]
      },
      {
       "output_type": "stream",
       "stream": "stdout",
       "text": [
        "100426 1.85 (280, 48) ../htwmusik-models/catalog2-gt-model/SD00200000245/010006.bin.png\r\n",
        "   TRU: u'55 CD 223 - 1.2'\r\n",
        "   ALN: u'55 CD 223 - 1.2'\r\n",
        "   OUT: u'55 CD 223 - 1.2'\r\n"
       ]
      },
      {
       "output_type": "stream",
       "stream": "stdout",
       "text": [
        "100427 1.39 (956, 48) ../htwmusik-models/catalog2-gt-model/SD00600000323/010006.bin.png\r\n",
        "   TRU: u'Va Vc op. 93]; Rheinberger, Gabriel J.: [Nonette op. 139];'\r\n",
        "   ALN: u'Va Vc op. 93]; Rheinberger, Gabriel J.: [Nonette op. 139];'\r\n",
        "   OUT: u'Va Vc op. 93]; Rheinberger, Gabriel J.: [Nonette op. 139];'\r\n"
       ]
      },
      {
       "output_type": "stream",
       "stream": "stdout",
       "text": [
        "100428 0.28 (141, 48) ../htwmusik-models/catalog2-gt-model/SD00600000535/010003.bin.png\r\n",
        "   TRU: u'CD 317'\r\n",
        "   ALN: u'CD 317'\r\n",
        "   OUT: u'CD 317'\r\n"
       ]
      },
      {
       "output_type": "stream",
       "stream": "stdout",
       "text": [
        "100429 12.40 (400, 48) ../htwmusik-models/catalog2-gt-model/SD00600000535/010001.bin.png\r\n",
        "   TRU: u'Fagottissimo [Forts.]'\r\n",
        "   ALN: u'Fagottissimo [Forts.]'\r\n",
        "   OUT: u'Fa ottissimo [Forts.]'\r\n"
       ]
      },
      {
       "output_type": "stream",
       "stream": "stdout",
       "text": [
        "100430 0.12 (176, 48) ../htwmusik-models/catalog2-gt-model/SD00200000003/010001.bin.png\r\n",
        "   TRU: u'Babylon'\r\n",
        "   ALN: u'Babylon'\r\n",
        "   OUT: u'Babylon'\r\n"
       ]
      },
      {
       "output_type": "stream",
       "stream": "stdout",
       "text": [
        "100431 13.37 (1023, 48) ../htwmusik-models/catalog2-gt-model/SD00600000323/010002.bin.png\r\n",
        "   TRU: u'Rheinberger Gabriel J.: [Trios, V1 Vc Kl op. 112] [Forts.]'\r\n",
        "   ALN: u'Rheinberger Gabriel J.: [Trios, V1 Vc Kl op. 112] [Forts.]'\r\n",
        "   OUT: u'Rheinber er Gabriel J.: [Trios, V1 Vc Kl op. 112] [Forts.]'\r\n"
       ]
      },
      {
       "output_type": "stream",
       "stream": "stdout",
       "text": [
        "100432 0.86 (235, 48) ../htwmusik-models/catalog2-gt-model/SD00200000245/010005.bin.png\r\n",
        "   TRU: u'NE: Interpr.'\r\n",
        "   ALN: u'NE: Interpr.'\r\n",
        "   OUT: u'NE: Interpr.'\r\n"
       ]
      },
      {
       "output_type": "stream",
       "stream": "stdout",
       "text": [
        "100433 5.04 (1024, 48) ../htwmusik-models/catalog2-gt-model/SD00600000535/010004.bin.png\r\n",
        "   TRU: u'NE: Fu\\u010dik, Julius: [Vstup gladi\\xe1tor\\u016f / Arr.]; Ridout, Alan:'\r\n",
        "   ALN: u'NE: Fu~ik, Julius: [Vstup gladi~tor~ / Arr.]; Ridout, Alan:'\r\n",
        "   OUT: u'NE: Fu~ik, Julius: [Vstup gladi~tor~ / Arr.]; Ridout, Alan:'\r\n"
       ]
      },
      {
       "output_type": "stream",
       "stream": "stdout",
       "text": [
        "100434 0.58 (258, 48) ../htwmusik-models/catalog2-gt-model/SD00600000258/010006.bin.png\r\n",
        "   TRU: u'55 CD 77 - 1'\r\n",
        "   ALN: u'55 CD 77 - 1'\r\n",
        "   OUT: u'55 CD 77 - 1'\r\n"
       ]
      },
      {
       "output_type": "stream",
       "stream": "stdout",
       "text": [
        "100435 3.07 (762, 48) ../htwmusik-models/catalog2-gt-model/SD00600000258/010005.bin.png\r\n",
        "   TRU: u'NE : Beethoven, Ludwig van: Ser.; Interpr.'\r\n",
        "   ALN: u'NE : Beethoven, Ludwig van: Ser.; Interpr.'\r\n",
        "   OUT: u'NE : Beethoven, Ludwig van: Ser.; Interpr.'\r\n"
       ]
      },
      {
       "output_type": "stream",
       "stream": "stdout",
       "text": [
        "100436 11.74 (288, 48) ../htwmusik-models/catalog2-gt-model/SD00600000272/01000c.bin.png\r\n",
        "   TRU: u'Ne: Ser.; Interpr.'\r\n",
        "   ALN: u'Ne: Ser.; Interpr.'\r\n",
        "   OUT: u'NE: Ser.; Interpr.'\r\n"
       ]
      },
      {
       "output_type": "stream",
       "stream": "stdout",
       "text": [
        "100437 2.50 (1062, 48) ../htwmusik-models/catalog2-gt-model/SD00200000003/01000a.bin.png\r\n",
        "   TRU: u'Ein Augenblick der Z\\xe4rtlichkeit. Das Bild. Strassen, die dich'\r\n",
        "   ALN: u'Ein Augenblick der Z\\xe4rtlichkeit. Das Bild. Strassen, die dich'\r\n",
        "   OUT: u'Ein Augenblick der Z\\xe4rtlichkeit. Das Bild. Strassen, die dich'\r\n"
       ]
      },
      {
       "output_type": "stream",
       "stream": "stdout",
       "text": [
        "100438 0.42 (277, 48) ../htwmusik-models/catalog2-gt-model/SD00200000003/01000b.bin.png\r\n",
        "   TRU: u'weiterf\\xfchren.'\r\n",
        "   ALN: u'weiterf\\xfchren.'\r\n",
        "   OUT: u'weiterf\\xfchren.'\r\n"
       ]
      },
      {
       "output_type": "stream",
       "stream": "stdout",
       "text": [
        "100439 5.16 (1024, 48) ../htwmusik-models/catalog2-gt-model/SD00600000535/010004.bin.png\r\n",
        "   TRU: u'NE: Fu\\u010dik, Julius: [Vstup gladi\\xe1tor\\u016f / Arr.]; Ridout, Alan:'\r\n",
        "   ALN: u'NE: Fu~ik, Julius: [Vstup gladi~tor~ / Arr.]; Ridout, Alan:'\r\n",
        "   OUT: u'NE: Fu~ik, Julius: [Vstup gladi~tor~ / Arr.]; Ridout, Alan:'\r\n"
       ]
      },
      {
       "output_type": "stream",
       "stream": "stdout",
       "text": [
        "100440 4.28 (1075, 48) ../htwmusik-models/catalog2-gt-model/SD00600000535/010006.bin.png\r\n",
        "   TRU: u'Ausw.]; Voert, Georg ter: [Polka in Swing]; Seiber, M\\xe1ty\\xe1s G.:'\r\n",
        "   ALN: u'Ausw.]; Voert, Georg ter: [Polka in Swing]; Seiber, M~ty~s G.:'\r\n",
        "   OUT: u'Ausw.]; Voert, Georg ter: [Polka in Swing]; Seiber, M~ty~s G.:'\r\n"
       ]
      },
      {
       "output_type": "stream",
       "stream": "stdout",
       "text": [
        "100441 6.71 (788, 48) ../htwmusik-models/catalog2-gt-model/SD00600000272/010006.bin.png\r\n",
        "   TRU: u'Jesu Christ BWV 177. Ein ungef\\xe4rbt Gem\\xfcte BWV 24.'\r\n",
        "   ALN: u'Jesu Christ BWV 177. Ein ungef\\xe4rbt Gem\\xfcte BWV 24.'\r\n",
        "   OUT: u'Jesu Christ BWV 177. Ein ungef\\xe4rbt Gem\\xfcte BWV 24.'\r\n"
       ]
      },
      {
       "output_type": "stream",
       "stream": "stdout",
       "text": [
        "100442 0.64 (235, 48) ../htwmusik-models/catalog2-gt-model/SD00200000245/010005.bin.png\r\n",
        "   TRU: u'NE: Interpr.'\r\n",
        "   ALN: u'NE: Interpr.'\r\n",
        "   OUT: u'NE: Interpr.'\r\n"
       ]
      },
      {
       "output_type": "stream",
       "stream": "stdout",
       "text": [
        "100443 1.50 (956, 48) ../htwmusik-models/catalog2-gt-model/SD00600000323/010006.bin.png\r\n",
        "   TRU: u'Va Vc op. 93]; Rheinberger, Gabriel J.: [Nonette op. 139];'\r\n",
        "   ALN: u'Va Vc op. 93]; Rheinberger, Gabriel J.: [Nonette op. 139];'\r\n",
        "   OUT: u'Va Vc op. 93]; Rheinberger, Gabriel J.: [Nonette op. 139];'\r\n"
       ]
      },
      {
       "output_type": "stream",
       "stream": "stdout",
       "text": [
        "100444 0.25 (146, 48) ../htwmusik-models/catalog2-gt-model/SD01200000085/010004.bin.png\r\n",
        "   TRU: u'P 1995.'\r\n",
        "   ALN: u'P 1995.'\r\n",
        "   OUT: u'P 1995.'\r\n"
       ]
      },
      {
       "output_type": "stream",
       "stream": "stdout",
       "text": [
        "100445 1.01 (440, 48) ../htwmusik-models/catalog2-gt-model/SD00600000535/010002.bin.png\r\n",
        "   TRU: u'Best.-Nr. MD + G L 3379'\r\n",
        "   ALN: u'Best.-Nr. MD + G L 3379'\r\n",
        "   OUT: u'Best.-Nr. MD + G L 3379'\r\n"
       ]
      },
      {
       "output_type": "stream",
       "stream": "stdout",
       "text": [
        "100446 9.15 (288, 48) ../htwmusik-models/catalog2-gt-model/SD00600000272/01000c.bin.png\r\n",
        "   TRU: u'Ne: Ser.; Interpr.'\r\n",
        "   ALN: u'Ne: Ser.; Interpr.'\r\n",
        "   OUT: u'NE: Ser.; Interpr.'\r\n"
       ]
      },
      {
       "output_type": "stream",
       "stream": "stdout",
       "text": [
        "100447 1.06 (119, 48) ../htwmusik-models/catalog2-gt-model/SD00600000323/010001.bin.png\r\n",
        "   TRU: u'CD 38'\r\n",
        "   ALN: u'CD 38'\r\n",
        "   OUT: u'CD 38'\r\n"
       ]
      },
      {
       "output_type": "stream",
       "stream": "stdout",
       "text": [
        "100448 1.17 (280, 48) ../htwmusik-models/catalog2-gt-model/SD00200000245/010006.bin.png\r\n",
        "   TRU: u'55 CD 223 - 1.2'\r\n",
        "   ALN: u'55 CD 223 - 1.2'\r\n",
        "   OUT: u'55 CD 223 - 1.2'\r\n"
       ]
      },
      {
       "output_type": "stream",
       "stream": "stdout",
       "text": [
        "100449 16.47 (1122, 48) ../htwmusik-models/catalog2-gt-model/SD00600000272/010004.bin.png\r\n",
        "   TRU: u'6. - [1999]. - 1 Compact Disc + Beih. - (Bach - Made in Germany : Vol. 1, 6)'\r\n",
        "   ALN: u'6. - [1999]. - 1 Compact Disc + Beih. - (Bach - Made in Germany : Vol. 1, 6)'\r\n",
        "   OUT: u'6. - [1999]. - 1 Compact Disc + Beih. - (Bach - Made in Germany; Vol. 1, 6h'\r\n"
       ]
      },
      {
       "output_type": "stream",
       "stream": "stdout",
       "text": [
        "100450 19.30 (1110, 48) ../htwmusik-models/catalog2-gt-model/SD00200000003/010003.bin.png\r\n",
        "   TRU: u'Beatkiste : Hit-Rarit\\xe4ten aus dem DDR-Rundfunkarchiv. - Berlin :'\r\n",
        "   ALN: u'Beatste : Hit-Rarit\\xe4ten aus dem DDR-Rundfunkarchiv. - Berlin :'\r\n",
        "   OUT: u'estte : Hit-Rarit\\xe4ten aus dem DDR-Rundfunkarchiv. - Berlin :'\r\n"
       ]
      },
      {
       "output_type": "stream",
       "stream": "stdout",
       "text": [
        "100451 33.81 (930, 48) ../htwmusik-models/catalog2-gt-model/SD00600000535/01000a.bin.png\r\n",
        "   TRU: u\"Peter: [Scherzo, Nocturno und Burlesca]; Prokof'ev, Sergej S.:\"\r\n",
        "   ALN: u\"Peter: [Scherzo, Nocturno uuud Bulesca]; Prokof'ev, Sergej S.:\"\r\n",
        "   OUT: u\"Peter: [Scherzo, Nocturno  [a]; Prokof'ev, Sergej S.:\"\r\n"
       ]
      },
      {
       "output_type": "stream",
       "stream": "stdout",
       "text": [
        "100452 5.78 (1094, 48) ../htwmusik-models/catalog2-gt-model/SD00600000535/010009.bin.png\r\n",
        "   TRU: u'fugue and scherzo]; Bozza, Eug\\xe8ne: [Divertissement]; Jansen,'\r\n",
        "   ALN: u'fugue and scherzo]; Bozza, Eug\\xe8ne: [Divertissement]; Jansen,'\r\n",
        "   OUT: u'fugue and scherzo]; Bozza, Eugne: [Divertissement]; Jansen,'\r\n"
       ]
      },
      {
       "output_type": "stream",
       "stream": "stdout",
       "text": [
        "100453 0.20 (146, 48) ../htwmusik-models/catalog2-gt-model/SD01200000085/010004.bin.png\r\n",
        "   TRU: u'P 1995.'\r\n",
        "   ALN: u'P 1995.'\r\n",
        "   OUT: u'P 1995.'\r\n"
       ]
      },
      {
       "output_type": "stream",
       "stream": "stdout",
       "text": [
        "100454 18.28 (1004, 48) ../htwmusik-models/catalog2-gt-model/SD00200000003/01000c.bin.png\r\n",
        "   TRU: u'Interbr.: Rosalili. Lift. Babylon. Keks. Puhdys. Karat'\r\n",
        "   ALN: u'Interbr.: Rosalili. Lift. Babyon. Keks. Puhdys. Karat'\r\n",
        "   OUT: u'Interbr.: Rosalili. Lift. Babnn. Keks. Puhdys. Karat.'\r\n"
       ]
      },
      {
       "output_type": "stream",
       "stream": "stdout",
       "text": [
        "100455 0.90 (235, 48) ../htwmusik-models/catalog2-gt-model/SD00200000245/010005.bin.png\r\n",
        "   TRU: u'NE: Interpr.'\r\n",
        "   ALN: u'NE: Interpr.'\r\n",
        "   OUT: u'NE: Interpr.'\r\n"
       ]
      },
      {
       "output_type": "stream",
       "stream": "stdout",
       "text": [
        "100456 6.28 (1017, 48) ../htwmusik-models/catalog2-gt-model/SD00600000272/010001.bin.png\r\n",
        "   TRU: u'Gewandhausorchester <Leipzig> 55 CD 1779 - 1,6'\r\n",
        "   ALN: u'Gewandhausorchester <Leipzig> 55 CD 1779 - 1,6'\r\n",
        "   OUT: u'Gewandhausorchester <Leipzig> 55 CD 1779 - 1,6'\r\n"
       ]
      },
      {
       "output_type": "stream",
       "stream": "stdout",
       "text": [
        "100457 4.93 (826, 48) ../htwmusik-models/catalog2-gt-model/SD00600000258/010003.bin.png\r\n",
        "   TRU: u'Beethoven Ludwig van: [Sinfonien] [Forts.]'\r\n",
        "   ALN: u'Beethoven Ludwi van: [Sinfonien] [Forts.]'\r\n",
        "   OUT: u'Beethoven Ludwi van: [Sinfonien] [Forts.]'\r\n"
       ]
      },
      {
       "output_type": "stream",
       "stream": "stdout",
       "text": [
        "100458 12.99 (400, 48) ../htwmusik-models/catalog2-gt-model/SD00600000535/010001.bin.png\r\n",
        "   TRU: u'Fagottissimo [Forts.]'\r\n",
        "   ALN: u'Fagottissimo [Forts.]'\r\n",
        "   OUT: u'Fa ottissimo [Forts.]'\r\n"
       ]
      },
      {
       "output_type": "stream",
       "stream": "stdout",
       "text": [
        "100459 2.83 (566, 48) ../htwmusik-models/catalog2-gt-model/SD01200000085/010005.bin.png\r\n",
        "   TRU: u'Best. -Nr. Chandos CHAN 9370/71'\r\n",
        "   ALN: u'Best. -Nr. Chandos CHAN 9370/71'\r\n",
        "   OUT: u'Best.-Nr. Chandos CHAN 9370/71'\r\n"
       ]
      },
      {
       "output_type": "stream",
       "stream": "stdout",
       "text": [
        "100460 1.40 (956, 48) ../htwmusik-models/catalog2-gt-model/SD00600000323/010006.bin.png\r\n",
        "   TRU: u'Va Vc op. 93]; Rheinberger, Gabriel J.: [Nonette op. 139];'\r\n",
        "   ALN: u'Va Vc op. 93]; Rheinberger, Gabriel J.: [Nonette op. 139];'\r\n",
        "   OUT: u'Va Vc op. 93]; Rheinberger, Gabriel J.: [Nonette op. 139];'\r\n"
       ]
      },
      {
       "output_type": "stream",
       "stream": "stdout",
       "text": [
        "100461 0.17 (146, 48) ../htwmusik-models/catalog2-gt-model/SD01200000085/010004.bin.png\r\n",
        "   TRU: u'P 1995.'\r\n",
        "   ALN: u'P 1995.'\r\n",
        "   OUT: u'P 1995.'\r\n"
       ]
      },
      {
       "output_type": "stream",
       "stream": "stdout",
       "text": [
        "100462 20.45 (1110, 48) ../htwmusik-models/catalog2-gt-model/SD00200000003/010003.bin.png\r\n",
        "   TRU: u'Beatkiste : Hit-Rarit\\xe4ten aus dem DDR-Rundfunkarchiv. - Berlin :'\r\n",
        "   ALN: u'Beatkste : Hit-Rarit\\xe4ten aus dem DDR-Rundfunkarchiv. - Berlin :'\r\n",
        "   OUT: u'Beste : Hit-Rarit\\xe4ten aus dem DDR-Rundfunkarchiv. - Berlin :'\r\n"
       ]
      },
      {
       "output_type": "stream",
       "stream": "stdout",
       "text": [
        "100463 12.45 (400, 48) ../htwmusik-models/catalog2-gt-model/SD00600000535/010001.bin.png\r\n",
        "   TRU: u'Fagottissimo [Forts.]'\r\n",
        "   ALN: u'Fagottissimo [Forts.]'\r\n",
        "   OUT: u'Fa ottissimo [Forts.]'\r\n"
       ]
      },
      {
       "output_type": "stream",
       "stream": "stdout",
       "text": [
        "100464 4.50 (288, 48) ../htwmusik-models/catalog2-gt-model/SD00600000272/01000c.bin.png\r\n",
        "   TRU: u'Ne: Ser.; Interpr.'\r\n",
        "   ALN: u'Ne: Ser.; Interpr.'\r\n",
        "   OUT: u'Ne: Ser.; Interpr.'\r\n"
       ]
      },
      {
       "output_type": "stream",
       "stream": "stdout",
       "text": [
        "100465 17.15 (1004, 48) ../htwmusik-models/catalog2-gt-model/SD00200000003/01000c.bin.png\r\n",
        "   TRU: u'Interbr.: Rosalili. Lift. Babylon. Keks. Puhdys. Karat'\r\n",
        "   ALN: u'Interbr.: Rosalili. Lift. Babyon. Keks. Puhdys. Karat'\r\n",
        "   OUT: u'Interbr.: Rosalili. Lift. Babnn. Keks. Puhdys. Karat.'\r\n"
       ]
      },
      {
       "output_type": "stream",
       "stream": "stdout",
       "text": [
        "100466 0.50 (119, 48) ../htwmusik-models/catalog2-gt-model/SD00600000323/010001.bin.png\r\n",
        "   TRU: u'CD 38'\r\n",
        "   ALN: u'CD 38'\r\n",
        "   OUT: u'CD 38'\r\n"
       ]
      },
      {
       "output_type": "stream",
       "stream": "stdout",
       "text": [
        "100467 0.52 (258, 48) ../htwmusik-models/catalog2-gt-model/SD00600000258/010006.bin.png\r\n",
        "   TRU: u'55 CD 77 - 1'\r\n",
        "   ALN: u'55 CD 77 - 1'\r\n",
        "   OUT: u'55 CD 77 - 1'\r\n"
       ]
      },
      {
       "output_type": "stream",
       "stream": "stdout",
       "text": [
        "100468 16.71 (1004, 48) ../htwmusik-models/catalog2-gt-model/SD00200000003/01000c.bin.png\r\n",
        "   TRU: u'Interbr.: Rosalili. Lift. Babylon. Keks. Puhdys. Karat'\r\n",
        "   ALN: u'Interbr.: Rosalili. Lift. Babyon. Keks. Puhdys. Karat'\r\n",
        "   OUT: u'Interbr.: Rosalili. Lift. Babnn. Keks. Puhdys. Karat.'\r\n"
       ]
      },
      {
       "output_type": "stream",
       "stream": "stdout",
       "text": [
        "100469 0.94 (730, 48) ../htwmusik-models/catalog2-gt-model/SD00600000258/010004.bin.png\r\n",
        "   TRU: u'Best.-Nr. Deutsche Grammophon 453 701-2'\r\n",
        "   ALN: u'Best.-Nr. Deutsche Grammophon 453 701-2'\r\n",
        "   OUT: u'Best.-Nr. Deutsche Grammophon 453 701-2'\r\n"
       ]
      },
      {
       "output_type": "stream",
       "stream": "stdout",
       "text": [
        "100470 0.89 (370, 48) ../htwmusik-models/catalog2-gt-model/SD00200000003/010004.bin.png\r\n",
        "   TRU: u'Edition Barbarossa.'\r\n",
        "   ALN: u'Edition Barbarossa.'\r\n",
        "   OUT: u'Edition Barbarossa.'\r\n"
       ]
      },
      {
       "output_type": "stream",
       "stream": "stdout",
       "text": [
        "100471 0.07 (176, 48) ../htwmusik-models/catalog2-gt-model/SD00200000003/010001.bin.png\r\n",
        "   TRU: u'Babylon'\r\n",
        "   ALN: u'Babylon'\r\n",
        "   OUT: u'Babylon'\r\n"
       ]
      },
      {
       "output_type": "stream",
       "stream": "stdout",
       "text": [
        "100472 0.84 (370, 48) ../htwmusik-models/catalog2-gt-model/SD00200000003/010004.bin.png\r\n",
        "   TRU: u'Edition Barbarossa.'\r\n",
        "   ALN: u'Edition Barbarossa.'\r\n",
        "   OUT: u'Edition Barbarossa.'\r\n"
       ]
      },
      {
       "output_type": "stream",
       "stream": "stdout",
       "text": [
        "100473 0.45 (277, 48) ../htwmusik-models/catalog2-gt-model/SD00200000003/01000b.bin.png\r\n",
        "   TRU: u'weiterf\\xfchren.'\r\n",
        "   ALN: u'weiterf\\xfchren.'\r\n",
        "   OUT: u'weiterf\\xfchren.'\r\n"
       ]
      },
      {
       "output_type": "stream",
       "stream": "stdout",
       "text": [
        "100474 2.68 (288, 48) ../htwmusik-models/catalog2-gt-model/SD00600000272/01000c.bin.png\r\n",
        "   TRU: u'Ne: Ser.; Interpr.'\r\n",
        "   ALN: u'Ne: Ser.; Interpr.'\r\n",
        "   OUT: u'Ne: Ser.; Interpr.'\r\n"
       ]
      },
      {
       "output_type": "stream",
       "stream": "stdout",
       "text": [
        "100475 15.72 (1110, 48) ../htwmusik-models/catalog2-gt-model/SD00200000003/010003.bin.png\r\n",
        "   TRU: u'Beatkiste : Hit-Rarit\\xe4ten aus dem DDR-Rundfunkarchiv. - Berlin :'\r\n",
        "   ALN: u'Beatkste : Hit-Rarit\\xe4ten aus dem DDR-Rundfunkarchiv. - Berlin :'\r\n",
        "   OUT: u'Betste : Hit-Rarit\\xe4ten aus dem DDR-Rundfunkarchiv. - Berlin :'\r\n"
       ]
      },
      {
       "output_type": "stream",
       "stream": "stdout",
       "text": [
        "100476 0.88 (281, 48) ../htwmusik-models/catalog2-gt-model/SD01200000085/010002.bin.png\r\n",
        "   TRU: u'55 CD 105 - 1.2'\r\n",
        "   ALN: u'55 CD 105 - 1.2'\r\n",
        "   OUT: u'55 CD 105 - 1.2'\r\n"
       ]
      },
      {
       "output_type": "stream",
       "stream": "stdout",
       "text": [
        "100477 2.44 (1058, 48) ../htwmusik-models/catalog2-gt-model/SD00600000323/010005.bin.png\r\n",
        "   TRU: u'NE: Rheinberger, Gabriel J.: [Thema mit Ver\\xe4nderungen, V1 1 2'\r\n",
        "   ALN: u'NE: Rheinberger, Gabriel J.: [Thema mit Ver\\xe4nderungen, V1 1 2'\r\n",
        "   OUT: u'NE: Rheinberger, Gabriel J.: [Thema mit Ver\\xe4nderungen, V1 1 2'\r\n"
       ]
      },
      {
       "output_type": "stream",
       "stream": "stdout",
       "text": [
        "100478 13.85 (1004, 48) ../htwmusik-models/catalog2-gt-model/SD00200000003/01000c.bin.png\r\n",
        "   TRU: u'Interbr.: Rosalili. Lift. Babylon. Keks. Puhdys. Karat'\r\n",
        "   ALN: u'Interbr.: Rosalili. Lift. Babon. Keks. Puhdys. Karat'\r\n",
        "   OUT: u'Interbr.: Rosalili. Lift. Baybon. Keks. Puhdys. Karat.'\r\n"
       ]
      },
      {
       "output_type": "stream",
       "stream": "stdout",
       "text": [
        "100479 7.26 (788, 48) ../htwmusik-models/catalog2-gt-model/SD00600000272/010006.bin.png\r\n",
        "   TRU: u'Jesu Christ BWV 177. Ein ungef\\xe4rbt Gem\\xfcte BWV 24.'\r\n",
        "   ALN: u'Jesu Christ BWV 177. Ein ungef\\xe4rbt Gem\\xfcte BWV 24.'\r\n",
        "   OUT: u'Jesu Christ BWV 177. Ein ungef\\xe4rbt Gem\\xfcte BWV 24.'\r\n"
       ]
      },
      {
       "output_type": "stream",
       "stream": "stdout",
       "text": [
        "100480 14.37 (1110, 48) ../htwmusik-models/catalog2-gt-model/SD00200000003/010003.bin.png\r\n",
        "   TRU: u'Beatkiste : Hit-Rarit\\xe4ten aus dem DDR-Rundfunkarchiv. - Berlin :'\r\n",
        "   ALN: u'Beatiste : Hit-Rarit\\xe4ten aus dem DDR-Rundfunkarchiv. - Berlin :'\r\n",
        "   OUT: u'Beste : Hit-Rarit\\xe4ten aus dem DDR-Rundfunkarchiv. - Berlin :'\r\n"
       ]
      },
      {
       "output_type": "stream",
       "stream": "stdout",
       "text": [
        "100481 13.54 (1110, 48) ../htwmusik-models/catalog2-gt-model/SD00200000003/010003.bin.png\r\n",
        "   TRU: u'Beatkiste : Hit-Rarit\\xe4ten aus dem DDR-Rundfunkarchiv. - Berlin :'\r\n",
        "   ALN: u'Beatkste : Hit-Rarit\\xe4ten aus dem DDR-Rundfunkarchiv. - Berlin :'\r\n",
        "   OUT: u'Betste : Hit-Rarit\\xe4ten aus dem DDR-Rundfunkarchiv. - Berlin :'\r\n"
       ]
      },
      {
       "output_type": "stream",
       "stream": "stdout",
       "text": [
        "100482 1.31 (956, 48) ../htwmusik-models/catalog2-gt-model/SD00600000323/010006.bin.png\r\n",
        "   TRU: u'Va Vc op. 93]; Rheinberger, Gabriel J.: [Nonette op. 139];'\r\n",
        "   ALN: u'Va Vc op. 93]; Rheinberger, Gabriel J.: [Nonette op. 139];'\r\n",
        "   OUT: u'Va Vc op. 93]; Rheinberger, Gabriel J.: [Nonette op. 139];'\r\n"
       ]
      },
      {
       "output_type": "stream",
       "stream": "stdout",
       "text": [
        "100483 0.08 (176, 48) ../htwmusik-models/catalog2-gt-model/SD00200000003/010001.bin.png\r\n",
        "   TRU: u'Babylon'\r\n",
        "   ALN: u'Babylon'\r\n",
        "   OUT: u'Babylon'\r\n"
       ]
      },
      {
       "output_type": "stream",
       "stream": "stdout",
       "text": [
        "100484 4.30 (1017, 48) ../htwmusik-models/catalog2-gt-model/SD00600000272/010001.bin.png\r\n",
        "   TRU: u'Gewandhausorchester <Leipzig> 55 CD 1779 - 1,6'\r\n",
        "   ALN: u'Gewandhausorchester <Leipzig> 55 CD 1779 - 1,6'\r\n",
        "   OUT: u'Gewandhausorchester <Leipzig> 55 CD 1779 - 1,6'\r\n"
       ]
      },
      {
       "output_type": "stream",
       "stream": "stdout",
       "text": [
        "100485 11.68 (566, 48) ../htwmusik-models/catalog2-gt-model/SD00200000608/010001.bin.png\r\n",
        "   TRU: u'Bohuslav Martim\\u016f Piano Quartet'\r\n",
        "   ALN: u'Bohuslav Martim~ Piano Quartet'\r\n",
        "   OUT: u'Bohuslav Martin~ Piano Quartet'\r\n"
       ]
      },
      {
       "output_type": "stream",
       "stream": "stdout",
       "text": [
        "100486 12.41 (400, 48) ../htwmusik-models/catalog2-gt-model/SD00600000535/010001.bin.png\r\n",
        "   TRU: u'Fagottissimo [Forts.]'\r\n",
        "   ALN: u'Fagottissimo [Forts.]'\r\n",
        "   OUT: u'Fa ottissimo [Forts.]'\r\n"
       ]
      },
      {
       "output_type": "stream",
       "stream": "stdout",
       "text": [
        "100487 1.54 (1072, 48) ../htwmusik-models/catalog2-gt-model/SD00600000535/010007.bin.png\r\n",
        "   TRU: u'[Foxtrott / Arr.]; Schickele, Peter: [Last Tango in Bayreuth];'\r\n",
        "   ALN: u'[Foxtrott / Arr.]; Schickele, Peter: [Last Tango in Bayreuth];'\r\n",
        "   OUT: u'[Foxtrott / Arr.]; Schickele, Peter: [Last Tango in Bayreuth];'\r\n"
       ]
      },
      {
       "output_type": "stream",
       "stream": "stdout",
       "text": [
        "100488 0.54 (281, 48) ../htwmusik-models/catalog2-gt-model/SD01200000085/010002.bin.png\r\n",
        "   TRU: u'55 CD 105 - 1.2'\r\n",
        "   ALN: u'55 CD 105 - 1.2'\r\n",
        "   OUT: u'55 CD 105 - 1.2'\r\n"
       ]
      },
      {
       "output_type": "stream",
       "stream": "stdout",
       "text": [
        "100489 0.09 (176, 48) ../htwmusik-models/catalog2-gt-model/SD00200000003/010001.bin.png\r\n",
        "   TRU: u'Babylon'\r\n",
        "   ALN: u'Babylon'\r\n",
        "   OUT: u'Babylon'\r\n"
       ]
      },
      {
       "output_type": "stream",
       "stream": "stdout",
       "text": [
        "100490 2.95 (861, 48) ../htwmusik-models/catalog2-gt-model/SD00200000245/010001.bin.png\r\n",
        "   TRU: u'Bayerisches Staatsorchester <M\\xfcnchen>'\r\n",
        "   ALN: u'Bayerisches Staatsorchester <M\\xfcnchen>'\r\n",
        "   OUT: u'Bayerisches Staatsorchester M\\xfcnchen>'\r\n"
       ]
      },
      {
       "output_type": "stream",
       "stream": "stdout",
       "text": [
        "100491 12.79 (1110, 48) ../htwmusik-models/catalog2-gt-model/SD00200000003/010003.bin.png\r\n",
        "   TRU: u'Beatkiste : Hit-Rarit\\xe4ten aus dem DDR-Rundfunkarchiv. - Berlin :'\r\n",
        "   ALN: u'Beatkiste : Hit-Rarit\\xe4ten aus dem DDR-Rundfunkarchiv. - Berlin :'\r\n",
        "   OUT: u'Bett5ste : Hit-Rarit\\xe4ten aus dem DDR-Rundfunkarchiv. - Berlin :'\r\n"
       ]
      },
      {
       "output_type": "stream",
       "stream": "stdout",
       "text": [
        "100492 2.18 (1062, 48) ../htwmusik-models/catalog2-gt-model/SD00200000003/01000a.bin.png\r\n",
        "   TRU: u'Ein Augenblick der Z\\xe4rtlichkeit. Das Bild. Strassen, die dich'\r\n",
        "   ALN: u'Ein Augenblick der Z\\xe4rtlichkeit. Das Bild. Strassen, die dich'\r\n",
        "   OUT: u'Ein Augenblick der Z\\xe4rtlichkeit. Das Bild. Strassen, die dich'\r\n"
       ]
      },
      {
       "output_type": "stream",
       "stream": "stdout",
       "text": [
        "100493 37.65 (405, 48) ../htwmusik-models/catalog2-gt-model/SD00600000272/010002.bin.png\r\n",
        "   TRU: u'Bach, Johann Sebastian:'\r\n",
        "   ALN: u'Bach, Johann ebastian:'\r\n",
        "   OUT: u'B ch J h nn ebastian:'\r\n"
       ]
      },
      {
       "output_type": "stream",
       "stream": "stdout",
       "text": [
        "100494 2.17 (1017, 48) ../htwmusik-models/catalog2-gt-model/SD00600000272/010007.bin.png\r\n",
        "   TRU: u'Interpr.: Taube, Ulrike [Sopr]. Schriever, Gerda [Alt]. Fleischer, Eva'\r\n",
        "   ALN: u'Interpr.: Taube, Ulrike [Sopr]. Schriever, Gerda [Alt]. Fleischer, Eva'\r\n",
        "   OUT: u'Interpr.: Taube, Ulrike [Sopr]. Schriever, Gerda [Alt]. Fleischer, Eva'\r\n"
       ]
      },
      {
       "output_type": "stream",
       "stream": "stdout",
       "text": [
        "100495 11.15 (1110, 48) ../htwmusik-models/catalog2-gt-model/SD00200000003/010003.bin.png\r\n",
        "   TRU: u'Beatkiste : Hit-Rarit\\xe4ten aus dem DDR-Rundfunkarchiv. - Berlin :'\r\n",
        "   ALN: u'Beatkste : Hit-Rarit\\xe4ten aus dem DDR-Rundfunkarchiv. - Berlin :'\r\n",
        "   OUT: u'Betse : Hit-Rarit\\xe4ten aus dem DDR-Rundfunkarchiv. - Berlin :'\r\n"
       ]
      },
      {
       "output_type": "stream",
       "stream": "stdout",
       "text": [
        "100496 12.30 (1122, 48) ../htwmusik-models/catalog2-gt-model/SD00600000272/010004.bin.png\r\n",
        "   TRU: u'6. - [1999]. - 1 Compact Disc + Beih. - (Bach - Made in Germany : Vol. 1, 6)'\r\n",
        "   ALN: u'6. - [1999]. - 1 Compact Disc + Beih. - (Bach - Made in Germany : Vol. 1, 6)'\r\n",
        "   OUT: u'6. - [1999]. - 1 Compact Disc + Beih. - (Bach - Made in Germany; Vol. 1, 6]'\r\n"
       ]
      },
      {
       "output_type": "stream",
       "stream": "stdout",
       "text": [
        "100497 0.61 (281, 48) ../htwmusik-models/catalog2-gt-model/SD01200000085/010002.bin.png\r\n",
        "   TRU: u'55 CD 105 - 1.2'\r\n",
        "   ALN: u'55 CD 105 - 1.2'\r\n",
        "   OUT: u'55 CD 105 - 1.2'\r\n"
       ]
      },
      {
       "output_type": "stream",
       "stream": "stdout",
       "text": [
        "100498 0.61 (281, 48) ../htwmusik-models/catalog2-gt-model/SD01200000085/010002.bin.png\r\n",
        "   TRU: u'55 CD 105 - 1.2'\r\n",
        "   ALN: u'55 CD 105 - 1.2'\r\n",
        "   OUT: u'55 CD 105 - 1.2'\r\n"
       ]
      },
      {
       "output_type": "stream",
       "stream": "stdout",
       "text": [
        "100499 0.82 (470, 48) ../htwmusik-models/catalog2-gt-model/SD00600000323/010004.bin.png\r\n",
        "   TRU: u'Best.-Nr. Capella CTH 2061'\r\n",
        "   ALN: u'Best.-Nr. Capella CTH 2061'\r\n",
        "   OUT: u'Best.-Nr. Capella CTH 2061'\r\n"
       ]
      },
      {
       "output_type": "stream",
       "stream": "stdout",
       "text": [
        "100500 19.68 (908, 48) ../htwmusik-models/catalog2-gt-model/SD00600000323/010003.bin.png\r\n",
        "   TRU: u'Auf.: Walldorf, 1989 u. New York City, 1981. - P 1989'\r\n",
        "   ALN: u'Auf.: Walldorf, 1989 u. New York City, 1981. - P 1989'\r\n",
        "   OUT: u'Aufn.: Walldorf, 1989 u. .ew York City, 1981. - P 1989.'\r\n"
       ]
      },
      {
       "output_type": "stream",
       "stream": "stdout",
       "text": [
        "100501 8.65 (1134, 48) ../htwmusik-models/catalog2-gt-model/SD00600000535/010008.bin.png\r\n",
        "   TRU: u'Monti, Vittorio: [Czardas / Arr.]; Jakob, Gordon P.: [Prelude,'\r\n",
        "   ALN: u'Monti, Vittorio: [Czardas / Arr.]; Jakob, Gordon P.: [Prelude,'\r\n",
        "   OUT: u'Monti, Vittorio: [Czardas / Arr.]; Janob, Gordon P.: [Prelude,'\r\n"
       ]
      },
      {
       "output_type": "stream",
       "stream": "stdout",
       "text": [
        "100502 0.46 (258, 48) ../htwmusik-models/catalog2-gt-model/SD00600000258/010006.bin.png\r\n",
        "   TRU: u'55 CD 77 - 1'\r\n",
        "   ALN: u'55 CD 77 - 1'\r\n",
        "   OUT: u'55 CD 77 - 1'\r\n"
       ]
      },
      {
       "output_type": "stream",
       "stream": "stdout",
       "text": [
        "100503 1.64 (275, 48) ../htwmusik-models/catalog2-gt-model/SD00200000003/010002.bin.png\r\n",
        "   TRU: u'55 CD 289 - 4'\r\n",
        "   ALN: u'55 CD 289 - 4'\r\n",
        "   OUT: u'55 CD 289 - 4'\r\n"
       ]
      },
      {
       "output_type": "stream",
       "stream": "stdout",
       "text": [
        "100504 6.59 (740, 48) ../htwmusik-models/catalog2-gt-model/SD00200000245/010002.bin.png\r\n",
        "   TRU: u'Reimann Aribert: Das Schloss [Forts.]'\r\n",
        "   ALN: u'Reimann Aribert: Das Schloss [Forts.]'\r\n",
        "   OUT: u'Reimann Aribert: Das  Schloss [Forts.]'\r\n"
       ]
      },
      {
       "output_type": "stream",
       "stream": "stdout",
       "text": [
        "100505 0.62 (370, 48) ../htwmusik-models/catalog2-gt-model/SD00200000003/010004.bin.png\r\n",
        "   TRU: u'Edition Barbarossa.'\r\n",
        "   ALN: u'Edition Barbarossa.'\r\n",
        "   OUT: u'Edition Barbarossa.'\r\n"
       ]
      },
      {
       "output_type": "stream",
       "stream": "stdout",
       "text": [
        "100506 2.91 (1114, 48) ../htwmusik-models/catalog2-gt-model/SD00200000003/010007.bin.png\r\n",
        "   TRU: u'Hoffnung. Fort f\\xfcr einen Abend. Welt im Sand. Weisst du noch.'\r\n",
        "   ALN: u'Hoffnungg. Fort f\\xfcr einen Abend. Welt im Sand. Weisst du noch.'\r\n",
        "   OUT: u'Hoffnungg. Fort f\\xfcr einen Abend. Welt im Sand. Weisst du noch.'\r\n"
       ]
      },
      {
       "output_type": "stream",
       "stream": "stdout",
       "text": [
        "100507 2.13 (1058, 48) ../htwmusik-models/catalog2-gt-model/SD00600000323/010005.bin.png\r\n",
        "   TRU: u'NE: Rheinberger, Gabriel J.: [Thema mit Ver\\xe4nderungen, V1 1 2'\r\n",
        "   ALN: u'NE: Rheinberger, Gabriel J.: [Thema mit Ver\\xe4nderungen, V1 1 2'\r\n",
        "   OUT: u'NE: Rheinberger, Gabriel J.: [Thema mit Ver\\xe4nderungen, V1 1 2'\r\n"
       ]
      },
      {
       "output_type": "stream",
       "stream": "stdout",
       "text": [
        "100508 12.90 (1004, 48) ../htwmusik-models/catalog2-gt-model/SD00200000003/01000c.bin.png\r\n",
        "   TRU: u'Interbr.: Rosalili. Lift. Babylon. Keks. Puhdys. Karat'\r\n",
        "   ALN: u'Interbr.: Rosalili. Lift. Babyon. Keks. Puhdys. Karat'\r\n",
        "   OUT: u'Interbr.: Rosalili. Lift. Babon. Keks. Puhdys. Karat.'\r\n"
       ]
      },
      {
       "output_type": "stream",
       "stream": "stdout",
       "text": [
        "100509 24.77 (656, 48) ../htwmusik-models/catalog2-gt-model/SD00200000608/010003.bin.png\r\n",
        "   TRU: u'Klav\\u01d0rn\\u01d0 Kvarteto Bohuslava Martim\\u016f'\r\n",
        "   ALN: u'Klav~rn~ Kvarteto Bohuslava Martim~'\r\n",
        "   OUT: u'Klavirni Kvarteto Bohuslava Martin~'\r\n"
       ]
      },
      {
       "output_type": "stream",
       "stream": "stdout",
       "text": [
        "100510 3.40 (661, 48) ../htwmusik-models/catalog2-gt-model/SD01200000085/010001.bin.png\r\n",
        "   TRU: u'Opera North <Leeds> / Chorus'\r\n",
        "   ALN: u'Opera North <Leeds> / Chorus'\r\n",
        "   OUT: u'Opera North <Leeds> / Chorus'\r\n"
       ]
      },
      {
       "output_type": "stream",
       "stream": "stdout",
       "text": [
        "100511 3.69 (1190, 48) ../htwmusik-models/catalog2-gt-model/SD00200000003/010008.bin.png\r\n",
        "   TRU: u'Wir gehn zu mir. Der Morgen auf dem Gipfel. Aus dem All. Am Fluss'\r\n",
        "   ALN: u'Wir gehn zu mir. Der Morgen auf dem Gipfel. Aus dem All. Am Fluss'\r\n",
        "   OUT: u'Wir gehn zu mir. Der Morgen auf dem Gipfel. Aus dem All. Am Fluss'\r\n"
       ]
      },
      {
       "output_type": "stream",
       "stream": "stdout",
       "text": [
        "100512 0.43 (281, 48) ../htwmusik-models/catalog2-gt-model/SD01200000085/010002.bin.png\r\n",
        "   TRU: u'55 CD 105 - 1.2'\r\n",
        "   ALN: u'55 CD 105 - 1.2'\r\n",
        "   OUT: u'55 CD 105 - 1.2'\r\n"
       ]
      },
      {
       "output_type": "stream",
       "stream": "stdout",
       "text": [
        "100513 0.70 (470, 48) ../htwmusik-models/catalog2-gt-model/SD00600000323/010004.bin.png\r\n",
        "   TRU: u'Best.-Nr. Capella CTH 2061'\r\n",
        "   ALN: u'Best.-Nr. Capella CTH 2061'\r\n",
        "   OUT: u'Best.-Nr. Capella CTH 2061'\r\n"
       ]
      },
      {
       "output_type": "stream",
       "stream": "stdout",
       "text": [
        "100514 7.06 (1024, 48) ../htwmusik-models/catalog2-gt-model/SD00600000535/010004.bin.png\r\n",
        "   TRU: u'NE: Fu\\u010dik, Julius: [Vstup gladi\\xe1tor\\u016f / Arr.]; Ridout, Alan:'\r\n",
        "   ALN: u'NE: Fu~ik, Julius: [Vstup gladi~tor~ / Arr.]; Ridout, Alan:'\r\n",
        "   OUT: u'NE: Fu~ik, Julius: [Vstup gladi~tor~ / Arr .]; Ridout, Alan:'\r\n"
       ]
      },
      {
       "output_type": "stream",
       "stream": "stdout",
       "text": [
        "100515 0.30 (258, 48) ../htwmusik-models/catalog2-gt-model/SD00600000258/010006.bin.png\r\n",
        "   TRU: u'55 CD 77 - 1'\r\n",
        "   ALN: u'55 CD 77 - 1'\r\n",
        "   OUT: u'55 CD 77 - 1'\r\n"
       ]
      },
      {
       "output_type": "stream",
       "stream": "stdout",
       "text": [
        "100516 1.74 (1058, 48) ../htwmusik-models/catalog2-gt-model/SD00600000323/010005.bin.png\r\n",
        "   TRU: u'NE: Rheinberger, Gabriel J.: [Thema mit Ver\\xe4nderungen, V1 1 2'\r\n",
        "   ALN: u'NE: Rheinberger, Gabriel J.: [Thema mit Ver\\xe4nderungen, V1 1 2'\r\n",
        "   OUT: u'NE: Rheinberger, Gabriel J.: [Thema mit Ver\\xe4nderungen, V1 1 2'\r\n"
       ]
      },
      {
       "output_type": "stream",
       "stream": "stdout",
       "text": [
        "100517 0.41 (141, 48) ../htwmusik-models/catalog2-gt-model/SD00600000535/010003.bin.png\r\n",
        "   TRU: u'CD 317'\r\n",
        "   ALN: u'CD 317'\r\n",
        "   OUT: u'CD 317'\r\n"
       ]
      },
      {
       "output_type": "stream",
       "stream": "stdout",
       "text": [
        "100518 6.70 (1134, 48) ../htwmusik-models/catalog2-gt-model/SD00600000535/010008.bin.png\r\n",
        "   TRU: u'Monti, Vittorio: [Czardas / Arr.]; Jakob, Gordon P.: [Prelude,'\r\n",
        "   ALN: u'Monti, Vittorio: [Czardas / Arr.]; Jakob, Gordon P.: [Prelude,'\r\n",
        "   OUT: u'Monti, Vittorio: [Czardas / Arr.]; Janob, Gordon P.: [Prelude,'\r\n"
       ]
      },
      {
       "output_type": "stream",
       "stream": "stdout",
       "text": [
        "100519 0.36 (281, 48) ../htwmusik-models/catalog2-gt-model/SD01200000085/010002.bin.png\r\n",
        "   TRU: u'55 CD 105 - 1.2'\r\n",
        "   ALN: u'55 CD 105 - 1.2'\r\n",
        "   OUT: u'55 CD 105 - 1.2'\r\n"
       ]
      },
      {
       "output_type": "stream",
       "stream": "stdout",
       "text": [
        "100520 0.31 (258, 48) ../htwmusik-models/catalog2-gt-model/SD00600000258/010006.bin.png\r\n",
        "   TRU: u'55 CD 77 - 1'\r\n",
        "   ALN: u'55 CD 77 - 1'\r\n",
        "   OUT: u'55 CD 77 - 1'\r\n"
       ]
      },
      {
       "output_type": "stream",
       "stream": "stdout",
       "text": [
        "100521 8.58 (1122, 48) ../htwmusik-models/catalog2-gt-model/SD00600000272/010004.bin.png\r\n",
        "   TRU: u'6. - [1999]. - 1 Compact Disc + Beih. - (Bach - Made in Germany : Vol. 1, 6)'\r\n",
        "   ALN: u'6. - [1999]. - 1 Compact Disc + Beih. - (Bach - Made in Germany : Vol. 1, 6)'\r\n",
        "   OUT: u'6. - [1999]. - 1 Compact Disc + Beih. - (Bach - Made in Germany; Vol. 1, 6)'\r\n"
       ]
      },
      {
       "output_type": "stream",
       "stream": "stdout",
       "text": [
        "100522 0.31 (258, 48) ../htwmusik-models/catalog2-gt-model/SD00600000258/010006.bin.png\r\n",
        "   TRU: u'55 CD 77 - 1'\r\n",
        "   ALN: u'55 CD 77 - 1'\r\n",
        "   OUT: u'55 CD 77 - 1'\r\n"
       ]
      },
      {
       "output_type": "stream",
       "stream": "stdout",
       "text": [
        "100523 5.07 (740, 48) ../htwmusik-models/catalog2-gt-model/SD00200000245/010002.bin.png\r\n",
        "   TRU: u'Reimann Aribert: Das Schloss [Forts.]'\r\n",
        "   ALN: u'Reimann Aribert: Das Schloss [Forts.]'\r\n",
        "   OUT: u'Reimann Aribert: Das Schloss [Forts.]'\r\n"
       ]
      },
      {
       "output_type": "stream",
       "stream": "stdout",
       "text": [
        "100524 1.40 (956, 48) ../htwmusik-models/catalog2-gt-model/SD00600000323/010006.bin.png\r\n",
        "   TRU: u'Va Vc op. 93]; Rheinberger, Gabriel J.: [Nonette op. 139];'\r\n",
        "   ALN: u'Va Vc op. 93]; Rheinberger, Gabriel J.: [Nonette op. 139];'\r\n",
        "   OUT: u'Va Vc op. 93]; Rheinberger, Gabriel J.: [Nonette op. 139];'\r\n"
       ]
      },
      {
       "output_type": "stream",
       "stream": "stdout",
       "text": [
        "100525 1.22 (730, 48) ../htwmusik-models/catalog2-gt-model/SD00600000258/010004.bin.png\r\n",
        "   TRU: u'Best.-Nr. Deutsche Grammophon 453 701-2'\r\n",
        "   ALN: u'Best.-Nr. Deutsche Grammophon 453 701-2'\r\n",
        "   OUT: u'Best.-Nr. Deutsche Grammophon 453 701-2'\r\n"
       ]
      },
      {
       "output_type": "stream",
       "stream": "stdout",
       "text": [
        "100526 3.89 (288, 48) ../htwmusik-models/catalog2-gt-model/SD00600000272/01000c.bin.png\r\n",
        "   TRU: u'Ne: Ser.; Interpr.'\r\n",
        "   ALN: u'Ne: Ser.; Interpr.'\r\n",
        "   OUT: u'Ne: Ser.; Interpr.'\r\n"
       ]
      },
      {
       "output_type": "stream",
       "stream": "stdout",
       "text": [
        "100527 1.35 (440, 48) ../htwmusik-models/catalog2-gt-model/SD00600000535/010002.bin.png\r\n",
        "   TRU: u'Best.-Nr. MD + G L 3379'\r\n",
        "   ALN: u'Best.-Nr. MD + G L 3379'\r\n",
        "   OUT: u'Best.-Nr. MD + G L 3379'\r\n"
       ]
      },
      {
       "output_type": "stream",
       "stream": "stdout",
       "text": [
        "100528 6.42 (1122, 48) ../htwmusik-models/catalog2-gt-model/SD00600000272/010004.bin.png\r\n",
        "   TRU: u'6. - [1999]. - 1 Compact Disc + Beih. - (Bach - Made in Germany : Vol. 1, 6)'\r\n",
        "   ALN: u'6. - [1999]. - 1 Compact Disc + Beih. - (Bach - Made in Germany : Vol. 1, 6)'\r\n",
        "   OUT: u'6. - [1999]. - 1 Compact Disc + Beih. - (Bach - Made in Germany ; Vol. 1, 6)'\r\n"
       ]
      },
      {
       "output_type": "stream",
       "stream": "stdout",
       "text": [
        "100529 4.48 (788, 48) ../htwmusik-models/catalog2-gt-model/SD00600000272/010006.bin.png\r\n",
        "   TRU: u'Jesu Christ BWV 177. Ein ungef\\xe4rbt Gem\\xfcte BWV 24.'\r\n",
        "   ALN: u'Jesu Christ BWV 177. Ein ungef\\xe4rbt Gem\\xfcte BWV 24.'\r\n",
        "   OUT: u'Jesu Christ BWV 177. Ein ungef\\xe4rbt Gem\\xfcte BWV 24.'\r\n"
       ]
      },
      {
       "output_type": "stream",
       "stream": "stdout",
       "text": [
        "100530 12.90 (656, 48) ../htwmusik-models/catalog2-gt-model/SD00200000608/010003.bin.png\r\n",
        "   TRU: u'Klav\\u01d0rn\\u01d0 Kvarteto Bohuslava Martim\\u016f'\r\n",
        "   ALN: u'Klav~rn~ Kvarteto Bohuslava Martim~'\r\n",
        "   OUT: u'Klavirn~ Kvarteto Bohuslava Martin~'\r\n"
       ]
      },
      {
       "output_type": "stream",
       "stream": "stdout",
       "text": [
        "100531 3.51 (1017, 48) ../htwmusik-models/catalog2-gt-model/SD00600000272/010001.bin.png\r\n",
        "   TRU: u'Gewandhausorchester <Leipzig> 55 CD 1779 - 1,6'\r\n",
        "   ALN: u'Gewandhausorchester <Leipzig> 55 CD 1779 - 1,6'\r\n",
        "   OUT: u'Gewandhausorchester <Leipzig> 55 CD 1779 - 1,6'\r\n"
       ]
      },
      {
       "output_type": "stream",
       "stream": "stdout",
       "text": [
        "100532 1.42 (864, 48) ../htwmusik-models/catalog2-gt-model/SD00600000272/010003.bin.png\r\n",
        "   TRU: u'[Kantaten / Ausw.] Cantatas / Bach. - Hamburg : Edel.'\r\n",
        "   ALN: u'[Kantaten / Ausw.] Cantatas / Bach. - Hamburg : Edel.'\r\n",
        "   OUT: u'[Kantaten / Ausw.] Cantatas / Bach. - Hamburg : Edel.'\r\n"
       ]
      },
      {
       "output_type": "stream",
       "stream": "stdout",
       "text": [
        "100533 1.49 (1062, 48) ../htwmusik-models/catalog2-gt-model/SD00200000003/01000a.bin.png\r\n",
        "   TRU: u'Ein Augenblick der Z\\xe4rtlichkeit. Das Bild. Strassen, die dich'\r\n",
        "   ALN: u'Ein Augenblick der Z\\xe4rtlichkeit. Das Bild. Strassen, die dich'\r\n",
        "   OUT: u'Ein Augenblick der Z\\xe4rtlichkeit. Das Bild. Strassen, die dich'\r\n"
       ]
      },
      {
       "output_type": "stream",
       "stream": "stdout",
       "text": [
        "100534 1.52 (1062, 48) ../htwmusik-models/catalog2-gt-model/SD00200000003/01000a.bin.png\r\n",
        "   TRU: u'Ein Augenblick der Z\\xe4rtlichkeit. Das Bild. Strassen, die dich'\r\n",
        "   ALN: u'Ein Augenblick der Z\\xe4rtlichkeit. Das Bild. Strassen, die dich'\r\n",
        "   OUT: u'Ein Augenblick der Z\\xe4rtlichkeit. Das Bild. Strassen, die dich'\r\n"
       ]
      },
      {
       "output_type": "stream",
       "stream": "stdout",
       "text": [
        "100535 0.33 (146, 48) ../htwmusik-models/catalog2-gt-model/SD01200000085/010004.bin.png\r\n",
        "   TRU: u'P 1995.'\r\n",
        "   ALN: u'P 1995.'\r\n",
        "   OUT: u'P 1995.'\r\n"
       ]
      },
      {
       "output_type": "stream",
       "stream": "stdout",
       "text": [
        "100536 0.49 (277, 48) ../htwmusik-models/catalog2-gt-model/SD00200000003/01000b.bin.png\r\n",
        "   TRU: u'weiterf\\xfchren.'\r\n",
        "   ALN: u'weiterf\\xfchren.'\r\n",
        "   OUT: u'weiterf\\xfchren.'\r\n"
       ]
      },
      {
       "output_type": "stream",
       "stream": "stdout",
       "text": [
        "100537 3.73 (788, 48) ../htwmusik-models/catalog2-gt-model/SD00600000272/010006.bin.png\r\n",
        "   TRU: u'Jesu Christ BWV 177. Ein ungef\\xe4rbt Gem\\xfcte BWV 24.'\r\n",
        "   ALN: u'Jesu Christ BWV 177. Ein ungef\\xe4rbt Gem\\xfcte BWV 24.'\r\n",
        "   OUT: u'Jesu Christ BWV 177. Ein ungef\\xe4rbt Gem\\xfcte BWV 24.'\r\n"
       ]
      },
      {
       "output_type": "stream",
       "stream": "stdout",
       "text": [
        "100538 4.86 (1007, 48) ../htwmusik-models/catalog2-gt-model/SD00600000272/010009.bin.png\r\n",
        "   TRU: u'[Org]. Ramin, G\\xfcnther [Dir]. Thomanerchor <Leipzig>.'\r\n",
        "   ALN: u'[Org]. Ramin, G\\xfcnther [Dir]. Thomanerchor <Leipzig>.'\r\n",
        "   OUT: u'[Org]. Ramin, G\\xfcnther [Dir]. Thomanerchor <Leipzig>.'\r\n"
       ]
      },
      {
       "output_type": "stream",
       "stream": "stdout",
       "text": [
        "100539 0.39 (119, 48) ../htwmusik-models/catalog2-gt-model/SD00600000323/010001.bin.png\r\n",
        "   TRU: u'CD 38'\r\n",
        "   ALN: u'CD 38'\r\n",
        "   OUT: u'CD 38'\r\n"
       ]
      },
      {
       "output_type": "stream",
       "stream": "stdout",
       "text": [
        "100540 1.87 (566, 48) ../htwmusik-models/catalog2-gt-model/SD01200000085/010005.bin.png\r\n",
        "   TRU: u'Best. -Nr. Chandos CHAN 9370/71'\r\n",
        "   ALN: u'Best. -Nr. Chandos CHAN 9370/71'\r\n",
        "   OUT: u'Best.-Nr. Chandos CHAN 9370/71'\r\n"
       ]
      },
      {
       "output_type": "stream",
       "stream": "stdout",
       "text": [
        "100541 0.22 (173, 48) ../htwmusik-models/catalog2-gt-model/SD00600000323/010007.bin.png\r\n",
        "   TRU: u'Interpr.'\r\n",
        "   ALN: u'Interpr.'\r\n",
        "   OUT: u'Interpr.'\r\n"
       ]
      },
      {
       "output_type": "stream",
       "stream": "stdout",
       "text": [
        "100542 5.88 (288, 48) ../htwmusik-models/catalog2-gt-model/SD00600000272/01000c.bin.png\r\n",
        "   TRU: u'Ne: Ser.; Interpr.'\r\n",
        "   ALN: u'Ne: Ser.; Interpr.'\r\n",
        "   OUT: u'Ne: Ser.: Interpr.'\r\n"
       ]
      },
      {
       "output_type": "stream",
       "stream": "stdout",
       "text": [
        "100543 4.39 (1024, 48) ../htwmusik-models/catalog2-gt-model/SD00600000535/010004.bin.png\r\n",
        "   TRU: u'NE: Fu\\u010dik, Julius: [Vstup gladi\\xe1tor\\u016f / Arr.]; Ridout, Alan:'\r\n",
        "   ALN: u'NE: Fu~ik, Julius: [Vstup gladi~tor~ / Arr.]; Ridout, Alan:'\r\n",
        "   OUT: u'NE: Fu~ik, Julius: [Vstup gladi~tor~ / Arr .]; Ridout, Alan:'\r\n"
       ]
      },
      {
       "output_type": "stream",
       "stream": "stdout",
       "text": [
        "100544 0.30 (141, 48) ../htwmusik-models/catalog2-gt-model/SD00600000535/010003.bin.png\r\n",
        "   TRU: u'CD 317'\r\n",
        "   ALN: u'CD 317'\r\n",
        "   OUT: u'CD 317'\r\n"
       ]
      },
      {
       "output_type": "stream",
       "stream": "stdout",
       "text": [
        "100545 3.30 (1014, 48) ../htwmusik-models/catalog2-gt-model/SD00600000272/010008.bin.png\r\n",
        "   TRU: u'[Alt]. Lutze, Gert [Ten]. Hauptmann, Hans [Bass]. K\\xe4stner, Hannes'\r\n",
        "   ALN: u'[Alt]. Lutze, Gert [Ten]. Hauptmann, Hans [Bass]. K\\xe4stner, Hannes'\r\n",
        "   OUT: u'[Alt]. Lutze, Gert [Ten]. Hauptmann, Hans [Bass]. K\\xe4stner, Hannes'\r\n"
       ]
      },
      {
       "output_type": "stream",
       "stream": "stdout",
       "text": [
        "100546 14.66 (1004, 48) ../htwmusik-models/catalog2-gt-model/SD00200000003/01000c.bin.png\r\n",
        "   TRU: u'Interbr.: Rosalili. Lift. Babylon. Keks. Puhdys. Karat'\r\n",
        "   ALN: u'Interbr.: Rosalili. Lift. Ba]bln. Keks. Puhdys. Karat'\r\n",
        "   OUT: u'Interbr.: Rosalili. Lift. Babbn. Keks. Puhdys. Karat.'\r\n"
       ]
      },
      {
       "output_type": "stream",
       "stream": "stdout",
       "text": [
        "100547 12.17 (1185, 48) ../htwmusik-models/catalog2-gt-model/SD00200000003/010006.bin.png\r\n",
        "   TRU: u'Enth.: Jagd auf Liebe. Steigen Nebel. Zu Fuss. Tshgiten-Legende'\r\n",
        "   ALN: u'Enth.: Jagd auf Liebe. Steigen Nebel. Zu Fuss. Tshgiten-Legende'\r\n",
        "   OUT: u'Enth.: Jagd auf Liebe. Steigen Nebel. Zu Fuss. Tshigiten-lLegende.'\r\n"
       ]
      },
      {
       "output_type": "stream",
       "stream": "stdout",
       "text": [
        "100548 0.26 (258, 48) ../htwmusik-models/catalog2-gt-model/SD00600000258/010006.bin.png\r\n",
        "   TRU: u'55 CD 77 - 1'\r\n",
        "   ALN: u'55 CD 77 - 1'\r\n",
        "   OUT: u'55 CD 77 - 1'\r\n"
       ]
      },
      {
       "output_type": "stream",
       "stream": "stdout",
       "text": [
        "100549 0.52 (235, 48) ../htwmusik-models/catalog2-gt-model/SD00200000245/010005.bin.png\r\n",
        "   TRU: u'NE: Interpr.'\r\n",
        "   ALN: u'NE: Interpr.'\r\n",
        "   OUT: u'NE: Interpr.'\r\n"
       ]
      },
      {
       "output_type": "stream",
       "stream": "stdout",
       "text": [
        "100550 0.09 (246, 48) ../htwmusik-models/catalog2-gt-model/SD00600000258/010002.bin.png\r\n",
        "   TRU: u'Singverein'\r\n",
        "   ALN: u'Singverein'\r\n",
        "   OUT: u'Singverein'\r\n"
       ]
      },
      {
       "output_type": "stream",
       "stream": "stdout",
       "text": [
        "100551 5.15 (140, 48) ../htwmusik-models/catalog2-gt-model/SD00200000245/010003.bin.png\r\n",
        "   TRU: u'P 1997'\r\n",
        "   ALN: u'P 1997'\r\n",
        "   OUT: u'P 1997.'\r\n"
       ]
      },
      {
       "output_type": "stream",
       "stream": "stdout",
       "text": [
        "100552 1.35 (1141, 48) ../htwmusik-models/catalog2-gt-model/SD00200000003/010009.bin.png\r\n",
        "   TRU: u'die Weide. Einmal unsichtbar sein. Schwester. Heisses Land.'\r\n",
        "   ALN: u'die Weide. Einmal unsichtbar sein. Schwester. Heisses Land.'\r\n",
        "   OUT: u'die Weide. Einmal unsichtbar sein. Schwester. Heisses Land.'\r\n"
       ]
      },
      {
       "output_type": "stream",
       "stream": "stdout",
       "text": [
        "100553 0.88 (440, 48) ../htwmusik-models/catalog2-gt-model/SD00600000535/010002.bin.png\r\n",
        "   TRU: u'Best.-Nr. MD + G L 3379'\r\n",
        "   ALN: u'Best.-Nr. MD + G L 3379'\r\n",
        "   OUT: u'Best.-Nr. MD + G L 3379'\r\n"
       ]
      },
      {
       "output_type": "stream",
       "stream": "stdout",
       "text": [
        "100554 1.71 (1072, 48) ../htwmusik-models/catalog2-gt-model/SD00600000535/010007.bin.png\r\n",
        "   TRU: u'[Foxtrott / Arr.]; Schickele, Peter: [Last Tango in Bayreuth];'\r\n",
        "   ALN: u'[Foxtrott / Arr.]; Schickele, Peter: [Last Tango in Bayreuth];'\r\n",
        "   OUT: u'[Foxtrott / Arr.]; Schickele, Peter: [Last Tango in Bayreuth];'\r\n"
       ]
      },
      {
       "output_type": "stream",
       "stream": "stdout",
       "text": [
        "100555 0.08 (176, 48) ../htwmusik-models/catalog2-gt-model/SD00200000003/010001.bin.png\r\n",
        "   TRU: u'Babylon'\r\n",
        "   ALN: u'Babylon'\r\n",
        "   OUT: u'Babylon'\r\n"
       ]
      },
      {
       "output_type": "stream",
       "stream": "stdout",
       "text": [
        "100556 6.29 (1134, 48) ../htwmusik-models/catalog2-gt-model/SD00600000535/010008.bin.png\r\n",
        "   TRU: u'Monti, Vittorio: [Czardas / Arr.]; Jakob, Gordon P.: [Prelude,'\r\n",
        "   ALN: u'Monti, Vittorio: [Czardas / Arr.]; Jakob, Gordon P.: [Prelude,'\r\n",
        "   OUT: u'Monti, Vittorio: [Czardas / Arr.]; Jaob, Gordon P.: [Prelude,'\r\n"
       ]
      },
      {
       "output_type": "stream",
       "stream": "stdout",
       "text": [
        "100557 4.87 (1094, 48) ../htwmusik-models/catalog2-gt-model/SD00600000535/010009.bin.png\r\n",
        "   TRU: u'fugue and scherzo]; Bozza, Eug\\xe8ne: [Divertissement]; Jansen,'\r\n",
        "   ALN: u'fugue and scherzo]; Bozza, Eug\\xe8ne: [Divertissement]; Jansen,'\r\n",
        "   OUT: u'fugue and scherzo]; Bozza, Eug\\xe4ne: [Divertissement]; Jansen,'\r\n"
       ]
      },
      {
       "output_type": "stream",
       "stream": "stdout",
       "text": [
        "100558 3.58 (1024, 48) ../htwmusik-models/catalog2-gt-model/SD00600000535/010004.bin.png\r\n",
        "   TRU: u'NE: Fu\\u010dik, Julius: [Vstup gladi\\xe1tor\\u016f / Arr.]; Ridout, Alan:'\r\n",
        "   ALN: u'NE: Fu~ik, Julius: [Vstup gladi~tor~ / Arr.]; Ridout, Alan:'\r\n",
        "   OUT: u'NE: Fu~ik, Julius: [Vstup gladi~tor~ / Arr.]; Ridout, Alan:'\r\n"
       ]
      },
      {
       "output_type": "stream",
       "stream": "stdout",
       "text": [
        "100559 3.21 (740, 48) ../htwmusik-models/catalog2-gt-model/SD00200000245/010002.bin.png\r\n",
        "   TRU: u'Reimann Aribert: Das Schloss [Forts.]'\r\n",
        "   ALN: u'Reimann Aribert: Das Schloss [Forts.]'\r\n",
        "   OUT: u'Reimann Aribert: Das  Schloss [Forts.]'\r\n"
       ]
      },
      {
       "output_type": "stream",
       "stream": "stdout",
       "text": [
        "100560 4.81 (140, 48) ../htwmusik-models/catalog2-gt-model/SD00200000245/010003.bin.png\r\n",
        "   TRU: u'P 1997'\r\n",
        "   ALN: u'P 1997'\r\n",
        "   OUT: u'P 1997.'\r\n"
       ]
      },
      {
       "output_type": "stream",
       "stream": "stdout",
       "text": [
        "100561 1.71 (1017, 48) ../htwmusik-models/catalog2-gt-model/SD00600000272/010007.bin.png\r\n",
        "   TRU: u'Interpr.: Taube, Ulrike [Sopr]. Schriever, Gerda [Alt]. Fleischer, Eva'\r\n",
        "   ALN: u'Interpr.: Taube, Ulrike [Sopr]. Schriever, Gerda [Alt]. Fleischer, Eva'\r\n",
        "   OUT: u'Interpr.: Taube, Ulrike [Sopr]. Schriever, Gerda [Alt]. Fleischer, Eva'\r\n"
       ]
      },
      {
       "output_type": "stream",
       "stream": "stdout",
       "text": [
        "100562 0.05 (132, 48) ../htwmusik-models/catalog2-gt-model/SD00200000608/010002.bin.png\r\n",
        "   TRU: u'siehe'\r\n",
        "   ALN: u'siehe'\r\n",
        "   OUT: u'siehe'\r\n"
       ]
      },
      {
       "output_type": "stream",
       "stream": "stdout",
       "text": [
        "100563 0.42 (281, 48) ../htwmusik-models/catalog2-gt-model/SD01200000085/010002.bin.png\r\n",
        "   TRU: u'55 CD 105 - 1.2'\r\n",
        "   ALN: u'55 CD 105 - 1.2'\r\n",
        "   OUT: u'55 CD 105 - 1.2'\r\n"
       ]
      },
      {
       "output_type": "stream",
       "stream": "stdout",
       "text": [
        "100564 14.21 (400, 48) ../htwmusik-models/catalog2-gt-model/SD00600000535/010001.bin.png\r\n",
        "   TRU: u'Fagottissimo [Forts.]'\r\n",
        "   ALN: u'Fagottissimo [Forts.]'\r\n",
        "   OUT: u'Fa ottissimo [Forts.]'\r\n"
       ]
      },
      {
       "output_type": "stream",
       "stream": "stdout",
       "text": [
        "100565 37.09 (405, 48) ../htwmusik-models/catalog2-gt-model/SD00600000272/010002.bin.png\r\n",
        "   TRU: u'Bach, Johann Sebastian:'\r\n",
        "   ALN: u'Bach, Johann ebastian:'\r\n",
        "   OUT: u'B ch J h nn ebastian:'\r\n"
       ]
      },
      {
       "output_type": "stream",
       "stream": "stdout",
       "text": [
        "100566 1.97 (566, 48) ../htwmusik-models/catalog2-gt-model/SD01200000085/010005.bin.png\r\n",
        "   TRU: u'Best. -Nr. Chandos CHAN 9370/71'\r\n",
        "   ALN: u'Best. -Nr. Chandos CHAN 9370/71'\r\n",
        "   OUT: u'Best.-Nr. Chandos CHAN 9370/71'\r\n"
       ]
      },
      {
       "output_type": "stream",
       "stream": "stdout",
       "text": [
        "100567 0.40 (277, 48) ../htwmusik-models/catalog2-gt-model/SD00200000003/01000b.bin.png\r\n",
        "   TRU: u'weiterf\\xfchren.'\r\n",
        "   ALN: u'weiterf\\xfchren.'\r\n",
        "   OUT: u'weiterf\\xfchren.'\r\n"
       ]
      },
      {
       "output_type": "stream",
       "stream": "stdout",
       "text": [
        "100568 3.74 (1042, 48) ../htwmusik-models/catalog2-gt-model/SD00600000535/010005.bin.png\r\n",
        "   TRU: u'[Pigs]; Weissenborn, Christian J.: [Stucke, Fg 1 2 3 op. 4 /'\r\n",
        "   ALN: u'[Pigs]; Weissenborn, Christian J.: [Stucke, Fg 1 2 3 op. 4 /'\r\n",
        "   OUT: u'[Pigs]; Weissenborn, Christian J.: [Stucke, Fg 1 2 3 op. 4 /'\r\n"
       ]
      },
      {
       "output_type": "stream",
       "stream": "stdout",
       "text": [
        "100569 33.77 (405, 48) ../htwmusik-models/catalog2-gt-model/SD00600000272/010002.bin.png\r\n",
        "   TRU: u'Bach, Johann Sebastian:'\r\n",
        "   ALN: u'Bach, Johann ebastian:'\r\n",
        "   OUT: u'B ch J h nn ebastian:'\r\n"
       ]
      },
      {
       "output_type": "stream",
       "stream": "stdout",
       "text": [
        "100570 0.05 (132, 48) ../htwmusik-models/catalog2-gt-model/SD00200000608/010002.bin.png\r\n",
        "   TRU: u'siehe'\r\n",
        "   ALN: u'siehe'\r\n",
        "   OUT: u'siehe'\r\n"
       ]
      },
      {
       "output_type": "stream",
       "stream": "stdout",
       "text": [
        "100571 3.28 (740, 48) ../htwmusik-models/catalog2-gt-model/SD00200000245/010002.bin.png\r\n",
        "   TRU: u'Reimann Aribert: Das Schloss [Forts.]'\r\n",
        "   ALN: u'Reimann Aribert: Das Schloss [Forts.]'\r\n",
        "   OUT: u'Reimann Aribert: Das  Schloss [Forts.]'\r\n"
       ]
      },
      {
       "output_type": "stream",
       "stream": "stdout",
       "text": [
        "100572 5.97 (1075, 48) ../htwmusik-models/catalog2-gt-model/SD00600000535/010006.bin.png\r\n",
        "   TRU: u'Ausw.]; Voert, Georg ter: [Polka in Swing]; Seiber, M\\xe1ty\\xe1s G.:'\r\n",
        "   ALN: u'Ausw.]; Voert, Georg ter: [Polka in Swing]; Seiber, M~ty~s G.:'\r\n",
        "   OUT: u'Ausw.]; Voert, Georg ter: [Polka in Swing]; Seiber, M~ty~s G.:'\r\n"
       ]
      },
      {
       "output_type": "stream",
       "stream": "stdout",
       "text": [
        "100573 1.74 (275, 48) ../htwmusik-models/catalog2-gt-model/SD00200000003/010002.bin.png\r\n",
        "   TRU: u'55 CD 289 - 4'\r\n",
        "   ALN: u'55 CD 289 - 4'\r\n",
        "   OUT: u'55 CD 289 - 4'\r\n"
       ]
      },
      {
       "output_type": "stream",
       "stream": "stdout",
       "text": [
        "100574 27.85 (405, 48) ../htwmusik-models/catalog2-gt-model/SD00600000272/010002.bin.png\r\n",
        "   TRU: u'Bach, Johann Sebastian:'\r\n",
        "   ALN: u'Bach Johann ebastian:'\r\n",
        "   OUT: u'B ch J h nn ebastian:'\r\n"
       ]
      },
      {
       "output_type": "stream",
       "stream": "stdout",
       "text": [
        "100575 11.01 (1110, 48) ../htwmusik-models/catalog2-gt-model/SD00200000003/010003.bin.png\r\n",
        "   TRU: u'Beatkiste : Hit-Rarit\\xe4ten aus dem DDR-Rundfunkarchiv. - Berlin :'\r\n",
        "   ALN: u'Beatiste : Hit-Rarit\\xe4ten aus dem DDR-Rundfunkarchiv. - Berlin :'\r\n",
        "   OUT: u'Betse : Hit-Rarit\\xe4ten aus dem DDR-Rundfunkarchiv. - Berlin :'\r\n"
       ]
      },
      {
       "output_type": "stream",
       "stream": "stdout",
       "text": [
        "100576 1.08 (730, 48) ../htwmusik-models/catalog2-gt-model/SD00600000258/010004.bin.png\r\n",
        "   TRU: u'Best.-Nr. Deutsche Grammophon 453 701-2'\r\n",
        "   ALN: u'Best.-Nr. Deutsche Grammophon 453 701-2'\r\n",
        "   OUT: u'Best.-Nr. Deutsche Grammophon 453 701-2'\r\n"
       ]
      },
      {
       "output_type": "stream",
       "stream": "stdout",
       "text": [
        "100577 10.13 (1110, 48) ../htwmusik-models/catalog2-gt-model/SD00200000003/010003.bin.png\r\n",
        "   TRU: u'Beatkiste : Hit-Rarit\\xe4ten aus dem DDR-Rundfunkarchiv. - Berlin :'\r\n",
        "   ALN: u'Beatiste : Hit-Rarit\\xe4ten aus dem DDR-Rundfunkarchiv. - Berlin :'\r\n",
        "   OUT: u'Beste : Hit-Rarit\\xe4ten aus dem DDR-Rundfunkarchiv. - Berlin :'\r\n"
       ]
      },
      {
       "output_type": "stream",
       "stream": "stdout",
       "text": [
        "100578 0.06 (246, 48) ../htwmusik-models/catalog2-gt-model/SD00600000258/010002.bin.png\r\n",
        "   TRU: u'Singverein'\r\n",
        "   ALN: u'Singverein'\r\n",
        "   OUT: u'Singverein'\r\n"
       ]
      },
      {
       "output_type": "stream",
       "stream": "stdout",
       "text": [
        "100579 3.58 (1007, 48) ../htwmusik-models/catalog2-gt-model/SD00600000272/010009.bin.png\r\n",
        "   TRU: u'[Org]. Ramin, G\\xfcnther [Dir]. Thomanerchor <Leipzig>.'\r\n",
        "   ALN: u'[Org]. Ramin, G\\xfcnther [Dir]. Thomanerchor <Leipzig>.'\r\n",
        "   OUT: u'[Org]. Ramin, G\\xfcnther [Dir]. Thomanerchor <Leipzig>.'\r\n"
       ]
      },
      {
       "output_type": "stream",
       "stream": "stdout",
       "text": [
        "100580 0.52 (146, 48) ../htwmusik-models/catalog2-gt-model/SD01200000085/010004.bin.png\r\n",
        "   TRU: u'P 1995.'\r\n",
        "   ALN: u'P 1995.'\r\n",
        "   OUT: u'P 1995.'\r\n"
       ]
      },
      {
       "output_type": "stream",
       "stream": "stdout",
       "text": [
        "100581 3.72 (661, 48) ../htwmusik-models/catalog2-gt-model/SD01200000085/010001.bin.png\r\n",
        "   TRU: u'Opera North <Leeds> / Chorus'\r\n",
        "   ALN: u'Opera North <Leeds> / Chorus'\r\n",
        "   OUT: u'Opera North <Leeds> / Chorus'\r\n"
       ]
      },
      {
       "output_type": "stream",
       "stream": "stdout",
       "text": [
        "100582 4.59 (762, 48) ../htwmusik-models/catalog2-gt-model/SD00600000258/010005.bin.png\r\n",
        "   TRU: u'NE : Beethoven, Ludwig van: Ser.; Interpr.'\r\n",
        "   ALN: u'NE : Beethoven, Ludwig van: Ser.; Interpr.'\r\n",
        "   OUT: u'NE: Beethoven, Ludwwig van: Ser.; Interpr.'\r\n"
       ]
      },
      {
       "output_type": "stream",
       "stream": "stdout",
       "text": [
        "100583 17.92 (497, 48) ../htwmusik-models/catalog2-gt-model/SD00200000245/010004.bin.png\r\n",
        "   TRU: u'Best.-Nr. Wergo Wer 6614-2'\r\n",
        "   ALN: u'Best.-Nr. Wergo Wer 6614-2'\r\n",
        "   OUT: u'Best.-Nr. Wergo WER 6614-2'\r\n"
       ]
      },
      {
       "output_type": "stream",
       "stream": "stdout",
       "text": [
        "100584 0.36 (119, 48) ../htwmusik-models/catalog2-gt-model/SD00600000323/010001.bin.png\r\n",
        "   TRU: u'CD 38'\r\n",
        "   ALN: u'CD 38'\r\n",
        "   OUT: u'CD 38'\r\n"
       ]
      },
      {
       "output_type": "stream",
       "stream": "stdout",
       "text": [
        "100585 1.88 (864, 48) ../htwmusik-models/catalog2-gt-model/SD00600000272/010003.bin.png\r\n",
        "   TRU: u'[Kantaten / Ausw.] Cantatas / Bach. - Hamburg : Edel.'\r\n",
        "   ALN: u'[Kantaten / Ausw.] Cantatas / Bach. - Hamburg : Edel.'\r\n",
        "   OUT: u'[Kantaten / Ausw.] Cantatas / Bach. - Hamburg : Edel.'\r\n"
       ]
      },
      {
       "output_type": "stream",
       "stream": "stdout",
       "text": [
        "100586 3.95 (1024, 48) ../htwmusik-models/catalog2-gt-model/SD00600000535/010004.bin.png\r\n",
        "   TRU: u'NE: Fu\\u010dik, Julius: [Vstup gladi\\xe1tor\\u016f / Arr.]; Ridout, Alan:'\r\n",
        "   ALN: u'NE: Fu~ik, Julius: [Vstup gladi~tor~ / Arr.]; Ridout, Alan:'\r\n",
        "   OUT: u'NE: Fu~ik, Julius: [Vstup gladi~tor~ / Arr.]; Ridout, Alan:'\r\n"
       ]
      },
      {
       "output_type": "stream",
       "stream": "stdout",
       "text": [
        "100587 12.57 (1004, 48) ../htwmusik-models/catalog2-gt-model/SD00200000003/01000c.bin.png\r\n",
        "   TRU: u'Interbr.: Rosalili. Lift. Babylon. Keks. Puhdys. Karat'\r\n",
        "   ALN: u'Interbr.: Rosalili. Lift. Babyon. Keks. Puhdys. Karat'\r\n",
        "   OUT: u'Interbr.: Rosalili. Lift. Baebon. Keks. Puhdys. Karat.'\r\n"
       ]
      },
      {
       "output_type": "stream",
       "stream": "stdout",
       "text": [
        "100588 1.45 (566, 48) ../htwmusik-models/catalog2-gt-model/SD01200000085/010005.bin.png\r\n",
        "   TRU: u'Best. -Nr. Chandos CHAN 9370/71'\r\n",
        "   ALN: u'Best. -Nr. Chandos CHAN 9370/71'\r\n",
        "   OUT: u'Best.-Nr. Chandos CHAN 9370/71'\r\n"
       ]
      },
      {
       "output_type": "stream",
       "stream": "stdout",
       "text": [
        "100589 12.93 (805, 48) ../htwmusik-models/catalog2-gt-model/SD01200000085/010006.bin.png\r\n",
        "   TRU: u'Ne : Hassall, Christopher [Textverf.]; Interpr.'\r\n",
        "   ALN: u'Ne : Hassall, Christopher [Textverf.]; Interpr.'\r\n",
        "   OUT: u'NE: Hassall, Christopher [Textverf.]; Interpr.'\r\n"
       ]
      },
      {
       "output_type": "stream",
       "stream": "stdout",
       "text": [
        "100590 3.20 (740, 48) ../htwmusik-models/catalog2-gt-model/SD00200000245/010002.bin.png\r\n",
        "   TRU: u'Reimann Aribert: Das Schloss [Forts.]'\r\n",
        "   ALN: u'Reimann Aribert: Das Schloss [Forts.]'\r\n",
        "   OUT: u'Reimann Aribert: Das Schloss [Forts.]'\r\n"
       ]
      },
      {
       "output_type": "stream",
       "stream": "stdout",
       "text": [
        "100591 0.08 (176, 48) ../htwmusik-models/catalog2-gt-model/SD00200000003/010001.bin.png\r\n",
        "   TRU: u'Babylon'\r\n",
        "   ALN: u'Babylon'\r\n",
        "   OUT: u'Babylon'\r\n"
       ]
      },
      {
       "output_type": "stream",
       "stream": "stdout",
       "text": [
        "100592 0.60 (235, 48) ../htwmusik-models/catalog2-gt-model/SD00200000245/010005.bin.png\r\n",
        "   TRU: u'NE: Interpr.'\r\n",
        "   ALN: u'NE: Interpr.'\r\n",
        "   OUT: u'NE: Interpr.'\r\n"
       ]
      },
      {
       "output_type": "stream",
       "stream": "stdout",
       "text": [
        "100593 11.65 (805, 48) ../htwmusik-models/catalog2-gt-model/SD01200000085/010006.bin.png\r\n",
        "   TRU: u'Ne : Hassall, Christopher [Textverf.]; Interpr.'\r\n",
        "   ALN: u'Ne : Hassall, Christopher [Textverf.]; Interpr.'\r\n",
        "   OUT: u'NE: Hassall, Christopher [Textverf.]; Interpr.'\r\n"
       ]
      },
      {
       "output_type": "stream",
       "stream": "stdout",
       "text": [
        "100594 3.03 (1017, 48) ../htwmusik-models/catalog2-gt-model/SD00600000272/010001.bin.png\r\n",
        "   TRU: u'Gewandhausorchester <Leipzig> 55 CD 1779 - 1,6'\r\n",
        "   ALN: u'Gewandhausorchester <Leipzig> 55 CD 1779 - 1,6'\r\n",
        "   OUT: u'Gewandhausorchester <Leipzig> 55 CD 1779 - 1,6'\r\n"
       ]
      },
      {
       "output_type": "stream",
       "stream": "stdout",
       "text": [
        "100595 4.29 (1075, 48) ../htwmusik-models/catalog2-gt-model/SD00600000535/010006.bin.png\r\n",
        "   TRU: u'Ausw.]; Voert, Georg ter: [Polka in Swing]; Seiber, M\\xe1ty\\xe1s G.:'\r\n",
        "   ALN: u'Ausw.]; Voert, Georg ter: [Polka in Swing]; Seiber, M~ty~s G.:'\r\n",
        "   OUT: u'Ausw.]; Voert, Georg ter: [Polka in Swing]; Seiber, M~ty~s G.:'\r\n"
       ]
      },
      {
       "output_type": "stream",
       "stream": "stdout",
       "text": [
        "100596 0.99 (275, 48) ../htwmusik-models/catalog2-gt-model/SD00200000003/010002.bin.png\r\n",
        "   TRU: u'55 CD 289 - 4'\r\n",
        "   ALN: u'55 CD 289 - 4'\r\n",
        "   OUT: u'55 CD 289 - 4'\r\n"
       ]
      },
      {
       "output_type": "stream",
       "stream": "stdout",
       "text": [
        "100597 2.24 (1042, 48) ../htwmusik-models/catalog2-gt-model/SD00600000535/010005.bin.png\r\n",
        "   TRU: u'[Pigs]; Weissenborn, Christian J.: [Stucke, Fg 1 2 3 op. 4 /'\r\n",
        "   ALN: u'[Pigs]; Weissenborn, Christian J.: [Stucke, Fg 1 2 3 op. 4 /'\r\n",
        "   OUT: u'[Pigs]; Weissenborn, Christian J.: [Stucke, Fg 1 2 3 op. 4 /'\r\n"
       ]
      },
      {
       "output_type": "stream",
       "stream": "stdout",
       "text": [
        "100598 1.94 (762, 48) ../htwmusik-models/catalog2-gt-model/SD00600000258/010005.bin.png\r\n",
        "   TRU: u'NE : Beethoven, Ludwig van: Ser.; Interpr.'\r\n",
        "   ALN: u'NE : Beethoven, Ludwig van: Ser.; Interpr.'\r\n",
        "   OUT: u'NE: Beethoven, Ludwig van: Ser.; Interpr.'\r\n"
       ]
      },
      {
       "output_type": "stream",
       "stream": "stdout",
       "text": [
        "100599 18.88 (908, 48) ../htwmusik-models/catalog2-gt-model/SD00600000323/010003.bin.png\r\n",
        "   TRU: u'Auf.: Walldorf, 1989 u. New York City, 1981. - P 1989'\r\n",
        "   ALN: u'Auf.: Walldorf, 1989 u. New York City, 1981. - P 1989'\r\n",
        "   OUT: u'Afn.: Walldorf, 1989 u. .ew York City, 1981. - P 1989.'\r\n"
       ]
      },
      {
       "output_type": "stream",
       "stream": "stdout",
       "text": [
        "100600 3.70 (1075, 48) ../htwmusik-models/catalog2-gt-model/SD00600000535/010006.bin.png\r\n",
        "   TRU: u'Ausw.]; Voert, Georg ter: [Polka in Swing]; Seiber, M\\xe1ty\\xe1s G.:'\r\n",
        "   ALN: u'Ausw.]; Voert, Georg ter: [Polka in Swing]; Seiber, M~ty~s G.:'\r\n",
        "   OUT: u'Ausw.]; Voert, Georg ter: [Polka in Swing]; Seiber, M~ty~s G.:'\r\n"
       ]
      },
      {
       "output_type": "stream",
       "stream": "stdout",
       "text": [
        "100601 12.30 (400, 48) ../htwmusik-models/catalog2-gt-model/SD00600000535/010001.bin.png\r\n",
        "   TRU: u'Fagottissimo [Forts.]'\r\n",
        "   ALN: u'Fagottissimo [Forts.]'\r\n",
        "   OUT: u'Fa ottissimo [Forts.]'\r\n"
       ]
      },
      {
       "output_type": "stream",
       "stream": "stdout",
       "text": [
        "100602 0.07 (176, 48) ../htwmusik-models/catalog2-gt-model/SD00200000003/010001.bin.png\r\n",
        "   TRU: u'Babylon'\r\n",
        "   ALN: u'Babylon'\r\n",
        "   OUT: u'Babylon'\r\n"
       ]
      },
      {
       "output_type": "stream",
       "stream": "stdout",
       "text": [
        "100603 0.88 (888, 48) ../htwmusik-models/catalog2-gt-model/SD01200000085/010003.bin.png\r\n",
        "   TRU: u'Walton William: Troilus and Cressida [Forts.]'\r\n",
        "   ALN: u'Walton William: Troilus and Cressida [Forts.]'\r\n",
        "   OUT: u'Walton William: Troilus and Cressida [Forts.]'\r\n"
       ]
      },
      {
       "output_type": "stream",
       "stream": "stdout",
       "text": [
        "100604 2.61 (1007, 48) ../htwmusik-models/catalog2-gt-model/SD00600000272/010009.bin.png\r\n",
        "   TRU: u'[Org]. Ramin, G\\xfcnther [Dir]. Thomanerchor <Leipzig>.'\r\n",
        "   ALN: u'[Org]. Ramin, G\\xfcnther [Dir]. Thomanerchor <Leipzig>.'\r\n",
        "   OUT: u'[Org]. Ramin, G\\xfcnther [Dir]. Thomanerchor <Leipzig>.'\r\n"
       ]
      },
      {
       "output_type": "stream",
       "stream": "stdout",
       "text": [
        "100605 6.35 (1122, 48) ../htwmusik-models/catalog2-gt-model/SD00600000272/010004.bin.png\r\n",
        "   TRU: u'6. - [1999]. - 1 Compact Disc + Beih. - (Bach - Made in Germany : Vol. 1, 6)'\r\n",
        "   ALN: u'6. - [1999]. - 1 Compact Disc + Beih. - (Bach - Made in Germany : Vol. 1, 6)'\r\n",
        "   OUT: u'6. - [1999]. - 1 Compact Disc + Beih. - (Bach - Made in Germany ; Vol. 1, 6)'\r\n"
       ]
      },
      {
       "output_type": "stream",
       "stream": "stdout",
       "text": [
        "100606 2.36 (861, 48) ../htwmusik-models/catalog2-gt-model/SD00200000245/010001.bin.png\r\n",
        "   TRU: u'Bayerisches Staatsorchester <M\\xfcnchen>'\r\n",
        "   ALN: u'Bayerisches Staatsorchester <M\\xfcnchen>'\r\n",
        "   OUT: u'Bayerisches Staatsorchester <M\\xfcnchen>'\r\n"
       ]
      },
      {
       "output_type": "stream",
       "stream": "stdout",
       "text": [
        "100607 4.75 (832, 48) ../htwmusik-models/catalog2-gt-model/SD00600000258/010001.bin.png\r\n",
        "   TRU: u'2 Gesellschaft der Musikfreunde <Wien> /'\r\n",
        "   ALN: u'2 Gesellschaft der Musikfreunde <Wien> /'\r\n",
        "   OUT: u'\\xe4 Gesellschaft der Musikfreunde <Wien> /'\r\n"
       ]
      },
      {
       "output_type": "stream",
       "stream": "stdout",
       "text": [
        "100608 1.49 (1017, 48) ../htwmusik-models/catalog2-gt-model/SD00600000272/010007.bin.png\r\n",
        "   TRU: u'Interpr.: Taube, Ulrike [Sopr]. Schriever, Gerda [Alt]. Fleischer, Eva'\r\n",
        "   ALN: u'Interpr.: Taube, Ulrike [Sopr]. Schriever, Gerda [Alt]. Fleischer, Eva'\r\n",
        "   OUT: u'Interpr.: Taube, Ulrike [Sopr]. Schriever, Gerda [Alt]. Fleischer, Eva'\r\n"
       ]
      },
      {
       "output_type": "stream",
       "stream": "stdout",
       "text": [
        "100609 16.28 (908, 48) ../htwmusik-models/catalog2-gt-model/SD00600000323/010003.bin.png\r\n",
        "   TRU: u'Auf.: Walldorf, 1989 u. New York City, 1981. - P 1989'\r\n",
        "   ALN: u'Auf.: Walldorf, 1989 u. New York City, 1981. - P 1989'\r\n",
        "   OUT: u'Aufn.: Walldorf, 1989 u. .ew York City, 1981. - P 1989.'\r\n"
       ]
      },
      {
       "output_type": "stream",
       "stream": "stdout",
       "text": [
        "100610 2.61 (1007, 48) ../htwmusik-models/catalog2-gt-model/SD00600000272/010009.bin.png\r\n",
        "   TRU: u'[Org]. Ramin, G\\xfcnther [Dir]. Thomanerchor <Leipzig>.'\r\n",
        "   ALN: u'[Org]. Ramin, G\\xfcnther [Dir]. Thomanerchor <Leipzig>.'\r\n",
        "   OUT: u'[Org]. Ramin, G\\xfcnther [Dir]. Thomanerchor <Leipzig>.'\r\n"
       ]
      },
      {
       "output_type": "stream",
       "stream": "stdout",
       "text": [
        "100611 0.38 (119, 48) ../htwmusik-models/catalog2-gt-model/SD00600000323/010001.bin.png\r\n",
        "   TRU: u'CD 38'\r\n",
        "   ALN: u'CD 38'\r\n",
        "   OUT: u'CD 38'\r\n"
       ]
      },
      {
       "output_type": "stream",
       "stream": "stdout",
       "text": [
        "100612 0.59 (281, 48) ../htwmusik-models/catalog2-gt-model/SD01200000085/010002.bin.png\r\n",
        "   TRU: u'55 CD 105 - 1.2'\r\n",
        "   ALN: u'55 CD 105 - 1.2'\r\n",
        "   OUT: u'55 CD 105 - 1.2'\r\n"
       ]
      },
      {
       "output_type": "stream",
       "stream": "stdout",
       "text": [
        "100613 2.94 (1075, 48) ../htwmusik-models/catalog2-gt-model/SD00600000535/010006.bin.png\r\n",
        "   TRU: u'Ausw.]; Voert, Georg ter: [Polka in Swing]; Seiber, M\\xe1ty\\xe1s G.:'\r\n",
        "   ALN: u'Ausw.]; Voert, Georg ter: [Polka in Swing]; Seiber, M~ty~s G.:'\r\n",
        "   OUT: u'Ausw.]; Voert, Georg ter: [Polka in Swing]; Seiber, M~ty~s G.:'\r\n"
       ]
      },
      {
       "output_type": "stream",
       "stream": "stdout",
       "text": [
        "100614 0.79 (888, 48) ../htwmusik-models/catalog2-gt-model/SD01200000085/010003.bin.png\r\n",
        "   TRU: u'Walton William: Troilus and Cressida [Forts.]'\r\n",
        "   ALN: u'Walton William: Troilus and Cressida [Forts.]'\r\n",
        "   OUT: u'Walton William: Troilus and Cressida [Forts.]'\r\n"
       ]
      },
      {
       "output_type": "stream",
       "stream": "stdout",
       "text": [
        "100615 5.70 (1134, 48) ../htwmusik-models/catalog2-gt-model/SD00600000535/010008.bin.png\r\n",
        "   TRU: u'Monti, Vittorio: [Czardas / Arr.]; Jakob, Gordon P.: [Prelude,'\r\n",
        "   ALN: u'Monti, Vittorio: [Czardas / Arr.]; Jakob, Gordon P.: [Prelude,'\r\n",
        "   OUT: u'Monti, Vittorio: [Czardas / Arr.]; Jakob, Gordon P.: [Prelude,'\r\n"
       ]
      },
      {
       "output_type": "stream",
       "stream": "stdout",
       "text": [
        "100616 0.74 (888, 48) ../htwmusik-models/catalog2-gt-model/SD01200000085/010003.bin.png\r\n",
        "   TRU: u'Walton William: Troilus and Cressida [Forts.]'\r\n",
        "   ALN: u'Walton William: Troilus and Cressida [Forts.]'\r\n",
        "   OUT: u'Walton William: Troilus and Cressida [Forts.]'\r\n"
       ]
      },
      {
       "output_type": "stream",
       "stream": "stdout",
       "text": [
        "100617 4.42 (1114, 48) ../htwmusik-models/catalog2-gt-model/SD00600000272/01000a.bin.png\r\n",
        "   TRU: u'Gewandhausorchester <Leipzig>... - Auf.: 1949 - 1954. - P 1965 - 1966'\r\n",
        "   ALN: u'Gewandhausorchester <Leipzig>... - Auf.: 1949 - 1954. - P 1965 - 1966'\r\n",
        "   OUT: u'Gewandhausorchester <Leipzig>... - Aufi.: 1949 - 1954. - P 1965 - 1966'\r\n"
       ]
      },
      {
       "output_type": "stream",
       "stream": "stdout",
       "text": [
        "100618 8.63 (1110, 48) ../htwmusik-models/catalog2-gt-model/SD00200000003/010003.bin.png\r\n",
        "   TRU: u'Beatkiste : Hit-Rarit\\xe4ten aus dem DDR-Rundfunkarchiv. - Berlin :'\r\n",
        "   ALN: u'Beaiste : Hit-Rarit\\xe4ten aus dem DDR-Rundfunkarchiv. - Berlin :'\r\n",
        "   OUT: u'Betste : Hit-Rarit\\xe4ten aus dem DDR-Rundfunkarchiv. - Berlin :'\r\n"
       ]
      },
      {
       "output_type": "stream",
       "stream": "stdout",
       "text": [
        "100619 0.37 (141, 48) ../htwmusik-models/catalog2-gt-model/SD00600000535/010003.bin.png\r\n",
        "   TRU: u'CD 317'\r\n",
        "   ALN: u'CD 317'\r\n",
        "   OUT: u'CD 317'\r\n"
       ]
      },
      {
       "output_type": "stream",
       "stream": "stdout",
       "text": [
        "100620 15.11 (908, 48) ../htwmusik-models/catalog2-gt-model/SD00600000323/010003.bin.png\r\n",
        "   TRU: u'Auf.: Walldorf, 1989 u. New York City, 1981. - P 1989'\r\n",
        "   ALN: u'Auf.: Walldorf, 1989 u. New York City, 1981. - P 1989'\r\n",
        "   OUT: u'Aufn.: Walldorf, 1989 u. .ew York City, 1981. - P 1989.'\r\n"
       ]
      },
      {
       "output_type": "stream",
       "stream": "stdout",
       "text": [
        "100621 3.37 (1114, 48) ../htwmusik-models/catalog2-gt-model/SD00200000003/010007.bin.png\r\n",
        "   TRU: u'Hoffnung. Fort f\\xfcr einen Abend. Welt im Sand. Weisst du noch.'\r\n",
        "   ALN: u'Hoffnung. Fort f\\xfcr einen Abend. Welt im Sand. Weisst du noch.'\r\n",
        "   OUT: u'Hoffnung. Fort f\\xfcr einen Abend. Welt im Sand. Weisst du noch.'\r\n"
       ]
      },
      {
       "output_type": "stream",
       "stream": "stdout",
       "text": [
        "100622 3.47 (1058, 48) ../htwmusik-models/catalog2-gt-model/SD00600000323/010005.bin.png\r\n",
        "   TRU: u'NE: Rheinberger, Gabriel J.: [Thema mit Ver\\xe4nderungen, V1 1 2'\r\n",
        "   ALN: u'NE: Rheinberger, Gabriel J.: [Thema mit Ver\\xe4nderungen, V1 1 2'\r\n",
        "   OUT: u'NE: Rheinberger, Gabriel J.: [Thema mit Ver\\xe4nderungen, V1 1 2'\r\n"
       ]
      },
      {
       "output_type": "stream",
       "stream": "stdout",
       "text": [
        "100623 3.20 (1058, 48) ../htwmusik-models/catalog2-gt-model/SD00600000323/010005.bin.png\r\n",
        "   TRU: u'NE: Rheinberger, Gabriel J.: [Thema mit Ver\\xe4nderungen, V1 1 2'\r\n",
        "   ALN: u'NE: Rheinberger, Gabriel J.: [Thema mit Ver\\xe4nderungen, V1 1 2'\r\n",
        "   OUT: u'NE: Rheinberger, Gabriel J.: [Thema mit Ver\\xe4nderungen, V1 1 2'\r\n"
       ]
      },
      {
       "output_type": "stream",
       "stream": "stdout",
       "text": [
        "100624 2.21 (661, 48) ../htwmusik-models/catalog2-gt-model/SD01200000085/010001.bin.png\r\n",
        "   TRU: u'Opera North <Leeds> / Chorus'\r\n",
        "   ALN: u'Opera North <Leeds> / Chorus'\r\n",
        "   OUT: u'Opera North <Leeds> / Chorus'\r\n"
       ]
      },
      {
       "output_type": "stream",
       "stream": "stdout",
       "text": [
        "100625 0.30 (173, 48) ../htwmusik-models/catalog2-gt-model/SD00600000323/010007.bin.png\r\n",
        "   TRU: u'Interpr.'\r\n",
        "   ALN: u'Interpr.'\r\n",
        "   OUT: u'Interpr.'\r\n"
       ]
      },
      {
       "output_type": "stream",
       "stream": "stdout",
       "text": [
        "100626 0.56 (275, 48) ../htwmusik-models/catalog2-gt-model/SD00200000003/010002.bin.png\r\n",
        "   TRU: u'55 CD 289 - 4'\r\n",
        "   ALN: u'55 CD 289 - 4'\r\n",
        "   OUT: u'55 CD 289 - 4'\r\n"
       ]
      },
      {
       "output_type": "stream",
       "stream": "stdout",
       "text": [
        "100627 0.59 (275, 48) ../htwmusik-models/catalog2-gt-model/SD00200000003/010002.bin.png\r\n",
        "   TRU: u'55 CD 289 - 4'\r\n",
        "   ALN: u'55 CD 289 - 4'\r\n",
        "   OUT: u'55 CD 289 - 4'\r\n"
       ]
      },
      {
       "output_type": "stream",
       "stream": "stdout",
       "text": [
        "100628 3.81 (1014, 48) ../htwmusik-models/catalog2-gt-model/SD00600000272/010008.bin.png\r\n",
        "   TRU: u'[Alt]. Lutze, Gert [Ten]. Hauptmann, Hans [Bass]. K\\xe4stner, Hannes'\r\n",
        "   ALN: u'[Alt]. Lutze, Gert [Ten]. Hauptmann, Hans [Bass]. K\\xe4stner, Hannes'\r\n",
        "   OUT: u'[Alt]. Lutze, Gert [Ten]. Hauptmann, Hans [Bass]. K\\xe4stner, Hannes'\r\n"
       ]
      },
      {
       "output_type": "stream",
       "stream": "stdout",
       "text": [
        "100629 0.26 (141, 48) ../htwmusik-models/catalog2-gt-model/SD00600000535/010003.bin.png\r\n",
        "   TRU: u'CD 317'\r\n",
        "   ALN: u'CD 317'\r\n",
        "   OUT: u'CD 317'\r\n"
       ]
      },
      {
       "output_type": "stream",
       "stream": "stdout",
       "text": [
        "100630 0.46 (275, 48) ../htwmusik-models/catalog2-gt-model/SD00200000003/010002.bin.png\r\n",
        "   TRU: u'55 CD 289 - 4'\r\n",
        "   ALN: u'55 CD 289 - 4'\r\n",
        "   OUT: u'55 CD 289 - 4'\r\n"
       ]
      },
      {
       "output_type": "stream",
       "stream": "stdout",
       "text": [
        "100631 8.81 (566, 48) ../htwmusik-models/catalog2-gt-model/SD00200000608/010001.bin.png\r\n",
        "   TRU: u'Bohuslav Martim\\u016f Piano Quartet'\r\n",
        "   ALN: u'Bohuslav Martim~ Piano Quartet'\r\n",
        "   OUT: u'Bohuslav Martin~ Piano Quartet'\r\n"
       ]
      },
      {
       "output_type": "stream",
       "stream": "stdout",
       "text": [
        "100632 9.09 (1014, 48) ../htwmusik-models/catalog2-gt-model/SD00600000272/010005.bin.png\r\n",
        "   TRU: u'Enth.: Sei Lob und Ehr dem h\\xf6chsten Gut BWV 117. Ich ruf zu dir, Herr'\r\n",
        "   ALN: u'Enth.: Sei Lob und Ehr dem h\\xf6chsten Gut BWV 117. Ich ruf zu dir, Herr'\r\n",
        "   OUT: u'Enth.: Sei Lob und Ehr dem h~chsten Gut BWV 117. Ich rufzu dir, Herr'\r\n"
       ]
      },
      {
       "output_type": "stream",
       "stream": "stdout",
       "text": [
        "100633 0.41 (275, 48) ../htwmusik-models/catalog2-gt-model/SD00200000003/010002.bin.png\r\n",
        "   TRU: u'55 CD 289 - 4'\r\n",
        "   ALN: u'55 CD 289 - 4'\r\n",
        "   OUT: u'55 CD 289 - 4'\r\n"
       ]
      },
      {
       "output_type": "stream",
       "stream": "stdout",
       "text": [
        "100634 1.13 (704, 48) ../htwmusik-models/catalog2-gt-model/SD00200000003/010005.bin.png\r\n",
        "   TRU: u'Vol. 4. - [1996]. - 1 Compact Disc + Beih.'\r\n",
        "   ALN: u'Vol. 4. - [1996]. - 1 Compact Disc + Beih.'\r\n",
        "   OUT: u'Vol. 4. - [1996]. - 1 Compact Disc + Beih.'\r\n"
       ]
      },
      {
       "output_type": "stream",
       "stream": "stdout",
       "text": [
        "100635 2.34 (1007, 48) ../htwmusik-models/catalog2-gt-model/SD00600000272/010009.bin.png\r\n",
        "   TRU: u'[Org]. Ramin, G\\xfcnther [Dir]. Thomanerchor <Leipzig>.'\r\n",
        "   ALN: u'[Org]. Ramin, G\\xfcnther [Dir]. Thomanerchor <Leipzig>.'\r\n",
        "   OUT: u'[Org]. Ramin, G\\xfcnther [Dir]. Thomanerchor <Leipzig>.'\r\n"
       ]
      },
      {
       "output_type": "stream",
       "stream": "stdout",
       "text": [
        "100636 0.28 (173, 48) ../htwmusik-models/catalog2-gt-model/SD00600000323/010007.bin.png\r\n",
        "   TRU: u'Interpr.'\r\n",
        "   ALN: u'Interpr.'\r\n",
        "   OUT: u'Interpr.'\r\n"
       ]
      },
      {
       "output_type": "stream",
       "stream": "stdout",
       "text": [
        "100637 2.92 (1014, 48) ../htwmusik-models/catalog2-gt-model/SD00600000272/010008.bin.png\r\n",
        "   TRU: u'[Alt]. Lutze, Gert [Ten]. Hauptmann, Hans [Bass]. K\\xe4stner, Hannes'\r\n",
        "   ALN: u'[Alt]. Lutze, Gert [Ten]. Hauptmann, Hans [Bass]. K\\xe4stner, Hannes'\r\n",
        "   OUT: u'[Alt]. Lutze, Gert [Ten]. Hauptmann, Hans [Bass]. K\\xe4stner, Hannes'\r\n"
       ]
      },
      {
       "output_type": "stream",
       "stream": "stdout",
       "text": [
        "100638 2.12 (762, 48) ../htwmusik-models/catalog2-gt-model/SD00600000258/010005.bin.png\r\n",
        "   TRU: u'NE : Beethoven, Ludwig van: Ser.; Interpr.'\r\n",
        "   ALN: u'NE : Beethoven, Ludwig van: Ser.; Interpr.'\r\n",
        "   OUT: u'NE: Beethoven, Ludwig van: Ser.; Interpr.'\r\n"
       ]
      },
      {
       "output_type": "stream",
       "stream": "stdout",
       "text": [
        "100639 3.66 (788, 48) ../htwmusik-models/catalog2-gt-model/SD00600000272/010006.bin.png\r\n",
        "   TRU: u'Jesu Christ BWV 177. Ein ungef\\xe4rbt Gem\\xfcte BWV 24.'\r\n",
        "   ALN: u'Jesu Christ BWV 177. Ein ungef\\xe4rbt Gem\\xfcte BWV 24.'\r\n",
        "   OUT: u'Jesu Christ BWV 177. Ein ungef\\xe4rbt Gem\\xfcte BWV 24.'\r\n"
       ]
      },
      {
       "output_type": "stream",
       "stream": "stdout",
       "text": [
        "100640 1.59 (1114, 48) ../htwmusik-models/catalog2-gt-model/SD00200000003/010007.bin.png\r\n",
        "   TRU: u'Hoffnung. Fort f\\xfcr einen Abend. Welt im Sand. Weisst du noch.'\r\n",
        "   ALN: u'Hoffnung. Fort f\\xfcr einen Abend. Welt im Sand. Weisst du noch.'\r\n",
        "   OUT: u'Hoffnung. Fort f\\xfcr einen Abend. Welt im Sand. Weisst du noch.'\r\n"
       ]
      },
      {
       "output_type": "stream",
       "stream": "stdout",
       "text": [
        "100641 0.67 (625, 48) ../htwmusik-models/catalog2-gt-model/SD00600000272/01000b.bin.png\r\n",
        "   TRU: u'Best.-Nr. Leipzig Classics 00 1806 2 BC'\r\n",
        "   ALN: u'Best.-Nr. Leipzig Classics 00 1806 2 BC'\r\n",
        "   OUT: u'Best.-Nr. Leipzig Classics 00 1806 2 BC'\r\n"
       ]
      },
      {
       "output_type": "stream",
       "stream": "stdout",
       "text": [
        "100642 8.05 (1110, 48) ../htwmusik-models/catalog2-gt-model/SD00200000003/010003.bin.png\r\n",
        "   TRU: u'Beatkiste : Hit-Rarit\\xe4ten aus dem DDR-Rundfunkarchiv. - Berlin :'\r\n",
        "   ALN: u'Beatiste : Hit-Rarit\\xe4ten aus dem DDR-Rundfunkarchiv. - Berlin :'\r\n",
        "   OUT: u'Beste : Hit-Rarit\\xe4ten aus dem DDR-Rundfunkarchiv. - Berlin :'\r\n"
       ]
      },
      {
       "output_type": "stream",
       "stream": "stdout",
       "text": [
        "100643 2.38 (861, 48) ../htwmusik-models/catalog2-gt-model/SD00200000245/010001.bin.png\r\n",
        "   TRU: u'Bayerisches Staatsorchester <M\\xfcnchen>'\r\n",
        "   ALN: u'Bayerisches Staatsorchester <M\\xfcnchen>'\r\n",
        "   OUT: u'Bayerisches Staatsorchester <M\\xfcnchen>'\r\n"
       ]
      },
      {
       "output_type": "stream",
       "stream": "stdout",
       "text": [
        "100644 2.64 (1114, 48) ../htwmusik-models/catalog2-gt-model/SD00600000272/01000a.bin.png\r\n",
        "   TRU: u'Gewandhausorchester <Leipzig>... - Auf.: 1949 - 1954. - P 1965 - 1966'\r\n",
        "   ALN: u'Gewandhausorchester <Leipzig>... - Auf.: 1949 - 1954. - P 1965 - 1966'\r\n",
        "   OUT: u'Gewandhausorchester <Leipzig>... - Auf.: 1949 - 1954. - P 1965 - 1966'\r\n"
       ]
      },
      {
       "output_type": "stream",
       "stream": "stdout",
       "text": [
        "100645 1.68 (1042, 48) ../htwmusik-models/catalog2-gt-model/SD00600000535/010005.bin.png\r\n",
        "   TRU: u'[Pigs]; Weissenborn, Christian J.: [Stucke, Fg 1 2 3 op. 4 /'\r\n",
        "   ALN: u'[Pigs]; Weissenborn, Christian J.: [Stucke, Fg 1 2 3 op. 4 /'\r\n",
        "   OUT: u'[Pigs]; Weissenborn, Christian J.: [Stucke, Fg 1 2 3 op. 4 /'\r\n"
       ]
      },
      {
       "output_type": "stream",
       "stream": "stdout",
       "text": [
        "100646 0.26 (141, 48) ../htwmusik-models/catalog2-gt-model/SD00600000535/010003.bin.png\r\n",
        "   TRU: u'CD 317'\r\n",
        "   ALN: u'CD 317'\r\n",
        "   OUT: u'CD 317'\r\n"
       ]
      },
      {
       "output_type": "stream",
       "stream": "stdout",
       "text": [
        "100647 1.14 (730, 48) ../htwmusik-models/catalog2-gt-model/SD00600000258/010004.bin.png\r\n",
        "   TRU: u'Best.-Nr. Deutsche Grammophon 453 701-2'\r\n",
        "   ALN: u'Best.-Nr. Deutsche Grammophon 453 701-2'\r\n",
        "   OUT: u'Best.-Nr. Deutsche Grammophon 453 701-2'\r\n"
       ]
      },
      {
       "output_type": "stream",
       "stream": "stdout",
       "text": [
        "100648 2.10 (1007, 48) ../htwmusik-models/catalog2-gt-model/SD00600000272/010009.bin.png\r\n",
        "   TRU: u'[Org]. Ramin, G\\xfcnther [Dir]. Thomanerchor <Leipzig>.'\r\n",
        "   ALN: u'[Org]. Ramin, G\\xfcnther [Dir]. Thomanerchor <Leipzig>.'\r\n",
        "   OUT: u'[Org]. Ramin, G\\xfcnther [Dir]. Thomanerchor <Leipzig>.'\r\n"
       ]
      },
      {
       "output_type": "stream",
       "stream": "stdout",
       "text": [
        "100649 0.75 (888, 48) ../htwmusik-models/catalog2-gt-model/SD01200000085/010003.bin.png\r\n",
        "   TRU: u'Walton William: Troilus and Cressida [Forts.]'\r\n",
        "   ALN: u'Walton William: Troilus and Cressida [Forts.]'\r\n",
        "   OUT: u'Walton William: Troilus and Cressida [Forts.]'\r\n"
       ]
      },
      {
       "output_type": "stream",
       "stream": "stdout",
       "text": [
        "100650 35.78 (405, 48) ../htwmusik-models/catalog2-gt-model/SD00600000272/010002.bin.png\r\n",
        "   TRU: u'Bach, Johann Sebastian:'\r\n",
        "   ALN: u'Bach Johann Sebastian:'\r\n",
        "   OUT: u'B ch J h nn ebastian:'\r\n"
       ]
      },
      {
       "output_type": "stream",
       "stream": "stdout",
       "text": [
        "100651 2.24 (440, 48) ../htwmusik-models/catalog2-gt-model/SD00600000535/010002.bin.png\r\n",
        "   TRU: u'Best.-Nr. MD + G L 3379'\r\n",
        "   ALN: u'Best.-Nr. MD + G L 3379'\r\n",
        "   OUT: u'Best.-Nr. MD + G L 3379'\r\n"
       ]
      },
      {
       "output_type": "stream",
       "stream": "stdout",
       "text": [
        "100652 0.89 (730, 48) ../htwmusik-models/catalog2-gt-model/SD00600000258/010004.bin.png\r\n",
        "   TRU: u'Best.-Nr. Deutsche Grammophon 453 701-2'\r\n",
        "   ALN: u'Best.-Nr. Deutsche Grammophon 453 701-2'\r\n",
        "   OUT: u'Best.-Nr. Deutsche Grammophon 453 701-2'\r\n"
       ]
      },
      {
       "output_type": "stream",
       "stream": "stdout",
       "text": [
        "100653 7.80 (566, 48) ../htwmusik-models/catalog2-gt-model/SD00200000608/010001.bin.png\r\n",
        "   TRU: u'Bohuslav Martim\\u016f Piano Quartet'\r\n",
        "   ALN: u'Bohuslav Martim~ Piano Quartet'\r\n",
        "   OUT: u'Bohuslav Martin~ Piano Quartet'\r\n"
       ]
      },
      {
       "output_type": "stream",
       "stream": "stdout",
       "text": [
        "100654 0.92 (235, 48) ../htwmusik-models/catalog2-gt-model/SD00200000245/010005.bin.png\r\n",
        "   TRU: u'NE: Interpr.'\r\n",
        "   ALN: u'NE: Interpr.'\r\n",
        "   OUT: u'NE: Interpr.'\r\n"
       ]
      },
      {
       "output_type": "stream",
       "stream": "stdout",
       "text": [
        "100655 5.56 (1122, 48) ../htwmusik-models/catalog2-gt-model/SD00600000272/010004.bin.png\r\n",
        "   TRU: u'6. - [1999]. - 1 Compact Disc + Beih. - (Bach - Made in Germany : Vol. 1, 6)'\r\n",
        "   ALN: u'6. - [1999]. - 1 Compact Disc + Beih. - (Bach - Made in Germany : Vol. 1, 6)'\r\n",
        "   OUT: u'6. - [1999]. - 1 Compact Disc + Beih. - (Bach - Made in Germany ; Vol. 1, 6)'\r\n"
       ]
      },
      {
       "output_type": "stream",
       "stream": "stdout",
       "text": [
        "100656 9.94 (497, 48) ../htwmusik-models/catalog2-gt-model/SD00200000245/010004.bin.png\r\n",
        "   TRU: u'Best.-Nr. Wergo Wer 6614-2'\r\n",
        "   ALN: u'Best.-Nr. Wergo Wer 6614-2'\r\n",
        "   OUT: u'Best.-Nr. Wergo WER 6614-2'\r\n"
       ]
      },
      {
       "output_type": "stream",
       "stream": "stdout",
       "text": [
        "100657 9.15 (497, 48) ../htwmusik-models/catalog2-gt-model/SD00200000245/010004.bin.png\r\n",
        "   TRU: u'Best.-Nr. Wergo Wer 6614-2'\r\n",
        "   ALN: u'Best.-Nr. Wergo Wer 6614-2'\r\n",
        "   OUT: u'Best.-Nr. Wergo WEr 6614-2'\r\n"
       ]
      },
      {
       "output_type": "stream",
       "stream": "stdout",
       "text": [
        "100658 1.02 (470, 48) ../htwmusik-models/catalog2-gt-model/SD00600000323/010004.bin.png\r\n",
        "   TRU: u'Best.-Nr. Capella CTH 2061'\r\n",
        "   ALN: u'Best.-Nr. Capella CTH 2061'\r\n",
        "   OUT: u'Best.-Nr. Capella CTH 2061'\r\n"
       ]
      },
      {
       "output_type": "stream",
       "stream": "stdout",
       "text": [
        "100659 0.91 (280, 48) ../htwmusik-models/catalog2-gt-model/SD00200000245/010006.bin.png\r\n",
        "   TRU: u'55 CD 223 - 1.2'\r\n",
        "   ALN: u'55 CD 223 - 1.2'\r\n",
        "   OUT: u'55 CD 223 - 1.2'\r\n"
       ]
      },
      {
       "output_type": "stream",
       "stream": "stdout",
       "text": [
        "100660 0.13 (246, 48) ../htwmusik-models/catalog2-gt-model/SD00600000258/010002.bin.png\r\n",
        "   TRU: u'Singverein'\r\n",
        "   ALN: u'Singverein'\r\n",
        "   OUT: u'Singverein'\r\n"
       ]
      },
      {
       "output_type": "stream",
       "stream": "stdout",
       "text": [
        "100661 0.05 (132, 48) ../htwmusik-models/catalog2-gt-model/SD00200000608/010002.bin.png\r\n",
        "   TRU: u'siehe'\r\n",
        "   ALN: u'siehe'\r\n",
        "   OUT: u'siehe'\r\n"
       ]
      },
      {
       "output_type": "stream",
       "stream": "stdout",
       "text": [
        "100662 1.73 (861, 48) ../htwmusik-models/catalog2-gt-model/SD00200000245/010001.bin.png\r\n",
        "   TRU: u'Bayerisches Staatsorchester <M\\xfcnchen>'\r\n",
        "   ALN: u'Bayerisches Staatsorchester <M\\xfcnchen>'\r\n",
        "   OUT: u'Bayerisches Staatsorchester <M\\xfcnchen>'\r\n"
       ]
      },
      {
       "output_type": "stream",
       "stream": "stdout",
       "text": [
        "100663 1.54 (1114, 48) ../htwmusik-models/catalog2-gt-model/SD00200000003/010007.bin.png\r\n",
        "   TRU: u'Hoffnung. Fort f\\xfcr einen Abend. Welt im Sand. Weisst du noch.'\r\n",
        "   ALN: u'Hoffnung. Fort f\\xfcr einen Abend. Welt im Sand. Weisst du noch.'\r\n",
        "   OUT: u'Hoffnung. Fort f\\xfcr einen Abend. Welt im Sand. Weisst du noch.'\r\n"
       ]
      },
      {
       "output_type": "stream",
       "stream": "stdout",
       "text": [
        "100664 0.35 (119, 48) ../htwmusik-models/catalog2-gt-model/SD00600000323/010001.bin.png\r\n",
        "   TRU: u'CD 38'\r\n",
        "   ALN: u'CD 38'\r\n",
        "   OUT: u'CD 38'\r\n"
       ]
      },
      {
       "output_type": "stream",
       "stream": "stdout",
       "text": [
        "100665 0.38 (370, 48) ../htwmusik-models/catalog2-gt-model/SD00200000003/010004.bin.png\r\n",
        "   TRU: u'Edition Barbarossa.'\r\n",
        "   ALN: u'Edition Barbarossa.'\r\n",
        "   OUT: u'Edition Barbarossa.'\r\n"
       ]
      },
      {
       "output_type": "stream",
       "stream": "stdout",
       "text": [
        "100666 3.82 (497, 48) ../htwmusik-models/catalog2-gt-model/SD00200000245/010004.bin.png\r\n",
        "   TRU: u'Best.-Nr. Wergo Wer 6614-2'\r\n",
        "   ALN: u'Best.-Nr. Wergo Wer 6614-2'\r\n",
        "   OUT: u'Best.-Nr. Wergo WEr 6614-2'\r\n"
       ]
      },
      {
       "output_type": "stream",
       "stream": "stdout",
       "text": [
        "100667 2.56 (1058, 48) ../htwmusik-models/catalog2-gt-model/SD00600000323/010005.bin.png\r\n",
        "   TRU: u'NE: Rheinberger, Gabriel J.: [Thema mit Ver\\xe4nderungen, V1 1 2'\r\n",
        "   ALN: u'NE: Rheinberger, Gabriel J.: [Thema mit Ver\\xe4nderungen, V1 1 2'\r\n",
        "   OUT: u'NE: Rheinberger, Gabriel J.: [Thema mit Ver\\xe4nderungen, V1 1 2'\r\n"
       ]
      },
      {
       "output_type": "stream",
       "stream": "stdout",
       "text": [
        "100668 2.57 (661, 48) ../htwmusik-models/catalog2-gt-model/SD01200000085/010001.bin.png\r\n",
        "   TRU: u'Opera North <Leeds> / Chorus'\r\n",
        "   ALN: u'Opera North <Leeds> / Chorus'\r\n",
        "   OUT: u'Opera North <Leeds> / Chorus'\r\n"
       ]
      },
      {
       "output_type": "stream",
       "stream": "stdout",
       "text": [
        "100669 10.18 (1185, 48) ../htwmusik-models/catalog2-gt-model/SD00200000003/010006.bin.png\r\n",
        "   TRU: u'Enth.: Jagd auf Liebe. Steigen Nebel. Zu Fuss. Tshgiten-Legende'\r\n",
        "   ALN: u'Enth.: Jagd auf Liebe. Steigen Nebel. Zu Fuss. Tshgiten-Legende'\r\n",
        "   OUT: u'Enth.: Jagd auf Liebe. Steigen Nebel. Zu Fuss. Tshigiten-Legende.'\r\n"
       ]
      },
      {
       "output_type": "stream",
       "stream": "stdout",
       "text": [
        "100670 9.37 (805, 48) ../htwmusik-models/catalog2-gt-model/SD01200000085/010006.bin.png\r\n",
        "   TRU: u'Ne : Hassall, Christopher [Textverf.]; Interpr.'\r\n",
        "   ALN: u'Ne : Hassall, Christopher [Textverf.]; Interpr.'\r\n",
        "   OUT: u'NE: Hassall, Christopher [Textverf.]; Interpr.'\r\n"
       ]
      },
      {
       "output_type": "stream",
       "stream": "stdout",
       "text": [
        "100671 1.20 (235, 48) ../htwmusik-models/catalog2-gt-model/SD00200000245/010005.bin.png\r\n",
        "   TRU: u'NE: Interpr.'\r\n",
        "   ALN: u'NE: Interpr.'\r\n",
        "   OUT: u'NE: Interpr.'\r\n"
       ]
      },
      {
       "output_type": "stream",
       "stream": "stdout",
       "text": [
        "100672 2.48 (1114, 48) ../htwmusik-models/catalog2-gt-model/SD00600000272/01000a.bin.png\r\n",
        "   TRU: u'Gewandhausorchester <Leipzig>... - Auf.: 1949 - 1954. - P 1965 - 1966'\r\n",
        "   ALN: u'Gewandhausorchester <Leipzig>... - Auf.: 1949 - 1954. - P 1965 - 1966'\r\n",
        "   OUT: u'Gewandhausorchester <Leipzig>... - Auf.: 1949 - 1954. - P 1965 - 1966'\r\n"
       ]
      },
      {
       "output_type": "stream",
       "stream": "stdout",
       "text": [
        "100673 4.34 (826, 48) ../htwmusik-models/catalog2-gt-model/SD00600000258/010003.bin.png\r\n",
        "   TRU: u'Beethoven Ludwig van: [Sinfonien] [Forts.]'\r\n",
        "   ALN: u'Beethoven Ludwi van: [Sinfonien] [Forts.]'\r\n",
        "   OUT: u'Beethoven Ludwi van: [Sinfonien] [Forts.]'\r\n"
       ]
      },
      {
       "output_type": "stream",
       "stream": "stdout",
       "text": [
        "100674 3.47 (788, 48) ../htwmusik-models/catalog2-gt-model/SD00600000272/010006.bin.png\r\n",
        "   TRU: u'Jesu Christ BWV 177. Ein ungef\\xe4rbt Gem\\xfcte BWV 24.'\r\n",
        "   ALN: u'Jesu Christ BWV 177. Ein ungef\\xe4rbt Gem\\xfcte BWV 24.'\r\n",
        "   OUT: u'Jesu Christ BWV 177. Ein ungef\\xe4rbt Gem\\xfcte BWV 24.'\r\n"
       ]
      },
      {
       "output_type": "stream",
       "stream": "stdout",
       "text": [
        "100675 10.02 (1110, 48) ../htwmusik-models/catalog2-gt-model/SD00200000003/010003.bin.png\r\n",
        "   TRU: u'Beatkiste : Hit-Rarit\\xe4ten aus dem DDR-Rundfunkarchiv. - Berlin :'\r\n",
        "   ALN: u'Beatkste : Hit-Rarit\\xe4ten aus dem DDR-Rundfunkarchiv. - Berlin :'\r\n",
        "   OUT: u'Betste : Hit-rarit\\xe4ten aus dem DDR-Rundfunkarchiv. - Berlin :'\r\n"
       ]
      },
      {
       "output_type": "stream",
       "stream": "stdout",
       "text": [
        "100676 1.62 (864, 48) ../htwmusik-models/catalog2-gt-model/SD00600000272/010003.bin.png\r\n",
        "   TRU: u'[Kantaten / Ausw.] Cantatas / Bach. - Hamburg : Edel.'\r\n",
        "   ALN: u'[Kantaten / Ausw.] Cantatas / Bach. - Hamburg : Edel.'\r\n",
        "   OUT: u'[Kantaten / Ausw.] Cantatas / Bach. - Hamburg : Edel.'\r\n"
       ]
      },
      {
       "output_type": "stream",
       "stream": "stdout",
       "text": [
        "100677 1.64 (1014, 48) ../htwmusik-models/catalog2-gt-model/SD00600000272/010008.bin.png\r\n",
        "   TRU: u'[Alt]. Lutze, Gert [Ten]. Hauptmann, Hans [Bass]. K\\xe4stner, Hannes'\r\n",
        "   ALN: u'[Alt]. Lutze, Gert [Ten]. Hauptmann, Hans [Bass]. K\\xe4stner, Hannes'\r\n",
        "   OUT: u'[Alt]. Lutze, Gert [Ten]. Hauptmann, Hans [Bass]. K\\xe4stner, Hannes'\r\n"
       ]
      },
      {
       "output_type": "stream",
       "stream": "stdout",
       "text": [
        "100678 3.76 (288, 48) ../htwmusik-models/catalog2-gt-model/SD00600000272/01000c.bin.png\r\n",
        "   TRU: u'Ne: Ser.; Interpr.'\r\n",
        "   ALN: u'Ne: Ser.; Interpr.'\r\n",
        "   OUT: u'Ne: Ser.; Interpr.'\r\n"
       ]
      },
      {
       "output_type": "stream",
       "stream": "stdout",
       "text": [
        "100679 8.88 (1014, 48) ../htwmusik-models/catalog2-gt-model/SD00600000272/010005.bin.png\r\n",
        "   TRU: u'Enth.: Sei Lob und Ehr dem h\\xf6chsten Gut BWV 117. Ich ruf zu dir, Herr'\r\n",
        "   ALN: u'Enth.: Sei Lob und Ehr dem h\\xf6chsten Gut BWV 117. Ich ruf zu dir, Herr'\r\n",
        "   OUT: u'Enth.: Sei Lob und Ehr dem h\\xf6chsten Gut BWV 117. Ich rufzu dir, Herr'\r\n"
       ]
      },
      {
       "output_type": "stream",
       "stream": "stdout",
       "text": [
        "100680 0.29 (258, 48) ../htwmusik-models/catalog2-gt-model/SD00600000258/010006.bin.png\r\n",
        "   TRU: u'55 CD 77 - 1'\r\n",
        "   ALN: u'55 CD 77 - 1'\r\n",
        "   OUT: u'55 CD 77 - 1'\r\n"
       ]
      },
      {
       "output_type": "stream",
       "stream": "stdout",
       "text": [
        "100681 0.24 (146, 48) ../htwmusik-models/catalog2-gt-model/SD01200000085/010004.bin.png\r\n",
        "   TRU: u'P 1995.'\r\n",
        "   ALN: u'P 1995.'\r\n",
        "   OUT: u'P 1995.'\r\n"
       ]
      },
      {
       "output_type": "stream",
       "stream": "stdout",
       "text": [
        "100682 2.12 (1007, 48) ../htwmusik-models/catalog2-gt-model/SD00600000272/010009.bin.png\r\n",
        "   TRU: u'[Org]. Ramin, G\\xfcnther [Dir]. Thomanerchor <Leipzig>.'\r\n",
        "   ALN: u'[Org]. Ramin, G\\xfcnther [Dir]. Thomanerchor <Leipzig>.'\r\n",
        "   OUT: u'[Org]. Ramin, G\\xfcnther [Dir]. Thomanerchor <Leipzig>.'\r\n"
       ]
      },
      {
       "output_type": "stream",
       "stream": "stdout",
       "text": [
        "100683 0.97 (730, 48) ../htwmusik-models/catalog2-gt-model/SD00600000258/010004.bin.png\r\n",
        "   TRU: u'Best.-Nr. Deutsche Grammophon 453 701-2'\r\n",
        "   ALN: u'Best.-Nr. Deutsche Grammophon 453 701-2'\r\n",
        "   OUT: u'Best.-Nr. Deutsche Grammophon 453 701-2'\r\n"
       ]
      },
      {
       "output_type": "stream",
       "stream": "stdout",
       "text": [
        "100684 0.79 (470, 48) ../htwmusik-models/catalog2-gt-model/SD00600000323/010004.bin.png\r\n",
        "   TRU: u'Best.-Nr. Capella CTH 2061'\r\n",
        "   ALN: u'Best.-Nr. Capella CTH 2061'\r\n",
        "   OUT: u'Best.-Nr. Capella CTH 2061'\r\n"
       ]
      },
      {
       "output_type": "stream",
       "stream": "stdout",
       "text": [
        "100685 5.47 (1094, 48) ../htwmusik-models/catalog2-gt-model/SD00600000535/010009.bin.png\r\n",
        "   TRU: u'fugue and scherzo]; Bozza, Eug\\xe8ne: [Divertissement]; Jansen,'\r\n",
        "   ALN: u'fugue and scherzo]; Bozza, Eug\\xe8ne: [Divertissement]; Jansen,'\r\n",
        "   OUT: u'fugue and scherzo]; Bozza, Eug\\xe4ne: [Divertissement]; Jansen,'\r\n"
       ]
      },
      {
       "output_type": "stream",
       "stream": "stdout",
       "text": [
        "100686 1.51 (235, 48) ../htwmusik-models/catalog2-gt-model/SD00200000245/010005.bin.png\r\n",
        "   TRU: u'NE: Interpr.'\r\n",
        "   ALN: u'NE: Interpr.'\r\n",
        "   OUT: u'NE: Interpr.'\r\n"
       ]
      },
      {
       "output_type": "stream",
       "stream": "stdout",
       "text": [
        "100687 14.63 (1004, 48) ../htwmusik-models/catalog2-gt-model/SD00200000003/01000c.bin.png\r\n",
        "   TRU: u'Interbr.: Rosalili. Lift. Babylon. Keks. Puhdys. Karat'\r\n",
        "   ALN: u'Interbr.: Rosalili. Lift. Babyon. Keks. Puhdys. Karat'\r\n",
        "   OUT: u'Interbr.: Rosalili. Lift. Babon. Keks. Puhdys. Karat.'\r\n"
       ]
      },
      {
       "output_type": "stream",
       "stream": "stdout",
       "text": [
        "100688 5.84 (1190, 48) ../htwmusik-models/catalog2-gt-model/SD00200000003/010008.bin.png\r\n",
        "   TRU: u'Wir gehn zu mir. Der Morgen auf dem Gipfel. Aus dem All. Am Fluss'\r\n",
        "   ALN: u'Wir gehn zu mir. Der Morgen auf dem Gipfel. Aus dem All. Am Fluss'\r\n",
        "   OUT: u'Wir gehn zu mir. Der Morgen auf dem Gipfel. Aus dem All. Am Fluss'\r\n"
       ]
      },
      {
       "output_type": "stream",
       "stream": "stdout",
       "text": [
        "100689 1.81 (1017, 48) ../htwmusik-models/catalog2-gt-model/SD00600000272/010007.bin.png\r\n",
        "   TRU: u'Interpr.: Taube, Ulrike [Sopr]. Schriever, Gerda [Alt]. Fleischer, Eva'\r\n",
        "   ALN: u'Interpr.: Taube, Ulrike [Sopr]. Schriever, Gerda [Alt]. Fleischer, Eva'\r\n",
        "   OUT: u'Interpr.: Taube, Ulrike [Sopr]. Schriever, Gerda [Alt]. Fleischer, Eva'\r\n"
       ]
      },
      {
       "output_type": "stream",
       "stream": "stdout",
       "text": [
        "100690 12.95 (1023, 48) ../htwmusik-models/catalog2-gt-model/SD00600000323/010002.bin.png\r\n",
        "   TRU: u'Rheinberger Gabriel J.: [Trios, V1 Vc Kl op. 112] [Forts.]'\r\n",
        "   ALN: u'Rheinberger Gabriel J.: [Trios, V1 Vc Kl op. 112] [Forts.]'\r\n",
        "   OUT: u'Rheinber er Gabriel J.: [Trios, V1 Vc Kl op. 112] [Forts.]'\r\n"
       ]
      },
      {
       "output_type": "stream",
       "stream": "stdout",
       "text": [
        "100691 1.19 (1141, 48) ../htwmusik-models/catalog2-gt-model/SD00200000003/010009.bin.png\r\n",
        "   TRU: u'die Weide. Einmal unsichtbar sein. Schwester. Heisses Land.'\r\n",
        "   ALN: u'die Weide. Einmal unsichtbar sein. Schwester. Heisses Land.'\r\n",
        "   OUT: u'die Weide. Einmal unsichtbar sein. Schwester. Heisses Land.'\r\n"
       ]
      },
      {
       "output_type": "stream",
       "stream": "stdout",
       "text": [
        "100692 3.06 (288, 48) ../htwmusik-models/catalog2-gt-model/SD00600000272/01000c.bin.png\r\n",
        "   TRU: u'Ne: Ser.; Interpr.'\r\n",
        "   ALN: u'Ne: Ser.; Interpr.'\r\n",
        "   OUT: u'Ne: Ser.; Interpr.'\r\n"
       ]
      },
      {
       "output_type": "stream",
       "stream": "stdout",
       "text": [
        "100693 2.09 (864, 48) ../htwmusik-models/catalog2-gt-model/SD00600000272/010003.bin.png\r\n",
        "   TRU: u'[Kantaten / Ausw.] Cantatas / Bach. - Hamburg : Edel.'\r\n",
        "   ALN: u'[Kantaten / Ausw.] Cantatas / Bach. - Hamburg : Edel.'\r\n",
        "   OUT: u'[Kantaten / Ausw.] Cantatas / Bach. - Hamburg : Edel.'\r\n"
       ]
      },
      {
       "output_type": "stream",
       "stream": "stdout",
       "text": [
        "100694 1.16 (235, 48) ../htwmusik-models/catalog2-gt-model/SD00200000245/010005.bin.png\r\n",
        "   TRU: u'NE: Interpr.'\r\n",
        "   ALN: u'NE: Interpr.'\r\n",
        "   OUT: u'NE: Interpr.'\r\n"
       ]
      },
      {
       "output_type": "stream",
       "stream": "stdout",
       "text": [
        "100695 9.30 (1185, 48) ../htwmusik-models/catalog2-gt-model/SD00200000003/010006.bin.png\r\n",
        "   TRU: u'Enth.: Jagd auf Liebe. Steigen Nebel. Zu Fuss. Tshgiten-Legende'\r\n",
        "   ALN: u'Enth.: Jagd auf Liebe. Steigen Nebel. Zu Fuss. Tshgiten-Legende'\r\n",
        "   OUT: u'Enth.: Jagd auf Liebe. Steigen Nebel. Zu Fuss. Tshigiten-Legende.'\r\n"
       ]
      },
      {
       "output_type": "stream",
       "stream": "stdout",
       "text": [
        "100696 5.73 (1134, 48) ../htwmusik-models/catalog2-gt-model/SD00600000535/010008.bin.png\r\n",
        "   TRU: u'Monti, Vittorio: [Czardas / Arr.]; Jakob, Gordon P.: [Prelude,'\r\n",
        "   ALN: u'Monti, Vittorio: [Czardas / Arr.]; Jakob, Gordon P.: [Prelude,'\r\n",
        "   OUT: u'Monti, Vittorio: [Czardas / Arr.]; Jakob, Gordon P.: [Prelude,'\r\n"
       ]
      },
      {
       "output_type": "stream",
       "stream": "stdout",
       "text": [
        "100697 3.42 (1190, 48) ../htwmusik-models/catalog2-gt-model/SD00200000003/010008.bin.png\r\n",
        "   TRU: u'Wir gehn zu mir. Der Morgen auf dem Gipfel. Aus dem All. Am Fluss'\r\n",
        "   ALN: u'Wir gehn zu mir. Der Morgen auf dem Gipfel. Aus dem All. Am Fluss'\r\n",
        "   OUT: u'Wir gehn zu mir. Der Morgen auf dem Gipfel. Aus dem All. Am Fluss'\r\n"
       ]
      },
      {
       "output_type": "stream",
       "stream": "stdout",
       "text": [
        "100698 0.41 (258, 48) ../htwmusik-models/catalog2-gt-model/SD00600000258/010006.bin.png\r\n",
        "   TRU: u'55 CD 77 - 1'\r\n",
        "   ALN: u'55 CD 77 - 1'\r\n",
        "   OUT: u'55 CD 77 - 1'\r\n"
       ]
      },
      {
       "output_type": "stream",
       "stream": "stdout",
       "text": [
        "100699 10.42 (805, 48) ../htwmusik-models/catalog2-gt-model/SD01200000085/010006.bin.png\r\n",
        "   TRU: u'Ne : Hassall, Christopher [Textverf.]; Interpr.'\r\n",
        "   ALN: u'Ne : Hassall, Christopher [Textverf.]; Interpr.'\r\n",
        "   OUT: u'NE: Hassall, Christopher [Textverf.]; Interpr.'\r\n"
       ]
      },
      {
       "output_type": "stream",
       "stream": "stdout",
       "text": [
        "100700 16.09 (656, 48) ../htwmusik-models/catalog2-gt-model/SD00200000608/010003.bin.png\r\n",
        "   TRU: u'Klav\\u01d0rn\\u01d0 Kvarteto Bohuslava Martim\\u016f'\r\n",
        "   ALN: u'Klav~rn~ Kvarteto Bohuslava Martim~'\r\n",
        "   OUT: u'Klavfrn~ Kvarteto Bohuslava Martin~'\r\n"
       ]
      },
      {
       "output_type": "stream",
       "stream": "stdout",
       "text": [
        "100701 39.34 (930, 48) ../htwmusik-models/catalog2-gt-model/SD00600000535/01000a.bin.png\r\n",
        "   TRU: u\"Peter: [Scherzo, Nocturno und Burlesca]; Prokof'ev, Sergej S.:\"\r\n",
        "   ALN: u\"Peter: [Scherzo, Nocturno uud BBulesca]; Prokof'ev, Sergej S.:\"\r\n",
        "   OUT: u\"Peter: [Scherzo, octurno  l]; Prokof'ev, Sergej S.:\"\r\n"
       ]
      },
      {
       "output_type": "stream",
       "stream": "stdout",
       "text": [
        "100702 0.08 (132, 48) ../htwmusik-models/catalog2-gt-model/SD00200000608/010002.bin.png\r\n",
        "   TRU: u'siehe'\r\n",
        "   ALN: u'siehe'\r\n",
        "   OUT: u'siehe'\r\n"
       ]
      },
      {
       "output_type": "stream",
       "stream": "stdout",
       "text": [
        "100703 0.22 (146, 48) ../htwmusik-models/catalog2-gt-model/SD01200000085/010004.bin.png\r\n",
        "   TRU: u'P 1995.'\r\n",
        "   ALN: u'P 1995.'\r\n",
        "   OUT: u'P 1995.'\r\n"
       ]
      },
      {
       "output_type": "stream",
       "stream": "stdout",
       "text": [
        "100704 0.11 (176, 48) ../htwmusik-models/catalog2-gt-model/SD00200000003/010001.bin.png\r\n",
        "   TRU: u'Babylon'\r\n",
        "   ALN: u'Babylon'\r\n",
        "   OUT: u'Babylon'\r\n"
       ]
      },
      {
       "output_type": "stream",
       "stream": "stdout",
       "text": [
        "100705 0.10 (246, 48) ../htwmusik-models/catalog2-gt-model/SD00600000258/010002.bin.png\r\n",
        "   TRU: u'Singverein'\r\n",
        "   ALN: u'Singverein'\r\n",
        "   OUT: u'Singverein'\r\n"
       ]
      },
      {
       "output_type": "stream",
       "stream": "stdout",
       "text": [
        "100706 5.14 (140, 48) ../htwmusik-models/catalog2-gt-model/SD00200000245/010003.bin.png\r\n",
        "   TRU: u'P 1997'\r\n",
        "   ALN: u'P 1997'\r\n",
        "   OUT: u'P 1997.'\r\n"
       ]
      },
      {
       "output_type": "stream",
       "stream": "stdout",
       "text": [
        "100707 2.11 (1042, 48) ../htwmusik-models/catalog2-gt-model/SD00600000535/010005.bin.png\r\n",
        "   TRU: u'[Pigs]; Weissenborn, Christian J.: [Stucke, Fg 1 2 3 op. 4 /'\r\n",
        "   ALN: u'[Pigs]; Weissenborn, Christian J.: [Stucke, Fg 1 2 3 op. 4 /'\r\n",
        "   OUT: u'[Pigs]; Weissenborn, Christian J.: [Stucke, Fg 1 2 3 op. 4 /'\r\n"
       ]
      },
      {
       "output_type": "stream",
       "stream": "stdout",
       "text": [
        "100708 0.64 (470, 48) ../htwmusik-models/catalog2-gt-model/SD00600000323/010004.bin.png\r\n",
        "   TRU: u'Best.-Nr. Capella CTH 2061'\r\n",
        "   ALN: u'Best.-Nr. Capella CTH 2061'\r\n",
        "   OUT: u'Best.-Nr. Capella CTH 2061'\r\n"
       ]
      },
      {
       "output_type": "stream",
       "stream": "stdout",
       "text": [
        "100709 6.81 (1094, 48) ../htwmusik-models/catalog2-gt-model/SD00600000535/010009.bin.png\r\n",
        "   TRU: u'fugue and scherzo]; Bozza, Eug\\xe8ne: [Divertissement]; Jansen,'\r\n",
        "   ALN: u'fugue and scherzo]; Bozza, Eug\\xe8ne: [Divertissement]; Jansen,'\r\n",
        "   OUT: u'fugue and scherzo]; Bozza, Eug\\xe4ne: [Divertissement]; Jansen,'\r\n"
       ]
      },
      {
       "output_type": "stream",
       "stream": "stdout",
       "text": [
        "100710 6.66 (805, 48) ../htwmusik-models/catalog2-gt-model/SD01200000085/010006.bin.png\r\n",
        "   TRU: u'Ne : Hassall, Christopher [Textverf.]; Interpr.'\r\n",
        "   ALN: u'Ne : Hassall, Christopher [Textverf.]; Interpr.'\r\n",
        "   OUT: u'NE: Hassall, Christopher [Textverf.]; Interpr.'\r\n"
       ]
      },
      {
       "output_type": "stream",
       "stream": "stdout",
       "text": [
        "100711 18.31 (908, 48) ../htwmusik-models/catalog2-gt-model/SD00600000323/010003.bin.png\r\n",
        "   TRU: u'Auf.: Walldorf, 1989 u. New York City, 1981. - P 1989'\r\n",
        "   ALN: u'Auf.: Walldorf, 1989 u. New York City, 1981. - P 1989'\r\n",
        "   OUT: u'Aufn.: Walldorf, 1989 u. .ew York City, 1981. - P 1989,'\r\n"
       ]
      },
      {
       "output_type": "stream",
       "stream": "stdout",
       "text": [
        "100712 0.29 (146, 48) ../htwmusik-models/catalog2-gt-model/SD01200000085/010004.bin.png\r\n",
        "   TRU: u'P 1995.'\r\n",
        "   ALN: u'P 1995.'\r\n",
        "   OUT: u'P 1995.'\r\n"
       ]
      },
      {
       "output_type": "stream",
       "stream": "stdout",
       "text": [
        "100713 0.68 (470, 48) ../htwmusik-models/catalog2-gt-model/SD00600000323/010004.bin.png\r\n",
        "   TRU: u'Best.-Nr. Capella CTH 2061'\r\n",
        "   ALN: u'Best.-Nr. Capella CTH 2061'\r\n",
        "   OUT: u'Best.-Nr. Capella CTH 2061'\r\n"
       ]
      },
      {
       "output_type": "stream",
       "stream": "stdout",
       "text": [
        "100714 32.28 (930, 48) ../htwmusik-models/catalog2-gt-model/SD00600000535/01000a.bin.png\r\n",
        "   TRU: u\"Peter: [Scherzo, Nocturno und Burlesca]; Prokof'ev, Sergej S.:\"\r\n",
        "   ALN: u\"Peter: [Scherzo, Nocturno uun Bulesca]; Prokof'ev, Sergej S.:\"\r\n",
        "   OUT: u\"Peter: [Scherzo, Nocturno  ala]; Prokof'ev, Serge~ S.:\"\r\n"
       ]
      },
      {
       "output_type": "stream",
       "stream": "stdout",
       "text": [
        "100715 9.08 (1024, 48) ../htwmusik-models/catalog2-gt-model/SD00600000535/010004.bin.png\r\n",
        "   TRU: u'NE: Fu\\u010dik, Julius: [Vstup gladi\\xe1tor\\u016f / Arr.]; Ridout, Alan:'\r\n",
        "   ALN: u'NE: Fu~ik, Julius: [Vstup gladi~tor~ / Arr.]; Ridout, Alan:'\r\n",
        "   OUT: u'NE: Fu~ik, Julius: [Vstup gladi~tor~ / Arr.]; Ridout, Alan:'\r\n"
       ]
      },
      {
       "output_type": "stream",
       "stream": "stdout",
       "text": [
        "100716 1.66 (288, 48) ../htwmusik-models/catalog2-gt-model/SD00600000272/01000c.bin.png\r\n",
        "   TRU: u'Ne: Ser.; Interpr.'\r\n",
        "   ALN: u'Ne: Ser.; Interpr.'\r\n",
        "   OUT: u'Ne: Ser.; Interpr.'\r\n"
       ]
      },
      {
       "output_type": "stream",
       "stream": "stdout",
       "text": [
        "100717 6.06 (826, 48) ../htwmusik-models/catalog2-gt-model/SD00600000258/010003.bin.png\r\n",
        "   TRU: u'Beethoven Ludwig van: [Sinfonien] [Forts.]'\r\n",
        "   ALN: u'Beethoven Ludwig van: [Sinfonien] [Forts.]'\r\n",
        "   OUT: u'Beethoven Ludwi van: [Sinfonien] [Forts.]'\r\n"
       ]
      },
      {
       "output_type": "stream",
       "stream": "stdout",
       "text": [
        "100718 0.81 (370, 48) ../htwmusik-models/catalog2-gt-model/SD00200000003/010004.bin.png\r\n",
        "   TRU: u'Edition Barbarossa.'\r\n",
        "   ALN: u'Edition Barbarossa.'\r\n",
        "   OUT: u'Edition Barbarossa.'\r\n"
       ]
      },
      {
       "output_type": "stream",
       "stream": "stdout",
       "text": [
        "100719 1.69 (1007, 48) ../htwmusik-models/catalog2-gt-model/SD00600000272/010009.bin.png\r\n",
        "   TRU: u'[Org]. Ramin, G\\xfcnther [Dir]. Thomanerchor <Leipzig>.'\r\n",
        "   ALN: u'[Org]. Ramin, G\\xfcnther [Dir]. Thomanerchor <Leipzig>.'\r\n",
        "   OUT: u'[Org]. Ramin, G\\xfcnther [Dir]. Thomanerchor <Leipzig>.'\r\n"
       ]
      },
      {
       "output_type": "stream",
       "stream": "stdout",
       "text": [
        "100720 1.98 (704, 48) ../htwmusik-models/catalog2-gt-model/SD00200000003/010005.bin.png\r\n",
        "   TRU: u'Vol. 4. - [1996]. - 1 Compact Disc + Beih.'\r\n",
        "   ALN: u'Vol. 4. - [1996]. - 1 Compact Disc + Beih.'\r\n",
        "   OUT: u'Vol. 4. - [1996]. - 1 Compact Disc + Beih.'\r\n"
       ]
      },
      {
       "output_type": "stream",
       "stream": "stdout",
       "text": [
        "100721 13.88 (1004, 48) ../htwmusik-models/catalog2-gt-model/SD00200000003/01000c.bin.png\r\n",
        "   TRU: u'Interbr.: Rosalili. Lift. Babylon. Keks. Puhdys. Karat'\r\n",
        "   ALN: u'Interbr.: Rosalili. Lift. Babyon. Keks. Puhdys. Karat'\r\n",
        "   OUT: u'Interbr.: Rosalili. Lift. Babon. Keks. Puhdys. Karat.'\r\n"
       ]
      },
      {
       "output_type": "stream",
       "stream": "stdout",
       "text": [
        "100722 3.46 (956, 48) ../htwmusik-models/catalog2-gt-model/SD00600000323/010006.bin.png\r\n",
        "   TRU: u'Va Vc op. 93]; Rheinberger, Gabriel J.: [Nonette op. 139];'\r\n",
        "   ALN: u'Va Vc op. 93]; Rheinberger, Gabriel J.: [Nonette op. 139];'\r\n",
        "   OUT: u'Va Vc op. 93]; Rheinberger, Gabriel J.: [Nonette op. 139];'\r\n"
       ]
      },
      {
       "output_type": "stream",
       "stream": "stdout",
       "text": [
        "100723 3.40 (235, 48) ../htwmusik-models/catalog2-gt-model/SD00200000245/010005.bin.png\r\n",
        "   TRU: u'NE: Interpr.'\r\n",
        "   ALN: u'NE: Interpr.'\r\n",
        "   OUT: u'NE: Interpr.'\r\n"
       ]
      },
      {
       "output_type": "stream",
       "stream": "stdout",
       "text": [
        "100724 12.50 (400, 48) ../htwmusik-models/catalog2-gt-model/SD00600000535/010001.bin.png\r\n",
        "   TRU: u'Fagottissimo [Forts.]'\r\n",
        "   ALN: u'Fagottissimo [Forts.]'\r\n",
        "   OUT: u'Fa ottissimo [Forts.]'\r\n"
       ]
      },
      {
       "output_type": "stream",
       "stream": "stdout",
       "text": [
        "100725 0.79 (173, 48) ../htwmusik-models/catalog2-gt-model/SD00600000323/010007.bin.png\r\n",
        "   TRU: u'Interpr.'\r\n",
        "   ALN: u'Interpr.'\r\n",
        "   OUT: u'Interpr.'\r\n"
       ]
      },
      {
       "output_type": "stream",
       "stream": "stdout",
       "text": [
        "100726 3.19 (1190, 48) ../htwmusik-models/catalog2-gt-model/SD00200000003/010008.bin.png\r\n",
        "   TRU: u'Wir gehn zu mir. Der Morgen auf dem Gipfel. Aus dem All. Am Fluss'\r\n",
        "   ALN: u'Wir gehn zu mir. Der Morgen auf dem Gipfel. Aus dem All. Am Fluss'\r\n",
        "   OUT: u'Wir gehn zu mir. Der Morgen auf dem Gipfel. Aus dem All. Am Fluss'\r\n"
       ]
      },
      {
       "output_type": "stream",
       "stream": "stdout",
       "text": [
        "100727 1.09 (704, 48) ../htwmusik-models/catalog2-gt-model/SD00200000003/010005.bin.png\r\n",
        "   TRU: u'Vol. 4. - [1996]. - 1 Compact Disc + Beih.'\r\n",
        "   ALN: u'Vol. 4. - [1996]. - 1 Compact Disc + Beih.'\r\n",
        "   OUT: u'Vol. 4. - [1996]. - 1 Compact Disc + Beih.'\r\n"
       ]
      },
      {
       "output_type": "stream",
       "stream": "stdout",
       "text": [
        "100728 1.63 (888, 48) ../htwmusik-models/catalog2-gt-model/SD01200000085/010003.bin.png\r\n",
        "   TRU: u'Walton William: Troilus and Cressida [Forts.]'\r\n",
        "   ALN: u'Walton William: Troilus and Cressida [Forts.]'\r\n",
        "   OUT: u'Walton William: Troilus and Cressida [Forts.]'\r\n"
       ]
      },
      {
       "output_type": "stream",
       "stream": "stdout",
       "text": [
        "100729 0.10 (132, 48) ../htwmusik-models/catalog2-gt-model/SD00200000608/010002.bin.png\r\n",
        "   TRU: u'siehe'\r\n",
        "   ALN: u'siehe'\r\n",
        "   OUT: u'siehe'\r\n"
       ]
      },
      {
       "output_type": "stream",
       "stream": "stdout",
       "text": [
        "100730 0.78 (470, 48) ../htwmusik-models/catalog2-gt-model/SD00600000323/010004.bin.png\r\n",
        "   TRU: u'Best.-Nr. Capella CTH 2061'\r\n",
        "   ALN: u'Best.-Nr. Capella CTH 2061'\r\n",
        "   OUT: u'Best.-Nr. Capella CTH 2061'\r\n"
       ]
      },
      {
       "output_type": "stream",
       "stream": "stdout",
       "text": [
        "100731 4.19 (1075, 48) ../htwmusik-models/catalog2-gt-model/SD00600000535/010006.bin.png\r\n",
        "   TRU: u'Ausw.]; Voert, Georg ter: [Polka in Swing]; Seiber, M\\xe1ty\\xe1s G.:'\r\n",
        "   ALN: u'Ausw.]; Voert, Georg ter: [Polka in Swiing]; Seiber, M~ty~s G.:'\r\n",
        "   OUT: u'Ausw.]; Voert, Georg ter: [Polka in Swiing]; Seiber, M~ty~s G.:'\r\n"
       ]
      },
      {
       "output_type": "stream",
       "stream": "stdout",
       "text": [
        "100732 3.33 (832, 48) ../htwmusik-models/catalog2-gt-model/SD00600000258/010001.bin.png\r\n",
        "   TRU: u'2 Gesellschaft der Musikfreunde <Wien> /'\r\n",
        "   ALN: u'2 Gesellschaft der Musikfreunde <Wien> /'\r\n",
        "   OUT: u'\\xe4 Gesellschaft der Musikfreunde <Wien> /'\r\n"
       ]
      },
      {
       "output_type": "stream",
       "stream": "stdout",
       "text": [
        "100733 1.38 (288, 48) ../htwmusik-models/catalog2-gt-model/SD00600000272/01000c.bin.png\r\n",
        "   TRU: u'Ne: Ser.; Interpr.'\r\n",
        "   ALN: u'Ne: Ser.; Interpr.'\r\n",
        "   OUT: u'Ne: Ser.; Interpr.'\r\n"
       ]
      },
      {
       "output_type": "stream",
       "stream": "stdout",
       "text": [
        "100734 0.21 (119, 48) ../htwmusik-models/catalog2-gt-model/SD00600000323/010001.bin.png\r\n",
        "   TRU: u'CD 38'\r\n",
        "   ALN: u'CD 38'\r\n",
        "   OUT: u'CD 38'\r\n"
       ]
      },
      {
       "output_type": "stream",
       "stream": "stdout",
       "text": [
        "100735 2.32 (1190, 48) ../htwmusik-models/catalog2-gt-model/SD00200000003/010008.bin.png\r\n",
        "   TRU: u'Wir gehn zu mir. Der Morgen auf dem Gipfel. Aus dem All. Am Fluss'\r\n",
        "   ALN: u'Wir gehn zu mir. Der Morgen auf dem Gipfel. Aus dem All. Am Fluss'\r\n",
        "   OUT: u'Wir gehn zu mir. Der Morgen auf dem Gipfel. Aus dem All. Am Fluss'\r\n"
       ]
      },
      {
       "output_type": "stream",
       "stream": "stdout",
       "text": [
        "100736 0.90 (704, 48) ../htwmusik-models/catalog2-gt-model/SD00200000003/010005.bin.png\r\n",
        "   TRU: u'Vol. 4. - [1996]. - 1 Compact Disc + Beih.'\r\n",
        "   ALN: u'Vol. 4. - [1996]. - 1 Compact Disc + Beih.'\r\n",
        "   OUT: u'Vol. 4. - [1996]. - 1 Compact Disc + Beih.'\r\n"
       ]
      },
      {
       "output_type": "stream",
       "stream": "stdout",
       "text": [
        "100737 3.51 (740, 48) ../htwmusik-models/catalog2-gt-model/SD00200000245/010002.bin.png\r\n",
        "   TRU: u'Reimann Aribert: Das Schloss [Forts.]'\r\n",
        "   ALN: u'Reimann Aribert: Das Schloss [Forts.]'\r\n",
        "   OUT: u'Reimann Aribert: Das  Schloss [Forts.]'\r\n"
       ]
      },
      {
       "output_type": "stream",
       "stream": "stdout",
       "text": [
        "100738 0.45 (173, 48) ../htwmusik-models/catalog2-gt-model/SD00600000323/010007.bin.png\r\n",
        "   TRU: u'Interpr.'\r\n",
        "   ALN: u'Interpr.'\r\n",
        "   OUT: u'Interpr.'\r\n"
       ]
      },
      {
       "output_type": "stream",
       "stream": "stdout",
       "text": [
        "100739 3.43 (1094, 48) ../htwmusik-models/catalog2-gt-model/SD00600000535/010009.bin.png\r\n",
        "   TRU: u'fugue and scherzo]; Bozza, Eug\\xe8ne: [Divertissement]; Jansen,'\r\n",
        "   ALN: u'fugue and scherzo]; Bozza, Eug\\xe8ne: [Divertissement]; Jansen,'\r\n",
        "   OUT: u'fugue and scherzo]; Bozza, Eug\\xe4ne: [Divertissement]; Jansen,'\r\n"
       ]
      },
      {
       "output_type": "stream",
       "stream": "stdout",
       "text": [
        "100740 0.78 (888, 48) ../htwmusik-models/catalog2-gt-model/SD01200000085/010003.bin.png\r\n",
        "   TRU: u'Walton William: Troilus and Cressida [Forts.]'\r\n",
        "   ALN: u'Walton William: Troilus and Cressida [Forts.]'\r\n",
        "   OUT: u'Walton William: Troilus and Cressida [Forts.]'\r\n"
       ]
      },
      {
       "output_type": "stream",
       "stream": "stdout",
       "text": [
        "100741 1.78 (1007, 48) ../htwmusik-models/catalog2-gt-model/SD00600000272/010009.bin.png\r\n",
        "   TRU: u'[Org]. Ramin, G\\xfcnther [Dir]. Thomanerchor <Leipzig>.'\r\n",
        "   ALN: u'[Org]. Ramin, G\\xfcnther [Dir]. Thomanerchor <Leipzig>.'\r\n",
        "   OUT: u'[Org]. Ramin, G\\xfcnther [Dir]. Thomanerchor <Leipzig>.'\r\n"
       ]
      },
      {
       "output_type": "stream",
       "stream": "stdout",
       "text": [
        "100742 5.84 (566, 48) ../htwmusik-models/catalog2-gt-model/SD00200000608/010001.bin.png\r\n",
        "   TRU: u'Bohuslav Martim\\u016f Piano Quartet'\r\n",
        "   ALN: u'Bohuslav Martim~ Piano Quartet'\r\n",
        "   OUT: u'Bohuslav Martin~ Piano Quartet'\r\n"
       ]
      },
      {
       "output_type": "stream",
       "stream": "stdout",
       "text": [
        "100743 10.22 (1122, 48) ../htwmusik-models/catalog2-gt-model/SD00600000272/010004.bin.png\r\n",
        "   TRU: u'6. - [1999]. - 1 Compact Disc + Beih. - (Bach - Made in Germany : Vol. 1, 6)'\r\n",
        "   ALN: u'6. - [1999]. - 1 Compact Disc + Beih. - (Bach - Made in Germany : Vol. 1, 6)'\r\n",
        "   OUT: u'6.- [1999].- 1 Compact Disc + Beih. - (Bach - Made in Germany ; Vol. 1, 6)'\r\n"
       ]
      },
      {
       "output_type": "stream",
       "stream": "stdout",
       "text": [
        "100744 17.24 (908, 48) ../htwmusik-models/catalog2-gt-model/SD00600000323/010003.bin.png\r\n",
        "   TRU: u'Auf.: Walldorf, 1989 u. New York City, 1981. - P 1989'\r\n",
        "   ALN: u'Auf.: Walldorf, 1989 u. New York City, 1981. - P 1989'\r\n",
        "   OUT: u'Aufn.: Walldorf, 1989 u. .ew York City, 1981. - P 1989.'\r\n"
       ]
      },
      {
       "output_type": "stream",
       "stream": "stdout",
       "text": [
        "100745 0.78 (141, 48) ../htwmusik-models/catalog2-gt-model/SD00600000535/010003.bin.png\r\n",
        "   TRU: u'CD 317'\r\n",
        "   ALN: u'CD 317'\r\n",
        "   OUT: u'CD 317'\r\n"
       ]
      },
      {
       "output_type": "stream",
       "stream": "stdout",
       "text": [
        "100746 0.72 (704, 48) ../htwmusik-models/catalog2-gt-model/SD00200000003/010005.bin.png\r\n",
        "   TRU: u'Vol. 4. - [1996]. - 1 Compact Disc + Beih.'\r\n",
        "   ALN: u'Vol. 4. - [1996]. - 1 Compact Disc + Beih.'\r\n",
        "   OUT: u'Vol. 4. - [1996]. - 1 Compact Disc + Beih.'\r\n"
       ]
      },
      {
       "output_type": "stream",
       "stream": "stdout",
       "text": [
        "100747 2.02 (1075, 48) ../htwmusik-models/catalog2-gt-model/SD00600000535/010006.bin.png\r\n",
        "   TRU: u'Ausw.]; Voert, Georg ter: [Polka in Swing]; Seiber, M\\xe1ty\\xe1s G.:'\r\n",
        "   ALN: u'Ausw.]; Voert, Georg ter: [Polka in Swing]; Seiber, M~ty~s G.:'\r\n",
        "   OUT: u'Ausw.]; Voert, Georg ter: [Polka in Swing]; Seiber, M~ty~s G.:'\r\n"
       ]
      },
      {
       "output_type": "stream",
       "stream": "stdout",
       "text": [
        "100748 1.66 (861, 48) ../htwmusik-models/catalog2-gt-model/SD00200000245/010001.bin.png\r\n",
        "   TRU: u'Bayerisches Staatsorchester <M\\xfcnchen>'\r\n",
        "   ALN: u'Bayerisches Staatsorchester <M\\xfcnchen>'\r\n",
        "   OUT: u'Bayerisches Staatsorchester <M\\xfcnchen>'\r\n"
       ]
      },
      {
       "output_type": "stream",
       "stream": "stdout",
       "text": [
        "100749 5.20 (1134, 48) ../htwmusik-models/catalog2-gt-model/SD00600000535/010008.bin.png\r\n",
        "   TRU: u'Monti, Vittorio: [Czardas / Arr.]; Jakob, Gordon P.: [Prelude,'\r\n",
        "   ALN: u'Monti, Vittorio: [Czardas / Arr.]; Jakob, Gordon P.: [Prelude,'\r\n",
        "   OUT: u'Monti, Vittorio: [Czardas / Arr.]; Jaobb, Gordon P.: [Prelude,'\r\n"
       ]
      },
      {
       "output_type": "stream",
       "stream": "stdout",
       "text": [
        "100750 0.99 (730, 48) ../htwmusik-models/catalog2-gt-model/SD00600000258/010004.bin.png\r\n",
        "   TRU: u'Best.-Nr. Deutsche Grammophon 453 701-2'\r\n",
        "   ALN: u'Best.-Nr. Deutsche Grammophon 453 701-2'\r\n",
        "   OUT: u'Best.-Nr. Deutsche Grammophon 453 701-2'\r\n"
       ]
      },
      {
       "output_type": "stream",
       "stream": "stdout",
       "text": [
        "100751 5.98 (1122, 48) ../htwmusik-models/catalog2-gt-model/SD00600000272/010004.bin.png\r\n",
        "   TRU: u'6. - [1999]. - 1 Compact Disc + Beih. - (Bach - Made in Germany : Vol. 1, 6)'\r\n",
        "   ALN: u'6. - [1999]. - 1 Compact Disc + Beih. - (Bach - Made in Germany : Vol. 1, 6)'\r\n",
        "   OUT: u'6. - [1999]. - 1 Compact Disc + Beih. - (Bach - Made in Germany ; Vol. 1, 6)'\r\n"
       ]
      },
      {
       "output_type": "stream",
       "stream": "stdout",
       "text": [
        "100752 0.63 (625, 48) ../htwmusik-models/catalog2-gt-model/SD00600000272/01000b.bin.png\r\n",
        "   TRU: u'Best.-Nr. Leipzig Classics 00 1806 2 BC'\r\n",
        "   ALN: u'Best.-Nr. Leipzig Classics 00 1806 2 BC'\r\n",
        "   OUT: u'Best.-Nr. Leipzig Classics 00 1806 2 BC'\r\n"
       ]
      },
      {
       "output_type": "stream",
       "stream": "stdout",
       "text": [
        "100753 3.59 (788, 48) ../htwmusik-models/catalog2-gt-model/SD00600000272/010006.bin.png\r\n",
        "   TRU: u'Jesu Christ BWV 177. Ein ungef\\xe4rbt Gem\\xfcte BWV 24.'\r\n",
        "   ALN: u'Jesu Christ BWV 177. Ein ungef\\xe4rbt Gem\\xfcte BWV 24.'\r\n",
        "   OUT: u'Jesu Christ BWV 177. Ein ungef\\xe4rbt Gem\\xfcte BWV 24.'\r\n"
       ]
      },
      {
       "output_type": "stream",
       "stream": "stdout",
       "text": [
        "100754 1.23 (864, 48) ../htwmusik-models/catalog2-gt-model/SD00600000272/010003.bin.png\r\n",
        "   TRU: u'[Kantaten / Ausw.] Cantatas / Bach. - Hamburg : Edel.'\r\n",
        "   ALN: u'[Kantaten / Ausw.] Cantatas / Bach. - Hamburg : Edel.'\r\n",
        "   OUT: u'[Kantaten / Ausw.] Cantatas / Bach. - Hamburg : Edel.'\r\n"
       ]
      },
      {
       "output_type": "stream",
       "stream": "stdout",
       "text": [
        "100755 10.13 (656, 48) ../htwmusik-models/catalog2-gt-model/SD00200000608/010003.bin.png\r\n",
        "   TRU: u'Klav\\u01d0rn\\u01d0 Kvarteto Bohuslava Martim\\u016f'\r\n",
        "   ALN: u'Klav~rn~ Kvarteto Bohuslava Martim~'\r\n",
        "   OUT: u'Klav~rn~ Kvarteto Bohuslava Martim~'\r\n"
       ]
      },
      {
       "output_type": "stream",
       "stream": "stdout",
       "text": [
        "100756 4.65 (1017, 48) ../htwmusik-models/catalog2-gt-model/SD00600000272/010001.bin.png\r\n",
        "   TRU: u'Gewandhausorchester <Leipzig> 55 CD 1779 - 1,6'\r\n",
        "   ALN: u'Gewandhausorchester <Leipzig> 55 CD 1779 - 1,6'\r\n",
        "   OUT: u'Gewandhausorchester <Leipzig> 55 CD 1779 - 1,6'\r\n"
       ]
      },
      {
       "output_type": "stream",
       "stream": "stdout",
       "text": [
        "100757 1.45 (288, 48) ../htwmusik-models/catalog2-gt-model/SD00600000272/01000c.bin.png\r\n",
        "   TRU: u'Ne: Ser.; Interpr.'\r\n",
        "   ALN: u'Ne: Ser.; Interpr.'\r\n",
        "   OUT: u'Ne: Ser.; Interpr.'\r\n"
       ]
      },
      {
       "output_type": "stream",
       "stream": "stdout",
       "text": [
        "100758 6.49 (1014, 48) ../htwmusik-models/catalog2-gt-model/SD00600000272/010005.bin.png\r\n",
        "   TRU: u'Enth.: Sei Lob und Ehr dem h\\xf6chsten Gut BWV 117. Ich ruf zu dir, Herr'\r\n",
        "   ALN: u'Enth.: Sei Lob und Ehr dem h\\xf6chsten Gut BWV 117. Ich ruf zu dir, Herr'\r\n",
        "   OUT: u'Enth.: Sei Lob und Ehr dem h\\xf6chsten Gut BWV 117. Ich rufzu dir, Herr'\r\n"
       ]
      },
      {
       "output_type": "stream",
       "stream": "stdout",
       "text": [
        "100759 1.77 (235, 48) ../htwmusik-models/catalog2-gt-model/SD00200000245/010005.bin.png\r\n",
        "   TRU: u'NE: Interpr.'\r\n",
        "   ALN: u'NE: Interpr.'\r\n",
        "   OUT: u'NE: Interpr.'\r\n"
       ]
      },
      {
       "output_type": "stream",
       "stream": "stdout",
       "text": [
        "100760 2.84 (661, 48) ../htwmusik-models/catalog2-gt-model/SD01200000085/010001.bin.png\r\n",
        "   TRU: u'Opera North <Leeds> / Chorus'\r\n",
        "   ALN: u'Opera North <Leeds> / Chorus'\r\n",
        "   OUT: u'Opera North <Leeds> / Chorus'\r\n"
       ]
      },
      {
       "output_type": "stream",
       "stream": "stdout",
       "text": [
        "100761 1.90 (1062, 48) ../htwmusik-models/catalog2-gt-model/SD00200000003/01000a.bin.png\r\n",
        "   TRU: u'Ein Augenblick der Z\\xe4rtlichkeit. Das Bild. Strassen, die dich'\r\n",
        "   ALN: u'Ein Augenblick der Z\\xe4rtlichkeit. Das Bild. Strassen, die dich'\r\n",
        "   OUT: u'Ein Augenblick der Z\\xe4rtlichkeit. Das Bild. Strassen, die dich'\r\n"
       ]
      },
      {
       "output_type": "stream",
       "stream": "stdout",
       "text": [
        "100762 1.61 (861, 48) ../htwmusik-models/catalog2-gt-model/SD00200000245/010001.bin.png\r\n",
        "   TRU: u'Bayerisches Staatsorchester <M\\xfcnchen>'\r\n",
        "   ALN: u'Bayerisches Staatsorchester <M\\xfcnchen>'\r\n",
        "   OUT: u'Bayerisches Staatsorchester <M\\xfcnchen>'\r\n"
       ]
      },
      {
       "output_type": "stream",
       "stream": "stdout",
       "text": [
        "100763 3.52 (1058, 48) ../htwmusik-models/catalog2-gt-model/SD00600000323/010005.bin.png\r\n",
        "   TRU: u'NE: Rheinberger, Gabriel J.: [Thema mit Ver\\xe4nderungen, V1 1 2'\r\n",
        "   ALN: u'NE: Rheinberger, Gabriel J.: [Thema mit Ver\\xe4nderungen, V1 1 2'\r\n",
        "   OUT: u'NE: Rheinberger, Gabriel J.: [Thema mit Ver\\xe4nderungen, V1 1 2'\r\n"
       ]
      },
      {
       "output_type": "stream",
       "stream": "stdout",
       "text": [
        "100764 8.89 (1185, 48) ../htwmusik-models/catalog2-gt-model/SD00200000003/010006.bin.png\r\n",
        "   TRU: u'Enth.: Jagd auf Liebe. Steigen Nebel. Zu Fuss. Tshgiten-Legende'\r\n",
        "   ALN: u'Enth.: Jagd auf Liebe. Steigen Nebel. Zu Fuss. Tshgiten-Legende'\r\n",
        "   OUT: u'Enth.: Jagd auf Liebe. Steigen Nebel. Zu Fuss. Tshigiten-Legende.'\r\n"
       ]
      },
      {
       "output_type": "stream",
       "stream": "stdout",
       "text": [
        "100765 1.71 (661, 48) ../htwmusik-models/catalog2-gt-model/SD01200000085/010001.bin.png\r\n",
        "   TRU: u'Opera North <Leeds> / Chorus'\r\n",
        "   ALN: u'Opera North <Leeds> / Chorus'\r\n",
        "   OUT: u'Opera North <Leeds> / Chorus'\r\n"
       ]
      },
      {
       "output_type": "stream",
       "stream": "stdout",
       "text": [
        "100766 3.05 (1017, 48) ../htwmusik-models/catalog2-gt-model/SD00600000272/010001.bin.png\r\n",
        "   TRU: u'Gewandhausorchester <Leipzig> 55 CD 1779 - 1,6'\r\n",
        "   ALN: u'Gewandhausorchester <Leipzig> 55 CD 1779 - 1,6'\r\n",
        "   OUT: u'Gewandhausorchester <Leipzig> 55 CD 1779 - 1,6'\r\n"
       ]
      },
      {
       "output_type": "stream",
       "stream": "stdout",
       "text": [
        "100767 0.15 (176, 48) ../htwmusik-models/catalog2-gt-model/SD00200000003/010001.bin.png\r\n",
        "   TRU: u'Babylon'\r\n",
        "   ALN: u'Babylon'\r\n",
        "   OUT: u'Babylon'\r\n"
       ]
      },
      {
       "output_type": "stream",
       "stream": "stdout",
       "text": [
        "100768 0.88 (730, 48) ../htwmusik-models/catalog2-gt-model/SD00600000258/010004.bin.png\r\n",
        "   TRU: u'Best.-Nr. Deutsche Grammophon 453 701-2'\r\n",
        "   ALN: u'Best.-Nr. Deutsche Grammophon 453 701-2'\r\n",
        "   OUT: u'Best.-Nr. Deutsche Grammophon 453 701-2'\r\n"
       ]
      },
      {
       "output_type": "stream",
       "stream": "stdout",
       "text": [
        "100769 4.42 (826, 48) ../htwmusik-models/catalog2-gt-model/SD00600000258/010003.bin.png\r\n",
        "   TRU: u'Beethoven Ludwig van: [Sinfonien] [Forts.]'\r\n",
        "   ALN: u'Beethoven Ludwi van: [Sinfonien] [Forts.]'\r\n",
        "   OUT: u'Beethoven Ludwi van: [Sinfonien] [Forts.]'\r\n"
       ]
      },
      {
       "output_type": "stream",
       "stream": "stdout",
       "text": [
        "100770 4.43 (826, 48) ../htwmusik-models/catalog2-gt-model/SD00600000258/010003.bin.png\r\n",
        "   TRU: u'Beethoven Ludwig van: [Sinfonien] [Forts.]'\r\n",
        "   ALN: u'Beethoven Ludwi van: [Sinfonien] [Forts.]'\r\n",
        "   OUT: u'Beethoven Ludwi van: [Sinfonien] [Forts.]'\r\n"
       ]
      },
      {
       "output_type": "stream",
       "stream": "stdout",
       "text": [
        "100771 0.45 (146, 48) ../htwmusik-models/catalog2-gt-model/SD01200000085/010004.bin.png\r\n",
        "   TRU: u'P 1995.'\r\n",
        "   ALN: u'P 1995.'\r\n",
        "   OUT: u'P 1995.'\r\n"
       ]
      },
      {
       "output_type": "stream",
       "stream": "stdout",
       "text": [
        "100772 0.45 (146, 48) ../htwmusik-models/catalog2-gt-model/SD01200000085/010004.bin.png\r\n",
        "   TRU: u'P 1995.'\r\n",
        "   ALN: u'P 1995.'\r\n",
        "   OUT: u'P 1995.'\r\n"
       ]
      },
      {
       "output_type": "stream",
       "stream": "stdout",
       "text": [
        "100773 3.55 (1072, 48) ../htwmusik-models/catalog2-gt-model/SD00600000535/010007.bin.png\r\n",
        "   TRU: u'[Foxtrott / Arr.]; Schickele, Peter: [Last Tango in Bayreuth];'\r\n",
        "   ALN: u'[Foxtrott / Arr.]; Schickele, Peter: [Last Tango in Bayreuth];'\r\n",
        "   OUT: u'[Foxtrott / Arr.]; Schickele, Peter: [Last Tango in Bayreuth];'\r\n"
       ]
      },
      {
       "output_type": "stream",
       "stream": "stdout",
       "text": [
        "100774 0.39 (146, 48) ../htwmusik-models/catalog2-gt-model/SD01200000085/010004.bin.png\r\n",
        "   TRU: u'P 1995.'\r\n",
        "   ALN: u'P 1995.'\r\n",
        "   OUT: u'P 1995.'\r\n"
       ]
      },
      {
       "output_type": "stream",
       "stream": "stdout",
       "text": [
        "100775 1.63 (1007, 48) ../htwmusik-models/catalog2-gt-model/SD00600000272/010009.bin.png\r\n",
        "   TRU: u'[Org]. Ramin, G\\xfcnther [Dir]. Thomanerchor <Leipzig>.'\r\n",
        "   ALN: u'[Org]. Ramin, G\\xfcnther [Dir]. Thomanerchor <Leipzig>.'\r\n",
        "   OUT: u'[Org]. Ramin, G\\xfcnther [Dir]. Thomanerchor <Leipzig>.'\r\n"
       ]
      },
      {
       "output_type": "stream",
       "stream": "stdout",
       "text": [
        "100776 0.98 (235, 48) ../htwmusik-models/catalog2-gt-model/SD00200000245/010005.bin.png\r\n",
        "   TRU: u'NE: Interpr.'\r\n",
        "   ALN: u'NE: Interpr.'\r\n",
        "   OUT: u'NE: Interpr.'\r\n"
       ]
      },
      {
       "output_type": "stream",
       "stream": "stdout",
       "text": [
        "100777 1.64 (861, 48) ../htwmusik-models/catalog2-gt-model/SD00200000245/010001.bin.png\r\n",
        "   TRU: u'Bayerisches Staatsorchester <M\\xfcnchen>'\r\n",
        "   ALN: u'Bayerisches Staatsorchester <M\\xfcnchen>'\r\n",
        "   OUT: u'Bayerisches Staatsorchester <M\\xfcnchen>'\r\n"
       ]
      },
      {
       "output_type": "stream",
       "stream": "stdout",
       "text": [
        "100778 11.92 (1023, 48) ../htwmusik-models/catalog2-gt-model/SD00600000323/010002.bin.png\r\n",
        "   TRU: u'Rheinberger Gabriel J.: [Trios, V1 Vc Kl op. 112] [Forts.]'\r\n",
        "   ALN: u'Rheinberger Gabriel J.: [Trios, V1 Vc Kl op. 112] [Forts.]'\r\n",
        "   OUT: u'Rheinber er Gabriel J.: [Trios, V1 Vc Kl op. 112] [Forts.]'\r\n"
       ]
      },
      {
       "output_type": "stream",
       "stream": "stdout",
       "text": [
        "100779 0.39 (277, 48) ../htwmusik-models/catalog2-gt-model/SD00200000003/01000b.bin.png\r\n",
        "   TRU: u'weiterf\\xfchren.'\r\n",
        "   ALN: u'weiterf\\xfchren.'\r\n",
        "   OUT: u'weiterf\\xfchren.'\r\n"
       ]
      },
      {
       "output_type": "stream",
       "stream": "stdout",
       "text": [
        "100780 0.06 (132, 48) ../htwmusik-models/catalog2-gt-model/SD00200000608/010002.bin.png\r\n",
        "   TRU: u'siehe'\r\n",
        "   ALN: u'siehe'\r\n",
        "   OUT: u'siehe'\r\n"
       ]
      },
      {
       "output_type": "stream",
       "stream": "stdout",
       "text": [
        "100781 17.62 (908, 48) ../htwmusik-models/catalog2-gt-model/SD00600000323/010003.bin.png\r\n",
        "   TRU: u'Auf.: Walldorf, 1989 u. New York City, 1981. - P 1989'\r\n",
        "   ALN: u'Auf.: Walldorf, 1989 u. New York City, 1981. - P 1989'\r\n",
        "   OUT: u'Aufn.: Walldorf, 1989 u. .ew York City, 1981. - P 1989.'\r\n"
       ]
      },
      {
       "output_type": "stream",
       "stream": "stdout",
       "text": [
        "100782 10.15 (656, 48) ../htwmusik-models/catalog2-gt-model/SD00200000608/010003.bin.png\r\n",
        "   TRU: u'Klav\\u01d0rn\\u01d0 Kvarteto Bohuslava Martim\\u016f'\r\n",
        "   ALN: u'Klav~rn~ Kvarteto Bohuslava Martim~'\r\n",
        "   OUT: u'Klavrn~ Kvarteto Bohuslava Marti~'\r\n"
       ]
      },
      {
       "output_type": "stream",
       "stream": "stdout",
       "text": [
        "100783 0.80 (280, 48) ../htwmusik-models/catalog2-gt-model/SD00200000245/010006.bin.png\r\n",
        "   TRU: u'55 CD 223 - 1.2'\r\n",
        "   ALN: u'55 CD 223 - 1.2'\r\n",
        "   OUT: u'55 CD 223 - 1.2'\r\n"
       ]
      },
      {
       "output_type": "stream",
       "stream": "stdout",
       "text": [
        "100784 0.04 (132, 48) ../htwmusik-models/catalog2-gt-model/SD00200000608/010002.bin.png\r\n",
        "   TRU: u'siehe'\r\n",
        "   ALN: u'siehe'\r\n",
        "   OUT: u'siehe'\r\n"
       ]
      },
      {
       "output_type": "stream",
       "stream": "stdout",
       "text": [
        "100785 4.95 (1014, 48) ../htwmusik-models/catalog2-gt-model/SD00600000272/010005.bin.png\r\n",
        "   TRU: u'Enth.: Sei Lob und Ehr dem h\\xf6chsten Gut BWV 117. Ich ruf zu dir, Herr'\r\n",
        "   ALN: u'Enth.: Sei Lob und Ehr dem h\\xf6chsten Gut BWV 117. Ich ruf zu dir, Herr'\r\n",
        "   OUT: u'Enth.: Sei Lob und Ehr dem h\\xf6chsten Gut BWV 117. Ich rufzu dir, Herr'\r\n"
       ]
      },
      {
       "output_type": "stream",
       "stream": "stdout",
       "text": [
        "100786 3.66 (288, 48) ../htwmusik-models/catalog2-gt-model/SD00600000272/01000c.bin.png\r\n",
        "   TRU: u'Ne: Ser.; Interpr.'\r\n",
        "   ALN: u'Ne: Ser.; Interpr.'\r\n",
        "   OUT: u'Ne: Ser.; Interpr.'\r\n"
       ]
      },
      {
       "output_type": "stream",
       "stream": "stdout",
       "text": [
        "100787 1.39 (1062, 48) ../htwmusik-models/catalog2-gt-model/SD00200000003/01000a.bin.png\r\n",
        "   TRU: u'Ein Augenblick der Z\\xe4rtlichkeit. Das Bild. Strassen, die dich'\r\n",
        "   ALN: u'Ein Augenblick der Z\\xe4rtlichkeit. Das Bild. Strassen, die dich'\r\n",
        "   OUT: u'Ein Augenblick der Z\\xe4rtlichkeit. Das Bild. Strassen, die dich'\r\n"
       ]
      },
      {
       "output_type": "stream",
       "stream": "stdout",
       "text": [
        "100788 1.86 (1075, 48) ../htwmusik-models/catalog2-gt-model/SD00600000535/010006.bin.png\r\n",
        "   TRU: u'Ausw.]; Voert, Georg ter: [Polka in Swing]; Seiber, M\\xe1ty\\xe1s G.:'\r\n",
        "   ALN: u'Ausw.]; Voert, Georg ter: [Polka in Swing]; Seiber, M~ty~s G.:'\r\n",
        "   OUT: u'Ausw.]; Voert, Georg ter: [Polka in Swing]; Seiber, M~ty~s G.:'\r\n"
       ]
      },
      {
       "output_type": "stream",
       "stream": "stdout",
       "text": [
        "100789 4.54 (1014, 48) ../htwmusik-models/catalog2-gt-model/SD00600000272/010005.bin.png\r\n",
        "   TRU: u'Enth.: Sei Lob und Ehr dem h\\xf6chsten Gut BWV 117. Ich ruf zu dir, Herr'\r\n",
        "   ALN: u'Enth.: Sei Lob und Ehr dem h\\xf6chsten Gut BWV 117. Ich ruf zu dir, Herr'\r\n",
        "   OUT: u'Enth.: Sei Lob und Ehr dem h\\xf6chsten Gut BWV 117. Ich rufzu dir, Herr'\r\n"
       ]
      },
      {
       "output_type": "stream",
       "stream": "stdout",
       "text": [
        "100790 0.04 (132, 48) ../htwmusik-models/catalog2-gt-model/SD00200000608/010002.bin.png\r\n",
        "   TRU: u'siehe'\r\n",
        "   ALN: u'siehe'\r\n",
        "   OUT: u'siehe'\r\n"
       ]
      },
      {
       "output_type": "stream",
       "stream": "stdout",
       "text": [
        "100791 0.72 (470, 48) ../htwmusik-models/catalog2-gt-model/SD00600000323/010004.bin.png\r\n",
        "   TRU: u'Best.-Nr. Capella CTH 2061'\r\n",
        "   ALN: u'Best.-Nr. Capella CTH 2061'\r\n",
        "   OUT: u'Best.-Nr. Capella CTH 2061'\r\n"
       ]
      },
      {
       "output_type": "stream",
       "stream": "stdout",
       "text": [
        "100792 11.24 (805, 48) ../htwmusik-models/catalog2-gt-model/SD01200000085/010006.bin.png\r\n",
        "   TRU: u'Ne : Hassall, Christopher [Textverf.]; Interpr.'\r\n",
        "   ALN: u'Ne : Hassall, Christopher [Textverf.]; Interpr.'\r\n",
        "   OUT: u'NE: Hassall, Christopher [Textverf.]; Interpr.'\r\n"
       ]
      },
      {
       "output_type": "stream",
       "stream": "stdout",
       "text": [
        "100793 2.58 (1014, 48) ../htwmusik-models/catalog2-gt-model/SD00600000272/010008.bin.png\r\n",
        "   TRU: u'[Alt]. Lutze, Gert [Ten]. Hauptmann, Hans [Bass]. K\\xe4stner, Hannes'\r\n",
        "   ALN: u'[Alt]. Lutze, Gert [Ten]. Hauptmann, Hans [Bass]. K\\xe4stner, Hannes'\r\n",
        "   OUT: u'[Alt]. Lutze, Gert [Ten]. Hauptmann, Hans [Bass]. K\\xe4stner, Hannes'\r\n"
       ]
      },
      {
       "output_type": "stream",
       "stream": "stdout",
       "text": [
        "100794 4.60 (740, 48) ../htwmusik-models/catalog2-gt-model/SD00200000245/010002.bin.png\r\n",
        "   TRU: u'Reimann Aribert: Das Schloss [Forts.]'\r\n",
        "   ALN: u'Reimann Aribert: Das Schloss [Forts.]'\r\n",
        "   OUT: u'Reimann Aribert: Das  Schloss [Forts.]'\r\n"
       ]
      },
      {
       "output_type": "stream",
       "stream": "stdout",
       "text": [
        "100795 2.18 (288, 48) ../htwmusik-models/catalog2-gt-model/SD00600000272/01000c.bin.png\r\n",
        "   TRU: u'Ne: Ser.; Interpr.'\r\n",
        "   ALN: u'Ne: Ser.; Interpr.'\r\n",
        "   OUT: u'Ne: Ser.; Interpr.'\r\n"
       ]
      },
      {
       "output_type": "stream",
       "stream": "stdout",
       "text": [
        "100796 0.47 (173, 48) ../htwmusik-models/catalog2-gt-model/SD00600000323/010007.bin.png\r\n",
        "   TRU: u'Interpr.'\r\n",
        "   ALN: u'Interpr.'\r\n",
        "   OUT: u'Interpr.'\r\n"
       ]
      },
      {
       "output_type": "stream",
       "stream": "stdout",
       "text": [
        "100797 1.97 (440, 48) ../htwmusik-models/catalog2-gt-model/SD00600000535/010002.bin.png\r\n",
        "   TRU: u'Best.-Nr. MD + G L 3379'\r\n",
        "   ALN: u'Best.-Nr. MD + G L 3379'\r\n",
        "   OUT: u'Best.-Nr. MD + G L 3379'\r\n"
       ]
      },
      {
       "output_type": "stream",
       "stream": "stdout",
       "text": [
        "100798 1.17 (235, 48) ../htwmusik-models/catalog2-gt-model/SD00200000245/010005.bin.png\r\n",
        "   TRU: u'NE: Interpr.'\r\n",
        "   ALN: u'NE: Interpr.'\r\n",
        "   OUT: u'NE: Interpr.'\r\n"
       ]
      },
      {
       "output_type": "stream",
       "stream": "stdout",
       "text": [
        "100799 2.73 (1114, 48) ../htwmusik-models/catalog2-gt-model/SD00600000272/01000a.bin.png\r\n",
        "   TRU: u'Gewandhausorchester <Leipzig>... - Auf.: 1949 - 1954. - P 1965 - 1966'\r\n",
        "   ALN: u'Gewandhausorchester <Leipzig>... - Auf.: 1949 - 1954. - P 1965 - 1966'\r\n",
        "   OUT: u'Gewandhausorchester <Leipzig>... - Auf.: 1949 - 1954. - P 1965 - 1966'\r\n"
       ]
      },
      {
       "output_type": "stream",
       "stream": "stdout",
       "text": [
        "100800 7.44 (805, 48) ../htwmusik-models/catalog2-gt-model/SD01200000085/010006.bin.png\r\n",
        "   TRU: u'Ne : Hassall, Christopher [Textverf.]; Interpr.'\r\n",
        "   ALN: u'Ne : Hassall, Christopher [Textverf.]; Interpr.'\r\n",
        "   OUT: u'NE: Hassall, Christopher [Textverf.]; Interpr.'\r\n"
       ]
      },
      {
       "output_type": "stream",
       "stream": "stdout",
       "text": [
        "100801 2.39 (1017, 48) ../htwmusik-models/catalog2-gt-model/SD00600000272/010001.bin.png\r\n",
        "   TRU: u'Gewandhausorchester <Leipzig> 55 CD 1779 - 1,6'\r\n",
        "   ALN: u'Gewandhausorchester <Leipzig> 55 CD 1779 - 1,6'\r\n",
        "   OUT: u'Gewandhausorchester <Leipzig> 55 CD 1779 - 1,6'\r\n"
       ]
      },
      {
       "output_type": "stream",
       "stream": "stdout",
       "text": [
        "100802 0.78 (281, 48) ../htwmusik-models/catalog2-gt-model/SD01200000085/010002.bin.png\r\n",
        "   TRU: u'55 CD 105 - 1.2'\r\n",
        "   ALN: u'55 CD 105 - 1.2'\r\n",
        "   OUT: u'55 CD 105 - 1.2'\r\n"
       ]
      },
      {
       "output_type": "stream",
       "stream": "stdout",
       "text": [
        "100803 2.19 (1114, 48) ../htwmusik-models/catalog2-gt-model/SD00600000272/01000a.bin.png\r\n",
        "   TRU: u'Gewandhausorchester <Leipzig>... - Auf.: 1949 - 1954. - P 1965 - 1966'\r\n",
        "   ALN: u'Gewandhausorchester <Leipzig>... - Auf.: 1949 - 1954. - P 1965 - 1966'\r\n",
        "   OUT: u'Gewandhausorchester <Leipzig>... - Auf.: 1949 - 1954. - P 1965 - 1966'\r\n"
       ]
      },
      {
       "output_type": "stream",
       "stream": "stdout",
       "text": [
        "100804 0.53 (275, 48) ../htwmusik-models/catalog2-gt-model/SD00200000003/010002.bin.png\r\n",
        "   TRU: u'55 CD 289 - 4'\r\n",
        "   ALN: u'55 CD 289 - 4'\r\n",
        "   OUT: u'55 CD 289 - 4'\r\n"
       ]
      },
      {
       "output_type": "stream",
       "stream": "stdout",
       "text": [
        "100805 0.58 (370, 48) ../htwmusik-models/catalog2-gt-model/SD00200000003/010004.bin.png\r\n",
        "   TRU: u'Edition Barbarossa.'\r\n",
        "   ALN: u'Edition Barbarossa.'\r\n",
        "   OUT: u'Edition Barbarossa.'\r\n"
       ]
      },
      {
       "output_type": "stream",
       "stream": "stdout",
       "text": [
        "100806 0.88 (888, 48) ../htwmusik-models/catalog2-gt-model/SD01200000085/010003.bin.png\r\n",
        "   TRU: u'Walton William: Troilus and Cressida [Forts.]'\r\n",
        "   ALN: u'Walton William: Troilus and Cressida [Forts.]'\r\n",
        "   OUT: u'Walton William: Troilus and Cressida [Forts.]'\r\n"
       ]
      },
      {
       "output_type": "stream",
       "stream": "stdout",
       "text": [
        "100807 3.81 (497, 48) ../htwmusik-models/catalog2-gt-model/SD00200000245/010004.bin.png\r\n",
        "   TRU: u'Best.-Nr. Wergo Wer 6614-2'\r\n",
        "   ALN: u'Best.-Nr. Wergo Wer 6614-2'\r\n",
        "   OUT: u'Best.-Nr. Wergo Wer 6614-2'\r\n"
       ]
      },
      {
       "output_type": "stream",
       "stream": "stdout",
       "text": [
        "100808 0.26 (146, 48) ../htwmusik-models/catalog2-gt-model/SD01200000085/010004.bin.png\r\n",
        "   TRU: u'P 1995.'\r\n",
        "   ALN: u'P 1995.'\r\n",
        "   OUT: u'P 1995.'\r\n"
       ]
      },
      {
       "output_type": "stream",
       "stream": "stdout",
       "text": [
        "100809 5.63 (1134, 48) ../htwmusik-models/catalog2-gt-model/SD00600000535/010008.bin.png\r\n",
        "   TRU: u'Monti, Vittorio: [Czardas / Arr.]; Jakob, Gordon P.: [Prelude,'\r\n",
        "   ALN: u'Monti, Vittorio: [Czardas / Arr.]; Jakob, Gordon P.: [Prelude,'\r\n",
        "   OUT: u'Monti, Vittorio: [Czardas / Arr.]; Jakob, Gordon P.: [Prelude,'\r\n"
       ]
      },
      {
       "output_type": "stream",
       "stream": "stdout",
       "text": [
        "100810 1.53 (1007, 48) ../htwmusik-models/catalog2-gt-model/SD00600000272/010009.bin.png\r\n",
        "   TRU: u'[Org]. Ramin, G\\xfcnther [Dir]. Thomanerchor <Leipzig>.'\r\n",
        "   ALN: u'[Org]. Ramin, G\\xfcnther [Dir]. Thomanerchor <Leipzig>.'\r\n",
        "   OUT: u'[Org]. Ramin, G\\xfcnther [Dir]. Thomanerchor <Leipzig>.'\r\n"
       ]
      },
      {
       "output_type": "stream",
       "stream": "stdout",
       "text": [
        "100811 1.60 (1114, 48) ../htwmusik-models/catalog2-gt-model/SD00200000003/010007.bin.png\r\n",
        "   TRU: u'Hoffnung. Fort f\\xfcr einen Abend. Welt im Sand. Weisst du noch.'\r\n",
        "   ALN: u'Hoffnung. Fort f\\xfcr einen Abend. Welt im Sand. Weisst du noch.'\r\n",
        "   OUT: u'Hoffnung. Fort f\\xfcr einen Abend. Welt im Sand. Weisst du noch.'\r\n"
       ]
      },
      {
       "output_type": "stream",
       "stream": "stdout",
       "text": [
        "100812 1.82 (861, 48) ../htwmusik-models/catalog2-gt-model/SD00200000245/010001.bin.png\r\n",
        "   TRU: u'Bayerisches Staatsorchester <M\\xfcnchen>'\r\n",
        "   ALN: u'Bayerisches Staatsorchester <M\\xfcnchen>'\r\n",
        "   OUT: u'Bayerisches Staatsorchester <M\\xfcnchen>'\r\n"
       ]
      },
      {
       "output_type": "stream",
       "stream": "stdout",
       "text": [
        "100813 0.45 (119, 48) ../htwmusik-models/catalog2-gt-model/SD00600000323/010001.bin.png\r\n",
        "   TRU: u'CD 38'\r\n",
        "   ALN: u'CD 38'\r\n",
        "   OUT: u'CD 38'\r\n"
       ]
      },
      {
       "output_type": "stream",
       "stream": "stdout",
       "text": [
        "100814 0.57 (370, 48) ../htwmusik-models/catalog2-gt-model/SD00200000003/010004.bin.png\r\n",
        "   TRU: u'Edition Barbarossa.'\r\n",
        "   ALN: u'Edition Barbarossa.'\r\n",
        "   OUT: u'Edition Barbarossa.'\r\n"
       ]
      },
      {
       "output_type": "stream",
       "stream": "stdout",
       "text": [
        "100815 4.55 (1058, 48) ../htwmusik-models/catalog2-gt-model/SD00600000323/010005.bin.png\r\n",
        "   TRU: u'NE: Rheinberger, Gabriel J.: [Thema mit Ver\\xe4nderungen, V1 1 2'\r\n",
        "   ALN: u'NE: Rheinberger, Gabriel J.: [Thema mit Ver\\xe4nderungen, V1 1 2'\r\n",
        "   OUT: u'NE : Rheinberger, Gabriel J.: [Thema mit Ver\\xe4nderungen, V1 1 2'\r\n"
       ]
      },
      {
       "output_type": "stream",
       "stream": "stdout",
       "text": [
        "100816 33.71 (405, 48) ../htwmusik-models/catalog2-gt-model/SD00600000272/010002.bin.png\r\n",
        "   TRU: u'Bach, Johann Sebastian:'\r\n",
        "   ALN: u'Bach Johann Sebastian:'\r\n",
        "   OUT: u'B ch J h nn ebastian:'\r\n"
       ]
      },
      {
       "output_type": "stream",
       "stream": "stdout",
       "text": [
        "100817 2.49 (497, 48) ../htwmusik-models/catalog2-gt-model/SD00200000245/010004.bin.png\r\n",
        "   TRU: u'Best.-Nr. Wergo Wer 6614-2'\r\n",
        "   ALN: u'Best.-Nr. Wergo Wer 6614-2'\r\n",
        "   OUT: u'Best.-Nr. Wergo Wer 6614-2'\r\n"
       ]
      },
      {
       "output_type": "stream",
       "stream": "stdout",
       "text": [
        "100818 0.89 (440, 48) ../htwmusik-models/catalog2-gt-model/SD00600000535/010002.bin.png\r\n",
        "   TRU: u'Best.-Nr. MD + G L 3379'\r\n",
        "   ALN: u'Best.-Nr. MD + G L 3379'\r\n",
        "   OUT: u'Best.-Nr. MD + G L 3379'\r\n"
       ]
      },
      {
       "output_type": "stream",
       "stream": "stdout",
       "text": [
        "100819 6.27 (1122, 48) ../htwmusik-models/catalog2-gt-model/SD00600000272/010004.bin.png\r\n",
        "   TRU: u'6. - [1999]. - 1 Compact Disc + Beih. - (Bach - Made in Germany : Vol. 1, 6)'\r\n",
        "   ALN: u'6. - [1999]. - 1 Compact Disc + Beih. - (Bach - Made in Germany : Vol. 1, 6)'\r\n",
        "   OUT: u'6. - [1999]. - 1 Compact Disc + Beih. - (Bach - Made in Germany ; Vol. 1, 6)'\r\n"
       ]
      },
      {
       "output_type": "stream",
       "stream": "stdout",
       "text": [
        "100820 5.78 (566, 48) ../htwmusik-models/catalog2-gt-model/SD00200000608/010001.bin.png\r\n",
        "   TRU: u'Bohuslav Martim\\u016f Piano Quartet'\r\n",
        "   ALN: u'Bohuslav Martim~ Piano Quartet'\r\n",
        "   OUT: u'Bohuslav Marti~ Pano Quartet'\r\n"
       ]
      },
      {
       "output_type": "stream",
       "stream": "stdout",
       "text": [
        "100821 0.96 (704, 48) ../htwmusik-models/catalog2-gt-model/SD00200000003/010005.bin.png\r\n",
        "   TRU: u'Vol. 4. - [1996]. - 1 Compact Disc + Beih.'\r\n",
        "   ALN: u'Vol. 4. - [1996]. - 1 Compact Disc + Beih.'\r\n",
        "   OUT: u'Vol. 4. - [1996]. - 1 Compact Disc + Beih.'\r\n"
       ]
      },
      {
       "output_type": "stream",
       "stream": "stdout",
       "text": [
        "100822 0.87 (730, 48) ../htwmusik-models/catalog2-gt-model/SD00600000258/010004.bin.png\r\n",
        "   TRU: u'Best.-Nr. Deutsche Grammophon 453 701-2'\r\n",
        "   ALN: u'Best.-Nr. Deutsche Grammophon 453 701-2'\r\n",
        "   OUT: u'Best.-Nr. Deutsche Grammophon 453 701-2'\r\n"
       ]
      },
      {
       "output_type": "stream",
       "stream": "stdout",
       "text": [
        "100823 1.15 (288, 48) ../htwmusik-models/catalog2-gt-model/SD00600000272/01000c.bin.png\r\n",
        "   TRU: u'Ne: Ser.; Interpr.'\r\n",
        "   ALN: u'Ne: Ser.; Interpr.'\r\n",
        "   OUT: u'Ne: Ser.; Interpr.'\r\n"
       ]
      },
      {
       "output_type": "stream",
       "stream": "stdout",
       "text": [
        "100824 31.24 (930, 48) ../htwmusik-models/catalog2-gt-model/SD00600000535/01000a.bin.png\r\n",
        "   TRU: u\"Peter: [Scherzo, Nocturno und Burlesca]; Prokof'ev, Sergej S.:\"\r\n",
        "   ALN: u\"Peter: [Scherzo, Nocturno uud BBulesca]; Prokof'ev, Sergej S.:\"\r\n",
        "   OUT: u\"Peter: [Scherzo, Nocturno  lea]; Prokof'ev, Serge~ S.:\"\r\n"
       ]
      },
      {
       "output_type": "stream",
       "stream": "stdout",
       "text": [
        "100825 11.30 (400, 48) ../htwmusik-models/catalog2-gt-model/SD00600000535/010001.bin.png\r\n",
        "   TRU: u'Fagottissimo [Forts.]'\r\n",
        "   ALN: u'Fagottissimo [Forts.]'\r\n",
        "   OUT: u'Fa ottissimo [Forts.]'\r\n"
       ]
      },
      {
       "output_type": "stream",
       "stream": "stdout",
       "text": [
        "100826 1.34 (864, 48) ../htwmusik-models/catalog2-gt-model/SD00600000272/010003.bin.png\r\n",
        "   TRU: u'[Kantaten / Ausw.] Cantatas / Bach. - Hamburg : Edel.'\r\n",
        "   ALN: u'[Kantaten / Ausw.] Cantatas / Bach. - Hamburg : Edel.'\r\n",
        "   OUT: u'[Kantaten / Ausw.] Cantatas / Bach. - Hamburg : Edel.'\r\n"
       ]
      },
      {
       "output_type": "stream",
       "stream": "stdout",
       "text": [
        "100827 8.60 (656, 48) ../htwmusik-models/catalog2-gt-model/SD00200000608/010003.bin.png\r\n",
        "   TRU: u'Klav\\u01d0rn\\u01d0 Kvarteto Bohuslava Martim\\u016f'\r\n",
        "   ALN: u'Klav~rn~ Kvarteto Bohuslava Martim~'\r\n",
        "   OUT: u'Klav~rn~ Kvarteto Bohuslava Martim~'\r\n"
       ]
      },
      {
       "output_type": "stream",
       "stream": "stdout",
       "text": [
        "100828 4.14 (1014, 48) ../htwmusik-models/catalog2-gt-model/SD00600000272/010005.bin.png\r\n",
        "   TRU: u'Enth.: Sei Lob und Ehr dem h\\xf6chsten Gut BWV 117. Ich ruf zu dir, Herr'\r\n",
        "   ALN: u'Enth.: Sei Lob und Ehr dem h\\xf6chsten Gut BWV 117. Ich ruf zu dir, Herr'\r\n",
        "   OUT: u'Enth.: Sei Lob und Ehr dem h\\xf6chsten Gut BWV 117. Ich rufzu dir, Herr'\r\n"
       ]
      },
      {
       "output_type": "stream",
       "stream": "stdout",
       "text": [
        "100829 28.64 (930, 48) ../htwmusik-models/catalog2-gt-model/SD00600000535/01000a.bin.png\r\n",
        "   TRU: u\"Peter: [Scherzo, Nocturno und Burlesca]; Prokof'ev, Sergej S.:\"\r\n",
        "   ALN: u\"Peter: [Scherzo, Nocturno uud BBulesca]; Prokof'ev, Sergej S.:\"\r\n",
        "   OUT: u\"Peter: [Scherzo, Nocturno  lea]; Prokof'ev, Serge~ S.:\"\r\n"
       ]
      },
      {
       "output_type": "stream",
       "stream": "stdout",
       "text": [
        "100830 4.72 (826, 48) ../htwmusik-models/catalog2-gt-model/SD00600000258/010003.bin.png\r\n",
        "   TRU: u'Beethoven Ludwig van: [Sinfonien] [Forts.]'\r\n",
        "   ALN: u'Beethoven Ludwi van: [Sinfonien] [Forts.]'\r\n",
        "   OUT: u'Beethoven Ludwi van: [Sinfonien] [Forts.]'\r\n"
       ]
      },
      {
       "output_type": "stream",
       "stream": "stdout",
       "text": [
        "100831 1.87 (1014, 48) ../htwmusik-models/catalog2-gt-model/SD00600000272/010008.bin.png\r\n",
        "   TRU: u'[Alt]. Lutze, Gert [Ten]. Hauptmann, Hans [Bass]. K\\xe4stner, Hannes'\r\n",
        "   ALN: u'[Alt]. Lutze, Gert [Ten]. Hauptmann, Hans [Bass]. K\\xe4stner, Hannes'\r\n",
        "   OUT: u'[Alt]. Lutze, Gert [Ten]. Hauptmann, Hans [Bass]. K\\xe4stner, Hannes'\r\n"
       ]
      },
      {
       "output_type": "stream",
       "stream": "stdout",
       "text": [
        "100832 8.11 (656, 48) ../htwmusik-models/catalog2-gt-model/SD00200000608/010003.bin.png\r\n",
        "   TRU: u'Klav\\u01d0rn\\u01d0 Kvarteto Bohuslava Martim\\u016f'\r\n",
        "   ALN: u'Klav~rn~ Kvarteto Bohuslava Martim~'\r\n",
        "   OUT: u'Klav~rn~ Kvarteto Bohuslava Martim~'\r\n"
       ]
      },
      {
       "output_type": "stream",
       "stream": "stdout",
       "text": [
        "100833 0.98 (888, 48) ../htwmusik-models/catalog2-gt-model/SD01200000085/010003.bin.png\r\n",
        "   TRU: u'Walton William: Troilus and Cressida [Forts.]'\r\n",
        "   ALN: u'Walton William: Troilus and Cressida [Forts.]'\r\n",
        "   OUT: u'Walton William: Troilus and Cressida [Forts.]'\r\n"
       ]
      },
      {
       "output_type": "stream",
       "stream": "stdout",
       "text": [
        "100834 0.32 (119, 48) ../htwmusik-models/catalog2-gt-model/SD00600000323/010001.bin.png\r\n",
        "   TRU: u'CD 38'\r\n",
        "   ALN: u'CD 38'\r\n",
        "   OUT: u'CD 38'\r\n"
       ]
      },
      {
       "output_type": "stream",
       "stream": "stdout",
       "text": [
        "100835 1.72 (1014, 48) ../htwmusik-models/catalog2-gt-model/SD00600000272/010008.bin.png\r\n",
        "   TRU: u'[Alt]. Lutze, Gert [Ten]. Hauptmann, Hans [Bass]. K\\xe4stner, Hannes'\r\n",
        "   ALN: u'[Alt]. Lutze, Gert [Ten]. Hauptmann, Hans [Bass]. K\\xe4stner, Hannes'\r\n",
        "   OUT: u'[Alt]. Lutze, Gert [Ten]. Hauptmann, Hans [Bass]. K\\xe4stner, Hannes'\r\n"
       ]
      },
      {
       "output_type": "stream",
       "stream": "stdout",
       "text": [
        "100836 0.47 (141, 48) ../htwmusik-models/catalog2-gt-model/SD00600000535/010003.bin.png\r\n",
        "   TRU: u'CD 317'\r\n",
        "   ALN: u'CD 317'\r\n",
        "   OUT: u'CD 317'\r\n"
       ]
      },
      {
       "output_type": "stream",
       "stream": "stdout",
       "text": [
        "100837 0.94 (704, 48) ../htwmusik-models/catalog2-gt-model/SD00200000003/010005.bin.png\r\n",
        "   TRU: u'Vol. 4. - [1996]. - 1 Compact Disc + Beih.'\r\n",
        "   ALN: u'Vol. 4. - [1996]. - 1 Compact Disc + Beih.'\r\n",
        "   OUT: u'Vol. 4. - [1996]. - 1 Compact Disc + Beih.'\r\n"
       ]
      },
      {
       "output_type": "stream",
       "stream": "stdout",
       "text": [
        "100838 2.00 (497, 48) ../htwmusik-models/catalog2-gt-model/SD00200000245/010004.bin.png\r\n",
        "   TRU: u'Best.-Nr. Wergo Wer 6614-2'\r\n",
        "   ALN: u'Best.-Nr. Wergo Wer 6614-2'\r\n",
        "   OUT: u'Best.-Nr. Wergo Wer 6614-2'\r\n"
       ]
      },
      {
       "output_type": "stream",
       "stream": "stdout",
       "text": [
        "100839 1.54 (956, 48) ../htwmusik-models/catalog2-gt-model/SD00600000323/010006.bin.png\r\n",
        "   TRU: u'Va Vc op. 93]; Rheinberger, Gabriel J.: [Nonette op. 139];'\r\n",
        "   ALN: u'Va Vc op. 93]; Rheinberger, Gabriel J.: [Nonette op. 139];'\r\n",
        "   OUT: u'Va Vc op. 93]; Rheinberger, Gabriel J.: [Nonette op. 139];'\r\n"
       ]
      },
      {
       "output_type": "stream",
       "stream": "stdout",
       "text": [
        "100840 1.54 (1062, 48) ../htwmusik-models/catalog2-gt-model/SD00200000003/01000a.bin.png\r\n",
        "   TRU: u'Ein Augenblick der Z\\xe4rtlichkeit. Das Bild. Strassen, die dich'\r\n",
        "   ALN: u'Ein Augenblick der Z\\xe4rtlichkeit. Das Bild. Strassen, die dich'\r\n",
        "   OUT: u'Ein Augenblick der Z\\xe4rtlichkeit. Das Bild. Strassen, die dich'\r\n"
       ]
      },
      {
       "output_type": "stream",
       "stream": "stdout",
       "text": [
        "100841 4.49 (1134, 48) ../htwmusik-models/catalog2-gt-model/SD00600000535/010008.bin.png\r\n",
        "   TRU: u'Monti, Vittorio: [Czardas / Arr.]; Jakob, Gordon P.: [Prelude,'\r\n",
        "   ALN: u'Monti, Vittorio: [Czardas / Arr.]; Jakob, Gordon P.: [Prelude,'\r\n",
        "   OUT: u'Monti, Vittorio: [Czardas / Arr.]; Jakob, Gordon P.: [Prelude,'\r\n"
       ]
      },
      {
       "output_type": "stream",
       "stream": "stdout",
       "text": [
        "100842 3.02 (566, 48) ../htwmusik-models/catalog2-gt-model/SD01200000085/010005.bin.png\r\n",
        "   TRU: u'Best. -Nr. Chandos CHAN 9370/71'\r\n",
        "   ALN: u'Best. -Nr. Chandos CHAN 9370/71'\r\n",
        "   OUT: u'Best.-Nr. Chandos CHAN 9370/71'\r\n"
       ]
      },
      {
       "output_type": "stream",
       "stream": "stdout",
       "text": [
        "100843 4.14 (235, 48) ../htwmusik-models/catalog2-gt-model/SD00200000245/010005.bin.png\r\n",
        "   TRU: u'NE: Interpr.'\r\n",
        "   ALN: u'NE: Interpr.'\r\n",
        "   OUT: u'Ne: Interpr.'\r\n"
       ]
      },
      {
       "output_type": "stream",
       "stream": "stdout",
       "text": [
        "100844 0.78 (280, 48) ../htwmusik-models/catalog2-gt-model/SD00200000245/010006.bin.png\r\n",
        "   TRU: u'55 CD 223 - 1.2'\r\n",
        "   ALN: u'55 CD 223 - 1.2'\r\n",
        "   OUT: u'55 CD 223 - 1.2'\r\n"
       ]
      },
      {
       "output_type": "stream",
       "stream": "stdout",
       "text": [
        "100845 3.62 (235, 48) ../htwmusik-models/catalog2-gt-model/SD00200000245/010005.bin.png\r\n",
        "   TRU: u'NE: Interpr.'\r\n",
        "   ALN: u'NE: Interpr.'\r\n",
        "   OUT: u'NE: Interpr.'\r\n"
       ]
      },
      {
       "output_type": "stream",
       "stream": "stdout",
       "text": [
        "100846 0.91 (625, 48) ../htwmusik-models/catalog2-gt-model/SD00600000272/01000b.bin.png\r\n",
        "   TRU: u'Best.-Nr. Leipzig Classics 00 1806 2 BC'\r\n",
        "   ALN: u'Best.-Nr. Leipzig Classics 00 1806 2 BC'\r\n",
        "   OUT: u'Best.-Nr. Leipzig Classics 00 1806 2 BC'\r\n"
       ]
      },
      {
       "output_type": "stream",
       "stream": "stdout",
       "text": [
        "100847 1.74 (1072, 48) ../htwmusik-models/catalog2-gt-model/SD00600000535/010007.bin.png\r\n",
        "   TRU: u'[Foxtrott / Arr.]; Schickele, Peter: [Last Tango in Bayreuth];'\r\n",
        "   ALN: u'[Foxtrott / Arr.]; Schickele, Peter: [Last Tango in Bayreuth];'\r\n",
        "   OUT: u'[Foxtrott / Arr.]; Schickele, Peter: [Last Tango in Bayreuth];'\r\n"
       ]
      },
      {
       "output_type": "stream",
       "stream": "stdout",
       "text": [
        "100848 7.37 (656, 48) ../htwmusik-models/catalog2-gt-model/SD00200000608/010003.bin.png\r\n",
        "   TRU: u'Klav\\u01d0rn\\u01d0 Kvarteto Bohuslava Martim\\u016f'\r\n",
        "   ALN: u'Klav~rn~ Kvarteto Bohuslava Martim~'\r\n",
        "   OUT: u'Klav~rn~ Kvarteto Bohuslava Martim~'\r\n"
       ]
      },
      {
       "output_type": "stream",
       "stream": "stdout",
       "text": [
        "100849 5.66 (140, 48) ../htwmusik-models/catalog2-gt-model/SD00200000245/010003.bin.png\r\n",
        "   TRU: u'P 1997'\r\n",
        "   ALN: u'P 1997'\r\n",
        "   OUT: u'P 1997.'\r\n"
       ]
      },
      {
       "output_type": "stream",
       "stream": "stdout",
       "text": [
        "100850 7.19 (1024, 48) ../htwmusik-models/catalog2-gt-model/SD00600000535/010004.bin.png\r\n",
        "   TRU: u'NE: Fu\\u010dik, Julius: [Vstup gladi\\xe1tor\\u016f / Arr.]; Ridout, Alan:'\r\n",
        "   ALN: u'NE: Fu~ik, Julius: [Vstup gladi~tor~ / Arr.]; Ridout, Alan:'\r\n",
        "   OUT: u'NE: Fu~ik, Julius: [Vstup gladi~tor~ / Arr.]; Ridout, Alan:'\r\n"
       ]
      },
      {
       "output_type": "stream",
       "stream": "stdout",
       "text": [
        "100851 1.37 (956, 48) ../htwmusik-models/catalog2-gt-model/SD00600000323/010006.bin.png\r\n",
        "   TRU: u'Va Vc op. 93]; Rheinberger, Gabriel J.: [Nonette op. 139];'\r\n",
        "   ALN: u'Va Vc op. 93]; Rheinberger, Gabriel J.: [Nonette op. 139];'\r\n",
        "   OUT: u'Va Vc op. 93]; Rheinberger, Gabriel J.: [Nonette op. 139];'\r\n"
       ]
      },
      {
       "output_type": "stream",
       "stream": "stdout",
       "text": [
        "100852 1.78 (1042, 48) ../htwmusik-models/catalog2-gt-model/SD00600000535/010005.bin.png\r\n",
        "   TRU: u'[Pigs]; Weissenborn, Christian J.: [Stucke, Fg 1 2 3 op. 4 /'\r\n",
        "   ALN: u'[Pigs]; Weissenborn, Christian J.: [Stucke, Fg 1 2 3 op. 4 /'\r\n",
        "   OUT: u'[Pigs]; Weissenborn, Christian J.: [Stucke, Fg 1 2 3 op. 4 /'\r\n"
       ]
      },
      {
       "output_type": "stream",
       "stream": "stdout",
       "text": [
        "100853 0.59 (280, 48) ../htwmusik-models/catalog2-gt-model/SD00200000245/010006.bin.png\r\n",
        "   TRU: u'55 CD 223 - 1.2'\r\n",
        "   ALN: u'55 CD 223 - 1.2'\r\n",
        "   OUT: u'55 CD 223 - 1.2'\r\n"
       ]
      },
      {
       "output_type": "stream",
       "stream": "stdout",
       "text": [
        "100854 0.67 (625, 48) ../htwmusik-models/catalog2-gt-model/SD00600000272/01000b.bin.png\r\n",
        "   TRU: u'Best.-Nr. Leipzig Classics 00 1806 2 BC'\r\n",
        "   ALN: u'Best.-Nr. Leipzig Classics 00 1806 2 BC'\r\n",
        "   OUT: u'Best.-Nr. Leipzig Classics 00 1806 2 BC'\r\n"
       ]
      },
      {
       "output_type": "stream",
       "stream": "stdout",
       "text": [
        "100855 2.59 (1114, 48) ../htwmusik-models/catalog2-gt-model/SD00600000272/01000a.bin.png\r\n",
        "   TRU: u'Gewandhausorchester <Leipzig>... - Auf.: 1949 - 1954. - P 1965 - 1966'\r\n",
        "   ALN: u'Gewandhausorchester <Leipzig>... - Auf.: 1949 - 1954. - P 1965 - 1966'\r\n",
        "   OUT: u'Gewandhausorchester <Leipzig>... -Auf.: 1949 - 1954. - P 1965 - 1966'\r\n"
       ]
      },
      {
       "output_type": "stream",
       "stream": "stdout",
       "text": [
        "100856 0.43 (370, 48) ../htwmusik-models/catalog2-gt-model/SD00200000003/010004.bin.png\r\n",
        "   TRU: u'Edition Barbarossa.'\r\n",
        "   ALN: u'Edition Barbarossa.'\r\n",
        "   OUT: u'Edition Barbarossa.'\r\n"
       ]
      },
      {
       "output_type": "stream",
       "stream": "stdout",
       "text": [
        "100857 16.45 (908, 48) ../htwmusik-models/catalog2-gt-model/SD00600000323/010003.bin.png\r\n",
        "   TRU: u'Auf.: Walldorf, 1989 u. New York City, 1981. - P 1989'\r\n",
        "   ALN: u'Auf.: Walldorf, 1989 u. New York City, 1981. - P 1989'\r\n",
        "   OUT: u'Aufn.: Walldorf, 1989 u. .ew York City, 1981. - P 1989.'\r\n"
       ]
      },
      {
       "output_type": "stream",
       "stream": "stdout",
       "text": [
        "100858 3.53 (566, 48) ../htwmusik-models/catalog2-gt-model/SD00200000608/010001.bin.png\r\n",
        "   TRU: u'Bohuslav Martim\\u016f Piano Quartet'\r\n",
        "   ALN: u'Bohuslav Martim~ Piano Quartet'\r\n",
        "   OUT: u'Bohuslav Martim~ Piano Quartet'\r\n"
       ]
      },
      {
       "output_type": "stream",
       "stream": "stdout",
       "text": [
        "100859 0.31 (258, 48) ../htwmusik-models/catalog2-gt-model/SD00600000258/010006.bin.png\r\n",
        "   TRU: u'55 CD 77 - 1'\r\n",
        "   ALN: u'55 CD 77 - 1'\r\n",
        "   OUT: u'55 CD 77 - 1'\r\n"
       ]
      },
      {
       "output_type": "stream",
       "stream": "stdout",
       "text": [
        "100860 4.65 (656, 48) ../htwmusik-models/catalog2-gt-model/SD00200000608/010003.bin.png\r\n",
        "   TRU: u'Klav\\u01d0rn\\u01d0 Kvarteto Bohuslava Martim\\u016f'\r\n",
        "   ALN: u'Klav~rn~ Kvarteto Bohuslava Martim~'\r\n",
        "   OUT: u'Klav~rn~ Kvarteto Bohuslava Martim~'\r\n"
       ]
      },
      {
       "output_type": "stream",
       "stream": "stdout",
       "text": [
        "100861 0.99 (1017, 48) ../htwmusik-models/catalog2-gt-model/SD00600000272/010007.bin.png\r\n",
        "   TRU: u'Interpr.: Taube, Ulrike [Sopr]. Schriever, Gerda [Alt]. Fleischer, Eva'\r\n",
        "   ALN: u'Interpr.: Taube, Ulrike [Sopr]. Schriever, Gerda [Alt]. Fleischer, Eva'\r\n",
        "   OUT: u'Interpr.: Taube, Ulrike [Sopr]. Schriever, Gerda [Alt]. Fleischer, Eva'\r\n"
       ]
      },
      {
       "output_type": "stream",
       "stream": "stdout",
       "text": [
        "100862 18.83 (1004, 48) ../htwmusik-models/catalog2-gt-model/SD00200000003/01000c.bin.png\r\n",
        "   TRU: u'Interbr.: Rosalili. Lift. Babylon. Keks. Puhdys. Karat'\r\n",
        "   ALN: u'Interbr.: Rosalili. Lift. Babyon. Keks. Puhdys. Karat'\r\n",
        "   OUT: u'Interbr.: Rosalili. Lift. Ba bon. Keks. Puhdys. Karat.'\r\n"
       ]
      },
      {
       "output_type": "stream",
       "stream": "stdout",
       "text": [
        "100863 0.99 (661, 48) ../htwmusik-models/catalog2-gt-model/SD01200000085/010001.bin.png\r\n",
        "   TRU: u'Opera North <Leeds> / Chorus'\r\n",
        "   ALN: u'Opera North <Leeds> / Chorus'\r\n",
        "   OUT: u'Opera North <Leeds> / Chorus'\r\n"
       ]
      },
      {
       "output_type": "stream",
       "stream": "stdout",
       "text": [
        "100864 1.91 (288, 48) ../htwmusik-models/catalog2-gt-model/SD00600000272/01000c.bin.png\r\n",
        "   TRU: u'Ne: Ser.; Interpr.'\r\n",
        "   ALN: u'Ne: Ser.; Interpr.'\r\n",
        "   OUT: u'Ne: Ser.; Interpr.'\r\n"
       ]
      },
      {
       "output_type": "stream",
       "stream": "stdout",
       "text": [
        "100865 2.10 (1007, 48) ../htwmusik-models/catalog2-gt-model/SD00600000272/010009.bin.png\r\n",
        "   TRU: u'[Org]. Ramin, G\\xfcnther [Dir]. Thomanerchor <Leipzig>.'\r\n",
        "   ALN: u'[Org]. Ramin, G\\xfcnther [Dir]. Thomanerchor <Leipzig>.'\r\n",
        "   OUT: u'[Org]. Ramin, G\\xfcnther [Dir]. Thomanerchor <Leipzig>.'\r\n"
       ]
      },
      {
       "output_type": "stream",
       "stream": "stdout",
       "text": [
        "100866 0.21 (146, 48) ../htwmusik-models/catalog2-gt-model/SD01200000085/010004.bin.png\r\n",
        "   TRU: u'P 1995.'\r\n",
        "   ALN: u'P 1995.'\r\n",
        "   OUT: u'P 1995.'\r\n"
       ]
      },
      {
       "output_type": "stream",
       "stream": "stdout",
       "text": [
        "100867 0.97 (661, 48) ../htwmusik-models/catalog2-gt-model/SD01200000085/010001.bin.png\r\n",
        "   TRU: u'Opera North <Leeds> / Chorus'\r\n",
        "   ALN: u'Opera North <Leeds> / Chorus'\r\n",
        "   OUT: u'Opera North <Leeds> / Chorus'\r\n"
       ]
      },
      {
       "output_type": "stream",
       "stream": "stdout",
       "text": [
        "100868 1.37 (1062, 48) ../htwmusik-models/catalog2-gt-model/SD00200000003/01000a.bin.png\r\n",
        "   TRU: u'Ein Augenblick der Z\\xe4rtlichkeit. Das Bild. Strassen, die dich'\r\n",
        "   ALN: u'Ein Augenblick der Z\\xe4rtlichkeit. Das Bild. Strassen, die dich'\r\n",
        "   OUT: u'Ein Augenblick der Z\\xe4rtlichkeit. Das Bild. Strassen, die dich'\r\n"
       ]
      },
      {
       "output_type": "stream",
       "stream": "stdout",
       "text": [
        "100869 11.28 (400, 48) ../htwmusik-models/catalog2-gt-model/SD00600000535/010001.bin.png\r\n",
        "   TRU: u'Fagottissimo [Forts.]'\r\n",
        "   ALN: u'Fagottissimo [Forts.]'\r\n",
        "   OUT: u'Fa ottissimo [Forts.]'\r\n"
       ]
      },
      {
       "output_type": "stream",
       "stream": "stdout",
       "text": [
        "100870 6.12 (1122, 48) ../htwmusik-models/catalog2-gt-model/SD00600000272/010004.bin.png\r\n",
        "   TRU: u'6. - [1999]. - 1 Compact Disc + Beih. - (Bach - Made in Germany : Vol. 1, 6)'\r\n",
        "   ALN: u'6. - [1999]. - 1 Compact Disc + Beih. - (Bach - Made in Germany : Vol. 1, 6)'\r\n",
        "   OUT: u'6. - [1999]. - 1 Compact Disc + Beih. - (Bach - Made in Germany ; Vol. 1, 6)'\r\n"
       ]
      },
      {
       "output_type": "stream",
       "stream": "stdout",
       "text": [
        "100871 0.73 (275, 48) ../htwmusik-models/catalog2-gt-model/SD00200000003/010002.bin.png\r\n",
        "   TRU: u'55 CD 289 - 4'\r\n",
        "   ALN: u'55 CD 289 - 4'\r\n",
        "   OUT: u'55 CD 289 - 4'\r\n"
       ]
      },
      {
       "output_type": "stream",
       "stream": "stdout",
       "text": [
        "100872 1.22 (704, 48) ../htwmusik-models/catalog2-gt-model/SD00200000003/010005.bin.png\r\n",
        "   TRU: u'Vol. 4. - [1996]. - 1 Compact Disc + Beih.'\r\n",
        "   ALN: u'Vol. 4. - [1996]. - 1 Compact Disc + Beih.'\r\n",
        "   OUT: u'Vol. 4. - [1996]. - 1 Compact Disc + Beih.'\r\n"
       ]
      },
      {
       "output_type": "stream",
       "stream": "stdout",
       "text": [
        "100873 2.25 (762, 48) ../htwmusik-models/catalog2-gt-model/SD00600000258/010005.bin.png\r\n",
        "   TRU: u'NE : Beethoven, Ludwig van: Ser.; Interpr.'\r\n",
        "   ALN: u'NE : Beethoven, Ludwig van: Ser.; Interpr.'\r\n",
        "   OUT: u'NE : Beethoven, Ludwig van: Ser.; Interpr.'\r\n"
       ]
      },
      {
       "output_type": "stream",
       "stream": "stdout",
       "text": [
        "100874 0.97 (661, 48) ../htwmusik-models/catalog2-gt-model/SD01200000085/010001.bin.png\r\n",
        "   TRU: u'Opera North <Leeds> / Chorus'\r\n",
        "   ALN: u'Opera North <Leeds> / Chorus'\r\n",
        "   OUT: u'Opera North <Leeds> / Chorus'\r\n"
       ]
      },
      {
       "output_type": "stream",
       "stream": "stdout",
       "text": [
        "100875 0.45 (370, 48) ../htwmusik-models/catalog2-gt-model/SD00200000003/010004.bin.png\r\n",
        "   TRU: u'Edition Barbarossa.'\r\n",
        "   ALN: u'Edition Barbarossa.'\r\n",
        "   OUT: u'Edition Barbarossa.'\r\n"
       ]
      },
      {
       "output_type": "stream",
       "stream": "stdout",
       "text": [
        "100876 1.32 (1062, 48) ../htwmusik-models/catalog2-gt-model/SD00200000003/01000a.bin.png\r\n",
        "   TRU: u'Ein Augenblick der Z\\xe4rtlichkeit. Das Bild. Strassen, die dich'\r\n",
        "   ALN: u'Ein Augenblick der Z\\xe4rtlichkeit. Das Bild. Strassen, die dich'\r\n",
        "   OUT: u'Ein Augenblick der Z\\xe4rtlichkeit. Das Bild. Strassen, die dich'\r\n"
       ]
      },
      {
       "output_type": "stream",
       "stream": "stdout",
       "text": [
        "100877 1.72 (762, 48) ../htwmusik-models/catalog2-gt-model/SD00600000258/010005.bin.png\r\n",
        "   TRU: u'NE : Beethoven, Ludwig van: Ser.; Interpr.'\r\n",
        "   ALN: u'NE : Beethoven, Ludwig van: Ser.; Interpr.'\r\n",
        "   OUT: u'NE : Beethoven, Ludwig van: Ser.; Interpr.'\r\n"
       ]
      },
      {
       "output_type": "stream",
       "stream": "stdout",
       "text": [
        "100878 0.93 (888, 48) ../htwmusik-models/catalog2-gt-model/SD01200000085/010003.bin.png\r\n",
        "   TRU: u'Walton William: Troilus and Cressida [Forts.]'\r\n",
        "   ALN: u'Walton William: Troilus and Cressida [Forts.]'\r\n",
        "   OUT: u'Walton William: Troilus and Cressida [Forts.]'\r\n"
       ]
      },
      {
       "output_type": "stream",
       "stream": "stdout",
       "text": [
        "100879 30.45 (405, 48) ../htwmusik-models/catalog2-gt-model/SD00600000272/010002.bin.png\r\n",
        "   TRU: u'Bach, Johann Sebastian:'\r\n",
        "   ALN: u'Bach Johann Sebastian:'\r\n",
        "   OUT: u'B ch J h nn ebastian:'\r\n"
       ]
      },
      {
       "output_type": "stream",
       "stream": "stdout",
       "text": [
        "100880 9.21 (1185, 48) ../htwmusik-models/catalog2-gt-model/SD00200000003/010006.bin.png\r\n",
        "   TRU: u'Enth.: Jagd auf Liebe. Steigen Nebel. Zu Fuss. Tshgiten-Legende'\r\n",
        "   ALN: u'Enth.: Jagd auf Liebe. Steigen Nebel. Zu Fuss. Tshgiten-Legende'\r\n",
        "   OUT: u'Enth.: Jagd auf Liebe. Steigen Nebel. Zu Fuss. Tshigiten-Legende.'\r\n"
       ]
      },
      {
       "output_type": "stream",
       "stream": "stdout",
       "text": [
        "100881 5.18 (497, 48) ../htwmusik-models/catalog2-gt-model/SD00200000245/010004.bin.png\r\n",
        "   TRU: u'Best.-Nr. Wergo Wer 6614-2'\r\n",
        "   ALN: u'Best.-Nr. Wergo Wer 6614-2'\r\n",
        "   OUT: u'Best.-Nr. Wergo WEr 6614-2'\r\n"
       ]
      },
      {
       "output_type": "stream",
       "stream": "stdout",
       "text": [
        "100882 2.48 (1007, 48) ../htwmusik-models/catalog2-gt-model/SD00600000272/010009.bin.png\r\n",
        "   TRU: u'[Org]. Ramin, G\\xfcnther [Dir]. Thomanerchor <Leipzig>.'\r\n",
        "   ALN: u'[Org]. Ramin, G\\xfcnther [Dir]. Thomanerchor <Leipzig>.'\r\n",
        "   OUT: u'[Org]. Ramin, G\\xfcnther [Dir]. Thomanerchor <Leipzig>.'\r\n"
       ]
      },
      {
       "output_type": "stream",
       "stream": "stdout",
       "text": [
        "100883 0.97 (661, 48) ../htwmusik-models/catalog2-gt-model/SD01200000085/010001.bin.png\r\n",
        "   TRU: u'Opera North <Leeds> / Chorus'\r\n",
        "   ALN: u'Opera North <Leeds> / Chorus'\r\n",
        "   OUT: u'Opera North <Leeds> / Chorus'\r\n"
       ]
      },
      {
       "output_type": "stream",
       "stream": "stdout",
       "text": [
        "100884 2.33 (1114, 48) ../htwmusik-models/catalog2-gt-model/SD00200000003/010007.bin.png\r\n",
        "   TRU: u'Hoffnung. Fort f\\xfcr einen Abend. Welt im Sand. Weisst du noch.'\r\n",
        "   ALN: u'Hoffnung. Fort f\\xfcr einen Abend. Welt im Sand. Weisst du noch.'\r\n",
        "   OUT: u'Hoffnung. Fort f\\xfcr einen Abend. Welt im Sand. Weisst du noch.'\r\n"
       ]
      },
      {
       "output_type": "stream",
       "stream": "stdout",
       "text": [
        "100885 0.16 (246, 48) ../htwmusik-models/catalog2-gt-model/SD00600000258/010002.bin.png\r\n",
        "   TRU: u'Singverein'\r\n",
        "   ALN: u'Singverein'\r\n",
        "   OUT: u'Singverein'\r\n"
       ]
      },
      {
       "output_type": "stream",
       "stream": "stdout",
       "text": [
        "100886 0.41 (370, 48) ../htwmusik-models/catalog2-gt-model/SD00200000003/010004.bin.png\r\n",
        "   TRU: u'Edition Barbarossa.'\r\n",
        "   ALN: u'Edition Barbarossa.'\r\n",
        "   OUT: u'Edition Barbarossa.'\r\n"
       ]
      },
      {
       "output_type": "stream",
       "stream": "stdout",
       "text": [
        "100887 1.54 (956, 48) ../htwmusik-models/catalog2-gt-model/SD00600000323/010006.bin.png\r\n",
        "   TRU: u'Va Vc op. 93]; Rheinberger, Gabriel J.: [Nonette op. 139];'\r\n",
        "   ALN: u'Va Vc op. 93]; Rheinberger, Gabriel J.: [Nonette op. 139];'\r\n",
        "   OUT: u'Va Vc op. 93]; Rheinberger, Gabriel J.: [Nonette op. 139];'\r\n"
       ]
      },
      {
       "output_type": "stream",
       "stream": "stdout",
       "text": [
        "100888 1.48 (956, 48) ../htwmusik-models/catalog2-gt-model/SD00600000323/010006.bin.png\r\n",
        "   TRU: u'Va Vc op. 93]; Rheinberger, Gabriel J.: [Nonette op. 139];'\r\n",
        "   ALN: u'Va Vc op. 93]; Rheinberger, Gabriel J.: [Nonette op. 139];'\r\n",
        "   OUT: u'Va Vc op. 93]; Rheinberger, Gabriel J.: [Nonette op. 139];'\r\n"
       ]
      },
      {
       "output_type": "stream",
       "stream": "stdout",
       "text": [
        "100889 1.67 (864, 48) ../htwmusik-models/catalog2-gt-model/SD00600000272/010003.bin.png\r\n",
        "   TRU: u'[Kantaten / Ausw.] Cantatas / Bach. - Hamburg : Edel.'\r\n",
        "   ALN: u'[Kantaten / Ausw.] Cantatas / Bach. - Hamburg : Edel.'\r\n",
        "   OUT: u'[Kantaten / Ausw.] Cantatas / Bach. - Hamburg : Edel.'\r\n"
       ]
      },
      {
       "output_type": "stream",
       "stream": "stdout",
       "text": [
        "100890 0.92 (281, 48) ../htwmusik-models/catalog2-gt-model/SD01200000085/010002.bin.png\r\n",
        "   TRU: u'55 CD 105 - 1.2'\r\n",
        "   ALN: u'55 CD 105 - 1.2'\r\n",
        "   OUT: u'55 CD 105 - 1.2'\r\n"
       ]
      },
      {
       "output_type": "stream",
       "stream": "stdout",
       "text": [
        "100891 1.25 (956, 48) ../htwmusik-models/catalog2-gt-model/SD00600000323/010006.bin.png\r\n",
        "   TRU: u'Va Vc op. 93]; Rheinberger, Gabriel J.: [Nonette op. 139];'\r\n",
        "   ALN: u'Va Vc op. 93]; Rheinberger, Gabriel J.: [Nonette op. 139];'\r\n",
        "   OUT: u'Va Vc op. 93]; Rheinberger, Gabriel J.: [Nonette op. 139];'\r\n"
       ]
      },
      {
       "output_type": "stream",
       "stream": "stdout",
       "text": [
        "100892 26.18 (930, 48) ../htwmusik-models/catalog2-gt-model/SD00600000535/01000a.bin.png\r\n",
        "   TRU: u\"Peter: [Scherzo, Nocturno und Burlesca]; Prokof'ev, Sergej S.:\"\r\n",
        "   ALN: u\"Peter: [Scherzo, Nocturno un Bulesca]; Prokof'ev, Sergej S.:\"\r\n",
        "   OUT: u\"Peter: [Scherzo, Nocturno w lea]; Prokof'ev, Serge~ S.:\"\r\n"
       ]
      },
      {
       "output_type": "stream",
       "stream": "stdout",
       "text": [
        "100893 10.35 (400, 48) ../htwmusik-models/catalog2-gt-model/SD00600000535/010001.bin.png\r\n",
        "   TRU: u'Fagottissimo [Forts.]'\r\n",
        "   ALN: u'Fagottissimo [Forts.]'\r\n",
        "   OUT: u'Fa ottissimo [Forts.]'\r\n"
       ]
      },
      {
       "output_type": "stream",
       "stream": "stdout",
       "text": [
        "100894 2.56 (1114, 48) ../htwmusik-models/catalog2-gt-model/SD00600000272/01000a.bin.png\r\n",
        "   TRU: u'Gewandhausorchester <Leipzig>... - Auf.: 1949 - 1954. - P 1965 - 1966'\r\n",
        "   ALN: u'Gewandhausorchester <Leipzig>... - Auf.: 1949 - 1954. - P 1965 - 1966'\r\n",
        "   OUT: u'Gewandhausorchester <Leipzig>... - Auf.: 1949 - 1954. - P 1965 - 1966'\r\n"
       ]
      },
      {
       "output_type": "stream",
       "stream": "stdout",
       "text": [
        "100895 10.46 (1110, 48) ../htwmusik-models/catalog2-gt-model/SD00200000003/010003.bin.png\r\n",
        "   TRU: u'Beatkiste : Hit-Rarit\\xe4ten aus dem DDR-Rundfunkarchiv. - Berlin :'\r\n",
        "   ALN: u'Beatiste : Hit-Rarit\\xe4ten aus dem DDR-Rundfunkarchiv. - Berlin :'\r\n",
        "   OUT: u'Betste : Hit-Rarit\\xe4ten aus dem DDR-Rundfunkarchiv. - Berlin :'\r\n"
       ]
      },
      {
       "output_type": "stream",
       "stream": "stdout",
       "text": [
        "100896 4.07 (1014, 48) ../htwmusik-models/catalog2-gt-model/SD00600000272/010005.bin.png\r\n",
        "   TRU: u'Enth.: Sei Lob und Ehr dem h\\xf6chsten Gut BWV 117. Ich ruf zu dir, Herr'\r\n",
        "   ALN: u'Enth.: Sei Lob und Ehr dem h\\xf6chsten Gut BWV 117. Ich ruf zu dir, Herr'\r\n",
        "   OUT: u'Enth.: Sei Lob und Ehr dem h\\xf6chsten Gut BWV 117. Ich rufzu dir, Herr'\r\n"
       ]
      },
      {
       "output_type": "stream",
       "stream": "stdout",
       "text": [
        "100897 0.95 (625, 48) ../htwmusik-models/catalog2-gt-model/SD00600000272/01000b.bin.png\r\n",
        "   TRU: u'Best.-Nr. Leipzig Classics 00 1806 2 BC'\r\n",
        "   ALN: u'Best.-Nr. Leipzig Classics 00 1806 2 BC'\r\n",
        "   OUT: u'Best.-Nr. Leipzig Classics 00 1806 2 BC'\r\n"
       ]
      },
      {
       "output_type": "stream",
       "stream": "stdout",
       "text": [
        "100898 1.67 (1114, 48) ../htwmusik-models/catalog2-gt-model/SD00200000003/010007.bin.png\r\n",
        "   TRU: u'Hoffnung. Fort f\\xfcr einen Abend. Welt im Sand. Weisst du noch.'\r\n",
        "   ALN: u'Hoffnung. Fort f\\xfcr einen Abend. Welt im Sand. Weisst du noch.'\r\n",
        "   OUT: u'Hoffnung. Fort f\\xfcr einen Abend. Welt im Sand. Weisst du noch.'\r\n"
       ]
      },
      {
       "output_type": "stream",
       "stream": "stdout",
       "text": [
        "100899 1.39 (861, 48) ../htwmusik-models/catalog2-gt-model/SD00200000245/010001.bin.png\r\n",
        "   TRU: u'Bayerisches Staatsorchester <M\\xfcnchen>'\r\n",
        "   ALN: u'Bayerisches Staatsorchester <M\\xfcnchen>'\r\n",
        "   OUT: u'Bayerisches Staatsorchester <M\\xfcnchen>'\r\n"
       ]
      },
      {
       "output_type": "stream",
       "stream": "stdout",
       "text": [
        "100900 1.16 (864, 48) ../htwmusik-models/catalog2-gt-model/SD00600000272/010003.bin.png\r\n",
        "   TRU: u'[Kantaten / Ausw.] Cantatas / Bach. - Hamburg : Edel.'\r\n",
        "   ALN: u'[Kantaten / Ausw.] Cantatas / Bach. - Hamburg : Edel.'\r\n",
        "   OUT: u'[Kantaten / Ausw.] Cantatas / Bach. - Hamburg : Edel.'\r\n"
       ]
      },
      {
       "output_type": "stream",
       "stream": "stdout",
       "text": [
        "100901 0.71 (280, 48) ../htwmusik-models/catalog2-gt-model/SD00200000245/010006.bin.png\r\n",
        "   TRU: u'55 CD 223 - 1.2'\r\n",
        "   ALN: u'55 CD 223 - 1.2'\r\n",
        "   OUT: u'55 CD 223 - 1.2'\r\n"
       ]
      },
      {
       "output_type": "stream",
       "stream": "stdout",
       "text": [
        "100902 0.19 (146, 48) ../htwmusik-models/catalog2-gt-model/SD01200000085/010004.bin.png\r\n",
        "   TRU: u'P 1995.'\r\n",
        "   ALN: u'P 1995.'\r\n",
        "   OUT: u'P 1995.'\r\n"
       ]
      },
      {
       "output_type": "stream",
       "stream": "stdout",
       "text": [
        "100903 1.05 (661, 48) ../htwmusik-models/catalog2-gt-model/SD01200000085/010001.bin.png\r\n",
        "   TRU: u'Opera North <Leeds> / Chorus'\r\n",
        "   ALN: u'Opera North <Leeds> / Chorus'\r\n",
        "   OUT: u'Opera North <Leeds> / Chorus'\r\n"
       ]
      },
      {
       "output_type": "stream",
       "stream": "stdout",
       "text": [
        "100904 1.29 (861, 48) ../htwmusik-models/catalog2-gt-model/SD00200000245/010001.bin.png\r\n",
        "   TRU: u'Bayerisches Staatsorchester <M\\xfcnchen>'\r\n",
        "   ALN: u'Bayerisches Staatsorchester <M\\xfcnchen>'\r\n",
        "   OUT: u'Bayerisches Staatsorchester <M\\xfcnchen>'\r\n"
       ]
      },
      {
       "output_type": "stream",
       "stream": "stdout",
       "text": [
        "100905 1.19 (1141, 48) ../htwmusik-models/catalog2-gt-model/SD00200000003/010009.bin.png\r\n",
        "   TRU: u'die Weide. Einmal unsichtbar sein. Schwester. Heisses Land.'\r\n",
        "   ALN: u'die Weide. Einmal unsichtbar sein. Schwester. Heisses Land.'\r\n",
        "   OUT: u'die Weide. Einmal unsichtbar sein. Schwester. Heisses Land.'\r\n"
       ]
      },
      {
       "output_type": "stream",
       "stream": "stdout",
       "text": [
        "100906 1.80 (1042, 48) ../htwmusik-models/catalog2-gt-model/SD00600000535/010005.bin.png\r\n",
        "   TRU: u'[Pigs]; Weissenborn, Christian J.: [Stucke, Fg 1 2 3 op. 4 /'\r\n",
        "   ALN: u'[Pigs]; Weissenborn, Christian J.: [Stucke, Fg 1 2 3 op. 4 /'\r\n",
        "   OUT: u'[Pigs]; Weissenborn, Christian J.: [Stucke, Fg 1 2 3 op. 4 /'\r\n"
       ]
      },
      {
       "output_type": "stream",
       "stream": "stdout",
       "text": [
        "100907 0.58 (625, 48) ../htwmusik-models/catalog2-gt-model/SD00600000272/01000b.bin.png\r\n",
        "   TRU: u'Best.-Nr. Leipzig Classics 00 1806 2 BC'\r\n",
        "   ALN: u'Best.-Nr. Leipzig Classics 00 1806 2 BC'\r\n",
        "   OUT: u'Best.-Nr. Leipzig Classics 00 1806 2 BC'\r\n"
       ]
      },
      {
       "output_type": "stream",
       "stream": "stdout",
       "text": [
        "100908 0.28 (370, 48) ../htwmusik-models/catalog2-gt-model/SD00200000003/010004.bin.png\r\n",
        "   TRU: u'Edition Barbarossa.'\r\n",
        "   ALN: u'Edition Barbarossa.'\r\n",
        "   OUT: u'Edition Barbarossa.'\r\n"
       ]
      },
      {
       "output_type": "stream",
       "stream": "stdout",
       "text": [
        "100909 0.06 (176, 48) ../htwmusik-models/catalog2-gt-model/SD00200000003/010001.bin.png\r\n",
        "   TRU: u'Babylon'\r\n",
        "   ALN: u'Babylon'\r\n",
        "   OUT: u'Babylon'\r\n"
       ]
      },
      {
       "output_type": "stream",
       "stream": "stdout",
       "text": [
        "100910 0.39 (258, 48) ../htwmusik-models/catalog2-gt-model/SD00600000258/010006.bin.png\r\n",
        "   TRU: u'55 CD 77 - 1'\r\n",
        "   ALN: u'55 CD 77 - 1'\r\n",
        "   OUT: u'55 CD 77 - 1'\r\n"
       ]
      },
      {
       "output_type": "stream",
       "stream": "stdout",
       "text": [
        "100911 14.60 (1004, 48) ../htwmusik-models/catalog2-gt-model/SD00200000003/01000c.bin.png\r\n",
        "   TRU: u'Interbr.: Rosalili. Lift. Babylon. Keks. Puhdys. Karat'\r\n",
        "   ALN: u'Interbr.: Rosalili. Lift. Babyon. Keks. Puhdys. Karat'\r\n",
        "   OUT: u'Interbr.: Rosalili. Lift. Babon. Keks. Puhdys. Karat.'\r\n"
       ]
      },
      {
       "output_type": "stream",
       "stream": "stdout",
       "text": [
        "100912 0.15 (119, 48) ../htwmusik-models/catalog2-gt-model/SD00600000323/010001.bin.png\r\n",
        "   TRU: u'CD 38'\r\n",
        "   ALN: u'CD 38'\r\n",
        "   OUT: u'CD 38'\r\n"
       ]
      },
      {
       "output_type": "stream",
       "stream": "stdout",
       "text": [
        "100913 5.09 (656, 48) ../htwmusik-models/catalog2-gt-model/SD00200000608/010003.bin.png\r\n",
        "   TRU: u'Klav\\u01d0rn\\u01d0 Kvarteto Bohuslava Martim\\u016f'\r\n",
        "   ALN: u'Klav~rn~ Kvarteto Bohuslava Martim~'\r\n",
        "   OUT: u'Klav~rn~ Kvarteto Bohuslava Martim~'\r\n"
       ]
      },
      {
       "output_type": "stream",
       "stream": "stdout",
       "text": [
        "100914 4.36 (1094, 48) ../htwmusik-models/catalog2-gt-model/SD00600000535/010009.bin.png\r\n",
        "   TRU: u'fugue and scherzo]; Bozza, Eug\\xe8ne: [Divertissement]; Jansen,'\r\n",
        "   ALN: u'fugue and scherzo]; Bozza, Eug\\xe8ne: [Divertissement]; Jansen,'\r\n",
        "   OUT: u'fugue and scherzo]; Bozza, Eug\\xe4ne: [Divertissement]; Jansen,'\r\n"
       ]
      },
      {
       "output_type": "stream",
       "stream": "stdout",
       "text": [
        "100915 2.18 (288, 48) ../htwmusik-models/catalog2-gt-model/SD00600000272/01000c.bin.png\r\n",
        "   TRU: u'Ne: Ser.; Interpr.'\r\n",
        "   ALN: u'Ne: Ser.; Interpr.'\r\n",
        "   OUT: u'Ne: Ser.; Interpr.'\r\n"
       ]
      },
      {
       "output_type": "stream",
       "stream": "stdout",
       "text": [
        "100916 0.26 (141, 48) ../htwmusik-models/catalog2-gt-model/SD00600000535/010003.bin.png\r\n",
        "   TRU: u'CD 317'\r\n",
        "   ALN: u'CD 317'\r\n",
        "   OUT: u'CD 317'\r\n"
       ]
      },
      {
       "output_type": "stream",
       "stream": "stdout",
       "text": [
        "100917 0.89 (864, 48) ../htwmusik-models/catalog2-gt-model/SD00600000272/010003.bin.png\r\n",
        "   TRU: u'[Kantaten / Ausw.] Cantatas / Bach. - Hamburg : Edel.'\r\n",
        "   ALN: u'[Kantaten / Ausw.] Cantatas / Bach. - Hamburg : Edel.'\r\n",
        "   OUT: u'[Kantaten / Ausw.] Cantatas / Bach. - Hamburg : Edel.'\r\n"
       ]
      },
      {
       "output_type": "stream",
       "stream": "stdout",
       "text": [
        "100918 1.23 (1114, 48) ../htwmusik-models/catalog2-gt-model/SD00200000003/010007.bin.png\r\n",
        "   TRU: u'Hoffnung. Fort f\\xfcr einen Abend. Welt im Sand. Weisst du noch.'\r\n",
        "   ALN: u'Hoffnung. Fort f\\xfcr einen Abend. Welt im Sand. Weisst du noch.'\r\n",
        "   OUT: u'Hoffnung. Fort f\\xfcr einen Abend. Welt im Sand. Weisst du noch.'\r\n"
       ]
      },
      {
       "output_type": "stream",
       "stream": "stdout",
       "text": [
        "100919 2.71 (1094, 48) ../htwmusik-models/catalog2-gt-model/SD00600000535/010009.bin.png\r\n",
        "   TRU: u'fugue and scherzo]; Bozza, Eug\\xe8ne: [Divertissement]; Jansen,'\r\n",
        "   ALN: u'fugue and scherzo]; Bozza, Eug\\xe8ne: [Divertissement]; Jansen,'\r\n",
        "   OUT: u'fugue and scherzo]; Bozza, Eug\\xe4ne: [Divertissement]; Jansen,'\r\n"
       ]
      },
      {
       "output_type": "stream",
       "stream": "stdout",
       "text": [
        "100920 1.09 (861, 48) ../htwmusik-models/catalog2-gt-model/SD00200000245/010001.bin.png\r\n",
        "   TRU: u'Bayerisches Staatsorchester <M\\xfcnchen>'\r\n",
        "   ALN: u'Bayerisches Staatsorchester <M\\xfcnchen>'\r\n",
        "   OUT: u'Bayerisches Staatsorchester <M\\xfcnchen>'\r\n"
       ]
      },
      {
       "output_type": "stream",
       "stream": "stdout",
       "text": [
        "100921 1.17 (470, 48) ../htwmusik-models/catalog2-gt-model/SD00600000323/010004.bin.png\r\n",
        "   TRU: u'Best.-Nr. Capella CTH 2061'\r\n",
        "   ALN: u'Best.-Nr. Capella CTH 2061'\r\n",
        "   OUT: u'Best.-Nr. Capella CTH 2061'\r\n"
       ]
      },
      {
       "output_type": "stream",
       "stream": "stdout",
       "text": [
        "100922 13.42 (1004, 48) ../htwmusik-models/catalog2-gt-model/SD00200000003/01000c.bin.png\r\n",
        "   TRU: u'Interbr.: Rosalili. Lift. Babylon. Keks. Puhdys. Karat'\r\n",
        "   ALN: u'Interbr.: Rosalili. Lift. Babyon. Keks. Puhdys. Karat'\r\n",
        "   OUT: u'Interbr.: Rosalili. Lift. Babon. Keks. Puhdys. Karat.'\r\n"
       ]
      },
      {
       "output_type": "stream",
       "stream": "stdout",
       "text": [
        "100923 21.09 (930, 48) ../htwmusik-models/catalog2-gt-model/SD00600000535/01000a.bin.png\r\n",
        "   TRU: u\"Peter: [Scherzo, Nocturno und Burlesca]; Prokof'ev, Sergej S.:\"\r\n",
        "   ALN: u\"Peter: [Scherzo, Nocturno uund Bulesca]; Prokof'ev, Sergej S.:\"\r\n",
        "   OUT: u\"Peter: [Scherzo, Nocturno  lea]; Prokof' ev, Sergej S.:\"\r\n"
       ]
      },
      {
       "output_type": "stream",
       "stream": "stdout",
       "text": [
        "100924 10.47 (400, 48) ../htwmusik-models/catalog2-gt-model/SD00600000535/010001.bin.png\r\n",
        "   TRU: u'Fagottissimo [Forts.]'\r\n",
        "   ALN: u'Fagottissimo [Forts.]'\r\n",
        "   OUT: u'Fa ottissimo [Forts.]'\r\n"
       ]
      },
      {
       "output_type": "stream",
       "stream": "stdout",
       "text": [
        "100925 0.37 (258, 48) ../htwmusik-models/catalog2-gt-model/SD00600000258/010006.bin.png\r\n",
        "   TRU: u'55 CD 77 - 1'\r\n",
        "   ALN: u'55 CD 77 - 1'\r\n",
        "   OUT: u'55 CD 77 - 1'\r\n"
       ]
      },
      {
       "output_type": "stream",
       "stream": "stdout",
       "text": [
        "100926 0.98 (730, 48) ../htwmusik-models/catalog2-gt-model/SD00600000258/010004.bin.png\r\n",
        "   TRU: u'Best.-Nr. Deutsche Grammophon 453 701-2'\r\n",
        "   ALN: u'Best.-Nr. Deutsche Grammophon 453 701-2'\r\n",
        "   OUT: u'Best.-Nr. Deutsche Grammophon 453 701-2'\r\n"
       ]
      },
      {
       "output_type": "stream",
       "stream": "stdout",
       "text": [
        "100927 0.86 (864, 48) ../htwmusik-models/catalog2-gt-model/SD00600000272/010003.bin.png\r\n",
        "   TRU: u'[Kantaten / Ausw.] Cantatas / Bach. - Hamburg : Edel.'\r\n",
        "   ALN: u'[Kantaten / Ausw.] Cantatas / Bach. - Hamburg : Edel.'\r\n",
        "   OUT: u'[Kantaten / Ausw.] Cantatas / Bach. - Hamburg : Edel.'\r\n"
       ]
      },
      {
       "output_type": "stream",
       "stream": "stdout",
       "text": [
        "100928 3.88 (1075, 48) ../htwmusik-models/catalog2-gt-model/SD00600000535/010006.bin.png\r\n",
        "   TRU: u'Ausw.]; Voert, Georg ter: [Polka in Swing]; Seiber, M\\xe1ty\\xe1s G.:'\r\n",
        "   ALN: u'Ausw.]; Voert, Georg ter: [Polka in Swing]; Seiber, M~ty~s G.:'\r\n",
        "   OUT: u'Ausw.]; Voert, Georg ter: [Polka in Swing]; Seiber, Mty~s G.:'\r\n"
       ]
      },
      {
       "output_type": "stream",
       "stream": "stdout",
       "text": [
        "100929 0.97 (861, 48) ../htwmusik-models/catalog2-gt-model/SD00200000245/010001.bin.png\r\n",
        "   TRU: u'Bayerisches Staatsorchester <M\\xfcnchen>'\r\n",
        "   ALN: u'Bayerisches Staatsorchester <M\\xfcnchen>'\r\n",
        "   OUT: u'Bayerisches Staatsorchester <M\\xfcnchen>'\r\n"
       ]
      },
      {
       "output_type": "stream",
       "stream": "stdout",
       "text": [
        "100930 2.88 (1017, 48) ../htwmusik-models/catalog2-gt-model/SD00600000272/010001.bin.png\r\n",
        "   TRU: u'Gewandhausorchester <Leipzig> 55 CD 1779 - 1,6'\r\n",
        "   ALN: u'Gewandhausorchester <Leipzig> 55 CD 1779 - 1,6'\r\n",
        "   OUT: u'Gewandhausorchester <Leipzig> 55 CD 1779 - 1,6'\r\n"
       ]
      },
      {
       "output_type": "stream",
       "stream": "stdout",
       "text": [
        "100931 1.44 (762, 48) ../htwmusik-models/catalog2-gt-model/SD00600000258/010005.bin.png\r\n",
        "   TRU: u'NE : Beethoven, Ludwig van: Ser.; Interpr.'\r\n",
        "   ALN: u'NE : Beethoven, Ludwig van: Ser.; Interpr.'\r\n",
        "   OUT: u'NE : Beethoven, Ludwig van: Ser.; Interpr.'\r\n"
       ]
      },
      {
       "output_type": "stream",
       "stream": "stdout",
       "text": [
        "100932 1.64 (1042, 48) ../htwmusik-models/catalog2-gt-model/SD00600000535/010005.bin.png\r\n",
        "   TRU: u'[Pigs]; Weissenborn, Christian J.: [Stucke, Fg 1 2 3 op. 4 /'\r\n",
        "   ALN: u'[Pigs]; Weissenborn, Christian J.: [Stucke, Fg 1 2 3 op. 4 /'\r\n",
        "   OUT: u'[Pigs]; Weissenborn, Christian J.: [Stucke, Fg 1 2 3 op. 4 /'\r\n"
       ]
      },
      {
       "output_type": "stream",
       "stream": "stdout",
       "text": [
        "100933 27.46 (405, 48) ../htwmusik-models/catalog2-gt-model/SD00600000272/010002.bin.png\r\n",
        "   TRU: u'Bach, Johann Sebastian:'\r\n",
        "   ALN: u'Bach, Johann Sebastian:'\r\n",
        "   OUT: u'B ch J h nn ebastian:'\r\n"
       ]
      },
      {
       "output_type": "stream",
       "stream": "stdout",
       "text": [
        "100934 3.22 (740, 48) ../htwmusik-models/catalog2-gt-model/SD00200000245/010002.bin.png\r\n",
        "   TRU: u'Reimann Aribert: Das Schloss [Forts.]'\r\n",
        "   ALN: u'Reimann Aribert: Das Schloss [Forts.]'\r\n",
        "   OUT: u'Reimann Aribert: Das   Schloss [Forts.]'\r\n"
       ]
      },
      {
       "output_type": "stream",
       "stream": "stdout",
       "text": [
        "100935 1.62 (1062, 48) ../htwmusik-models/catalog2-gt-model/SD00200000003/01000a.bin.png\r\n",
        "   TRU: u'Ein Augenblick der Z\\xe4rtlichkeit. Das Bild. Strassen, die dich'\r\n",
        "   ALN: u'Ein Augenblick der Z\\xe4rtlichkeit. Das Bild. Strassen, die dich'\r\n",
        "   OUT: u'Ein Augenblick der Z\\xe4rtlichkeit. Das Bild. Strassen, die dich'\r\n"
       ]
      },
      {
       "output_type": "stream",
       "stream": "stdout",
       "text": [
        "100936 4.56 (1134, 48) ../htwmusik-models/catalog2-gt-model/SD00600000535/010008.bin.png\r\n",
        "   TRU: u'Monti, Vittorio: [Czardas / Arr.]; Jakob, Gordon P.: [Prelude,'\r\n",
        "   ALN: u'Monti, Vittorio: [Czardas / Arr.]; Jakob, Gordon P.: [Prelude,'\r\n",
        "   OUT: u'Monti, Vittorio: [Czardas / Arr.]; Jakob, Gordon P.: [Prelude,'\r\n"
       ]
      },
      {
       "output_type": "stream",
       "stream": "stdout",
       "text": [
        "100937 9.28 (400, 48) ../htwmusik-models/catalog2-gt-model/SD00600000535/010001.bin.png\r\n",
        "   TRU: u'Fagottissimo [Forts.]'\r\n",
        "   ALN: u'Fagottissimo [Forts.]'\r\n",
        "   OUT: u'Fa ottissimo [Forts.]'\r\n"
       ]
      },
      {
       "output_type": "stream",
       "stream": "stdout",
       "text": [
        "100938 0.19 (246, 48) ../htwmusik-models/catalog2-gt-model/SD00600000258/010002.bin.png\r\n",
        "   TRU: u'Singverein'\r\n",
        "   ALN: u'Singverein'\r\n",
        "   OUT: u'Singverein'\r\n"
       ]
      },
      {
       "output_type": "stream",
       "stream": "stdout",
       "text": [
        "100939 1.54 (956, 48) ../htwmusik-models/catalog2-gt-model/SD00600000323/010006.bin.png\r\n",
        "   TRU: u'Va Vc op. 93]; Rheinberger, Gabriel J.: [Nonette op. 139];'\r\n",
        "   ALN: u'Va Vc op. 93]; Rheinberger, Gabriel J.: [Nonette op. 139];'\r\n",
        "   OUT: u'Va Vc op. 93]; Rheinberger, Gabriel J.: [Nonette op. 139];'\r\n"
       ]
      },
      {
       "output_type": "stream",
       "stream": "stdout",
       "text": [
        "100940 6.88 (1122, 48) ../htwmusik-models/catalog2-gt-model/SD00600000272/010004.bin.png\r\n",
        "   TRU: u'6. - [1999]. - 1 Compact Disc + Beih. - (Bach - Made in Germany : Vol. 1, 6)'\r\n",
        "   ALN: u'6. - [1999]. - 1 Compact Disc + Beih. - (Bach - Made in Germany : Vol. 1, 6)'\r\n",
        "   OUT: u'6. - [1999]. - 1 Compact Disc + Beih. - (Bach - Made in Germany ; Vol. 1, 6)'\r\n"
       ]
      },
      {
       "output_type": "stream",
       "stream": "stdout",
       "text": [
        "100941 2.03 (1007, 48) ../htwmusik-models/catalog2-gt-model/SD00600000272/010009.bin.png\r\n",
        "   TRU: u'[Org]. Ramin, G\\xfcnther [Dir]. Thomanerchor <Leipzig>.'\r\n",
        "   ALN: u'[Org]. Ramin, G\\xfcnther [Dir]. Thomanerchor <Leipzig>.'\r\n",
        "   OUT: u'[Org]. Ramin, G\\xfcnther [Dir]. Thomanerchor <Leipzig>.'\r\n"
       ]
      },
      {
       "output_type": "stream",
       "stream": "stdout",
       "text": [
        "100942 0.90 (1062, 48) ../htwmusik-models/catalog2-gt-model/SD00200000003/01000a.bin.png\r\n",
        "   TRU: u'Ein Augenblick der Z\\xe4rtlichkeit. Das Bild. Strassen, die dich'\r\n",
        "   ALN: u'Ein Augenblick der Z\\xe4rtlichkeit. Das Bild. Strassen, die dich'\r\n",
        "   OUT: u'Ein Augenblick der Z\\xe4rtlichkeit. Das Bild. Strassen, die dich'\r\n"
       ]
      },
      {
       "output_type": "stream",
       "stream": "stdout",
       "text": [
        "100943 0.13 (246, 48) ../htwmusik-models/catalog2-gt-model/SD00600000258/010002.bin.png\r\n",
        "   TRU: u'Singverein'\r\n",
        "   ALN: u'Singverein'\r\n",
        "   OUT: u'Singverein'\r\n"
       ]
      },
      {
       "output_type": "stream",
       "stream": "stdout",
       "text": [
        "100944 1.00 (861, 48) ../htwmusik-models/catalog2-gt-model/SD00200000245/010001.bin.png\r\n",
        "   TRU: u'Bayerisches Staatsorchester <M\\xfcnchen>'\r\n",
        "   ALN: u'Bayerisches Staatsorchester <M\\xfcnchen>'\r\n",
        "   OUT: u'Bayerisches Staatsorchester <M\\xfcnchen>'\r\n"
       ]
      },
      {
       "output_type": "stream",
       "stream": "stdout",
       "text": [
        "100945 1.48 (288, 48) ../htwmusik-models/catalog2-gt-model/SD00600000272/01000c.bin.png\r\n",
        "   TRU: u'Ne: Ser.; Interpr.'\r\n",
        "   ALN: u'Ne: Ser.; Interpr.'\r\n",
        "   OUT: u'Ne: Ser.; Interpr.'\r\n"
       ]
      },
      {
       "output_type": "stream",
       "stream": "stdout",
       "text": [
        "100946 9.23 (1023, 48) ../htwmusik-models/catalog2-gt-model/SD00600000323/010002.bin.png\r\n",
        "   TRU: u'Rheinberger Gabriel J.: [Trios, V1 Vc Kl op. 112] [Forts.]'\r\n",
        "   ALN: u'Rheinberger Gabriel J.: [Trios, V1 Vc Kl op. 112] [Forts.]'\r\n",
        "   OUT: u'Rheinber er Gabriel J.: [Trios, V1 Vc Kl op. 112] [Forts.]'\r\n"
       ]
      },
      {
       "output_type": "stream",
       "stream": "stdout",
       "text": [
        "100947 1.82 (788, 48) ../htwmusik-models/catalog2-gt-model/SD00600000272/010006.bin.png\r\n",
        "   TRU: u'Jesu Christ BWV 177. Ein ungef\\xe4rbt Gem\\xfcte BWV 24.'\r\n",
        "   ALN: u'Jesu Christ BWV 177. Ein ungef\\xe4rbt Gem\\xfcte BWV 24.'\r\n",
        "   OUT: u'Jesu Christ BWV 177. Ein ungef\\xe4rbt Gem\\xfcte BWV 24.'\r\n"
       ]
      },
      {
       "output_type": "stream",
       "stream": "stdout",
       "text": [
        "100948 0.45 (370, 48) ../htwmusik-models/catalog2-gt-model/SD00200000003/010004.bin.png\r\n",
        "   TRU: u'Edition Barbarossa.'\r\n",
        "   ALN: u'Edition Barbarossa.'\r\n",
        "   OUT: u'Edition Barbarossa.'\r\n"
       ]
      },
      {
       "output_type": "stream",
       "stream": "stdout",
       "text": [
        "100949 3.85 (1014, 48) ../htwmusik-models/catalog2-gt-model/SD00600000272/010005.bin.png\r\n",
        "   TRU: u'Enth.: Sei Lob und Ehr dem h\\xf6chsten Gut BWV 117. Ich ruf zu dir, Herr'\r\n",
        "   ALN: u'Enth.: Sei Lob und Ehr dem h\\xf6chsten Gut BWV 117. Ich ruf zu dir, Herr'\r\n",
        "   OUT: u'Enth.: Sei Lob und Ehr dem h\\xf6chsten Gut BWV 117. Ich rufzu dir, Herr'\r\n"
       ]
      },
      {
       "output_type": "stream",
       "stream": "stdout",
       "text": [
        "100950 0.67 (235, 48) ../htwmusik-models/catalog2-gt-model/SD00200000245/010005.bin.png\r\n",
        "   TRU: u'NE: Interpr.'\r\n",
        "   ALN: u'NE: Interpr.'\r\n",
        "   OUT: u'NE: Interpr.'\r\n"
       ]
      },
      {
       "output_type": "stream",
       "stream": "stdout",
       "text": [
        "100951 0.09 (246, 48) ../htwmusik-models/catalog2-gt-model/SD00600000258/010002.bin.png\r\n",
        "   TRU: u'Singverein'\r\n",
        "   ALN: u'Singverein'\r\n",
        "   OUT: u'Singverein'\r\n"
       ]
      },
      {
       "output_type": "stream",
       "stream": "stdout",
       "text": [
        "100952 0.07 (132, 48) ../htwmusik-models/catalog2-gt-model/SD00200000608/010002.bin.png\r\n",
        "   TRU: u'siehe'\r\n",
        "   ALN: u'siehe'\r\n",
        "   OUT: u'siehe'\r\n"
       ]
      },
      {
       "output_type": "stream",
       "stream": "stdout",
       "text": [
        "100953 2.46 (1017, 48) ../htwmusik-models/catalog2-gt-model/SD00600000272/010001.bin.png\r\n",
        "   TRU: u'Gewandhausorchester <Leipzig> 55 CD 1779 - 1,6'\r\n",
        "   ALN: u'Gewandhausorchester <Leipzig> 55 CD 1779 - 1,6'\r\n",
        "   OUT: u'Gewandhausorchester <Leipzig> 55 CD 1779 - 1,6'\r\n"
       ]
      },
      {
       "output_type": "stream",
       "stream": "stdout",
       "text": [
        "100954 8.50 (1023, 48) ../htwmusik-models/catalog2-gt-model/SD00600000323/010002.bin.png\r\n",
        "   TRU: u'Rheinberger Gabriel J.: [Trios, V1 Vc Kl op. 112] [Forts.]'\r\n",
        "   ALN: u'Rheinberger Gabriel J.: [Trios, V1 Vc Kl op. 112] [Forts.]'\r\n",
        "   OUT: u'Rheinber er Gabriel J.: [Trios, V1 Vc Kl op. 112] [Forts.]'\r\n"
       ]
      },
      {
       "output_type": "stream",
       "stream": "stdout",
       "text": [
        "100955 5.24 (140, 48) ../htwmusik-models/catalog2-gt-model/SD00200000245/010003.bin.png\r\n",
        "   TRU: u'P 1997'\r\n",
        "   ALN: u'P 1997'\r\n",
        "   OUT: u'P 1997.'\r\n"
       ]
      },
      {
       "output_type": "stream",
       "stream": "stdout",
       "text": [
        "100956 2.97 (740, 48) ../htwmusik-models/catalog2-gt-model/SD00200000245/010002.bin.png\r\n",
        "   TRU: u'Reimann Aribert: Das Schloss [Forts.]'\r\n",
        "   ALN: u'Reimann Aribert: Das Schloss [Forts.]'\r\n",
        "   OUT: u'Reimann Aribert: Das   Schloss [Forts.]'\r\n"
       ]
      },
      {
       "output_type": "stream",
       "stream": "stdout",
       "text": [
        "100957 1.04 (861, 48) ../htwmusik-models/catalog2-gt-model/SD00200000245/010001.bin.png\r\n",
        "   TRU: u'Bayerisches Staatsorchester <M\\xfcnchen>'\r\n",
        "   ALN: u'Bayerisches Staatsorchester <M\\xfcnchen>'\r\n",
        "   OUT: u'Bayerisches Staatsorchester <M\\xfcnchen>'\r\n"
       ]
      },
      {
       "output_type": "stream",
       "stream": "stdout",
       "text": [
        "100958 0.67 (730, 48) ../htwmusik-models/catalog2-gt-model/SD00600000258/010004.bin.png\r\n",
        "   TRU: u'Best.-Nr. Deutsche Grammophon 453 701-2'\r\n",
        "   ALN: u'Best.-Nr. Deutsche Grammophon 453 701-2'\r\n",
        "   OUT: u'Best.-Nr. Deutsche Grammophon 453 701-2'\r\n"
       ]
      },
      {
       "output_type": "stream",
       "stream": "stdout",
       "text": [
        "100959 7.19 (1185, 48) ../htwmusik-models/catalog2-gt-model/SD00200000003/010006.bin.png\r\n",
        "   TRU: u'Enth.: Jagd auf Liebe. Steigen Nebel. Zu Fuss. Tshgiten-Legende'\r\n",
        "   ALN: u'Enth.: Jagd auf Liebe. Steigen Nebel. Zu Fuss. Tshgiten-Legende'\r\n",
        "   OUT: u'Enth.: Jagd auf Liebe. Steigen Nebel. Zu Fuss. Tshigiten-Legende.'\r\n"
       ]
      },
      {
       "output_type": "stream",
       "stream": "stdout",
       "text": [
        "100960 7.67 (400, 48) ../htwmusik-models/catalog2-gt-model/SD00600000535/010001.bin.png\r\n",
        "   TRU: u'Fagottissimo [Forts.]'\r\n",
        "   ALN: u'Fagottissimo [Forts.]'\r\n",
        "   OUT: u'Fa ottissimo [Forts.]'\r\n"
       ]
      },
      {
       "output_type": "stream",
       "stream": "stdout",
       "text": [
        "100961 4.78 (140, 48) ../htwmusik-models/catalog2-gt-model/SD00200000245/010003.bin.png\r\n",
        "   TRU: u'P 1997'\r\n",
        "   ALN: u'P 1997'\r\n",
        "   OUT: u'P 1997.'\r\n"
       ]
      },
      {
       "output_type": "stream",
       "stream": "stdout",
       "text": [
        "100962 2.55 (566, 48) ../htwmusik-models/catalog2-gt-model/SD01200000085/010005.bin.png\r\n",
        "   TRU: u'Best. -Nr. Chandos CHAN 9370/71'\r\n",
        "   ALN: u'Best. -Nr. Chandos CHAN 9370/71'\r\n",
        "   OUT: u'Best.-Nr. Chandos CHAN 9370/71'\r\n"
       ]
      },
      {
       "output_type": "stream",
       "stream": "stdout",
       "text": [
        "100963 0.49 (235, 48) ../htwmusik-models/catalog2-gt-model/SD00200000245/010005.bin.png\r\n",
        "   TRU: u'NE: Interpr.'\r\n",
        "   ALN: u'NE: Interpr.'\r\n",
        "   OUT: u'NE: Interpr.'\r\n"
       ]
      },
      {
       "output_type": "stream",
       "stream": "stdout",
       "text": [
        "100964 6.67 (832, 48) ../htwmusik-models/catalog2-gt-model/SD00600000258/010001.bin.png\r\n",
        "   TRU: u'2 Gesellschaft der Musikfreunde <Wien> /'\r\n",
        "   ALN: u'2 Gesellschaft der Musikfreunde <Wien> /'\r\n",
        "   OUT: u' Gesellschaft der Musikfreunde <Wien> /'\r\n"
       ]
      },
      {
       "output_type": "stream",
       "stream": "stdout",
       "text": [
        "100965 3.01 (1094, 48) ../htwmusik-models/catalog2-gt-model/SD00600000535/010009.bin.png\r\n",
        "   TRU: u'fugue and scherzo]; Bozza, Eug\\xe8ne: [Divertissement]; Jansen,'\r\n",
        "   ALN: u'fugue and scherzo]; Bozza, Eug\\xe8ne: [Divertissement]; Jansen,'\r\n",
        "   OUT: u'fugue and scherzo]; Bozza, EugBne: [Divertissement]; Jansen,'\r\n"
       ]
      },
      {
       "output_type": "stream",
       "stream": "stdout",
       "text": [
        "100966 7.58 (1110, 48) ../htwmusik-models/catalog2-gt-model/SD00200000003/010003.bin.png\r\n",
        "   TRU: u'Beatkiste : Hit-Rarit\\xe4ten aus dem DDR-Rundfunkarchiv. - Berlin :'\r\n",
        "   ALN: u'Beatiste : Hit-Rarit\\xe4ten aus dem DDR-Rundfunkarchiv. - Berlin :'\r\n",
        "   OUT: u'Beste : Hit-Rarit\\xe4ten aus dem DDR-Rundfunkarchiv. - Berlin :'\r\n"
       ]
      },
      {
       "output_type": "stream",
       "stream": "stdout",
       "text": [
        "100967 3.93 (1190, 48) ../htwmusik-models/catalog2-gt-model/SD00200000003/010008.bin.png\r\n",
        "   TRU: u'Wir gehn zu mir. Der Morgen auf dem Gipfel. Aus dem All. Am Fluss'\r\n",
        "   ALN: u'Wir gehn zu mir. Der Morgen auf dem Gipfel. Aus dem All. Am Fluss'\r\n",
        "   OUT: u'Wir gehn zu mir. Der Morgen auf dem Gipfel. Aus dem All. Am Fluss'\r\n"
       ]
      },
      {
       "output_type": "stream",
       "stream": "stdout",
       "text": [
        "100968 4.38 (1122, 48) ../htwmusik-models/catalog2-gt-model/SD00600000272/010004.bin.png\r\n",
        "   TRU: u'6. - [1999]. - 1 Compact Disc + Beih. - (Bach - Made in Germany : Vol. 1, 6)'\r\n",
        "   ALN: u'6. - [1999]. - 1 Compact Disc + Beih. - (Bach - Made in Germany : Vol. 1, 6)'\r\n",
        "   OUT: u'6. - [1999]. - 1 Compact Disc + Beih. - (Bach - Made in Germany : Vol. 1, 6)'\r\n"
       ]
      },
      {
       "output_type": "stream",
       "stream": "stdout",
       "text": [
        "100969 0.58 (173, 48) ../htwmusik-models/catalog2-gt-model/SD00600000323/010007.bin.png\r\n",
        "   TRU: u'Interpr.'\r\n",
        "   ALN: u'Interpr.'\r\n",
        "   OUT: u'Interpr.'\r\n"
       ]
      },
      {
       "output_type": "stream",
       "stream": "stdout",
       "text": [
        "100970 1.03 (704, 48) ../htwmusik-models/catalog2-gt-model/SD00200000003/010005.bin.png\r\n",
        "   TRU: u'Vol. 4. - [1996]. - 1 Compact Disc + Beih.'\r\n",
        "   ALN: u'Vol. 4. - [1996]. - 1 Compact Disc + Beih.'\r\n",
        "   OUT: u'Vol. 4. - [1996]. - 1 Compact Disc + Beih.'\r\n"
       ]
      },
      {
       "output_type": "stream",
       "stream": "stdout",
       "text": [
        "100971 1.83 (1042, 48) ../htwmusik-models/catalog2-gt-model/SD00600000535/010005.bin.png\r\n",
        "   TRU: u'[Pigs]; Weissenborn, Christian J.: [Stucke, Fg 1 2 3 op. 4 /'\r\n",
        "   ALN: u'[Pigs]; Weissenborn, Christian J.: [Stucke, Fg 1 2 3 op. 4 /'\r\n",
        "   OUT: u'[Pigs]; Weissenborn, Christian J.: [Stucke, Fg 1 2 3 op. 4 /'\r\n"
       ]
      },
      {
       "output_type": "stream",
       "stream": "stdout",
       "text": [
        "100972 1.82 (1114, 48) ../htwmusik-models/catalog2-gt-model/SD00200000003/010007.bin.png\r\n",
        "   TRU: u'Hoffnung. Fort f\\xfcr einen Abend. Welt im Sand. Weisst du noch.'\r\n",
        "   ALN: u'Hoffnung. Fort f\\xfcr einen Abend. Welt im Sand. Weisst du noch.'\r\n",
        "   OUT: u'Hoffnung. Fort f\\xfcr einen Abend. Welt im Sand. Weisst du noch.'\r\n"
       ]
      },
      {
       "output_type": "stream",
       "stream": "stdout",
       "text": [
        "100973 0.20 (119, 48) ../htwmusik-models/catalog2-gt-model/SD00600000323/010001.bin.png\r\n",
        "   TRU: u'CD 38'\r\n",
        "   ALN: u'CD 38'\r\n",
        "   OUT: u'CD 38'\r\n"
       ]
      },
      {
       "output_type": "stream",
       "stream": "stdout",
       "text": [
        "100974 0.61 (173, 48) ../htwmusik-models/catalog2-gt-model/SD00600000323/010007.bin.png\r\n",
        "   TRU: u'Interpr.'\r\n",
        "   ALN: u'Interpr.'\r\n",
        "   OUT: u'Interpr.'\r\n"
       ]
      },
      {
       "output_type": "stream",
       "stream": "stdout",
       "text": [
        "100975 4.57 (832, 48) ../htwmusik-models/catalog2-gt-model/SD00600000258/010001.bin.png\r\n",
        "   TRU: u'2 Gesellschaft der Musikfreunde <Wien> /'\r\n",
        "   ALN: u'2 Gesellschaft der Musikfreunde <Wien> /'\r\n",
        "   OUT: u'\\xe4 Gesellschaft der Musikfreunde <Wien> /'\r\n"
       ]
      },
      {
       "output_type": "stream",
       "stream": "stdout",
       "text": [
        "100976 4.96 (1058, 48) ../htwmusik-models/catalog2-gt-model/SD00600000323/010005.bin.png\r\n",
        "   TRU: u'NE: Rheinberger, Gabriel J.: [Thema mit Ver\\xe4nderungen, V1 1 2'\r\n",
        "   ALN: u'NE: Rheinberger, Gabriel J.: [Thema mit Ver\\xe4nderungen, V1 1 2'\r\n",
        "   OUT: u'NE : Rheinberger, Gabriel J. : [Thema mit Ver\\xe4nderungen, V1 1 2'\r\n"
       ]
      },
      {
       "output_type": "stream",
       "stream": "stdout",
       "text": [
        "100977 1.28 (956, 48) ../htwmusik-models/catalog2-gt-model/SD00600000323/010006.bin.png\r\n",
        "   TRU: u'Va Vc op. 93]; Rheinberger, Gabriel J.: [Nonette op. 139];'\r\n",
        "   ALN: u'Va Vc op. 93]; Rheinberger, Gabriel J.: [Nonette op. 139];'\r\n",
        "   OUT: u'Va Vc op. 93]; Rheinberger, Gabriel J.: [Nonette op. 139];'\r\n"
       ]
      },
      {
       "output_type": "stream",
       "stream": "stdout",
       "text": [
        "100978 0.97 (1141, 48) ../htwmusik-models/catalog2-gt-model/SD00200000003/010009.bin.png\r\n",
        "   TRU: u'die Weide. Einmal unsichtbar sein. Schwester. Heisses Land.'\r\n",
        "   ALN: u'die Weide. Einmal unsichtbar sein. Schwester. Heisses Land.'\r\n",
        "   OUT: u'die Weide. Einmal unsichtbar sein. Schwester. Heisses Land.'\r\n"
       ]
      },
      {
       "output_type": "stream",
       "stream": "stdout",
       "text": [
        "100979 1.58 (1042, 48) ../htwmusik-models/catalog2-gt-model/SD00600000535/010005.bin.png\r\n",
        "   TRU: u'[Pigs]; Weissenborn, Christian J.: [Stucke, Fg 1 2 3 op. 4 /'\r\n",
        "   ALN: u'[Pigs]; Weissenborn, Christian J.: [Stucke, Fg 1 2 3 op. 4 /'\r\n",
        "   OUT: u'[Pigs]; Weissenborn, Christian J.: [Stucke, Fg 1 2 3 op. 4 /'\r\n"
       ]
      },
      {
       "output_type": "stream",
       "stream": "stdout",
       "text": [
        "100980 1.87 (1017, 48) ../htwmusik-models/catalog2-gt-model/SD00600000272/010007.bin.png\r\n",
        "   TRU: u'Interpr.: Taube, Ulrike [Sopr]. Schriever, Gerda [Alt]. Fleischer, Eva'\r\n",
        "   ALN: u'Interpr.: Taube, Ulrike [Sopr]. Schriever, Gerda [Alt]. Fleischer, Eva'\r\n",
        "   OUT: u'Interpr.: Taube, Ulrike [Sopr]. Schriever, Gerda [Alt]. Fleischer, Eva'\r\n"
       ]
      },
      {
       "output_type": "stream",
       "stream": "stdout",
       "text": [
        "100981 1.73 (566, 48) ../htwmusik-models/catalog2-gt-model/SD01200000085/010005.bin.png\r\n",
        "   TRU: u'Best. -Nr. Chandos CHAN 9370/71'\r\n",
        "   ALN: u'Best. -Nr. Chandos CHAN 9370/71'\r\n",
        "   OUT: u'Best.-Nr. Chandos CHAN 9370/71'\r\n"
       ]
      },
      {
       "output_type": "stream",
       "stream": "stdout",
       "text": [
        "100982 0.06 (132, 48) ../htwmusik-models/catalog2-gt-model/SD00200000608/010002.bin.png\r\n",
        "   TRU: u'siehe'\r\n",
        "   ALN: u'siehe'\r\n",
        "   OUT: u'siehe'\r\n"
       ]
      },
      {
       "output_type": "stream",
       "stream": "stdout",
       "text": [
        "100983 2.14 (740, 48) ../htwmusik-models/catalog2-gt-model/SD00200000245/010002.bin.png\r\n",
        "   TRU: u'Reimann Aribert: Das Schloss [Forts.]'\r\n",
        "   ALN: u'Reimann Aribert: Das Schloss [Forts.]'\r\n",
        "   OUT: u'Reimann Aribert: Das  Schloss [Forts.]'\r\n"
       ]
      },
      {
       "output_type": "stream",
       "stream": "stdout",
       "text": [
        "100984 4.27 (1094, 48) ../htwmusik-models/catalog2-gt-model/SD00600000535/010009.bin.png\r\n",
        "   TRU: u'fugue and scherzo]; Bozza, Eug\\xe8ne: [Divertissement]; Jansen,'\r\n",
        "   ALN: u'fugue and scherzo]; Bozza, Eug\\xe8ne: [Divertissement]; Jansen,'\r\n",
        "   OUT: u'fugue and scherzo]; Bozza, Eugne: [Divertissement]; Jansen,'\r\n"
       ]
      },
      {
       "output_type": "stream",
       "stream": "stdout",
       "text": [
        "100985 6.89 (656, 48) ../htwmusik-models/catalog2-gt-model/SD00200000608/010003.bin.png\r\n",
        "   TRU: u'Klav\\u01d0rn\\u01d0 Kvarteto Bohuslava Martim\\u016f'\r\n",
        "   ALN: u'Klav~rn~ Kvarteto Bohuslava Martim~'\r\n",
        "   OUT: u'Klav~rn~ Kvarteto Bohuslava Martim~'\r\n"
       ]
      },
      {
       "output_type": "stream",
       "stream": "stdout",
       "text": [
        "100986 0.94 (440, 48) ../htwmusik-models/catalog2-gt-model/SD00600000535/010002.bin.png\r\n",
        "   TRU: u'Best.-Nr. MD + G L 3379'\r\n",
        "   ALN: u'Best.-Nr. MD + G L 3379'\r\n",
        "   OUT: u'Best.-Nr. MD + G L 3379'\r\n"
       ]
      },
      {
       "output_type": "stream",
       "stream": "stdout",
       "text": [
        "100987 0.66 (281, 48) ../htwmusik-models/catalog2-gt-model/SD01200000085/010002.bin.png\r\n",
        "   TRU: u'55 CD 105 - 1.2'\r\n",
        "   ALN: u'55 CD 105 - 1.2'\r\n",
        "   OUT: u'55 CD 105 - 1.2'\r\n"
       ]
      },
      {
       "output_type": "stream",
       "stream": "stdout",
       "text": [
        "100988 0.45 (173, 48) ../htwmusik-models/catalog2-gt-model/SD00600000323/010007.bin.png\r\n",
        "   TRU: u'Interpr.'\r\n",
        "   ALN: u'Interpr.'\r\n",
        "   OUT: u'Interpr.'\r\n"
       ]
      },
      {
       "output_type": "stream",
       "stream": "stdout",
       "text": [
        "100989 1.28 (762, 48) ../htwmusik-models/catalog2-gt-model/SD00600000258/010005.bin.png\r\n",
        "   TRU: u'NE : Beethoven, Ludwig van: Ser.; Interpr.'\r\n",
        "   ALN: u'NE : Beethoven, Ludwig van: Ser.; Interpr.'\r\n",
        "   OUT: u'NE : Beethoven, Ludwig van: Ser.; Interpr.'\r\n"
       ]
      },
      {
       "output_type": "stream",
       "stream": "stdout",
       "text": [
        "100990 1.47 (1114, 48) ../htwmusik-models/catalog2-gt-model/SD00200000003/010007.bin.png\r\n",
        "   TRU: u'Hoffnung. Fort f\\xfcr einen Abend. Welt im Sand. Weisst du noch.'\r\n",
        "   ALN: u'Hoffnung. Fort f\\xfcr einen Abend. Welt im Sand. Weisst du noch.'\r\n",
        "   OUT: u'Hoffnung. Fort f\\xfcr einen Abend. Welt im Sand. Weisst du noch.'\r\n"
       ]
      },
      {
       "output_type": "stream",
       "stream": "stdout",
       "text": [
        "100991 4.10 (826, 48) ../htwmusik-models/catalog2-gt-model/SD00600000258/010003.bin.png\r\n",
        "   TRU: u'Beethoven Ludwig van: [Sinfonien] [Forts.]'\r\n",
        "   ALN: u'Beethoven Ludwi van: [Sinfonien] [Forts.]'\r\n",
        "   OUT: u'Beethoven Ludwi van: [Sinfonien] [Forts.]'\r\n"
       ]
      },
      {
       "output_type": "stream",
       "stream": "stdout",
       "text": [
        "100992 1.59 (1058, 48) ../htwmusik-models/catalog2-gt-model/SD00600000323/010005.bin.png\r\n",
        "   TRU: u'NE: Rheinberger, Gabriel J.: [Thema mit Ver\\xe4nderungen, V1 1 2'\r\n",
        "   ALN: u'NE: Rheinberger, Gabriel J.: [Thema mit Ver\\xe4nderungen, V1 1 2'\r\n",
        "   OUT: u'NE: Rheinberger, Gabriel J.: [Thema mit Ver\\xe4nderungen, V1 1 2'\r\n"
       ]
      },
      {
       "output_type": "stream",
       "stream": "stdout",
       "text": [
        "100993 1.01 (1141, 48) ../htwmusik-models/catalog2-gt-model/SD00200000003/010009.bin.png\r\n",
        "   TRU: u'die Weide. Einmal unsichtbar sein. Schwester. Heisses Land.'\r\n",
        "   ALN: u'die Weide. Einmal unsichtbar sein. Schwester. Heisses Land.'\r\n",
        "   OUT: u'die Weide. Einmal unsichtbar sein. Schwester. Heisses Land.'\r\n"
       ]
      },
      {
       "output_type": "stream",
       "stream": "stdout",
       "text": [
        "100994 1.08 (566, 48) ../htwmusik-models/catalog2-gt-model/SD01200000085/010005.bin.png\r\n",
        "   TRU: u'Best. -Nr. Chandos CHAN 9370/71'\r\n",
        "   ALN: u'Best. -Nr. Chandos CHAN 9370/71'\r\n",
        "   OUT: u'Best. -Nr. Chandos CHAN 9370/71'\r\n"
       ]
      },
      {
       "output_type": "stream",
       "stream": "stdout",
       "text": [
        "100995 0.09 (176, 48) ../htwmusik-models/catalog2-gt-model/SD00200000003/010001.bin.png\r\n",
        "   TRU: u'Babylon'\r\n",
        "   ALN: u'Babylon'\r\n",
        "   OUT: u'Babylon'\r\n"
       ]
      },
      {
       "output_type": "stream",
       "stream": "stdout",
       "text": [
        "100996 4.13 (1134, 48) ../htwmusik-models/catalog2-gt-model/SD00600000535/010008.bin.png\r\n",
        "   TRU: u'Monti, Vittorio: [Czardas / Arr.]; Jakob, Gordon P.: [Prelude,'\r\n",
        "   ALN: u'Monti, Vittorio: [Czardas / Arr.]; Jakob, Gordon P.: [Prelude,'\r\n",
        "   OUT: u'Monti, Vittorio: [Czardas / Arr.]; Jakob, Gordon P.: [Prelude,'\r\n"
       ]
      },
      {
       "output_type": "stream",
       "stream": "stdout",
       "text": [
        "100997 15.16 (1004, 48) ../htwmusik-models/catalog2-gt-model/SD00200000003/01000c.bin.png\r\n",
        "   TRU: u'Interbr.: Rosalili. Lift. Babylon. Keks. Puhdys. Karat'\r\n",
        "   ALN: u'Interbr.: Rosalili. Lift. Babyon. Keks. Puhdys. Karat'\r\n",
        "   OUT: u'Interbr.: Rosalili. Lift. Babon. Keks. Puhdys. Karat.'\r\n"
       ]
      },
      {
       "output_type": "stream",
       "stream": "stdout",
       "text": [
        "100998 0.30 (141, 48) ../htwmusik-models/catalog2-gt-model/SD00600000535/010003.bin.png\r\n",
        "   TRU: u'CD 317'\r\n",
        "   ALN: u'CD 317'\r\n",
        "   OUT: u'CD 317'\r\n"
       ]
      },
      {
       "output_type": "stream",
       "stream": "stdout",
       "text": [
        "100999 0.26 (141, 48) ../htwmusik-models/catalog2-gt-model/SD00600000535/010003.bin.png\r\n",
        "   TRU: u'CD 317'\r\n",
        "   ALN: u'CD 317'\r\n",
        "   OUT: u'CD 317'\r\n",
        "# saving ../htwmusik-models/catalog2-gt-model.model-00101000.pyrnn.gz\r\n"
       ]
      },
      {
       "output_type": "stream",
       "stream": "stdout",
       "text": [
        "101000 2.13 (740, 48) ../htwmusik-models/catalog2-gt-model/SD00200000245/010002.bin.png\r\n",
        "   TRU: u'Reimann Aribert: Das Schloss [Forts.]'\r\n",
        "   ALN: u'Reimann Aribert: Das Schloss [Forts.]'\r\n",
        "   OUT: u'Reimann Aribert: Das Schloss [Forts.]'\r\n"
       ]
      },
      {
       "output_type": "stream",
       "stream": "stdout",
       "text": [
        "101001 30.34 (405, 48) ../htwmusik-models/catalog2-gt-model/SD00600000272/010002.bin.png\r\n",
        "   TRU: u'Bach, Johann Sebastian:'\r\n",
        "   ALN: u'Bach Johann Sebastian:'\r\n",
        "   OUT: u'B ch J h nn ebastian:'\r\n"
       ]
      },
      {
       "output_type": "stream",
       "stream": "stdout",
       "text": [
        "101002 1.47 (1042, 48) ../htwmusik-models/catalog2-gt-model/SD00600000535/010005.bin.png\r\n",
        "   TRU: u'[Pigs]; Weissenborn, Christian J.: [Stucke, Fg 1 2 3 op. 4 /'\r\n",
        "   ALN: u'[Pigs]; Weissenborn, Christian J.: [Stucke, Fg 1 2 3 op. 4 /'\r\n",
        "   OUT: u'[Pigs]; Weissenborn, Christian J.: [Stucke, Fg 1 2 3 op. 4 /'\r\n"
       ]
      },
      {
       "output_type": "stream",
       "stream": "stdout",
       "text": [
        "101003 3.23 (1007, 48) ../htwmusik-models/catalog2-gt-model/SD00600000272/010009.bin.png\r\n",
        "   TRU: u'[Org]. Ramin, G\\xfcnther [Dir]. Thomanerchor <Leipzig>.'\r\n",
        "   ALN: u'[Org]. Ramin, G\\xfcnther [Dir]. Thomanerchor <Leipzig>.'\r\n",
        "   OUT: u'[Org]. Ramin, G\\xfcnther [Dir]. Thomanerchor <Leipzig>.'\r\n"
       ]
      },
      {
       "output_type": "stream",
       "stream": "stdout",
       "text": [
        "101004 0.91 (762, 48) ../htwmusik-models/catalog2-gt-model/SD00600000258/010005.bin.png\r\n",
        "   TRU: u'NE : Beethoven, Ludwig van: Ser.; Interpr.'\r\n",
        "   ALN: u'NE : Beethoven, Ludwig van: Ser.; Interpr.'\r\n",
        "   OUT: u'NE : Beethoven, Ludwig van: Ser.; Interpr.'\r\n"
       ]
      },
      {
       "output_type": "stream",
       "stream": "stdout",
       "text": [
        "101005 0.08 (176, 48) ../htwmusik-models/catalog2-gt-model/SD00200000003/010001.bin.png\r\n",
        "   TRU: u'Babylon'\r\n",
        "   ALN: u'Babylon'\r\n",
        "   OUT: u'Babylon'\r\n"
       ]
      },
      {
       "output_type": "stream",
       "stream": "stdout",
       "text": [
        "101006 0.86 (704, 48) ../htwmusik-models/catalog2-gt-model/SD00200000003/010005.bin.png\r\n",
        "   TRU: u'Vol. 4. - [1996]. - 1 Compact Disc + Beih.'\r\n",
        "   ALN: u'Vol. 4. - [1996]. - 1 Compact Disc + Beih.'\r\n",
        "   OUT: u'Vol. 4. - [1996]. - 1 Compact Disc + Beih.'\r\n"
       ]
      },
      {
       "output_type": "stream",
       "stream": "stdout",
       "text": [
        "101007 0.70 (888, 48) ../htwmusik-models/catalog2-gt-model/SD01200000085/010003.bin.png\r\n",
        "   TRU: u'Walton William: Troilus and Cressida [Forts.]'\r\n",
        "   ALN: u'Walton William: Troilus and Cressida [Forts.]'\r\n",
        "   OUT: u'Walton William: Troilus and Cressida [Forts.]'\r\n"
       ]
      },
      {
       "output_type": "stream",
       "stream": "stdout",
       "text": [
        "101008 0.11 (132, 48) ../htwmusik-models/catalog2-gt-model/SD00200000608/010002.bin.png\r\n",
        "   TRU: u'siehe'\r\n",
        "   ALN: u'siehe'\r\n",
        "   OUT: u'siehe'\r\n"
       ]
      },
      {
       "output_type": "stream",
       "stream": "stdout",
       "text": [
        "101009 2.39 (288, 48) ../htwmusik-models/catalog2-gt-model/SD00600000272/01000c.bin.png\r\n",
        "   TRU: u'Ne: Ser.; Interpr.'\r\n",
        "   ALN: u'Ne: Ser.; Interpr.'\r\n",
        "   OUT: u'Ne: Ser.; Interpr.'\r\n"
       ]
      },
      {
       "output_type": "stream",
       "stream": "stdout",
       "text": [
        "101010 0.74 (704, 48) ../htwmusik-models/catalog2-gt-model/SD00200000003/010005.bin.png\r\n",
        "   TRU: u'Vol. 4. - [1996]. - 1 Compact Disc + Beih.'\r\n",
        "   ALN: u'Vol. 4. - [1996]. - 1 Compact Disc + Beih.'\r\n",
        "   OUT: u'Vol. 4. - [1996]. - 1 Compact Disc + Beih.'\r\n"
       ]
      },
      {
       "output_type": "stream",
       "stream": "stdout",
       "text": [
        "101011 0.62 (888, 48) ../htwmusik-models/catalog2-gt-model/SD01200000085/010003.bin.png\r\n",
        "   TRU: u'Walton William: Troilus and Cressida [Forts.]'\r\n",
        "   ALN: u'Walton William: Troilus and Cressida [Forts.]'\r\n",
        "   OUT: u'Walton William: Troilus and Cressida [Forts.]'\r\n"
       ]
      },
      {
       "output_type": "stream",
       "stream": "stdout",
       "text": [
        "101012 1.83 (762, 48) ../htwmusik-models/catalog2-gt-model/SD00600000258/010005.bin.png\r\n",
        "   TRU: u'NE : Beethoven, Ludwig van: Ser.; Interpr.'\r\n",
        "   ALN: u'NE : Beethoven, Ludwig van: Ser.; Interpr.'\r\n",
        "   OUT: u'NE : Beethoven, Ludwig van: Ser.; Interpr.'\r\n"
       ]
      },
      {
       "output_type": "stream",
       "stream": "stdout",
       "text": [
        "101013 5.48 (140, 48) ../htwmusik-models/catalog2-gt-model/SD00200000245/010003.bin.png\r\n",
        "   TRU: u'P 1997'\r\n",
        "   ALN: u'P 1997'\r\n",
        "   OUT: u'P 1997.'\r\n"
       ]
      },
      {
       "output_type": "stream",
       "stream": "stdout",
       "text": [
        "101014 2.28 (740, 48) ../htwmusik-models/catalog2-gt-model/SD00200000245/010002.bin.png\r\n",
        "   TRU: u'Reimann Aribert: Das Schloss [Forts.]'\r\n",
        "   ALN: u'Reimann Aribert: Das Schloss [Forts.]'\r\n",
        "   OUT: u'Reimann Aribert: Das Schloss [Forts.]'\r\n"
       ]
      },
      {
       "output_type": "stream",
       "stream": "stdout",
       "text": [
        "101015 0.10 (246, 48) ../htwmusik-models/catalog2-gt-model/SD00600000258/010002.bin.png\r\n",
        "   TRU: u'Singverein'\r\n",
        "   ALN: u'Singverein'\r\n",
        "   OUT: u'Singverein'\r\n"
       ]
      },
      {
       "output_type": "stream",
       "stream": "stdout",
       "text": [
        "101016 0.09 (132, 48) ../htwmusik-models/catalog2-gt-model/SD00200000608/010002.bin.png\r\n",
        "   TRU: u'siehe'\r\n",
        "   ALN: u'siehe'\r\n",
        "   OUT: u'siehe'\r\n"
       ]
      },
      {
       "output_type": "stream",
       "stream": "stdout",
       "text": [
        "101017 0.35 (235, 48) ../htwmusik-models/catalog2-gt-model/SD00200000245/010005.bin.png\r\n",
        "   TRU: u'NE: Interpr.'\r\n",
        "   ALN: u'NE: Interpr.'\r\n",
        "   OUT: u'NE: Interpr.'\r\n"
       ]
      },
      {
       "output_type": "stream",
       "stream": "stdout",
       "text": [
        "101018 4.44 (566, 48) ../htwmusik-models/catalog2-gt-model/SD00200000608/010001.bin.png\r\n",
        "   TRU: u'Bohuslav Martim\\u016f Piano Quartet'\r\n",
        "   ALN: u'Bohuslav Martim~ Piano Quartet'\r\n",
        "   OUT: u'Bohuslav Martim~ Piano uartet'\r\n"
       ]
      },
      {
       "output_type": "stream",
       "stream": "stdout",
       "text": [
        "101019 1.99 (1072, 48) ../htwmusik-models/catalog2-gt-model/SD00600000535/010007.bin.png\r\n",
        "   TRU: u'[Foxtrott / Arr.]; Schickele, Peter: [Last Tango in Bayreuth];'\r\n",
        "   ALN: u'[Foxtrott / Arr.]; Schickele, Peter: [Last Tango in Bayreuth];'\r\n",
        "   OUT: u'[Foxtrott / Arr.]; Schickele, Peter: [Last Tango in Bayreuth];'\r\n"
       ]
      },
      {
       "output_type": "stream",
       "stream": "stdout",
       "text": [
        "101020 2.30 (1017, 48) ../htwmusik-models/catalog2-gt-model/SD00600000272/010001.bin.png\r\n",
        "   TRU: u'Gewandhausorchester <Leipzig> 55 CD 1779 - 1,6'\r\n",
        "   ALN: u'Gewandhausorchester <Leipzig> 55 CD 1779 - 1,6'\r\n",
        "   OUT: u'Gewandhausorchester <Leipzig> 55 CD 1779 - 1,6'\r\n"
       ]
      },
      {
       "output_type": "stream",
       "stream": "stdout",
       "text": [
        "101021 4.29 (826, 48) ../htwmusik-models/catalog2-gt-model/SD00600000258/010003.bin.png\r\n",
        "   TRU: u'Beethoven Ludwig van: [Sinfonien] [Forts.]'\r\n",
        "   ALN: u'Beethoven Ludwi van: [Sinfonien] [Forts.]'\r\n",
        "   OUT: u'Beethoven Ludwi van: [Sinfonien] [Forts.]'\r\n"
       ]
      },
      {
       "output_type": "stream",
       "stream": "stdout",
       "text": [
        "101022 1.53 (1114, 48) ../htwmusik-models/catalog2-gt-model/SD00200000003/010007.bin.png\r\n",
        "   TRU: u'Hoffnung. Fort f\\xfcr einen Abend. Welt im Sand. Weisst du noch.'\r\n",
        "   ALN: u'Hoffnung. Fort f\\xfcr einen Abend. Welt im Sand. Weisst du noch.'\r\n",
        "   OUT: u'Hoffnung. Fort f\\xfcr einen Abend. Welt im Sand. Weisst du noch.'\r\n"
       ]
      },
      {
       "output_type": "stream",
       "stream": "stdout",
       "text": [
        "101023 1.05 (1141, 48) ../htwmusik-models/catalog2-gt-model/SD00200000003/010009.bin.png\r\n",
        "   TRU: u'die Weide. Einmal unsichtbar sein. Schwester. Heisses Land.'\r\n",
        "   ALN: u'die Weide. Einmal unsichtbar sein. Schwester. Heisses Land.'\r\n",
        "   OUT: u'die Weide. Einmal unsichtbar sein. Schwester. Heisses Land.'\r\n"
       ]
      },
      {
       "output_type": "stream",
       "stream": "stdout",
       "text": [
        "101024 6.37 (1185, 48) ../htwmusik-models/catalog2-gt-model/SD00200000003/010006.bin.png\r\n",
        "   TRU: u'Enth.: Jagd auf Liebe. Steigen Nebel. Zu Fuss. Tshgiten-Legende'\r\n",
        "   ALN: u'Enth.: Jagd auf Liebe. Steigen Nebel. Zu Fuss. Tshgiten-Legende'\r\n",
        "   OUT: u'Enth.: Jagd auf Liebe. Steigen Nebel. Zu Fuss. Tshgiten-Legende.'\r\n"
       ]
      },
      {
       "output_type": "stream",
       "stream": "stdout",
       "text": [
        "101025 14.70 (805, 48) ../htwmusik-models/catalog2-gt-model/SD01200000085/010006.bin.png\r\n",
        "   TRU: u'Ne : Hassall, Christopher [Textverf.]; Interpr.'\r\n",
        "   ALN: u'Ne : Hassall, Christopher [Textverf.]; Interpr.'\r\n",
        "   OUT: u'NE: Hassall, Christopher [Textverf.]; Interpr.'\r\n"
       ]
      },
      {
       "output_type": "stream",
       "stream": "stdout",
       "text": [
        "101026 0.72 (275, 48) ../htwmusik-models/catalog2-gt-model/SD00200000003/010002.bin.png\r\n",
        "   TRU: u'55 CD 289 - 4'\r\n",
        "   ALN: u'55 CD 289 - 4'\r\n",
        "   OUT: u'55 CD 289 - 4'\r\n"
       ]
      },
      {
       "output_type": "stream",
       "stream": "stdout",
       "text": [
        "101027 0.53 (704, 48) ../htwmusik-models/catalog2-gt-model/SD00200000003/010005.bin.png\r\n",
        "   TRU: u'Vol. 4. - [1996]. - 1 Compact Disc + Beih.'\r\n",
        "   ALN: u'Vol. 4. - [1996]. - 1 Compact Disc + Beih.'\r\n",
        "   OUT: u'Vol. 4. - [1996]. - 1 Compact Disc + Beih.'\r\n"
       ]
      },
      {
       "output_type": "stream",
       "stream": "stdout",
       "text": [
        "101028 0.36 (173, 48) ../htwmusik-models/catalog2-gt-model/SD00600000323/010007.bin.png\r\n",
        "   TRU: u'Interpr.'\r\n",
        "   ALN: u'Interpr.'\r\n",
        "   OUT: u'Interpr.'\r\n"
       ]
      },
      {
       "output_type": "stream",
       "stream": "stdout",
       "text": [
        "101029 1.40 (1114, 48) ../htwmusik-models/catalog2-gt-model/SD00200000003/010007.bin.png\r\n",
        "   TRU: u'Hoffnung. Fort f\\xfcr einen Abend. Welt im Sand. Weisst du noch.'\r\n",
        "   ALN: u'Hoffnung. Fort f\\xfcr einen Abend. Welt im Sand. Weisst du noch.'\r\n",
        "   OUT: u'Hoffnung. Fort f\\xfcr einen Abend. Welt im Sand. Weisst du noch.'\r\n"
       ]
      },
      {
       "output_type": "stream",
       "stream": "stdout",
       "text": [
        "101030 0.35 (173, 48) ../htwmusik-models/catalog2-gt-model/SD00600000323/010007.bin.png\r\n",
        "   TRU: u'Interpr.'\r\n",
        "   ALN: u'Interpr.'\r\n",
        "   OUT: u'Interpr.'\r\n"
       ]
      },
      {
       "output_type": "stream",
       "stream": "stdout",
       "text": [
        "101031 1.42 (864, 48) ../htwmusik-models/catalog2-gt-model/SD00600000272/010003.bin.png\r\n",
        "   TRU: u'[Kantaten / Ausw.] Cantatas / Bach. - Hamburg : Edel.'\r\n",
        "   ALN: u'[Kantaten / Ausw.] Cantatas / Bach. - Hamburg : Edel.'\r\n",
        "   OUT: u'[Kantaten / Ausw.] Cantatas / Bach. - Hamburg : Edel.'\r\n"
       ]
      },
      {
       "output_type": "stream",
       "stream": "stdout",
       "text": [
        "101032 1.61 (730, 48) ../htwmusik-models/catalog2-gt-model/SD00600000258/010004.bin.png\r\n",
        "   TRU: u'Best.-Nr. Deutsche Grammophon 453 701-2'\r\n",
        "   ALN: u'Best.-Nr. Deutsche Grammophon 453 701-2'\r\n",
        "   OUT: u'Best.-Nr. Deutsche Grammophon 453 701-2'\r\n"
       ]
      },
      {
       "output_type": "stream",
       "stream": "stdout",
       "text": [
        "101033 4.54 (140, 48) ../htwmusik-models/catalog2-gt-model/SD00200000245/010003.bin.png\r\n",
        "   TRU: u'P 1997'\r\n",
        "   ALN: u'P 1997'\r\n",
        "   OUT: u'P 1997.'\r\n"
       ]
      },
      {
       "output_type": "stream",
       "stream": "stdout",
       "text": [
        "101034 1.25 (730, 48) ../htwmusik-models/catalog2-gt-model/SD00600000258/010004.bin.png\r\n",
        "   TRU: u'Best.-Nr. Deutsche Grammophon 453 701-2'\r\n",
        "   ALN: u'Best.-Nr. Deutsche Grammophon 453 701-2'\r\n",
        "   OUT: u'Best.-Nr. Deutsche Grammophon 453 701-2'\r\n"
       ]
      },
      {
       "output_type": "stream",
       "stream": "stdout",
       "text": [
        "101035 3.26 (1134, 48) ../htwmusik-models/catalog2-gt-model/SD00600000535/010008.bin.png\r\n",
        "   TRU: u'Monti, Vittorio: [Czardas / Arr.]; Jakob, Gordon P.: [Prelude,'\r\n",
        "   ALN: u'Monti, Vittorio: [Czardas / Arr.]; Jakob, Gordon P.: [Prelude,'\r\n",
        "   OUT: u'Monti, Vittorio: [Czardas / Arr.]; Jakob, Gordon P.: [Prelude,'\r\n"
       ]
      },
      {
       "output_type": "stream",
       "stream": "stdout",
       "text": [
        "101036 0.50 (258, 48) ../htwmusik-models/catalog2-gt-model/SD00600000258/010006.bin.png\r\n",
        "   TRU: u'55 CD 77 - 1'\r\n",
        "   ALN: u'55 CD 77 - 1'\r\n",
        "   OUT: u'55 CD 77 - 1'\r\n"
       ]
      },
      {
       "output_type": "stream",
       "stream": "stdout",
       "text": [
        "101037 2.74 (1017, 48) ../htwmusik-models/catalog2-gt-model/SD00600000272/010001.bin.png\r\n",
        "   TRU: u'Gewandhausorchester <Leipzig> 55 CD 1779 - 1,6'\r\n",
        "   ALN: u'Gewandhausorchester <Leipzig> 55 CD 1779 - 1,6'\r\n",
        "   OUT: u'Gewandhausorchester <Leipzig> 55 CD 1779 - 1,6'\r\n"
       ]
      },
      {
       "output_type": "stream",
       "stream": "stdout",
       "text": [
        "101038 0.44 (258, 48) ../htwmusik-models/catalog2-gt-model/SD00600000258/010006.bin.png\r\n",
        "   TRU: u'55 CD 77 - 1'\r\n",
        "   ALN: u'55 CD 77 - 1'\r\n",
        "   OUT: u'55 CD 77 - 1'\r\n"
       ]
      },
      {
       "output_type": "stream",
       "stream": "stdout",
       "text": [
        "101039 0.99 (288, 48) ../htwmusik-models/catalog2-gt-model/SD00600000272/01000c.bin.png\r\n",
        "   TRU: u'Ne: Ser.; Interpr.'\r\n",
        "   ALN: u'Ne: Ser.; Interpr.'\r\n",
        "   OUT: u'Ne: Ser.; Interpr.'\r\n"
       ]
      },
      {
       "output_type": "stream",
       "stream": "stdout",
       "text": [
        "101040 2.24 (1114, 48) ../htwmusik-models/catalog2-gt-model/SD00600000272/01000a.bin.png\r\n",
        "   TRU: u'Gewandhausorchester <Leipzig>... - Auf.: 1949 - 1954. - P 1965 - 1966'\r\n",
        "   ALN: u'Gewandhausorchester <Leipzig>... - Auf.: 1949 - 1954. - P 1965 - 1966'\r\n",
        "   OUT: u'Gewandhausorchester <Leipzig>... - Auf.: 1949 - 1954. - P 1965 - 1966'\r\n"
       ]
      },
      {
       "output_type": "stream",
       "stream": "stdout",
       "text": [
        "101041 2.21 (1075, 48) ../htwmusik-models/catalog2-gt-model/SD00600000535/010006.bin.png\r\n",
        "   TRU: u'Ausw.]; Voert, Georg ter: [Polka in Swing]; Seiber, M\\xe1ty\\xe1s G.:'\r\n",
        "   ALN: u'Ausw.]; Voert, Georg ter: [Polka in Swing]; Seiber, M~ty~s G.:'\r\n",
        "   OUT: u'Ausw.]; Voert, Georg ter: [Polka in Swing]; Seiber, M~ty~s G.:'\r\n"
       ]
      },
      {
       "output_type": "stream",
       "stream": "stdout",
       "text": [
        "101042 0.66 (888, 48) ../htwmusik-models/catalog2-gt-model/SD01200000085/010003.bin.png\r\n",
        "   TRU: u'Walton William: Troilus and Cressida [Forts.]'\r\n",
        "   ALN: u'Walton William: Troilus and Cressida [Forts.]'\r\n",
        "   OUT: u'Walton William: Troilus and Cressida [Forts.]'\r\n"
       ]
      },
      {
       "output_type": "stream",
       "stream": "stdout",
       "text": [
        "101043 2.20 (1014, 48) ../htwmusik-models/catalog2-gt-model/SD00600000272/010008.bin.png\r\n",
        "   TRU: u'[Alt]. Lutze, Gert [Ten]. Hauptmann, Hans [Bass]. K\\xe4stner, Hannes'\r\n",
        "   ALN: u'[Alt]. Lutze, Gert [Ten]. Hauptmann, Hans [Bass]. K\\xe4stner, Hannes'\r\n",
        "   OUT: u'[Alt]. Lutze, Gert [Ten]. Hauptmann, Hans [Bass]. K\\xe4stner, Hannes'\r\n"
       ]
      },
      {
       "output_type": "stream",
       "stream": "stdout",
       "text": [
        "101044 0.57 (258, 48) ../htwmusik-models/catalog2-gt-model/SD00600000258/010006.bin.png\r\n",
        "   TRU: u'55 CD 77 - 1'\r\n",
        "   ALN: u'55 CD 77 - 1'\r\n",
        "   OUT: u'55 CD 77 - 1'\r\n"
       ]
      },
      {
       "output_type": "stream",
       "stream": "stdout",
       "text": [
        "101045 0.07 (176, 48) ../htwmusik-models/catalog2-gt-model/SD00200000003/010001.bin.png\r\n",
        "   TRU: u'Babylon'\r\n",
        "   ALN: u'Babylon'\r\n",
        "   OUT: u'Babylon'\r\n"
       ]
      },
      {
       "output_type": "stream",
       "stream": "stdout",
       "text": [
        "101046 1.31 (1072, 48) ../htwmusik-models/catalog2-gt-model/SD00600000535/010007.bin.png\r\n",
        "   TRU: u'[Foxtrott / Arr.]; Schickele, Peter: [Last Tango in Bayreuth];'\r\n",
        "   ALN: u'[Foxtrott / Arr.]; Schickele, Peter: [Last Tango in Bayreuth];'\r\n",
        "   OUT: u'[Foxtrott / Arr.]; Schickele, Peter: [Last Tango in Bayreuth];'\r\n"
       ]
      },
      {
       "output_type": "stream",
       "stream": "stdout",
       "text": [
        "101047 1.28 (1114, 48) ../htwmusik-models/catalog2-gt-model/SD00600000272/01000a.bin.png\r\n",
        "   TRU: u'Gewandhausorchester <Leipzig>... - Auf.: 1949 - 1954. - P 1965 - 1966'\r\n",
        "   ALN: u'Gewandhausorchester <Leipzig>... - Auf.: 1949 - 1954. - P 1965 - 1966'\r\n",
        "   OUT: u'Gewandhausorchester <Leipzig>... - Auf.: 1949 - 1954. - P 1965 - 1966'\r\n"
       ]
      },
      {
       "output_type": "stream",
       "stream": "stdout",
       "text": [
        "101048 10.19 (400, 48) ../htwmusik-models/catalog2-gt-model/SD00600000535/010001.bin.png\r\n",
        "   TRU: u'Fagottissimo [Forts.]'\r\n",
        "   ALN: u'Fagottissimo [Forts.]'\r\n",
        "   OUT: u'Fa ottissimo [Forts.]'\r\n"
       ]
      },
      {
       "output_type": "stream",
       "stream": "stdout",
       "text": [
        "101049 0.45 (277, 48) ../htwmusik-models/catalog2-gt-model/SD00200000003/01000b.bin.png\r\n",
        "   TRU: u'weiterf\\xfchren.'\r\n",
        "   ALN: u'weiterf\\xfchren.'\r\n",
        "   OUT: u'weiterf\\xfchren.'\r\n"
       ]
      },
      {
       "output_type": "stream",
       "stream": "stdout",
       "text": [
        "101050 1.34 (1114, 48) ../htwmusik-models/catalog2-gt-model/SD00600000272/01000a.bin.png\r\n",
        "   TRU: u'Gewandhausorchester <Leipzig>... - Auf.: 1949 - 1954. - P 1965 - 1966'\r\n",
        "   ALN: u'Gewandhausorchester <Leipzig>... - Auf.: 1949 - 1954. - P 1965 - 1966'\r\n",
        "   OUT: u'Gewandhausorchester <Leipzig>... - Auf.: 1949 - 1954. - P 1965 - 1966'\r\n"
       ]
      },
      {
       "output_type": "stream",
       "stream": "stdout",
       "text": [
        "101051 1.03 (146, 48) ../htwmusik-models/catalog2-gt-model/SD01200000085/010004.bin.png\r\n",
        "   TRU: u'P 1995.'\r\n",
        "   ALN: u'P 1995.'\r\n",
        "   OUT: u'P 1995.'\r\n"
       ]
      },
      {
       "output_type": "stream",
       "stream": "stdout",
       "text": [
        "101052 0.93 (861, 48) ../htwmusik-models/catalog2-gt-model/SD00200000245/010001.bin.png\r\n",
        "   TRU: u'Bayerisches Staatsorchester <M\\xfcnchen>'\r\n",
        "   ALN: u'Bayerisches Staatsorchester <M\\xfcnchen>'\r\n",
        "   OUT: u'Bayerisches Staatsorchester <M\\xfcnchen>'\r\n"
       ]
      },
      {
       "output_type": "stream",
       "stream": "stdout",
       "text": [
        "101053 2.28 (1075, 48) ../htwmusik-models/catalog2-gt-model/SD00600000535/010006.bin.png\r\n",
        "   TRU: u'Ausw.]; Voert, Georg ter: [Polka in Swing]; Seiber, M\\xe1ty\\xe1s G.:'\r\n",
        "   ALN: u'Ausw.]; Voert, Georg ter: [Polka in Swing]; Seiber, M~ty~s G.:'\r\n",
        "   OUT: u'Ausw.]; Voert, Georg ter: [Polka in Swing]; Seiber, M~ty~s G.:'\r\n"
       ]
      },
      {
       "output_type": "stream",
       "stream": "stdout",
       "text": [
        "101054 3.48 (832, 48) ../htwmusik-models/catalog2-gt-model/SD00600000258/010001.bin.png\r\n",
        "   TRU: u'2 Gesellschaft der Musikfreunde <Wien> /'\r\n",
        "   ALN: u'2 Gesellschaft der Musikfreunde <Wien> /'\r\n",
        "   OUT: u'\\xe4 Gesellschaft der Musikfreunde <Wien> /'\r\n"
       ]
      },
      {
       "output_type": "stream",
       "stream": "stdout",
       "text": [
        "101055 3.67 (788, 48) ../htwmusik-models/catalog2-gt-model/SD00600000272/010006.bin.png\r\n",
        "   TRU: u'Jesu Christ BWV 177. Ein ungef\\xe4rbt Gem\\xfcte BWV 24.'\r\n",
        "   ALN: u'Jesu Christ BWV 177. Ein ungef\\xe4rbt Gem\\xfcte BWV 24.'\r\n",
        "   OUT: u'Jesu Christ BWV 177. Ein ungef\\xe4rbt Gem\\xfcte BWV 24.'\r\n"
       ]
      },
      {
       "output_type": "stream",
       "stream": "stdout",
       "text": [
        "101056 2.61 (1134, 48) ../htwmusik-models/catalog2-gt-model/SD00600000535/010008.bin.png\r\n",
        "   TRU: u'Monti, Vittorio: [Czardas / Arr.]; Jakob, Gordon P.: [Prelude,'\r\n",
        "   ALN: u'Monti, Vittorio: [Czardas / Arr.]; Jakob, Gordon P.: [Prelude,'\r\n",
        "   OUT: u'Monti, Vittorio: [Czardas / Arr.]; Jakob, Gordon P.: [Prelude,'\r\n"
       ]
      },
      {
       "output_type": "stream",
       "stream": "stdout",
       "text": [
        "101057 5.32 (1024, 48) ../htwmusik-models/catalog2-gt-model/SD00600000535/010004.bin.png\r\n",
        "   TRU: u'NE: Fu\\u010dik, Julius: [Vstup gladi\\xe1tor\\u016f / Arr.]; Ridout, Alan:'\r\n",
        "   ALN: u'NE: Fu~ik, Julius: [Vstup gladi~tor~ / Arr.]; Ridout, Alan:'\r\n",
        "   OUT: u'NE: Fu~ik, Julius: [Vstup gladi~tor~ / Arr.]; Ridout, Alan:'\r\n"
       ]
      },
      {
       "output_type": "stream",
       "stream": "stdout",
       "text": [
        "101058 0.67 (275, 48) ../htwmusik-models/catalog2-gt-model/SD00200000003/010002.bin.png\r\n",
        "   TRU: u'55 CD 289 - 4'\r\n",
        "   ALN: u'55 CD 289 - 4'\r\n",
        "   OUT: u'55 CD 289 - 4'\r\n"
       ]
      },
      {
       "output_type": "stream",
       "stream": "stdout",
       "text": [
        "101059 6.94 (656, 48) ../htwmusik-models/catalog2-gt-model/SD00200000608/010003.bin.png\r\n",
        "   TRU: u'Klav\\u01d0rn\\u01d0 Kvarteto Bohuslava Martim\\u016f'\r\n",
        "   ALN: u'Klav~rn~ Kvarteto Bohuslava Martim~'\r\n",
        "   OUT: u'Klav~rn~ Kvarteto Bohuslava Martim~'\r\n"
       ]
      },
      {
       "output_type": "stream",
       "stream": "stdout",
       "text": [
        "101060 0.85 (861, 48) ../htwmusik-models/catalog2-gt-model/SD00200000245/010001.bin.png\r\n",
        "   TRU: u'Bayerisches Staatsorchester <M\\xfcnchen>'\r\n",
        "   ALN: u'Bayerisches Staatsorchester <M\\xfcnchen>'\r\n",
        "   OUT: u'Bayerisches Staatsorchester <M\\xfcnchen>'\r\n"
       ]
      },
      {
       "output_type": "stream",
       "stream": "stdout",
       "text": [
        "101061 0.97 (661, 48) ../htwmusik-models/catalog2-gt-model/SD01200000085/010001.bin.png\r\n",
        "   TRU: u'Opera North <Leeds> / Chorus'\r\n",
        "   ALN: u'Opera North <Leeds> / Chorus'\r\n",
        "   OUT: u'Opera North <Leeds> / Chorus'\r\n"
       ]
      },
      {
       "output_type": "stream",
       "stream": "stdout",
       "text": [
        "101062 0.58 (470, 48) ../htwmusik-models/catalog2-gt-model/SD00600000323/010004.bin.png\r\n",
        "   TRU: u'Best.-Nr. Capella CTH 2061'\r\n",
        "   ALN: u'Best.-Nr. Capella CTH 2061'\r\n",
        "   OUT: u'Best.-Nr. Capella CTH 2061'\r\n"
       ]
      },
      {
       "output_type": "stream",
       "stream": "stdout",
       "text": [
        "101063 3.51 (832, 48) ../htwmusik-models/catalog2-gt-model/SD00600000258/010001.bin.png\r\n",
        "   TRU: u'2 Gesellschaft der Musikfreunde <Wien> /'\r\n",
        "   ALN: u'2 Gesellschaft der Musikfreunde <Wien> /'\r\n",
        "   OUT: u'\\xe4 Gesellschaft der Musikfreunde <Wien> /'\r\n"
       ]
      },
      {
       "output_type": "stream",
       "stream": "stdout",
       "text": [
        "101064 0.05 (132, 48) ../htwmusik-models/catalog2-gt-model/SD00200000608/010002.bin.png\r\n",
        "   TRU: u'siehe'\r\n",
        "   ALN: u'siehe'\r\n",
        "   OUT: u'siehe'\r\n"
       ]
      },
      {
       "output_type": "stream",
       "stream": "stdout",
       "text": [
        "101065 4.26 (140, 48) ../htwmusik-models/catalog2-gt-model/SD00200000245/010003.bin.png\r\n",
        "   TRU: u'P 1997'\r\n",
        "   ALN: u'P 1997'\r\n",
        "   OUT: u'P 1997.'\r\n"
       ]
      },
      {
       "output_type": "stream",
       "stream": "stdout",
       "text": [
        "101066 0.35 (258, 48) ../htwmusik-models/catalog2-gt-model/SD00600000258/010006.bin.png\r\n",
        "   TRU: u'55 CD 77 - 1'\r\n",
        "   ALN: u'55 CD 77 - 1'\r\n",
        "   OUT: u'55 CD 77 - 1'\r\n"
       ]
      },
      {
       "output_type": "stream",
       "stream": "stdout",
       "text": [
        "101067 0.07 (246, 48) ../htwmusik-models/catalog2-gt-model/SD00600000258/010002.bin.png\r\n",
        "   TRU: u'Singverein'\r\n",
        "   ALN: u'Singverein'\r\n",
        "   OUT: u'Singverein'\r\n"
       ]
      },
      {
       "output_type": "stream",
       "stream": "stdout",
       "text": [
        "101068 0.67 (1141, 48) ../htwmusik-models/catalog2-gt-model/SD00200000003/010009.bin.png\r\n",
        "   TRU: u'die Weide. Einmal unsichtbar sein. Schwester. Heisses Land.'\r\n",
        "   ALN: u'die Weide. Einmal unsichtbar sein. Schwester. Heisses Land.'\r\n",
        "   OUT: u'die Weide. Einmal unsichtbar sein. Schwester. Heisses Land.'\r\n"
       ]
      },
      {
       "output_type": "stream",
       "stream": "stdout",
       "text": [
        "101069 0.61 (146, 48) ../htwmusik-models/catalog2-gt-model/SD01200000085/010004.bin.png\r\n",
        "   TRU: u'P 1995.'\r\n",
        "   ALN: u'P 1995.'\r\n",
        "   OUT: u'P 1995.'\r\n"
       ]
      },
      {
       "output_type": "stream",
       "stream": "stdout",
       "text": [
        "101070 0.92 (730, 48) ../htwmusik-models/catalog2-gt-model/SD00600000258/010004.bin.png\r\n",
        "   TRU: u'Best.-Nr. Deutsche Grammophon 453 701-2'\r\n",
        "   ALN: u'Best.-Nr. Deutsche Grammophon 453 701-2'\r\n",
        "   OUT: u'Best.-Nr. Deutsche Grammophon 453 701-2'\r\n"
       ]
      },
      {
       "output_type": "stream",
       "stream": "stdout",
       "text": [
        "101071 2.90 (1134, 48) ../htwmusik-models/catalog2-gt-model/SD00600000535/010008.bin.png\r\n",
        "   TRU: u'Monti, Vittorio: [Czardas / Arr.]; Jakob, Gordon P.: [Prelude,'\r\n",
        "   ALN: u'Monti, Vittorio: [Czardas / Arr.]; Jakob, Gordon P.: [Prelude,'\r\n",
        "   OUT: u'Monti, Vittorio: [Czardas / Arr.]; Jakob, Gordon P.: [Prelude,'\r\n"
       ]
      },
      {
       "output_type": "stream",
       "stream": "stdout",
       "text": [
        "101072 1.77 (1014, 48) ../htwmusik-models/catalog2-gt-model/SD00600000272/010008.bin.png\r\n",
        "   TRU: u'[Alt]. Lutze, Gert [Ten]. Hauptmann, Hans [Bass]. K\\xe4stner, Hannes'\r\n",
        "   ALN: u'[Alt]. Lutze, Gert [Ten]. Hauptmann, Hans [Bass]. K\\xe4stner, Hannes'\r\n",
        "   OUT: u'[Alt]. Lutze, Gert [Ten]. Hauptmann, Hans [Bass]. K\\xe4stner, Hannes'\r\n"
       ]
      },
      {
       "output_type": "stream",
       "stream": "stdout",
       "text": [
        "101073 0.49 (141, 48) ../htwmusik-models/catalog2-gt-model/SD00600000535/010003.bin.png\r\n",
        "   TRU: u'CD 317'\r\n",
        "   ALN: u'CD 317'\r\n",
        "   OUT: u'CD 317'\r\n"
       ]
      },
      {
       "output_type": "stream",
       "stream": "stdout",
       "text": [
        "101074 0.23 (119, 48) ../htwmusik-models/catalog2-gt-model/SD00600000323/010001.bin.png\r\n",
        "   TRU: u'CD 38'\r\n",
        "   ALN: u'CD 38'\r\n",
        "   OUT: u'CD 38'\r\n"
       ]
      },
      {
       "output_type": "stream",
       "stream": "stdout",
       "text": [
        "101075 7.25 (497, 48) ../htwmusik-models/catalog2-gt-model/SD00200000245/010004.bin.png\r\n",
        "   TRU: u'Best.-Nr. Wergo Wer 6614-2'\r\n",
        "   ALN: u'Best.-Nr. Wergo Wer 6614-2'\r\n",
        "   OUT: u'Best.-Nr. Wergo WER 6614-2'\r\n"
       ]
      },
      {
       "output_type": "stream",
       "stream": "stdout",
       "text": [
        "101076 0.12 (173, 48) ../htwmusik-models/catalog2-gt-model/SD00600000323/010007.bin.png\r\n",
        "   TRU: u'Interpr.'\r\n",
        "   ALN: u'Interpr.'\r\n",
        "   OUT: u'Interpr.'\r\n"
       ]
      },
      {
       "output_type": "stream",
       "stream": "stdout",
       "text": [
        "101077 4.24 (1094, 48) ../htwmusik-models/catalog2-gt-model/SD00600000535/010009.bin.png\r\n",
        "   TRU: u'fugue and scherzo]; Bozza, Eug\\xe8ne: [Divertissement]; Jansen,'\r\n",
        "   ALN: u'fugue and scherzo]; Bozza, Eug\\xe8ne: [Divertissement]; Jansen,'\r\n",
        "   OUT: u'fugue and scherzo]; Bozza, Eugne: [Divertissement]; Jansen,'\r\n"
       ]
      },
      {
       "output_type": "stream",
       "stream": "stdout",
       "text": [
        "101078 6.10 (1185, 48) ../htwmusik-models/catalog2-gt-model/SD00200000003/010006.bin.png\r\n",
        "   TRU: u'Enth.: Jagd auf Liebe. Steigen Nebel. Zu Fuss. Tshgiten-Legende'\r\n",
        "   ALN: u'Enth.: Jagd auf Liebe. Steigen Nebel. Zu Fuss. Tshgiten-Legende'\r\n",
        "   OUT: u'Enth.: Jagd auf Liebe. Steigen Nebel. Zu Fuss. Tshgiten-Legende.'\r\n"
       ]
      },
      {
       "output_type": "stream",
       "stream": "stdout",
       "text": [
        "101079 9.49 (1110, 48) ../htwmusik-models/catalog2-gt-model/SD00200000003/010003.bin.png\r\n",
        "   TRU: u'Beatkiste : Hit-Rarit\\xe4ten aus dem DDR-Rundfunkarchiv. - Berlin :'\r\n",
        "   ALN: u'Beatistte : Hit-Rarit\\xe4ten aus dem DDR-Rundfunkarchiv. - Berlin :'\r\n",
        "   OUT: u'Betsete : Hit-Rarit\\xe4ten aus dem DDR-Rundfunkarchiv. - Berlin :'\r\n"
       ]
      },
      {
       "output_type": "stream",
       "stream": "stdout",
       "text": [
        "101080 0.93 (864, 48) ../htwmusik-models/catalog2-gt-model/SD00600000272/010003.bin.png\r\n",
        "   TRU: u'[Kantaten / Ausw.] Cantatas / Bach. - Hamburg : Edel.'\r\n",
        "   ALN: u'[Kantaten / Ausw.] Cantatas / Bach. - Hamburg : Edel.'\r\n",
        "   OUT: u'[Kantaten / Ausw.] Cantatas / Bach. - Hamburg : Edel.'\r\n"
       ]
      },
      {
       "output_type": "stream",
       "stream": "stdout",
       "text": [
        "101081 0.32 (258, 48) ../htwmusik-models/catalog2-gt-model/SD00600000258/010006.bin.png\r\n",
        "   TRU: u'55 CD 77 - 1'\r\n",
        "   ALN: u'55 CD 77 - 1'\r\n",
        "   OUT: u'55 CD 77 - 1'\r\n"
       ]
      },
      {
       "output_type": "stream",
       "stream": "stdout",
       "text": [
        "101082 0.35 (141, 48) ../htwmusik-models/catalog2-gt-model/SD00600000535/010003.bin.png\r\n",
        "   TRU: u'CD 317'\r\n",
        "   ALN: u'CD 317'\r\n",
        "   OUT: u'CD 317'\r\n"
       ]
      },
      {
       "output_type": "stream",
       "stream": "stdout",
       "text": [
        "101083 1.85 (1058, 48) ../htwmusik-models/catalog2-gt-model/SD00600000323/010005.bin.png\r\n",
        "   TRU: u'NE: Rheinberger, Gabriel J.: [Thema mit Ver\\xe4nderungen, V1 1 2'\r\n",
        "   ALN: u'NE: Rheinberger, Gabriel J.: [Thema mit Ver\\xe4nderungen, V1 1 2'\r\n",
        "   OUT: u'NE: Rheinberger, Gabriel J.: [Thema mit Ver\\xe4nderungen, V1 1 2'\r\n"
       ]
      },
      {
       "output_type": "stream",
       "stream": "stdout",
       "text": [
        "101084 2.51 (1190, 48) ../htwmusik-models/catalog2-gt-model/SD00200000003/010008.bin.png\r\n",
        "   TRU: u'Wir gehn zu mir. Der Morgen auf dem Gipfel. Aus dem All. Am Fluss'\r\n",
        "   ALN: u'Wir gehn zu mir. Der Morgen auf dem Gipfel. Aus dem All. Am Fluss'\r\n",
        "   OUT: u'Wir gehn zu mir. Der Morgen auf dem Gipfel. Aus dem All. Am Fluss'\r\n"
       ]
      },
      {
       "output_type": "stream",
       "stream": "stdout",
       "text": [
        "101085 0.55 (370, 48) ../htwmusik-models/catalog2-gt-model/SD00200000003/010004.bin.png\r\n",
        "   TRU: u'Edition Barbarossa.'\r\n",
        "   ALN: u'Edition Barbarossa.'\r\n",
        "   OUT: u'Edition Barbarossa.'\r\n"
       ]
      },
      {
       "output_type": "stream",
       "stream": "stdout",
       "text": [
        "101086 0.56 (280, 48) ../htwmusik-models/catalog2-gt-model/SD00200000245/010006.bin.png\r\n",
        "   TRU: u'55 CD 223 - 1.2'\r\n",
        "   ALN: u'55 CD 223 - 1.2'\r\n",
        "   OUT: u'55 CD 223 - 1.2'\r\n"
       ]
      },
      {
       "output_type": "stream",
       "stream": "stdout",
       "text": [
        "101087 0.81 (288, 48) ../htwmusik-models/catalog2-gt-model/SD00600000272/01000c.bin.png\r\n",
        "   TRU: u'Ne: Ser.; Interpr.'\r\n",
        "   ALN: u'Ne: Ser.; Interpr.'\r\n",
        "   OUT: u'Ne: Ser.; Interpr.'\r\n"
       ]
      },
      {
       "output_type": "stream",
       "stream": "stdout",
       "text": [
        "101088 0.60 (235, 48) ../htwmusik-models/catalog2-gt-model/SD00200000245/010005.bin.png\r\n",
        "   TRU: u'NE: Interpr.'\r\n",
        "   ALN: u'NE: Interpr.'\r\n",
        "   OUT: u'NE: Interpr.'\r\n"
       ]
      },
      {
       "output_type": "stream",
       "stream": "stdout",
       "text": [
        "101089 0.57 (730, 48) ../htwmusik-models/catalog2-gt-model/SD00600000258/010004.bin.png\r\n",
        "   TRU: u'Best.-Nr. Deutsche Grammophon 453 701-2'\r\n",
        "   ALN: u'Best.-Nr. Deutsche Grammophon 453 701-2'\r\n",
        "   OUT: u'Best.-Nr. Deutsche Grammophon 453 701-2'\r\n"
       ]
      },
      {
       "output_type": "stream",
       "stream": "stdout",
       "text": [
        "101090 2.45 (1007, 48) ../htwmusik-models/catalog2-gt-model/SD00600000272/010009.bin.png\r\n",
        "   TRU: u'[Org]. Ramin, G\\xfcnther [Dir]. Thomanerchor <Leipzig>.'\r\n",
        "   ALN: u'[Org]. Ramin, G\\xfcnther [Dir]. Thomanerchor <Leipzig>.'\r\n",
        "   OUT: u'[Org]. Ramin, G\\xfcnther [Dir]. Thomanerchor <Leipzig>.'\r\n"
       ]
      },
      {
       "output_type": "stream",
       "stream": "stdout",
       "text": [
        "101091 5.74 (1185, 48) ../htwmusik-models/catalog2-gt-model/SD00200000003/010006.bin.png\r\n",
        "   TRU: u'Enth.: Jagd auf Liebe. Steigen Nebel. Zu Fuss. Tshgiten-Legende'\r\n",
        "   ALN: u'Enth.: Jagd auf Liebe. Steigen Nebel. Zu Fuss. Tshgiten-Legende'\r\n",
        "   OUT: u'Enth.: Jagd auf Liebe. Steigen Nebel. Zu Fuss. Tshgiten-Legende.'\r\n"
       ]
      },
      {
       "output_type": "stream",
       "stream": "stdout",
       "text": [
        "101092 0.53 (281, 48) ../htwmusik-models/catalog2-gt-model/SD01200000085/010002.bin.png\r\n",
        "   TRU: u'55 CD 105 - 1.2'\r\n",
        "   ALN: u'55 CD 105 - 1.2'\r\n",
        "   OUT: u'55 CD 105 - 1.2'\r\n"
       ]
      },
      {
       "output_type": "stream",
       "stream": "stdout",
       "text": [
        "101093 1.03 (704, 48) ../htwmusik-models/catalog2-gt-model/SD00200000003/010005.bin.png\r\n",
        "   TRU: u'Vol. 4. - [1996]. - 1 Compact Disc + Beih.'\r\n",
        "   ALN: u'Vol. 4. - [1996]. - 1 Compact Disc + Beih.'\r\n",
        "   OUT: u'Vol. 4. - [1996]. - 1 Compact Disc + Beih.'\r\n"
       ]
      },
      {
       "output_type": "stream",
       "stream": "stdout",
       "text": [
        "101094 0.45 (146, 48) ../htwmusik-models/catalog2-gt-model/SD01200000085/010004.bin.png\r\n",
        "   TRU: u'P 1995.'\r\n",
        "   ALN: u'P 1995.'\r\n",
        "   OUT: u'P 1995.'\r\n"
       ]
      },
      {
       "output_type": "stream",
       "stream": "stdout",
       "text": [
        "101095 2.31 (1190, 48) ../htwmusik-models/catalog2-gt-model/SD00200000003/010008.bin.png\r\n",
        "   TRU: u'Wir gehn zu mir. Der Morgen auf dem Gipfel. Aus dem All. Am Fluss'\r\n",
        "   ALN: u'Wir gehn zu mir. Der Morgen auf dem Gipfel. Aus dem All. Am Fluss'\r\n",
        "   OUT: u'Wir gehn zu mir. Der Morgen auf dem Gipfel. Aus dem All. Am Fluss'\r\n"
       ]
      },
      {
       "output_type": "stream",
       "stream": "stdout",
       "text": [
        "101096 0.54 (370, 48) ../htwmusik-models/catalog2-gt-model/SD00200000003/010004.bin.png\r\n",
        "   TRU: u'Edition Barbarossa.'\r\n",
        "   ALN: u'Edition Barbarossa.'\r\n",
        "   OUT: u'Edition Barbarossa.'\r\n"
       ]
      },
      {
       "output_type": "stream",
       "stream": "stdout",
       "text": [
        "101097 0.42 (235, 48) ../htwmusik-models/catalog2-gt-model/SD00200000245/010005.bin.png\r\n",
        "   TRU: u'NE: Interpr.'\r\n",
        "   ALN: u'NE: Interpr.'\r\n",
        "   OUT: u'NE: Interpr.'\r\n"
       ]
      },
      {
       "output_type": "stream",
       "stream": "stdout",
       "text": [
        "101098 0.61 (275, 48) ../htwmusik-models/catalog2-gt-model/SD00200000003/010002.bin.png\r\n",
        "   TRU: u'55 CD 289 - 4'\r\n",
        "   ALN: u'55 CD 289 - 4'\r\n",
        "   OUT: u'55 CD 289 - 4'\r\n"
       ]
      },
      {
       "output_type": "stream",
       "stream": "stdout",
       "text": [
        "101099 0.56 (370, 48) ../htwmusik-models/catalog2-gt-model/SD00200000003/010004.bin.png\r\n",
        "   TRU: u'Edition Barbarossa.'\r\n",
        "   ALN: u'Edition Barbarossa.'\r\n",
        "   OUT: u'Edition Barbarossa.'\r\n"
       ]
      },
      {
       "output_type": "stream",
       "stream": "stdout",
       "text": [
        "101100 4.98 (1185, 48) ../htwmusik-models/catalog2-gt-model/SD00200000003/010006.bin.png\r\n",
        "   TRU: u'Enth.: Jagd auf Liebe. Steigen Nebel. Zu Fuss. Tshgiten-Legende'\r\n",
        "   ALN: u'Enth.: Jagd auf Liebe. Steigen Nebel. Zu Fuss. Tshgiten-Legende'\r\n",
        "   OUT: u'Enth.: Jagd auf Liebe. Steigen Nebel. Zu Fuss. Tshgiten-Legende.'\r\n"
       ]
      },
      {
       "output_type": "stream",
       "stream": "stdout",
       "text": [
        "101101 0.97 (861, 48) ../htwmusik-models/catalog2-gt-model/SD00200000245/010001.bin.png\r\n",
        "   TRU: u'Bayerisches Staatsorchester <M\\xfcnchen>'\r\n",
        "   ALN: u'Bayerisches Staatsorchester <M\\xfcnchen>'\r\n",
        "   OUT: u'Bayerisches Staatsorchester <M\\xfcnchen>'\r\n"
       ]
      },
      {
       "output_type": "stream",
       "stream": "stdout",
       "text": [
        "101102 4.56 (1185, 48) ../htwmusik-models/catalog2-gt-model/SD00200000003/010006.bin.png\r\n",
        "   TRU: u'Enth.: Jagd auf Liebe. Steigen Nebel. Zu Fuss. Tshgiten-Legende'\r\n",
        "   ALN: u'Enth.: Jagd auf Liebe. Steigen Nebel. Zu Fuss. Tshgiten-Legende'\r\n",
        "   OUT: u'Enth.: Jagd auf Liebe. Steigen Nebel. Zu Fuss. Tshgiten-Legende.'\r\n"
       ]
      },
      {
       "output_type": "stream",
       "stream": "stdout",
       "text": [
        "101103 2.68 (1062, 48) ../htwmusik-models/catalog2-gt-model/SD00200000003/01000a.bin.png\r\n",
        "   TRU: u'Ein Augenblick der Z\\xe4rtlichkeit. Das Bild. Strassen, die dich'\r\n",
        "   ALN: u'Ein Augenblick der Z\\xe4rtlichkeit. Das Bild. Strassen, die dich'\r\n",
        "   OUT: u'Ein Augenblick der Z\\xe4rtlichkeit. Das Bild. Strassen, die dich'\r\n"
       ]
      },
      {
       "output_type": "stream",
       "stream": "stdout",
       "text": [
        "101104 1.38 (1114, 48) ../htwmusik-models/catalog2-gt-model/SD00200000003/010007.bin.png\r\n",
        "   TRU: u'Hoffnung. Fort f\\xfcr einen Abend. Welt im Sand. Weisst du noch.'\r\n",
        "   ALN: u'Hoffnung. Fort f\\xfcr einen Abend. Welt im Sand. Weisst du noch.'\r\n",
        "   OUT: u'Hoffnung. Fort f\\xfcr einen Abend. Welt im Sand. Weisst du noch.'\r\n"
       ]
      },
      {
       "output_type": "stream",
       "stream": "stdout",
       "text": [
        "101105 2.78 (1017, 48) ../htwmusik-models/catalog2-gt-model/SD00600000272/010001.bin.png\r\n",
        "   TRU: u'Gewandhausorchester <Leipzig> 55 CD 1779 - 1,6'\r\n",
        "   ALN: u'Gewandhausorchester <Leipzig> 55 CD 1779 - 1,6'\r\n",
        "   OUT: u'Gewandhausorchester <Leipzig> 55 CD 1779 - 1,6'\r\n"
       ]
      },
      {
       "output_type": "stream",
       "stream": "stdout",
       "text": [
        "101106 1.09 (762, 48) ../htwmusik-models/catalog2-gt-model/SD00600000258/010005.bin.png\r\n",
        "   TRU: u'NE : Beethoven, Ludwig van: Ser.; Interpr.'\r\n",
        "   ALN: u'NE : Beethoven, Ludwig van: Ser.; Interpr.'\r\n",
        "   OUT: u'NE: Beethoven, Ludwig van: Ser.; Interpr.'\r\n"
       ]
      },
      {
       "output_type": "stream",
       "stream": "stdout",
       "text": [
        "101107 0.40 (281, 48) ../htwmusik-models/catalog2-gt-model/SD01200000085/010002.bin.png\r\n",
        "   TRU: u'55 CD 105 - 1.2'\r\n",
        "   ALN: u'55 CD 105 - 1.2'\r\n",
        "   OUT: u'55 CD 105 - 1.2'\r\n"
       ]
      },
      {
       "output_type": "stream",
       "stream": "stdout",
       "text": [
        "101108 4.30 (1122, 48) ../htwmusik-models/catalog2-gt-model/SD00600000272/010004.bin.png\r\n",
        "   TRU: u'6. - [1999]. - 1 Compact Disc + Beih. - (Bach - Made in Germany : Vol. 1, 6)'\r\n",
        "   ALN: u'6. - [1999]. - 1 Compact Disc + Beih. - (Bach - Made in Germany : Vol. 1, 6)'\r\n",
        "   OUT: u'6. - [1999]. - 1 Compact Disc + Beih. - (Bach - Made in Germany ; Vol. 1, 6)'\r\n"
       ]
      },
      {
       "output_type": "stream",
       "stream": "stdout",
       "text": [
        "101109 0.40 (275, 48) ../htwmusik-models/catalog2-gt-model/SD00200000003/010002.bin.png\r\n",
        "   TRU: u'55 CD 289 - 4'\r\n",
        "   ALN: u'55 CD 289 - 4'\r\n",
        "   OUT: u'55 CD 289 - 4'\r\n"
       ]
      },
      {
       "output_type": "stream",
       "stream": "stdout",
       "text": [
        "101110 2.15 (1017, 48) ../htwmusik-models/catalog2-gt-model/SD00600000272/010001.bin.png\r\n",
        "   TRU: u'Gewandhausorchester <Leipzig> 55 CD 1779 - 1,6'\r\n",
        "   ALN: u'Gewandhausorchester <Leipzig> 55 CD 1779 - 1,6'\r\n",
        "   OUT: u'Gewandhausorchester <Leipzig> 55 CD 1779 - 1,6'\r\n"
       ]
      },
      {
       "output_type": "stream",
       "stream": "stdout",
       "text": [
        "101111 1.42 (1058, 48) ../htwmusik-models/catalog2-gt-model/SD00600000323/010005.bin.png\r\n",
        "   TRU: u'NE: Rheinberger, Gabriel J.: [Thema mit Ver\\xe4nderungen, V1 1 2'\r\n",
        "   ALN: u'NE: Rheinberger, Gabriel J.: [Thema mit Ver\\xe4nderungen, V1 1 2'\r\n",
        "   OUT: u'NE: Rheinberger, Gabriel J.: [Thema mit Ver\\xe4nderungen, V1 1 2'\r\n"
       ]
      },
      {
       "output_type": "stream",
       "stream": "stdout",
       "text": [
        "101112 0.62 (625, 48) ../htwmusik-models/catalog2-gt-model/SD00600000272/01000b.bin.png\r\n",
        "   TRU: u'Best.-Nr. Leipzig Classics 00 1806 2 BC'\r\n",
        "   ALN: u'Best.-Nr. Leipzig Classics 00 1806 2 BC'\r\n",
        "   OUT: u'Best.-Nr. Leipzig Classics 00 1806 2 BC'\r\n"
       ]
      },
      {
       "output_type": "stream",
       "stream": "stdout",
       "text": [
        "101113 0.39 (281, 48) ../htwmusik-models/catalog2-gt-model/SD01200000085/010002.bin.png\r\n",
        "   TRU: u'55 CD 105 - 1.2'\r\n",
        "   ALN: u'55 CD 105 - 1.2'\r\n",
        "   OUT: u'55 CD 105 - 1.2'\r\n"
       ]
      },
      {
       "output_type": "stream",
       "stream": "stdout",
       "text": [
        "101114 0.78 (861, 48) ../htwmusik-models/catalog2-gt-model/SD00200000245/010001.bin.png\r\n",
        "   TRU: u'Bayerisches Staatsorchester <M\\xfcnchen>'\r\n",
        "   ALN: u'Bayerisches Staatsorchester <M\\xfcnchen>'\r\n",
        "   OUT: u'Bayerisches Staatsorchester <M\\xfcnchen>'\r\n"
       ]
      },
      {
       "output_type": "stream",
       "stream": "stdout",
       "text": [
        "101115 1.30 (956, 48) ../htwmusik-models/catalog2-gt-model/SD00600000323/010006.bin.png\r\n",
        "   TRU: u'Va Vc op. 93]; Rheinberger, Gabriel J.: [Nonette op. 139];'\r\n",
        "   ALN: u'Va Vc op. 93]; Rheinberger, Gabriel J.: [Nonette op. 139];'\r\n",
        "   OUT: u'Va Vc op. 93]; Rheinberger, Gabriel J.: [Nonette op. 139];'\r\n"
       ]
      },
      {
       "output_type": "stream",
       "stream": "stdout",
       "text": [
        "101116 1.28 (1042, 48) ../htwmusik-models/catalog2-gt-model/SD00600000535/010005.bin.png\r\n",
        "   TRU: u'[Pigs]; Weissenborn, Christian J.: [Stucke, Fg 1 2 3 op. 4 /'\r\n",
        "   ALN: u'[Pigs]; Weissenborn, Christian J.: [Stucke, Fg 1 2 3 op. 4 /'\r\n",
        "   OUT: u'[Pigs]; Weissenborn, Christian J.: [Stucke, Fg 1 2 3 op. 4 /'\r\n"
       ]
      },
      {
       "output_type": "stream",
       "stream": "stdout",
       "text": [
        "101117 11.80 (1004, 48) ../htwmusik-models/catalog2-gt-model/SD00200000003/01000c.bin.png\r\n",
        "   TRU: u'Interbr.: Rosalili. Lift. Babylon. Keks. Puhdys. Karat'\r\n",
        "   ALN: u'Interbr.: Rosalili. Lift. Babyon. Keks. Puhdys. Karat'\r\n",
        "   OUT: u'Interbr.: Rosalili. Lift. Babon. Keks. Puhdys. Karat.'\r\n"
       ]
      },
      {
       "output_type": "stream",
       "stream": "stdout",
       "text": [
        "101118 0.89 (370, 48) ../htwmusik-models/catalog2-gt-model/SD00200000003/010004.bin.png\r\n",
        "   TRU: u'Edition Barbarossa.'\r\n",
        "   ALN: u'Edition Barbarossa.'\r\n",
        "   OUT: u'Edition Barbarossa.'\r\n"
       ]
      },
      {
       "output_type": "stream",
       "stream": "stdout",
       "text": [
        "101119 0.25 (235, 48) ../htwmusik-models/catalog2-gt-model/SD00200000245/010005.bin.png\r\n",
        "   TRU: u'NE: Interpr.'\r\n",
        "   ALN: u'NE: Interpr.'\r\n",
        "   OUT: u'NE: Interpr.'\r\n"
       ]
      },
      {
       "output_type": "stream",
       "stream": "stdout",
       "text": [
        "101120 10.80 (1004, 48) ../htwmusik-models/catalog2-gt-model/SD00200000003/01000c.bin.png\r\n",
        "   TRU: u'Interbr.: Rosalili. Lift. Babylon. Keks. Puhdys. Karat'\r\n",
        "   ALN: u'Interbr.: Rosalili. Lift. Babyon. Keks. Puhdys. Karat'\r\n",
        "   OUT: u'Interbr.: Rosalili. Lift. Babon. Keks. Puhdys. Karat.'\r\n"
       ]
      },
      {
       "output_type": "stream",
       "stream": "stdout",
       "text": [
        "101121 1.49 (740, 48) ../htwmusik-models/catalog2-gt-model/SD00200000245/010002.bin.png\r\n",
        "   TRU: u'Reimann Aribert: Das Schloss [Forts.]'\r\n",
        "   ALN: u'Reimann Aribert: Das Schloss [Forts.]'\r\n",
        "   OUT: u'Reimann Aribert: Das  Schloss [Forts.]'\r\n"
       ]
      },
      {
       "output_type": "stream",
       "stream": "stdout",
       "text": [
        "101122 4.32 (826, 48) ../htwmusik-models/catalog2-gt-model/SD00600000258/010003.bin.png\r\n",
        "   TRU: u'Beethoven Ludwig van: [Sinfonien] [Forts.]'\r\n",
        "   ALN: u'Beethoven Ludwi van: [Sinfonien] [Forts.]'\r\n",
        "   OUT: u'Beethoven Ludwi van: [Sinfonien] [Forts.]'\r\n"
       ]
      },
      {
       "output_type": "stream",
       "stream": "stdout",
       "text": [
        "101123 1.74 (1190, 48) ../htwmusik-models/catalog2-gt-model/SD00200000003/010008.bin.png\r\n",
        "   TRU: u'Wir gehn zu mir. Der Morgen auf dem Gipfel. Aus dem All. Am Fluss'\r\n",
        "   ALN: u'Wir gehn zu mir. Der Morgen auf dem Gipfel. Aus dem All. Am Fluss'\r\n",
        "   OUT: u'Wir gehn zu mir. Der Morgen auf dem Gipfel. Aus dem All. Am Fluss'\r\n"
       ]
      },
      {
       "output_type": "stream",
       "stream": "stdout",
       "text": [
        "101124 0.57 (173, 48) ../htwmusik-models/catalog2-gt-model/SD00600000323/010007.bin.png\r\n",
        "   TRU: u'Interpr.'\r\n",
        "   ALN: u'Interpr.'\r\n",
        "   OUT: u'Interpr.'\r\n"
       ]
      },
      {
       "output_type": "stream",
       "stream": "stdout",
       "text": [
        "101125 1.06 (762, 48) ../htwmusik-models/catalog2-gt-model/SD00600000258/010005.bin.png\r\n",
        "   TRU: u'NE : Beethoven, Ludwig van: Ser.; Interpr.'\r\n",
        "   ALN: u'NE : Beethoven, Ludwig van: Ser.; Interpr.'\r\n",
        "   OUT: u'NE : Beethoven, Ludwig van: Ser.; Interpr.'\r\n"
       ]
      },
      {
       "output_type": "stream",
       "stream": "stdout",
       "text": [
        "101126 0.72 (861, 48) ../htwmusik-models/catalog2-gt-model/SD00200000245/010001.bin.png\r\n",
        "   TRU: u'Bayerisches Staatsorchester <M\\xfcnchen>'\r\n",
        "   ALN: u'Bayerisches Staatsorchester <M\\xfcnchen>'\r\n",
        "   OUT: u'Bayerisches Staatsorchester <M\\xfcnchen>'\r\n"
       ]
      },
      {
       "output_type": "stream",
       "stream": "stdout",
       "text": [
        "101127 0.84 (1062, 48) ../htwmusik-models/catalog2-gt-model/SD00200000003/01000a.bin.png\r\n",
        "   TRU: u'Ein Augenblick der Z\\xe4rtlichkeit. Das Bild. Strassen, die dich'\r\n",
        "   ALN: u'Ein Augenblick der Z\\xe4rtlichkeit. Das Bild. Strassen, die dich'\r\n",
        "   OUT: u'Ein Augenblick der Z\\xe4rtlichkeit. Das Bild. Strassen, die dich'\r\n"
       ]
      },
      {
       "output_type": "stream",
       "stream": "stdout",
       "text": [
        "101128 3.56 (832, 48) ../htwmusik-models/catalog2-gt-model/SD00600000258/010001.bin.png\r\n",
        "   TRU: u'2 Gesellschaft der Musikfreunde <Wien> /'\r\n",
        "   ALN: u'2 Gesellschaft der Musikfreunde <Wien> /'\r\n",
        "   OUT: u' Gesellschaft der Musikfreunde <Wien> /'\r\n"
       ]
      },
      {
       "output_type": "stream",
       "stream": "stdout",
       "text": [
        "101129 0.27 (235, 48) ../htwmusik-models/catalog2-gt-model/SD00200000245/010005.bin.png\r\n",
        "   TRU: u'NE: Interpr.'\r\n",
        "   ALN: u'NE: Interpr.'\r\n",
        "   OUT: u'NE: Interpr.'\r\n"
       ]
      },
      {
       "output_type": "stream",
       "stream": "stdout",
       "text": [
        "101130 0.23 (258, 48) ../htwmusik-models/catalog2-gt-model/SD00600000258/010006.bin.png\r\n",
        "   TRU: u'55 CD 77 - 1'\r\n",
        "   ALN: u'55 CD 77 - 1'\r\n",
        "   OUT: u'55 CD 77 - 1'\r\n"
       ]
      },
      {
       "output_type": "stream",
       "stream": "stdout",
       "text": [
        "101131 0.57 (888, 48) ../htwmusik-models/catalog2-gt-model/SD01200000085/010003.bin.png\r\n",
        "   TRU: u'Walton William: Troilus and Cressida [Forts.]'\r\n",
        "   ALN: u'Walton William: Troilus and Cressida [Forts.]'\r\n",
        "   OUT: u'Walton William: Troilus and Cressida [Forts.]'\r\n"
       ]
      },
      {
       "output_type": "stream",
       "stream": "stdout",
       "text": [
        "101132 1.67 (1190, 48) ../htwmusik-models/catalog2-gt-model/SD00200000003/010008.bin.png\r\n",
        "   TRU: u'Wir gehn zu mir. Der Morgen auf dem Gipfel. Aus dem All. Am Fluss'\r\n",
        "   ALN: u'Wir gehn zu mir. Der Morgen auf dem Gipfel. Aus dem All. Am Fluss'\r\n",
        "   OUT: u'Wir gehn zu mir. Der Morgen auf dem Gipfel. Aus dem All. Am Fluss'\r\n"
       ]
      },
      {
       "output_type": "stream",
       "stream": "stdout",
       "text": [
        "101133 21.98 (930, 48) ../htwmusik-models/catalog2-gt-model/SD00600000535/01000a.bin.png\r\n",
        "   TRU: u\"Peter: [Scherzo, Nocturno und Burlesca]; Prokof'ev, Sergej S.:\"\r\n",
        "   ALN: u\"Peter: [Scherzo, Nocturno un Burlesca]; Prokof'ev, Sergej S.:\"\r\n",
        "   OUT: u\"Peter: [Scherzo, Nocturno w glea]; Prokof'ev, Sergej S.:\"\r\n"
       ]
      },
      {
       "output_type": "stream",
       "stream": "stdout",
       "text": [
        "101134 0.87 (661, 48) ../htwmusik-models/catalog2-gt-model/SD01200000085/010001.bin.png\r\n",
        "   TRU: u'Opera North <Leeds> / Chorus'\r\n",
        "   ALN: u'Opera North <Leeds> / Chorus'\r\n",
        "   OUT: u'Opera North <Leeds> / Chorus'\r\n"
       ]
      },
      {
       "output_type": "stream",
       "stream": "stdout",
       "text": [
        "101135 2.25 (832, 48) ../htwmusik-models/catalog2-gt-model/SD00600000258/010001.bin.png\r\n",
        "   TRU: u'2 Gesellschaft der Musikfreunde <Wien> /'\r\n",
        "   ALN: u'2 Gesellschaft der Musikfreunde <Wien> /'\r\n",
        "   OUT: u'\\xe4 Gesellschaft der Musikfreunde <Wien> /'\r\n"
       ]
      },
      {
       "output_type": "stream",
       "stream": "stdout",
       "text": [
        "101136 12.40 (805, 48) ../htwmusik-models/catalog2-gt-model/SD01200000085/010006.bin.png\r\n",
        "   TRU: u'Ne : Hassall, Christopher [Textverf.]; Interpr.'\r\n",
        "   ALN: u'Ne : Hassall, Christopher [Textverf.]; Interpr.'\r\n",
        "   OUT: u'NE: Hassall, Christopher [Textverf.]; Interpr.'\r\n"
       ]
      },
      {
       "output_type": "stream",
       "stream": "stdout",
       "text": [
        "101137 1.04 (956, 48) ../htwmusik-models/catalog2-gt-model/SD00600000323/010006.bin.png\r\n",
        "   TRU: u'Va Vc op. 93]; Rheinberger, Gabriel J.: [Nonette op. 139];'\r\n",
        "   ALN: u'Va Vc op. 93]; Rheinberger, Gabriel J.: [Nonette op. 139];'\r\n",
        "   OUT: u'Va Vc op. 93]; Rheinberger, Gabriel J.: [Nonette op. 139];'\r\n"
       ]
      },
      {
       "output_type": "stream",
       "stream": "stdout",
       "text": [
        "101138 0.91 (956, 48) ../htwmusik-models/catalog2-gt-model/SD00600000323/010006.bin.png\r\n",
        "   TRU: u'Va Vc op. 93]; Rheinberger, Gabriel J.: [Nonette op. 139];'\r\n",
        "   ALN: u'Va Vc op. 93]; Rheinberger, Gabriel J.: [Nonette op. 139];'\r\n",
        "   OUT: u'Va Vc op. 93]; Rheinberger, Gabriel J.: [Nonette op. 139];'\r\n"
       ]
      },
      {
       "output_type": "stream",
       "stream": "stdout",
       "text": [
        "101139 1.68 (1014, 48) ../htwmusik-models/catalog2-gt-model/SD00600000272/010008.bin.png\r\n",
        "   TRU: u'[Alt]. Lutze, Gert [Ten]. Hauptmann, Hans [Bass]. K\\xe4stner, Hannes'\r\n",
        "   ALN: u'[Alt]. Lutze, Gert [Ten]. Hauptmann, Hans [Bass]. K\\xe4stner, Hannes'\r\n",
        "   OUT: u'[Alt]. Lutze, Gert [Ten]. Hauptmann, Hans [Bass]. K\\xe4stner, Hannes'\r\n"
       ]
      },
      {
       "output_type": "stream",
       "stream": "stdout",
       "text": [
        "101140 0.34 (235, 48) ../htwmusik-models/catalog2-gt-model/SD00200000245/010005.bin.png\r\n",
        "   TRU: u'NE: Interpr.'\r\n",
        "   ALN: u'NE: Interpr.'\r\n",
        "   OUT: u'NE: Interpr.'\r\n"
       ]
      },
      {
       "output_type": "stream",
       "stream": "stdout",
       "text": [
        "101141 1.33 (1042, 48) ../htwmusik-models/catalog2-gt-model/SD00600000535/010005.bin.png\r\n",
        "   TRU: u'[Pigs]; Weissenborn, Christian J.: [Stucke, Fg 1 2 3 op. 4 /'\r\n",
        "   ALN: u'[Pigs]; Weissenborn, Christian J.: [Stucke, Fg 1 2 3 op. 4 /'\r\n",
        "   OUT: u'[Pigs]; Weissenborn, Christian J.: [Stucke, Fg 1 2 3 op. 4 /'\r\n"
       ]
      },
      {
       "output_type": "stream",
       "stream": "stdout",
       "text": [
        "101142 19.15 (930, 48) ../htwmusik-models/catalog2-gt-model/SD00600000535/01000a.bin.png\r\n",
        "   TRU: u\"Peter: [Scherzo, Nocturno und Burlesca]; Prokof'ev, Sergej S.:\"\r\n",
        "   ALN: u\"Peter: [Scherzo, Nocturno uund Burlesca]; Prokof'ev, Sergej S.:\"\r\n",
        "   OUT: u\"Peter: [Scherzo, Nocturno  Blea]; Prokof'ev, Sergej S.:\"\r\n"
       ]
      },
      {
       "output_type": "stream",
       "stream": "stdout",
       "text": [
        "101143 1.04 (864, 48) ../htwmusik-models/catalog2-gt-model/SD00600000272/010003.bin.png\r\n",
        "   TRU: u'[Kantaten / Ausw.] Cantatas / Bach. - Hamburg : Edel.'\r\n",
        "   ALN: u'[Kantaten / Ausw.] Cantatas / Bach. - Hamburg : Edel.'\r\n",
        "   OUT: u'[Kantaten / Ausw.] Cantatas / Bach. - Hamburg : Edel.'\r\n"
       ]
      },
      {
       "output_type": "stream",
       "stream": "stdout",
       "text": [
        "101144 11.44 (1023, 48) ../htwmusik-models/catalog2-gt-model/SD00600000323/010002.bin.png\r\n",
        "   TRU: u'Rheinberger Gabriel J.: [Trios, V1 Vc Kl op. 112] [Forts.]'\r\n",
        "   ALN: u'Rheinberger Gabriel J.: [Trios, V1 Vc Kl op. 112] [Forts.]'\r\n",
        "   OUT: u'Rheinber er Gabriel J.: [Trios, V1 Vc Kl op. 112] [Forts.]'\r\n"
       ]
      },
      {
       "output_type": "stream",
       "stream": "stdout",
       "text": [
        "101145 0.79 (661, 48) ../htwmusik-models/catalog2-gt-model/SD01200000085/010001.bin.png\r\n",
        "   TRU: u'Opera North <Leeds> / Chorus'\r\n",
        "   ALN: u'Opera North <Leeds> / Chorus'\r\n",
        "   OUT: u'Opera North <Leeds> / Chorus'"
       ]
      },
      {
       "output_type": "stream",
       "stream": "stdout",
       "text": [
        "\r\n"
       ]
      },
      {
       "output_type": "stream",
       "stream": "stdout",
       "text": [
        "101146 1.34 (1075, 48) ../htwmusik-models/catalog2-gt-model/SD00600000535/010006.bin.png\r\n",
        "   TRU: u'Ausw.]; Voert, Georg ter: [Polka in Swing]; Seiber, M\\xe1ty\\xe1s G.:'\r\n",
        "   ALN: u'Ausw.]; Voert, Georg ter: [Polka in Swing]; Seiber, M~ty~s G.:'\r\n",
        "   OUT: u'Ausw.]; Voert, Georg ter: [Polka in Swing]; Seiber, M~ty~s G.:'\r\n"
       ]
      },
      {
       "output_type": "stream",
       "stream": "stdout",
       "text": [
        "^C\r\n",
        "Traceback (most recent call last):\r\n",
        "  File \"/home/jakob/anaconda/bin/ocropus-rtrain\", line 286, in <module>\r\n",
        "    pcs = network.trainSequence(line,cs,update=do_update,key=fname)\r\n",
        "  File \"/usr/local/lib/python2.7/dist-packages/ocrolib/lstm.py\", line 896, in trainSequence\r\n",
        "    self.lstm.backward(deltas)\r\n",
        "  File \"/usr/local/lib/python2.7/dist-packages/ocrolib/lstm.py\", line 612, in backward\r\n",
        "    deltas = net.backward(deltas)\r\n",
        "  File \"/usr/local/lib/python2.7/dist-packages/ocrolib/lstm.py\", line 670, in backward\r\n",
        "    net.backward(deltas[:,start:start+k])\r\n",
        "  File \"/usr/local/lib/python2.7/dist-packages/ocrolib/lstm.py\", line 642, in backward\r\n",
        "    result = self.net.backward(deltas[::-1])\r\n",
        "  File \"/usr/local/lib/python2.7/dist-packages/ocrolib/lstm.py\", line 582, in backward\r\n",
        "    self.DWIP,self.DWFP,self.DWOP)\r\n",
        "  File \"/usr/local/lib/python2.7/dist-packages/ocrolib/lstm.py\", line 471, in backward_py\r\n",
        "    DWGO = nutils.sumouter(goerr[:n],source[:n],out=DWGO)\r\n",
        "  File \"/usr/local/lib/python2.7/dist-packages/ocrolib/nutils.py\", line 31, in sumouter\r\n",
        "    lstm_native.sumouter(u.shape[0],out.shape[0],out.shape[1],out,u,v)\r\n",
        "KeyboardInterrupt\r\n"
       ]
      }
     ],
     "prompt_number": 39
    },
    {
     "cell_type": "code",
     "collapsed": false,
     "input": [
      "resultdir = '../result-catalog2-gt-model'\n",
      "img2result_img = catalogutils.transform('../catalog-testset/SD/',resultdir,'*/*.bin.png', listdir(join('../catalog-gt/','SD')) )\n",
      "catalogutils.process(img2result_img  , p='cp {} {}', execute=True)"
     ],
     "language": "python",
     "metadata": {},
     "outputs": [
      {
       "output_type": "stream",
       "stream": "stdout",
       "text": [
        "../catalog-testset/SD/*/*.bin.png\n",
        "cp ../catalog-testset/SD/SD00200000245/010005.bin.png ../result-catalog2-gt-model/SD00200000245/010005.bin.png"
       ]
      },
      {
       "output_type": "stream",
       "stream": "stdout",
       "text": [
        "\n",
        "create dir  ../result-catalog2-gt-model/SD00200000245\n",
        "cp ../catalog-testset/SD/SD00200000245/010001.bin.png ../result-catalog2-gt-model/SD00200000245/010001.bin.png\n",
        "cp ../catalog-testset/SD/SD00200000245/010003.bin.png ../result-catalog2-gt-model/SD00200000245/010003.bin.png\n",
        "cp ../catalog-testset/SD/SD00200000245/010006.bin.png ../result-catalog2-gt-model/SD00200000245/010006.bin.png\n",
        "cp ../catalog-testset/SD/SD00200000245/010002.bin.png ../result-catalog2-gt-model/SD00200000245/010002.bin.png\n",
        "cp ../catalog-testset/SD/SD00200000245/010004.bin.png ../result-catalog2-gt-model/SD00200000245/010004.bin.png\n",
        "cp ../catalog-testset/SD/SD00200000003/010005.bin.png ../result-catalog2-gt-model/SD00200000003/010005.bin.png\n",
        "create dir  ../result-catalog2-gt-model/SD00200000003\n",
        "cp ../catalog-testset/SD/SD00200000003/01000a.bin.png ../result-catalog2-gt-model/SD00200000003/01000a.bin.png\n",
        "cp ../catalog-testset/SD/SD00200000003/010001.bin.png ../result-catalog2-gt-model/SD00200000003/010001.bin.png\n",
        "cp ../catalog-testset/SD/SD00200000003/010007.bin.png ../result-catalog2-gt-model/SD00200000003/010007.bin.png\n",
        "cp ../catalog-testset/SD/SD00200000003/01000c.bin.png ../result-catalog2-gt-model/SD00200000003/01000c.bin.png"
       ]
      },
      {
       "output_type": "stream",
       "stream": "stdout",
       "text": [
        "\n",
        "cp ../catalog-testset/SD/SD00200000003/01000b.bin.png ../result-catalog2-gt-model/SD00200000003/01000b.bin.png\n",
        "cp ../catalog-testset/SD/SD00200000003/010003.bin.png ../result-catalog2-gt-model/SD00200000003/010003.bin.png\n",
        "cp ../catalog-testset/SD/SD00200000003/010008.bin.png ../result-catalog2-gt-model/SD00200000003/010008.bin.png\n",
        "cp ../catalog-testset/SD/SD00200000003/010006.bin.png ../result-catalog2-gt-model/SD00200000003/010006.bin.png\n",
        "cp ../catalog-testset/SD/SD00200000003/010002.bin.png ../result-catalog2-gt-model/SD00200000003/010002.bin.png\n",
        "cp ../catalog-testset/SD/SD00200000003/010009.bin.png ../result-catalog2-gt-model/SD00200000003/010009.bin.png\n",
        "cp ../catalog-testset/SD/SD00200000003/010004.bin.png ../result-catalog2-gt-model/SD00200000003/010004.bin.png\n",
        "cp ../catalog-testset/SD/SD00200000608/010001.bin.png ../result-catalog2-gt-model/SD00200000608/010001.bin.png\n",
        "create dir  ../result-catalog2-gt-model/SD00200000608\n",
        "cp ../catalog-testset/SD/SD00200000608/010003.bin.png ../result-catalog2-gt-model/SD00200000608/010003.bin.png\n",
        "cp ../catalog-testset/SD/SD00200000608/010002.bin.png ../result-catalog2-gt-model/SD00200000608/010002.bin.png\n",
        "cp ../catalog-testset/SD/SD00600000258/010005.bin.png ../result-catalog2-gt-model/SD00600000258/010005.bin.png"
       ]
      },
      {
       "output_type": "stream",
       "stream": "stdout",
       "text": [
        "\n",
        "create dir  ../result-catalog2-gt-model/SD00600000258\n",
        "cp ../catalog-testset/SD/SD00600000258/010001.bin.png ../result-catalog2-gt-model/SD00600000258/010001.bin.png\n",
        "cp ../catalog-testset/SD/SD00600000258/010003.bin.png ../result-catalog2-gt-model/SD00600000258/010003.bin.png\n",
        "cp ../catalog-testset/SD/SD00600000258/010006.bin.png ../result-catalog2-gt-model/SD00600000258/010006.bin.png\n",
        "cp ../catalog-testset/SD/SD00600000258/010002.bin.png ../result-catalog2-gt-model/SD00600000258/010002.bin.png\n",
        "cp ../catalog-testset/SD/SD00600000258/010004.bin.png ../result-catalog2-gt-model/SD00600000258/010004.bin.png\n",
        "cp ../catalog-testset/SD/SD00600000272/010005.bin.png ../result-catalog2-gt-model/SD00600000272/010005.bin.png\n",
        "create dir  ../result-catalog2-gt-model/SD00600000272\n",
        "cp ../catalog-testset/SD/SD00600000272/01000a.bin.png ../result-catalog2-gt-model/SD00600000272/01000a.bin.png\n",
        "cp ../catalog-testset/SD/SD00600000272/010001.bin.png ../result-catalog2-gt-model/SD00600000272/010001.bin.png\n",
        "cp ../catalog-testset/SD/SD00600000272/010007.bin.png ../result-catalog2-gt-model/SD00600000272/010007.bin.png\n",
        "cp ../catalog-testset/SD/SD00600000272/01000c.bin.png ../result-catalog2-gt-model/SD00600000272/01000c.bin.png"
       ]
      },
      {
       "output_type": "stream",
       "stream": "stdout",
       "text": [
        "\n",
        "cp ../catalog-testset/SD/SD00600000272/01000b.bin.png ../result-catalog2-gt-model/SD00600000272/01000b.bin.png\n",
        "cp ../catalog-testset/SD/SD00600000272/010003.bin.png ../result-catalog2-gt-model/SD00600000272/010003.bin.png\n",
        "cp ../catalog-testset/SD/SD00600000272/010008.bin.png ../result-catalog2-gt-model/SD00600000272/010008.bin.png\n",
        "cp ../catalog-testset/SD/SD00600000272/010006.bin.png ../result-catalog2-gt-model/SD00600000272/010006.bin.png\n",
        "cp ../catalog-testset/SD/SD00600000272/010002.bin.png ../result-catalog2-gt-model/SD00600000272/010002.bin.png\n",
        "cp ../catalog-testset/SD/SD00600000272/010009.bin.png ../result-catalog2-gt-model/SD00600000272/010009.bin.png\n",
        "cp ../catalog-testset/SD/SD00600000272/010004.bin.png ../result-catalog2-gt-model/SD00600000272/010004.bin.png\n",
        "cp ../catalog-testset/SD/SD01200000085/010005.bin.png ../result-catalog2-gt-model/SD01200000085/010005.bin.png\n",
        "create dir  ../result-catalog2-gt-model/SD01200000085\n",
        "cp ../catalog-testset/SD/SD01200000085/010001.bin.png ../result-catalog2-gt-model/SD01200000085/010001.bin.png\n",
        "cp ../catalog-testset/SD/SD01200000085/010003.bin.png ../result-catalog2-gt-model/SD01200000085/010003.bin.png"
       ]
      },
      {
       "output_type": "stream",
       "stream": "stdout",
       "text": [
        "\n",
        "cp ../catalog-testset/SD/SD01200000085/010006.bin.png ../result-catalog2-gt-model/SD01200000085/010006.bin.png\n",
        "cp ../catalog-testset/SD/SD01200000085/010002.bin.png ../result-catalog2-gt-model/SD01200000085/010002.bin.png\n",
        "cp ../catalog-testset/SD/SD01200000085/010004.bin.png ../result-catalog2-gt-model/SD01200000085/010004.bin.png\n",
        "cp ../catalog-testset/SD/SD00600000535/010005.bin.png ../result-catalog2-gt-model/SD00600000535/010005.bin.png\n",
        "create dir  ../result-catalog2-gt-model/SD00600000535\n",
        "cp ../catalog-testset/SD/SD00600000535/01000a.bin.png ../result-catalog2-gt-model/SD00600000535/01000a.bin.png\n",
        "cp ../catalog-testset/SD/SD00600000535/010001.bin.png ../result-catalog2-gt-model/SD00600000535/010001.bin.png\n",
        "cp ../catalog-testset/SD/SD00600000535/010007.bin.png ../result-catalog2-gt-model/SD00600000535/010007.bin.png\n",
        "cp ../catalog-testset/SD/SD00600000535/010003.bin.png ../result-catalog2-gt-model/SD00600000535/010003.bin.png\n",
        "cp ../catalog-testset/SD/SD00600000535/010008.bin.png ../result-catalog2-gt-model/SD00600000535/010008.bin.png\n",
        "cp ../catalog-testset/SD/SD00600000535/010006.bin.png ../result-catalog2-gt-model/SD00600000535/010006.bin.png\n",
        "cp ../catalog-testset/SD/SD00600000535/010002.bin.png ../result-catalog2-gt-model/SD00600000535/010002.bin.png"
       ]
      },
      {
       "output_type": "stream",
       "stream": "stdout",
       "text": [
        "\n",
        "cp ../catalog-testset/SD/SD00600000535/010009.bin.png ../result-catalog2-gt-model/SD00600000535/010009.bin.png\n",
        "cp ../catalog-testset/SD/SD00600000535/010004.bin.png ../result-catalog2-gt-model/SD00600000535/010004.bin.png\n",
        "cp ../catalog-testset/SD/SD00600000323/010005.bin.png ../result-catalog2-gt-model/SD00600000323/010005.bin.png\n",
        "create dir  ../result-catalog2-gt-model/SD00600000323\n",
        "cp ../catalog-testset/SD/SD00600000323/010001.bin.png ../result-catalog2-gt-model/SD00600000323/010001.bin.png\n",
        "cp ../catalog-testset/SD/SD00600000323/010007.bin.png ../result-catalog2-gt-model/SD00600000323/010007.bin.png\n",
        "cp ../catalog-testset/SD/SD00600000323/010003.bin.png ../result-catalog2-gt-model/SD00600000323/010003.bin.png\n",
        "cp ../catalog-testset/SD/SD00600000323/010006.bin.png ../result-catalog2-gt-model/SD00600000323/010006.bin.png\n",
        "cp ../catalog-testset/SD/SD00600000323/010002.bin.png ../result-catalog2-gt-model/SD00600000323/010002.bin.png\n",
        "cp ../catalog-testset/SD/SD00600000323/010004.bin.png ../result-catalog2-gt-model/SD00600000323/010004.bin.png\n"
       ]
      }
     ],
     "prompt_number": 45
    },
    {
     "cell_type": "code",
     "collapsed": false,
     "input": [
      "!ocropus-rpred -Q 7 -m ../htwmusik-models/catalog2-gt-model.model-00101000.pyrnn.gz '../result-catalog2-gt-model/SD???????????/??????.bin.png'"
     ],
     "language": "python",
     "metadata": {},
     "outputs": [
      {
       "output_type": "stream",
       "stream": "stdout",
       "text": [
        "INFO:  \r\n",
        "INFO:  ########## /home/jakob/anaconda/bin/ocropus-rpred -Q 7 -m ../htwmusik-m\r\n",
        "INFO:  \r\n",
        "INFO:  #inputs62\r\n",
        "# loading object ../htwmusik-models/catalog2-gt-model.model-00101000.pyrnn.gz\r\n"
       ]
      },
      {
       "output_type": "stream",
       "stream": "stdout",
       "text": [
        "INFO:  ../result-catalog2-gt-model/SD00200000003/010007.bin.png:Hoffnung. Fort f\u00fcr einen Abend. Welt im Sand. Weisst du noch.\r\n",
        "INFO:  ../result-catalog2-gt-model/SD00200000003/010001.bin.png:Babylon\r\n",
        "INFO:  ../result-catalog2-gt-model/SD00200000003/010002.bin.png:55 CD 289 - 4"
       ]
      },
      {
       "output_type": "stream",
       "stream": "stdout",
       "text": [
        "\r\n",
        "INFO:  ../result-catalog2-gt-model/SD00200000003/010003.bin.png:Beatste : Hit-Rarit\u00e4ten aus dem DDR-Rundfunkarchiv. - Berlin :\r\n",
        "INFO:  ../result-catalog2-gt-model/SD00200000003/010006.bin.png:Enth.: Jagd auf Liebe. Steigen Nebel. Zu Fuss. Tshgiten-Legende.\r\n",
        "INFO:  ../result-catalog2-gt-model/SD00200000003/010004.bin.png:Edition Barbarossa.\r\n",
        "INFO:  ../result-catalog2-gt-model/SD00200000003/010005.bin.png:Vol. 4. - [1996]. - 1 Compact Disc + Beih.\r\n"
       ]
      },
      {
       "output_type": "stream",
       "stream": "stdout",
       "text": [
        "INFO:  ../result-catalog2-gt-model/SD00200000003/01000b.bin.png:weiterf\u00fchren.\r\n"
       ]
      },
      {
       "output_type": "stream",
       "stream": "stdout",
       "text": [
        "INFO:  ../result-catalog2-gt-model/SD00200000245/010002.bin.png:Reimann Aribert: Das Schloss [Forts.]\r\n"
       ]
      },
      {
       "output_type": "stream",
       "stream": "stdout",
       "text": [
        "INFO:  ../result-catalog2-gt-model/SD00200000245/010003.bin.png:P 1997.\r\n"
       ]
      },
      {
       "output_type": "stream",
       "stream": "stdout",
       "text": [
        "INFO:  ../result-catalog2-gt-model/SD00200000245/010001.bin.png:Bayerisches Staatsorchester <M\u00fcnchen>\r\n"
       ]
      },
      {
       "output_type": "stream",
       "stream": "stdout",
       "text": [
        "INFO:  ../result-catalog2-gt-model/SD00200000003/01000c.bin.png:Interbr.: Rosalili. Lift. Babon. Keks. Puhdys. Karat.\r\n"
       ]
      },
      {
       "output_type": "stream",
       "stream": "stdout",
       "text": [
        "INFO:  ../result-catalog2-gt-model/SD00200000003/01000a.bin.png:Ein Augenblick der Z\u00e4rtlichkeit. Das Bild. Strassen, die dich\r\n"
       ]
      },
      {
       "output_type": "stream",
       "stream": "stdout",
       "text": [
        "INFO:  ../result-catalog2-gt-model/SD00200000245/010005.bin.png:NE: Interpr.\r\n"
       ]
      },
      {
       "output_type": "stream",
       "stream": "stdout",
       "text": [
        "INFO:  ../result-catalog2-gt-model/SD00200000003/010009.bin.png:die Weide. Einmal unsichtbar sein. Schwester. Heisses Land.\r\n",
        "INFO:  ../result-catalog2-gt-model/SD00200000003/010008.bin.png:Wir gehn zu mir. Der Morgen auf dem Gipfel. Aus dem All. Am Fluss\r\n"
       ]
      },
      {
       "output_type": "stream",
       "stream": "stdout",
       "text": [
        "INFO:  ../result-catalog2-gt-model/SD00200000245/010006.bin.png:55 CD 223 - 1.2\r\n"
       ]
      },
      {
       "output_type": "stream",
       "stream": "stdout",
       "text": [
        "INFO:  ../result-catalog2-gt-model/SD00200000608/010002.bin.png:siehe\r\n"
       ]
      },
      {
       "output_type": "stream",
       "stream": "stdout",
       "text": [
        "INFO:  ../result-catalog2-gt-model/SD00200000245/010004.bin.png:Best.-Nr. Wergo WEr 6614-2\r\n"
       ]
      },
      {
       "output_type": "stream",
       "stream": "stdout",
       "text": [
        "INFO:  ../result-catalog2-gt-model/SD00600000258/010002.bin.png:Singverein\r\n"
       ]
      },
      {
       "output_type": "stream",
       "stream": "stdout",
       "text": [
        "INFO:  ../result-catalog2-gt-model/SD00200000608/010003.bin.png:Klav~rn~ Kvarteto Bohuslava Martim~\r\n",
        "INFO:  ../result-catalog2-gt-model/SD00200000608/010001.bin.png:Bohuslav Martim~ Piano Quartet\r\n"
       ]
      },
      {
       "output_type": "stream",
       "stream": "stdout",
       "text": [
        "INFO:  ../result-catalog2-gt-model/SD00600000258/010006.bin.png:55 CD 77 - 1\r\n"
       ]
      },
      {
       "output_type": "stream",
       "stream": "stdout",
       "text": [
        "INFO:  ../result-catalog2-gt-model/SD00600000258/010001.bin.png:Gesellschaft der Musikfreunde <Wien> /\r\n"
       ]
      },
      {
       "output_type": "stream",
       "stream": "stdout",
       "text": [
        "INFO:  ../result-catalog2-gt-model/SD00600000258/010003.bin.png:Beethoven Ludwi van: [Sinfonien] [Forts.]\r\n",
        "INFO:  ../result-catalog2-gt-model/SD00600000258/010004.bin.png:Best.-Nr. Deutsche Grammophon 453 701-2\r\n"
       ]
      },
      {
       "output_type": "stream",
       "stream": "stdout",
       "text": [
        "INFO:  ../result-catalog2-gt-model/SD00600000258/010005.bin.png:NE : Beethoven, Ludwig van: Ser.; Interpr.\r\n"
       ]
      },
      {
       "output_type": "stream",
       "stream": "stdout",
       "text": [
        "INFO:  ../result-catalog2-gt-model/SD00600000272/010002.bin.png:B ch J h nn ebastian:\r\n"
       ]
      },
      {
       "output_type": "stream",
       "stream": "stdout",
       "text": [
        "INFO:  ../result-catalog2-gt-model/SD00600000272/010003.bin.png:[Kantaten / Ausw.] Cantatas / Bach. - Hamburg : Edel.\r\n"
       ]
      },
      {
       "output_type": "stream",
       "stream": "stdout",
       "text": [
        "INFO:  ../result-catalog2-gt-model/SD00600000272/010001.bin.png:Gewandhausorchester <Leipzig> 55 CD 1779 - 1,6\r\n"
       ]
      },
      {
       "output_type": "stream",
       "stream": "stdout",
       "text": [
        "INFO:  ../result-catalog2-gt-model/SD00600000272/010006.bin.png:Jesu Christ BWV 177. Ein ungef\u00e4rbt Gem\u00fcte BWV 24.\r\n"
       ]
      },
      {
       "output_type": "stream",
       "stream": "stdout",
       "text": [
        "INFO:  ../result-catalog2-gt-model/SD00600000272/010005.bin.png:Enth.: Sei Lob und Ehr dem h\u00f6chsten Gut BWV 117. Ich rufzu dir, Herr\r\n"
       ]
      },
      {
       "output_type": "stream",
       "stream": "stdout",
       "text": [
        "INFO:  ../result-catalog2-gt-model/SD00600000272/010008.bin.png:[Alt]. Lutze, Gert [Ten]. Hauptmann, Hans [Bass]. K\u00e4stner, Hannes\r\n"
       ]
      },
      {
       "output_type": "stream",
       "stream": "stdout",
       "text": [
        "INFO:  ../result-catalog2-gt-model/SD00600000272/010007.bin.png:Interpr.: Taube, Ulrike [Sopr]. Schriever, Gerda [Alt]. Fleischer, Eva\r\n"
       ]
      },
      {
       "output_type": "stream",
       "stream": "stdout",
       "text": [
        "INFO:  ../result-catalog2-gt-model/SD00600000272/01000c.bin.png:Ne: Ser.; Interpr.\r\n"
       ]
      },
      {
       "output_type": "stream",
       "stream": "stdout",
       "text": [
        "INFO:  ../result-catalog2-gt-model/SD00600000323/010001.bin.png:CD 38\r\n"
       ]
      },
      {
       "output_type": "stream",
       "stream": "stdout",
       "text": [
        "INFO:  ../result-catalog2-gt-model/SD00600000272/010004.bin.png:6. - [1999]. - 1 Compact Disc + Beih. - (Bach - Made in Germany : Vol. 1, 6)\r\n"
       ]
      },
      {
       "output_type": "stream",
       "stream": "stdout",
       "text": [
        "INFO:  ../result-catalog2-gt-model/SD00600000272/010009.bin.png:[Org]. Ramin, G\u00fcnther [Dir]. Thomanerchor <Leipzig>.\r\n",
        "INFO:  ../result-catalog2-gt-model/SD00600000272/01000b.bin.png:Best.-Nr. Leipzig Classics 00 1806 2 BC\r\n"
       ]
      },
      {
       "output_type": "stream",
       "stream": "stdout",
       "text": [
        "INFO:  ../result-catalog2-gt-model/SD00600000272/01000a.bin.png:Gewandhausorchester <Leipzig>... - Auf.: 1949 - 1954. - P 1965 - 1966\r\n"
       ]
      },
      {
       "output_type": "stream",
       "stream": "stdout",
       "text": [
        "INFO:  ../result-catalog2-gt-model/SD00600000323/010007.bin.png:Interpr.\r\n"
       ]
      },
      {
       "output_type": "stream",
       "stream": "stdout",
       "text": [
        "INFO:  ../result-catalog2-gt-model/SD00600000323/010004.bin.png:Best.-Nr. Capella CTH 2061\r\n"
       ]
      },
      {
       "output_type": "stream",
       "stream": "stdout",
       "text": [
        "INFO:  ../result-catalog2-gt-model/SD00600000535/010003.bin.png:CD 317\r\n"
       ]
      },
      {
       "output_type": "stream",
       "stream": "stdout",
       "text": [
        "INFO:  ../result-catalog2-gt-model/SD00600000535/010001.bin.png:Fa ottissimo [Forts.]\r\n"
       ]
      },
      {
       "output_type": "stream",
       "stream": "stdout",
       "text": [
        "INFO:  ../result-catalog2-gt-model/SD00600000323/010002.bin.png:Rheinber er Gabriel J.: [Trios, V1 Vc Kl op. 112] [Forts.]\r\n",
        "INFO:  ../result-catalog2-gt-model/SD00600000323/010003.bin.png:Aufn.: Walldorf, 1989 u. .ew York City, 1981. - P 1989,\r\n"
       ]
      },
      {
       "output_type": "stream",
       "stream": "stdout",
       "text": [
        "INFO:  ../result-catalog2-gt-model/SD00600000535/010002.bin.png:Best. -Nr. MD + G L 3379\r\n"
       ]
      },
      {
       "output_type": "stream",
       "stream": "stdout",
       "text": [
        "INFO:  ../result-catalog2-gt-model/SD00600000323/010005.bin.png:NE: Rheinberger, Gabriel J.: [Thema mit Ver\u00e4nderungen, V1 1 2\r\n",
        "INFO:  ../result-catalog2-gt-model/SD00600000323/010006.bin.png:Va Vc op. 93]; Rheinberger, Gabriel J.: [Nonette op. 139];\r\n"
       ]
      },
      {
       "output_type": "stream",
       "stream": "stdout",
       "text": [
        "INFO:  ../result-catalog2-gt-model/SD00600000535/010004.bin.png:NE: Fu~ik, Julius: [Vstup gladi~tor~ / Arr.]; Ridout, Alan:\r\n"
       ]
      },
      {
       "output_type": "stream",
       "stream": "stdout",
       "text": [
        "INFO:  ../result-catalog2-gt-model/SD00600000535/010005.bin.png:[Pigs]; Weissenborn, Christian J.: [Stucke, Fg 1 2 3 op. 4 /\r\n"
       ]
      },
      {
       "output_type": "stream",
       "stream": "stdout",
       "text": [
        "INFO:  ../result-catalog2-gt-model/SD00600000535/010007.bin.png:[Foxtrott / Arr.]; Schickele, Peter: [Last Tango in Bayreuth];\r\n",
        "INFO:  ../result-catalog2-gt-model/SD00600000535/010006.bin.png:Ausw.]; Voert, Georg ter: [Polka in Swing]; Seiber, M~ty~s G.:\r\n"
       ]
      },
      {
       "output_type": "stream",
       "stream": "stdout",
       "text": [
        "INFO:  ../result-catalog2-gt-model/SD00600000535/010008.bin.png:Monti, Vittorio: [Czardas / Arr.]; Jakob, Gordon P.: [Prelude,\r\n"
       ]
      },
      {
       "output_type": "stream",
       "stream": "stdout",
       "text": [
        "INFO:  ../result-catalog2-gt-model/SD00600000535/01000a.bin.png:Peter: [Scherzo, Nocturno w Blea]; Prokof'ev, Sergej S.:\r\n"
       ]
      },
      {
       "output_type": "stream",
       "stream": "stdout",
       "text": [
        "INFO:  ../result-catalog2-gt-model/SD00600000535/010009.bin.png:fugue and scherzo]; Bozza, Eugne: [Divertissement]; Jansen,\r\n"
       ]
      },
      {
       "output_type": "stream",
       "stream": "stdout",
       "text": [
        "INFO:  ../result-catalog2-gt-model/SD01200000085/010004.bin.png:P 1995.\r\n"
       ]
      },
      {
       "output_type": "stream",
       "stream": "stdout",
       "text": [
        "INFO:  ../result-catalog2-gt-model/SD01200000085/010002.bin.png:55 CD 105 - 1.2\r\n"
       ]
      },
      {
       "output_type": "stream",
       "stream": "stdout",
       "text": [
        "INFO:  ../result-catalog2-gt-model/SD01200000085/010005.bin.png:Best. -Nr. Chandos CHAN 9370/71\r\n"
       ]
      },
      {
       "output_type": "stream",
       "stream": "stdout",
       "text": [
        "INFO:  ../result-catalog2-gt-model/SD01200000085/010001.bin.png:Opera North <Leeds> / Chorus\r\n"
       ]
      },
      {
       "output_type": "stream",
       "stream": "stdout",
       "text": [
        "INFO:  ../result-catalog2-gt-model/SD01200000085/010006.bin.png:NE: Hassall, Christopher [Textverf.]; Interpr.\r\n"
       ]
      },
      {
       "output_type": "stream",
       "stream": "stdout",
       "text": [
        "INFO:  ../result-catalog2-gt-model/SD01200000085/010003.bin.png:Walton William: Troilus and Cressida [Forts.]\r\n"
       ]
      }
     ],
     "prompt_number": 47
    },
    {
     "cell_type": "code",
     "collapsed": false,
     "input": [
      "!awk '1' ../result-catalog2-gt-model/*/*.txt"
     ],
     "language": "python",
     "metadata": {},
     "outputs": [
      {
       "output_type": "stream",
       "stream": "stdout",
       "text": [
        "Babylon\r\n",
        "55 CD 289 - 4\r\n",
        "Beatste : Hit-Rarit\u00e4ten aus dem DDR-Rundfunkarchiv. - Berlin :\r\n",
        "Edition Barbarossa.\r\n",
        "Vol. 4. - [1996]. - 1 Compact Disc + Beih.\r\n",
        "Enth.: Jagd auf Liebe. Steigen Nebel. Zu Fuss. Tshgiten-Legende.\r\n",
        "Hoffnung. Fort f\u00fcr einen Abend. Welt im Sand. Weisst du noch.\r\n",
        "Wir gehn zu mir. Der Morgen auf dem Gipfel. Aus dem All. Am Fluss\r\n",
        "die Weide. Einmal unsichtbar sein. Schwester. Heisses Land.\r\n",
        "Ein Augenblick der Z\u00e4rtlichkeit. Das Bild. Strassen, die dich\r\n",
        "weiterf\u00fchren.\r\n",
        "Interbr.: Rosalili. Lift. Babon. Keks. Puhdys. Karat.\r\n",
        "Bayerisches Staatsorchester <M\u00fcnchen>\r\n",
        "Reimann Aribert: Das Schloss [Forts.]\r\n",
        "P 1997.\r\n",
        "Best.-Nr. Wergo WEr 6614-2\r\n",
        "NE: Interpr.\r\n",
        "55 CD 223 - 1.2\r\n",
        "Bohuslav Martim~ Piano Quartet\r\n",
        "siehe\r\n",
        "Klav~rn~ Kvarteto Bohuslava Martim~\r\n",
        "Gesellschaft der Musikfreunde <Wien> /\r\n",
        "Singverein\r\n",
        "Beethoven Ludwi van: [Sinfonien] [Forts.]\r\n",
        "Best.-Nr. Deutsche Grammophon 453 701-2\r\n",
        "NE : Beethoven, Ludwig van: Ser.; Interpr.\r\n",
        "55 CD 77 - 1\r\n",
        "Gewandhausorchester <Leipzig> 55 CD 1779 - 1,6\r\n",
        "B ch J h nn ebastian:\r\n",
        "[Kantaten / Ausw.] Cantatas / Bach. - Hamburg : Edel.\r\n",
        "6. - [1999]. - 1 Compact Disc + Beih. - (Bach - Made in Germany : Vol. 1, 6)\r\n",
        "Enth.: Sei Lob und Ehr dem h\u00f6chsten Gut BWV 117. Ich rufzu dir, Herr\r\n",
        "Jesu Christ BWV 177. Ein ungef\u00e4rbt Gem\u00fcte BWV 24.\r\n",
        "Interpr.: Taube, Ulrike [Sopr]. Schriever, Gerda [Alt]. Fleischer, Eva\r\n",
        "[Alt]. Lutze, Gert [Ten]. Hauptmann, Hans [Bass]. K\u00e4stner, Hannes\r\n",
        "[Org]. Ramin, G\u00fcnther [Dir]. Thomanerchor <Leipzig>.\r\n",
        "Gewandhausorchester <Leipzig>... - Auf.: 1949 - 1954. - P 1965 - 1966\r\n",
        "Best.-Nr. Leipzig Classics 00 1806 2 BC\r\n",
        "Ne: Ser.; Interpr.\r\n",
        "CD 38\r\n",
        "Rheinber er Gabriel J.: [Trios, V1 Vc Kl op. 112] [Forts.]\r\n",
        "Aufn.: Walldorf, 1989 u. .ew York City, 1981. - P 1989,\r\n",
        "Best.-Nr. Capella CTH 2061\r\n",
        "NE: Rheinberger, Gabriel J.: [Thema mit Ver\u00e4nderungen, V1 1 2\r\n",
        "Va Vc op. 93]; Rheinberger, Gabriel J.: [Nonette op. 139];\r\n",
        "Interpr.\r\n",
        "Fa ottissimo [Forts.]\r\n",
        "Best. -Nr. MD + G L 3379\r\n",
        "CD 317\r\n",
        "NE: Fu~ik, Julius: [Vstup gladi~tor~ / Arr.]; Ridout, Alan:\r\n",
        "[Pigs]; Weissenborn, Christian J.: [Stucke, Fg 1 2 3 op. 4 /\r\n",
        "Ausw.]; Voert, Georg ter: [Polka in Swing]; Seiber, M~ty~s G.:\r\n",
        "[Foxtrott / Arr.]; Schickele, Peter: [Last Tango in Bayreuth];\r\n",
        "Monti, Vittorio: [Czardas / Arr.]; Jakob, Gordon P.: [Prelude,\r\n",
        "fugue and scherzo]; Bozza, Eugne: [Divertissement]; Jansen,\r\n",
        "Peter: [Scherzo, Nocturno w Blea]; Prokof'ev, Sergej S.:\r\n",
        "Opera North <Leeds> / Chorus\r\n",
        "55 CD 105 - 1.2\r\n",
        "Walton William: Troilus and Cressida [Forts.]\r\n",
        "P 1995.\r\n",
        "Best. -Nr. Chandos CHAN 9370/71\r\n",
        "NE: Hassall, Christopher [Textverf.]; Interpr.\r\n"
       ]
      }
     ],
     "prompt_number": 51
    },
    {
     "cell_type": "code",
     "collapsed": false,
     "input": [
      "!awk '1' ../catalog-gt/SD/*/*.txt"
     ],
     "language": "python",
     "metadata": {},
     "outputs": [
      {
       "output_type": "stream",
       "stream": "stdout",
       "text": [
        "Babylon\r\n",
        "55 CD 289 - 4\r\n",
        "Beatkiste : Hit-Rarit\u00e4ten aus dem DDR-Rundfunkarchiv. - Berlin :\r\n",
        "Edition Barbarossa.\r\n",
        "Vol. 4. - [1996]. - 1 Compact Disc + Beih.\r\n",
        "Enth.: Jagd auf Liebe. Steigen Nebel. Zu Fuss. Tshgiten-Legende\r\n",
        "Hoffnung. Fort f\u00fcr einen Abend. Welt im Sand. Weisst du noch.\r\n",
        "Wir gehn zu mir. Der Morgen auf dem Gipfel. Aus dem All. Am Fluss\r\n",
        "die Weide. Einmal unsichtbar sein. Schwester. Heisses Land.\r\n",
        "Ein Augenblick der Z\u00e4rtlichkeit. Das Bild. Strassen, die dich\r\n",
        "weiterf\u00fchren.\r\n",
        "Interbr.: Rosalili. Lift. Babylon. Keks. Puhdys. Karat\r\n",
        "Bayerisches Staatsorchester <M\u00fcnchen>\r\n",
        "Reimann Aribert: Das Schloss [Forts.]\r\n",
        "P 1997\r\n",
        "Best.-Nr. Wergo Wer 6614-2\r\n",
        "NE: Interpr.\r\n",
        "55 CD 223 - 1.2\r\n"
       ]
      },
      {
       "output_type": "stream",
       "stream": "stdout",
       "text": [
        "Bohuslav Martim\u016f Piano Quartet\r\n",
        "siehe\r\n",
        "Klav\u01d0rn\u01d0 Kvarteto Bohuslava Martim\u016f\r\n",
        "2 Gesellschaft der Musikfreunde <Wien> /\r\n",
        "Singverein\r\n",
        "Beethoven Ludwig van: [Sinfonien] [Forts.]\r\n",
        "Best.-Nr. Deutsche Grammophon 453 701-2\r\n",
        "NE : Beethoven, Ludwig van: Ser.; Interpr.\r\n",
        "55 CD 77 - 1\r\n",
        "Gewandhausorchester <Leipzig> 55 CD 1779 - 1,6\r\n",
        "Bach, Johann Sebastian:\r\n",
        "[Kantaten / Ausw.] Cantatas / Bach. - Hamburg : Edel.\r\n",
        "6. - [1999]. - 1 Compact Disc + Beih. - (Bach - Made in Germany : Vol. 1, 6)\r\n",
        "Enth.: Sei Lob und Ehr dem h\u00f6chsten Gut BWV 117. Ich ruf zu dir, Herr\r\n",
        "Jesu Christ BWV 177. Ein ungef\u00e4rbt Gem\u00fcte BWV 24.\r\n",
        "Interpr.: Taube, Ulrike [Sopr]. Schriever, Gerda [Alt]. Fleischer, Eva\r\n"
       ]
      },
      {
       "output_type": "stream",
       "stream": "stdout",
       "text": [
        "[Alt]. Lutze, Gert [Ten]. Hauptmann, Hans [Bass]. K\u00e4stner, Hannes\r\n",
        "[Org]. Ramin, G\u00fcnther [Dir]. Thomanerchor <Leipzig>.\r\n",
        "Gewandhausorchester <Leipzig>... - Auf.: 1949 - 1954. - P 1965 - 1966\r\n",
        "Best.-Nr. Leipzig Classics 00 1806 2 BC\r\n",
        "Ne: Ser.; Interpr.\r\n",
        "CD 38\r\n",
        "Rheinberger Gabriel J.: [Trios, V1 Vc Kl op. 112] [Forts.]\r\n",
        "Auf.: Walldorf, 1989 u. New York City, 1981. - P 1989\r\n",
        "Best.-Nr. Capella CTH 2061\r\n",
        "NE: Rheinberger, Gabriel J.: [Thema mit Ver\u00e4nderungen, V1 1 2\r\n",
        "Va Vc op. 93]; Rheinberger, Gabriel J.: [Nonette op. 139];\r\n",
        "Interpr.\r\n",
        "Fagottissimo [Forts.]\r\n",
        "Best.-Nr. MD + G L 3379\r\n",
        "CD 317\r\n",
        "NE: Fu\u010dik, Julius: [Vstup gladi\u00e1tor\u016f / Arr.]; Ridout, Alan:\r\n",
        "[Pigs]; Weissenborn, Christian J.: [Stucke, Fg 1 2 3 op. 4 /\r\n",
        "Ausw.]; Voert, Georg ter: [Polka in Swing]; Seiber, M\u00e1ty\u00e1s G.:\r\n",
        "[Foxtrott / Arr.]; Schickele, Peter: [Last Tango in Bayreuth];\r\n",
        "Monti, Vittorio: [Czardas / Arr.]; Jakob, Gordon P.: [Prelude,\r\n",
        "fugue and scherzo]; Bozza, Eug\u00e8ne: [Divertissement]; Jansen,\r\n",
        "Peter: [Scherzo, Nocturno und Burlesca]; Prokof'ev, Sergej S.:\r\n"
       ]
      },
      {
       "output_type": "stream",
       "stream": "stdout",
       "text": [
        "Opera North <Leeds> / Chorus\r\n",
        "55 CD 105 - 1.2\r\n",
        "Walton William: Troilus and Cressida [Forts.]\r\n",
        "P 1995.\r\n",
        "Best. -Nr. Chandos CHAN 9370/71\r\n",
        "Ne : Hassall, Christopher [Textverf.]; Interpr.\r\n"
       ]
      }
     ],
     "prompt_number": 52
    },
    {
     "cell_type": "code",
     "collapsed": false,
     "input": [],
     "language": "python",
     "metadata": {},
     "outputs": []
    }
   ],
   "metadata": {}
  }
 ]
}