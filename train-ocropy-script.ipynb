{
 "cells": [
  {
   "cell_type": "markdown",
   "metadata": {},
   "source": [
    "## Trainieren eines OCR-Modells"
   ]
  },
  {
   "cell_type": "code",
   "execution_count": 1,
   "metadata": {
    "collapsed": false
   },
   "outputs": [],
   "source": [
    "from os.path import join, split, splitext,commonprefix, isdir\n",
    "from os import makedirs, listdir\n",
    "from glob import glob"
   ]
  },
  {
   "cell_type": "code",
   "execution_count": 2,
   "metadata": {
    "collapsed": false
   },
   "outputs": [
    {
     "name": "stdout",
     "output_type": "stream",
     "text": [
      "en-default.pyrnn.gz  rewrites1.txt  rewrites2.txt\n",
      "mkdir: cannot create directory ‘../htwmusik-models’: File exists\n",
      "mkdir: cannot create directory ‘../htwmusik-models/catalog2-gt-model’: File exists\n"
     ]
    }
   ],
   "source": [
    "!ls ../ocropy/models/\n",
    "!mkdir ../htwmusik-models\n",
    "!mkdir ../htwmusik-models/catalog2-gt-model"
   ]
  },
  {
   "cell_type": "code",
   "execution_count": 3,
   "metadata": {
    "collapsed": false
   },
   "outputs": [],
   "source": [
    "# 1. \n",
    "model = '../htwmusik-models/catalog2-gt-model.model'\n",
    "modeldir = '../htwmusik-models/catalog2-gt-model'"
   ]
  },
  {
   "cell_type": "code",
   "execution_count": 4,
   "metadata": {
    "collapsed": false
   },
   "outputs": [
    {
     "ename": "TypeError",
     "evalue": "process() got an unexpected keyword argument 'p'",
     "output_type": "error",
     "traceback": [
      "\u001b[1;31m---------------------------------------------------------------------------\u001b[0m",
      "\u001b[1;31mTypeError\u001b[0m                                 Traceback (most recent call last)",
      "\u001b[1;32m<ipython-input-4-bcb775ac2f67>\u001b[0m in \u001b[0;36m<module>\u001b[1;34m()\u001b[0m\n\u001b[0;32m      5\u001b[0m \u001b[0mgt2train_gt\u001b[0m   \u001b[1;33m=\u001b[0m \u001b[0mcatalogutils\u001b[0m\u001b[1;33m.\u001b[0m\u001b[0mtransform\u001b[0m\u001b[1;33m(\u001b[0m\u001b[1;34m'../catalog-gt/SD/'\u001b[0m\u001b[1;33m,\u001b[0m\u001b[0mmodeldir\u001b[0m\u001b[1;33m,\u001b[0m\u001b[1;34m'*/*.gt.txt'\u001b[0m\u001b[1;33m)\u001b[0m\u001b[1;33m\u001b[0m\u001b[0m\n\u001b[0;32m      6\u001b[0m \u001b[1;33m\u001b[0m\u001b[0m\n\u001b[1;32m----> 7\u001b[1;33m \u001b[0mcatalogutils\u001b[0m\u001b[1;33m.\u001b[0m\u001b[0mprocess\u001b[0m\u001b[1;33m(\u001b[0m\u001b[0mgt2train_gt\u001b[0m  \u001b[1;33m,\u001b[0m \u001b[0mp\u001b[0m\u001b[1;33m=\u001b[0m\u001b[1;34m'cp {} {}'\u001b[0m\u001b[1;33m,\u001b[0m \u001b[0mexecute\u001b[0m\u001b[1;33m=\u001b[0m\u001b[0mTrue\u001b[0m\u001b[1;33m)\u001b[0m\u001b[1;33m\u001b[0m\u001b[0m\n\u001b[0m\u001b[0;32m      8\u001b[0m \u001b[0mcatalogutils\u001b[0m\u001b[1;33m.\u001b[0m\u001b[0mprocess\u001b[0m\u001b[1;33m(\u001b[0m\u001b[0mimg2train_img\u001b[0m\u001b[1;33m,\u001b[0m \u001b[0mp\u001b[0m\u001b[1;33m=\u001b[0m\u001b[1;34m'cp {} {}'\u001b[0m\u001b[1;33m,\u001b[0m \u001b[0mexecute\u001b[0m\u001b[1;33m=\u001b[0m\u001b[0mTrue\u001b[0m\u001b[1;33m)\u001b[0m\u001b[1;33m\u001b[0m\u001b[0m\n",
      "\u001b[1;31mTypeError\u001b[0m: process() got an unexpected keyword argument 'p'"
     ]
    }
   ],
   "source": [
    "# Groundtruth, Testbilder im zum Lernen kombinieren\n",
    "import catalogutils\n",
    "reload(catalogutils)\n",
    "img2train_img = catalogutils.transform('../catalog-testset/SD/',modeldir,'*/*.bin.png', listdir(join('../catalog-gt/','SD')) )\n",
    "gt2train_gt   = catalogutils.transform('../catalog-gt/SD/',modeldir,'*/*.gt.txt')\n",
    "\n",
    "catalogutils.process(gt2train_gt  , p='cp {} {}', execute=True)\n",
    "catalogutils.process(img2train_img, p='cp {} {}', execute=True)"
   ]
  },
  {
   "cell_type": "code",
   "execution_count": 6,
   "metadata": {
    "collapsed": false
   },
   "outputs": [
    {
     "ename": "NameError",
     "evalue": "name 'cap' is not defined",
     "output_type": "error",
     "traceback": [
      "\u001b[1;31m---------------------------------------------------------------------------\u001b[0m",
      "\u001b[1;31mNameError\u001b[0m                                 Traceback (most recent call last)",
      "\u001b[1;32m<ipython-input-6-a49e236ef053>\u001b[0m in \u001b[0;36m<module>\u001b[1;34m()\u001b[0m\n\u001b[0;32m      1\u001b[0m \u001b[0mget_ipython\u001b[0m\u001b[1;33m(\u001b[0m\u001b[1;33m)\u001b[0m\u001b[1;33m.\u001b[0m\u001b[0msystem\u001b[0m\u001b[1;33m(\u001b[0m\u001b[1;34mu'ocropus-rtrain --load ../ocropy/models/en-default.pyrnn.gz -o ../htwmusik-models/catalog2-gt-model.model ../htwmusik-models/catalog2-gt-model/*/*.bin.png'\u001b[0m\u001b[1;33m)\u001b[0m\u001b[1;33m\u001b[0m\u001b[0m\n\u001b[0;32m      2\u001b[0m \u001b[1;32mwith\u001b[0m \u001b[0mopen\u001b[0m\u001b[1;33m(\u001b[0m\u001b[1;34m'training.txt'\u001b[0m\u001b[1;33m,\u001b[0m \u001b[1;34m'w'\u001b[0m\u001b[1;33m)\u001b[0m \u001b[1;32mas\u001b[0m \u001b[0mf\u001b[0m\u001b[1;33m:\u001b[0m\u001b[1;33m\u001b[0m\u001b[0m\n\u001b[1;32m----> 3\u001b[1;33m     \u001b[0mf\u001b[0m\u001b[1;33m.\u001b[0m\u001b[0mwrite\u001b[0m\u001b[1;33m(\u001b[0m\u001b[0mcap\u001b[0m\u001b[1;33m.\u001b[0m\u001b[0mstdout\u001b[0m\u001b[1;33m)\u001b[0m\u001b[1;33m\u001b[0m\u001b[0m\n\u001b[0m",
      "\u001b[1;31mNameError\u001b[0m: name 'cap' is not defined"
     ]
    }
   ],
   "source": [
    "%%capture cap --no-stderr\n",
    "!ocropus-rtrain --load ../ocropy/models/en-default.pyrnn.gz -o ../htwmusik-models/catalog2-gt-model.model ../htwmusik-models/catalog2-gt-model/*/*.bin.png\n",
    "with open('training.txt', 'w') as f:\n",
    "    f.write(cap.stdout)"
   ]
  },
  {
   "cell_type": "code",
   "execution_count": 45,
   "metadata": {
    "collapsed": false
   },
   "outputs": [
    {
     "name": "stdout",
     "output_type": "stream",
     "text": [
      "../catalog-testset/SD/*/*.bin.png\n",
      "cp ../catalog-testset/SD/SD00200000245/010005.bin.png ../result-catalog2-gt-model/SD00200000245/010005.bin.png\n",
      "create dir  ../result-catalog2-gt-model/SD00200000245\n",
      "cp ../catalog-testset/SD/SD00200000245/010001.bin.png ../result-catalog2-gt-model/SD00200000245/010001.bin.png\n",
      "cp ../catalog-testset/SD/SD00200000245/010003.bin.png ../result-catalog2-gt-model/SD00200000245/010003.bin.png\n",
      "cp ../catalog-testset/SD/SD00200000245/010006.bin.png ../result-catalog2-gt-model/SD00200000245/010006.bin.png\n",
      "cp ../catalog-testset/SD/SD00200000245/010002.bin.png ../result-catalog2-gt-model/SD00200000245/010002.bin.png\n",
      "cp ../catalog-testset/SD/SD00200000245/010004.bin.png ../result-catalog2-gt-model/SD00200000245/010004.bin.png\n",
      "cp ../catalog-testset/SD/SD00200000003/010005.bin.png ../result-catalog2-gt-model/SD00200000003/010005.bin.png\n",
      "create dir  ../result-catalog2-gt-model/SD00200000003\n",
      "cp ../catalog-testset/SD/SD00200000003/01000a.bin.png ../result-catalog2-gt-model/SD00200000003/01000a.bin.png\n",
      "cp ../catalog-testset/SD/SD00200000003/010001.bin.png ../result-catalog2-gt-model/SD00200000003/010001.bin.png\n",
      "cp ../catalog-testset/SD/SD00200000003/010007.bin.png ../result-catalog2-gt-model/SD00200000003/010007.bin.png\n",
      "cp ../catalog-testset/SD/SD00200000003/01000c.bin.png ../result-catalog2-gt-model/SD00200000003/01000c.bin.png\n",
      "cp ../catalog-testset/SD/SD00200000003/01000b.bin.png ../result-catalog2-gt-model/SD00200000003/01000b.bin.png\n",
      "cp ../catalog-testset/SD/SD00200000003/010003.bin.png ../result-catalog2-gt-model/SD00200000003/010003.bin.png\n",
      "cp ../catalog-testset/SD/SD00200000003/010008.bin.png ../result-catalog2-gt-model/SD00200000003/010008.bin.png\n",
      "cp ../catalog-testset/SD/SD00200000003/010006.bin.png ../result-catalog2-gt-model/SD00200000003/010006.bin.png\n",
      "cp ../catalog-testset/SD/SD00200000003/010002.bin.png ../result-catalog2-gt-model/SD00200000003/010002.bin.png\n",
      "cp ../catalog-testset/SD/SD00200000003/010009.bin.png ../result-catalog2-gt-model/SD00200000003/010009.bin.png\n",
      "cp ../catalog-testset/SD/SD00200000003/010004.bin.png ../result-catalog2-gt-model/SD00200000003/010004.bin.png\n",
      "cp ../catalog-testset/SD/SD00200000608/010001.bin.png ../result-catalog2-gt-model/SD00200000608/010001.bin.png\n",
      "create dir  ../result-catalog2-gt-model/SD00200000608\n",
      "cp ../catalog-testset/SD/SD00200000608/010003.bin.png ../result-catalog2-gt-model/SD00200000608/010003.bin.png\n",
      "cp ../catalog-testset/SD/SD00200000608/010002.bin.png ../result-catalog2-gt-model/SD00200000608/010002.bin.png\n",
      "cp ../catalog-testset/SD/SD00600000258/010005.bin.png ../result-catalog2-gt-model/SD00600000258/010005.bin.png\n",
      "create dir  ../result-catalog2-gt-model/SD00600000258\n",
      "cp ../catalog-testset/SD/SD00600000258/010001.bin.png ../result-catalog2-gt-model/SD00600000258/010001.bin.png\n",
      "cp ../catalog-testset/SD/SD00600000258/010003.bin.png ../result-catalog2-gt-model/SD00600000258/010003.bin.png\n",
      "cp ../catalog-testset/SD/SD00600000258/010006.bin.png ../result-catalog2-gt-model/SD00600000258/010006.bin.png\n",
      "cp ../catalog-testset/SD/SD00600000258/010002.bin.png ../result-catalog2-gt-model/SD00600000258/010002.bin.png\n",
      "cp ../catalog-testset/SD/SD00600000258/010004.bin.png ../result-catalog2-gt-model/SD00600000258/010004.bin.png\n",
      "cp ../catalog-testset/SD/SD00600000272/010005.bin.png ../result-catalog2-gt-model/SD00600000272/010005.bin.png\n",
      "create dir  ../result-catalog2-gt-model/SD00600000272\n",
      "cp ../catalog-testset/SD/SD00600000272/01000a.bin.png ../result-catalog2-gt-model/SD00600000272/01000a.bin.png\n",
      "cp ../catalog-testset/SD/SD00600000272/010001.bin.png ../result-catalog2-gt-model/SD00600000272/010001.bin.png\n",
      "cp ../catalog-testset/SD/SD00600000272/010007.bin.png ../result-catalog2-gt-model/SD00600000272/010007.bin.png\n",
      "cp ../catalog-testset/SD/SD00600000272/01000c.bin.png ../result-catalog2-gt-model/SD00600000272/01000c.bin.png\n",
      "cp ../catalog-testset/SD/SD00600000272/01000b.bin.png ../result-catalog2-gt-model/SD00600000272/01000b.bin.png\n",
      "cp ../catalog-testset/SD/SD00600000272/010003.bin.png ../result-catalog2-gt-model/SD00600000272/010003.bin.png\n",
      "cp ../catalog-testset/SD/SD00600000272/010008.bin.png ../result-catalog2-gt-model/SD00600000272/010008.bin.png\n",
      "cp ../catalog-testset/SD/SD00600000272/010006.bin.png ../result-catalog2-gt-model/SD00600000272/010006.bin.png\n",
      "cp ../catalog-testset/SD/SD00600000272/010002.bin.png ../result-catalog2-gt-model/SD00600000272/010002.bin.png\n",
      "cp ../catalog-testset/SD/SD00600000272/010009.bin.png ../result-catalog2-gt-model/SD00600000272/010009.bin.png\n",
      "cp ../catalog-testset/SD/SD00600000272/010004.bin.png ../result-catalog2-gt-model/SD00600000272/010004.bin.png\n",
      "cp ../catalog-testset/SD/SD01200000085/010005.bin.png ../result-catalog2-gt-model/SD01200000085/010005.bin.png\n",
      "create dir  ../result-catalog2-gt-model/SD01200000085\n",
      "cp ../catalog-testset/SD/SD01200000085/010001.bin.png ../result-catalog2-gt-model/SD01200000085/010001.bin.png\n",
      "cp ../catalog-testset/SD/SD01200000085/010003.bin.png ../result-catalog2-gt-model/SD01200000085/010003.bin.png\n",
      "cp ../catalog-testset/SD/SD01200000085/010006.bin.png ../result-catalog2-gt-model/SD01200000085/010006.bin.png\n",
      "cp ../catalog-testset/SD/SD01200000085/010002.bin.png ../result-catalog2-gt-model/SD01200000085/010002.bin.png\n",
      "cp ../catalog-testset/SD/SD01200000085/010004.bin.png ../result-catalog2-gt-model/SD01200000085/010004.bin.png\n",
      "cp ../catalog-testset/SD/SD00600000535/010005.bin.png ../result-catalog2-gt-model/SD00600000535/010005.bin.png\n",
      "create dir  ../result-catalog2-gt-model/SD00600000535\n",
      "cp ../catalog-testset/SD/SD00600000535/01000a.bin.png ../result-catalog2-gt-model/SD00600000535/01000a.bin.png\n",
      "cp ../catalog-testset/SD/SD00600000535/010001.bin.png ../result-catalog2-gt-model/SD00600000535/010001.bin.png\n",
      "cp ../catalog-testset/SD/SD00600000535/010007.bin.png ../result-catalog2-gt-model/SD00600000535/010007.bin.png\n",
      "cp ../catalog-testset/SD/SD00600000535/010003.bin.png ../result-catalog2-gt-model/SD00600000535/010003.bin.png\n",
      "cp ../catalog-testset/SD/SD00600000535/010008.bin.png ../result-catalog2-gt-model/SD00600000535/010008.bin.png\n",
      "cp ../catalog-testset/SD/SD00600000535/010006.bin.png ../result-catalog2-gt-model/SD00600000535/010006.bin.png\n",
      "cp ../catalog-testset/SD/SD00600000535/010002.bin.png ../result-catalog2-gt-model/SD00600000535/010002.bin.png\n",
      "cp ../catalog-testset/SD/SD00600000535/010009.bin.png ../result-catalog2-gt-model/SD00600000535/010009.bin.png\n",
      "cp ../catalog-testset/SD/SD00600000535/010004.bin.png ../result-catalog2-gt-model/SD00600000535/010004.bin.png\n",
      "cp ../catalog-testset/SD/SD00600000323/010005.bin.png ../result-catalog2-gt-model/SD00600000323/010005.bin.png\n",
      "create dir  ../result-catalog2-gt-model/SD00600000323\n",
      "cp ../catalog-testset/SD/SD00600000323/010001.bin.png ../result-catalog2-gt-model/SD00600000323/010001.bin.png\n",
      "cp ../catalog-testset/SD/SD00600000323/010007.bin.png ../result-catalog2-gt-model/SD00600000323/010007.bin.png\n",
      "cp ../catalog-testset/SD/SD00600000323/010003.bin.png ../result-catalog2-gt-model/SD00600000323/010003.bin.png\n",
      "cp ../catalog-testset/SD/SD00600000323/010006.bin.png ../result-catalog2-gt-model/SD00600000323/010006.bin.png\n",
      "cp ../catalog-testset/SD/SD00600000323/010002.bin.png ../result-catalog2-gt-model/SD00600000323/010002.bin.png\n",
      "cp ../catalog-testset/SD/SD00600000323/010004.bin.png ../result-catalog2-gt-model/SD00600000323/010004.bin.png\n"
     ]
    }
   ],
   "source": [
    "resultdir = '../result-catalog2-gt-model'\n",
    "img2result_img = catalogutils.transform('../catalog-testset/SD/',resultdir,'*/*.bin.png', listdir(join('../catalog-gt/','SD')) )\n",
    "catalogutils.process(img2result_img  , p='cp {} {}', execute=True)"
   ]
  },
  {
   "cell_type": "code",
   "execution_count": 47,
   "metadata": {
    "collapsed": false
   },
   "outputs": [
    {
     "name": "stdout",
     "output_type": "stream",
     "text": [
      "INFO:  \n",
      "INFO:  ########## /home/jakob/anaconda/bin/ocropus-rpred -Q 7 -m ../htwmusik-m\n",
      "INFO:  \n",
      "INFO:  #inputs62\n",
      "# loading object ../htwmusik-models/catalog2-gt-model.model-00101000.pyrnn.gz\n",
      "INFO:  ../result-catalog2-gt-model/SD00200000003/010007.bin.png:Hoffnung. Fort für einen Abend. Welt im Sand. Weisst du noch.\n",
      "INFO:  ../result-catalog2-gt-model/SD00200000003/010001.bin.png:Babylon\n",
      "INFO:  ../result-catalog2-gt-model/SD00200000003/010002.bin.png:55 CD 289 - 4\n",
      "INFO:  ../result-catalog2-gt-model/SD00200000003/010003.bin.png:Beatste : Hit-Raritäten aus dem DDR-Rundfunkarchiv. - Berlin :\n",
      "INFO:  ../result-catalog2-gt-model/SD00200000003/010006.bin.png:Enth.: Jagd auf Liebe. Steigen Nebel. Zu Fuss. Tshgiten-Legende.\n",
      "INFO:  ../result-catalog2-gt-model/SD00200000003/010004.bin.png:Edition Barbarossa.\n",
      "INFO:  ../result-catalog2-gt-model/SD00200000003/010005.bin.png:Vol. 4. - [1996]. - 1 Compact Disc + Beih.\n",
      "INFO:  ../result-catalog2-gt-model/SD00200000003/01000b.bin.png:weiterführen.\n",
      "INFO:  ../result-catalog2-gt-model/SD00200000245/010002.bin.png:Reimann Aribert: Das Schloss [Forts.]\n",
      "INFO:  ../result-catalog2-gt-model/SD00200000245/010003.bin.png:P 1997.\n",
      "INFO:  ../result-catalog2-gt-model/SD00200000245/010001.bin.png:Bayerisches Staatsorchester <München>\n",
      "INFO:  ../result-catalog2-gt-model/SD00200000003/01000c.bin.png:Interbr.: Rosalili. Lift. Babon. Keks. Puhdys. Karat.\n",
      "INFO:  ../result-catalog2-gt-model/SD00200000003/01000a.bin.png:Ein Augenblick der Zärtlichkeit. Das Bild. Strassen, die dich\n",
      "INFO:  ../result-catalog2-gt-model/SD00200000245/010005.bin.png:NE: Interpr.\n",
      "INFO:  ../result-catalog2-gt-model/SD00200000003/010009.bin.png:die Weide. Einmal unsichtbar sein. Schwester. Heisses Land.\n",
      "INFO:  ../result-catalog2-gt-model/SD00200000003/010008.bin.png:Wir gehn zu mir. Der Morgen auf dem Gipfel. Aus dem All. Am Fluss\n",
      "INFO:  ../result-catalog2-gt-model/SD00200000245/010006.bin.png:55 CD 223 - 1.2\n",
      "INFO:  ../result-catalog2-gt-model/SD00200000608/010002.bin.png:siehe\n",
      "INFO:  ../result-catalog2-gt-model/SD00200000245/010004.bin.png:Best.-Nr. Wergo WEr 6614-2\n",
      "INFO:  ../result-catalog2-gt-model/SD00600000258/010002.bin.png:Singverein\n",
      "INFO:  ../result-catalog2-gt-model/SD00200000608/010003.bin.png:Klav~rn~ Kvarteto Bohuslava Martim~\n",
      "INFO:  ../result-catalog2-gt-model/SD00200000608/010001.bin.png:Bohuslav Martim~ Piano Quartet\n",
      "INFO:  ../result-catalog2-gt-model/SD00600000258/010006.bin.png:55 CD 77 - 1\n",
      "INFO:  ../result-catalog2-gt-model/SD00600000258/010001.bin.png:Gesellschaft der Musikfreunde <Wien> /\n",
      "INFO:  ../result-catalog2-gt-model/SD00600000258/010003.bin.png:Beethoven Ludwi van: [Sinfonien] [Forts.]\n",
      "INFO:  ../result-catalog2-gt-model/SD00600000258/010004.bin.png:Best.-Nr. Deutsche Grammophon 453 701-2\n",
      "INFO:  ../result-catalog2-gt-model/SD00600000258/010005.bin.png:NE : Beethoven, Ludwig van: Ser.; Interpr.\n",
      "INFO:  ../result-catalog2-gt-model/SD00600000272/010002.bin.png:B ch J h nn ebastian:\n",
      "INFO:  ../result-catalog2-gt-model/SD00600000272/010003.bin.png:[Kantaten / Ausw.] Cantatas / Bach. - Hamburg : Edel.\n",
      "INFO:  ../result-catalog2-gt-model/SD00600000272/010001.bin.png:Gewandhausorchester <Leipzig> 55 CD 1779 - 1,6\n",
      "INFO:  ../result-catalog2-gt-model/SD00600000272/010006.bin.png:Jesu Christ BWV 177. Ein ungefärbt Gemüte BWV 24.\n",
      "INFO:  ../result-catalog2-gt-model/SD00600000272/010005.bin.png:Enth.: Sei Lob und Ehr dem höchsten Gut BWV 117. Ich rufzu dir, Herr\n",
      "INFO:  ../result-catalog2-gt-model/SD00600000272/010008.bin.png:[Alt]. Lutze, Gert [Ten]. Hauptmann, Hans [Bass]. Kästner, Hannes\n",
      "INFO:  ../result-catalog2-gt-model/SD00600000272/010007.bin.png:Interpr.: Taube, Ulrike [Sopr]. Schriever, Gerda [Alt]. Fleischer, Eva\n",
      "INFO:  ../result-catalog2-gt-model/SD00600000272/01000c.bin.png:Ne: Ser.; Interpr.\n",
      "INFO:  ../result-catalog2-gt-model/SD00600000323/010001.bin.png:CD 38\n",
      "INFO:  ../result-catalog2-gt-model/SD00600000272/010004.bin.png:6. - [1999]. - 1 Compact Disc + Beih. - (Bach - Made in Germany : Vol. 1, 6)\n",
      "INFO:  ../result-catalog2-gt-model/SD00600000272/010009.bin.png:[Org]. Ramin, Günther [Dir]. Thomanerchor <Leipzig>.\n",
      "INFO:  ../result-catalog2-gt-model/SD00600000272/01000b.bin.png:Best.-Nr. Leipzig Classics 00 1806 2 BC\n",
      "INFO:  ../result-catalog2-gt-model/SD00600000272/01000a.bin.png:Gewandhausorchester <Leipzig>... - Auf.: 1949 - 1954. - P 1965 - 1966\n",
      "INFO:  ../result-catalog2-gt-model/SD00600000323/010007.bin.png:Interpr.\n",
      "INFO:  ../result-catalog2-gt-model/SD00600000323/010004.bin.png:Best.-Nr. Capella CTH 2061\n",
      "INFO:  ../result-catalog2-gt-model/SD00600000535/010003.bin.png:CD 317\n",
      "INFO:  ../result-catalog2-gt-model/SD00600000535/010001.bin.png:Fa ottissimo [Forts.]\n",
      "INFO:  ../result-catalog2-gt-model/SD00600000323/010002.bin.png:Rheinber er Gabriel J.: [Trios, V1 Vc Kl op. 112] [Forts.]\n",
      "INFO:  ../result-catalog2-gt-model/SD00600000323/010003.bin.png:Aufn.: Walldorf, 1989 u. .ew York City, 1981. - P 1989,\n",
      "INFO:  ../result-catalog2-gt-model/SD00600000535/010002.bin.png:Best. -Nr. MD + G L 3379\n",
      "INFO:  ../result-catalog2-gt-model/SD00600000323/010005.bin.png:NE: Rheinberger, Gabriel J.: [Thema mit Veränderungen, V1 1 2\n",
      "INFO:  ../result-catalog2-gt-model/SD00600000323/010006.bin.png:Va Vc op. 93]; Rheinberger, Gabriel J.: [Nonette op. 139];\n",
      "INFO:  ../result-catalog2-gt-model/SD00600000535/010004.bin.png:NE: Fu~ik, Julius: [Vstup gladi~tor~ / Arr.]; Ridout, Alan:\n",
      "INFO:  ../result-catalog2-gt-model/SD00600000535/010005.bin.png:[Pigs]; Weissenborn, Christian J.: [Stucke, Fg 1 2 3 op. 4 /\n",
      "INFO:  ../result-catalog2-gt-model/SD00600000535/010007.bin.png:[Foxtrott / Arr.]; Schickele, Peter: [Last Tango in Bayreuth];\n",
      "INFO:  ../result-catalog2-gt-model/SD00600000535/010006.bin.png:Ausw.]; Voert, Georg ter: [Polka in Swing]; Seiber, M~ty~s G.:\n",
      "INFO:  ../result-catalog2-gt-model/SD00600000535/010008.bin.png:Monti, Vittorio: [Czardas / Arr.]; Jakob, Gordon P.: [Prelude,\n",
      "INFO:  ../result-catalog2-gt-model/SD00600000535/01000a.bin.png:Peter: [Scherzo, Nocturno w Blea]; Prokof'ev, Sergej S.:\n",
      "INFO:  ../result-catalog2-gt-model/SD00600000535/010009.bin.png:fugue and scherzo]; Bozza, Eugne: [Divertissement]; Jansen,\n",
      "INFO:  ../result-catalog2-gt-model/SD01200000085/010004.bin.png:P 1995.\n",
      "INFO:  ../result-catalog2-gt-model/SD01200000085/010002.bin.png:55 CD 105 - 1.2\n",
      "INFO:  ../result-catalog2-gt-model/SD01200000085/010005.bin.png:Best. -Nr. Chandos CHAN 9370/71\n",
      "INFO:  ../result-catalog2-gt-model/SD01200000085/010001.bin.png:Opera North <Leeds> / Chorus\n",
      "INFO:  ../result-catalog2-gt-model/SD01200000085/010006.bin.png:NE: Hassall, Christopher [Textverf.]; Interpr.\n",
      "INFO:  ../result-catalog2-gt-model/SD01200000085/010003.bin.png:Walton William: Troilus and Cressida [Forts.]\n"
     ]
    }
   ],
   "source": [
    "!ocropus-rpred -Q 7 -m ../htwmusik-models/catalog2-gt-model.model-00101000.pyrnn.gz '../result-catalog2-gt-model/SD???????????/??????.bin.png'"
   ]
  },
  {
   "cell_type": "code",
   "execution_count": 51,
   "metadata": {
    "collapsed": false
   },
   "outputs": [
    {
     "name": "stdout",
     "output_type": "stream",
     "text": [
      "Babylon\r\n",
      "55 CD 289 - 4\r\n",
      "Beatste : Hit-Raritäten aus dem DDR-Rundfunkarchiv. - Berlin :\r\n",
      "Edition Barbarossa.\r\n",
      "Vol. 4. - [1996]. - 1 Compact Disc + Beih.\r\n",
      "Enth.: Jagd auf Liebe. Steigen Nebel. Zu Fuss. Tshgiten-Legende.\r\n",
      "Hoffnung. Fort für einen Abend. Welt im Sand. Weisst du noch.\r\n",
      "Wir gehn zu mir. Der Morgen auf dem Gipfel. Aus dem All. Am Fluss\r\n",
      "die Weide. Einmal unsichtbar sein. Schwester. Heisses Land.\r\n",
      "Ein Augenblick der Zärtlichkeit. Das Bild. Strassen, die dich\r\n",
      "weiterführen.\r\n",
      "Interbr.: Rosalili. Lift. Babon. Keks. Puhdys. Karat.\r\n",
      "Bayerisches Staatsorchester <München>\r\n",
      "Reimann Aribert: Das Schloss [Forts.]\r\n",
      "P 1997.\r\n",
      "Best.-Nr. Wergo WEr 6614-2\r\n",
      "NE: Interpr.\r\n",
      "55 CD 223 - 1.2\r\n",
      "Bohuslav Martim~ Piano Quartet\r\n",
      "siehe\r\n",
      "Klav~rn~ Kvarteto Bohuslava Martim~\r\n",
      "Gesellschaft der Musikfreunde <Wien> /\r\n",
      "Singverein\r\n",
      "Beethoven Ludwi van: [Sinfonien] [Forts.]\r\n",
      "Best.-Nr. Deutsche Grammophon 453 701-2\r\n",
      "NE : Beethoven, Ludwig van: Ser.; Interpr.\r\n",
      "55 CD 77 - 1\r\n",
      "Gewandhausorchester <Leipzig> 55 CD 1779 - 1,6\r\n",
      "B ch J h nn ebastian:\r\n",
      "[Kantaten / Ausw.] Cantatas / Bach. - Hamburg : Edel.\r\n",
      "6. - [1999]. - 1 Compact Disc + Beih. - (Bach - Made in Germany : Vol. 1, 6)\r\n",
      "Enth.: Sei Lob und Ehr dem höchsten Gut BWV 117. Ich rufzu dir, Herr\r\n",
      "Jesu Christ BWV 177. Ein ungefärbt Gemüte BWV 24.\r\n",
      "Interpr.: Taube, Ulrike [Sopr]. Schriever, Gerda [Alt]. Fleischer, Eva\r\n",
      "[Alt]. Lutze, Gert [Ten]. Hauptmann, Hans [Bass]. Kästner, Hannes\r\n",
      "[Org]. Ramin, Günther [Dir]. Thomanerchor <Leipzig>.\r\n",
      "Gewandhausorchester <Leipzig>... - Auf.: 1949 - 1954. - P 1965 - 1966\r\n",
      "Best.-Nr. Leipzig Classics 00 1806 2 BC\r\n",
      "Ne: Ser.; Interpr.\r\n",
      "CD 38\r\n",
      "Rheinber er Gabriel J.: [Trios, V1 Vc Kl op. 112] [Forts.]\r\n",
      "Aufn.: Walldorf, 1989 u. .ew York City, 1981. - P 1989,\r\n",
      "Best.-Nr. Capella CTH 2061\r\n",
      "NE: Rheinberger, Gabriel J.: [Thema mit Veränderungen, V1 1 2\r\n",
      "Va Vc op. 93]; Rheinberger, Gabriel J.: [Nonette op. 139];\r\n",
      "Interpr.\r\n",
      "Fa ottissimo [Forts.]\r\n",
      "Best. -Nr. MD + G L 3379\r\n",
      "CD 317\r\n",
      "NE: Fu~ik, Julius: [Vstup gladi~tor~ / Arr.]; Ridout, Alan:\r\n",
      "[Pigs]; Weissenborn, Christian J.: [Stucke, Fg 1 2 3 op. 4 /\r\n",
      "Ausw.]; Voert, Georg ter: [Polka in Swing]; Seiber, M~ty~s G.:\r\n",
      "[Foxtrott / Arr.]; Schickele, Peter: [Last Tango in Bayreuth];\r\n",
      "Monti, Vittorio: [Czardas / Arr.]; Jakob, Gordon P.: [Prelude,\r\n",
      "fugue and scherzo]; Bozza, Eugne: [Divertissement]; Jansen,\r\n",
      "Peter: [Scherzo, Nocturno w Blea]; Prokof'ev, Sergej S.:\r\n",
      "Opera North <Leeds> / Chorus\r\n",
      "55 CD 105 - 1.2\r\n",
      "Walton William: Troilus and Cressida [Forts.]\r\n",
      "P 1995.\r\n",
      "Best. -Nr. Chandos CHAN 9370/71\r\n",
      "NE: Hassall, Christopher [Textverf.]; Interpr.\r\n"
     ]
    }
   ],
   "source": [
    "!awk '1' ../result-catalog2-gt-model/*/*.txt"
   ]
  },
  {
   "cell_type": "code",
   "execution_count": 52,
   "metadata": {
    "collapsed": false
   },
   "outputs": [
    {
     "name": "stdout",
     "output_type": "stream",
     "text": [
      "Babylon\n",
      "55 CD 289 - 4\n",
      "Beatkiste : Hit-Raritäten aus dem DDR-Rundfunkarchiv. - Berlin :\n",
      "Edition Barbarossa.\n",
      "Vol. 4. - [1996]. - 1 Compact Disc + Beih.\n",
      "Enth.: Jagd auf Liebe. Steigen Nebel. Zu Fuss. Tshgiten-Legende\n",
      "Hoffnung. Fort für einen Abend. Welt im Sand. Weisst du noch.\n",
      "Wir gehn zu mir. Der Morgen auf dem Gipfel. Aus dem All. Am Fluss\n",
      "die Weide. Einmal unsichtbar sein. Schwester. Heisses Land.\n",
      "Ein Augenblick der Zärtlichkeit. Das Bild. Strassen, die dich\n",
      "weiterführen.\n",
      "Interbr.: Rosalili. Lift. Babylon. Keks. Puhdys. Karat\n",
      "Bayerisches Staatsorchester <München>\n",
      "Reimann Aribert: Das Schloss [Forts.]\n",
      "P 1997\n",
      "Best.-Nr. Wergo Wer 6614-2\n",
      "NE: Interpr.\n",
      "55 CD 223 - 1.2\n",
      "Bohuslav Martimů Piano Quartet\n",
      "siehe\n",
      "Klavǐrnǐ Kvarteto Bohuslava Martimů\n",
      "2 Gesellschaft der Musikfreunde <Wien> /\n",
      "Singverein\n",
      "Beethoven Ludwig van: [Sinfonien] [Forts.]\n",
      "Best.-Nr. Deutsche Grammophon 453 701-2\n",
      "NE : Beethoven, Ludwig van: Ser.; Interpr.\n",
      "55 CD 77 - 1\n",
      "Gewandhausorchester <Leipzig> 55 CD 1779 - 1,6\n",
      "Bach, Johann Sebastian:\n",
      "[Kantaten / Ausw.] Cantatas / Bach. - Hamburg : Edel.\n",
      "6. - [1999]. - 1 Compact Disc + Beih. - (Bach - Made in Germany : Vol. 1, 6)\n",
      "Enth.: Sei Lob und Ehr dem höchsten Gut BWV 117. Ich ruf zu dir, Herr\n",
      "Jesu Christ BWV 177. Ein ungefärbt Gemüte BWV 24.\n",
      "Interpr.: Taube, Ulrike [Sopr]. Schriever, Gerda [Alt]. Fleischer, Eva\n",
      "[Alt]. Lutze, Gert [Ten]. Hauptmann, Hans [Bass]. Kästner, Hannes\n",
      "[Org]. Ramin, Günther [Dir]. Thomanerchor <Leipzig>.\n",
      "Gewandhausorchester <Leipzig>... - Auf.: 1949 - 1954. - P 1965 - 1966\n",
      "Best.-Nr. Leipzig Classics 00 1806 2 BC\n",
      "Ne: Ser.; Interpr.\n",
      "CD 38\n",
      "Rheinberger Gabriel J.: [Trios, V1 Vc Kl op. 112] [Forts.]\n",
      "Auf.: Walldorf, 1989 u. New York City, 1981. - P 1989\n",
      "Best.-Nr. Capella CTH 2061\n",
      "NE: Rheinberger, Gabriel J.: [Thema mit Veränderungen, V1 1 2\n",
      "Va Vc op. 93]; Rheinberger, Gabriel J.: [Nonette op. 139];\n",
      "Interpr.\n",
      "Fagottissimo [Forts.]\n",
      "Best.-Nr. MD + G L 3379\n",
      "CD 317\n",
      "NE: Fučik, Julius: [Vstup gladiátorů / Arr.]; Ridout, Alan:\n",
      "[Pigs]; Weissenborn, Christian J.: [Stucke, Fg 1 2 3 op. 4 /\n",
      "Ausw.]; Voert, Georg ter: [Polka in Swing]; Seiber, Mátyás G.:\n",
      "[Foxtrott / Arr.]; Schickele, Peter: [Last Tango in Bayreuth];\n",
      "Monti, Vittorio: [Czardas / Arr.]; Jakob, Gordon P.: [Prelude,\n",
      "fugue and scherzo]; Bozza, Eugène: [Divertissement]; Jansen,\n",
      "Peter: [Scherzo, Nocturno und Burlesca]; Prokof'ev, Sergej S.:\n",
      "Opera North <Leeds> / Chorus\n",
      "55 CD 105 - 1.2\n",
      "Walton William: Troilus and Cressida [Forts.]\n",
      "P 1995.\n",
      "Best. -Nr. Chandos CHAN 9370/71\n",
      "Ne : Hassall, Christopher [Textverf.]; Interpr.\n"
     ]
    }
   ],
   "source": [
    "!awk '1' ../catalog-gt/SD/*/*.txt"
   ]
  },
  {
   "cell_type": "code",
   "execution_count": null,
   "metadata": {
    "collapsed": false
   },
   "outputs": [],
   "source": []
  }
 ],
 "metadata": {
  "kernelspec": {
   "display_name": "Python 2",
   "language": "python",
   "name": "python2"
  },
  "language_info": {
   "codemirror_mode": {
    "name": "ipython",
    "version": 2
   },
   "file_extension": ".py",
   "mimetype": "text/x-python",
   "name": "python",
   "nbconvert_exporter": "python",
   "pygments_lexer": "ipython2",
   "version": "2.7.11"
  }
 },
 "nbformat": 4,
 "nbformat_minor": 0
}
