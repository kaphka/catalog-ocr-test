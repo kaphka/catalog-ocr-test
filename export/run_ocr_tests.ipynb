{
 "cells": [
  {
   "cell_type": "code",
   "execution_count": 113,
   "metadata": {
    "collapsed": true
   },
   "outputs": [],
   "source": [
    "%matplotlib inline\n",
    "import matplotlib.pyplot as plt\n",
    "import ujson as json\n",
    "import glob as g\n",
    "import random as rnd\n",
    "import os.path as op\n",
    "import os\n",
    "import codecs\n",
    "import shutil\n",
    "import time\n",
    "import math\n",
    "import numpy as np\n",
    "from skimage import io, transform\n",
    "import skimage.color as skc\n",
    "\n",
    "from tqdm import tqdm\n",
    "\n",
    "import pandas as pd\n",
    "import seaborn as sns\n",
    "\n",
    "import multiprocessing\n",
    "import hashlib as hl\n",
    "import scipy.spatial.distance as sd\n",
    "import tinydb as tb\n",
    "import re\n",
    "\n",
    "import subprocess as sp"
   ]
  },
  {
   "cell_type": "code",
   "execution_count": 45,
   "metadata": {
    "collapsed": false
   },
   "outputs": [
    {
     "name": "stdout",
     "output_type": "stream",
     "text": [
      "('SB', '002/23')\n"
     ]
    }
   ],
   "source": [
    "def split_batch_name(batch):\n",
    "    match = re.match('(\\D+)(.*)',batch)\n",
    "    return match.groups()\n",
    "print split_batch_name('SB002/23')"
   ]
  },
  {
   "cell_type": "code",
   "execution_count": 59,
   "metadata": {
    "collapsed": true
   },
   "outputs": [],
   "source": [
    "tests_path = '/media/jakob/bigdata/line_comparision'\n",
    "text_db_path = '/media/jakob/bigdata/train/db.json'\n",
    "catalogs_dir = '/media/jakob/bigdata/train/'"
   ]
  },
  {
   "cell_type": "code",
   "execution_count": 123,
   "metadata": {
    "collapsed": false
   },
   "outputs": [],
   "source": [
    "data = pd.read_csv('/media/jakob/bigdata/train/sample_reproducibility.csv')['0']\n",
    "sample_set = set(data)"
   ]
  },
  {
   "cell_type": "code",
   "execution_count": 124,
   "metadata": {
    "collapsed": false
   },
   "outputs": [],
   "source": [
    "def create_testbed(test_path, text_db_path,  ext = '.png'):\n",
    "    db = tb.TinyDB(text_db_path)\n",
    "    if not op.isdir(test_path):\n",
    "        os.makedirs(test_path)\n",
    "    samples = db.table('lines')\n",
    "    for line in tqdm(samples.all()):\n",
    "        if line['id'] in sample_set:\n",
    "            cat_name, _ = split_batch_name(line['id'])\n",
    "            cat_dir     = op.join(test_path,cat_name)\n",
    "            if not op.isdir(cat_dir):\n",
    "                os.makedirs(cat_dir)\n",
    "            line_img = op.join(catalogs_dir, cat_name, line['id'])\n",
    "            test_out = op.join(cat_dir, line['id'].replace('/', '_'))\n",
    "            shutil.copy(line_img + ext, test_out + ext)\n",
    "            with codecs.open(test_out + '.gt.txt', 'w', encoding='utf8') as gt_file:\n",
    "                gt_file.write(line['gt'])\n",
    "    db.close()\n"
   ]
  },
  {
   "cell_type": "code",
   "execution_count": 125,
   "metadata": {
    "collapsed": false
   },
   "outputs": [
    {
     "name": "stderr",
     "output_type": "stream",
     "text": [
      "100%|██████████| 335/335 [00:02<00:00, 120.34it/s]\n",
      "100%|██████████| 335/335 [00:01<00:00, 252.24it/s]\n",
      "100%|██████████| 335/335 [00:00<00:00, 13035.09it/s]\n"
     ]
    }
   ],
   "source": [
    "create_testbed(op.join(tests_path, 'tesseract'), text_db_path, ext='.png')\n",
    "create_testbed(op.join(tests_path, 'ocropy_model_203000'), text_db_path, ext='.bin.png')\n",
    "create_testbed(op.join(tests_path, 'ocropy_model_00101000'), text_db_path, ext='.bin.png')"
   ]
  },
  {
   "cell_type": "code",
   "execution_count": null,
   "metadata": {
    "collapsed": true
   },
   "outputs": [],
   "source": []
  },
  {
   "cell_type": "code",
   "execution_count": 128,
   "metadata": {
    "collapsed": false,
    "scrolled": true
   },
   "outputs": [
    {
     "name": "stdout",
     "output_type": "stream",
     "text": [
      "INFO:  \n",
      "INFO:  ########## /home/jakob/miniconda2/envs/htwmusik/bin/ocropus-rpred -Q 5 \n",
      "INFO:  \n",
      "INFO:  #inputs143\n",
      "# loading object /media/jakob/bigdata/train/model_2016_07_05/index_SB.model-00203000.pyrnn.gz\n",
      "INFO:  /media/jakob/bigdata/line_comparision/ocropy_model_203000/S/S014_00000001_010008.bin.png:No. 2 -\n",
      "INFO:  /media/jakob/bigdata/line_comparision/ocropy_model_203000/S/S007_00000726_010004.bin.png:itn Hie, O scar l).:s Klavier uu. s Mleist,:r.\n",
      "INFO:  /media/jakob/bigdata/line_comparision/ocropy_model_203000/S/S021_00000369_010004.bin.png:AAul euS. iSd7guus. )\n",
      "INFO:  /media/jakob/bigdata/line_comparision/ocropy_model_203000/S/S022_00000090_010001.bin.png:AH -r, 1.F 3.TC..\n",
      "INFO:  /media/jakob/bigdata/line_comparision/ocropy_model_203000/S/S001_00000051_010005.bin.png:Aillst du haban mici: nur um Singen,' a u\n",
      "INFO:  /media/jakob/bigdata/line_comparision/ocropy_model_203000/S/S007_00000726_010002.bin.png:Albert, E ugen d Studie iüb. d. lraumi der Ghismionda a. d. Operühis.\n",
      "INFO:  /media/jakob/bigdata/line_comparision/ocropy_model_203000/S/S038_00000270_010003.bin.png:thh-\n",
      "INFO:  /media/jakob/bigdata/line_comparision/ocropy_model_203000/S/S026_00000090_01000d.bin.png:Becker 1Nss)\n",
      "INFO:  /media/jakob/bigdata/line_comparision/ocropy_model_203000/S/S024_00000309_010002.bin.png:1n 1CO\n",
      "INFO:  /media/jakob/bigdata/line_comparision/ocropy_model_203000/S/S029_00000738_01000b.bin.png:Mitgliedspate l9gg7g9.\n",
      "INFO:  /media/jakob/bigdata/line_comparision/ocropy_model_203000/S/S047_00000002_010003.bin.png:D, SSi\n",
      "INFO:  /media/jakob/bigdata/line_comparision/ocropy_model_203000/S/S049_00000502_010004.bin.png:F.Organ\n",
      "INFO:  /media/jakob/bigdata/line_comparision/ocropy_model_203000/S/S031_00000460_010006.bin.png:leipzi,: Drei tkr. A Fr,el V]oic. - t.irr f.\n",
      "INFO:  /media/jakob/bigdata/line_comparision/ocropy_model_203000/S/S048_00000374_010009.bin.png:Boston -Leipzir A.P.Schmidt (10OS ). A S.\n",
      "INFO:  /media/jakob/bigdata/line_comparision/ocropy_model_203000/S/S063_00000851_010006.bin.png:Borlin : A.kunz.\n",
      "INFO:  /media/jakob/bigdata/line_comparision/ocropy_model_203000/S/S062_00000752_010002.bin.png:Berger, kilhelm op.7a O.3f46\n",
      "INFO:  /media/jakob/bigdata/line_comparision/ocropy_model_203000/S/S045_00000954_010006.bin.png:IHenschel,Artur . Jungdeut schl and . N9 tS )\n",
      "INFO:  /media/jakob/bigdata/line_comparision/ocropy_model_203000/S/S076_00000708_010002.bin.png:nt\n",
      "INFO:  /media/jakob/bigdata/line_comparision/ocropy_model_203000/S/S083_00000166_010004.bin.png:l97C.\n",
      "INFO:  /media/jakob/bigdata/line_comparision/ocropy_model_203000/S/S086_00000791_010003.bin.png:ri r : -,\n",
      "INFO:  /media/jakob/bigdata/line_comparision/ocropy_model_203000/S/S067_00000482_010004.bin.png:u7sound sein i irken in Ciütl:en i717 - 171 lTTihrerduurchf li.schalst\n",
      "INFO:  /media/jakob/bigdata/line_comparision/ocropy_model_203000/S/S079_00000354_010007.bin.png:Keipzigt Hofmeisten (Vt 97g). 116 H.\n",
      "INFO:  /media/jakob/bigdata/line_comparision/ocropy_model_203000/S/S067_00000532_010005.bin.png:Klarin. u. T. rnrs.. o. o1. Lci.,t-eaet..t.\n",
      "INFO:  /media/jakob/bigdata/line_comparision/ocropy_model_203000/S/S080_00000404_010001.bin.png:B oslvai ii, Ii.it Vlaiisirovif7 97S\n",
      "INFO:  /media/jakob/bigdata/line_comparision/ocropy_model_203000/S/S096_00000082_010008.bin.png:d.iu.Jahrh. 1, ii5).\n",
      "INFO:  /media/jakob/bigdata/line_comparision/ocropy_model_203000/S/S105_00000119_010001.bin.png:Busoni, Forruccio\n",
      "INFO:  /media/jakob/bigdata/line_comparision/ocropy_model_203000/S/S118_00000487_010007.bin.png:A7 S.\n",
      "INFO:  /media/jakob/bigdata/line_comparision/ocropy_model_203000/S/S104_00000612_010002.bin.png:ie De Skn 0 Spe T. Aalzer f .\n",
      "INFO:  /media/jakob/bigdata/line_comparision/ocropy_model_203000/S/S125_00000703_010004.bin.png:s.Conr a di op.9i.\n",
      "INFO:  /media/jakob/bigdata/line_comparision/ocropy_model_203000/S/S111_00000597_010008.bin.png:eiThzli : 1. Pieter -zi-.erhani 1J 7H.\n",
      "INFO:  /media/jakob/bigdata/line_comparision/ocropy_model_203000/S/S140_00000986_010003.bin.png:Fart.\n",
      "INFO:  /media/jakob/bigdata/line_comparision/ocropy_model_203000/S/S143_00000639_010006.bin.png:C 4o7aO\n",
      "INFO:  /media/jakob/bigdata/line_comparision/ocropy_model_203000/S/S132_00000102_010005.bin.png:ca. (W. h. av. )\n",
      "INFO:  /media/jakob/bigdata/line_comparision/ocropy_model_203000/S/S157_00000277_010005.bin.png:Bzn-\n",
      "INFO:  /media/jakob/bigdata/line_comparision/ocropy_model_203000/S/S155_00000701_010004.bin.png:E6ooo7\n",
      "INFO:  /media/jakob/bigdata/line_comparision/ocropy_model_203000/S/S154_00000555_010004.bin.png:Gen vcgil,rrTNrr, . Slos S s\n",
      "INFO:  /media/jakob/bigdata/line_comparision/ocropy_model_203000/S/S115_00001101_01000d.bin.png:7c. r.rr.,1rn..Hro1.. r1. F.krr.\n",
      "INFO:  /media/jakob/bigdata/line_comparision/ocropy_model_203000/S/S176_00000752_010002.bin.png:i nn, er.\n",
      "INFO:  /media/jakob/bigdata/line_comparision/ocropy_model_203000/S/S156_00000346_010005.bin.png:Leinzigi O.Teich [i91S]. (vt 1da5). i1\n",
      "INFO:  /media/jakob/bigdata/line_comparision/ocropy_model_203000/S/S176_00000614_010005.bin.png:irth. . <S i.n-in., , Ienner.\n",
      "INFO:  /media/jakob/bigdata/line_comparision/ocropy_model_203000/S/S177_00000347_010008.bin.png:Ar l.L8.ris-th ozIei.\n",
      "INFO:  /media/jakob/bigdata/line_comparision/ocropy_model_203000/S/S172_00000830_010004.bin.png:..Z'- Aa-.-f.l..il..\n",
      "INFO:  /media/jakob/bigdata/line_comparision/ocropy_model_203000/S/S189_00000406_010001.bin.png:A.\n",
      "INFO:  /media/jakob/bigdata/line_comparision/ocropy_model_203000/S/S201_00000352_010012.bin.png:r3:.,-'.\n",
      "INFO:  /media/jakob/bigdata/line_comparision/ocropy_model_203000/S/S197_00000552_010006.bin.png:CBerliner Couplets No i22. )\n",
      "INFO:  /media/jakob/bigdata/line_comparision/ocropy_model_203000/S/S180_00000532_010008.bin.png:ien . 4.O traue deiner Liebsten nicht.5 .Jn dor\n",
      "INFO:  /media/jakob/bigdata/line_comparision/ocropy_model_203000/S/S197_00000252_010006.bin.png:lgien virn T.re.C. rr.Bar.t. -S.lc .\n",
      "INFO:  /media/jakob/bigdata/line_comparision/ocropy_model_203000/S/S215_00000069_010008.bin.png:l,ondon sN ovello A Co (1aGua1\n",
      "INFO:  /media/jakob/bigdata/line_comparision/ocropy_model_203000/S/S240_00000169_010009.bin.png:Cs.i.\n",
      "INFO:  /media/jakob/bigdata/line_comparision/ocropy_model_203000/S/S185_00000140_010004.bin.png:Festgottesdienst veranstaltet von der Wiener evangelischen Ge-\n",
      "INFO:  /media/jakob/bigdata/line_comparision/ocropy_model_203000/S/S243_00000005_01000b.bin.png:T,.a.\n",
      "INFO:  /media/jakob/bigdata/line_comparision/ocropy_model_203000/S/S219_00000691_010002.bin.png:Der Ra tten T rni\n",
      "INFO:  /media/jakob/bigdata/line_comparision/ocropy_model_203000/S/S259_00000561_010003.bin.png:BzD\n",
      "INFO:  /media/jakob/bigdata/line_comparision/ocropy_model_203000/S/S260_00000061_010005.bin.png:A- Opernführer No s~. .\n",
      "INFO:  /media/jakob/bigdata/line_comparision/ocropy_model_203000/S/S263_00000228_01000a.bin.png:v .oe [i -\n",
      "INFO:  /media/jakob/bigdata/line_comparision/ocropy_model_203000/S/S249_00000059_010001.bin.png:H[aaetndel, Georpg Friedricha1. FoiAherr\n",
      "INFO:  /media/jakob/bigdata/line_comparision/ocropy_model_203000/S/S265_00000001_010002.bin.png:d\n",
      "INFO:  /media/jakob/bigdata/line_comparision/ocropy_model_203000/S/S266_00000068_010008.bin.png:F1.-Nr. V.64[ü\n",
      "INFO:  /media/jakob/bigdata/line_comparision/ocropy_model_203000/S/S286_00000635_010002.bin.png:O [.. -é. A...\n",
      "INFO:  /media/jakob/bigdata/line_comparision/ocropy_model_203000/S/S254_00000135_010005.bin.png:Berlin Schlesinger (VM 1067j.i7 . nuer.\n",
      "INFO:  /media/jakob/bigdata/line_comparision/ocropy_model_203000/S/S299_00000620_010003.bin.png:1r nn .\n",
      "INFO:  /media/jakob/bigdata/line_comparision/ocropy_model_203000/S/S312_00000225_010003.bin.png:19G i2S\n",
      "INFO:  /media/jakob/bigdata/line_comparision/ocropy_model_203000/S/S303_00000986_010005.bin.png:Aildntn\n",
      "INFO:  /media/jakob/bigdata/line_comparision/ocropy_model_203000/S/S292_00000746_010003.bin.png:fte H ieces on D rig.ussian M elo ]ieS...\n",
      "INFO:  /media/jakob/bigdata/line_comparision/ocropy_model_203000/S/S307_00000636_010005.bin.png:lsurli::. 1Dea:: .iil l 1ui1) 1jOü S. S\n",
      "INFO:  /media/jakob/bigdata/line_comparision/ocropy_model_203000/S/S337_00000482_010004.bin.png:EVu.y T\n",
      "INFO:  /media/jakob/bigdata/line_comparision/ocropy_model_203000/S/S291_00000825_010004.bin.png:zc.hu lo (Pic el - 1.Tsg. ,1r1' to, G.rn f-D fr ).,,\n",
      "INFO:  /media/jakob/bigdata/line_comparision/ocropy_model_203000/S/S338_00000050_010004.bin.png:Fart .\n",
      "INFO:  /media/jakob/bigdata/line_comparision/ocropy_model_203000/S/S351_00000515_010006.bin.png:ABrn at.ssz,\n",
      "INFO:  /media/jakob/bigdata/line_comparision/ocropy_model_203000/S/S321_00000543_010002.bin.png:Fraeludium -Singe, o singe, dich Sees\n",
      "INFO:  /media/jakob/bigdata/line_comparision/ocropy_model_203000/S/S361_00000515_010004.bin.png:St.\n",
      "INFO:  /media/jakob/bigdata/line_comparision/ocropy_model_203000/S/S342_00000541_010003.bin.png:MCrnt:aro. r.\n",
      "INFO:  /media/jakob/bigdata/line_comparision/ocropy_model_203000/S/S377_00000446_010005.bin.png:tuS\n",
      "INFO:  /media/jakob/bigdata/line_comparision/ocropy_model_203000/S/S368_00000562_010002.bin.png:Zcher.o f. ..te.\n",
      "INFO:  /media/jakob/bigdata/line_comparision/ocropy_model_203000/S/S341_00000599_010004.bin.png:Berlin:Ed.Bote A G .Bock. A St. g\n",
      "INFO:  /media/jakob/bigdata/line_comparision/ocropy_model_203000/S/S375_00000229_010003.bin.png:A Zeitschrift i ,e:ilcicl:a::ül, Mi:sil ai issca:scli:il. 1iu3. [11 o,o\n",
      "INFO:  /media/jakob/bigdata/line_comparision/ocropy_model_203000/S/S375_00000479_010002.bin.png:Ave Maria f .e.Sopranst.é xl.Chor m.Be l.\n",
      "INFO:  /media/jakob/bigdata/line_comparision/ocropy_model_203000/S/S411_00000440_010001.bin.png:Dortz 1 J,All:. 89393\n",
      "INFO:  /media/jakob/bigdata/line_comparision/ocropy_model_203000/S/S408_00000342_010004.bin.png:B A u. eli. 'i .u.tar. Fni-i.'A- r] AF.\n",
      "INFO:  /media/jakob/bigdata/line_comparision/ocropy_model_203000/SB/SB017_00000613_010002.bin.png:DMS 123 119\n",
      "INFO:  /media/jakob/bigdata/line_comparision/ocropy_model_203000/SB/SB002_00000709_010005.bin.png:Milan: Lacca [ ]. Pr. 21636. 5 S. 47\n",
      "INFO:  /media/jakob/bigdata/line_comparision/ocropy_model_203000/SB/SB009_00000102_010004.bin.png:o. Gardeton, Cesar: Bibliographie musicale de la France\n",
      "INFO:  /media/jakob/bigdata/line_comparision/ocropy_model_203000/SB/SB015_00000365_010003.bin.png:BWv 812-g17. (Französische Suiten.) Hrsg. von\n",
      "INFO:  /media/jakob/bigdata/line_comparision/ocropy_model_203000/SB/SB030_00000803_010001.bin.png:Blok, Alekeandr Aleksandrovi~\n",
      "INFO:  /media/jakob/bigdata/line_comparision/ocropy_model_203000/SB/SB046_00000705_010007.bin.png:München: Henle (1976). 59 S., 1 Beil. 7\n",
      "INFO:  /media/jakob/bigdata/line_comparision/ocropy_model_203000/SB/SB084_00000357_010001.bin.png:Goldtammer, Fr\n",
      "INFO:  /media/jakob/bigdata/line_comparision/ocropy_model_203000/SB/SB056_00000567_010003.bin.png:1. Baranovi~, Kre~imir: Z mojih bregov. 1959.\n",
      "INFO:  /media/jakob/bigdata/line_comparision/ocropy_model_203000/SB/SB056_00000197_010004.bin.png:par Antoine lAnton] Diabelli. Cah. 1.\n",
      "INFO:  /media/jakob/bigdata/line_comparision/ocropy_model_203000/SB/SB065_00000776_010002.bin.png:Kllmn tia apussiaa [Text]\n",
      "INFO:  /media/jakob/bigdata/line_comparision/ocropy_model_203000/SB/SB108_00000082_010002.bin.png:26l 642\n",
      "INFO:  /media/jakob/bigdata/line_comparision/ocropy_model_203000/SB/SB088_00000319_010003.bin.png:Faubert, Wilhelm lkomp.]: Op. 68. Klange aus\n",
      "INFO:  /media/jakob/bigdata/line_comparision/ocropy_model_203000/SB/SB088_00000433_01000c.bin.png:lehrer7Dtid...\n",
      "INFO:  /media/jakob/bigdata/line_comparision/ocropy_model_203000/SB/SB108_00000318_010001.bin.png:Jaeckel, Adolf\n",
      "INFO:  /media/jakob/bigdata/line_comparision/ocropy_model_203000/SB/SB122_00000088_010001.bin.png:Eoerner,\n",
      "INFO:  /media/jakob/bigdata/line_comparision/ocropy_model_203000/SB/SB107_00000183_010001.bin.png:Hull, Arthur Ealefield\n",
      "INFO:  /media/jakob/bigdata/line_comparision/ocropy_model_203000/SB/SB116_00000692_010001.bin.png:Keiser, Reinhard\n",
      "INFO:  /media/jakob/bigdata/line_comparision/ocropy_model_203000/SB/SB149_00000365_010002.bin.png:r a7o\n",
      "INFO:  /media/jakob/bigdata/line_comparision/ocropy_model_203000/SB/SB152_00000489_010001.bin.png:Molin, Antonio\n",
      "INFO:  /media/jakob/bigdata/line_comparision/ocropy_model_203000/SB/SB132_00000134_010001.bin.png:Dehner, Charlotte Kraus-\n",
      "INFO:  /media/jakob/bigdata/line_comparision/ocropy_model_203000/SB/SB155_00000223_010006.bin.png:Abt. 1. Tänze.\n",
      "==== 100 of 143\n",
      "INFO:  /media/jakob/bigdata/line_comparision/ocropy_model_203000/SB/SB178_00000134_010001.bin.png:Rathgeber, Valentin\n",
      "INFO:  /media/jakob/bigdata/line_comparision/ocropy_model_203000/SB/SB187_00000720_010001.bin.png:Ruprecht, Josef\n",
      "INFO:  /media/jakob/bigdata/line_comparision/ocropy_model_203000/SB/SB122_00000706_010006.bin.png:leipzig. [Red.: lngid hofmann u.a.] Leipzij 1982.\n",
      "INFO:  /media/jakob/bigdata/line_comparision/ocropy_model_203000/SB/SB183_00000635_010001.bin.png:Rilke, Rainer Maria\n",
      "INFO:  /media/jakob/bigdata/line_comparision/ocropy_model_203000/SB/SB215_00000853_010002.bin.png:A2. 1960.\n",
      "INFO:  /media/jakob/bigdata/line_comparision/ocropy_model_203000/SB/SB197_00000182_01000c.bin.png:Aus Nachlaö Smend. y- 807Go\n",
      "INFO:  /media/jakob/bigdata/line_comparision/ocropy_model_203000/SB/SB211_00000345_010005.bin.png:h.nde:is. 192S-197g. Essay o. Kritik. - Munchen,Zurich:\n",
      "INFO:  /media/jakob/bigdata/line_comparision/ocropy_model_203000/SB/SB220_00000836_010003.bin.png:Veroefrentlichun en Lietitst rueik neue Bueikz\n",
      "INFO:  /media/jakob/bigdata/line_comparision/ocropy_model_203000/SC/SC002_00000491_010003.bin.png:B68 Allein Gott in der H6h' sei Ehr' Cn2029\n",
      "INFO:  /media/jakob/bigdata/line_comparision/ocropy_model_203000/SB/SB228_00000385_010005.bin.png:instrumente und die Flöten] Ex Paalmo IV. A V...\n",
      "INFO:  /media/jakob/bigdata/line_comparision/ocropy_model_203000/SC/SC003_00000842_010004.bin.png:[Werke 7 Ausw] Commolete piano trios y Woldenar Bargiel. -\n",
      "INFO:  /media/jakob/bigdata/line_comparision/ocropy_model_203000/SC/SC012_00000630_010006.bin.png:Melikon, [l99l]. - 2 Conmnact üiscs - Beil.\n",
      "INFO:  /media/jakob/bigdata/line_comparision/ocropy_model_203000/SC/SC004_00000418_01000c.bin.png:Ne' giorni tuoi felici Waf0 93. Trenate, eemi, trenate on. ll6.1\n",
      "INFO:  /media/jakob/bigdata/line_comparision/ocropy_model_203000/SC/SC006_00000941_010004.bin.png:A symnhonies. Haydi variations... 7 Brahms. - Hamtiurg : BMG Ariola\n",
      "INFO:  /media/jakob/bigdata/line_comparision/ocropy_model_203000/SC/SC012_00000002_010003.bin.png:Feer Gynt : [Dner in 3 Aiten] 7 Werner Egd. Minchen : Drfeo,\n",
      "INFO:  /media/jakob/bigdata/line_comparision/ocropy_model_203000/SC/SC013_00000454_010009.bin.png:Enterpr. OuintettoRenano.- P 1949.\n",
      "INFO:  /media/jakob/bigdata/line_comparision/ocropy_model_203000/SC/SC019_00000350_010009.bin.png:WiolonccloundOrchesterNo 2, op 236\n",
      "INFO:  /media/jakob/bigdata/line_comparision/ocropy_model_203000/SC/SC018_00000287_01000a.bin.png:Konzerte, Mi Drch (1979)]. - konzert für klavier und Orchester op. 58\n",
      "INFO:  /media/jakob/bigdata/line_comparision/ocropy_model_203000/SC/SC019_00000400_010007.bin.png:Enth. SuiteViolonccllosoloop E4 Dyophonicop 24l KonzcrtfürVioloncclound\n",
      "INFO:  /media/jakob/bigdata/line_comparision/ocropy_model_203000/SC/SC018_00000287_010005.bin.png:und Grimn, [l993].- l Coonmoact Disc - Beih. - (Anthologie deutscher\n",
      "INFO:  /media/jakob/bigdata/line_comparision/ocropy_model_203000/SC/SC024_00000555_010008.bin.png:Biabelli variations. [EST: Veränderungen über einen Walzer von\n",
      "INFO:  /media/jakob/bigdata/line_comparision/ocropy_model_203000/SC/SC024_00000697_01000a.bin.png:kv l03-l05, kv 122, rV 164,kv 176, kv 3l5g. kv 363,\n",
      "INFO:  /media/jakob/bigdata/line_comparision/ocropy_model_203000/SC/SC033_00000496_01000c.bin.png:Russ. MtSutngen.\n",
      "INFO:  /media/jakob/bigdata/line_comparision/ocropy_model_203000/SC/SC027_00001079_01000d.bin.png:Best.-Nr. Chandos CHhti 92ll yw\n",
      "INFO:  /media/jakob/bigdata/line_comparision/ocropy_model_203000/SC/SC034_00000422_010009.bin.png:wassia. Erotikon. [ktoechos. -\n",
      "INFO:  /media/jakob/bigdata/line_comparision/ocropy_model_203000/SC/SC024_00000744_010006.bin.png:B Compact Discs in Box mit Schuber v Beih. - (Complete\n",
      "INFO:  /media/jakob/bigdata/line_comparision/ocropy_model_203000/SC/SC027_00000908_010008.bin.png:garçon trop bien portant. La tragiquue histoire duu petit Rend. La\n",
      "INFO:  /media/jakob/bigdata/line_comparision/ocropy_model_203000/SD/SD001_00000452_010003.bin.png:[Mitetten 7 Ausw.]\n",
      "INFO:  /media/jakob/bigdata/line_comparision/ocropy_model_203000/SD/SD003_00000146_010002.bin.png:Bach Carl P. :\n",
      "INFO:  /media/jakob/bigdata/line_comparision/ocropy_model_203000/SC/SC036_00000937_010007.bin.png:Enterpr Zabaleta, Nicanor [Hf] Engish Chamber Orchestra <Londonb Garcia\n",
      "INFO:  /media/jakob/bigdata/line_comparision/ocropy_model_203000/SD/SD008_00000333_01000c.bin.png:Feter [Chhristian Tschnll]. EdulhoooMOi. Marina [Heiderl]. Pfeffer.\n",
      "INFO:  /media/jakob/bigdata/line_comparision/ocropy_model_203000/SD/SD011_00000138_01000b.bin.png:Robert[Choreinstud] WestminsterChoir<Princcton, Ni-. Williamson, iohn\n",
      "INFO:  /media/jakob/bigdata/line_comparision/ocropy_model_203000/SD/SD016_00000091_010004.bin.png:0 7ji\n",
      "INFO:  /media/jakob/bigdata/line_comparision/ocropy_model_203000/SD/SD011_00000441_010007.bin.png:Volk. [EST: Geistliche Chormisik 7 Ausw.]. Vater unser 7\n",
      "INFO:  /media/jakob/bigdata/line_comparision/ocropy_model_203000/SD/SD014_00000317_010005.bin.png:le,pronhete : [onèra enn cinq actes] 7 Giacomo M:yerneer. [Libretto\n",
      "INFO:  /media/jakob/bigdata/line_comparision/ocropy_model_203000/SD/SD016_00000556_010002.bin.png:Beethovenn lLuCwl vann:\n",
      "INFO:  /media/jakob/bigdata/line_comparision/ocropy_model_203000/SE/SE005_00000126_010006.bin.png:Beih.\n",
      "INFO:  /media/jakob/bigdata/line_comparision/ocropy_model_203000/SD/SD015_00000192_01000d.bin.png:Zimmr, Hans Eberthard 1DDirl. Aufg lW95.. P 199G.\n",
      "INFO:  /media/jakob/bigdata/line_comparision/ocropy_model_203000/SE/SE032_00000271_010003.bin.png:[Reaaiien B l65]\n",
      "INFO:  /media/jakob/bigdata/line_comparision/ocropy_model_203000/SE/SE023_00000246_010006.bin.png:Beih. (mit engl., Ital. Libretto)\n",
      "INFO:  /media/jakob/bigdata/line_comparision/ocropy_model_203000/SD/SD018_00000399_010006.bin.png:Bie Bach-kantate 7 Jtmnn Setastian Bach. - Neuhausen (Fildern) :\n",
      "INFO:  /media/jakob/bigdata/line_comparision/ocropy_model_203000/SE/SE002_00000290_01000b.bin.png:Rolfe-Jtmmson, Anthony [Tenl. VWC[Gg, Stentwn [Ban].\n",
      "INFO:  /media/jakob/bigdata/line_comparision/ocropy_model_203000/SE/SE034_00000467_010009.bin.png:Enth. d. Kantaten 37-52 u. 5é-6D. -\n",
      "INFO:  \n",
      "INFO:  ########## /home/jakob/miniconda2/envs/htwmusik/bin/ocropus-rpred -Q 5 \n",
      "INFO:  \n",
      "INFO:  #inputs143\n",
      "# loading object /media/jakob/bigdata/train/model_2016_07_05/index_SB.model-00101000.pyrnn.gz\n",
      "INFO:  /media/jakob/bigdata/line_comparision/ocropy_model_00101000/S/S014_00000001_010008.bin.png:to.2-\n",
      "INFO:  /media/jakob/bigdata/line_comparision/ocropy_model_00101000/S/S021_00000369_010004.bin.png:le',s:hi'Sdtgets:..)\n",
      "INFO:  /media/jakob/bigdata/line_comparision/ocropy_model_00101000/S/S007_00000726_010002.bin.png:Albert,Eugend': Studie üb. d.lraum der Ghismonda a.d.OperGhis-\n",
      "INFO:  /media/jakob/bigdata/line_comparision/ocropy_model_00101000/S/S001_00000051_010005.bin.png:willstduhabenmichnurzumSingen,l,au\n",
      "INFO:  /media/jakob/bigdata/line_comparision/ocropy_model_00101000/S/S007_00000726_010004.bin.png:in:Bie,Oscar:l)sKlavieru.s.Mleister.\n",
      "INFO:  /media/jakob/bigdata/line_comparision/ocropy_model_00101000/S/S024_00000309_010002.bin.png:iiiGO\n",
      "INFO:  /media/jakob/bigdata/line_comparision/ocropy_model_00101000/S/S026_00000090_01000d.bin.png:Beckcr.iNs1.)\n",
      "INFO:  /media/jakob/bigdata/line_comparision/ocropy_model_00101000/S/S038_00000270_010003.bin.png:th\n",
      "INFO:  /media/jakob/bigdata/line_comparision/ocropy_model_00101000/S/S022_00000090_010001.bin.png:.hf,l..F3.:;.'\n",
      "INFO:  /media/jakob/bigdata/line_comparision/ocropy_model_00101000/S/S029_00000738_01000b.bin.png:Mitgliedsgatbel98889.\n",
      "INFO:  /media/jakob/bigdata/line_comparision/ocropy_model_00101000/S/S047_00000002_010003.bin.png:Di.SS1\n",
      "INFO:  /media/jakob/bigdata/line_comparision/ocropy_model_00101000/S/S049_00000502_010004.bin.png:F.Organ\n",
      "INFO:  /media/jakob/bigdata/line_comparision/ocropy_model_00101000/S/S045_00000954_010006.bin.png:(Henschel,Artur.Jungdeutschland.N9S)\n",
      "INFO:  /media/jakob/bigdata/line_comparision/ocropy_model_00101000/S/S031_00000460_010006.bin.png:lLsipzi,breitkoféHmrielVIoi:.-tb.bE.\n",
      "INFO:  /media/jakob/bigdata/line_comparision/ocropy_model_00101000/S/S063_00000851_010006.bin.png:BrlinA.Kunz.\n",
      "INFO:  /media/jakob/bigdata/line_comparision/ocropy_model_00101000/S/S076_00000708_010002.bin.png:nt\n",
      "INFO:  /media/jakob/bigdata/line_comparision/ocropy_model_00101000/S/S048_00000374_010009.bin.png:Boston-Leipzig:A.P.Schmidt(10O).43.\n",
      "INFO:  /media/jakob/bigdata/line_comparision/ocropy_model_00101000/S/S062_00000752_010002.bin.png:Eergsr,hilhelmop.7EO.3E4B\n",
      "INFO:  /media/jakob/bigdata/line_comparision/ocropy_model_00101000/S/S067_00000532_010005.bin.png:Klaatin.u.Tdnorsuophoi.Lcichteset.t.\n",
      "INFO:  /media/jakob/bigdata/line_comparision/ocropy_model_00101000/S/S083_00000166_010004.bin.png:1974.\n",
      "INFO:  /media/jakob/bigdata/line_comparision/ocropy_model_00101000/S/S079_00000354_010007.bin.png:LeipzigtHofmeisten(VN2t8).1B H.\n",
      "INFO:  /media/jakob/bigdata/line_comparision/ocropy_model_00101000/S/S080_00000404_010001.bin.png:Bogoslfvakij,Tiit.Vladimirci%7ié73\n",
      "INFO:  /media/jakob/bigdata/line_comparision/ocropy_model_00101000/S/S067_00000482_010004.bin.png:i7youndseinilirkeninCüthen ;;t:4.lührerdurchd.ilnchalbbt.\n",
      "INFO:  /media/jakob/bigdata/line_comparision/ocropy_model_00101000/S/S086_00000791_010003.bin.png:p)eHA\n",
      "INFO:  /media/jakob/bigdata/line_comparision/ocropy_model_00101000/S/S096_00000082_010008.bin.png:d.1u.Jahrh.1,(15).\n",
      "INFO:  /media/jakob/bigdata/line_comparision/ocropy_model_00101000/S/S118_00000487_010007.bin.png:47S.\n",
      "INFO:  /media/jakob/bigdata/line_comparision/ocropy_model_00101000/S/S105_00000119_010001.bin.png:Busoni,Farruccio\n",
      "INFO:  /media/jakob/bigdata/line_comparision/ocropy_model_00101000/S/S104_00000612_010002.bin.png:iebesKnOspen.lalzerI.\n",
      "INFO:  /media/jakob/bigdata/line_comparision/ocropy_model_00101000/S/S111_00000597_010008.bin.png:Leipzl,tJ.Rietet-dl.,etnanlR7.\n",
      "INFO:  /media/jakob/bigdata/line_comparision/ocropy_model_00101000/S/S140_00000986_010003.bin.png:Part.\n",
      "INFO:  /media/jakob/bigdata/line_comparision/ocropy_model_00101000/S/S132_00000102_010005.bin.png:ca.(.K.av.)\n",
      "INFO:  /media/jakob/bigdata/line_comparision/ocropy_model_00101000/S/S125_00000703_010004.bin.png:s.Conraddi:op.91.\n",
      "INFO:  /media/jakob/bigdata/line_comparision/ocropy_model_00101000/S/S143_00000639_010006.bin.png:C.4O78C\n",
      "INFO:  /media/jakob/bigdata/line_comparision/ocropy_model_00101000/S/S155_00000701_010004.bin.png:4E97\n",
      "INFO:  /media/jakob/bigdata/line_comparision/ocropy_model_00101000/S/S115_00001101_01000d.bin.png:''o.:.3.,i:n..Hto1'r'.lk.\n",
      "INFO:  /media/jakob/bigdata/line_comparision/ocropy_model_00101000/S/S157_00000277_010005.bin.png:azDD\n",
      "INFO:  /media/jakob/bigdata/line_comparision/ocropy_model_00101000/S/S154_00000555_010004.bin.png:Genveileit,a]osSSt\n",
      "INFO:  /media/jakob/bigdata/line_comparision/ocropy_model_00101000/S/S176_00000752_010002.bin.png:in,ar.\n",
      "INFO:  /media/jakob/bigdata/line_comparision/ocropy_model_00101000/S/S156_00000346_010005.bin.png:Leipziei0.Teich[ioiz].(Vmioas).ii\n",
      "INFO:  /media/jakob/bigdata/line_comparision/ocropy_model_00101000/S/S172_00000830_010004.bin.png:...'..f..1it;:'.:.i...\n",
      "INFO:  /media/jakob/bigdata/line_comparision/ocropy_model_00101000/S/S176_00000614_010005.bin.png:irths.uSnin,,..lanner.\n",
      "INFO:  /media/jakob/bigdata/line_comparision/ocropy_model_00101000/S/S189_00000406_010001.bin.png:s.\n",
      "INFO:  /media/jakob/bigdata/line_comparision/ocropy_model_00101000/S/S177_00000347_010008.bin.png:rl..té.risthese.d.\n",
      "INFO:  /media/jakob/bigdata/line_comparision/ocropy_model_00101000/S/S201_00000352_010012.bin.png:;.'.\n",
      "INFO:  /media/jakob/bigdata/line_comparision/ocropy_model_00101000/S/S197_00000552_010006.bin.png:(Berliner CoupletsN2i22.)\n",
      "INFO:  /media/jakob/bigdata/line_comparision/ocropy_model_00101000/S/S180_00000532_010008.bin.png:ggen.4.OtrauedéinerLiebstennicht.S.Jnder\n",
      "INFO:  /media/jakob/bigdata/line_comparision/ocropy_model_00101000/S/S185_00000140_010004.bin.png:Festgottesdienst veranstaltet vonder Wiener evangelischen Ge-\n",
      "INFO:  /media/jakob/bigdata/line_comparision/ocropy_model_00101000/S/S197_00000252_010006.bin.png:lenvirnf.en.Ci.r,Bar.t.-S,ld.\n",
      "INFO:  /media/jakob/bigdata/line_comparision/ocropy_model_00101000/S/S215_00000069_010008.bin.png:LondoniNovelloCo(l8u81\n",
      "INFO:  /media/jakob/bigdata/line_comparision/ocropy_model_00101000/S/S243_00000005_01000b.bin.png:,:i.\n",
      "INFO:  /media/jakob/bigdata/line_comparision/ocropy_model_00101000/S/S240_00000169_010009.bin.png:Cs:i:.o\n",
      "INFO:  /media/jakob/bigdata/line_comparision/ocropy_model_00101000/S/S219_00000691_010002.bin.png:DerRatten7nC\n",
      "INFO:  /media/jakob/bigdata/line_comparision/ocropy_model_00101000/S/S259_00000561_010003.bin.png:BZD\n",
      "INFO:  /media/jakob/bigdata/line_comparision/ocropy_model_00101000/S/S249_00000059_010001.bin.png:Haendel, Georg Friedrich:il.Feldherr\n",
      "INFO:  /media/jakob/bigdata/line_comparision/ocropy_model_00101000/S/S263_00000228_01000a.bin.png:u,u:E(\n",
      "INFO:  /media/jakob/bigdata/line_comparision/ocropy_model_00101000/S/S265_00000001_010002.bin.png:é\n",
      "INFO:  /media/jakob/bigdata/line_comparision/ocropy_model_00101000/S/S266_00000068_010008.bin.png:Fl.-Nr.V.é40\n",
      "INFO:  /media/jakob/bigdata/line_comparision/ocropy_model_00101000/S/S260_00000061_010005.bin.png:- Opernffdhrer. No s6.\n",
      "INFO:  /media/jakob/bigdata/line_comparision/ocropy_model_00101000/S/S254_00000135_010005.bin.png:Berlin:Schlesinger(VN19t),t7S.quer.\n",
      "INFO:  /media/jakob/bigdata/line_comparision/ocropy_model_00101000/S/S299_00000620_010003.bin.png:tnienn.\n",
      "INFO:  /media/jakob/bigdata/line_comparision/ocropy_model_00101000/S/S286_00000635_010002.bin.png:O,,D4..'.\n",
      "INFO:  /media/jakob/bigdata/line_comparision/ocropy_model_00101000/S/S312_00000225_010003.bin.png:isdizz\n",
      "INFO:  /media/jakob/bigdata/line_comparision/ocropy_model_00101000/S/S303_00000986_010005.bin.png:tiloolCon\n",
      "INFO:  /media/jakob/bigdata/line_comparision/ocropy_model_00101000/S/S307_00000636_010005.bin.png:lurlii:lßuiacicll(i0i).iu0S.S'\n",
      "INFO:  /media/jakob/bigdata/line_comparision/ocropy_model_00101000/S/S291_00000825_010004.bin.png:schulo(Pickel-1.Tihf1tlto,unpflfr).,.\n",
      "INFO:  /media/jakob/bigdata/line_comparision/ocropy_model_00101000/S/S337_00000482_010004.bin.png:Vu.YT..\n",
      "INFO:  /media/jakob/bigdata/line_comparision/ocropy_model_00101000/S/S292_00000746_010003.bin.png:tfteHiecssonDrig.fussianMelodias...\n",
      "INFO:  /media/jakob/bigdata/line_comparision/ocropy_model_00101000/S/S342_00000541_010003.bin.png:Mnierghor.\n",
      "INFO:  /media/jakob/bigdata/line_comparision/ocropy_model_00101000/S/S338_00000050_010004.bin.png:Part.\n",
      "INFO:  /media/jakob/bigdata/line_comparision/ocropy_model_00101000/S/S351_00000515_010006.bin.png:arD si.s1z4\n",
      "INFO:  /media/jakob/bigdata/line_comparision/ocropy_model_00101000/S/S361_00000515_010004.bin.png:St.\n",
      "INFO:  /media/jakob/bigdata/line_comparision/ocropy_model_00101000/S/S321_00000543_010002.bin.png:Praeludium:nSinge,osinge,dichSeem\n",
      "INFO:  /media/jakob/bigdata/line_comparision/ocropy_model_00101000/S/S368_00000562_010002.bin.png:Scherzof..;te.\n",
      "INFO:  /media/jakob/bigdata/line_comparision/ocropy_model_00101000/S/S377_00000446_010005.bin.png:ib3\n",
      "INFO:  /media/jakob/bigdata/line_comparision/ocropy_model_00101000/S/S341_00000599_010004.bin.png:Berlin:Ed.BoteéG.Bock.4St.gt\n",
      "INFO:  /media/jakob/bigdata/line_comparision/ocropy_model_00101000/S/S375_00000229_010003.bin.png:s. Zeitschrift fveiggleicheileMiuikwisscnschaft.i03.[t.i\n",
      "INFO:  /media/jakob/bigdata/line_comparision/ocropy_model_00101000/SB/SB002_00000709_010005.bin.png:Milanlncca[]. FH. 21636. 5s. 4\n",
      "INFO:  /media/jakob/bigdata/line_comparision/ocropy_model_00101000/S/S375_00000479_010002.bin.png:AveMariaf.e.Sopranst.4kl.Chorm.8el.\n",
      "INFO:  /media/jakob/bigdata/line_comparision/ocropy_model_00101000/S/S408_00000342_010004.bin.png:ti'u..eii'i.ugét.tnii.'7ztrf].zH.\n",
      "INFO:  /media/jakob/bigdata/line_comparision/ocropy_model_00101000/SB/SB015_00000365_010003.bin.png:BWV8i2-8i7. (Franzésische Suiten.) Hrsg. von\n",
      "INFO:  /media/jakob/bigdata/line_comparision/ocropy_model_00101000/SB/SB017_00000613_010002.bin.png:DMsi23it9\n",
      "INFO:  /media/jakob/bigdata/line_comparision/ocropy_model_00101000/S/S411_00000440_010001.bin.png:Lortz1.,AlmssOO\n",
      "INFO:  /media/jakob/bigdata/line_comparision/ocropy_model_00101000/SB/SB009_00000102_010004.bin.png:o. Gardeton, Cesar: Bibliographie musicale de la France\n",
      "INFO:  /media/jakob/bigdata/line_comparision/ocropy_model_00101000/SB/SB030_00000803_010001.bin.png:Blok, Aleksandr AleksandroviK\n",
      "INFO:  /media/jakob/bigdata/line_comparision/ocropy_model_00101000/SB/SB065_00000776_010002.bin.png:Elh sin opussias [Text]\n",
      "INFO:  /media/jakob/bigdata/line_comparision/ocropy_model_00101000/SB/SB056_00000197_010004.bin.png:par AntoinelAnton] Diabelli. Cah.1.\n",
      "INFO:  /media/jakob/bigdata/line_comparision/ocropy_model_00101000/SB/SB046_00000705_010007.bin.png:MtlnchenHenle(1976). 59S.,1Beil.4\n",
      "INFO:  /media/jakob/bigdata/line_comparision/ocropy_model_00101000/SB/SB084_00000357_010001.bin.png:Goldtammer, Fr\n",
      "INFO:  /media/jakob/bigdata/line_comparision/ocropy_model_00101000/SB/SB088_00000433_01000c.bin.png:lehrer/Dtld...\n",
      "INFO:  /media/jakob/bigdata/line_comparision/ocropy_model_00101000/SB/SB108_00000082_010002.bin.png:26l 642\n",
      "INFO:  /media/jakob/bigdata/line_comparision/ocropy_model_00101000/SB/SB107_00000183_010001.bin.png:Hull, ArthurEa lefield\n",
      "INFO:  /media/jakob/bigdata/line_comparision/ocropy_model_00101000/SB/SB056_00000567_010003.bin.png:1, aranovié, KreimirZ mojih bregov. 1959.\n",
      "INFO:  /media/jakob/bigdata/line_comparision/ocropy_model_00101000/SB/SB122_00000088_010001.bin.png:Koerner,\n",
      "INFO:  /media/jakob/bigdata/line_comparision/ocropy_model_00101000/SB/SB088_00000319_010003.bin.png:AZs, Wilhelm lKomp.]Op. 68.Klngeaua\n",
      "INFO:  /media/jakob/bigdata/line_comparision/ocropy_model_00101000/SB/SB116_00000692_010001.bin.png:Keiser, Reinhard\n",
      "INFO:  /media/jakob/bigdata/line_comparision/ocropy_model_00101000/SB/SB108_00000318_010001.bin.png:Jaeckel, Adolf\n",
      "INFO:  /media/jakob/bigdata/line_comparision/ocropy_model_00101000/SB/SB149_00000365_010002.bin.png:Ita7o\n",
      "INFO:  /media/jakob/bigdata/line_comparision/ocropy_model_00101000/SB/SB155_00000223_010006.bin.png:Abt.1.THnze.\n",
      "INFO:  /media/jakob/bigdata/line_comparision/ocropy_model_00101000/SB/SB152_00000489_010001.bin.png:Molin, Antonio\n",
      "INFO:  /media/jakob/bigdata/line_comparision/ocropy_model_00101000/SB/SB122_00000706_010006.bin.png:leipig. [Red.: lngid Hofmonnu.a.]-Leipzig l982.\n",
      "==== 100 of 143\n",
      "INFO:  /media/jakob/bigdata/line_comparision/ocropy_model_00101000/SB/SB132_00000134_010001.bin.png:Lehner, Charlotte Kraus-\n",
      "INFO:  /media/jakob/bigdata/line_comparision/ocropy_model_00101000/SB/SB178_00000134_010001.bin.png:Rathgeber, Valentin\n",
      "INFO:  /media/jakob/bigdata/line_comparision/ocropy_model_00101000/SB/SB187_00000720_010001.bin.png:Ruprecht, Josef\n",
      "INFO:  /media/jakob/bigdata/line_comparision/ocropy_model_00101000/SB/SB215_00000853_010002.bin.png:42. 1960.\n",
      "INFO:  /media/jakob/bigdata/line_comparision/ocropy_model_00101000/SB/SB183_00000635_010001.bin.png:Rilke, Rainer Maria\n",
      "INFO:  /media/jakob/bigdata/line_comparision/ocropy_model_00101000/SB/SB197_00000182_01000c.bin.png:Aus Nachlaö Smend.yBO/Go\n",
      "INFO:  /media/jakob/bigdata/line_comparision/ocropy_model_00101000/SB/SB211_00000345_010005.bin.png:hundeis.l92-i975, Essay o. Kritik.- Munchen,Zurich:\n",
      "INFO:  /media/jakob/bigdata/line_comparision/ocropy_model_00101000/SB/SB220_00000836_010003.bin.png:veroetrentlichunen litltt BAlDze Bgl\n",
      "INFO:  /media/jakob/bigdata/line_comparision/ocropy_model_00101000/SB/SB228_00000385_010005.bin.png:instrumenteunddie Fldten]EPaalmoIV. AV...\n",
      "INFO:  /media/jakob/bigdata/line_comparision/ocropy_model_00101000/SC/SC002_00000491_010003.bin.png:668 Allein Gottin der Hh'sei Ehr'CD2 02é\n",
      "INFO:  /media/jakob/bigdata/line_comparision/ocropy_model_00101000/SC/SC003_00000842_010004.bin.png:[Werke/ Ausw] Complete piano trios/ Woldemar Bargiel. -\n",
      "INFO:  /media/jakob/bigdata/line_comparision/ocropy_model_00101000/SC/SC006_00000941_010004.bin.png:4symphonies. Haydn variations.../ Brahms. - Hamtiurg: BMZ Ariola\n",
      "INFO:  /media/jakob/bigdata/line_comparision/ocropy_model_00101000/SC/SC012_00000002_010003.bin.png:Peer Gynt:[Operin3 Aten]/ Werner Eg. -München: Orfeo,\n",
      "INFO:  /media/jakob/bigdata/line_comparision/ocropy_model_00101000/SC/SC013_00000454_010009.bin.png:intcrpr.: Quintctto Rcnano.-P 1989.\n",
      "INFO:  /media/jakob/bigdata/line_comparision/ocropy_model_00101000/SC/SC012_00000630_010006.bin.png:Helikon, [l99l].-2 Compact Discs + Beil.\n",
      "INFO:  /media/jakob/bigdata/line_comparision/ocropy_model_00101000/SC/SC004_00000418_01000c.bin.png:Ne'giorni tuoi felici Wo0 93.Trenate, empi, trenate op.ll6.]\n",
      "INFO:  /media/jakob/bigdata/line_comparision/ocropy_model_00101000/SC/SC019_00000350_010009.bin.png:VioloncclloundOrchcster No.2,op. 236.\n",
      "INFO:  /media/jakob/bigdata/line_comparision/ocropy_model_00101000/SC/SC018_00000287_01000a.bin.png:Konzerte, Md Orch(l979)].- Konzert für Klavier und Orchester op. 58\n",
      "INFO:  /media/jakob/bigdata/line_comparision/ocropy_model_00101000/SC/SC019_00000400_010007.bin.png:Enth.:SuiteViolonccllosoloop. 84 Dyophonicop 24l. KonzcrtfhrViolonccllound\n",
      "INFO:  /media/jakob/bigdata/line_comparision/ocropy_model_00101000/SC/SC018_00000287_010005.bin.png:und Grimn, [l993].-lCompact Disc Beih.- (Anthologie deutscher\n",
      "INFO:  /media/jakob/bigdata/line_comparision/ocropy_model_00101000/SC/SC024_00000555_010008.bin.png:Diabelli variations.[EST: Verännderungen übereinen Walzer von\n",
      "INFO:  /media/jakob/bigdata/line_comparision/ocropy_model_00101000/SC/SC024_00000744_010006.bin.png:3 Compact DiscsinBoxmitSchuberrBeih.-(Complete\n",
      "INFO:  /media/jakob/bigdata/line_comparision/ocropy_model_00101000/SC/SC024_00000697_01000a.bin.png:v103-105,KV122,KV164,KVl76,KV3l3g.KV 363.\n",
      "INFO:  /media/jakob/bigdata/line_comparision/ocropy_model_00101000/SC/SC033_00000496_01000c.bin.png:Russ. gesungen.\n",
      "INFO:  /media/jakob/bigdata/line_comparision/ocropy_model_00101000/SC/SC027_00001079_01000d.bin.png:Best.-Nr. Chandos CHAN 92llMr.\n",
      "INFO:  /media/jakob/bigdata/line_comparision/ocropy_model_00101000/SC/SC027_00000908_010008.bin.png:gargon trop bien portant.Latragique histoire du petit René. La\n",
      "INFO:  /media/jakob/bigdata/line_comparision/ocropy_model_00101000/SD/SD001_00000452_010003.bin.png:Motetten/ Ausw.]\n",
      "INFO:  /media/jakob/bigdata/line_comparision/ocropy_model_00101000/SD/SD003_00000146_010002.bin.png:BachCarl P.:\n",
      "INFO:  /media/jakob/bigdata/line_comparision/ocropy_model_00101000/SC/SC034_00000422_010009.bin.png:wassia. Erotikon. Cktoechos. -\n",
      "INFO:  /media/jakob/bigdata/line_comparision/ocropy_model_00101000/SC/SC036_00000937_010007.bin.png:lnterpr.: Zabaleta, Nicanor [Hf] English Chamber Orchestra London. Garcia\n",
      "INFO:  /media/jakob/bigdata/line_comparision/ocropy_model_00101000/SD/SD011_00000441_010007.bin.png:Volk. [EST: Geistliche Chormusik/ Ausw.]. Vater unser /\n",
      "INFO:  /media/jakob/bigdata/line_comparision/ocropy_model_00101000/SD/SD008_00000333_01000c.bin.png:Peter IChristian Tschdll]. Edelhna, Marina IHeioerl]. Pfetfer,\n",
      "INFO:  /media/jakob/bigdata/line_comparision/ocropy_model_00101000/SD/SD011_00000138_01000b.bin.png:Robcrt[Choreinstud]. WestminsterChoirPrinccton,NJ>.Williamson,John\n",
      "INFO:  /media/jakob/bigdata/line_comparision/ocropy_model_00101000/SD/SD016_00000091_010004.bin.png:cD73i\n",
      "INFO:  /media/jakob/bigdata/line_comparision/ocropy_model_00101000/SD/SD015_00000192_01000d.bin.png:Zimer, ansEtertard IDir]. AlSo.-rio9G.\n",
      "INFO:  /media/jakob/bigdata/line_comparision/ocropy_model_00101000/SD/SD014_00000317_010005.bin.png:le,prophéte: [opdraencinq actes]/ Giacomo Meyerbeer.[Libretto\n",
      "INFO:  /media/jakob/bigdata/line_comparision/ocropy_model_00101000/SE/SE005_00000126_010006.bin.png:Beih.\n",
      "INFO:  /media/jakob/bigdata/line_comparision/ocropy_model_00101000/SD/SD016_00000556_010002.bin.png:BeethovenLudwlvan:\n",
      "INFO:  /media/jakob/bigdata/line_comparision/ocropy_model_00101000/SE/SE023_00000246_010006.bin.png:Beih. (mit engl.,Ital.Libretto)\n",
      "INFO:  /media/jakob/bigdata/line_comparision/ocropy_model_00101000/SE/SE032_00000271_010003.bin.png:EReauien B l45]\n",
      "INFO:  /media/jakob/bigdata/line_comparision/ocropy_model_00101000/SE/SE034_00000467_010009.bin.png:Eith.d. Kanntaten 37-52 u. 54-é0. -\n",
      "INFO:  /media/jakob/bigdata/line_comparision/ocropy_model_00101000/SE/SE002_00000290_01000b.bin.png:Rolfe-Jotnson, AnthonyITen]. g, teten IBaB3].\n",
      "INFO:  /media/jakob/bigdata/line_comparision/ocropy_model_00101000/SD/SD018_00000399_010006.bin.png:Die Bach-kantate/ Johann Setastian Bach.- Neuhausen (Fildern):\n"
     ]
    }
   ],
   "source": [
    "!ocropus-rpred -Q 5 -m /media/jakob/bigdata/train/model_2016_07_05/index_SB.model-00203000.pyrnn.gz '/media/jakob/bigdata/line_comparision/ocropy_model_203000/*/*.bin.png'\n",
    "!ocropus-rpred -Q 5 -m /media/jakob/bigdata/train/model_2016_07_05/index_SB.model-00101000.pyrnn.gz '/media/jakob/bigdata/line_comparision/ocropy_model_00101000/*/*.bin.png'"
   ]
  },
  {
   "cell_type": "code",
   "execution_count": 129,
   "metadata": {
    "collapsed": false
   },
   "outputs": [
    {
     "name": "stderr",
     "output_type": "stream",
     "text": [
      "100%|██████████| 143/143 [01:14<00:00,  1.84it/s]\n"
     ]
    }
   ],
   "source": [
    "img_paths = g.glob('/media/jakob/bigdata/line_comparision/tesseract/*/*.png')\n",
    "for path in tqdm(img_paths):\n",
    "    base = op.splitext(path)[0]\n",
    "    call_output = sp.check_output([\"tesseract -psm 7 -l deu {} {}\".format(path, base)], shell=True, stderr=sp.STDOUT)"
   ]
  },
  {
   "cell_type": "code",
   "execution_count": 109,
   "metadata": {
    "collapsed": false
   },
   "outputs": [
    {
     "name": "stdout",
     "output_type": "stream",
     "text": [
      "Emh.: Suite Violoncello solo op. 84. Dyophonie op. 24]. Konzert für Violoncello und\r\n",
      "\r\n"
     ]
    }
   ],
   "source": [
    "!cat /media/jakob/bigdata/line_comparision/tesseract/SC/SC019_00000400_010007.txt"
   ]
  },
  {
   "cell_type": "code",
   "execution_count": 127,
   "metadata": {
    "collapsed": false
   },
   "outputs": [
    {
     "name": "stdout",
     "output_type": "stream",
     "text": [
      "SC002_00000491_010003.gt.txt  SC019_00000350_010009.txt\r\n",
      "SC002_00000491_010003.png     SC019_00000400_010007.gt.txt\r\n",
      "SC002_00000491_010003.txt     SC019_00000400_010007.png\r\n",
      "SC003_00000842_010004.gt.txt  SC019_00000400_010007.png.txt\r\n",
      "SC003_00000842_010004.png     SC019_00000400_010007.txt\r\n",
      "SC003_00000842_010004.txt     SC024_00000555_010008.gt.txt\r\n",
      "SC004_00000418_01000c.gt.txt  SC024_00000555_010008.png\r\n",
      "SC004_00000418_01000c.png     SC024_00000555_010008.txt\r\n",
      "SC004_00000418_01000c.txt     SC024_00000697_01000a.gt.txt\r\n",
      "SC006_00000941_010004.gt.txt  SC024_00000697_01000a.png\r\n",
      "SC006_00000941_010004.png     SC024_00000697_01000a.txt\r\n",
      "SC006_00000941_010004.txt     SC024_00000744_010006.gt.txt\r\n",
      "SC012_00000002_010003.gt.txt  SC024_00000744_010006.png\r\n",
      "SC012_00000002_010003.png     SC024_00000744_010006.txt\r\n",
      "SC012_00000002_010003.txt     SC027_00000908_010008.gt.txt\r\n",
      "SC012_00000630_010006.gt.txt  SC027_00000908_010008.png\r\n",
      "SC012_00000630_010006.png     SC027_00000908_010008.txt\r\n",
      "SC012_00000630_010006.txt     SC027_00001079_01000d.gt.txt\r\n",
      "SC013_00000454_010009.gt.txt  SC027_00001079_01000d.png\r\n",
      "SC013_00000454_010009.png     SC027_00001079_01000d.txt\r\n",
      "SC013_00000454_010009.txt     SC033_00000496_01000c.gt.txt\r\n",
      "SC018_00000287_010005.gt.txt  SC033_00000496_01000c.png\r\n",
      "SC018_00000287_010005.png     SC033_00000496_01000c.txt\r\n",
      "SC018_00000287_010005.txt     SC034_00000422_010009.gt.txt\r\n",
      "SC018_00000287_01000a.gt.txt  SC034_00000422_010009.png\r\n",
      "SC018_00000287_01000a.png     SC034_00000422_010009.txt\r\n",
      "SC018_00000287_01000a.txt     SC036_00000937_010007.gt.txt\r\n",
      "SC019_00000350_010009.gt.txt  SC036_00000937_010007.png\r\n",
      "SC019_00000350_010009.png     SC036_00000937_010007.txt\r\n"
     ]
    }
   ],
   "source": [
    "!ls /media/jakob/bigdata/line_comparision/tesseract/SC/"
   ]
  },
  {
   "cell_type": "code",
   "execution_count": 126,
   "metadata": {
    "collapsed": false
   },
   "outputs": [
    {
     "data": {
      "text/plain": [
       "115"
      ]
     },
     "execution_count": 126,
     "metadata": {},
     "output_type": "execute_result"
    }
   ],
   "source": [
    "len(img_paths)"
   ]
  },
  {
   "cell_type": "code",
   "execution_count": null,
   "metadata": {
    "collapsed": true
   },
   "outputs": [],
   "source": []
  }
 ],
 "metadata": {
  "kernelspec": {
   "display_name": "Python 2",
   "language": "python",
   "name": "python2"
  },
  "language_info": {
   "codemirror_mode": {
    "name": "ipython",
    "version": 2
   },
   "file_extension": ".py",
   "mimetype": "text/x-python",
   "name": "python",
   "nbconvert_exporter": "python",
   "pygments_lexer": "ipython2",
   "version": "2.7.12"
  }
 },
 "nbformat": 4,
 "nbformat_minor": 0
}
