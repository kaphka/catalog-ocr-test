{
 "metadata": {
  "name": "",
  "signature": "sha256:bd46a7f2e1f0443561e3bd3a9fac783fde1e438b4aed266265902543ba7f6a35"
 },
 "nbformat": 3,
 "nbformat_minor": 0,
 "worksheets": [
  {
   "cells": [
    {
     "cell_type": "markdown",
     "metadata": {},
     "source": [
      "#Erstellen eine W\u00f6rterbuchs mit speziellen Begriffen der Stabi"
     ]
    },
    {
     "cell_type": "code",
     "collapsed": false,
     "input": [
      "!abiword --to=txt ../stabi-dict/rak_musik_2003.pdf"
     ],
     "language": "python",
     "metadata": {},
     "outputs": [],
     "prompt_number": 1
    },
    {
     "cell_type": "code",
     "collapsed": false,
     "input": [
      "!aspell -l de_DE dump master | aspell -l de expand | tr ' ' '\\n' > de_DE.dict"
     ],
     "language": "python",
     "metadata": {},
     "outputs": []
    },
    {
     "cell_type": "code",
     "collapsed": false,
     "input": [
      "from collections import Counter\n",
      "import unicodedata, re\n",
      "\n",
      "# source: https://stackoverflow.com/questions/92438/stripping-non-printable-characters-from-a-string-in-python\n",
      "all_chars = (unichr(i) for i in xrange(0x110000))\n",
      "control_chars = ''.join(c for c in all_chars if unicodedata.category(c) == 'Cc')\n",
      "# or equivalently and much more efficiently\n",
      "control_chars = ''.join(map(unichr, range(0,32) + range(127,160)))\n",
      "\n",
      "control_char_re = re.compile('[%s\\d]' % re.escape(control_chars))\n",
      "\n",
      "not_words = re.compile(u'[\\(\\),:<>\\*\\-\\=\\[\\]\\?\\!\\.;\u201e\u201c]')\n",
      "digits = re.compile('[\\d]*')\n",
      "\n",
      "def remove_control_chars(s):\n",
      "    return control_char_re.sub('', s)\n",
      "\n",
      "text = open('../stabi-dict/rak_musik_2003.txt').read().decode('utf-8')\n",
      "words = Counter(re.split('[\\s\\n\\/]', text)).keys()\n",
      "\n",
      "words = [control_char_re.sub('', w) for w in words]\n",
      "words = [not_words.sub('', w) for w in words]\n",
      "words = [digits.sub('', w) for w in words]\n",
      "words = [w for w in words if not len(w) < 2]\n",
      "words = set(words)\n",
      "words = words.difference(set(re.split('\\n', open('../stabi-dict/de_DE.dict').read().decode('utf-8'))))\n",
      "words = list(words)\n",
      "words.sort()\n",
      "\n",
      "with open('../stabi-dict/de_stabi.dict', 'wb') as f:\n",
      "    f.write((u'\\n'.join(words).encode('utf-8')))"
     ],
     "language": "python",
     "metadata": {},
     "outputs": [],
     "prompt_number": 113
    }
   ],
   "metadata": {}
  }
 ]
}