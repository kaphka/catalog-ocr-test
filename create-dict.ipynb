{
 "cells": [
  {
   "cell_type": "markdown",
   "metadata": {},
   "source": [
    "## Erstellen eine Wörterbuchs mit speziellen Begriffen der Stabi"
   ]
  },
  {
   "cell_type": "code",
   "execution_count": 1,
   "metadata": {
    "collapsed": false
   },
   "outputs": [],
   "source": [
    "!abiword --to=txt ../stabi-dict/rak_musik_2003.pdf"
   ]
  },
  {
   "cell_type": "code",
   "execution_count": null,
   "metadata": {
    "collapsed": false
   },
   "outputs": [],
   "source": [
    "!aspell -l de_DE dump master | aspell -l de expand | tr ' ' '\\n' > de_DE.dict"
   ]
  },
  {
   "cell_type": "code",
   "execution_count": 113,
   "metadata": {
    "collapsed": false
   },
   "outputs": [],
   "source": [
    "from collections import Counter\n",
    "import unicodedata, re\n",
    "\n",
    "# source: https://stackoverflow.com/questions/92438/stripping-non-printable-characters-from-a-string-in-python\n",
    "all_chars = (unichr(i) for i in xrange(0x110000))\n",
    "control_chars = ''.join(c for c in all_chars if unicodedata.category(c) == 'Cc')\n",
    "# or equivalently and much more efficiently\n",
    "control_chars = ''.join(map(unichr, range(0,32) + range(127,160)))\n",
    "\n",
    "control_char_re = re.compile('[%s\\d]' % re.escape(control_chars))\n",
    "\n",
    "not_words = re.compile(u'[\\(\\),:<>\\*\\-\\=\\[\\]\\?\\!\\.;„“]')\n",
    "digits = re.compile('[\\d]*')\n",
    "\n",
    "def remove_control_chars(s):\n",
    "    return control_char_re.sub('', s)\n",
    "\n",
    "text = open('../stabi-dict/rak_musik_2003.txt').read().decode('utf-8')\n",
    "words = Counter(re.split('[\\s\\n\\/]', text)).keys()\n",
    "\n",
    "words = [control_char_re.sub('', w) for w in words]\n",
    "words = [not_words.sub('', w) for w in words]\n",
    "words = [digits.sub('', w) for w in words]\n",
    "words = [w for w in words if not len(w) < 2]\n",
    "words = set(words)\n",
    "words = words.difference(set(re.split('\\n', open('../stabi-dict/de_DE.dict').read().decode('utf-8'))))\n",
    "words = list(words)\n",
    "words.sort()\n",
    "\n",
    "with open('../stabi-dict/de_stabi.dict', 'wb') as f:\n",
    "    f.write((u'\\n'.join(words).encode('utf-8')))"
   ]
  }
 ],
 "metadata": {
  "kernelspec": {
   "display_name": "Python 2",
   "language": "python",
   "name": "python2"
  },
  "language_info": {
   "codemirror_mode": {
    "name": "ipython",
    "version": 2
   },
   "file_extension": ".py",
   "mimetype": "text/x-python",
   "name": "python",
   "nbconvert_exporter": "python",
   "pygments_lexer": "ipython2",
   "version": "2.7.11"
  }
 },
 "nbformat": 4,
 "nbformat_minor": 0
}
