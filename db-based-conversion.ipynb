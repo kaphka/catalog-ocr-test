{
 "cells": [
  {
   "cell_type": "code",
   "execution_count": 1,
   "metadata": {
    "collapsed": false
   },
   "outputs": [],
   "source": [
    "import glob as g\n",
    "import ujson\n",
    "import os\n",
    "import os.path as op\n",
    "import re\n",
    "import subprocess as sp\n",
    "from subprocess import CalledProcessError\n",
    "import time\n",
    "import ocrolib\n",
    "import copy"
   ]
  },
  {
   "cell_type": "code",
   "execution_count": 2,
   "metadata": {
    "collapsed": false
   },
   "outputs": [],
   "source": [
    "%load_ext autoreload\n",
    "%autoreload 2"
   ]
  },
  {
   "cell_type": "code",
   "execution_count": 3,
   "metadata": {
    "collapsed": false
   },
   "outputs": [],
   "source": [
    "import sys\n",
    "import os.path\n",
    "sys.path.append(os.path.abspath('../catconv'))\n",
    "import catconv.stabi as sb\n",
    "import catconv.operations as co"
   ]
  },
  {
   "cell_type": "code",
   "execution_count": 20,
   "metadata": {
    "collapsed": false
   },
   "outputs": [],
   "source": [
    "with open('/home/jakob/data/ST.json', 'rb') as ST:\n",
    "    catalog = ujson.load(ST)"
   ]
  },
  {
   "cell_type": "code",
   "execution_count": 29,
   "metadata": {
    "collapsed": false
   },
   "outputs": [],
   "source": [
    "%matplotlib inline\n",
    "import matplotlib.pyplot as plt\n",
    "from matplotlib.path import Path\n",
    "import numpy as np\n",
    "\n",
    "def vertices(line):\n",
    "    x0, y0 ,x1,y1 = line\n",
    "    return {'verts': \n",
    "            [(x0, y0),\n",
    "            (x1, y0),\n",
    "            (x1, y1), \n",
    "            (x0, y1),\n",
    "            (x0, y0)],\n",
    "            'codes':\n",
    "            [Path.MOVETO,\n",
    "             Path.LINETO,\n",
    "             Path.LINETO,\n",
    "             Path.LINETO,\n",
    "             Path.CLOSEPOLY]}\n",
    "\n",
    "def plot_lines(verts):\n",
    "    return [v[0] for v in verts], [v[1] for v in verts]\n",
    "\n"
   ]
  },
  {
   "cell_type": "code",
   "execution_count": 5,
   "metadata": {
    "collapsed": false
   },
   "outputs": [],
   "source": [
    "def page_filter(page):\n",
    "    return True\n",
    "def all_filter(arg):\n",
    "    return True\n",
    "def line_filter(line):\n",
    "    x0, y0 ,x1,y1 = line['position']\n",
    "    if y0 < 450 and x0 > 400:\n",
    "        return True\n",
    "    else:\n",
    "        return False\n"
   ]
  },
  {
   "cell_type": "code",
   "execution_count": 6,
   "metadata": {
    "collapsed": true
   },
   "outputs": [],
   "source": [
    "def line_image(page, line):\n",
    "    return op.join(page_dir(page['path']), line['name'] + '.bin.png')"
   ]
  },
  {
   "cell_type": "code",
   "execution_count": 7,
   "metadata": {
    "collapsed": true
   },
   "outputs": [],
   "source": [
    "def dump_images_to_html_string(images):\n",
    "    img  = \"\"\"<p>{}<img src=\\\"{}\\\"/></p>\"\"\"\n",
    "    html = \"\"\"<html><body>{}</body></html>\"\"\"\n",
    "    elements = []\n",
    "    for image in images:\n",
    "        elements.append(img.format(image,op.abspath(image)))\n",
    "        \n",
    "    return html.format('\\n'.join(elements))"
   ]
  },
  {
   "cell_type": "code",
   "execution_count": 52,
   "metadata": {
    "collapsed": false
   },
   "outputs": [],
   "source": [
    "def plot_catalog(catalog,page_filter, line_filter):\n",
    "    card_size_verts = vertices([0,0,1008,608])\n",
    "    images = []\n",
    "    for page in filter(page_filter, catalog['pages']):\n",
    "        for idx, line in enumerate(page['lines']):\n",
    "            if line_filter(line):\n",
    "                color = 'green'\n",
    "                if idx == 0:\n",
    "                    color = 'black'\n",
    "            else:\n",
    "                color = 'red'\n",
    "            \n",
    "            plt.plot(*plot_lines(vertices(line['position'])['verts']), color=color)\n",
    "    #         images.append(line_image(page,line))\n",
    "\n",
    "    plt.xlim([0,1008])\n",
    "    plt.ylim([0,608])\n",
    "    plt.title('Gefilterte Textzeilen')\n",
    "    plt.ylabel('Position in px')\n",
    "    plt.xlabel('Position in px')\n",
    "    plt.savefig('plots/filtered_num.png')\n",
    "    html = dump_images_to_html_string(images[:200:2])\n",
    "    with open('filtered_lines.html', 'w') as out:\n",
    "        out.write(html)\n",
    "   "
   ]
  },
  {
   "cell_type": "code",
   "execution_count": 53,
   "metadata": {
    "collapsed": false
   },
   "outputs": [
    {
     "data": {
      "image/png": "[encoded data removed]",
      "text/plain": [
       "<matplotlib.figure.Figure at 0x7f8c4c2aa450>"
      ]
     },
     "metadata": {},
     "output_type": "display_data"
    }
   ],
   "source": [
    "plot_catalog(catalog, page_filter, line_filter)"
   ]
  },
  {
   "cell_type": "code",
   "execution_count": 54,
   "metadata": {
    "collapsed": false
   },
   "outputs": [
    {
     "data": {
      "image/png": "[encoded data removed]",
      "text/plain": [
       "<matplotlib.figure.Figure at 0x7f8c47e9c090>"
      ]
     },
     "metadata": {},
     "output_type": "display_data"
    }
   ],
   "source": [
    "def index_line_filter(line):\n",
    "    x0, y0 ,x1,y1 = line['position']\n",
    "    if x0 < 400 and x1 > 100:\n",
    "        return True\n",
    "    else:\n",
    "        return False\n",
    "\n",
    "plot_catalog(catalog, page_filter,index_line_filter)"
   ]
  },
  {
   "cell_type": "code",
   "execution_count": 8,
   "metadata": {
    "collapsed": true
   },
   "outputs": [],
   "source": [
    "CAT_NAME = 'SD'\n",
    "CAT_CONV = 'SD_png'\n",
    "CAT_PATH = '../SD_png/'\n",
    "DB_PATH  = 'data/convert.json'\n",
    "N = 10\n",
    "# Example page\n",
    "page1 = {'path': '../SD_png/SD012/00000111'}\n",
    "model = '../htwmusik-models/catalog2-gt-model.model-00101000.pyrnn.gz'"
   ]
  },
  {
   "cell_type": "code",
   "execution_count": 234,
   "metadata": {
    "collapsed": false
   },
   "outputs": [
    {
     "name": "stdout",
     "output_type": "stream",
     "text": [
      "{'path': '../SD_png/SD012/00000111', 'lines': [{'position': [86L, 528L, 874L, 557L], 'name': '010001', 'text': ''}, {'position': [47L, 478L, 226L, 501L], 'name': '010002', 'text': 'Holli er Heinz:\\n'}, {'position': [47L, 439L, 913L, 466L], 'name': '010003', 'text': 'Schneewittchen : Oper in 5 Szenen, einem Prolog und einem Epilog nach\\n'}, {'position': [46L, 405L, 913L, 433L], 'name': '010004', 'text': 'Robert Walser / Heinz Holliger. - Grifelfing : ECM-Records-Verlag;\\n'}, {'position': [46L, 369L, 915L, 398L], 'name': '010005', 'text': 'Hamburg : Universal Music, Vertrieb, [2001]. - 2 Compact Discs in Schuber\\n'}, {'position': [47L, 335L, 714L, 362L], 'name': '010006', 'text': '+ Beih. (mit dt, engl, franz Libretto). - (ECM new series)\\n'}, {'position': [47L, 301L, 913L, 328L], 'name': '010007', 'text': ''}, {'position': [46L, 266L, 913L, 294L], 'name': '010008', 'text': ''}, {'position': [45L, 233L, 914L, 260L], 'name': '010009', 'text': ''}, {'position': [46L, 205L, 106L, 225L], 'name': '01000a', 'text': '2000.\\n'}, {'position': [46L, 171L, 412L, 192L], 'name': '01000b', 'text': 'Best.-Nr. ECM Records 1715/16\\n'}, {'position': [45L, 122L, 498L, 159L], 'name': '01000c', 'text': 'NE: Walser, Robert [Textverf]. Interpr.\\n'}]}\n",
      "True\n",
      "440\n"
     ]
    },
    {
     "data": {
      "text/plain": [
       "['ocropus-rpred',\n",
       " '-Q',\n",
       " '1',\n",
       " '-m',\n",
       " '../htwmusik-models/catalog2-gt-model.model-00101000.pyrnn.gz',\n",
       " '../SD_png/SD012/00000321/*.bin.png']"
      ]
     },
     "execution_count": 234,
     "metadata": {},
     "output_type": "execute_result"
    }
   ],
   "source": [
    "\n",
    "pre_job = lambda page: predict(op.join(change_path(page['path']),'*.bin.png'), model)\n",
    "selected_pages = filter(seg_is_complete, catalog['pages'])\n",
    "selected_pages = filter(seg_is_complete, selected_pages)\n",
    "has_no_text = lambda page: op.isdir(sb.page_dir(page['path'])) and not all(map(op.isfile, text_files(page).values()))\n",
    "selected_pages = filter(has_no_text, selected_pages)\n",
    "print page1\n",
    "print has_no_text(page1)\n",
    "print len(selected_pages)\n",
    "pre_jobs       = map(pre_job, selected_pages)\n",
    "pre_job(selected_pages[1])\n",
    "# execute_job(pre_job(selected_pages[1]))"
   ]
  },
  {
   "cell_type": "code",
   "execution_count": 13,
   "metadata": {
    "collapsed": false
   },
   "outputs": [
    {
     "data": {
      "text/plain": [
       "{'path': '../SD_png/SD012/00000111'}"
      ]
     },
     "execution_count": 13,
     "metadata": {},
     "output_type": "execute_result"
    }
   ],
   "source": [
    "page1"
   ]
  },
  {
   "cell_type": "code",
   "execution_count": 14,
   "metadata": {
    "collapsed": false
   },
   "outputs": [],
   "source": [
    "# pre_execution = map(execute_job,pre_jobs)"
   ]
  },
  {
   "cell_type": "code",
   "execution_count": 15,
   "metadata": {
    "collapsed": false
   },
   "outputs": [
    {
     "ename": "NameError",
     "evalue": "name 'selected_pages' is not defined",
     "output_type": "error",
     "traceback": [
      "\u001b[1;31m---------------------------------------------------------------------------\u001b[0m",
      "\u001b[1;31mNameError\u001b[0m                                 Traceback (most recent call last)",
      "\u001b[1;32m<ipython-input-15-7c22283eb1fd>\u001b[0m in \u001b[0;36m<module>\u001b[1;34m()\u001b[0m\n\u001b[1;32m----> 1\u001b[1;33m \u001b[0mselected_pages\u001b[0m\u001b[1;33m\u001b[0m\u001b[0m\n\u001b[0m",
      "\u001b[1;31mNameError\u001b[0m: name 'selected_pages' is not defined"
     ]
    }
   ],
   "source": [
    "selected_pages"
   ]
  },
  {
   "cell_type": "code",
   "execution_count": 16,
   "metadata": {
    "collapsed": true
   },
   "outputs": [],
   "source": [
    "def text_files(page):\n",
    "    if 'lines' in page:\n",
    "        return {line['name']: op.join(page['path'],line['name'] + '.txt') for line in page['lines']}\n",
    "    else:\n",
    "        return {}"
   ]
  },
  {
   "cell_type": "code",
   "execution_count": 17,
   "metadata": {
    "collapsed": false
   },
   "outputs": [
    {
     "data": {
      "text/plain": [
       "{'path': '../SD_png/SD012/00000111'}"
      ]
     },
     "execution_count": 17,
     "metadata": {},
     "output_type": "execute_result"
    }
   ],
   "source": [
    "page1"
   ]
  },
  {
   "cell_type": "code",
   "execution_count": null,
   "metadata": {
    "collapsed": true
   },
   "outputs": [],
   "source": [
    "pre_excecution = map(execute_job,pre_jobs)"
   ]
  },
  {
   "cell_type": "code",
   "execution_count": 18,
   "metadata": {
    "collapsed": false
   },
   "outputs": [
    {
     "ename": "NameError",
     "evalue": "name 'pages' is not defined",
     "output_type": "error",
     "traceback": [
      "\u001b[1;31m---------------------------------------------------------------------------\u001b[0m",
      "\u001b[1;31mNameError\u001b[0m                                 Traceback (most recent call last)",
      "\u001b[1;32m<ipython-input-18-4183f1b54c40>\u001b[0m in \u001b[0;36m<module>\u001b[1;34m()\u001b[0m\n\u001b[0;32m      1\u001b[0m \u001b[0mpre_job\u001b[0m \u001b[1;33m=\u001b[0m \u001b[1;32mlambda\u001b[0m \u001b[0mpage\u001b[0m\u001b[1;33m:\u001b[0m \u001b[0mpredict\u001b[0m\u001b[1;33m(\u001b[0m\u001b[0mpage\u001b[0m\u001b[1;33m[\u001b[0m\u001b[1;34m'path'\u001b[0m\u001b[1;33m]\u001b[0m\u001b[1;33m,\u001b[0m \u001b[0mmodel\u001b[0m\u001b[1;33m)\u001b[0m\u001b[1;33m\u001b[0m\u001b[0m\n\u001b[1;32m----> 2\u001b[1;33m \u001b[0mpre_jobs\u001b[0m       \u001b[1;33m=\u001b[0m \u001b[0mmap\u001b[0m\u001b[1;33m(\u001b[0m\u001b[0mpre_job\u001b[0m\u001b[1;33m,\u001b[0m \u001b[0mpages\u001b[0m\u001b[1;33m)\u001b[0m\u001b[1;33m\u001b[0m\u001b[0m\n\u001b[0m\u001b[0;32m      3\u001b[0m \u001b[0mpre_excecution\u001b[0m \u001b[1;33m=\u001b[0m \u001b[0mmap\u001b[0m\u001b[1;33m(\u001b[0m\u001b[0mexecute_job\u001b[0m\u001b[1;33m,\u001b[0m\u001b[0mpre_jobs\u001b[0m\u001b[1;33m)\u001b[0m\u001b[1;33m\u001b[0m\u001b[0m\n",
      "\u001b[1;31mNameError\u001b[0m: name 'pages' is not defined"
     ]
    }
   ],
   "source": [
    "pre_job = lambda page: predict(page['path'], model)\n",
    "pre_jobs       = map(pre_job, pages)\n",
    "pre_excecution = map(execute_job,pre_jobs)"
   ]
  },
  {
   "cell_type": "code",
   "execution_count": 230,
   "metadata": {
    "collapsed": false
   },
   "outputs": [
    {
     "name": "stdout",
     "output_type": "stream",
     "text": [
      "(8.1798688471317291, 's per job')\n",
      "(0, 'not completed')\n"
     ]
    }
   ],
   "source": [
    "execution_stats(pre_excecution)"
   ]
  },
  {
   "cell_type": "code",
   "execution_count": 248,
   "metadata": {
    "collapsed": false
   },
   "outputs": [
    {
     "data": {
      "text/plain": [
       "{'lines': [{'name': '010001', 'position': [86L, 528L, 874L, 557L], 'text': ''},\n",
       "  {'name': '010002',\n",
       "   'position': [47L, 478L, 226L, 501L],\n",
       "   'text': 'Holli er Heinz:\\n'},\n",
       "  {'name': '010003',\n",
       "   'position': [47L, 439L, 913L, 466L],\n",
       "   'text': 'Schneewittchen : Oper in 5 Szenen, einem Prolog und einem Epilog nach\\n'},\n",
       "  {'name': '010004',\n",
       "   'position': [46L, 405L, 913L, 433L],\n",
       "   'text': 'Robert Walser / Heinz Holliger. - Grifelfing : ECM-Records-Verlag;\\n'},\n",
       "  {'name': '010005',\n",
       "   'position': [46L, 369L, 915L, 398L],\n",
       "   'text': 'Hamburg : Universal Music, Vertrieb, [2001]. - 2 Compact Discs in Schuber\\n'},\n",
       "  {'name': '010006',\n",
       "   'position': [47L, 335L, 714L, 362L],\n",
       "   'text': '+ Beih. (mit dt, engl, franz Libretto). - (ECM new series)\\n'},\n",
       "  {'name': '010007', 'position': [47L, 301L, 913L, 328L], 'text': ''},\n",
       "  {'name': '010008', 'position': [46L, 266L, 913L, 294L], 'text': ''},\n",
       "  {'name': '010009', 'position': [45L, 233L, 914L, 260L], 'text': ''},\n",
       "  {'name': '01000a', 'position': [46L, 205L, 106L, 225L], 'text': '2000.\\n'},\n",
       "  {'name': '01000b',\n",
       "   'position': [46L, 171L, 412L, 192L],\n",
       "   'text': 'Best.-Nr. ECM Records 1715/16\\n'},\n",
       "  {'name': '01000c',\n",
       "   'position': [45L, 122L, 498L, 159L],\n",
       "   'text': 'NE: Walser, Robert [Textverf]. Interpr.\\n'}],\n",
       " 'path': '../SD_png/SD012/00000111'}"
      ]
     },
     "execution_count": 248,
     "metadata": {},
     "output_type": "execute_result"
    }
   ],
   "source": [
    "sb.load_box_positions(page1)\n",
    "sb.read_text(page1)\n",
    "page1"
   ]
  },
  {
   "cell_type": "code",
   "execution_count": 15,
   "metadata": {
    "collapsed": true
   },
   "outputs": [],
   "source": [
    "def pretty(catalog):\n",
    "    print ujson.encode(catalog,ensure_ascii=False,indent=2, escape_forward_slashes=False)"
   ]
  },
  {
   "cell_type": "code",
   "execution_count": 15,
   "metadata": {
    "collapsed": false
   },
   "outputs": [
    {
     "data": {
      "text/plain": [
       "{'name': 'ST',\n",
       " 'pages': [{'path': '/home/jakob/data/ST/ST001/00000510.png'},\n",
       "  {'path': '/home/jakob/data/ST/ST003/00000267.png'},\n",
       "  {'path': '/home/jakob/data/ST/ST005/00000070.png'},\n",
       "  {'path': '/home/jakob/data/ST/ST008/00000183.png'},\n",
       "  {'path': '/home/jakob/data/ST/ST011/00000230.png'},\n",
       "  {'path': '/home/jakob/data/ST/ST014/00000656.png'},\n",
       "  {'path': '/home/jakob/data/ST/ST016/00000618.png'},\n",
       "  {'path': '/home/jakob/data/ST/ST018/00000683.png'},\n",
       "  {'path': '/home/jakob/data/ST/ST021/00000273.png'},\n",
       "  {'path': '/home/jakob/data/ST/ST023/00000940.png'},\n",
       "  {'path': '/home/jakob/data/ST/ST025/00000028.png'},\n",
       "  {'path': '/home/jakob/data/ST/ST030/00000128.png'},\n",
       "  {'path': '/home/jakob/data/ST/ST033/00000572.png'},\n",
       "  {'path': '/home/jakob/data/ST/ST035/00000411.png'},\n",
       "  {'path': '/home/jakob/data/ST/ST038/00000016.png'},\n",
       "  {'path': '/home/jakob/data/ST/ST040/00000433.png'},\n",
       "  {'path': '/home/jakob/data/ST/ST043/00000653.png'},\n",
       "  {'path': '/home/jakob/data/ST/ST045/00000896.png'},\n",
       "  {'path': '/home/jakob/data/ST/ST047/00000530.png'},\n",
       "  {'path': '/home/jakob/data/ST/ST050/00000687.png'},\n",
       "  {'path': '/home/jakob/data/ST/ST052/00000149.png'},\n",
       "  {'path': '/home/jakob/data/ST/ST055/00000451.png'},\n",
       "  {'path': '/home/jakob/data/ST/ST057/00000809.png'},\n",
       "  {'path': '/home/jakob/data/ST/ST058/00000651.png'},\n",
       "  {'path': '/home/jakob/data/ST/ST062/00000371.png'},\n",
       "  {'path': '/home/jakob/data/ST/ST065/00000756.png'},\n",
       "  {'path': '/home/jakob/data/ST/ST067/00000055.png'},\n",
       "  {'path': '/home/jakob/data/ST/ST069/00000945.png'},\n",
       "  {'path': '/home/jakob/data/ST/ST072/00000407.png'},\n",
       "  {'path': '/home/jakob/data/ST/ST074/00000352.png'},\n",
       "  {'path': '/home/jakob/data/ST/ST077/00000185.png'},\n",
       "  {'path': '/home/jakob/data/ST/ST079/00000665.png'},\n",
       "  {'path': '/home/jakob/data/ST/ST082/00000068.png'},\n",
       "  {'path': '/home/jakob/data/ST/ST085/00000008.png'},\n",
       "  {'path': '/home/jakob/data/ST/ST087/00000375.png'},\n",
       "  {'path': '/home/jakob/data/ST/ST090/00000403.png'},\n",
       "  {'path': '/home/jakob/data/ST/ST092/00000609.png'},\n",
       "  {'path': '/home/jakob/data/ST/ST095/00000082.png'},\n",
       "  {'path': '/home/jakob/data/ST/ST097/00000275.png'},\n",
       "  {'path': '/home/jakob/data/ST/ST100/00000170.png'},\n",
       "  {'path': '/home/jakob/data/ST/ST102/00000357.png'},\n",
       "  {'path': '/home/jakob/data/ST/ST104/00000470.png'},\n",
       "  {'path': '/home/jakob/data/ST/ST106/00000256.png'},\n",
       "  {'path': '/home/jakob/data/ST/ST109/00000436.png'},\n",
       "  {'path': '/home/jakob/data/ST/ST111/00000744.png'},\n",
       "  {'path': '/home/jakob/data/ST/ST114/00000563.png'},\n",
       "  {'path': '/home/jakob/data/ST/ST117/00000271.png'},\n",
       "  {'path': '/home/jakob/data/ST/ST119/00000193.png'},\n",
       "  {'path': '/home/jakob/data/ST/ST122/00000381.png'},\n",
       "  {'path': '/home/jakob/data/ST/ST124/00000156.png'},\n",
       "  {'path': '/home/jakob/data/ST/ST127/00000719.png'},\n",
       "  {'path': '/home/jakob/data/ST/ST129/00000731.png'},\n",
       "  {'path': '/home/jakob/data/ST/ST131/00000419.png'},\n",
       "  {'path': '/home/jakob/data/ST/ST133/00000147.png'},\n",
       "  {'path': '/home/jakob/data/ST/ST136/00000384.png'},\n",
       "  {'path': '/home/jakob/data/ST/ST138/00000596.png'},\n",
       "  {'path': '/home/jakob/data/ST/ST141/00000259.png'},\n",
       "  {'path': '/home/jakob/data/ST/ST143/00000348.png'},\n",
       "  {'path': '/home/jakob/data/ST/ST145/00000284.png'},\n",
       "  {'path': '/home/jakob/data/ST/ST147/00000043.png'},\n",
       "  {'path': '/home/jakob/data/ST/ST150/00000773.png'},\n",
       "  {'path': '/home/jakob/data/ST/ST152/00000796.png'},\n",
       "  {'path': '/home/jakob/data/ST/ST154/00000231.png'},\n",
       "  {'path': '/home/jakob/data/ST/ST157/00000019.png'},\n",
       "  {'path': '/home/jakob/data/ST/ST160/00000787.png'},\n",
       "  {'path': '/home/jakob/data/ST/ST162/00000329.png'},\n",
       "  {'path': '/home/jakob/data/ST/ST164/00000802.png'},\n",
       "  {'path': '/home/jakob/data/ST/ST166/00000093.png'},\n",
       "  {'path': '/home/jakob/data/ST/ST168/00000373.png'},\n",
       "  {'path': '/home/jakob/data/ST/ST170/00000463.png'},\n",
       "  {'path': '/home/jakob/data/ST/ST172/00000478.png'},\n",
       "  {'path': '/home/jakob/data/ST/ST173/00000034.png'},\n",
       "  {'path': '/home/jakob/data/ST/ST175/00000323.png'},\n",
       "  {'path': '/home/jakob/data/ST/ST177/00000787.png'},\n",
       "  {'path': '/home/jakob/data/ST/ST179/00000622.png'},\n",
       "  {'path': '/home/jakob/data/ST/ST181/00000542.png'},\n",
       "  {'path': '/home/jakob/data/ST/ST184/00000335.png'},\n",
       "  {'path': '/home/jakob/data/ST/ST186/00000686.png'},\n",
       "  {'path': '/home/jakob/data/ST/ST188/00000862.png'},\n",
       "  {'path': '/home/jakob/data/ST/ST189/00000249.png'},\n",
       "  {'path': '/home/jakob/data/ST/ST191/00000140.png'},\n",
       "  {'path': '/home/jakob/data/ST/ST195/00000472.png'},\n",
       "  {'path': '/home/jakob/data/ST/ST197/00000472.png'},\n",
       "  {'path': '/home/jakob/data/ST/ST199/00000981.png'},\n",
       "  {'path': '/home/jakob/data/ST/ST201/00000243.png'},\n",
       "  {'path': '/home/jakob/data/ST/ST205/00000659.png'},\n",
       "  {'path': '/home/jakob/data/ST/ST207/00000651.png'},\n",
       "  {'path': '/home/jakob/data/ST/ST209/00000444.png'},\n",
       "  {'path': '/home/jakob/data/ST/ST211/00000351.png'},\n",
       "  {'path': '/home/jakob/data/ST/ST212/00000034.png'},\n",
       "  {'path': '/home/jakob/data/ST/ST214/00000024.png'},\n",
       "  {'path': '/home/jakob/data/ST/ST217/00000702.png'},\n",
       "  {'path': '/home/jakob/data/ST/ST219/00000060.png'},\n",
       "  {'path': '/home/jakob/data/ST/ST221/00000734.png'},\n",
       "  {'path': '/home/jakob/data/ST/ST224/00000266.png'},\n",
       "  {'path': '/home/jakob/data/ST/ST226/00000496.png'},\n",
       "  {'path': '/home/jakob/data/ST/ST229/00000004.png'},\n",
       "  {'path': '/home/jakob/data/ST/ST231/00000700.png'},\n",
       "  {'path': '/home/jakob/data/ST/ST233/00000418.png'},\n",
       "  {'path': '/home/jakob/data/ST/ST236/00000528.png'}],\n",
       " 'path': '/home/jakob/data/ST'}"
      ]
     },
     "execution_count": 15,
     "metadata": {},
     "output_type": "execute_result"
    }
   ],
   "source": [
    "\n",
    "# batch1 = {'batch': '001'}\n",
    "catalog = sb.load_catalog('/home/jakob/data/ST',selection={}, text_box=False, text=False)\n",
    "catalog"
   ]
  },
  {
   "cell_type": "code",
   "execution_count": 25,
   "metadata": {
    "collapsed": false
   },
   "outputs": [
    {
     "data": {
      "text/plain": [
       "10"
      ]
     },
     "execution_count": 25,
     "metadata": {},
     "output_type": "execute_result"
    }
   ],
   "source": [
    "int(\"01000a\"[2:],16)"
   ]
  },
  {
   "cell_type": "code",
   "execution_count": 41,
   "metadata": {
    "collapsed": false
   },
   "outputs": [
    {
     "data": {
      "text/plain": [
       "['Abxraham, Paul\\n',\n",
       " 'DMS 219 788\\n',\n",
       " 'Die te Yon Bawaii. Operette in 5 Akten von\\n',\n",
       " 'Alfred x~nwald, Bmmexrich Fldea w- Bada [d.i.\\n',\n",
       " 'Prit L~hner]. Muaik von Paul Abraham. GroBea\\n',\n",
       " 'Potpouxri von Nico Doatal. [Fxr Ge aang u. Klavior.]\\n',\n",
       " 'aael Doremi (1952J. 15 S. 4\\n']"
      ]
     },
     "execution_count": 41,
     "metadata": {},
     "output_type": "execute_result"
    }
   ],
   "source": [
    "pages = catalog['pages']\n",
    "lines = sorted(pages[0]['lines'], key=lambda line: line['name'] )\n",
    "map(lambda line: line['text'], lines)"
   ]
  },
  {
   "cell_type": "code",
   "execution_count": 259,
   "metadata": {
    "collapsed": false
   },
   "outputs": [
    {
     "name": "stdout",
     "output_type": "stream",
     "text": [
      "True\n",
      "{'path': '../SD_png/SD012/00000111.png', 'lines': [{'position': [86L, 528L, 874L, 557L], 'name': '010001', 'text': ''}, {'position': [47L, 478L, 226L, 501L], 'name': '010002', 'text': 'Holli er Heinz:\\n'}, {'position': [47L, 439L, 913L, 466L], 'name': '010003', 'text': 'Schneewittchen : Oper in 5 Szenen, einem Prolog und einem Epilog nach\\n'}, {'position': [46L, 405L, 913L, 433L], 'name': '010004', 'text': 'Robert Walser / Heinz Holliger. - Grifelfing : ECM-Records-Verlag;\\n'}, {'position': [46L, 369L, 915L, 398L], 'name': '010005', 'text': 'Hamburg : Universal Music, Vertrieb, [2001]. - 2 Compact Discs in Schuber\\n'}, {'position': [47L, 335L, 714L, 362L], 'name': '010006', 'text': '+ Beih. (mit dt, engl, franz Libretto). - (ECM new series)\\n'}, {'position': [47L, 301L, 913L, 328L], 'name': '010007', 'text': ''}, {'position': [46L, 266L, 913L, 294L], 'name': '010008', 'text': ''}, {'position': [45L, 233L, 914L, 260L], 'name': '010009', 'text': ''}, {'position': [46L, 205L, 106L, 225L], 'name': '01000a', 'text': '2000.\\n'}, {'position': [46L, 171L, 412L, 192L], 'name': '01000b', 'text': 'Best.-Nr. ECM Records 1715/16\\n'}, {'position': [45L, 122L, 498L, 159L], 'name': '01000c', 'text': 'NE: Walser, Robert [Textverf]. Interpr.\\n'}]}\n"
     ]
    },
    {
     "data": {
      "text/plain": [
       "[{'lines': [{'name': '010001',\n",
       "    'position': [86L, 528L, 874L, 557L],\n",
       "    'text': ''},\n",
       "   {'name': '010002',\n",
       "    'position': [47L, 478L, 226L, 501L],\n",
       "    'text': 'Holli er Heinz:\\n'},\n",
       "   {'name': '010003',\n",
       "    'position': [47L, 439L, 913L, 466L],\n",
       "    'text': 'Schneewittchen : Oper in 5 Szenen, einem Prolog und einem Epilog nach\\n'},\n",
       "   {'name': '010004',\n",
       "    'position': [46L, 405L, 913L, 433L],\n",
       "    'text': 'Robert Walser / Heinz Holliger. - Grifelfing : ECM-Records-Verlag;\\n'},\n",
       "   {'name': '010005',\n",
       "    'position': [46L, 369L, 915L, 398L],\n",
       "    'text': 'Hamburg : Universal Music, Vertrieb, [2001]. - 2 Compact Discs in Schuber\\n'},\n",
       "   {'name': '010006',\n",
       "    'position': [47L, 335L, 714L, 362L],\n",
       "    'text': '+ Beih. (mit dt, engl, franz Libretto). - (ECM new series)\\n'},\n",
       "   {'name': '010007', 'position': [47L, 301L, 913L, 328L], 'text': ''},\n",
       "   {'name': '010008', 'position': [46L, 266L, 913L, 294L], 'text': ''},\n",
       "   {'name': '010009', 'position': [45L, 233L, 914L, 260L], 'text': ''},\n",
       "   {'name': '01000a', 'position': [46L, 205L, 106L, 225L], 'text': '2000.\\n'},\n",
       "   {'name': '01000b',\n",
       "    'position': [46L, 171L, 412L, 192L],\n",
       "    'text': 'Best.-Nr. ECM Records 1715/16\\n'},\n",
       "   {'name': '01000c',\n",
       "    'position': [45L, 122L, 498L, 159L],\n",
       "    'text': 'NE: Walser, Robert [Textverf]. Interpr.\\n'}],\n",
       "  'path': '../SD_png/SD012/00000111.png'}]"
      ]
     },
     "execution_count": 259,
     "metadata": {},
     "output_type": "execute_result"
    }
   ],
   "source": [
    "texted = [page for page in catalog['pages'] if op.basename(sb.change_path(page['path'])) == '00000111']\n",
    "print has_no_text(texted[0])\n",
    "print texted[0]\n",
    "sb.read_text(texted[0])\n",
    "texted"
   ]
  },
  {
   "cell_type": "code",
   "execution_count": null,
   "metadata": {
    "collapsed": true
   },
   "outputs": [],
   "source": [
    "relPagePaths = {'rel_path': '../', 'remove_type': True}\n",
    "change_paths(catalog, relPagePaths)"
   ]
  },
  {
   "cell_type": "code",
   "execution_count": 11,
   "metadata": {
    "collapsed": false
   },
   "outputs": [
    {
     "data": {
      "text/plain": [
       "'SD_png/00000282.pseg'"
      ]
     },
     "execution_count": 11,
     "metadata": {},
     "output_type": "execute_result"
    }
   ],
   "source": [
    "change_path('../SD_png/SD012/00000282.pseg.png',rel_path='../',remove_type=True)"
   ]
  },
  {
   "cell_type": "code",
   "execution_count": 53,
   "metadata": {
    "collapsed": false
   },
   "outputs": [
    {
     "data": {
      "text/plain": [
       "[{'path': '/home/jakob/data/SB/SB001/00000510.png'},\n",
       " {'path': '/home/jakob/data/SB/SB003/00000267.png'},\n",
       " {'path': '/home/jakob/data/SB/SB005/00000070.png'},\n",
       " {'path': '/home/jakob/data/SB/SB008/00000183.png'},\n",
       " {'path': '/home/jakob/data/SB/SB011/00000230.png'},\n",
       " {'path': '/home/jakob/data/SB/SB014/00000656.png'},\n",
       " {'path': '/home/jakob/data/SB/SB016/00000618.png'},\n",
       " {'path': '/home/jakob/data/SB/SB018/00000683.png'},\n",
       " {'path': '/home/jakob/data/SB/SB021/00000273.png'},\n",
       " {'path': '/home/jakob/data/SB/SB023/00000940.png'},\n",
       " {'path': '/home/jakob/data/SB/SB025/00000028.png'},\n",
       " {'path': '/home/jakob/data/SB/SB030/00000128.png'},\n",
       " {'path': '/home/jakob/data/SB/SB033/00000572.png'},\n",
       " {'path': '/home/jakob/data/SB/SB035/00000411.png'},\n",
       " {'path': '/home/jakob/data/SB/SB038/00000016.png'},\n",
       " {'path': '/home/jakob/data/SB/SB040/00000433.png'},\n",
       " {'path': '/home/jakob/data/SB/SB043/00000653.png'},\n",
       " {'path': '/home/jakob/data/SB/SB045/00000896.png'},\n",
       " {'path': '/home/jakob/data/SB/SB047/00000530.png'},\n",
       " {'path': '/home/jakob/data/SB/SB050/00000687.png'},\n",
       " {'path': '/home/jakob/data/SB/SB052/00000149.png'},\n",
       " {'path': '/home/jakob/data/SB/SB055/00000451.png'},\n",
       " {'path': '/home/jakob/data/SB/SB057/00000809.png'},\n",
       " {'path': '/home/jakob/data/SB/SB058/00000651.png'},\n",
       " {'path': '/home/jakob/data/SB/SB062/00000371.png'},\n",
       " {'path': '/home/jakob/data/SB/SB065/00000756.png'},\n",
       " {'path': '/home/jakob/data/SB/SB067/00000055.png'},\n",
       " {'path': '/home/jakob/data/SB/SB069/00000945.png'},\n",
       " {'path': '/home/jakob/data/SB/SB072/00000407.png'},\n",
       " {'path': '/home/jakob/data/SB/SB074/00000352.png'},\n",
       " {'path': '/home/jakob/data/SB/SB077/00000185.png'},\n",
       " {'path': '/home/jakob/data/SB/SB079/00000665.png'},\n",
       " {'path': '/home/jakob/data/SB/SB082/00000068.png'},\n",
       " {'path': '/home/jakob/data/SB/SB085/00000008.png'},\n",
       " {'path': '/home/jakob/data/SB/SB087/00000375.png'},\n",
       " {'path': '/home/jakob/data/SB/SB090/00000403.png'},\n",
       " {'path': '/home/jakob/data/SB/SB092/00000609.png'},\n",
       " {'path': '/home/jakob/data/SB/SB095/00000082.png'},\n",
       " {'path': '/home/jakob/data/SB/SB097/00000275.png'},\n",
       " {'path': '/home/jakob/data/SB/SB100/00000170.png'},\n",
       " {'path': '/home/jakob/data/SB/SB102/00000357.png'},\n",
       " {'path': '/home/jakob/data/SB/SB104/00000470.png'},\n",
       " {'path': '/home/jakob/data/SB/SB106/00000256.png'},\n",
       " {'path': '/home/jakob/data/SB/SB109/00000436.png'},\n",
       " {'path': '/home/jakob/data/SB/SB111/00000744.png'},\n",
       " {'path': '/home/jakob/data/SB/SB114/00000563.png'},\n",
       " {'path': '/home/jakob/data/SB/SB117/00000271.png'},\n",
       " {'path': '/home/jakob/data/SB/SB119/00000193.png'},\n",
       " {'path': '/home/jakob/data/SB/SB122/00000381.png'},\n",
       " {'path': '/home/jakob/data/SB/SB124/00000156.png'},\n",
       " {'path': '/home/jakob/data/SB/SB127/00000719.png'},\n",
       " {'path': '/home/jakob/data/SB/SB129/00000731.png'},\n",
       " {'path': '/home/jakob/data/SB/SB131/00000419.png'},\n",
       " {'path': '/home/jakob/data/SB/SB133/00000147.png'},\n",
       " {'path': '/home/jakob/data/SB/SB136/00000384.png'},\n",
       " {'path': '/home/jakob/data/SB/SB138/00000596.png'},\n",
       " {'path': '/home/jakob/data/SB/SB141/00000259.png'},\n",
       " {'path': '/home/jakob/data/SB/SB143/00000348.png'},\n",
       " {'path': '/home/jakob/data/SB/SB145/00000284.png'},\n",
       " {'path': '/home/jakob/data/SB/SB147/00000043.png'},\n",
       " {'path': '/home/jakob/data/SB/SB150/00000773.png'},\n",
       " {'path': '/home/jakob/data/SB/SB152/00000796.png'},\n",
       " {'path': '/home/jakob/data/SB/SB154/00000231.png'},\n",
       " {'path': '/home/jakob/data/SB/SB157/00000019.png'},\n",
       " {'path': '/home/jakob/data/SB/SB160/00000787.png'},\n",
       " {'path': '/home/jakob/data/SB/SB162/00000329.png'},\n",
       " {'path': '/home/jakob/data/SB/SB164/00000802.png'},\n",
       " {'path': '/home/jakob/data/SB/SB166/00000093.png'},\n",
       " {'path': '/home/jakob/data/SB/SB168/00000373.png'},\n",
       " {'path': '/home/jakob/data/SB/SB170/00000463.png'},\n",
       " {'path': '/home/jakob/data/SB/SB172/00000478.png'},\n",
       " {'path': '/home/jakob/data/SB/SB173/00000034.png'},\n",
       " {'path': '/home/jakob/data/SB/SB175/00000323.png'},\n",
       " {'path': '/home/jakob/data/SB/SB177/00000787.png'},\n",
       " {'path': '/home/jakob/data/SB/SB179/00000622.png'},\n",
       " {'path': '/home/jakob/data/SB/SB181/00000542.png'},\n",
       " {'path': '/home/jakob/data/SB/SB184/00000335.png'},\n",
       " {'path': '/home/jakob/data/SB/SB186/00000686.png'},\n",
       " {'path': '/home/jakob/data/SB/SB188/00000862.png'},\n",
       " {'path': '/home/jakob/data/SB/SB189/00000249.png'},\n",
       " {'path': '/home/jakob/data/SB/SB191/00000140.png'},\n",
       " {'path': '/home/jakob/data/SB/SB195/00000472.png'},\n",
       " {'path': '/home/jakob/data/SB/SB197/00000472.png'},\n",
       " {'path': '/home/jakob/data/SB/SB199/00000981.png'},\n",
       " {'path': '/home/jakob/data/SB/SB201/00000243.png'},\n",
       " {'path': '/home/jakob/data/SB/SB205/00000659.png'},\n",
       " {'path': '/home/jakob/data/SB/SB207/00000651.png'},\n",
       " {'path': '/home/jakob/data/SB/SB209/00000444.png'},\n",
       " {'path': '/home/jakob/data/SB/SB211/00000351.png'},\n",
       " {'path': '/home/jakob/data/SB/SB212/00000034.png'},\n",
       " {'path': '/home/jakob/data/SB/SB214/00000024.png'},\n",
       " {'path': '/home/jakob/data/SB/SB217/00000702.png'},\n",
       " {'path': '/home/jakob/data/SB/SB219/00000060.png'},\n",
       " {'path': '/home/jakob/data/SB/SB221/00000734.png'},\n",
       " {'path': '/home/jakob/data/SB/SB224/00000266.png'},\n",
       " {'path': '/home/jakob/data/SB/SB226/00000496.png'},\n",
       " {'path': '/home/jakob/data/SB/SB229/00000004.png'},\n",
       " {'path': '/home/jakob/data/SB/SB231/00000700.png'},\n",
       " {'path': '/home/jakob/data/SB/SB233/00000418.png'},\n",
       " {'path': '/home/jakob/data/SB/SB236/00000528.png'}]"
      ]
     },
     "execution_count": 53,
     "metadata": {},
     "output_type": "execute_result"
    }
   ],
   "source": [
    "sorted(catalog['pages'])"
   ]
  },
  {
   "cell_type": "code",
   "execution_count": 28,
   "metadata": {
    "collapsed": false
   },
   "outputs": [
    {
     "name": "stdout",
     "output_type": "stream",
     "text": [
      "/home/jakob/data/SB/SB001/00000510.png\n",
      "SB001/00000510\n"
     ]
    }
   ],
   "source": [
    "import copy\n",
    "\n",
    "export_conv = {'rel_path': '/home/jakob/data/SB'}\n",
    "print catalog['pages'][0]['path']\n",
    "c_catalog = copy.deepcopy(catalog)\n",
    "limit = 2\n",
    "with open('data/SB.json','wb') as export:\n",
    "    for page in c_catalog['pages']:\n",
    "        page['path'] = sb.change_path(page['path'],**export_conv)\n",
    "    c_catalog['pages'] = c_catalog['pages'][:limit]\n",
    "    export.write(ujson.dumps(c_catalog, ensure_ascii=False,indent=2, escape_forward_slashes=False))\n",
    "print c_catalog['pages'][0]['path']"
   ]
  },
  {
   "cell_type": "code",
   "execution_count": null,
   "metadata": {
    "collapsed": true
   },
   "outputs": [],
   "source": [
    "ujson.dump"
   ]
  },
  {
   "cell_type": "code",
   "execution_count": 13,
   "metadata": {
    "collapsed": false
   },
   "outputs": [
    {
     "name": "stdout",
     "output_type": "stream",
     "text": [
      "{\r\n",
      "  \"path\":\"/home/jakob/data/SB\",\r\n",
      "  \"name\":\"SB\",\r\n",
      "  \"pages\":[\r\n",
      "    {\r\n",
      "      \"path\":\"SB001/00000510\",\r\n",
      "      \"lines\":[\r\n",
      "        {\r\n",
      "          \"position\":[\r\n",
      "            56,\r\n",
      "            450,\r\n",
      "            292,\r\n",
      "            477\r\n",
      "          ],\r\n",
      "          \"name\":\"010001\",\r\n",
      "          \"text\":\"Abxraham, Paul\\n\"\r\n",
      "        },\r\n",
      "        {\r\n",
      "          \"position\":[\r\n",
      "            622,\r\n",
      "            520,\r\n",
      "            822,\r\n",
      "            545\r\n",
      "          ],\r\n",
      "          \"name\":\"010002\",\r\n",
      "          \"text\":\"DMS 219 788\\n\"\r\n",
      "        },\r\n",
      "        {\r\n",
      "          \"position\":[\r\n",
      "            57,\r\n",
      "            376,\r\n",
      "            877,\r\n",
      "            407\r\n",
      "          ],\r\n",
      "          \"name\":\"010003\",\r\n",
      "          \"text\":\"Die te Yon Bawaii. Operette in 5 Akten von\\n\"\r\n",
      "        },\r\n",
      "        {\r\n",
      "          \"position\":[\r\n",
      "            56,\r\n",
      "            342,\r\n",
      "            888,\r\n",
      "            381\r\n",
      "          ],\r\n",
      "          \"name\":\"010004\",\r\n",
      "          \"text\":\"Alfred x~nwald, Bmmexrich Fldea w- Bada [d.i.\\n\"\r\n",
      "        },\r\n",
      "        {\r\n",
      "          \"position\":[\r\n",
      "            57,\r\n",
      "            311,\r\n",
      "            874,\r\n",
      "            347\r\n",
      "          ],\r\n",
      "          \"name\":\"010005\",\r\n",
      "          \"text\":\"Prit L~hner]. Muaik von Paul Abraham. GroBea\\n\"\r\n",
      "        },\r\n",
      "        {\r\n",
      "          \"position\":[\r\n",
      "            57,\r\n",
      "            267,\r\n",
      "            982,\r\n",
      "            313\r\n",
      "          ],\r\n",
      "          \"name\":\"010006\",\r\n",
      "          \"text\":\"Potpouxri von Nico Doatal. [Fxr Ge aang u. Klavior.]\\n\"\r\n",
      "        },\r\n",
      "        {\r\n",
      "          \"position\":[\r\n",
      "            56,\r\n",
      "            243,\r\n",
      "            583,\r\n",
      "            279\r\n",
      "          ],\r\n",
      "          \"name\":\"010007\",\r\n",
      "          \"text\":\"aael Doremi (1952J. 15 S. 4\\n\"\r\n",
      "        }\r\n",
      "      ]\r\n",
      "    }\r\n",
      "  ]\r\n",
      "}"
     ]
    }
   ],
   "source": [
    "!cat data/SB.json"
   ]
  },
  {
   "cell_type": "code",
   "execution_count": 158,
   "metadata": {
    "collapsed": false
   },
   "outputs": [
    {
     "name": "stdout",
     "output_type": "stream",
     "text": [
      "../catalog-ocr-test/SD012/00000321\n",
      "../SD_png/SD012/00000321\n"
     ]
    }
   ],
   "source": [
    "print sb.change_path(catalog['pages'][1]['path'],**export_conv)\n",
    "print op.join(catalog['path'],catalog['pages'][1]['path'])"
   ]
  },
  {
   "cell_type": "code",
   "execution_count": 232,
   "metadata": {
    "collapsed": false
   },
   "outputs": [
    {
     "data": {
      "text/plain": [
       "True"
      ]
     },
     "execution_count": 232,
     "metadata": {},
     "output_type": "execute_result"
    }
   ],
   "source": [
    "any(map(op.isfile, text_files(page1).values()))"
   ]
  },
  {
   "cell_type": "code",
   "execution_count": 64,
   "metadata": {
    "collapsed": false
   },
   "outputs": [],
   "source": [
    "import itertools as it\n",
    "lines = [page['lines'] for page in catalog['pages']]\n",
    "# text = [line['text'] for line in lines]\n",
    "all_lines = it.chain(*lines)\n",
    "text = [line['text'] for line in all_lines]\n"
   ]
  },
  {
   "cell_type": "code",
   "execution_count": null,
   "metadata": {
    "collapsed": true
   },
   "outputs": [],
   "source": []
  }
 ],
 "metadata": {
  "kernelspec": {
   "display_name": "Python 2",
   "language": "python",
   "name": "python2"
  },
  "language_info": {
   "codemirror_mode": {
    "name": "ipython",
    "version": 2
   },
   "file_extension": ".py",
   "mimetype": "text/x-python",
   "name": "python",
   "nbconvert_exporter": "python",
   "pygments_lexer": "ipython2",
   "version": "2.7.11"
  }
 },
 "nbformat": 4,
 "nbformat_minor": 0
}
