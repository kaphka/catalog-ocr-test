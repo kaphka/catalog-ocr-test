{
 "cells": [
  {
   "cell_type": "code",
   "execution_count": 123,
   "metadata": {
    "collapsed": true
   },
   "outputs": [],
   "source": [
    "%matplotlib inline \n",
    "import matplotlib.pyplot as plt\n",
    "import numpy as np\n",
    "import seaborn as sns\n",
    "import pandas as pd\n",
    "sns.set_context('poster')\n",
    "sns.set_color_codes(\"muted\")"
   ]
  },
  {
   "cell_type": "code",
   "execution_count": 2,
   "metadata": {
    "collapsed": true
   },
   "outputs": [],
   "source": [
    "from langdetect import detect_langs\n",
    "import pycountry as pc\n",
    "import ujson as json\n",
    "import itertools as it\n",
    "import functools as ft\n",
    "from tqdm import tqdm"
   ]
  },
  {
   "cell_type": "code",
   "execution_count": 3,
   "metadata": {
    "collapsed": false
   },
   "outputs": [],
   "source": [
    "with open(\"/media/jakob/bigdata/train/SB.json\", 'rb') as cat_file:\n",
    "    catalog = json.load(cat_file)"
   ]
  },
  {
   "cell_type": "code",
   "execution_count": 4,
   "metadata": {
    "collapsed": false
   },
   "outputs": [
    {
     "name": "stderr",
     "output_type": "stream",
     "text": [
      "100%|██████████| 4432/4432 [00:55<00:00, 80.54it/s]\n"
     ]
    }
   ],
   "source": [
    "prediction = dict()\n",
    "for page in tqdm(catalog['pages']):\n",
    "    text_lines = [line['text'] for line in page['lines']]\n",
    "    text = ''.join(text_lines) \n",
    "    if (len(text) > 0):\n",
    "        page['languages'] = detect_langs(text)\n",
    "        prediction[page['path']] =  page['languages']"
   ]
  },
  {
   "cell_type": "code",
   "execution_count": 131,
   "metadata": {
    "collapsed": false
   },
   "outputs": [],
   "source": [
    "with open(\"/media/jakob/bigdata/train/SB_lang.json\", 'wb') as cat_file:\n",
    "    json.dump(catalog, cat_file, ensure_ascii=False,indent=2, escape_forward_slashes=False)"
   ]
  },
  {
   "cell_type": "markdown",
   "metadata": {},
   "source": [
    "# Plots"
   ]
  },
  {
   "cell_type": "code",
   "execution_count": 5,
   "metadata": {
    "collapsed": false
   },
   "outputs": [
    {
     "name": "stdout",
     "output_type": "stream",
     "text": [
      "[de:0.999995484313]\n",
      "[en:0.571426110365, de:0.428573889634]\n"
     ]
    }
   ],
   "source": [
    "print detect_langs(\"Das ist ein Test\")\n",
    "print detect_langs(\"This ist nicht wirklich a test\")"
   ]
  },
  {
   "cell_type": "code",
   "execution_count": 6,
   "metadata": {
    "collapsed": false
   },
   "outputs": [],
   "source": [
    "def append(langs, lang): \n",
    "    langs.extend(lang)\n",
    "    return langs\n",
    "lang_probs = [(lang.lang, lang.prob) for lang in ft.reduce(append, prediction.values(), list())]"
   ]
  },
  {
   "cell_type": "code",
   "execution_count": 15,
   "metadata": {
    "collapsed": false
   },
   "outputs": [],
   "source": [
    "language_count = sorted([(pc.languages.get(iso639_1_code=key).name, (list(group)))\n",
    "for key, group in it.groupby(sorted(lang_probs), lambda lang: lang[0])], key=lambda lang: lang[1])"
   ]
  },
  {
   "cell_type": "code",
   "execution_count": 8,
   "metadata": {
    "collapsed": false
   },
   "outputs": [],
   "source": [
    "counts = [ n for lang, n in language_count]\n",
    "langs  = [ lang for lang, n in language_count]"
   ]
  },
  {
   "cell_type": "code",
   "execution_count": 130,
   "metadata": {
    "collapsed": false
   },
   "outputs": [
    {
     "data": {
      "text/html": [
       "<div>\n",
       "<table border=\"1\" class=\"dataframe\">\n",
       "  <thead>\n",
       "    <tr style=\"text-align: right;\">\n",
       "      <th></th>\n",
       "      <th>prob</th>\n",
       "    </tr>\n",
       "  </thead>\n",
       "  <tbody>\n",
       "    <tr>\n",
       "      <th>German</th>\n",
       "      <td>2871.956103</td>\n",
       "    </tr>\n",
       "    <tr>\n",
       "      <th>English</th>\n",
       "      <td>613.658885</td>\n",
       "    </tr>\n",
       "    <tr>\n",
       "      <th>French</th>\n",
       "      <td>316.392781</td>\n",
       "    </tr>\n",
       "    <tr>\n",
       "      <th>Italian</th>\n",
       "      <td>232.394948</td>\n",
       "    </tr>\n",
       "    <tr>\n",
       "      <th>Catalan</th>\n",
       "      <td>74.663225</td>\n",
       "    </tr>\n",
       "  </tbody>\n",
       "</table>\n",
       "</div>"
      ],
      "text/plain": [
       "                prob\n",
       "German   2871.956103\n",
       "English   613.658885\n",
       "French    316.392781\n",
       "Italian   232.394948\n",
       "Catalan    74.663225"
      ]
     },
     "execution_count": 130,
     "metadata": {},
     "output_type": "execute_result"
    }
   ],
   "source": [
    "lang_data = pd.DataFrame(lang_probs, columns=['lang', 'prob'])\n",
    "lang_sum = lang_data.groupby('lang').sum()\n",
    "lang_sum.index = lang_sum.index.map(lambda key: pc.languages.get(iso639_1_code=key).name)\n",
    "lang_sum.sort_values('prob',ascending=False, inplace=True)\n",
    "lang_sum.head()\n",
    "# lang_sum.index"
   ]
  },
  {
   "cell_type": "code",
   "execution_count": 131,
   "metadata": {
    "collapsed": false
   },
   "outputs": [
    {
     "data": {
      "image/png": "[encoded data removed]",
      "text/plain": [
       "<matplotlib.figure.Figure at 0x7fd93d9b1c50>"
      ]
     },
     "metadata": {},
     "output_type": "display_data"
    }
   ],
   "source": [
    "fig = plt.figure(figsize=(12, 12), dpi=300)\n",
    "g = sns.barplot(data=lang_sum[:10], x='prob', y=lang_sum.index[:10], color='b')\n",
    "g.axes.set(xlabel='Summer der Wahrscheinlichtkeiten')\n",
    "g.set_title(\"Sprachverteilung von {} Karten aus dem Katalog {}\".format(len(catalog['pages']), catalog['name']))\n",
    "fig.savefig('../plots/sprachverteilung.pdf')"
   ]
  },
  {
   "cell_type": "code",
   "execution_count": null,
   "metadata": {
    "collapsed": true
   },
   "outputs": [],
   "source": [
    "\n"
   ]
  }
 ],
 "metadata": {
  "kernelspec": {
   "display_name": "Python 2",
   "language": "python",
   "name": "python2"
  },
  "language_info": {
   "codemirror_mode": {
    "name": "ipython",
    "version": 2
   },
   "file_extension": ".py",
   "mimetype": "text/x-python",
   "name": "python",
   "nbconvert_exporter": "python",
   "pygments_lexer": "ipython2",
   "version": "2.7.12"
  }
 },
 "nbformat": 4,
 "nbformat_minor": 0
}
