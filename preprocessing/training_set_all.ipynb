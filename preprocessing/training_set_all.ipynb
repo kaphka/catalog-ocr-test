{
 "cells": [
  {
   "cell_type": "code",
   "execution_count": 2,
   "metadata": {
    "collapsed": true
   },
   "outputs": [],
   "source": [
    "%matplotlib inline\n",
    "import matplotlib.pyplot as plt\n",
    "import ujson as json\n",
    "import glob as g\n",
    "import random as rnd\n",
    "import os.path as op\n",
    "import os\n",
    "import codecs\n",
    "import shutil\n",
    "import time\n",
    "import math\n",
    "import numpy as np\n",
    "from skimage import io, transform\n",
    "import skimage.color as skc\n",
    "\n",
    "from tqdm import tqdm\n",
    "\n",
    "import pandas as pd\n",
    "import seaborn as sns\n",
    "\n",
    "import multiprocessing\n",
    "import hashlib as hl\n",
    "import scipy.spatial.distance as sd\n",
    "import tinydb as tb\n",
    "import re\n",
    "\n",
    "import subprocess as sp"
   ]
  },
  {
   "cell_type": "code",
   "execution_count": 15,
   "metadata": {
    "collapsed": false
   },
   "outputs": [
    {
     "name": "stdout",
     "output_type": "stream",
     "text": [
      "('SB', '002/23')\n"
     ]
    }
   ],
   "source": [
    "def split_batch_name(batch):\n",
    "    match = re.match('(\\D+)(.*)',batch)\n",
    "    return match.groups()\n",
    "print split_batch_name('SB002/23')"
   ]
  },
  {
   "cell_type": "code",
   "execution_count": 16,
   "metadata": {
    "collapsed": true
   },
   "outputs": [],
   "source": [
    "tests_path = '/media/jakob/bigdata/train_sets'\n",
    "text_db_path = '/media/jakob/bigdata/train/db.json'\n",
    "catalogs_dir = '/media/jakob/bigdata/train/'"
   ]
  },
  {
   "cell_type": "code",
   "execution_count": 17,
   "metadata": {
    "collapsed": true
   },
   "outputs": [],
   "source": [
    "data = pd.read_csv('/media/jakob/bigdata/train/sample_trainAll.csv')['0']\n",
    "test = pd.read_csv('/media/jakob/bigdata/train/sample_reproducibility.csv')['0']\n",
    "sample_set = set(data)\n",
    "test_set = set(test)"
   ]
  },
  {
   "cell_type": "code",
   "execution_count": null,
   "metadata": {
    "collapsed": true
   },
   "outputs": [],
   "source": []
  },
  {
   "cell_type": "code",
   "execution_count": 20,
   "metadata": {
    "collapsed": false
   },
   "outputs": [],
   "source": [
    "def create_testbed(test_path, text_db_path,  ext = '.png'):\n",
    "    db = tb.TinyDB(text_db_path)\n",
    "    if not op.isdir(test_path):\n",
    "        os.makedirs(test_path)\n",
    "    samples = db.table('lines')\n",
    "    for line in tqdm(samples.all()):\n",
    "        if not line['id'] in test_set:\n",
    "            cat_name, _ = split_batch_name(line['id'])\n",
    "            cat_dir     = op.join(test_path,cat_name)\n",
    "            if not op.isdir(cat_dir):\n",
    "                os.makedirs(cat_dir)\n",
    "            line_img = op.join(catalogs_dir, cat_name, line['id'])\n",
    "            test_out = op.join(cat_dir, line['id'].replace('/', '_'))\n",
    "            shutil.copy(line_img + ext, test_out + ext)\n",
    "            with codecs.open(test_out + '.gt.txt', 'w', encoding='utf8') as gt_file:\n",
    "                gt_file.write(line['gt'])\n",
    "    db.close()\n"
   ]
  },
  {
   "cell_type": "code",
   "execution_count": 21,
   "metadata": {
    "collapsed": false
   },
   "outputs": [
    {
     "name": "stderr",
     "output_type": "stream",
     "text": [
      "100%|██████████| 400/400 [00:03<00:00, 109.95it/s]\n"
     ]
    }
   ],
   "source": [
    "create_testbed(op.join(tests_path, 'ocropy_all'), text_db_path, ext='.bin.png')"
   ]
  }
 ],
 "metadata": {
  "kernelspec": {
   "display_name": "Python 2",
   "language": "python",
   "name": "python2"
  },
  "language_info": {
   "codemirror_mode": {
    "name": "ipython",
    "version": 2
   },
   "file_extension": ".py",
   "mimetype": "text/x-python",
   "name": "python",
   "nbconvert_exporter": "python",
   "pygments_lexer": "ipython2",
   "version": "2.7.12"
  }
 },
 "nbformat": 4,
 "nbformat_minor": 0
}
