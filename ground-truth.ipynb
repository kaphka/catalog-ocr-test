{
 "cells": [
  {
   "cell_type": "code",
   "execution_count": 1,
   "metadata": {
    "collapsed": true
   },
   "outputs": [],
   "source": [
    "# TODO: brauche ich das noch? "
   ]
  },
  {
   "cell_type": "code",
   "execution_count": 17,
   "metadata": {
    "collapsed": false
   },
   "outputs": [
    {
     "name": "stdout",
     "output_type": "stream",
     "text": [
      "INFO:  \n",
      "INFO:  ########## /home/jakob/anaconda/bin/ocropus-rpred -Q 7 -m ../ocropy/mod\n",
      "INFO:  \n",
      "INFO:  #inputs12\n",
      "# loading object ../ocropy/models/en-default.pyrnn.gz\n",
      "INFO:  ../catalog-testset/SD/SD00200000003/010004.bin.png:Edition Barbarossa.\n",
      "INFO:  ../catalog-testset/SD/SD00200000003/010006.bin.png:Enth.: Jagd auf Liebe. Steigen Netel. u Fuss. Ishgiten-Legende.\n",
      "INFO:  ../catalog-testset/SD/SD00200000003/010003.bin.png:%3S : Hit-Raritäten aus dem DOR-Rundfunkarch1v. - Berlin :\n",
      "INFO:  ../catalog-testset/SD/SD00200000003/010001.bin.png:Babylon\n",
      "INFO:  ../catalog-testset/SD/SD00200000003/010005.bin.png:Vol. 4, - [1996]. - 1 Compact Disc Beih.\n",
      "INFO:  ../catalog-testset/SD/SD00200000003/010002.bin.png:55 CD 289 - 4\n",
      "INFO:  ../catalog-testset/SD/SD00200000003/010007.bin.png:Hoffnung. Fort für einenn Abend. Welt im Sand. Weisst du noch.\n",
      "INFO:  ../catalog-testset/SD/SD00200000003/01000b.bin.png:weiterführen.\n",
      "INFO:  ../catalog-testset/SD/SD00200000003/01000c.bin.png:Interbr. 8osalili. Litt. %g ress. Keks. Punays, zarat.\n",
      "INFO:  ../catalog-testset/SD/SD00200000003/01000a.bin.png:EIn Agentblick der Zirtlchke1t. Das Bild. Strassen, due dich\n",
      "INFO:  ../catalog-testset/SD/SD00200000003/010009.bin.png:d1e Weide. Einmal unsichtbar sein. Schwester. He1sses Land.\n",
      "INFO:  ../catalog-testset/SD/SD00200000003/010008.bin.png:Wir gehn zu mir. Der Morgen auf dem Gipfel. Aus dem Al1. Am Fluss\n",
      "writing to test.html\n",
      "median_xheight 15.25\n",
      "=== ../catalog-testset/SD/SD00200000003.bin.png\n"
     ]
    }
   ],
   "source": [
    "!ocropus-rpred -Q 7 -m ../ocropy/models/en-default.pyrnn.gz '../catalog-testset/SD/SD00200000003/??????.bin.png'\n",
    "!ocropus-hocr -o test.html ../catalog-testset/SD/SD00200000003.bin.png"
   ]
  },
  {
   "cell_type": "code",
   "execution_count": 53,
   "metadata": {
    "collapsed": false
   },
   "outputs": [
    {
     "name": "stdout",
     "output_type": "stream",
     "text": [
      "/home/jakob/dev/htwmusik/catalog-testset/SD\n",
      "writing to SD00200000003.html\n",
      "median_xheight 15.0\n",
      "=== SD00200000003.bin.png\n",
      "010001.bin.png\t010003.txt\t010006.bin.png\t010008.txt\t01000b.bin.png\n",
      "010001.txt\t010004.bin.png\t010006.txt\t010009.bin.png\t01000b.txt\n",
      "010002.bin.png\t010004.txt\t010007.bin.png\t010009.txt\t01000c.bin.png\n",
      "010002.txt\t010005.bin.png\t010007.txt\t01000a.bin.png\t01000c.txt\n",
      "010003.bin.png\t010005.txt\t010008.bin.png\t01000a.txt\t01000d.bin.png\n"
     ]
    }
   ],
   "source": [
    "# %cd ../catalog-testset/SD/\n",
    "!pwd\n",
    "!ocropus-hocr -o SD00200000003.html SD00200000003.bin.png\n",
    "!ocropus-gtedit extract -O SD00200000003.html\n",
    "!ls SD00200000003"
   ]
  },
  {
   "cell_type": "code",
   "execution_count": 23,
   "metadata": {
    "collapsed": false
   },
   "outputs": [],
   "source": [
    "!ocropus-gtedit extract test.html"
   ]
  },
  {
   "cell_type": "code",
   "execution_count": 1,
   "metadata": {
    "collapsed": false
   },
   "outputs": [
    {
     "data": {
      "text/plain": [
       "{}"
      ]
     },
     "execution_count": 1,
     "metadata": {},
     "output_type": "execute_result"
    }
   ],
   "source": [
    "from glob import glob\n",
    "paths = glob('SD00200000003/??????.txt')\n",
    "a = [open(p).read()[:-1] for p in paths]\n",
    "dict(zip(range(len(a)), a))"
   ]
  },
  {
   "cell_type": "code",
   "execution_count": 28,
   "metadata": {
    "collapsed": false
   },
   "outputs": [
    {
     "name": "stdout",
     "output_type": "stream",
     "text": [
      "010001.bin.png\t010003.txt\t010006.bin.png\t010008.txt\t01000b.bin.png\r\n",
      "010001.txt\t010004.bin.png\t010006.txt\t010009.bin.png\t01000b.txt\r\n",
      "010002.bin.png\t010004.txt\t010007.bin.png\t010009.txt\t01000c.bin.png\r\n",
      "010002.txt\t010005.bin.png\t010007.txt\t01000a.bin.png\t01000c.txt\r\n",
      "010003.bin.png\t010005.txt\t010008.bin.png\t01000a.txt\r\n"
     ]
    }
   ],
   "source": [
    "!ls ../catalog-testset/SD/SD00200000003"
   ]
  },
  {
   "cell_type": "code",
   "execution_count": 27,
   "metadata": {
    "collapsed": false
   },
   "outputs": [
    {
     "name": "stdout",
     "output_type": "stream",
     "text": [
      "<?xml version=\"1.0\" encoding=\"UTF-8\"?>\r\n",
      "<!DOCTYPE html PUBLIC \"-//W3C//DTD XHTML 1.0 Transitional//EN\" \r\n",
      "    \"http://www.w3.org/TR/xhtml1/DTD/xhtml1-transitional.dtd\"> \r\n",
      "<html xmlns=\"http://www.w3.org/1999/xhtml\" xml:lang=\"en\" lang=\"en\">\r\n",
      "<head>\r\n",
      "<title>OCR Results</title>\r\n",
      "<meta http-equiv=\"content-type\" content=\"text/html; charset=utf-8\" />\r\n",
      "<meta name=\"Description\" content=\"OCRopus Output\" />\r\n",
      "<meta name=\"ocr-system\" content=\"ocropus-0.4\" />\r\n",
      "<meta name=\"ocr-capabilities\" content=\"ocr_line ocr_page\" />\r\n",
      "</head>\r\n",
      "<body>\r\n",
      "\r\n",
      "<div class='ocr_page' title='file ../catalog-testset/SD/SD00200000003.bin.png'>\r\n",
      "<span class='ocr_line' title='bbox 46 531 160 558'>Babylon</span><br />\r\n",
      "<p />\r\n",
      "<span class='ocr_line' title='bbox 717 506 913 525'>55 CD 289 - 4</span><br />\r\n",
      "<p />\r\n",
      "<span class='ocr_line' title='bbox 48 431 896 458'>%3S : Hit-Raritäten aus dem DOR-Rundfunkarch1v. - Berlin :</span><br />\r\n",
      "<span class='ocr_line' title='bbox 50 403 298 423'>Edition Barbarossa.</span><br />\r\n",
      "<span class='ocr_line' title='bbox 50 364 604 391'>Vol. 4, - [1996]. - 1 Compact Disc Beih.</span><br />\r\n",
      "<span class='ocr_line' title='bbox 77 329 936 354'>Enth.: Jagd auf Liebe. Steigen Netel. u Fuss. Ishgiten-Legende.</span><br />\r\n",
      "<span class='ocr_line' title='bbox 77 296 883 320'>Hoffnung. Fort für einenn Abend. Welt im Sand. Weisst du noch.</span><br />\r\n",
      "<span class='ocr_line' title='bbox 76 262 939 287'>Wir gehn zu mir. Der Morgen auf dem Gipfel. Aus dem Al1. Am Fluss</span><br />\r\n",
      "<span class='ocr_line' title='bbox 77 233 857 253'>d1e Weide. Einmal unsichtbar sein. Schwester. He1sses Land.</span><br />\r\n",
      "<span class='ocr_line' title='bbox 77 195 886 219'>EIn Agentblick der Zirtlchke1t. Das Bild. Strassen, due dich</span><br />\r\n",
      "<span class='ocr_line' title='bbox 76 166 244 185'>weiterführen.</span><br />\r\n",
      "<span class='ocr_line' title='bbox 78 117 923 152'>Interbr. 8osalili. Litt. %g ress. Keks. Punays, zarat.</span><br />\r\n",
      "</div>\r\n",
      "</body>\r\n",
      "</html>\r\n",
      "\r\n"
     ]
    }
   ],
   "source": [
    "!cat test.html"
   ]
  },
  {
   "cell_type": "code",
   "execution_count": 55,
   "metadata": {
    "collapsed": false
   },
   "outputs": [
    {
     "data": {
      "text/plain": [
       "'asds'"
      ]
     },
     "execution_count": 55,
     "metadata": {},
     "output_type": "execute_result"
    }
   ],
   "source": [
    "name = 'asds.gt.txt'\n",
    "name[:name.index('.')]"
   ]
  },
  {
   "cell_type": "code",
   "execution_count": 2,
   "metadata": {
    "collapsed": false
   },
   "outputs": [],
   "source": [
    "import random"
   ]
  },
  {
   "cell_type": "code",
   "execution_count": 5,
   "metadata": {
    "collapsed": false
   },
   "outputs": [
    {
     "data": {
      "text/plain": [
       "9"
      ]
     },
     "execution_count": 5,
     "metadata": {},
     "output_type": "execute_result"
    }
   ],
   "source": [
    "random.randrange(10)"
   ]
  },
  {
   "cell_type": "code",
   "execution_count": 7,
   "metadata": {
    "collapsed": false
   },
   "outputs": [
    {
     "data": {
      "text/plain": [
       "'2'"
      ]
     },
     "execution_count": 7,
     "metadata": {},
     "output_type": "execute_result"
    }
   ],
   "source": [
    "\"{}\".format(2)"
   ]
  },
  {
   "cell_type": "code",
   "execution_count": 10,
   "metadata": {
    "collapsed": false
   },
   "outputs": [
    {
     "data": {
      "text/plain": [
       "['d: .git',\n",
       " 'd: create-test-data.ipynb',\n",
       " 'd: temp.html',\n",
       " 'd: test.html',\n",
       " 'd: catalog2',\n",
       " 'd: 2.png',\n",
       " 'd: .gitignore',\n",
       " 'd: catalog1',\n",
       " 'd: ground-truth.ipynb',\n",
       " 'd: .ipynb_checkpoints',\n",
       " 'd: SD00200000003.html',\n",
       " 'd: results-correction.html',\n",
       " 'd: book.html',\n",
       " 'd: catalog2-resized',\n",
       " 'd: ocropy-parameter.ipynb',\n",
       " 'd: create-dict.ipynb',\n",
       " 'd: catalog1.ipynb',\n",
       " 'd: README.md',\n",
       " 'd: .pynative',\n",
       " 'd: results.html',\n",
       " 'd: region-extract.ipynb',\n",
       " 'd: catalog1-resized']"
      ]
     },
     "execution_count": 10,
     "metadata": {},
     "output_type": "execute_result"
    }
   ],
   "source": [
    "from os import can\n",
    "['d: ' + f for f in listdir('.')]"
   ]
  },
  {
   "cell_type": "code",
   "execution_count": 12,
   "metadata": {
    "collapsed": false
   },
   "outputs": [
    {
     "data": {
      "text/plain": [
       "False"
      ]
     },
     "execution_count": 12,
     "metadata": {},
     "output_type": "execute_result"
    }
   ],
   "source": [
    "from os.path import isfile\n",
    "isfile('22313.png')"
   ]
  },
  {
   "cell_type": "code",
   "execution_count": null,
   "metadata": {
    "collapsed": false
   },
   "outputs": [],
   "source": []
  }
 ],
 "metadata": {
  "kernelspec": {
   "display_name": "Python 2",
   "language": "python",
   "name": "python2"
  },
  "language_info": {
   "codemirror_mode": {
    "name": "ipython",
    "version": 2
   },
   "file_extension": ".py",
   "mimetype": "text/x-python",
   "name": "python",
   "nbconvert_exporter": "python",
   "pygments_lexer": "ipython2",
   "version": "2.7.11"
  }
 },
 "nbformat": 4,
 "nbformat_minor": 0
}
