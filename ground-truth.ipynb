{
 "metadata": {
  "name": "",
  "signature": "sha256:d815a914b5c0cb80be18aedb0f739ec40eaacf045e8539e320d83e955155b68c"
 },
 "nbformat": 3,
 "nbformat_minor": 0,
 "worksheets": [
  {
   "cells": [
    {
     "cell_type": "code",
     "collapsed": false,
     "input": [
      "!ocropus-rpred -Q 7 -m ../ocropy/models/en-default.pyrnn.gz '../catalog-testset/SD/SD00200000003/??????.bin.png'\n",
      "!ocropus-hocr -o test.html ../catalog-testset/SD/SD00200000003.bin.png"
     ],
     "language": "python",
     "metadata": {},
     "outputs": [
      {
       "output_type": "stream",
       "stream": "stdout",
       "text": [
        "INFO:  \r\n",
        "INFO:  ########## /home/jakob/anaconda/bin/ocropus-rpred -Q 7 -m ../ocropy/mod\r\n",
        "INFO:  \r\n",
        "INFO:  #inputs12\r\n",
        "# loading object ../ocropy/models/en-default.pyrnn.gz\r\n"
       ]
      },
      {
       "output_type": "stream",
       "stream": "stdout",
       "text": [
        "INFO:  ../catalog-testset/SD/SD00200000003/010004.bin.png:Edition Barbarossa.\r\n",
        "INFO:  ../catalog-testset/SD/SD00200000003/010006.bin.png:Enth.: Jagd auf Liebe. Steigen Netel. u Fuss. Ishgiten-Legende.\r\n",
        "INFO:  ../catalog-testset/SD/SD00200000003/010003.bin.png:%3S : Hit-Rarit\u00e4ten aus dem DOR-Rundfunkarch1v. - Berlin :\r\n",
        "INFO:  ../catalog-testset/SD/SD00200000003/010001.bin.png:Babylon\r\n",
        "INFO:  ../catalog-testset/SD/SD00200000003/010005.bin.png:Vol. 4, - [1996]. - 1 Compact Disc Beih.\r\n"
       ]
      },
      {
       "output_type": "stream",
       "stream": "stdout",
       "text": [
        "INFO:  ../catalog-testset/SD/SD00200000003/010002.bin.png:55 CD 289 - 4\r\n",
        "INFO:  ../catalog-testset/SD/SD00200000003/010007.bin.png:Hoffnung. Fort f\u00fcr einenn Abend. Welt im Sand. Weisst du noch.\r\n"
       ]
      },
      {
       "output_type": "stream",
       "stream": "stdout",
       "text": [
        "INFO:  ../catalog-testset/SD/SD00200000003/01000b.bin.png:weiterf\u00fchren.\r\n"
       ]
      },
      {
       "output_type": "stream",
       "stream": "stdout",
       "text": [
        "INFO:  ../catalog-testset/SD/SD00200000003/01000c.bin.png:Interbr. 8osalili. Litt. %g ress. Keks. Punays, zarat.\r\n"
       ]
      },
      {
       "output_type": "stream",
       "stream": "stdout",
       "text": [
        "INFO:  ../catalog-testset/SD/SD00200000003/01000a.bin.png:EIn Agentblick der Zirtlchke1t. Das Bild. Strassen, due dich\r\n"
       ]
      },
      {
       "output_type": "stream",
       "stream": "stdout",
       "text": [
        "INFO:  ../catalog-testset/SD/SD00200000003/010009.bin.png:d1e Weide. Einmal unsichtbar sein. Schwester. He1sses Land.\r\n"
       ]
      },
      {
       "output_type": "stream",
       "stream": "stdout",
       "text": [
        "INFO:  ../catalog-testset/SD/SD00200000003/010008.bin.png:Wir gehn zu mir. Der Morgen auf dem Gipfel. Aus dem Al1. Am Fluss\r\n"
       ]
      },
      {
       "output_type": "stream",
       "stream": "stdout",
       "text": [
        "writing to test.html\r\n",
        "median_xheight 15.25\r\n",
        "=== ../catalog-testset/SD/SD00200000003.bin.png\r\n"
       ]
      }
     ],
     "prompt_number": 17
    },
    {
     "cell_type": "code",
     "collapsed": false,
     "input": [
      "# %cd ../catalog-testset/SD/\n",
      "!pwd\n",
      "!ocropus-hocr -o SD00200000003.html SD00200000003.bin.png\n",
      "!ocropus-gtedit extract -O SD00200000003.html\n",
      "!ls SD00200000003"
     ],
     "language": "python",
     "metadata": {},
     "outputs": [
      {
       "output_type": "stream",
       "stream": "stdout",
       "text": [
        "/home/jakob/dev/htwmusik/catalog-testset/SD\r\n"
       ]
      },
      {
       "output_type": "stream",
       "stream": "stdout",
       "text": [
        "writing to SD00200000003.html\r\n",
        "median_xheight 15.0\r\n",
        "=== SD00200000003.bin.png\r\n"
       ]
      },
      {
       "output_type": "stream",
       "stream": "stdout",
       "text": [
        "010001.bin.png\t010003.txt\t010006.bin.png\t010008.txt\t01000b.bin.png\r\n",
        "010001.txt\t010004.bin.png\t010006.txt\t010009.bin.png\t01000b.txt\r\n",
        "010002.bin.png\t010004.txt\t010007.bin.png\t010009.txt\t01000c.bin.png\r\n",
        "010002.txt\t010005.bin.png\t010007.txt\t01000a.bin.png\t01000c.txt\r\n",
        "010003.bin.png\t010005.txt\t010008.bin.png\t01000a.txt\t01000d.bin.png\r\n"
       ]
      }
     ],
     "prompt_number": 53
    },
    {
     "cell_type": "code",
     "collapsed": false,
     "input": [
      "!ocropus-gtedit extract test.html"
     ],
     "language": "python",
     "metadata": {},
     "outputs": [],
     "prompt_number": 23
    },
    {
     "cell_type": "code",
     "collapsed": false,
     "input": [
      "from glob import glob\n",
      "paths = glob('SD00200000003/??????.txt')\n",
      "a = [open(p).read()[:-1] for p in paths]\n",
      "dict(zip(range(len(a)), a))"
     ],
     "language": "python",
     "metadata": {},
     "outputs": [
      {
       "metadata": {},
       "output_type": "pyout",
       "prompt_number": 52,
       "text": [
        "{0: 'weiterf\\xc3\\xbchren.',\n",
        " 1: 'd1e Weide. Einmal unsichtbar sein. Schwester. He1sses Land.',\n",
        " 2: 'Enth.: Jagd auf Liebe. Steigen Netel. u Fuss. Ishgiten-Legende.',\n",
        " 3: '%3S : Hit-Rarit\\xc3\\xa4ten aus dem DOR-Rundfunkarch1v. - Berlin :',\n",
        " 4: 'Wir gehn zu mir. Der Morgen auf dem Gipfel. Aus dem Al1. Am Fluss',\n",
        " 5: 'EIn Agentblick der Zirtlchke1t. Das Bild. Strassen, due dich',\n",
        " 6: 'Hoffnung. Fort f\\xc3\\xbcr einenn Abend. Welt im Sand. Weisst du noch.',\n",
        " 7: 'Edition Barbarossa.',\n",
        " 8: 'Interbr. 8osalili. Litt. %g ress. Keks. Punays, zarat.',\n",
        " 9: '55 CD 289 - 4',\n",
        " 10: 'Vol. 4, - [1996]. - 1 Compact Disc Beih.',\n",
        " 11: 'Babylon'}"
       ]
      }
     ],
     "prompt_number": 52
    },
    {
     "cell_type": "code",
     "collapsed": false,
     "input": [
      "!ls ../catalog-testset/SD/SD00200000003"
     ],
     "language": "python",
     "metadata": {},
     "outputs": [
      {
       "output_type": "stream",
       "stream": "stdout",
       "text": [
        "010001.bin.png\t010003.txt\t010006.bin.png\t010008.txt\t01000b.bin.png\r\n",
        "010001.txt\t010004.bin.png\t010006.txt\t010009.bin.png\t01000b.txt\r\n",
        "010002.bin.png\t010004.txt\t010007.bin.png\t010009.txt\t01000c.bin.png\r\n",
        "010002.txt\t010005.bin.png\t010007.txt\t01000a.bin.png\t01000c.txt\r\n",
        "010003.bin.png\t010005.txt\t010008.bin.png\t01000a.txt\r\n"
       ]
      }
     ],
     "prompt_number": 28
    },
    {
     "cell_type": "code",
     "collapsed": false,
     "input": [
      "!cat test.html"
     ],
     "language": "python",
     "metadata": {},
     "outputs": [
      {
       "output_type": "stream",
       "stream": "stdout",
       "text": [
        "<?xml version=\"1.0\" encoding=\"UTF-8\"?>\r\n",
        "<!DOCTYPE html PUBLIC \"-//W3C//DTD XHTML 1.0 Transitional//EN\" \r\n",
        "    \"http://www.w3.org/TR/xhtml1/DTD/xhtml1-transitional.dtd\"> \r\n",
        "<html xmlns=\"http://www.w3.org/1999/xhtml\" xml:lang=\"en\" lang=\"en\">\r\n",
        "<head>\r\n",
        "<title>OCR Results</title>\r\n",
        "<meta http-equiv=\"content-type\" content=\"text/html; charset=utf-8\" />\r\n",
        "<meta name=\"Description\" content=\"OCRopus Output\" />\r\n",
        "<meta name=\"ocr-system\" content=\"ocropus-0.4\" />\r\n",
        "<meta name=\"ocr-capabilities\" content=\"ocr_line ocr_page\" />\r\n",
        "</head>\r\n",
        "<body>\r\n",
        "\r\n",
        "<div class='ocr_page' title='file ../catalog-testset/SD/SD00200000003.bin.png'>\r\n",
        "<span class='ocr_line' title='bbox 46 531 160 558'>Babylon</span><br />\r\n",
        "<p />\r\n",
        "<span class='ocr_line' title='bbox 717 506 913 525'>55 CD 289 - 4</span><br />\r\n",
        "<p />\r\n",
        "<span class='ocr_line' title='bbox 48 431 896 458'>%3S : Hit-Rarit\u00e4ten aus dem DOR-Rundfunkarch1v. - Berlin :</span><br />\r\n",
        "<span class='ocr_line' title='bbox 50 403 298 423'>Edition Barbarossa.</span><br />\r\n",
        "<span class='ocr_line' title='bbox 50 364 604 391'>Vol. 4, - [1996]. - 1 Compact Disc Beih.</span><br />\r\n",
        "<span class='ocr_line' title='bbox 77 329 936 354'>Enth.: Jagd auf Liebe. Steigen Netel. u Fuss. Ishgiten-Legende.</span><br />\r\n",
        "<span class='ocr_line' title='bbox 77 296 883 320'>Hoffnung. Fort f\u00fcr einenn Abend. Welt im Sand. Weisst du noch.</span><br />\r\n",
        "<span class='ocr_line' title='bbox 76 262 939 287'>Wir gehn zu mir. Der Morgen auf dem Gipfel. Aus dem Al1. Am Fluss</span><br />\r\n",
        "<span class='ocr_line' title='bbox 77 233 857 253'>d1e Weide. Einmal unsichtbar sein. Schwester. He1sses Land.</span><br />\r\n",
        "<span class='ocr_line' title='bbox 77 195 886 219'>EIn Agentblick der Zirtlchke1t. Das Bild. Strassen, due dich</span><br />\r\n",
        "<span class='ocr_line' title='bbox 76 166 244 185'>weiterf\u00fchren.</span><br />\r\n",
        "<span class='ocr_line' title='bbox 78 117 923 152'>Interbr. 8osalili. Litt. %g ress. Keks. Punays, zarat.</span><br />\r\n",
        "</div>\r\n",
        "</body>\r\n",
        "</html>\r\n",
        "\r\n"
       ]
      }
     ],
     "prompt_number": 27
    },
    {
     "cell_type": "code",
     "collapsed": false,
     "input": [
      "name = 'asds.gt.txt'\n",
      "name[:name.index('.')]"
     ],
     "language": "python",
     "metadata": {},
     "outputs": [
      {
       "metadata": {},
       "output_type": "pyout",
       "prompt_number": 55,
       "text": [
        "'asds'"
       ]
      }
     ],
     "prompt_number": 55
    },
    {
     "cell_type": "code",
     "collapsed": false,
     "input": [],
     "language": "python",
     "metadata": {},
     "outputs": []
    }
   ],
   "metadata": {}
  }
 ]
}