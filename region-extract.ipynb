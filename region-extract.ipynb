{
 "metadata": {
  "name": "",
  "signature": "sha256:bb64ab57a7671e3342ac1d8e9a53f850af06db4e90880fee0439521f291bc7a8"
 },
 "nbformat": 3,
 "nbformat_minor": 0,
 "worksheets": [
  {
   "cells": [
    {
     "cell_type": "markdown",
     "metadata": {},
     "source": [
      "Codeskizze fuer den Export der Segementierungsdaten"
     ]
    },
    {
     "cell_type": "code",
     "collapsed": false,
     "input": [
      "%matplotlib inline\n",
      "import ocrolib\n",
      "import json\n",
      "import matplotlib.pyplot as plt\n",
      "def display(f): imshow(imread(f),cmap=cm.gray)\n",
      "def displaysegs(f): morph.showlabels(ocrolib.read_line_segmentation(f))"
     ],
     "language": "python",
     "metadata": {},
     "outputs": [],
     "prompt_number": 14
    },
    {
     "cell_type": "code",
     "collapsed": false,
     "input": [
      "pseg = ocrolib.read_page_segmentation(\n",
      "           \"catalog2-resized/00000001.pseg.png\")\n",
      "regions = ocrolib.RegionExtractor()\n",
      "regions.setPageLines(pseg)"
     ],
     "language": "python",
     "metadata": {},
     "outputs": [],
     "prompt_number": 2
    },
    {
     "cell_type": "code",
     "collapsed": false,
     "input": [
      "for i in range(1,regions.length()):\n",
      "    y0,x0,y1,x1  = regions.bboxMath(i)"
     ],
     "language": "python",
     "metadata": {},
     "outputs": [],
     "prompt_number": 15
    }
   ],
   "metadata": {}
  }
 ]
}