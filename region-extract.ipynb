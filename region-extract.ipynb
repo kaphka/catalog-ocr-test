{
 "metadata": {
  "name": "",
  "signature": "sha256:31311cf4b23b50d6f0cccb51142b74b41a1e2a89de61b955d955d3fec4627e9c"
 },
 "nbformat": 3,
 "nbformat_minor": 0,
 "worksheets": [
  {
   "cells": [
    {
     "cell_type": "markdown",
     "metadata": {},
     "source": [
      "Codeskizze fuer den Export der Segementierungsdaten"
     ]
    },
    {
     "cell_type": "code",
     "collapsed": false,
     "input": [
      "%matplotlib inline\n",
      "import ocrolib\n",
      "import json\n",
      "import matplotlib.pyplot as plt\n",
      "def display(f): imshow(imread(f),cmap=cm.gray)\n",
      "def displaysegs(f): morph.showlabels(ocrolib.read_line_segmentation(f))"
     ],
     "language": "python",
     "metadata": {},
     "outputs": [],
     "prompt_number": 14
    },
    {
     "cell_type": "code",
     "collapsed": false,
     "input": [
      "pseg = ocrolib.read_page_segmentation(\n",
      "           \"catalog2-resized/00000001.pseg.png\")\n",
      "regions = ocrolib.RegionExtractor()\n",
      "regions.setPageLines(pseg)"
     ],
     "language": "python",
     "metadata": {},
     "outputs": [],
     "prompt_number": 2
    },
    {
     "cell_type": "code",
     "collapsed": false,
     "input": [
      "for i in range(1,regions.length()):\n",
      "    y0,x0,y1,x1  = regions.bboxMath(i)"
     ],
     "language": "python",
     "metadata": {},
     "outputs": [
      {
       "ename": "NameError",
       "evalue": "name 'regions' is not defined",
       "output_type": "pyerr",
       "traceback": [
        "\u001b[1;31m---------------------------------------------------------------------------\u001b[0m\n\u001b[1;31mNameError\u001b[0m                                 Traceback (most recent call last)",
        "\u001b[1;32m<ipython-input-1-2e2bbe17bdf1>\u001b[0m in \u001b[0;36m<module>\u001b[1;34m()\u001b[0m\n\u001b[1;32m----> 1\u001b[1;33m \u001b[1;32mfor\u001b[0m \u001b[0mi\u001b[0m \u001b[1;32min\u001b[0m \u001b[0mrange\u001b[0m\u001b[1;33m(\u001b[0m\u001b[1;36m1\u001b[0m\u001b[1;33m,\u001b[0m\u001b[0mregions\u001b[0m\u001b[1;33m.\u001b[0m\u001b[0mlength\u001b[0m\u001b[1;33m(\u001b[0m\u001b[1;33m)\u001b[0m\u001b[1;33m)\u001b[0m\u001b[1;33m:\u001b[0m\u001b[1;33m\u001b[0m\u001b[0m\n\u001b[0m\u001b[0;32m      2\u001b[0m     \u001b[0my0\u001b[0m\u001b[1;33m,\u001b[0m\u001b[0mx0\u001b[0m\u001b[1;33m,\u001b[0m\u001b[0my1\u001b[0m\u001b[1;33m,\u001b[0m\u001b[0mx1\u001b[0m  \u001b[1;33m=\u001b[0m \u001b[0mregions\u001b[0m\u001b[1;33m.\u001b[0m\u001b[0mbboxMath\u001b[0m\u001b[1;33m(\u001b[0m\u001b[0mi\u001b[0m\u001b[1;33m)\u001b[0m\u001b[1;33m\u001b[0m\u001b[0m\n",
        "\u001b[1;31mNameError\u001b[0m: name 'regions' is not defined"
       ]
      }
     ],
     "prompt_number": 1
    },
    {
     "cell_type": "code",
     "collapsed": false,
     "input": [
      "text = [u'010005', u'01000a', u'010001', u'010007', u'01000c', u'01000b', u'010003', u'010008', u'010006', u'010002', u'010009', u'010004']\n",
      "sorted(text)"
     ],
     "language": "python",
     "metadata": {},
     "outputs": [
      {
       "metadata": {},
       "output_type": "pyout",
       "prompt_number": 4,
       "text": [
        "[u'010001',\n",
        " u'010002',\n",
        " u'010003',\n",
        " u'010004',\n",
        " u'010005',\n",
        " u'010006',\n",
        " u'010007',\n",
        " u'010008',\n",
        " u'010009',\n",
        " u'01000a',\n",
        " u'01000b',\n",
        " u'01000c']"
       ]
      }
     ],
     "prompt_number": 4
    },
    {
     "cell_type": "code",
     "collapsed": false,
     "input": [],
     "language": "python",
     "metadata": {},
     "outputs": []
    }
   ],
   "metadata": {}
  }
 ]
}