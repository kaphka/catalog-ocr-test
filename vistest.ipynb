{
 "cells": [
  {
   "cell_type": "code",
   "execution_count": 3,
   "metadata": {
    "collapsed": false
   },
   "outputs": [
    {
     "name": "stdout",
     "output_type": "stream",
     "text": [
      "(39, 325, 3)\n",
      "(32, 185, 3)\n",
      "(37, 461, 3)\n"
     ]
    }
   ],
   "source": [
    "import sys\n",
    "from glob import glob\n",
    "from vispy import scene\n",
    "from vispy import app\n",
    "from vispy.io import load_data_file, read_png\n",
    "from vispy.visuals.transforms import STTransform\n",
    "from scipy.misc import imresize\n",
    "\n",
    "canvas = scene.SceneCanvas(keys='interactive')\n",
    "canvas.size = 800, 600\n",
    "canvas.show()\n",
    "\n",
    "# Set up a viewbox to display the image with interactive pan/zoom\n",
    "view = canvas.central_widget.add_view(border_color='red')\n",
    "# view = scene.widgets.ViewBox(parent=canvas.scene, border_color='b')\n",
    "grid = view.add_grid()\n",
    "# Create the image\n",
    "interpolation = 'nearest'\n",
    "offset = 0\n",
    "for idx, img in enumerate(glob('/media/jakob/bigdata/train/SB/SB002/00000051/*.bin.png')):\n",
    "    img_data = read_png(img)\n",
    "    print img_data.shape\n",
    "    image = scene.visuals.Image(img_data, interpolation=interpolation,\n",
    "                                parent=view.scene, method='subdivide')\n",
    "    image.transform = STTransform(translate=(0, offset))\n",
    "    offset = offset + img_data.shape[0]\n",
    "\n",
    "# canvas.title = 'Spatial Filtering using %s Filter' % interpolation\n",
    "\n",
    "# Set 2D camera (the camera will scale to the contents in the scene)\n",
    "view.camera = scene.PanZoomCamera(aspect=1)\n",
    "# flip y-axis to have correct aligment\n",
    "view.camera.flip = (0, 1, 0)\n",
    "view.camera.set_range()\n",
    "# view.camera.zoom(0.1, (150, 100))\n",
    "\n",
    "# get interpolation functions from Image\n",
    "names = image.interpolation_functions\n",
    "names = list(names)\n",
    "names.sort()\n",
    "act = 17\n",
    "\n",
    "\n",
    "# Implement key presses\n",
    "@canvas.events.key_press.connect\n",
    "def on_key_press(event):\n",
    "    global act\n",
    "    if event.key in ['Left', 'Right']:\n",
    "        if event.key == 'Right':\n",
    "            step = 1\n",
    "        else:\n",
    "            step = -1\n",
    "        act = (act + step) % len(names)\n",
    "        interpolation = names[act]\n",
    "        image.interpolation = interpolation\n",
    "#         canvas.title = 'Spatial Filtering using %s Filter' % interpolation\n",
    "        canvas.update()\n",
    "\n",
    "\n",
    "if __name__ == '__main__' and sys.flags.interactive == 0:\n",
    "    app.run()"
   ]
  },
  {
   "cell_type": "code",
   "execution_count": null,
   "metadata": {
    "collapsed": true
   },
   "outputs": [],
   "source": []
  }
 ],
 "metadata": {
  "kernelspec": {
   "display_name": "Python 2",
   "language": "python",
   "name": "python2"
  },
  "language_info": {
   "codemirror_mode": {
    "name": "ipython",
    "version": 2
   },
   "file_extension": ".py",
   "mimetype": "text/x-python",
   "name": "python",
   "nbconvert_exporter": "python",
   "pygments_lexer": "ipython2",
   "version": "2.7.11"
  }
 },
 "nbformat": 4,
 "nbformat_minor": 0
}
