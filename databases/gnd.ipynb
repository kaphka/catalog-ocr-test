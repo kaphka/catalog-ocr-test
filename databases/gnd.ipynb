{
 "cells": [
  {
   "cell_type": "code",
   "execution_count": 51,
   "metadata": {
    "collapsed": false
   },
   "outputs": [],
   "source": [
    "%matplotlib inline\n",
    "import matplotlib.pyplot as plt\n",
    "import pandas as pd\n",
    "from keras.models import Sequential\n",
    "from keras.layers import Dense, Dropout, Activation\n",
    "from keras.layers import Embedding\n",
    "from keras.layers import LSTM\n",
    "\n",
    "import numpy as np\n",
    "import itertools\n",
    "import random\n",
    "import encodings\n",
    "import itertools as it\n",
    "\n",
    "import sklearn.feature_extraction.text as skt\n",
    "import scipy as sp\n",
    "import codecs"
   ]
  },
  {
   "cell_type": "code",
   "execution_count": 60,
   "metadata": {
    "collapsed": false
   },
   "outputs": [],
   "source": [
    "person_path = '/media/jakob/bigdata/train/gnd_export/Person.csv'\n",
    "titles_path = '/media/jakob/bigdata/train/gnd_export/MusicalWork.csv'\n",
    "work_titels = pd.read_csv(titles_path,encoding='utf8')\n",
    "names = pd.read_csv(person_path, encoding='utf8')"
   ]
  },
  {
   "cell_type": "code",
   "execution_count": 61,
   "metadata": {
    "collapsed": false
   },
   "outputs": [],
   "source": [
    "full_names = names['forname'] + ' ' +  names['surname']\n",
    "X_text = list(work_titels['name']) + list(full_names)\n",
    "Y_data = np.append(np.zeros(len(work_titels)),np.ones(len(full_names)))"
   ]
  },
  {
   "cell_type": "code",
   "execution_count": 62,
   "metadata": {
    "collapsed": false
   },
   "outputs": [
    {
     "name": "stdout",
     "output_type": "stream",
     "text": [
      "/media/jakob/bigdata/train/gnd_export/Person.csv\n",
      "/media/jakob/bigdata/train/gnd_export/MusicalWork.csv\n"
     ]
    }
   ],
   "source": [
    "def text_files(file_paths):\n",
    "    for key, file_path in file_paths.items():\n",
    "        print file_path\n",
    "        with encodings.codecs.open(file_path, 'r', encoding='utf8') as ufile:\n",
    "            for line in ufile.readlines():\n",
    "                yield zip(line, it.repeat(key))\n",
    "\n",
    "text_data = list(text_files({0: person_path, 1: titles_path}))"
   ]
  },
  {
   "cell_type": "code",
   "execution_count": 68,
   "metadata": {
    "collapsed": false
   },
   "outputs": [
    {
     "data": {
      "text/plain": [
       "269723"
      ]
     },
     "execution_count": 68,
     "metadata": {},
     "output_type": "execute_result"
    }
   ],
   "source": [
    "len(Y_data) * 10"
   ]
  },
  {
   "cell_type": "code",
   "execution_count": 77,
   "metadata": {
    "collapsed": false
   },
   "outputs": [
    {
     "data": {
      "text/plain": [
       "str"
      ]
     },
     "execution_count": 77,
     "metadata": {},
     "output_type": "execute_result"
    }
   ],
   "source": [
    "def sample_string(string, N=10):\n",
    "    if len(string) < N:\n",
    "        return string\n",
    "    pos = random.randint(0, len(string) - N)\n",
    "    return string[pos: pos + N]\n",
    "\n",
    "X_samples = map(sample_string, X_text)\n",
    "type(codecs.encode(X_text[0],'utf8'))"
   ]
  },
  {
   "cell_type": "code",
   "execution_count": 78,
   "metadata": {
    "collapsed": false
   },
   "outputs": [
    {
     "data": {
      "text/plain": [
       "269723"
      ]
     },
     "execution_count": 78,
     "metadata": {},
     "output_type": "execute_result"
    }
   ],
   "source": [
    "len(X_samples)"
   ]
  },
  {
   "cell_type": "code",
   "execution_count": 79,
   "metadata": {
    "collapsed": false
   },
   "outputs": [
    {
     "data": {
      "text/plain": [
       "<95x26 sparse matrix of type '<type 'numpy.bool_'>'\n",
       "\twith 95 stored elements in Compressed Sparse Row format>"
      ]
     },
     "execution_count": 79,
     "metadata": {},
     "output_type": "execute_result"
    }
   ],
   "source": [
    "vec_text"
   ]
  },
  {
   "cell_type": "code",
   "execution_count": 73,
   "metadata": {
    "collapsed": false
   },
   "outputs": [],
   "source": [
    "vectorizer = skt.CountVectorizer( [person_path],\n",
    "                               strip_accents=False,\n",
    "                               analyzer='char',\n",
    "                                dtype='bool')\n",
    "\n",
    "\n",
    "# with open(person_path, 'r') as persons:\n",
    "vectorizer.fit(X_samples)\n",
    "pre_vectorizer = vectorizer.build_analyzer()\n",
    "# vectorizer.get_feature_names()"
   ]
  },
  {
   "cell_type": "code",
   "execution_count": 98,
   "metadata": {
    "collapsed": false
   },
   "outputs": [
    {
     "data": {
      "text/plain": [
       "(2, 10, 26)"
      ]
     },
     "execution_count": 98,
     "metadata": {},
     "output_type": "execute_result"
    }
   ],
   "source": [
    "np.stack([vec_text[0].toarray(), vec_text[1].toarray()]).shape"
   ]
  },
  {
   "cell_type": "code",
   "execution_count": 90,
   "metadata": {
    "collapsed": false
   },
   "outputs": [
    {
     "ename": "AttributeError",
     "evalue": "'list' object has no attribute 'toarray'",
     "output_type": "error",
     "traceback": [
      "\u001b[1;31m---------------------------------------------------------------------------\u001b[0m",
      "\u001b[1;31mAttributeError\u001b[0m                            Traceback (most recent call last)",
      "\u001b[1;32m<ipython-input-90-aeecdcd28947>\u001b[0m in \u001b[0;36m<module>\u001b[1;34m()\u001b[0m\n\u001b[0;32m      1\u001b[0m \u001b[0mvec_text\u001b[0m \u001b[1;33m=\u001b[0m \u001b[0mmap\u001b[0m\u001b[1;33m(\u001b[0m \u001b[0mvectorizer\u001b[0m\u001b[1;33m.\u001b[0m\u001b[0mtransform\u001b[0m\u001b[1;33m,\u001b[0m \u001b[0mX_samples\u001b[0m\u001b[1;33m[\u001b[0m\u001b[1;33m:\u001b[0m\u001b[1;36m10\u001b[0m\u001b[1;33m]\u001b[0m\u001b[1;33m)\u001b[0m\u001b[1;33m\u001b[0m\u001b[0m\n\u001b[1;32m----> 2\u001b[1;33m \u001b[0mplt\u001b[0m\u001b[1;33m.\u001b[0m\u001b[0mimshow\u001b[0m\u001b[1;33m(\u001b[0m\u001b[0mvec_text\u001b[0m\u001b[1;33m.\u001b[0m\u001b[0mtoarray\u001b[0m\u001b[1;33m(\u001b[0m\u001b[1;33m)\u001b[0m\u001b[1;33m,\u001b[0m \u001b[0minterpolation\u001b[0m\u001b[1;33m=\u001b[0m\u001b[1;34m'none'\u001b[0m\u001b[1;33m)\u001b[0m\u001b[1;33m\u001b[0m\u001b[0m\n\u001b[0m\u001b[0;32m      3\u001b[0m \u001b[1;33m\u001b[0m\u001b[0m\n\u001b[0;32m      4\u001b[0m \u001b[1;31m# np.stack([vec_text, vec_text])\u001b[0m\u001b[1;33m\u001b[0m\u001b[1;33m\u001b[0m\u001b[0m\n\u001b[0;32m      5\u001b[0m \u001b[1;31m# vec_text\u001b[0m\u001b[1;33m\u001b[0m\u001b[1;33m\u001b[0m\u001b[0m\n",
      "\u001b[1;31mAttributeError\u001b[0m: 'list' object has no attribute 'toarray'"
     ]
    }
   ],
   "source": [
    "vec_text = map( vectorizer.transform, X_samples[:10])\n",
    "plt.imshow(vec_text.toarray(), interpolation='none')\n",
    "\n",
    "# np.stack([vec_text, vec_text])\n",
    "# vec_text"
   ]
  },
  {
   "cell_type": "code",
   "execution_count": 10,
   "metadata": {
    "collapsed": true
   },
   "outputs": [],
   "source": []
  },
  {
   "cell_type": "code",
   "execution_count": 48,
   "metadata": {
    "collapsed": false
   },
   "outputs": [
    {
     "data": {
      "text/plain": [
       "269723"
      ]
     },
     "execution_count": 48,
     "metadata": {},
     "output_type": "execute_result"
    }
   ],
   "source": [
    "len(Y_data)"
   ]
  },
  {
   "cell_type": "code",
   "execution_count": 72,
   "metadata": {
    "collapsed": false
   },
   "outputs": [],
   "source": [
    "model = Sequential()\n",
    "# model.add(Embedding(max_features, 256, input_length=maxlen))\n",
    "model.add(LSTM( input_dim=max_features, input_length=maxlen, output_dim=32, return_sequences=True))\n",
    "# model.add(LSTM()\n",
    "# model.add(Dropout(0.5))\n",
    "model.add(LSTM(32, return_sequences=True))\n",
    "model.add(LSTM(32, return_sequences=False))\n",
    "# model.add(Dropout(0.5))\n",
    "# model.add(Dense(len(chars)))\n",
    "# model.add(Activation('softmax'))\n",
    "model.add(Dense(1))\n",
    "model.add(Activation('softmax'))\n",
    "\n",
    "model.compile(loss='binary_crossentropy',\n",
    "              optimizer='rmsprop',\n",
    "              metrics=['accuracy'])\n",
    "\n"
   ]
  },
  {
   "cell_type": "code",
   "execution_count": 73,
   "metadata": {
    "collapsed": false
   },
   "outputs": [],
   "source": [
    "xrand = random.Random('12345')\n",
    "yrand = random.Random('12345')\n",
    "N_train = 15000\n",
    "N_test  = 100\n",
    "\n",
    "X_text_train = xrand.sample(X_text, N_train)\n",
    "X_text_test  = xrand.sample(X_text, N_test)\n",
    "\n",
    "X_train = np.stack([ string2vec(text, char_map, maxlen) for text in X_text_train])\n",
    "X_test = np.stack([ string2vec(text, char_map, maxlen) for text in X_text_test])\n",
    "\n",
    "Y_train      = np.transpose(yrand.sample(Y_data, N_train))\n",
    "Y_test       = np.transpose(yrand.sample(Y_data, N_test))\n",
    "# zip(X_text_train, Y_train)"
   ]
  },
  {
   "cell_type": "code",
   "execution_count": 74,
   "metadata": {
    "collapsed": false
   },
   "outputs": [
    {
     "name": "stdout",
     "output_type": "stream",
     "text": [
      "Train on 15000 samples, validate on 100 samples\n",
      "Epoch 1/20\n",
      "15000/15000 [==============================] - 114s - loss: 7.9733 - acc: 0.4999 - val_loss: 8.2900 - val_acc: 0.4800\n",
      "Epoch 2/20\n",
      "15000/15000 [==============================] - 129s - loss: 7.9733 - acc: 0.4999 - val_loss: 8.2900 - val_acc: 0.4800\n",
      "Epoch 3/20\n",
      "15000/15000 [==============================] - 147s - loss: 7.9733 - acc: 0.4999 - val_loss: 8.2900 - val_acc: 0.4800\n",
      "Epoch 4/20\n",
      "15000/15000 [==============================] - 145s - loss: 7.9733 - acc: 0.4999 - val_loss: 8.2900 - val_acc: 0.4800\n",
      "Epoch 5/20\n",
      "15000/15000 [==============================] - 130s - loss: 7.9733 - acc: 0.4999 - val_loss: 8.2900 - val_acc: 0.4800\n",
      "Epoch 6/20\n",
      "15000/15000 [==============================] - 146s - loss: 7.9733 - acc: 0.4999 - val_loss: 8.2900 - val_acc: 0.4800\n",
      "Epoch 7/20\n",
      "15000/15000 [==============================] - 146s - loss: 7.9733 - acc: 0.4999 - val_loss: 8.2900 - val_acc: 0.4800\n",
      "Epoch 8/20\n",
      "15000/15000 [==============================] - 146s - loss: 7.9733 - acc: 0.4999 - val_loss: 8.2900 - val_acc: 0.4800\n",
      "Epoch 9/20\n",
      "15000/15000 [==============================] - 147s - loss: 7.9733 - acc: 0.4999 - val_loss: 8.2900 - val_acc: 0.4800\n",
      "Epoch 10/20\n",
      "15000/15000 [==============================] - 131s - loss: 7.9733 - acc: 0.4999 - val_loss: 8.2900 - val_acc: 0.4800\n",
      "Epoch 11/20\n",
      "15000/15000 [==============================] - 144s - loss: 7.9733 - acc: 0.4999 - val_loss: 8.2900 - val_acc: 0.4800\n",
      "Epoch 12/20\n",
      "15000/15000 [==============================] - 145s - loss: 7.9733 - acc: 0.4999 - val_loss: 8.2900 - val_acc: 0.4800\n",
      "Epoch 13/20\n",
      "15000/15000 [==============================] - 145s - loss: 7.9733 - acc: 0.4999 - val_loss: 8.2900 - val_acc: 0.4800\n",
      "Epoch 14/20\n",
      "11008/15000 [=====================>........] - ETA: 35s - loss: 7.9263 - acc: 0.5028"
     ]
    },
    {
     "ename": "KeyboardInterrupt",
     "evalue": "",
     "output_type": "error",
     "traceback": [
      "\u001b[1;31m-----------------------------\u001b[0m",
      "\u001b[1;31mKeyboardInterrupt\u001b[0mTraceback (most recent call last)",
      "\u001b[1;32m<ipython-input-74-29c6591fc523>\u001b[0m in \u001b[0;36m<module>\u001b[1;34m()\u001b[0m\n\u001b[1;32m----> 1\u001b[1;33m \u001b[0mhistory\u001b[0m \u001b[1;33m=\u001b[0m \u001b[0mmodel\u001b[0m\u001b[1;33m.\u001b[0m\u001b[0mfit\u001b[0m\u001b[1;33m(\u001b[0m\u001b[0mX_train\u001b[0m\u001b[1;33m,\u001b[0m \u001b[0mY_train\u001b[0m\u001b[1;33m,\u001b[0m \u001b[0mbatch_size\u001b[0m\u001b[1;33m=\u001b[0m\u001b[1;36m256\u001b[0m\u001b[1;33m,\u001b[0m \u001b[0mnb_epoch\u001b[0m\u001b[1;33m=\u001b[0m\u001b[1;36m20\u001b[0m\u001b[1;33m,\u001b[0m \u001b[0mvalidation_data\u001b[0m\u001b[1;33m=\u001b[0m\u001b[1;33m(\u001b[0m\u001b[0mX_test\u001b[0m\u001b[1;33m,\u001b[0m \u001b[0mY_test\u001b[0m\u001b[1;33m)\u001b[0m\u001b[1;33m)\u001b[0m\u001b[1;33m\u001b[0m\u001b[0m\n\u001b[0m\u001b[0;32m      2\u001b[0m \u001b[0mscore\u001b[0m \u001b[1;33m=\u001b[0m \u001b[0mmodel\u001b[0m\u001b[1;33m.\u001b[0m\u001b[0mevaluate\u001b[0m\u001b[1;33m(\u001b[0m\u001b[0mX_train\u001b[0m\u001b[1;33m,\u001b[0m \u001b[0mY_train\u001b[0m\u001b[1;33m,\u001b[0m \u001b[0mbatch_size\u001b[0m\u001b[1;33m=\u001b[0m\u001b[1;36m128\u001b[0m\u001b[1;33m)\u001b[0m\u001b[1;33m\u001b[0m\u001b[0m\n",
      "\u001b[1;32m/home/jakob/anaconda/lib/python2.7/site-packages/keras/models.pyc\u001b[0m in \u001b[0;36mfit\u001b[1;34m(self, x, y, batch_size, nb_epoch, verbose, callbacks, validation_split, validation_data, shuffle, class_weight, sample_weight, **kwargs)\u001b[0m\n\u001b[0;32m    406\u001b[0m                               \u001b[0mshuffle\u001b[0m\u001b[1;33m=\u001b[0m\u001b[0mshuffle\u001b[0m\u001b[1;33m,\u001b[0m\u001b[1;33m\u001b[0m\u001b[0m\n\u001b[0;32m    407\u001b[0m                               \u001b[0mclass_weight\u001b[0m\u001b[1;33m=\u001b[0m\u001b[0mclass_weight\u001b[0m\u001b[1;33m,\u001b[0m\u001b[1;33m\u001b[0m\u001b[0m\n\u001b[1;32m--> 408\u001b[1;33m                               sample_weight=sample_weight)\n\u001b[0m\u001b[0;32m    409\u001b[0m \u001b[1;33m\u001b[0m\u001b[0m\n\u001b[0;32m    410\u001b[0m     def evaluate(self, x, y, batch_size=32, verbose=1,\n",
      "\u001b[1;32m/home/jakob/anaconda/lib/python2.7/site-packages/keras/engine/training.pyc\u001b[0m in \u001b[0;36mfit\u001b[1;34m(self, x, y, batch_size, nb_epoch, verbose, callbacks, validation_split, validation_data, shuffle, class_weight, sample_weight)\u001b[0m\n\u001b[0;32m   1077\u001b[0m                               \u001b[0mverbose\u001b[0m\u001b[1;33m=\u001b[0m\u001b[0mverbose\u001b[0m\u001b[1;33m,\u001b[0m \u001b[0mcallbacks\u001b[0m\u001b[1;33m=\u001b[0m\u001b[0mcallbacks\u001b[0m\u001b[1;33m,\u001b[0m\u001b[1;33m\u001b[0m\u001b[0m\n\u001b[0;32m   1078\u001b[0m                               \u001b[0mval_f\u001b[0m\u001b[1;33m=\u001b[0m\u001b[0mval_f\u001b[0m\u001b[1;33m,\u001b[0m \u001b[0mval_ins\u001b[0m\u001b[1;33m=\u001b[0m\u001b[0mval_ins\u001b[0m\u001b[1;33m,\u001b[0m \u001b[0mshuffle\u001b[0m\u001b[1;33m=\u001b[0m\u001b[0mshuffle\u001b[0m\u001b[1;33m,\u001b[0m\u001b[1;33m\u001b[0m\u001b[0m\n\u001b[1;32m-> 1079\u001b[1;33m                               callback_metrics=callback_metrics)\n\u001b[0m\u001b[0;32m   1080\u001b[0m \u001b[1;33m\u001b[0m\u001b[0m\n\u001b[0;32m   1081\u001b[0m     \u001b[1;32mdef\u001b[0m \u001b[0mevaluate\u001b[0m\u001b[1;33m(\u001b[0m\u001b[0mself\u001b[0m\u001b[1;33m,\u001b[0m \u001b[0mx\u001b[0m\u001b[1;33m,\u001b[0m \u001b[0my\u001b[0m\u001b[1;33m,\u001b[0m \u001b[0mbatch_size\u001b[0m\u001b[1;33m=\u001b[0m\u001b[1;36m32\u001b[0m\u001b[1;33m,\u001b[0m \u001b[0mverbose\u001b[0m\u001b[1;33m=\u001b[0m\u001b[1;36m1\u001b[0m\u001b[1;33m,\u001b[0m \u001b[0msample_weight\u001b[0m\u001b[1;33m=\u001b[0m\u001b[0mNone\u001b[0m\u001b[1;33m)\u001b[0m\u001b[1;33m:\u001b[0m\u001b[1;33m\u001b[0m\u001b[0m\n",
      "\u001b[1;32m/home/jakob/anaconda/lib/python2.7/site-packages/keras/engine/training.pyc\u001b[0m in \u001b[0;36m_fit_loop\u001b[1;34m(self, f, ins, out_labels, batch_size, nb_epoch, verbose, callbacks, val_f, val_ins, shuffle, callback_metrics)\u001b[0m\n\u001b[0;32m    796\u001b[0m                 \u001b[0mbatch_logs\u001b[0m\u001b[1;33m[\u001b[0m\u001b[1;34m'size'\u001b[0m\u001b[1;33m]\u001b[0m \u001b[1;33m=\u001b[0m \u001b[0mlen\u001b[0m\u001b[1;33m(\u001b[0m\u001b[0mbatch_ids\u001b[0m\u001b[1;33m)\u001b[0m\u001b[1;33m\u001b[0m\u001b[0m\n\u001b[0;32m    797\u001b[0m                 \u001b[0mcallbacks\u001b[0m\u001b[1;33m.\u001b[0m\u001b[0mon_batch_begin\u001b[0m\u001b[1;33m(\u001b[0m\u001b[0mbatch_index\u001b[0m\u001b[1;33m,\u001b[0m \u001b[0mbatch_logs\u001b[0m\u001b[1;33m)\u001b[0m\u001b[1;33m\u001b[0m\u001b[0m\n\u001b[1;32m--> 798\u001b[1;33m                 \u001b[0mouts\u001b[0m \u001b[1;33m=\u001b[0m \u001b[0mf\u001b[0m\u001b[1;33m(\u001b[0m\u001b[0mins_batch\u001b[0m\u001b[1;33m)\u001b[0m\u001b[1;33m\u001b[0m\u001b[0m\n\u001b[0m\u001b[0;32m    799\u001b[0m                 \u001b[1;32mif\u001b[0m \u001b[0mtype\u001b[0m\u001b[1;33m(\u001b[0m\u001b[0mouts\u001b[0m\u001b[1;33m)\u001b[0m \u001b[1;33m!=\u001b[0m \u001b[0mlist\u001b[0m\u001b[1;33m:\u001b[0m\u001b[1;33m\u001b[0m\u001b[0m\n\u001b[0;32m    800\u001b[0m                     \u001b[0mouts\u001b[0m \u001b[1;33m=\u001b[0m \u001b[1;33m[\u001b[0m\u001b[0mouts\u001b[0m\u001b[1;33m]\u001b[0m\u001b[1;33m\u001b[0m\u001b[0m\n",
      "\u001b[1;32m/home/jakob/anaconda/lib/python2.7/site-packages/keras/backend/theano_backend.pyc\u001b[0m in \u001b[0;36m__call__\u001b[1;34m(self, inputs)\u001b[0m\n\u001b[0;32m    523\u001b[0m     \u001b[1;32mdef\u001b[0m \u001b[0m__call__\u001b[0m\u001b[1;33m(\u001b[0m\u001b[0mself\u001b[0m\u001b[1;33m,\u001b[0m \u001b[0minputs\u001b[0m\u001b[1;33m)\u001b[0m\u001b[1;33m:\u001b[0m\u001b[1;33m\u001b[0m\u001b[0m\n\u001b[0;32m    524\u001b[0m         \u001b[1;32massert\u001b[0m \u001b[0mtype\u001b[0m\u001b[1;33m(\u001b[0m\u001b[0minputs\u001b[0m\u001b[1;33m)\u001b[0m \u001b[1;32min\u001b[0m \u001b[1;33m{\u001b[0m\u001b[0mlist\u001b[0m\u001b[1;33m,\u001b[0m \u001b[0mtuple\u001b[0m\u001b[1;33m}\u001b[0m\u001b[1;33m\u001b[0m\u001b[0m\n\u001b[1;32m--> 525\u001b[1;33m         \u001b[1;32mreturn\u001b[0m \u001b[0mself\u001b[0m\u001b[1;33m.\u001b[0m\u001b[0mfunction\u001b[0m\u001b[1;33m(\u001b[0m\u001b[1;33m*\u001b[0m\u001b[0minputs\u001b[0m\u001b[1;33m)\u001b[0m\u001b[1;33m\u001b[0m\u001b[0m\n\u001b[0m\u001b[0;32m    526\u001b[0m \u001b[1;33m\u001b[0m\u001b[0m\n\u001b[0;32m    527\u001b[0m \u001b[1;33m\u001b[0m\u001b[0m\n",
      "\u001b[1;32m/home/jakob/anaconda/lib/python2.7/site-packages/theano/compile/function_module.pyc\u001b[0m in \u001b[0;36m__call__\u001b[1;34m(self, *args, **kwargs)\u001b[0m\n\u001b[0;32m    860\u001b[0m         \u001b[1;32mtry\u001b[0m\u001b[1;33m:\u001b[0m\u001b[1;33m\u001b[0m\u001b[0m\n\u001b[0;32m    861\u001b[0m             \u001b[0moutputs\u001b[0m \u001b[1;33m=\u001b[0m\u001b[0;31m\\\u001b[0m\u001b[1;33m\u001b[0m\u001b[0m\n\u001b[1;32m--> 862\u001b[1;33m                 \u001b[0mself\u001b[0m\u001b[1;33m.\u001b[0m\u001b[0mfn\u001b[0m\u001b[1;33m(\u001b[0m\u001b[1;33m)\u001b[0m \u001b[1;32mif\u001b[0m \u001b[0moutput_subset\u001b[0m \u001b[1;32mis\u001b[0m \u001b[0mNone\u001b[0m \u001b[1;32melse\u001b[0m\u001b[0;31m\\\u001b[0m\u001b[1;33m\u001b[0m\u001b[0m\n\u001b[0m\u001b[0;32m    863\u001b[0m                 \u001b[0mself\u001b[0m\u001b[1;33m.\u001b[0m\u001b[0mfn\u001b[0m\u001b[1;33m(\u001b[0m\u001b[0moutput_subset\u001b[0m\u001b[1;33m=\u001b[0m\u001b[0moutput_subset\u001b[0m\u001b[1;33m)\u001b[0m\u001b[1;33m\u001b[0m\u001b[0m\n\u001b[0;32m    864\u001b[0m         \u001b[1;32mexcept\u001b[0m \u001b[0mException\u001b[0m\u001b[1;33m:\u001b[0m\u001b[1;33m\u001b[0m\u001b[0m\n",
      "\u001b[1;32m/home/jakob/anaconda/lib/python2.7/site-packages/theano/scan_module/scan_op.pyc\u001b[0m in \u001b[0;36mrval\u001b[1;34m(p, i, o, n, allow_gc)\u001b[0m\n\u001b[0;32m    949\u001b[0m         def rval(p=p, i=node_input_storage, o=node_output_storage, n=node,\n\u001b[0;32m    950\u001b[0m                  allow_gc=allow_gc):\n\u001b[1;32m--> 951\u001b[1;33m             \u001b[0mr\u001b[0m \u001b[1;33m=\u001b[0m \u001b[0mp\u001b[0m\u001b[1;33m(\u001b[0m\u001b[0mn\u001b[0m\u001b[1;33m,\u001b[0m \u001b[1;33m[\u001b[0m\u001b[0mx\u001b[0m\u001b[1;33m[\u001b[0m\u001b[1;36m0\u001b[0m\u001b[1;33m]\u001b[0m \u001b[1;32mfor\u001b[0m \u001b[0mx\u001b[0m \u001b[1;32min\u001b[0m \u001b[0mi\u001b[0m\u001b[1;33m]\u001b[0m\u001b[1;33m,\u001b[0m \u001b[0mo\u001b[0m\u001b[1;33m)\u001b[0m\u001b[1;33m\u001b[0m\u001b[0m\n\u001b[0m\u001b[0;32m    952\u001b[0m             \u001b[1;32mfor\u001b[0m \u001b[0mo\u001b[0m \u001b[1;32min\u001b[0m \u001b[0mnode\u001b[0m\u001b[1;33m.\u001b[0m\u001b[0moutputs\u001b[0m\u001b[1;33m:\u001b[0m\u001b[1;33m\u001b[0m\u001b[0m\n\u001b[0;32m    953\u001b[0m                 \u001b[0mcompute_map\u001b[0m\u001b[1;33m[\u001b[0m\u001b[0mo\u001b[0m\u001b[1;33m]\u001b[0m\u001b[1;33m[\u001b[0m\u001b[1;36m0\u001b[0m\u001b[1;33m]\u001b[0m \u001b[1;33m=\u001b[0m \u001b[0mTrue\u001b[0m\u001b[1;33m\u001b[0m\u001b[0m\n",
      "\u001b[1;32m/home/jakob/anaconda/lib/python2.7/site-packages/theano/scan_module/scan_op.pyc\u001b[0m in \u001b[0;36m<lambda>\u001b[1;34m(node, args, outs)\u001b[0m\n\u001b[0;32m    938\u001b[0m                         \u001b[0margs\u001b[0m\u001b[1;33m,\u001b[0m\u001b[1;33m\u001b[0m\u001b[0m\n\u001b[0;32m    939\u001b[0m                         \u001b[0mouts\u001b[0m\u001b[1;33m,\u001b[0m\u001b[1;33m\u001b[0m\u001b[0m\n\u001b[1;32m--> 940\u001b[1;33m                         self, node)\n\u001b[0m\u001b[0;32m    941\u001b[0m         \u001b[1;32mexcept\u001b[0m \u001b[1;33m(\u001b[0m\u001b[0mImportError\u001b[0m\u001b[1;33m,\u001b[0m \u001b[0mtheano\u001b[0m\u001b[1;33m.\u001b[0m\u001b[0mgof\u001b[0m\u001b[1;33m.\u001b[0m\u001b[0mcmodule\u001b[0m\u001b[1;33m.\u001b[0m\u001b[0mMissingGXX\u001b[0m\u001b[1;33m)\u001b[0m\u001b[1;33m:\u001b[0m\u001b[1;33m\u001b[0m\u001b[0m\n\u001b[0;32m    942\u001b[0m             \u001b[0mp\u001b[0m \u001b[1;33m=\u001b[0m \u001b[0mself\u001b[0m\u001b[1;33m.\u001b[0m\u001b[0mexecute\u001b[0m\u001b[1;33m\u001b[0m\u001b[0m\n",
      "\u001b[1;31mKeyboardInterrupt\u001b[0m: "
     ]
    }
   ],
   "source": [
    "history = model.fit(X_train, Y_train, batch_size=256, nb_epoch=20, validation_data=(X_test, Y_test))\n",
    "score = model.evaluate(X_train, Y_train, batch_size=128)"
   ]
  },
  {
   "cell_type": "code",
   "execution_count": 64,
   "metadata": {
    "collapsed": false
   },
   "outputs": [
    {
     "data": {
      "text/plain": [
       "[7.9472787849426272, 0.50149999999999995]"
      ]
     },
     "execution_count": 64,
     "metadata": {},
     "output_type": "execute_result"
    }
   ],
   "source": [
    "score"
   ]
  },
  {
   "cell_type": "code",
   "execution_count": 69,
   "metadata": {
    "collapsed": false
   },
   "outputs": [
    {
     "data": {
      "text/plain": [
       "[('Miklo\\xcc\\x81s Ro\\xcc\\x81zsa', array([ 1.]), 1.0),\n",
       " ('Gaetano Donizetti', array([ 1.]), 1.0),\n",
       " ('Victimae paschali laudes', array([ 1.]), 0.0),\n",
       " ('Konzerte, Vl Orch, 1958', array([ 1.]), 0.0),\n",
       " ('Duo concertant sur un motif allemand. Fg Kl', array([ 1.]), 0.0),\n",
       " ('Erich Gutzeit', array([ 1.]), 1.0),\n",
       " ('Clement Harris', array([ 1.]), 1.0),\n",
       " ('Claudio Riffero', array([ 1.]), 1.0),\n",
       " ('Quartette, Klar 1 2 3 4 op. 39', array([ 1.]), 0.0),\n",
       " ('Jacques Offenbach', array([ 1.]), 1.0),\n",
       " ('Ursula Mamlok', array([ 1.]), 1.0),\n",
       " ('Partiten, Lt', array([ 1.]), 0.0),\n",
       " ('Werke, Orch', array([ 1.]), 0.0),\n",
       " ('Serenaden, Vl 1 2 Va 1 2 Vc, op. 35', array([ 1.]), 0.0),\n",
       " ('Sonaten, Kl, Nr. 2', array([ 1.]), 0.0),\n",
       " ('Namouna', array([ 1.]), 0.0),\n",
       " ('Quartette, Vl 1 2 Va Vc, L 85', array([ 1.]), 0.0),\n",
       " ('Julius Ro\\xcc\\x88ntgen', array([ 1.]), 1.0),\n",
       " ('Giacomo Puccini', array([ 1.]), 1.0),\n",
       " ('Johann Caspar Simon', array([ 1.]), 1.0),\n",
       " ('Midnight pieces', array([ 1.]), 0.0),\n",
       " ('Lars Edlund', array([ 1.]), 1.0),\n",
       " ('Helmut Rogl', array([ 1.]), 1.0),\n",
       " ('Werke, Singst Git', array([ 1.]), 0.0),\n",
       " ('Heiner Goebbels', array([ 1.]), 1.0),\n",
       " ('Konzerte, Kl Orch, 2012', array([ 1.]), 0.0),\n",
       " ('William Grant Still', array([ 1.]), 1.0),\n",
       " ('Dohan', array([ 1.]), 0.0),\n",
       " ('Puzzle', array([ 1.]), 0.0),\n",
       " ('Music for Romeo and Juliet', array([ 1.]), 0.0),\n",
       " ('Oliver Korte', array([ 1.]), 1.0),\n",
       " ('Vagn Holmboe', array([ 1.]), 1.0),\n",
       " ('Hector Berlioz', array([ 1.]), 1.0),\n",
       " ('Ernst Friedrich Eduard Richter', array([ 1.]), 1.0),\n",
       " ('Suite / CNW 88', array([ 1.]), 0.0),\n",
       " ('Zeqirja Ballata', array([ 1.]), 1.0),\n",
       " ('Ture Rangstro\\xcc\\x88m', array([ 1.]), 1.0),\n",
       " ('Trios, Sax 1 2 3 (1996)', array([ 1.]), 0.0),\n",
       " ('Gabriel Faure\\xcc\\x81', array([ 1.]), 1.0),\n",
       " ('Sonaten, Vl 1 2 Ba\\xc3\\x9f-Instr. Bc, Z 804', array([ 1.]), 0.0),\n",
       " ('O Quell, was stro\\xcc\\x88mst du rasch und wild', array([ 1.]), 0.0),\n",
       " ('Psalmen Davids SWV 97 - 256', array([ 1.]), 0.0),\n",
       " ('Jan Nova\\xcc\\x81k', array([ 1.]), 1.0),\n",
       " ('Nicolae Bretan', array([ 1.]), 1.0),\n",
       " ('Lieder op. 35', array([ 1.]), 0.0),\n",
       " ('The clod and the pebble', array([ 1.]), 0.0),\n",
       " ('Studien, op. 48', array([ 1.]), 0.0),\n",
       " ('Gerald Barry', array([ 1.]), 1.0),\n",
       " ('Herbert Baumann', array([ 1.]), 1.0),\n",
       " ('Javier Zalba', array([ 1.]), 1.0),\n",
       " ('Max Reger', array([ 1.]), 1.0),\n",
       " ('Younghi Pagh-Paan', array([ 1.]), 1.0),\n",
       " ('Stories from dreamtime', array([ 1.]), 0.0),\n",
       " ('Nicolae Bretan', array([ 1.]), 1.0),\n",
       " ('Passionssonate u\\xcc\\x88ber \"Herzliebster Jesu, was hast du verbrochen\"',\n",
       "  array([ 1.]),\n",
       "  0.0),\n",
       " ('Gesellschafts-Galopp', array([ 1.]), 0.0),\n",
       " ('Scardanelli-Zyklus. 1991', array([ 1.]), 0.0),\n",
       " ('John Allison Campbell', array([ 1.]), 1.0),\n",
       " ('Darius Milhaud', array([ 1.]), 1.0),\n",
       " ('Gammelnorsk romanse med variasjoner', array([ 1.]), 0.0),\n",
       " ('Stu\\xcc\\x88cke, Org', array([ 1.]), 0.0),\n",
       " ('Steffen Schleiermacher', array([ 1.]), 1.0),\n",
       " ('Torsten Laux', array([ 1.]), 1.0),\n",
       " ('Konzerte, Org Orch, G-Dur 2', array([ 1.]), 0.0),\n",
       " ('Divertimenti H 4, 11', array([ 1.]), 0.0),\n",
       " ('Konzerte, Vc Orch, 2001', array([ 1.]), 0.0),\n",
       " ('Musique de table, production 1 / Ouvertu\\xcc\\x88re', array([ 1.]), 0.0),\n",
       " ('Emil Frantis\\xcc\\x8cek Burian', array([ 1.]), 1.0),\n",
       " ('Giovanni Battista Sammartini', array([ 1.]), 1.0),\n",
       " ('Psalmodia vespertina ... / Te lucis ante terminum', array([ 1.]), 0.0),\n",
       " ('Dominus regit me', array([ 1.]), 0.0),\n",
       " ('Pro fortibus musicis', array([ 1.]), 0.0),\n",
       " (\"Hiline ja\\xcc\\x88relhu\\xcc\\x88u\\xcc\\x88e hertsog de Croy'le\",\n",
       "  array([ 1.]),\n",
       "  0.0),\n",
       " ('Wolfgang-Heinrich Ebert', array([ 1.]), 1.0),\n",
       " ('Juan Cabanilles', array([ 1.]), 1.0),\n",
       " ('Adolf Diederich', array([ 1.]), 1.0),\n",
       " ('O mamma, mamma cara', array([ 1.]), 0.0),\n",
       " ('Rocky <Musical>', array([ 1.]), 0.0),\n",
       " ('Herr Gott Zebaoth', array([ 1.]), 0.0),\n",
       " ('Percy Grainger', array([ 1.]), 1.0),\n",
       " ('Dialog/No dialog', array([ 1.]), 0.0),\n",
       " ('Franz Schreker', array([ 1.]), 1.0),\n",
       " ('Jad/Nigunim', array([ 1.]), 0.0),\n",
       " ('Bach-Metamorphosen', array([ 1.]), 0.0),\n",
       " ('Paul Kletzki', array([ 1.]), 1.0),\n",
       " ('Witold Lutos\\xc5\\x82awski', array([ 1.]), 1.0),\n",
       " ('Klaus Hinrich Stahmer', array([ 1.]), 1.0),\n",
       " ('Be\\xcc\\x81la Kova\\xcc\\x81cs', array([ 1.]), 1.0),\n",
       " ('Motetten op. 41 / Christe, du Lamm Gottes', array([ 1.]), 0.0),\n",
       " ('Alessandro Scarlatti', array([ 1.]), 1.0),\n",
       " ('Symphonische Fantasie aus \"Die Frau ohne Schatten\"', array([ 1.]), 0.0),\n",
       " ('Passionsmusik', array([ 1.]), 0.0),\n",
       " ('Se\\xcc\\x81bastien Paci', array([ 1.]), 1.0),\n",
       " ('Niccolo\\xcc\\x80 Isouard', array([ 1.]), 1.0),\n",
       " ('Kantaten, TWV 1,1573', array([ 1.]), 0.0),\n",
       " ('Anton Bruckner', array([ 1.]), 1.0),\n",
       " ('Lionel Rogg', array([ 1.]), 1.0),\n",
       " ('Stephen Montague', array([ 1.]), 1.0),\n",
       " ('Canzone, sinfonie, fantasie, capricci, brandi, correnti, gagliarde, alemane, volte, libro 1 / La suave melodia',\n",
       "  array([ 1.]),\n",
       "  0.0),\n",
       " ('Stephen Dodgson', array([ 1.]), 1.0)]"
      ]
     },
     "execution_count": 69,
     "metadata": {},
     "output_type": "execute_result"
    }
   ],
   "source": [
    "zip(X_text_test, model.predict(X_test), Y_test)"
   ]
  },
  {
   "cell_type": "code",
   "execution_count": 42,
   "metadata": {
    "collapsed": false
   },
   "outputs": [],
   "source": [
    "%matplotlib inline\n",
    "import matplotlib.pyplot as plt\n"
   ]
  },
  {
   "cell_type": "code",
   "execution_count": 45,
   "metadata": {
    "collapsed": false
   },
   "outputs": [
    {
     "name": "stdout",
     "output_type": "stream",
     "text": [
      "Serenaden, Vc Kl, 1893\n"
     ]
    },
    {
     "data": {
      "text/plain": [
       "<matplotlib.image.AxesImage at 0x7f1c3ef32350>"
      ]
     },
     "execution_count": 45,
     "metadata": {},
     "output_type": "execute_result"
    },
    {
     "data": {
      "image/png": "[encoded data removed]",
      "text/plain": [
       "<matplotlib.figure.Figure at 0x7f1c3f068c50>"
      ]
     },
     "metadata": {},
     "output_type": "display_data"
    }
   ],
   "source": [
    "print X_text_train[10]\n",
    "plt.imshow(X_train[10])"
   ]
  },
  {
   "cell_type": "code",
   "execution_count": 44,
   "metadata": {
    "collapsed": false
   },
   "outputs": [
    {
     "data": {
      "text/plain": [
       "'Hans Chemin-Petit'"
      ]
     },
     "execution_count": 44,
     "metadata": {},
     "output_type": "execute_result"
    }
   ],
   "source": []
  },
  {
   "cell_type": "code",
   "execution_count": null,
   "metadata": {
    "collapsed": true
   },
   "outputs": [],
   "source": []
  }
 ],
 "metadata": {
  "kernelspec": {
   "display_name": "Python 2",
   "language": "python",
   "name": "python2"
  },
  "language_info": {
   "codemirror_mode": {
    "name": "ipython",
    "version": 2
   },
   "file_extension": ".py",
   "mimetype": "text/x-python",
   "name": "python",
   "nbconvert_exporter": "python",
   "pygments_lexer": "ipython2",
   "version": "2.7.11"
  }
 },
 "nbformat": 4,
 "nbformat_minor": 0
}
